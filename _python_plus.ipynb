{
 "cells": [
  {
   "cell_type": "code",
   "execution_count": null,
   "metadata": {},
   "outputs": [],
   "source": [
    "def first_func(argument_1, argument_2):\n",
    "    print(argument_1**2 + argument_2**2)"
   ]
  },
  {
   "cell_type": "code",
   "execution_count": null,
   "metadata": {},
   "outputs": [],
   "source": [
    "def multiply(a, b):\n",
    "    print(a * b)\n",
    "\n",
    "multiply(2, 3)\n",
    "multiply(-1, 1.25)\n",
    "multiply(\"/second/\", 3)"
   ]
  },
  {
   "cell_type": "code",
   "execution_count": null,
   "metadata": {},
   "outputs": [],
   "source": [
    "def motto() :\n",
    "    print(\"Don't hesitate to reinvent yourself!\")\n",
    "\n",
    "motto()  # it takes no argument"
   ]
  },
  {
   "cell_type": "code",
   "execution_count": null,
   "metadata": {},
   "outputs": [],
   "source": [
    "def multiply_1(a, b) :\n",
    "    print(a * b)  # it prints something\n",
    "\n",
    "def multiply_2(a, b) :\n",
    "    return a * b  # returns any numeric data type value\n",
    "\n",
    "print(multiply_1(10, 5), type(multiply_1(10, 5)))\n",
    "print(multiply_2(10, 5), type (multiply_2(10, 5)))"
   ]
  },
  {
   "cell_type": "code",
   "execution_count": null,
   "metadata": {},
   "outputs": [],
   "source": [
    "print(type(multiply_1(10, 2)))\n",
    "print(type(multiply_2(10, 5)))"
   ]
  },
  {
   "cell_type": "code",
   "execution_count": null,
   "metadata": {},
   "outputs": [],
   "source": [
    "print(type(int((str(multiply_1(10, 2))))))"
   ]
  },
  {
   "cell_type": "code",
   "execution_count": null,
   "metadata": {},
   "outputs": [],
   "source": [
    "from datetime import datetime "
   ]
  },
  {
   "cell_type": "code",
   "execution_count": null,
   "metadata": {},
   "outputs": [],
   "source": [
    "datetime.now()"
   ]
  },
  {
   "cell_type": "code",
   "execution_count": null,
   "metadata": {},
   "outputs": [],
   "source": [
    "frozenset(\"stringging\")"
   ]
  },
  {
   "cell_type": "code",
   "execution_count": null,
   "metadata": {},
   "outputs": [],
   "source": [
    "def who(first, last) :  # 'first' and 'last' are the parameters(or variables)\n",
    "    print('Your first name is :', first)\n",
    "    print('Your last name is :', last)\n",
    "\n",
    "who('Guido', 'van Rossum')  # 'Guido' and 'van Rossum' are the arguments\n",
    "print()\n",
    "who('Marry', 'Bold')  # 'Marry' and 'Bold' are also the arguments"
   ]
  },
  {
   "cell_type": "code",
   "execution_count": null,
   "metadata": {},
   "outputs": [],
   "source": [
    "def parrot(voltage, state='a stiff', action='voom', type='Norwegian Blue'):\n",
    "    print(\"-- This parrot wouldn't\", action, end=' ')\n",
    "    print(\"if you put\", voltage, \"volts through it.\")\n",
    "    print(\"-- Lovely plumage, the\", type)\n",
    "    print(\"-- It's\", state, \"!\")\n"
   ]
  },
  {
   "cell_type": "code",
   "execution_count": null,
   "metadata": {},
   "outputs": [],
   "source": [
    "parrot(1000)                                          # 1 positional argument\n",
    "parrot(voltage=1000)                                  # 1 keyword argument\n",
    "parrot(voltage=1000000, action='VOOOOOM')             # 2 keyword arguments\n",
    "parrot(action='VOOOOOM', voltage=1000000)             # 2 keyword arguments \n",
    "parrot('a million', 'bereft of life', 'jump')         # 3 positional arguments\n",
    "parrot('a thousand', state='pushing up the daisies')  # 1 positional, 1 keyword\n"
   ]
  },
  {
   "cell_type": "code",
   "execution_count": null,
   "metadata": {},
   "outputs": [],
   "source": [
    "parrot()                     # required argument missing\n",
    "parrot(voltage=5.0, 'dead')  # non-keyword argument after a keyword argument\n",
    "parrot(110, voltage=220)     # duplicate value for the same argument\n",
    "parrot(actor='John Cleese')  # unknown keyword argument\n"
   ]
  },
  {
   "cell_type": "code",
   "execution_count": null,
   "metadata": {},
   "outputs": [],
   "source": [
    "def function(a):\n",
    "    pass  # actually, 'pass' does nothing. it just moves to the next line of code\n",
    "\n",
    "function(0, a=0)"
   ]
  },
  {
   "cell_type": "code",
   "execution_count": null,
   "metadata": {},
   "outputs": [],
   "source": [
    "def city(capital, continent='Europe'):\n",
    "    print(capital, 'in', continent)\n",
    "\n",
    "city('Athens')  # we don't have to pass any arguments into 'continent'\n",
    "city('Ulaanbaatar', continent='Asia')  # we can change the default value by kwargs\n",
    "city('Cape Town', 'Africa')  # we can change the default value by positional args."
   ]
  },
  {
   "cell_type": "code",
   "execution_count": null,
   "metadata": {},
   "outputs": [],
   "source": [
    "def fruiterer(fruit1, fruit2) :\n",
    "    print('I want to get', fruit1, 'and', fruit2)\n",
    "        \n",
    "fruiterer('orange', 'banana')\n"
   ]
  },
  {
   "cell_type": "code",
   "execution_count": null,
   "metadata": {},
   "outputs": [],
   "source": [
    "def fruiterer(*fruit) :\n",
    "    print('I want to get :')\n",
    "    for i in fruit :\n",
    "        print('-', i)\n",
    "        \n",
    "fruiterer('orange', 'banana', 'melon', 'ananas')\n"
   ]
  },
  {
   "cell_type": "code",
   "execution_count": null,
   "metadata": {},
   "outputs": [],
   "source": [
    "def animals(**kwargs):\n",
    "    for key, value in kwargs.items():\n",
    "        print(value, \"are\", key)\n",
    " \n",
    "animals(Carnivores=\"Lions\", Omnivores=\"Bears\", Herbivores=\"Deers\", Nomnivores=\"Human\")\n"
   ]
  },
  {
   "cell_type": "code",
   "execution_count": null,
   "metadata": {},
   "outputs": [],
   "source": [
    "def brothers(bro1, bro2, bro3):\n",
    "    print('Here are the names of brothers :')\n",
    "    print(bro1, bro2, bro3, sep='\\n')\n",
    "\n",
    "family = ['tom', 'sue', 'tim']\n",
    "brothers(*family)\n"
   ]
  },
  {
   "cell_type": "code",
   "execution_count": null,
   "metadata": {},
   "outputs": [],
   "source": [
    "def gene(x, y):  # defined by positional args\n",
    "    print(x, \"belongs to Generation X\")\n",
    "    print(y, \"belongs to Generation Y\")\n",
    " \n",
    "dict_gene = {'y' : \"Marry\", 'x' : \"Fred\"}\n",
    "gene(**dict_gene)  # we call the function by a single argument(variable)\n"
   ]
  },
  {
   "cell_type": "code",
   "execution_count": null,
   "metadata": {},
   "outputs": [],
   "source": [
    "def gene(x='Solomon', y='David'):  # defined by kwargs (default values assigned to x and y)\n",
    "    print(x, \"belongs to Generation X\")\n",
    "    print(y, \"belongs to Generation Y\")\n",
    " \n",
    "dict_gene = {'y' : \"Marry\", 'x' : \"Fred\"}\n",
    "gene(**dict_gene) \n"
   ]
  },
  {
   "cell_type": "code",
   "execution_count": null,
   "metadata": {},
   "outputs": [],
   "source": [
    "def func (a, b):  # a, b are parameters\n",
    "    print(a + b)\n",
    "# passing arguments into a function   \n",
    "func(2, 3)  # 2, 3 are arguments\n"
   ]
  },
  {
   "cell_type": "code",
   "execution_count": null,
   "metadata": {},
   "outputs": [],
   "source": [
    "def multiply (a, b):\n",
    "    print(a * b)\n",
    "\n",
    "multiply('amazing ', 3)\n"
   ]
  },
  {
   "cell_type": "code",
   "execution_count": null,
   "metadata": {},
   "outputs": [],
   "source": [
    "def motto():\n",
    "    print(\"\"\"Geçti istemem gelmeni,\n",
    "            Yokluğunda buldum seni;\n",
    "            Bırak  vehmimde gölgeni\n",
    "            Gelme, artık neye yarar?\"\"\")\n",
    "    \n",
    "motto()\n"
   ]
  },
  {
   "cell_type": "code",
   "execution_count": null,
   "metadata": {},
   "outputs": [],
   "source": [
    "def add(a, b):\n",
    "    print(a + b)\n",
    "    "
   ]
  },
  {
   "cell_type": "code",
   "execution_count": null,
   "metadata": {},
   "outputs": [],
   "source": [
    "def add(a, b):\n",
    "    return a + b\n"
   ]
  },
  {
   "cell_type": "code",
   "execution_count": 1,
   "metadata": {
    "collapsed": true,
    "jupyter": {
     "outputs_hidden": true
    }
   },
   "outputs": [
    {
     "name": "stdin",
     "output_type": "stream",
     "text": [
      "enter number one 3\n",
      "enter number two 5\n",
      "enter operation type s\n"
     ]
    },
    {
     "name": "stdout",
     "output_type": "stream",
     "text": [
      "Enter valid argument\n"
     ]
    },
    {
     "name": "stdin",
     "output_type": "stream",
     "text": [
      "enter operation type s\n"
     ]
    },
    {
     "name": "stdout",
     "output_type": "stream",
     "text": [
      "Enter valid argument\n"
     ]
    },
    {
     "name": "stdin",
     "output_type": "stream",
     "text": [
      "enter operation type s\n"
     ]
    },
    {
     "name": "stdout",
     "output_type": "stream",
     "text": [
      "Enter valid argument\n"
     ]
    },
    {
     "name": "stdin",
     "output_type": "stream",
     "text": [
      "enter operation type s\n"
     ]
    },
    {
     "name": "stdout",
     "output_type": "stream",
     "text": [
      "Enter valid argument\n"
     ]
    },
    {
     "name": "stdin",
     "output_type": "stream",
     "text": [
      "enter operation type +\n"
     ]
    },
    {
     "name": "stdout",
     "output_type": "stream",
     "text": [
      "8\n"
     ]
    }
   ],
   "source": [
    "d1 = int(input(\"enter number one\"))\n",
    "d2 = int(input(\"enter number two\"))\n",
    "operation = input(\"enter operation type\")\n",
    "while True:\n",
    "    if operation == \"+\":\n",
    "        print(d1 + d2)\n",
    "        break\n",
    "    \n",
    "    elif operation == \"-\":\n",
    "        print(d1 - d2)\n",
    "        break\n",
    "    else:\n",
    "        print(\"Enter valid argument\")\n",
    "        operation = input(\"enter operation type\")\n",
    "        "
   ]
  },
  {
   "cell_type": "code",
   "execution_count": 3,
   "metadata": {},
   "outputs": [],
   "source": [
    "def calculator (d1, d2, c):\n",
    "    if c == \"+\":\n",
    "        print(d1 + d2)\n",
    "    elif c == \"-\":\n",
    "        print(d1 - d2)\n",
    "    elif c == \"/\":\n",
    "        print(d1 / d2)\n",
    "    elif c == \"*\":\n",
    "        print(d1 * d2)\n",
    "    else:\n",
    "        print(\"Enter valid argument\")\n"
   ]
  },
  {
   "cell_type": "code",
   "execution_count": 4,
   "metadata": {},
   "outputs": [
    {
     "name": "stdout",
     "output_type": "stream",
     "text": [
      "-5\n",
      "0.375\n"
     ]
    }
   ],
   "source": [
    "calculator(3, 8, \"-\")\n",
    "calculator(3, 8, \"/\")\n"
   ]
  },
  {
   "cell_type": "code",
   "execution_count": 7,
   "metadata": {},
   "outputs": [
    {
     "data": {
      "text/plain": [
       "8"
      ]
     },
     "execution_count": 7,
     "metadata": {},
     "output_type": "execute_result"
    }
   ],
   "source": [
    "def mul (a, b):\n",
    "    return a + b\n",
    "\n",
    "mul(3, 5)\n"
   ]
  },
  {
   "cell_type": "code",
   "execution_count": 11,
   "metadata": {},
   "outputs": [
    {
     "name": "stdout",
     "output_type": "stream",
     "text": [
      "3\n",
      "<class 'NoneType'>\n"
     ]
    }
   ],
   "source": [
    "print(type(print(\"3\")))"
   ]
  },
  {
   "cell_type": "code",
   "execution_count": 12,
   "metadata": {},
   "outputs": [],
   "source": [
    "def calculator (d1, d2, c):\n",
    "    if c == \"+\":\n",
    "        return d1 + d2\n",
    "    elif c == \"-\":\n",
    "        return d1 - d2\n",
    "    elif c == \"/\":\n",
    "        return d1 / d2\n",
    "    elif c == \"*\":\n",
    "        return d1 * d2\n",
    "    else:\n",
    "        print(\"Enter valid argument\")\n"
   ]
  },
  {
   "cell_type": "code",
   "execution_count": 6,
   "metadata": {},
   "outputs": [],
   "source": [
    "def filterVowels (letter):\n",
    "    vowels = [\"a\", \"e\", \"i\", \"o\", \"u\"]\n",
    "    \n",
    "    if letter.lower in vowels:\n",
    "        return True\n",
    "    else:\n",
    "        return False\n"
   ]
  },
  {
   "cell_type": "code",
   "execution_count": 7,
   "metadata": {},
   "outputs": [
    {
     "data": {
      "text/plain": [
       "False"
      ]
     },
     "execution_count": 7,
     "metadata": {},
     "output_type": "execute_result"
    }
   ],
   "source": [
    "filterVowels('b')"
   ]
  },
  {
   "cell_type": "code",
   "execution_count": null,
   "metadata": {},
   "outputs": [],
   "source": [
    "filtered_vowels = filter(filterVowels, sentence)\n"
   ]
  },
  {
   "cell_type": "code",
   "execution_count": 29,
   "metadata": {},
   "outputs": [],
   "source": [
    "def absolute_value(x): # it is abs() function. \n",
    "    \"\"\"\n",
    "This function returns the absolute value argument.\n",
    "    \"\"\"\n",
    "    if x >= 0:\n",
    "        return x\n",
    "    else:\n",
    "        return -x  \n",
    "        "
   ]
  },
  {
   "cell_type": "code",
   "execution_count": 26,
   "metadata": {},
   "outputs": [
    {
     "data": {
      "text/plain": [
       "4"
      ]
     },
     "execution_count": 26,
     "metadata": {},
     "output_type": "execute_result"
    }
   ],
   "source": [
    "absolute_value(-4)"
   ]
  },
  {
   "cell_type": "code",
   "execution_count": 30,
   "metadata": {},
   "outputs": [
    {
     "name": "stdout",
     "output_type": "stream",
     "text": [
      "\n",
      "This function returns the absolute value argument.\n",
      "    \n"
     ]
    }
   ],
   "source": [
    "print(absolute_value.__doc__)"
   ]
  },
  {
   "cell_type": "code",
   "execution_count": 28,
   "metadata": {},
   "outputs": [
    {
     "name": "stdout",
     "output_type": "stream",
     "text": [
      "Return the absolute value of the argument.\n"
     ]
    }
   ],
   "source": [
    "print(abs.__doc__)"
   ]
  },
  {
   "cell_type": "code",
   "execution_count": 33,
   "metadata": {},
   "outputs": [
    {
     "name": "stdout",
     "output_type": "stream",
     "text": [
      "4 first\n",
      "3 second\n",
      "None\n",
      "\n",
      "3 first\n",
      "4 second\n",
      "None\n"
     ]
    }
   ],
   "source": [
    "def pos_args(a, b):\n",
    "    print(a, \"first\")\n",
    "    print(b, \"second\")\n",
    "\n",
    "print(pos_args(4,3))\n",
    "print()\n",
    "print(pos_args(3,4))\n"
   ]
  },
  {
   "cell_type": "code",
   "execution_count": 38,
   "metadata": {},
   "outputs": [
    {
     "name": "stdout",
     "output_type": "stream",
     "text": [
      "i love you\n"
     ]
    }
   ],
   "source": [
    "a = \"i\"\n",
    "b = \"love\"\n",
    "c = \"you\"\n",
    "\n",
    "def texter(x, y, z):\n",
    "    print(f'{y} {z} {x}')\n",
    "          \n",
    "texter(c, a, b)\n",
    "    "
   ]
  },
  {
   "cell_type": "code",
   "execution_count": 39,
   "metadata": {},
   "outputs": [
    {
     "name": "stdout",
     "output_type": "stream",
     "text": [
      "i love you\n"
     ]
    }
   ],
   "source": [
    "def texter(x, y, z):\n",
    "    print(f'{y} {z} {x}')\n",
    "          \n",
    "texter(x = \"you\", y = \"i\", z = \"love\" )\n"
   ]
  },
  {
   "cell_type": "code",
   "execution_count": 42,
   "metadata": {},
   "outputs": [
    {
     "name": "stdout",
     "output_type": "stream",
     "text": [
      "Joseph is 33 years old\n"
     ]
    }
   ],
   "source": [
    "def default(a = \"Joseph\", b = 33):\n",
    "    print(a, \"is\", b, \"years old\")\n",
    "default()\n"
   ]
  },
  {
   "cell_type": "code",
   "execution_count": 44,
   "metadata": {},
   "outputs": [
    {
     "name": "stdout",
     "output_type": "stream",
     "text": [
      "Johnson is 33 years old\n"
     ]
    }
   ],
   "source": [
    "default(\"Johnson\")"
   ]
  },
  {
   "cell_type": "code",
   "execution_count": 45,
   "metadata": {},
   "outputs": [
    {
     "name": "stdout",
     "output_type": "stream",
     "text": [
      "Joseph is 55 years old\n"
     ]
    }
   ],
   "source": [
    "default(b = 55)"
   ]
  },
  {
   "cell_type": "code",
   "execution_count": 50,
   "metadata": {},
   "outputs": [],
   "source": [
    "def parrot(voltage, state='a stiff', action='voom', typed='Norwegian Blue'):\n",
    "    print(\"-- This parrot wouldn't\", action, end=' ')\n",
    "    print(\"if you put\", voltage, \"volts through it.\")\n",
    "    print(\"-- Lovely plumage, the\", typed)\n",
    "    print(\"-- It's\", state, \"!\")\n",
    "    "
   ]
  },
  {
   "cell_type": "code",
   "execution_count": 51,
   "metadata": {},
   "outputs": [
    {
     "name": "stdout",
     "output_type": "stream",
     "text": [
      "-- This parrot wouldn't voom if you put 1000 volts through it.\n",
      "-- Lovely plumage, the Norwegian Blue\n",
      "-- It's a stiff !\n"
     ]
    }
   ],
   "source": [
    "parrot(1000)"
   ]
  },
  {
   "cell_type": "code",
   "execution_count": 52,
   "metadata": {},
   "outputs": [
    {
     "name": "stdout",
     "output_type": "stream",
     "text": [
      "-- This parrot wouldn't VOOOOM if you put 1000 volts through it.\n",
      "-- Lovely plumage, the Norwegian Blue\n",
      "-- It's a stiff !\n"
     ]
    }
   ],
   "source": [
    "parrot(1000, action = \"VOOOOM\")"
   ]
  },
  {
   "cell_type": "code",
   "execution_count": 53,
   "metadata": {},
   "outputs": [
    {
     "name": "stdout",
     "output_type": "stream",
     "text": [
      "-- This parrot wouldn't jump if you put a million volts through it.\n",
      "-- Lovely plumage, the Norwegian Blue\n",
      "-- It's benefit of life !\n"
     ]
    }
   ],
   "source": [
    "parrot('a million', 'benefit of life', 'jump')"
   ]
  },
  {
   "cell_type": "code",
   "execution_count": 55,
   "metadata": {
    "collapsed": true,
    "jupyter": {
     "outputs_hidden": true
    }
   },
   "outputs": [
    {
     "ename": "SyntaxError",
     "evalue": "non-default argument follows default argument (<ipython-input-55-1ec2b14999a1>, line 3)",
     "output_type": "error",
     "traceback": [
      "\u001b[1;36m  File \u001b[1;32m\"<ipython-input-55-1ec2b14999a1>\"\u001b[1;36m, line \u001b[1;32m3\u001b[0m\n\u001b[1;33m    def parrot(state='a stiff',voltage , action='voom', typed='Norwegian Blue'):\u001b[0m\n\u001b[1;37m              ^\u001b[0m\n\u001b[1;31mSyntaxError\u001b[0m\u001b[1;31m:\u001b[0m non-default argument follows default argument\n"
     ]
    }
   ],
   "source": [
    "# non-default argument follows default argument\n",
    "\n",
    "def parrot(state='a stiff',voltage , action='voom', typed='Norwegian Blue'):\n",
    "    print(\"-- This parrot wouldn't\", action, end=' ')"
   ]
  },
  {
   "cell_type": "code",
   "execution_count": 57,
   "metadata": {},
   "outputs": [
    {
     "name": "stdout",
     "output_type": "stream",
     "text": [
      "Athens in Europe\n",
      "Ulaanbaatar in Asia\n",
      "Cape Town in Africa\n"
     ]
    }
   ],
   "source": [
    "def city(capital, continent='Europe'):\n",
    "    print(capital, 'in', continent)\n",
    "city('Athens') # we don't have to pass any arguments into 'continent'\n",
    "city('Ulaanbaatar', continent='Asia') # we can change the default value by kwargs\n",
    "city('Cape Town', 'Africa') # we can change the default value by positional args.\n"
   ]
  },
  {
   "cell_type": "code",
   "execution_count": 59,
   "metadata": {},
   "outputs": [
    {
     "name": "stdout",
     "output_type": "stream",
     "text": [
      "I want to get:\n",
      "- ['orange', 'apple', 'melon', 'ananas']\n"
     ]
    }
   ],
   "source": [
    "def fruiter(*fruit):\n",
    "    print('I want to get:')\n",
    "    for i in fruit:\n",
    "        print(\"-\", i)\n",
    "fruiter(['orange', 'apple', 'melon', 'ananas'])\n"
   ]
  },
  {
   "cell_type": "code",
   "execution_count": 63,
   "metadata": {},
   "outputs": [],
   "source": [
    "even_list=[]\n",
    "odd_list=[]\n",
    "def slicer(*number):\n",
    "    for i in number:\n",
    "        if i % 2 == 0:\n",
    "            even_list.append(i)\n",
    "        else:\n",
    "            odd_list.append(i)\n",
    "    print(even_list)\n",
    "    print(odd_list)\n"
   ]
  },
  {
   "cell_type": "code",
   "execution_count": 69,
   "metadata": {},
   "outputs": [
    {
     "name": "stdout",
     "output_type": "stream",
     "text": [
      "[2, 0, 2, 4, 6, 8]\n",
      "[1, 3, 1, 3, 5, 7]\n"
     ]
    }
   ],
   "source": [
    "slicer((*range(9)))\n"
   ]
  },
  {
   "cell_type": "code",
   "execution_count": null,
   "metadata": {},
   "outputs": [],
   "source": [
    "even_list=[]\n",
    "odd_list=[]\n",
    "def slicer(*number):\n",
    "    for i in number:\n",
    "        if i % 2 == 0:\n",
    "            even_list.append(i)\n",
    "        else:\n",
    "            odd_list.append(i)\n",
    "    print(even_list)\n",
    "    print(odd_list)"
   ]
  },
  {
   "cell_type": "code",
   "execution_count": 74,
   "metadata": {},
   "outputs": [
    {
     "name": "stdout",
     "output_type": "stream",
     "text": [
      "evens: [0, 2, 4, 6, 8]\n",
      "odd: [1, 3, 5, 7]\n"
     ]
    }
   ],
   "source": [
    "even_list=[]\n",
    "odd_list=[]\n",
    "def slicer(*number):\n",
    "    print(\"evens:\", [i for i in number if i %2 ==0])\n",
    "    print(\"odd:\", [i for i in number if i %2 !=0])\n",
    "\n",
    "slicer(*range(9))\n"
   ]
  },
  {
   "cell_type": "code",
   "execution_count": 75,
   "metadata": {
    "collapsed": true,
    "jupyter": {
     "outputs_hidden": true
    }
   },
   "outputs": [
    {
     "name": "stdout",
     "output_type": "stream",
     "text": [
      "dict() -> new empty dictionary\n",
      "dict(mapping) -> new dictionary initialized from a mapping object's\n",
      "    (key, value) pairs\n",
      "dict(iterable) -> new dictionary initialized as if via:\n",
      "    d = {}\n",
      "    for k, v in iterable:\n",
      "        d[k] = v\n",
      "dict(**kwargs) -> new dictionary initialized with the name=value pairs\n",
      "    in the keyword argument list.  For example:  dict(one=1, two=2)\n"
     ]
    }
   ],
   "source": [
    "print(dict().__doc__)"
   ]
  },
  {
   "cell_type": "code",
   "execution_count": 76,
   "metadata": {},
   "outputs": [
    {
     "name": "stdout",
     "output_type": "stream",
     "text": [
      "Lions are Carnivores\n",
      "Bears are Omnivores\n",
      "Deers are Herbivores\n",
      "Human are Nomnivores\n"
     ]
    }
   ],
   "source": [
    "def animals(**kwargs):\n",
    "    for key, value in kwargs.items():\n",
    "        print(value, \"are\", key)\n",
    "animals(Carnivores=\"Lions\", Omnivores=\"Bears\", Herbivores=\"Deers\", Nomnivores=\"Human\")"
   ]
  },
  {
   "cell_type": "code",
   "execution_count": 96,
   "metadata": {},
   "outputs": [],
   "source": [
    "def organizer(**liste):\n",
    "    print(\"keys =\", [i for i in liste.keys()])\n",
    "    print(\"values =\", [i for i in liste.values()])\n",
    "    "
   ]
  },
  {
   "cell_type": "code",
   "execution_count": 97,
   "metadata": {},
   "outputs": [
    {
     "name": "stdout",
     "output_type": "stream",
     "text": [
      "keys = ['Beth', 'Oscar']\n",
      "values = [26, 22]\n"
     ]
    }
   ],
   "source": [
    "organizer(Beth = 26, Oscar = 22)\n"
   ]
  },
  {
   "cell_type": "code",
   "execution_count": 7,
   "metadata": {},
   "outputs": [],
   "source": [
    "def sum_double(x, y):\n",
    "    if x!= y:\n",
    "        return x + y\n",
    "    else:\n",
    "        return (x + y) * 2"
   ]
  },
  {
   "cell_type": "code",
   "execution_count": 8,
   "metadata": {},
   "outputs": [
    {
     "data": {
      "text/plain": [
       "3"
      ]
     },
     "execution_count": 8,
     "metadata": {},
     "output_type": "execute_result"
    }
   ],
   "source": [
    "sum_double(1, 2)"
   ]
  },
  {
   "cell_type": "code",
   "execution_count": 4,
   "metadata": {},
   "outputs": [
    {
     "data": {
      "text/plain": [
       "'odd'"
      ]
     },
     "execution_count": 4,
     "metadata": {},
     "output_type": "execute_result"
    }
   ],
   "source": [
    "py = lambda x: 'odd' if x % 2 != 0 else 'even'\n",
    "py(3)"
   ]
  },
  {
   "cell_type": "markdown",
   "metadata": {},
   "source": [
    "You can use it with its own syntax using parentheses,\n",
    "You can also assign it to a variable,\n",
    "You can use it in several built-in functions,\n",
    "It can be useful inside user-defined functions (def)."
   ]
  },
  {
   "cell_type": "code",
   "execution_count": 5,
   "metadata": {},
   "outputs": [
    {
     "data": {
      "text/plain": [
       "4"
      ]
     },
     "execution_count": 5,
     "metadata": {},
     "output_type": "execute_result"
    }
   ],
   "source": [
    "(lambda x: x**2)(2)  # squares '2'"
   ]
  },
  {
   "cell_type": "code",
   "execution_count": 6,
   "metadata": {},
   "outputs": [
    {
     "name": "stdout",
     "output_type": "stream",
     "text": [
      "<class 'map'>\n",
      "[1, 4, 9, 16, 25]\n",
      "[1, 4, 9, 16, 25]\n"
     ]
    }
   ],
   "source": [
    "iterable = [1, 2, 3, 4, 5]\n",
    "map(lambda x:x**2, iterable)\n",
    "result = map(lambda x:x**2, iterable)\n",
    "print(type(result))  # it's a map type\n",
    "\n",
    "print(list(result))  # we've converted it to list type to print\n",
    "\n",
    "print(list(map(lambda x:x**2, iterable)))  # you can print directly"
   ]
  },
  {
   "cell_type": "code",
   "execution_count": 7,
   "metadata": {},
   "outputs": [
    {
     "name": "stdout",
     "output_type": "stream",
     "text": [
      "['one', 'six', 'ten', 'two']\n"
     ]
    }
   ],
   "source": [
    "letter1 = ['o', 's', 't', 't']\n",
    "letter2 = ['n', 'i', 'e', 'w']\n",
    "letter3 = ['e', 'x', 'n', 'o']\n",
    "numbers = map(lambda x, y, z: x+y+z, letter1, letter2, letter3)\n",
    "\n",
    "print(list(numbers))"
   ]
  },
  {
   "cell_type": "code",
   "execution_count": 9,
   "metadata": {},
   "outputs": [
    {
     "data": {
      "text/plain": [
       "[3, 6, 9, 12, 15]"
      ]
     },
     "execution_count": 9,
     "metadata": {},
     "output_type": "execute_result"
    }
   ],
   "source": [
    "number_list = [1, 2, 3, 4, 5]\n",
    "\n",
    "result = list(map(lambda x : x *3, number_list))\n",
    "result"
   ]
  },
  {
   "cell_type": "code",
   "execution_count": 10,
   "metadata": {},
   "outputs": [
    {
     "name": "stdout",
     "output_type": "stream",
     "text": [
      "<class 'filter'>\n",
      "Even numbers are : [0, 2, 4, 6, 8]\n"
     ]
    }
   ],
   "source": [
    "first_ten = [0, 1, 2, 3, 4, 5, 6, 7, 8, 9] \n",
    "  \n",
    "even = filter(lambda x:x%2==0, first_ten) \n",
    "print(type(even))  # it's 'filter' type, \n",
    "                   # in order to print the result,\n",
    "                   # we'd better convert it into the list type\n",
    "\n",
    "print('Even numbers are :', list(even))"
   ]
  },
  {
   "cell_type": "code",
   "execution_count": 14,
   "metadata": {},
   "outputs": [
    {
     "name": "stdout",
     "output_type": "stream",
     "text": [
      "Vowels are : ['a', 'e']\n"
     ]
    }
   ],
   "source": [
    "vowel_list = ['a', 'e', 'i', 'o', 'u']\n",
    "first_ten = 'aefdsfjnds'\n",
    "  \n",
    "vowels = filter(lambda x: True if x in vowel_list else False, first_ten) \n",
    "\n",
    "print('Vowels are :', list(vowels))"
   ]
  },
  {
   "cell_type": "code",
   "execution_count": null,
   "metadata": {},
   "outputs": [],
   "source": [
    "\n",
    "Lambda Functions\n",
    "You have earned 0 point(s) out of 0 point(s) thus far.\n",
    "Let's Practice\n"
   ]
  },
  {
   "cell_type": "code",
   "execution_count": 18,
   "metadata": {},
   "outputs": [
    {
     "data": {
      "text/plain": [
       "[6, 7, 8, 9, 10]"
      ]
     },
     "execution_count": 18,
     "metadata": {},
     "output_type": "execute_result"
    }
   ],
   "source": [
    "number_list = [1, 2, 3, 4, 5, 6, 7, 8, 9, 10]\n",
    "\n",
    "result = filter(lambda x: True if x > 5 else False, number_list)  \n",
    "list(result)"
   ]
  },
  {
   "cell_type": "code",
   "execution_count": 19,
   "metadata": {},
   "outputs": [
    {
     "name": "stdout",
     "output_type": "stream",
     "text": [
      "4\n",
      "8\n",
      "16\n"
     ]
    }
   ],
   "source": [
    "def modular_function(n):\n",
    "    return lambda x: x ** n\n",
    "    \n",
    "power_of_2 = modular_function(2)  # first sub-function derived from def\n",
    "power_of_3 = modular_function(3)  # second sub-function derived from def\n",
    "power_of_4 = modular_function(4)  # third sub-function derived from def\n",
    "\n",
    "print(power_of_2(2))  # 2 to the power of 2\n",
    "print(power_of_3(2))  # 2 to the power of 3\n",
    "print(power_of_4(2))  # 2 to the power of 4"
   ]
  },
  {
   "cell_type": "code",
   "execution_count": 5,
   "metadata": {},
   "outputs": [
    {
     "name": "stdout",
     "output_type": "stream",
     "text": [
      "Here are the names of brothers :\n",
      "tom\n",
      "sue\n",
      "tim\n"
     ]
    }
   ],
   "source": [
    "def brothers(bro1, bro2, bro3):\n",
    "    print('Here are the names of brothers :')\n",
    "    print(bro1, bro2, bro3, sep='\\n')\n",
    "family = ['tom', 'sue', 'tim']\n",
    "brothers(*family)"
   ]
  },
  {
   "cell_type": "code",
   "execution_count": 8,
   "metadata": {},
   "outputs": [
    {
     "name": "stdout",
     "output_type": "stream",
     "text": [
      "Here are the names of brothers :\n",
      "('tom', 'sue', 'tim', 'sam')\n"
     ]
    }
   ],
   "source": [
    "def brothers(* bro):\n",
    "    print('Here are the names of brothers :')\n",
    "    print(bro)\n",
    "family = ['tom', 'sue', 'tim', 'sam']\n",
    "brothers(*family)\n"
   ]
  },
  {
   "cell_type": "code",
   "execution_count": 9,
   "metadata": {},
   "outputs": [
    {
     "name": "stdout",
     "output_type": "stream",
     "text": [
      "Fred belongs to Generation X\n",
      "Marry belongs to Generation Y\n"
     ]
    }
   ],
   "source": [
    "def gene(x, y):  # defined by positional args\n",
    "    print(x, \"belongs to Generation X\")\n",
    "    print(y, \"belongs to Generation Y\")\n",
    "dict_gene = {'y' : \"Marry\", 'x' : \"Fred\"}\n",
    "gene(**dict_gene)  # we call the function by a single argument(variable)"
   ]
  },
  {
   "cell_type": "code",
   "execution_count": 10,
   "metadata": {},
   "outputs": [],
   "source": [
    "dict_couple = {\"bride\" : [\"mary\", \"bella\", \"linda\"],\n",
    "               \"groom\" : [\"rye\", \"fred\", \"roland\"]}"
   ]
  },
  {
   "cell_type": "code",
   "execution_count": 24,
   "metadata": {},
   "outputs": [
    {
     "data": {
      "text/plain": [
       "[('mary', 'rye'), ('bella', 'fred'), ('linda', 'roland')]"
      ]
     },
     "execution_count": 24,
     "metadata": {},
     "output_type": "execute_result"
    }
   ],
   "source": [
    "# [(\"mary\", \"rye\"), (\"bella\", \"fred\"), (\"linda\", \"roland\")]\n",
    "dict_couple = {\"bride\": [\"mary\", \"bella\", \"linda\"],\n",
    "               \"groom\": [\"rye\", \"fred\", \"roland\"]}\n",
    "def couples(bride, groom):\n",
    "    couple_list = []\n",
    "    for i in zip(bride, groom):\n",
    "        couple_list.append(i)\n",
    "    return couple_list\n",
    "couples(**dict_couple)"
   ]
  },
  {
   "cell_type": "code",
   "execution_count": 27,
   "metadata": {},
   "outputs": [
    {
     "data": {
      "text/plain": [
       "[('mary', 'rye'), ('bella', 'fred'), ('linda', 'roland')]"
      ]
     },
     "execution_count": 27,
     "metadata": {},
     "output_type": "execute_result"
    }
   ],
   "source": [
    "def couples(bride,groom):\n",
    "      return list(zip(bride, groom))\n",
    "couples(**dict_couple)"
   ]
  },
  {
   "cell_type": "code",
   "execution_count": 28,
   "metadata": {},
   "outputs": [],
   "source": [
    "ages = {\"bride\": 33, \"bella\" : 43}"
   ]
  },
  {
   "cell_type": "code",
   "execution_count": 38,
   "metadata": {},
   "outputs": [
    {
     "name": "stdout",
     "output_type": "stream",
     "text": [
      "41.5\n"
     ]
    }
   ],
   "source": [
    "ages = {\"bradi\" : 33, \"bella\" : 43, \"sam\" : 35, \"tom\" : 55 }\n",
    "def meaner (**x):\n",
    "    average = sum(x.values()) / len(x)\n",
    "    print(average) \n",
    "meaner(**ages)\n"
   ]
  },
  {
   "cell_type": "code",
   "execution_count": 39,
   "metadata": {},
   "outputs": [
    {
     "name": "stdout",
     "output_type": "stream",
     "text": [
      "The average of their ages is : 46.0\n",
      "None\n"
     ]
    }
   ],
   "source": [
    "friends = {\"AhmEt\" : 44, \"JOSePH\" : 39, \"LiNDa\" : 55}\n",
    "def meaner(AhmEt, JOSePH, LiNDa):\n",
    "    average = (AhmEt + JOSePH + LiNDa) / len(friends)\n",
    "    print(\"The average of their ages is :\", average)\n",
    "print(meaner(**friends))\n"
   ]
  },
  {
   "cell_type": "code",
   "execution_count": 64,
   "metadata": {},
   "outputs": [
    {
     "name": "stdout",
     "output_type": "stream",
     "text": [
      "1  :  odd\n",
      "2  :  else\n",
      "3  :  odd\n",
      "4  :  else\n"
     ]
    }
   ],
   "source": [
    "for i in range(1,5):\n",
    "    print(i,\" : \", (lambda x : \"odd\" if x%2 else \"else\" )(i))"
   ]
  },
  {
   "cell_type": "code",
   "execution_count": 67,
   "metadata": {},
   "outputs": [
    {
     "name": "stdout",
     "output_type": "stream",
     "text": [
      "['one', 'six', 'ten', 'two']\n"
     ]
    }
   ],
   "source": [
    "letter1 = ['o', 's', 't', 't']\n",
    "letter2 = ['n', 'i', 'e', 'w']\n",
    "letter3 = ['e', 'x', 'n', 'o']\n",
    "numbers = map(lambda x, y, z: x+y+z, letter1, letter2, letter3)\n",
    "print(list(numbers))\n"
   ]
  },
  {
   "cell_type": "code",
   "execution_count": 1,
   "metadata": {},
   "outputs": [
    {
     "name": "stdout",
     "output_type": "stream",
     "text": [
      "45\n"
     ]
    }
   ],
   "source": [
    "multiply = lambda x: x * 4\n",
    "add = lambda x, y: x + y\n",
    "print(add(multiply(10), 5))\n"
   ]
  },
  {
   "cell_type": "code",
   "execution_count": 2,
   "metadata": {},
   "outputs": [
    {
     "name": "stdout",
     "output_type": "stream",
     "text": [
      "[1, 8, 27, 64]\n"
     ]
    }
   ],
   "source": [
    "number_list = [1, 2, 3, 4]\n",
    "result = map(lambda x:x**3, number_list)\n",
    "print(list(result)) \n"
   ]
  },
  {
   "cell_type": "code",
   "execution_count": 3,
   "metadata": {},
   "outputs": [
    {
     "name": "stdout",
     "output_type": "stream",
     "text": [
      "[0, 3, 6, 9, 12]\n"
     ]
    }
   ],
   "source": [
    "number_list = [0, 1, 2, 3, 4, 5, 6, 7, 8, 9, 10, 11, 12] \n",
    "divisible_list = filter(lambda x:x%3==0, number_list) \n",
    "print(list(divisible_list))\n"
   ]
  },
  {
   "cell_type": "code",
   "execution_count": 5,
   "metadata": {},
   "outputs": [
    {
     "name": "stdout",
     "output_type": "stream",
     "text": [
      "25\n"
     ]
    }
   ],
   "source": [
    "square = lambda x: x ** 2 \n",
    "print(square(5))\n"
   ]
  },
  {
   "cell_type": "code",
   "execution_count": 7,
   "metadata": {},
   "outputs": [
    {
     "data": {
      "text/plain": [
       "[1, 4, 9, 16, 25]"
      ]
     },
     "execution_count": 7,
     "metadata": {},
     "output_type": "execute_result"
    }
   ],
   "source": [
    "number_list=[1, 2, 3, 4, 5]\n",
    "\n",
    "result= list(map(lambda x: x ** 2, number_list))\n",
    "result"
   ]
  },
  {
   "cell_type": "code",
   "execution_count": 10,
   "metadata": {},
   "outputs": [
    {
     "data": {
      "text/plain": [
       "[1, 3, 5, 7, 9]"
      ]
     },
     "execution_count": 10,
     "metadata": {},
     "output_type": "execute_result"
    }
   ],
   "source": [
    "number_list=[1, 2, 3, 4, 5, 6, 7, 8, 9, 10]\n",
    "\n",
    "result= list(filter(lambda x: x if x % 2 != 0 else False, number_list))   \n",
    "\n",
    "result\n"
   ]
  },
  {
   "cell_type": "code",
   "execution_count": 18,
   "metadata": {},
   "outputs": [
    {
     "name": "stdout",
     "output_type": "stream",
     "text": [
      "The sum of the list elements is : 17\n"
     ]
    }
   ],
   "source": [
    "import functools\n",
    "import itertools\n",
    "import operator\n",
    "# using reduce to compute sum of list\n",
    "lis = [ 1 , 3, 5, 6, 2, ]\n",
    "print (\"The sum of the list elements is : \",end=\"\")\n",
    "print (functools.reduce(lambda a,b : a+b,lis))"
   ]
  },
  {
   "cell_type": "code",
   "execution_count": 20,
   "metadata": {},
   "outputs": [
    {
     "name": "stdout",
     "output_type": "stream",
     "text": [
      "The maximum element of the list is : 6\n"
     ]
    }
   ],
   "source": [
    "# using reduce to compute maximum element from list\n",
    "print (\"The maximum element of the list is : \",end=\"\")\n",
    "print (functools.reduce(lambda a,b : a if a > b else b,lis))"
   ]
  },
  {
   "cell_type": "code",
   "execution_count": 40,
   "metadata": {},
   "outputs": [
    {
     "name": "stdout",
     "output_type": "stream",
     "text": [
      "The summation of list using accumulate is :[1, 2, 3, 4, 5]\n"
     ]
    }
   ],
   "source": [
    "lis = [1, 1, 1, 1, 1]\n",
    "# priting summation using accumulate()\n",
    "print (\"The summation of list using accumulate is :\",end=\"\")\n",
    "print (list(itertools.accumulate(lis,lambda x,y : x+y)))"
   ]
  },
  {
   "cell_type": "code",
   "execution_count": 19,
   "metadata": {},
   "outputs": [
    {
     "name": "stdout",
     "output_type": "stream",
     "text": [
      "The concatenated product is : geeksforgeeks\n"
     ]
    }
   ],
   "source": [
    "# using reduce to concatenate string\n",
    "print (\"The concatenated product is : \",end=\"\")\n",
    "print (functools.reduce(operator.add,[\"geeks\",\"for\",\"geeks\"]))"
   ]
  },
  {
   "cell_type": "code",
   "execution_count": 4,
   "metadata": {},
   "outputs": [
    {
     "name": "stdout",
     "output_type": "stream",
     "text": [
      "[4.35, 6.09, 3.25, 9.77, 2.16, 8.88, 4.59]\n",
      "24840\n"
     ]
    }
   ],
   "source": [
    "from functools import reduce \n",
    "\n",
    "# Use map to print the square of each numbers rounded\n",
    "# to three decimal places\n",
    "my_floats = [4.35, 6.09, 3.25, 9.77, 2.16, 8.88, 4.59]\n",
    "\n",
    "# Use filter to print only the names that are less than \n",
    "# or equal to seven letters\n",
    "my_names = [\"olumide\", \"akinremi\", \"josiah\", \"temidayo\", \"omoseun\"]\n",
    "\n",
    "# Use reduce to print the product of these numbers\n",
    "my_numbers = [4, 6, 9, 23, 5]\n",
    "\n",
    "# Fix all three respectively.\n",
    "map_result = list(map(lambda x: x, my_floats))\n",
    "# filter_result = list(filter(lambda name: name, my_names, my_names))\n",
    "reduce_result = reduce(lambda num1, num2: num1 * num2, my_numbers)\n",
    "\n",
    "print(map_result)\n",
    "#print(filter_result)\n",
    "print(reduce_result)"
   ]
  },
  {
   "cell_type": "code",
   "execution_count": 65,
   "metadata": {},
   "outputs": [
    {
     "name": "stdout",
     "output_type": "stream",
     "text": [
      "8309\n",
      "\n",
      "18.4\n",
      "\n",
      "C8309 - mFatih\n",
      "\n"
     ]
    }
   ],
   "source": [
    "# reduce function is different from map(() and filter()\n",
    "# reduce function is not a build in function\n",
    "from functools import reduce \n",
    "\n",
    "# Returns the sum of all the elements(integer) using `reduce`\n",
    "result = reduce((lambda x, y: x + y), [8000, 300, 0, 9])\n",
    "print(result, end = '\\n\\n')\n",
    "\n",
    "# Returns the sum of all the elements(float) using `reduce`\n",
    "result = reduce((lambda x, y: x + y), [8.3, 0.9, 8.3, 0.9])\n",
    "print(result, end = '\\n\\n')\n",
    "\n",
    "# Returns the combination of all the elements(string) using `reduce`\n",
    "result = reduce((lambda x, y: x + y), ['C', '8309', ' ', '-', ' ', 'mFatih'])\n",
    "print(result, end = '\\n\\n')\n"
   ]
  },
  {
   "cell_type": "code",
   "execution_count": 50,
   "metadata": {},
   "outputs": [
    {
     "name": "stdout",
     "output_type": "stream",
     "text": [
      "18.4\n"
     ]
    }
   ],
   "source": []
  },
  {
   "cell_type": "code",
   "execution_count": 49,
   "metadata": {},
   "outputs": [
    {
     "name": "stdout",
     "output_type": "stream",
     "text": [
      "DataScienceMachineLearningFatih\n"
     ]
    }
   ],
   "source": []
  },
  {
   "cell_type": "code",
   "execution_count": 26,
   "metadata": {},
   "outputs": [
    {
     "data": {
      "text/plain": [
       "10"
      ]
     },
     "execution_count": 26,
     "metadata": {},
     "output_type": "execute_result"
    }
   ],
   "source": [
    "sum([1, 2, 3, 4])"
   ]
  },
  {
   "cell_type": "code",
   "execution_count": 28,
   "metadata": {},
   "outputs": [],
   "source": [
    "lis=['a', 'b', 'c']"
   ]
  },
  {
   "cell_type": "code",
   "execution_count": 36,
   "metadata": {},
   "outputs": [
    {
     "data": {
      "text/plain": [
       "str"
      ]
     },
     "execution_count": 36,
     "metadata": {},
     "output_type": "execute_result"
    }
   ],
   "source": [
    "type(functools.reduce(lambda a,b : a+b,lis))"
   ]
  },
  {
   "cell_type": "code",
   "execution_count": 32,
   "metadata": {},
   "outputs": [],
   "source": [
    "from operator import add\n"
   ]
  },
  {
   "cell_type": "code",
   "execution_count": 37,
   "metadata": {},
   "outputs": [
    {
     "name": "stdout",
     "output_type": "stream",
     "text": [
      "abc\n"
     ]
    }
   ],
   "source": [
    "print(reduce(add, lis))"
   ]
  },
  {
   "cell_type": "code",
   "execution_count": 66,
   "metadata": {},
   "outputs": [
    {
     "name": "stdout",
     "output_type": "stream",
     "text": [
      "4 is maximum\n"
     ]
    }
   ],
   "source": [
    "def printMax(a, b):\n",
    "     if a > b:\n",
    "         print(a, 'is maximum')\n",
    "     elif a == b:\n",
    "         print(a, 'is equal to', b)\n",
    "     else:\n",
    "         print(b, 'is maximum')\n",
    "printMax(3, 4)"
   ]
  },
  {
   "cell_type": "code",
   "execution_count": 67,
   "metadata": {},
   "outputs": [
    {
     "name": "stdout",
     "output_type": "stream",
     "text": [
      "x is 50\n",
      "Changed local x to 2\n",
      "x is now 50\n"
     ]
    }
   ],
   "source": [
    "x = 50\n",
    "def func(x):\n",
    " print('x is', x)\n",
    " x = 2\n",
    " print('Changed local x to', x)\n",
    "func(x)\n",
    "print('x is now', x)"
   ]
  },
  {
   "cell_type": "code",
   "execution_count": 68,
   "metadata": {},
   "outputs": [
    {
     "name": "stdout",
     "output_type": "stream",
     "text": [
      "3   9\n"
     ]
    }
   ],
   "source": [
    "def function1(var1=5, var2=7):\n",
    "     var2=9\n",
    "     var1=3\n",
    "     print (var1, \" \", var2)\n",
    "function1(10,12)"
   ]
  },
  {
   "cell_type": "code",
   "execution_count": null,
   "metadata": {},
   "outputs": [],
   "source": [
    "SELECT first_name, last_name\n",
    "FROM employees\n",
    "WHERE emp_id IN \n",
    "    (SELECT emp_id \n",
    "     FROM departments\n",
    "     WHERE dept_name = 'Marketing');"
   ]
  },
  {
   "cell_type": "code",
   "execution_count": 11,
   "metadata": {},
   "outputs": [],
   "source": [
    "words1 = [\"you\", \"much\", \"hard\"]\n",
    "words2 = [\"i\", \"you\", \"you\"]\n",
    "words3= [\"love\", \"ate\", \"work\"]"
   ]
  },
  {
   "cell_type": "code",
   "execution_count": 15,
   "metadata": {},
   "outputs": [
    {
     "name": "stdout",
     "output_type": "stream",
     "text": [
      "i love you\n",
      "you ate much\n",
      "you work hard\n"
     ]
    }
   ],
   "source": [
    "sentence = map(lambda x, y, z: y+ \" \" + z + \" \" + x, words1, words2, words3)\n",
    "print(*sentence, sep =\"\\n\")\n"
   ]
  },
  {
   "cell_type": "code",
   "execution_count": null,
   "metadata": {},
   "outputs": [],
   "source": [
    "first_ten = range(10)\n",
    "even =filter(lambda)"
   ]
  },
  {
   "cell_type": "code",
   "execution_count": 17,
   "metadata": {},
   "outputs": [],
   "source": [
    "words = ['apple', 'swim', \"clock\", \"me\", \"kivi\", \"banana\"]\n"
   ]
  },
  {
   "cell_type": "code",
   "execution_count": 26,
   "metadata": {},
   "outputs": [
    {
     "name": "stdout",
     "output_type": "stream",
     "text": [
      "banana\n"
     ]
    }
   ],
   "source": [
    "filter_words = filter(lambda x: x if len(x) > 5 else False, words)\n",
    "print(*filter_words)\n"
   ]
  },
  {
   "cell_type": "code",
   "execution_count": 37,
   "metadata": {},
   "outputs": [
    {
     "name": "stdout",
     "output_type": "stream",
     "text": [
      "Hello:)\n",
      "Hello:(\n",
      "Hello:|\n"
     ]
    }
   ],
   "source": [
    "def myPrint (s):\n",
    "    return lambda x: x + s\n",
    "myPrint_smile = myPrint(\":)\")\n",
    "myPrint_sad = myPrint(\":(\")\n",
    "myPrint_poker = myPrint(\":|\")\n",
    "print(myPrint_smile(\"Hello\"))\n",
    "print(myPrint_sad(\"Hello\"))\n",
    "print(myPrint_poker(\"Hello\"))\n"
   ]
  },
  {
   "cell_type": "code",
   "execution_count": 51,
   "metadata": {},
   "outputs": [
    {
     "name": "stdout",
     "output_type": "stream",
     "text": [
      "['data', 'science']\n"
     ]
    },
    {
     "data": {
      "text/plain": [
       "['data', 'science']"
      ]
     },
     "execution_count": 51,
     "metadata": {},
     "output_type": "execute_result"
    }
   ],
   "source": [
    "def func_gen(s):\n",
    "    return lambda x: s(x)\n",
    "\n",
    "mFatih_print = func_gen(print)\n",
    "mFatih_sorted = func_gen(sorted)\n",
    "mFatih_max = func_gen(max)\n",
    "mFatih_print([\"data\", \"science\"])\n",
    "mFatih_max([\"data\", \"science\"])\n",
    "mFatih_sorted([\"data\", \"science\"])\n"
   ]
  },
  {
   "cell_type": "code",
   "execution_count": 50,
   "metadata": {},
   "outputs": [
    {
     "data": {
      "text/plain": [
       "['data', 'science']"
      ]
     },
     "execution_count": 50,
     "metadata": {},
     "output_type": "execute_result"
    }
   ],
   "source": [
    "mFatih_sorted([\"data\", \"science\"])"
   ]
  },
  {
   "cell_type": "code",
   "execution_count": null,
   "metadata": {},
   "outputs": [],
   "source": [
    "def func_gen(name, path):\n",
    "    return lambda x: x + name + path\n",
    "data"
   ]
  },
  {
   "cell_type": "code",
   "execution_count": null,
   "metadata": {},
   "outputs": [],
   "source": [
    "while True:\n",
    "    no_one = int(input(\"The first number please : \"))\n",
    "    no_two = int(input(\"The second number please : \"))\n",
    "    try:\n",
    "        division = no_one / no_two  # normal part of the program\n",
    "    except ZeroDivisionError:\n",
    "        print(\"You can't divide by zero! Try again.\")  # executes when division by zero\n",
    "    else:\n",
    "        print(\"The result of the division is : \", division)  # executes if there is no exception\n",
    "        break\n",
    "    finally:\n",
    "        print(\"Thanks for using our mini divison calculator! Come again!\")\n"
   ]
  },
  {
   "cell_type": "code",
   "execution_count": 1,
   "metadata": {},
   "outputs": [
    {
     "name": "stdout",
     "output_type": "stream",
     "text": [
      "The error message is :  name 'c' is not defined\n"
     ]
    }
   ],
   "source": [
    "try :\n",
    "    a = 10\n",
    "    b = 2\n",
    "    print(\"The result of division is :\", c)\n",
    "except Exception as e:\n",
    "    print(\"The error message is : \", e)"
   ]
  },
  {
   "cell_type": "code",
   "execution_count": 2,
   "metadata": {},
   "outputs": [
    {
     "ename": "NameError",
     "evalue": "name 'c' is not defined",
     "output_type": "error",
     "traceback": [
      "\u001b[1;31m---------------------------------------------------------------------------\u001b[0m",
      "\u001b[1;31mNameError\u001b[0m                                 Traceback (most recent call last)",
      "\u001b[1;32m<ipython-input-2-ec3480a3a3cc>\u001b[0m in \u001b[0;36m<module>\u001b[1;34m\u001b[0m\n\u001b[0;32m      1\u001b[0m \u001b[0ma\u001b[0m \u001b[1;33m=\u001b[0m \u001b[1;36m10\u001b[0m\u001b[1;33m\u001b[0m\u001b[1;33m\u001b[0m\u001b[0m\n\u001b[0;32m      2\u001b[0m \u001b[0mb\u001b[0m \u001b[1;33m=\u001b[0m \u001b[1;36m2\u001b[0m\u001b[1;33m\u001b[0m\u001b[1;33m\u001b[0m\u001b[0m\n\u001b[1;32m----> 3\u001b[1;33m \u001b[0mprint\u001b[0m\u001b[1;33m(\u001b[0m\u001b[1;34m\"The result of division is :\"\u001b[0m\u001b[1;33m,\u001b[0m \u001b[0mc\u001b[0m\u001b[1;33m)\u001b[0m\u001b[1;33m\u001b[0m\u001b[1;33m\u001b[0m\u001b[0m\n\u001b[0m",
      "\u001b[1;31mNameError\u001b[0m: name 'c' is not defined"
     ]
    }
   ],
   "source": [
    "a = 10\n",
    "b = 2\n",
    "print(\"The result of division is :\", c)\n"
   ]
  },
  {
   "cell_type": "code",
   "execution_count": 5,
   "metadata": {},
   "outputs": [
    {
     "name": "stdout",
     "output_type": "stream",
     "text": [
      "Something went wrong\n"
     ]
    }
   ],
   "source": [
    "try:\n",
    "    f = open('myfile.txt')\n",
    "    print(f.read())\n",
    "except:\n",
    "    print(\"Something went wrong\")\n"
   ]
  },
  {
   "cell_type": "code",
   "execution_count": 6,
   "metadata": {},
   "outputs": [
    {
     "name": "stdout",
     "output_type": "stream",
     "text": [
      "Something went wrong\n"
     ]
    },
    {
     "ename": "NameError",
     "evalue": "name 'f' is not defined",
     "output_type": "error",
     "traceback": [
      "\u001b[1;31m---------------------------------------------------------------------------\u001b[0m",
      "\u001b[1;31mNameError\u001b[0m                                 Traceback (most recent call last)",
      "\u001b[1;32m<ipython-input-6-1b8b2ee345ce>\u001b[0m in \u001b[0;36m<module>\u001b[1;34m\u001b[0m\n\u001b[0;32m      5\u001b[0m     \u001b[0mprint\u001b[0m\u001b[1;33m(\u001b[0m\u001b[1;34m\"Something went wrong\"\u001b[0m\u001b[1;33m)\u001b[0m\u001b[1;33m\u001b[0m\u001b[1;33m\u001b[0m\u001b[0m\n\u001b[0;32m      6\u001b[0m \u001b[1;32mfinally\u001b[0m\u001b[1;33m:\u001b[0m\u001b[1;33m\u001b[0m\u001b[1;33m\u001b[0m\u001b[0m\n\u001b[1;32m----> 7\u001b[1;33m     \u001b[0mf\u001b[0m\u001b[1;33m.\u001b[0m \u001b[0mclose\u001b[0m\u001b[1;33m(\u001b[0m\u001b[1;33m)\u001b[0m\u001b[1;33m\u001b[0m\u001b[1;33m\u001b[0m\u001b[0m\n\u001b[0m",
      "\u001b[1;31mNameError\u001b[0m: name 'f' is not defined"
     ]
    }
   ],
   "source": [
    "try:\n",
    "    f = open('myfile.txt')\n",
    "    print(f.read())\n",
    "except:\n",
    "    print(\"Something went wrong\")\n",
    "finally:\n",
    "    f. close()"
   ]
  },
  {
   "cell_type": "code",
   "execution_count": 11,
   "metadata": {},
   "outputs": [
    {
     "name": "stdout",
     "output_type": "stream",
     "text": [
      "Attempt to divide by zero\n"
     ]
    }
   ],
   "source": [
    "try:\n",
    "    x = 2/0\n",
    "except ZeroDivisionError:\n",
    "    print('Attempt to divide by zero')\n",
    "except:\n",
    "    print('Something else went wrong')"
   ]
  },
  {
   "cell_type": "code",
   "execution_count": 12,
   "metadata": {},
   "outputs": [
    {
     "data": {
      "text/plain": [
       "'C:\\\\Users\\\\BAHAR'"
      ]
     },
     "execution_count": 12,
     "metadata": {},
     "output_type": "execute_result"
    }
   ],
   "source": [
    "pwd\n"
   ]
  },
  {
   "cell_type": "code",
   "execution_count": 13,
   "metadata": {},
   "outputs": [],
   "source": [
    "from upper_package import my_package_1, my_package_2"
   ]
  },
  {
   "cell_type": "code",
   "execution_count": 15,
   "metadata": {},
   "outputs": [],
   "source": [
    "from upper_package.my_package_1 import my_module_1,my_module_2"
   ]
  },
  {
   "cell_type": "code",
   "execution_count": 18,
   "metadata": {},
   "outputs": [],
   "source": [
    "from upper_package.my_package_2 import my_module_3,my_module_4"
   ]
  },
  {
   "cell_type": "code",
   "execution_count": 16,
   "metadata": {
    "collapsed": true,
    "jupyter": {
     "outputs_hidden": true
    }
   },
   "outputs": [
    {
     "data": {
      "text/plain": [
       "['__builtins__',\n",
       " '__cached__',\n",
       " '__doc__',\n",
       " '__file__',\n",
       " '__loader__',\n",
       " '__name__',\n",
       " '__package__',\n",
       " '__path__',\n",
       " '__spec__',\n",
       " 'my_module_1',\n",
       " 'my_module_2']"
      ]
     },
     "execution_count": 16,
     "metadata": {},
     "output_type": "execute_result"
    }
   ],
   "source": [
    "dir(my_package_1)"
   ]
  },
  {
   "cell_type": "code",
   "execution_count": 17,
   "metadata": {},
   "outputs": [
    {
     "data": {
      "text/plain": [
       "2.0"
      ]
     },
     "execution_count": 17,
     "metadata": {},
     "output_type": "execute_result"
    }
   ],
   "source": [
    "my_module_2.divide(10,5)"
   ]
  },
  {
   "cell_type": "code",
   "execution_count": 19,
   "metadata": {},
   "outputs": [
    {
     "data": {
      "text/plain": [
       "'repeatrepeatrepeat'"
      ]
     },
     "execution_count": 19,
     "metadata": {},
     "output_type": "execute_result"
    }
   ],
   "source": [
    "my_module_3.repeater('repeat', 3)"
   ]
  },
  {
   "cell_type": "code",
   "execution_count": 20,
   "metadata": {},
   "outputs": [
    {
     "data": {
      "text/plain": [
       "5.0"
      ]
     },
     "execution_count": 20,
     "metadata": {},
     "output_type": "execute_result"
    }
   ],
   "source": [
    "my_module_4.sqroot(25)"
   ]
  },
  {
   "cell_type": "code",
   "execution_count": 22,
   "metadata": {
    "collapsed": true,
    "jupyter": {
     "outputs_hidden": true
    }
   },
   "outputs": [
    {
     "data": {
      "text/plain": [
       "ModuleSpec(name='upper_package.my_package_1', loader=<_frozen_importlib_external.SourceFileLoader object at 0x000001666D301F08>, origin='C:\\\\Users\\\\BAHAR\\\\upper_package\\\\my_package_1\\\\__init__.py', submodule_search_locations=['C:\\\\Users\\\\BAHAR\\\\upper_package\\\\my_package_1'])"
      ]
     },
     "execution_count": 22,
     "metadata": {},
     "output_type": "execute_result"
    }
   ],
   "source": [
    "my_package_1.__spec__"
   ]
  },
  {
   "cell_type": "code",
   "execution_count": 24,
   "metadata": {},
   "outputs": [],
   "source": [
    "import upper_package"
   ]
  },
  {
   "cell_type": "code",
   "execution_count": 25,
   "metadata": {
    "collapsed": true,
    "jupyter": {
     "outputs_hidden": true
    }
   },
   "outputs": [
    {
     "data": {
      "text/plain": [
       "['__builtins__',\n",
       " '__cached__',\n",
       " '__doc__',\n",
       " '__file__',\n",
       " '__loader__',\n",
       " '__name__',\n",
       " '__package__',\n",
       " '__path__',\n",
       " '__spec__',\n",
       " 'my_package_1',\n",
       " 'my_package_2']"
      ]
     },
     "execution_count": 25,
     "metadata": {},
     "output_type": "execute_result"
    }
   ],
   "source": [
    "dir(upper_package)"
   ]
  },
  {
   "cell_type": "code",
   "execution_count": 27,
   "metadata": {},
   "outputs": [],
   "source": [
    "from upper_package.my_package_1.my_module_2 import divide, hello"
   ]
  },
  {
   "cell_type": "code",
   "execution_count": 29,
   "metadata": {},
   "outputs": [
    {
     "data": {
      "text/plain": [
       "2.0"
      ]
     },
     "execution_count": 29,
     "metadata": {},
     "output_type": "execute_result"
    }
   ],
   "source": [
    "divide(22, 11)"
   ]
  },
  {
   "cell_type": "code",
   "execution_count": 28,
   "metadata": {},
   "outputs": [
    {
     "name": "stdout",
     "output_type": "stream",
     "text": [
      "hello\n"
     ]
    }
   ],
   "source": [
    "hello()"
   ]
  },
  {
   "cell_type": "code",
   "execution_count": 33,
   "metadata": {},
   "outputs": [],
   "source": [
    "import math"
   ]
  },
  {
   "cell_type": "code",
   "execution_count": 30,
   "metadata": {},
   "outputs": [],
   "source": [
    "from math import log10"
   ]
  },
  {
   "cell_type": "code",
   "execution_count": 31,
   "metadata": {},
   "outputs": [
    {
     "data": {
      "text/plain": [
       "3.0"
      ]
     },
     "execution_count": 31,
     "metadata": {},
     "output_type": "execute_result"
    }
   ],
   "source": [
    "log10(1000)"
   ]
  },
  {
   "cell_type": "code",
   "execution_count": 34,
   "metadata": {
    "collapsed": true,
    "jupyter": {
     "outputs_hidden": true
    }
   },
   "outputs": [
    {
     "name": "stdout",
     "output_type": "stream",
     "text": [
      "This module provides access to the mathematical functions\n",
      "defined by the C standard.\n"
     ]
    }
   ],
   "source": [
    "print(math.__doc__)"
   ]
  },
  {
   "cell_type": "code",
   "execution_count": null,
   "metadata": {},
   "outputs": [],
   "source": [
    "print(my_module)"
   ]
  },
  {
   "cell_type": "code",
   "execution_count": 35,
   "metadata": {
    "collapsed": true,
    "jupyter": {
     "outputs_hidden": true
    }
   },
   "outputs": [
    {
     "name": "stdout",
     "output_type": "stream",
     "text": [
      "Package                            Version  \n",
      "---------------------------------- ---------\n",
      "alabaster                          0.7.12   \n",
      "altair                             4.1.0    \n",
      "anaconda-client                    1.7.2    \n",
      "anaconda-navigator                 1.9.7    \n",
      "anaconda-project                   0.8.3    \n",
      "asn1crypto                         1.0.1    \n",
      "astor                              0.8.1    \n",
      "astroid                            2.3.1    \n",
      "astropy                            3.2.1    \n",
      "atomicwrites                       1.3.0    \n",
      "attrs                              19.2.0   \n",
      "Babel                              2.7.0    \n",
      "backcall                           0.1.0    \n",
      "backports.functools-lru-cache      1.5      \n",
      "backports.os                       0.1.1    \n",
      "backports.shutil-get-terminal-size 1.0.0    \n",
      "backports.tempfile                 1.0      \n",
      "backports.weakref                  1.0.post1\n",
      "base58                             2.1.0    \n",
      "beautifulsoup4                     4.8.0    \n",
      "bitarray                           1.0.1    \n",
      "bkcharts                           0.2      \n",
      "bleach                             3.1.0    \n",
      "blinker                            1.4      \n",
      "bokeh                              1.3.4    \n",
      "boto                               2.49.0   \n",
      "Bottleneck                         1.2.1    \n",
      "cachetools                         4.2.2    \n",
      "certifi                            2019.9.11\n",
      "cffi                               1.12.3   \n",
      "chardet                            3.0.4    \n",
      "choropleth-geojson                 0.0.7    \n",
      "Click                              7.0      \n",
      "cloudpickle                        1.2.2    \n",
      "clyent                             1.2.2    \n",
      "colorama                           0.4.1    \n",
      "comtypes                           1.1.7    \n",
      "conda                              4.7.12   \n",
      "conda-build                        3.18.9   \n",
      "conda-package-handling             1.6.0    \n",
      "conda-verify                       3.4.2    \n",
      "contextlib2                        0.6.0    \n",
      "cryptography                       2.7      \n",
      "cycler                             0.10.0   \n",
      "Cython                             0.29.13  \n",
      "cytoolz                            0.10.0   \n",
      "dask                               2.5.2    \n",
      "decorator                          4.4.0    \n",
      "deepdiff                           5.5.0    \n",
      "defusedxml                         0.6.0    \n",
      "dfply                              0.3.3    \n",
      "distributed                        2.5.2    \n",
      "docutils                           0.15.2   \n",
      "entrypoints                        0.3      \n",
      "et-xmlfile                         1.0.1    \n",
      "fastcache                          1.1.0    \n",
      "filelock                           3.0.12   \n",
      "findspark                          1.4.2    \n",
      "Flask                              1.1.1    \n",
      "folium                             0.1.5    \n",
      "fsspec                             0.5.2    \n",
      "future                             0.17.1   \n",
      "gevent                             1.4.0    \n",
      "gitdb                              4.0.7    \n",
      "GitPython                          3.1.14   \n",
      "glob2                              0.7      \n",
      "graphviz                           0.13.2   \n",
      "greenlet                           0.4.15   \n",
      "h5py                               2.9.0    \n",
      "HeapDict                           1.0.1    \n",
      "html5lib                           1.0.1    \n",
      "idna                               2.8      \n",
      "imageio                            2.6.0    \n",
      "imagesize                          1.1.0    \n",
      "imbalanced-learn                   0.6.1    \n",
      "importlib-metadata                 0.23     \n",
      "ipykernel                          5.1.2    \n",
      "ipython                            7.8.0    \n",
      "ipython-genutils                   0.2.0    \n",
      "ipywidgets                         7.5.1    \n",
      "isort                              4.3.21   \n",
      "itsdangerous                       1.1.0    \n",
      "jdcal                              1.4.1    \n",
      "jedi                               0.15.1   \n",
      "Jinja2                             2.10.3   \n",
      "joblib                             0.13.2   \n",
      "json5                              0.8.5    \n",
      "jsonschema                         3.0.2    \n",
      "jupyter                            1.0.0    \n",
      "jupyter-client                     5.3.3    \n",
      "jupyter-console                    6.0.0    \n",
      "jupyter-core                       4.5.0    \n",
      "jupyterlab                         1.1.4    \n",
      "jupyterlab-server                  1.0.6    \n",
      "keyring                            18.0.0   \n",
      "kiwisolver                         1.1.0    \n",
      "lazy-object-proxy                  1.4.2    \n",
      "libarchive-c                       2.8      \n",
      "llvmlite                           0.29.0   \n",
      "locket                             0.2.0    \n",
      "lxml                               4.4.1    \n",
      "MarkupSafe                         1.1.1    \n",
      "matplotlib                         3.1.1    \n",
      "mccabe                             0.6.1    \n",
      "menuinst                           1.4.16   \n",
      "mistune                            0.8.4    \n",
      "mkl-fft                            1.0.14   \n",
      "mkl-random                         1.1.0    \n",
      "mkl-service                        2.3.0    \n",
      "mock                               3.0.5    \n",
      "more-itertools                     7.2.0    \n",
      "mpmath                             1.1.0    \n",
      "msgpack                            0.6.1    \n",
      "multipledispatch                   0.6.0    \n",
      "multitasking                       0.0.9    \n",
      "mysql-connector                    2.2.9    \n",
      "navigator-updater                  0.2.1    \n",
      "nbconvert                          5.6.0    \n",
      "nbformat                           4.4.0    \n",
      "networkx                           2.3      \n",
      "nltk                               3.4.5    \n",
      "nose                               1.3.7    \n",
      "notebook                           6.0.1    \n",
      "numba                              0.45.1   \n",
      "numexpr                            2.7.0    \n",
      "numpy                              1.16.5   \n",
      "numpydoc                           0.9.1    \n",
      "olefile                            0.46     \n",
      "openpyxl                           3.0.0    \n",
      "ordered-set                        4.0.2    \n",
      "packaging                          19.2     \n",
      "pandas                             0.25.1   \n",
      "pandocfilters                      1.4.2    \n",
      "parso                              0.5.1    \n",
      "partd                              1.0.0    \n",
      "path.py                            12.0.1   \n",
      "pathlib2                           2.3.5    \n",
      "patsy                              0.5.1    \n",
      "pep8                               1.7.1    \n",
      "pickleshare                        0.7.5    \n",
      "Pillow                             6.2.0    \n",
      "pip                                19.2.3   \n",
      "pkginfo                            1.5.0.1  \n",
      "plotly                             4.4.1    \n",
      "pluggy                             0.13.0   \n",
      "ply                                3.11     \n",
      "prometheus-client                  0.7.1    \n",
      "prompt-toolkit                     2.0.10   \n",
      "protobuf                           3.16.0   \n",
      "psutil                             5.6.3    \n",
      "py                                 1.8.0    \n",
      "pyarrow                            4.0.0    \n",
      "pycodestyle                        2.5.0    \n",
      "pycosat                            0.6.3    \n",
      "pycparser                          2.19     \n",
      "pycrypto                           2.6.1    \n",
      "pycurl                             7.43.0.3 \n",
      "pydeck                             0.6.2    \n",
      "pydotplus                          2.0.2    \n",
      "pyflakes                           2.1.1    \n",
      "Pygments                           2.4.2    \n",
      "pylint                             2.4.2    \n",
      "pyodbc                             4.0.27   \n",
      "pyOpenSSL                          19.0.0   \n",
      "pyparsing                          2.4.2    \n",
      "pyreadline                         2.1      \n",
      "pyrsistent                         0.15.4   \n",
      "PySocks                            1.7.1    \n",
      "pytest                             5.2.1    \n",
      "pytest-arraydiff                   0.3      \n",
      "pytest-astropy                     0.5.0    \n",
      "pytest-doctestplus                 0.4.0    \n",
      "pytest-openfiles                   0.4.0    \n",
      "pytest-remotedata                  0.3.2    \n",
      "python-dateutil                    2.8.0    \n",
      "pytz                               2019.3   \n",
      "PyWavelets                         1.0.3    \n",
      "pywin32                            223      \n",
      "pywinpty                           0.5.5    \n",
      "PyYAML                             5.1.2    \n",
      "pyzmq                              18.1.0   \n",
      "QtAwesome                          0.6.0    \n",
      "qtconsole                          4.5.5    \n",
      "QtPy                               1.9.0    \n",
      "requests                           2.22.0   \n",
      "retrying                           1.3.3    \n",
      "rope                               0.14.0   \n",
      "ruamel-yaml                        0.15.46  \n",
      "scikit-image                       0.15.0   \n",
      "scikit-learn                       0.22.1   \n",
      "scipy                              1.3.1    \n",
      "seaborn                            0.9.0    \n",
      "Send2Trash                         1.5.0    \n",
      "setuptools                         41.4.0   \n",
      "simplegeneric                      0.8.1    \n",
      "singledispatch                     3.4.0.3  \n",
      "six                                1.12.0   \n",
      "smmap                              4.0.0    \n",
      "snowballstemmer                    2.0.0    \n",
      "sortedcollections                  1.1.2    \n",
      "sortedcontainers                   2.1.0    \n",
      "soupsieve                          1.9.3    \n",
      "Sphinx                             2.2.0    \n",
      "sphinxcontrib-applehelp            1.0.1    \n",
      "sphinxcontrib-devhelp              1.0.1    \n",
      "sphinxcontrib-htmlhelp             1.0.2    \n",
      "sphinxcontrib-jsmath               1.0.1    \n",
      "sphinxcontrib-qthelp               1.0.2    \n",
      "sphinxcontrib-serializinghtml      1.1.3    \n",
      "sphinxcontrib-websupport           1.1.2    \n",
      "spyder                             3.3.6    \n",
      "spyder-kernels                     0.5.2    \n",
      "SQLAlchemy                         1.3.9    \n",
      "statsmodels                        0.10.1   \n",
      "streamlit                          0.81.1   \n",
      "sympy                              1.4      \n",
      "tables                             3.5.2    \n",
      "tblib                              1.4.0    \n",
      "terminado                          0.8.2    \n",
      "testpath                           0.4.2    \n",
      "toml                               0.10.2   \n",
      "toolz                              0.10.0   \n",
      "tornado                            6.0.3    \n",
      "tqdm                               4.36.1   \n",
      "traitlets                          4.3.3    \n",
      "tzlocal                            2.1      \n",
      "unicodecsv                         0.14.1   \n",
      "urllib3                            1.24.2   \n",
      "validators                         0.18.2   \n",
      "watchdog                           2.1.1    \n",
      "wcwidth                            0.1.7    \n",
      "webencodings                       0.5.1    \n",
      "Werkzeug                           0.16.0   \n",
      "wheel                              0.33.6   \n",
      "widgetsnbextension                 3.5.1    \n",
      "win-inet-pton                      1.1.0    \n",
      "win-unicode-console                0.5      \n",
      "wincertstore                       0.2      \n",
      "wordcloud                          1.6.0    \n",
      "wrapt                              1.11.2   \n",
      "xgboost                            1.0.0    \n",
      "xlrd                               1.2.0    \n",
      "XlsxWriter                         1.2.1    \n",
      "xlwings                            0.15.10  \n",
      "xlwt                               1.3.0    \n",
      "yfinance                           0.1.54   \n",
      "zict                               1.0.0    \n",
      "zipp                               0.6.0    \n"
     ]
    }
   ],
   "source": [
    "!pip list"
   ]
  },
  {
   "cell_type": "code",
   "execution_count": 36,
   "metadata": {},
   "outputs": [
    {
     "name": "stdout",
     "output_type": "stream",
     "text": [
      "pip 19.2.3 from C:\\Users\\BAHAR\\Anaconda3\\lib\\site-packages\\pip (python 3.7)\n",
      "\n",
      "Note: you may need to restart the kernel to use updated packages.\n"
     ]
    }
   ],
   "source": [
    "pip --version\n"
   ]
  },
  {
   "cell_type": "code",
   "execution_count": 5,
   "metadata": {},
   "outputs": [
    {
     "name": "stdout",
     "output_type": "stream",
     "text": [
      "^C\n"
     ]
    }
   ],
   "source": [
    "!pip install kaggle"
   ]
  },
  {
   "cell_type": "code",
   "execution_count": 6,
   "metadata": {},
   "outputs": [
    {
     "ename": "NameError",
     "evalue": "name 'kaggle' is not defined",
     "output_type": "error",
     "traceback": [
      "\u001b[1;31m---------------------------------------------------------------------------\u001b[0m",
      "\u001b[1;31mNameError\u001b[0m                                 Traceback (most recent call last)",
      "\u001b[1;32m<ipython-input-6-7bf457d50a50>\u001b[0m in \u001b[0;36m<module>\u001b[1;34m\u001b[0m\n\u001b[1;32m----> 1\u001b[1;33m \u001b[0mdir\u001b[0m\u001b[1;33m(\u001b[0m\u001b[0mkaggle\u001b[0m\u001b[1;33m)\u001b[0m\u001b[1;33m\u001b[0m\u001b[1;33m\u001b[0m\u001b[0m\n\u001b[0m",
      "\u001b[1;31mNameError\u001b[0m: name 'kaggle' is not defined"
     ]
    }
   ],
   "source": [
    "dir(kaggle)"
   ]
  },
  {
   "cell_type": "code",
   "execution_count": 1,
   "metadata": {},
   "outputs": [
    {
     "name": "stdout",
     "output_type": "stream",
     "text": [
      "Name: pep8\n",
      "Version: 1.7.1\n",
      "Summary: Python style guide checker\n",
      "Home-page: http://pep8.readthedocs.org/\n",
      "Author: Johann C. Rocholl\n",
      "Author-email: johann@rocholl.net\n",
      "License: Expat license\n",
      "Location: c:\\users\\bahar\\anaconda3\\lib\\site-packages\n",
      "Requires: \n",
      "Required-by: \n",
      "Note: you may need to restart the kernel to use updated packages.\n"
     ]
    }
   ],
   "source": [
    "pip show pep8"
   ]
  },
  {
   "cell_type": "code",
   "execution_count": 2,
   "metadata": {},
   "outputs": [
    {
     "name": "stderr",
     "output_type": "stream",
     "text": [
      "C:\\Users\\BAHAR\\Anaconda3\\lib\\site-packages\\pep8.py:110: FutureWarning: Possible nested set at position 1\n",
      "  EXTRANEOUS_WHITESPACE_REGEX = re.compile(r'[[({] | []}),;:]')\n"
     ]
    }
   ],
   "source": [
    "import pep8"
   ]
  },
  {
   "cell_type": "code",
   "execution_count": 4,
   "metadata": {
    "collapsed": true,
    "jupyter": {
     "outputs_hidden": true,
     "source_hidden": true
    }
   },
   "outputs": [
    {
     "data": {
      "text/plain": [
       "['ARITHMETIC_OP',\n",
       " 'BENCHMARK_KEYS',\n",
       " 'BaseReport',\n",
       " 'COMMENT_WITH_NL',\n",
       " 'COMPARE_NEGATIVE_REGEX',\n",
       " 'COMPARE_SINGLETON_REGEX',\n",
       " 'COMPARE_TYPE_REGEX',\n",
       " 'Checker',\n",
       " 'DEFAULT_EXCLUDE',\n",
       " 'DEFAULT_IGNORE',\n",
       " 'DOCSTRING_REGEX',\n",
       " 'DiffReport',\n",
       " 'ERRORCODE_REGEX',\n",
       " 'EXTRANEOUS_WHITESPACE_REGEX',\n",
       " 'FileReport',\n",
       " 'HUNK_REGEX',\n",
       " 'INDENT_REGEX',\n",
       " 'KEYWORDS',\n",
       " 'KEYWORD_REGEX',\n",
       " 'LAMBDA_REGEX',\n",
       " 'MAX_LINE_LENGTH',\n",
       " 'NEWLINE',\n",
       " 'OPERATOR_REGEX',\n",
       " 'OptionParser',\n",
       " 'PROJECT_CONFIG',\n",
       " 'PyCF_ONLY_AST',\n",
       " 'RAISE_COMMA_REGEX',\n",
       " 'REPORT_FORMAT',\n",
       " 'RERAISE_COMMA_REGEX',\n",
       " 'RawConfigParser',\n",
       " 'SINGLETONS',\n",
       " 'SKIP_COMMENTS',\n",
       " 'SKIP_TOKENS',\n",
       " 'StandardReport',\n",
       " 'StyleGuide',\n",
       " 'TESTSUITE_PATH',\n",
       " 'TextIOWrapper',\n",
       " 'UNARY_OPERATORS',\n",
       " 'USER_CONFIG',\n",
       " 'WHITESPACE',\n",
       " 'WHITESPACE_AFTER_COMMA_REGEX',\n",
       " 'WS_NEEDED_OPERATORS',\n",
       " 'WS_OPTIONAL_OPERATORS',\n",
       " '__builtins__',\n",
       " '__cached__',\n",
       " '__doc__',\n",
       " '__file__',\n",
       " '__loader__',\n",
       " '__name__',\n",
       " '__package__',\n",
       " '__spec__',\n",
       " '__version__',\n",
       " '__warningregistry__',\n",
       " '_checks',\n",
       " '_get_parameters',\n",
       " '_is_eol_token',\n",
       " '_main',\n",
       " '_parse_multi_options',\n",
       " 'blank_lines',\n",
       " 'break_around_binary_operator',\n",
       " 'comparison_negative',\n",
       " 'comparison_to_singleton',\n",
       " 'comparison_type',\n",
       " 'compound_statements',\n",
       " 'continued_indentation',\n",
       " 'expand_indent',\n",
       " 'explicit_line_join',\n",
       " 'extraneous_whitespace',\n",
       " 'filename_match',\n",
       " 'fnmatch',\n",
       " 'get_parser',\n",
       " 'imports_on_separate_lines',\n",
       " 'indentation',\n",
       " 'init_checks_registry',\n",
       " 'inspect',\n",
       " 'isidentifier',\n",
       " 'keyword',\n",
       " 'maximum_line_length',\n",
       " 'missing_whitespace',\n",
       " 'missing_whitespace_around_operator',\n",
       " 'module_imports_on_top_of_file',\n",
       " 'mute_string',\n",
       " 'noqa',\n",
       " 'normalize_paths',\n",
       " 'os',\n",
       " 'parse_udiff',\n",
       " 'process_options',\n",
       " 'python_3000_backticks',\n",
       " 'python_3000_has_key',\n",
       " 'python_3000_not_equal',\n",
       " 'python_3000_raise_comma',\n",
       " 're',\n",
       " 'read_config',\n",
       " 'readlines',\n",
       " 'register_check',\n",
       " 'stdin_get_value',\n",
       " 'sys',\n",
       " 'tabs_obsolete',\n",
       " 'tabs_or_spaces',\n",
       " 'time',\n",
       " 'tokenize',\n",
       " 'trailing_blank_lines',\n",
       " 'trailing_whitespace',\n",
       " 'warnings',\n",
       " 'whitespace_around_comma',\n",
       " 'whitespace_around_keywords',\n",
       " 'whitespace_around_named_parameter_equals',\n",
       " 'whitespace_around_operator',\n",
       " 'whitespace_before_comment',\n",
       " 'whitespace_before_parameters',\n",
       " 'with_statement']"
      ]
     },
     "execution_count": 4,
     "metadata": {},
     "output_type": "execute_result"
    }
   ],
   "source": [
    "dir(pep8)"
   ]
  },
  {
   "cell_type": "code",
   "execution_count": 11,
   "metadata": {
    "collapsed": true,
    "jupyter": {
     "outputs_hidden": true
    }
   },
   "outputs": [
    {
     "data": {
      "text/plain": [
       "['__doc__',\n",
       " '__loader__',\n",
       " '__name__',\n",
       " '__package__',\n",
       " '__spec__',\n",
       " 'acos',\n",
       " 'acosh',\n",
       " 'asin',\n",
       " 'asinh',\n",
       " 'atan',\n",
       " 'atan2',\n",
       " 'atanh',\n",
       " 'ceil',\n",
       " 'copysign',\n",
       " 'cos',\n",
       " 'cosh',\n",
       " 'degrees',\n",
       " 'e',\n",
       " 'erf',\n",
       " 'erfc',\n",
       " 'exp',\n",
       " 'expm1',\n",
       " 'fabs',\n",
       " 'factorial',\n",
       " 'floor',\n",
       " 'fmod',\n",
       " 'frexp',\n",
       " 'fsum',\n",
       " 'gamma',\n",
       " 'gcd',\n",
       " 'hypot',\n",
       " 'inf',\n",
       " 'isclose',\n",
       " 'isfinite',\n",
       " 'isinf',\n",
       " 'isnan',\n",
       " 'ldexp',\n",
       " 'lgamma',\n",
       " 'log',\n",
       " 'log10',\n",
       " 'log1p',\n",
       " 'log2',\n",
       " 'modf',\n",
       " 'nan',\n",
       " 'pi',\n",
       " 'pow',\n",
       " 'radians',\n",
       " 'remainder',\n",
       " 'sin',\n",
       " 'sinh',\n",
       " 'sqrt',\n",
       " 'tan',\n",
       " 'tanh',\n",
       " 'tau',\n",
       " 'trunc']"
      ]
     },
     "execution_count": 11,
     "metadata": {},
     "output_type": "execute_result"
    }
   ],
   "source": [
    "dir(math)"
   ]
  },
  {
   "cell_type": "code",
   "execution_count": 9,
   "metadata": {},
   "outputs": [],
   "source": [
    "import math\n"
   ]
  },
  {
   "cell_type": "code",
   "execution_count": 24,
   "metadata": {},
   "outputs": [],
   "source": [
    "from math import hypot, log10"
   ]
  },
  {
   "cell_type": "code",
   "execution_count": 26,
   "metadata": {},
   "outputs": [
    {
     "ename": "NameError",
     "evalue": "name 'x' is not defined",
     "output_type": "error",
     "traceback": [
      "\u001b[1;31m---------------------------------------------------------------------------\u001b[0m",
      "\u001b[1;31mNameError\u001b[0m                                 Traceback (most recent call last)",
      "\u001b[1;32m<ipython-input-26-89261b72a0eb>\u001b[0m in \u001b[0;36m<module>\u001b[1;34m\u001b[0m\n\u001b[1;32m----> 1\u001b[1;33m \u001b[0mhypot\u001b[0m\u001b[1;33m(\u001b[0m\u001b[0mx\u001b[0m\u001b[1;33m,\u001b[0m \u001b[1;33m-\u001b[0m\u001b[1;36m5\u001b[0m\u001b[1;33m)\u001b[0m\u001b[1;33m\u001b[0m\u001b[1;33m\u001b[0m\u001b[0m\n\u001b[0m",
      "\u001b[1;31mNameError\u001b[0m: name 'x' is not defined"
     ]
    }
   ],
   "source": [
    "hypot(x, -5)"
   ]
  },
  {
   "cell_type": "code",
   "execution_count": 25,
   "metadata": {},
   "outputs": [
    {
     "ename": "ValueError",
     "evalue": "math domain error",
     "output_type": "error",
     "traceback": [
      "\u001b[1;31m---------------------------------------------------------------------------\u001b[0m",
      "\u001b[1;31mValueError\u001b[0m                                Traceback (most recent call last)",
      "\u001b[1;32m<ipython-input-25-68c16975991f>\u001b[0m in \u001b[0;36m<module>\u001b[1;34m\u001b[0m\n\u001b[1;32m----> 1\u001b[1;33m \u001b[0mlog10\u001b[0m\u001b[1;33m(\u001b[0m\u001b[1;33m-\u001b[0m\u001b[1;36m5\u001b[0m\u001b[1;33m)\u001b[0m\u001b[1;33m\u001b[0m\u001b[1;33m\u001b[0m\u001b[0m\n\u001b[0m",
      "\u001b[1;31mValueError\u001b[0m: math domain error"
     ]
    }
   ],
   "source": [
    "log10(-5)"
   ]
  },
  {
   "cell_type": "code",
   "execution_count": 27,
   "metadata": {},
   "outputs": [
    {
     "ename": "TypeError",
     "evalue": "must be real number, not str",
     "output_type": "error",
     "traceback": [
      "\u001b[1;31m---------------------------------------------------------------------------\u001b[0m",
      "\u001b[1;31mTypeError\u001b[0m                                 Traceback (most recent call last)",
      "\u001b[1;32m<ipython-input-27-786121eb518c>\u001b[0m in \u001b[0;36m<module>\u001b[1;34m\u001b[0m\n\u001b[1;32m----> 1\u001b[1;33m \u001b[0mhypot\u001b[0m\u001b[1;33m(\u001b[0m\u001b[1;34m'x'\u001b[0m\u001b[1;33m,\u001b[0m \u001b[1;33m-\u001b[0m\u001b[1;36m5\u001b[0m\u001b[1;33m)\u001b[0m\u001b[1;33m\u001b[0m\u001b[1;33m\u001b[0m\u001b[0m\n\u001b[0m",
      "\u001b[1;31mTypeError\u001b[0m: must be real number, not str"
     ]
    }
   ],
   "source": [
    "hypot('x', -5)"
   ]
  },
  {
   "cell_type": "code",
   "execution_count": 29,
   "metadata": {},
   "outputs": [
    {
     "name": "stdin",
     "output_type": "stream",
     "text": [
      "ilk sayı: 1\n",
      "ikinci sayı: 0\n"
     ]
    },
    {
     "name": "stdout",
     "output_type": "stream",
     "text": [
      "bir şeyler ters gitti\n"
     ]
    },
    {
     "name": "stdin",
     "output_type": "stream",
     "text": [
      "ilk sayı: 1\n",
      "ikinci sayı: 3\n"
     ]
    },
    {
     "name": "stdout",
     "output_type": "stream",
     "text": [
      "0.3333333333333333\n"
     ]
    }
   ],
   "source": [
    "while True:\n",
    "    a = int(input('ilk sayı:'))\n",
    "    b = int(input('ikinci sayı:'))\n",
    "    try:\n",
    "        c = a / b \n",
    "        print(c)\n",
    "        break\n",
    "    except:\n",
    "        print('bir şeyler ters gitti')\n",
    "        "
   ]
  },
  {
   "cell_type": "code",
   "execution_count": 30,
   "metadata": {},
   "outputs": [
    {
     "name": "stdin",
     "output_type": "stream",
     "text": [
      "The first number please :  4\n",
      "The second number please :  3\n"
     ]
    },
    {
     "name": "stdout",
     "output_type": "stream",
     "text": [
      "The result of the division is :  1.3333333333333333\n"
     ]
    }
   ],
   "source": [
    "while True:\n",
    "    no_one = int(input(\"The first number please : \"))\n",
    "    no_two = int(input(\"The second number please : \"))\n",
    "    try:\n",
    "        division = no_one / no_two\n",
    "        print(\"The result of the division is : \", division)\n",
    "        break\n",
    "    except ZeroDivisionError:\n",
    "        print(\"You can't divide by zero! Try again.\")  \n"
   ]
  },
  {
   "cell_type": "code",
   "execution_count": 31,
   "metadata": {},
   "outputs": [
    {
     "name": "stdin",
     "output_type": "stream",
     "text": [
      "The first number please :  1\n",
      "The second number please :  0\n"
     ]
    },
    {
     "name": "stdout",
     "output_type": "stream",
     "text": [
      "You can't divide by zero! Try again. division by zero\n"
     ]
    },
    {
     "name": "stdin",
     "output_type": "stream",
     "text": [
      "The first number please :  1\n",
      "The second number please :  3\n"
     ]
    },
    {
     "name": "stdout",
     "output_type": "stream",
     "text": [
      "The result of the division is :  0.3333333333333333\n"
     ]
    }
   ],
   "source": [
    "while True:\n",
    "    no_one = int(input(\"The first number please : \"))\n",
    "    no_two = int(input(\"The second number please : \"))\n",
    "    try:\n",
    "        division = no_one / no_two\n",
    "        print(\"The result of the division is : \", division)\n",
    "        break\n",
    "    except Exception as e:\n",
    "        print(\"You can't divide by zero! Try again.\", e)"
   ]
  },
  {
   "cell_type": "code",
   "execution_count": null,
   "metadata": {},
   "outputs": [
    {
     "name": "stdin",
     "output_type": "stream",
     "text": [
      "The first number please :  3\n",
      "The second number please :  0\n"
     ]
    },
    {
     "name": "stdout",
     "output_type": "stream",
     "text": [
      "You can't divide by zero! Try again. <class 'str'>\n"
     ]
    }
   ],
   "source": [
    "while True:\n",
    "    no_one = int(input(\"The first number please : \"))\n",
    "    no_two = int(input(\"The second number please : \"))\n",
    "    try:\n",
    "        division = no_one / no_two\n",
    "        print(\"The result of the division is : \", division)\n",
    "        break\n",
    "    except Exception as e:\n",
    "        print(\"You can't divide by zero! Try again.\", type(str(e)) )\n",
    "        "
   ]
  },
  {
   "cell_type": "code",
   "execution_count": 1,
   "metadata": {},
   "outputs": [
    {
     "ename": "ZeroDivisionError",
     "evalue": "division by zero",
     "output_type": "error",
     "traceback": [
      "\u001b[1;31m---------------------------------------------------------------------------\u001b[0m",
      "\u001b[1;31mZeroDivisionError\u001b[0m                         Traceback (most recent call last)",
      "\u001b[1;32m<ipython-input-1-e1965806ec03>\u001b[0m in \u001b[0;36m<module>\u001b[1;34m\u001b[0m\n\u001b[1;32m----> 1\u001b[1;33m \u001b[1;36m3\u001b[0m \u001b[1;33m/\u001b[0m \u001b[1;36m0\u001b[0m\u001b[1;33m\u001b[0m\u001b[1;33m\u001b[0m\u001b[0m\n\u001b[0m",
      "\u001b[1;31mZeroDivisionError\u001b[0m: division by zero"
     ]
    }
   ],
   "source": [
    "3 // 0"
   ]
  },
  {
   "cell_type": "code",
   "execution_count": 57,
   "metadata": {},
   "outputs": [],
   "source": [
    "def foo(s):\n",
    "  return \" \".join(sorted(s.split(), key = lambda x : sum(map(int, list(x)))))"
   ]
  },
  {
   "cell_type": "code",
   "execution_count": 1,
   "metadata": {},
   "outputs": [
    {
     "name": "stdout",
     "output_type": "stream",
     "text": [
      "<class '_io.TextIOWrapper'>\n"
     ]
    }
   ],
   "source": [
    "my_file = open(\"test.txt\")  # this syntax opens a 'txt' file \n",
    "\n",
    "print(type(my_file))"
   ]
  },
  {
   "cell_type": "code",
   "execution_count": 17,
   "metadata": {},
   "outputs": [
    {
     "name": "stdout",
     "output_type": "stream",
     "text": [
      "\n",
      "import streamlit as st\n",
      "import datetime\n",
      "\n",
      "st.title('Bu benim ilk Aplikasyonum')\n",
      "\n",
      "st.write('Buradaki forÃ¶u doldurmanÄ±z gerekiyor')\n",
      "\n"
     ]
    }
   ],
   "source": [
    "sea = open(\"test.txt\", 'r')   \n",
    "\n",
    "print(sea.read())  # displays the entire text content\n",
    "\n",
    "sea.close()  # be sure to close the file\n"
   ]
  },
  {
   "cell_type": "code",
   "execution_count": 64,
   "metadata": {},
   "outputs": [
    {
     "name": "stdout",
     "output_type": "stream",
     "text": [
      "\n",
      "import streamlit as st\n",
      "import\n",
      "32\n",
      "32\n"
     ]
    },
    {
     "data": {
      "text/plain": [
       "0"
      ]
     },
     "execution_count": 64,
     "metadata": {},
     "output_type": "execute_result"
    }
   ],
   "source": [
    "sea = open(\"test.txt\", 'r')   \n",
    "print((sea.read(30)))\n",
    "print(sea.tell())\n",
    "sea.seek(0, 1)\n",
    "print(sea.tell())\n",
    "sea.seek(0)"
   ]
  },
  {
   "cell_type": "code",
   "execution_count": 61,
   "metadata": {},
   "outputs": [
    {
     "name": "stdout",
     "output_type": "stream",
     "text": [
      "['\\n', 'import streamlit as st\\n', 'import datetime\\n', '\\n', \"st.title('Bu benim ilk Aplikasyonum')\\n\", '\\n', \"st.write('Buradaki forÃ¶u doldurmanÄ±z gerekiyor')\\n\"]\n"
     ]
    }
   ],
   "source": [
    "print(sea.readlines())"
   ]
  },
  {
   "cell_type": "code",
   "execution_count": 62,
   "metadata": {},
   "outputs": [
    {
     "name": "stdout",
     "output_type": "stream",
     "text": [
      "<class 'list'>\n"
     ]
    }
   ],
   "source": [
    "print(type(sea.readlines()))\n"
   ]
  },
  {
   "cell_type": "code",
   "execution_count": 65,
   "metadata": {},
   "outputs": [
    {
     "name": "stdout",
     "output_type": "stream",
     "text": [
      "\n",
      "\n",
      "import streamlit as st\n",
      "\n",
      "import datetime\n",
      "\n",
      "\n",
      "\n",
      "st.title('Bu benim ilk Aplikasyonum')\n",
      "\n",
      "\n",
      "\n",
      "st.write('Buradaki forÃ¶u doldurmanÄ±z gerekiyor')\n",
      "\n"
     ]
    }
   ],
   "source": [
    "for line in sea.readlines():\n",
    "    print(line)"
   ]
  },
  {
   "cell_type": "code",
   "execution_count": 66,
   "metadata": {},
   "outputs": [
    {
     "name": "stdout",
     "output_type": "stream",
     "text": [
      "\n",
      "import streamlit as st\n",
      "import datetime\n",
      "\n",
      "st.title('Bu benim ilk Aplikasyonum')\n",
      "\n",
      "st.write('Buradaki forÃ¶u doldurmanÄ±z gerekiyor')\n",
      "\n"
     ]
    }
   ],
   "source": [
    "with open(\"test.txt\", \"r\") as sea:\n",
    "    print(sea.read())  # needs indented code block"
   ]
  },
  {
   "cell_type": "code",
   "execution_count": null,
   "metadata": {},
   "outputs": [],
   "source": [
    "my_file"
   ]
  },
  {
   "cell_type": "code",
   "execution_count": 10,
   "metadata": {},
   "outputs": [
    {
     "name": "stdin",
     "output_type": "stream",
     "text": [
      "enter your favourite fruit a\n"
     ]
    },
    {
     "name": "stdout",
     "output_type": "stream",
     "text": [
      "Something is wrong!, enter only numeric value pleease you have 0\n",
      "enjoy with fresh fruits.\n"
     ]
    },
    {
     "name": "stdin",
     "output_type": "stream",
     "text": [
      "enter your favourite fruit a\n"
     ]
    },
    {
     "name": "stdout",
     "output_type": "stream",
     "text": [
      "Something is wrong!, enter only numeric value pleease you have 2\n",
      "enjoy with fresh fruits.\n"
     ]
    }
   ],
   "source": [
    "fruits= ['banana', \"mango\"]\n",
    "n = 0\n",
    "while n <= 3:\n",
    "    try:\n",
    "        f = int(input('enter your favourite fruit'))\n",
    "        print('my favourite fruit:', fruits[f])\n",
    "        break       \n",
    "    except ValueError:\n",
    "        print('Something is wrong!, enter only numeric value pleease', f'you have {n}' )\n",
    "        n += 1\n",
    "    except IndexError:\n",
    "        print('Something is wrong!, enter only valid value pleease', f'you have {n}')\n",
    "        n += 1\n",
    "    else:\n",
    "        print('Congrats', f'you have {n}')\n",
    "        break\n",
    "    finally:\n",
    "        print('enjoy with fresh fruits.')\n",
    "        n += 1"
   ]
  },
  {
   "cell_type": "code",
   "execution_count": 12,
   "metadata": {},
   "outputs": [
    {
     "name": "stdin",
     "output_type": "stream",
     "text": [
      "enter your favoruite fruit index number 26\n"
     ]
    },
    {
     "name": "stdout",
     "output_type": "stream",
     "text": [
      "index is not true. Please enter true index number.you can try only 2 times\n",
      "Our fruits are always fresh\n"
     ]
    },
    {
     "name": "stdin",
     "output_type": "stream",
     "text": [
      "enter your favoruite fruit index number 56\n"
     ]
    },
    {
     "name": "stdout",
     "output_type": "stream",
     "text": [
      "index is not true. Please enter true index number.you can try only 1 times\n",
      "Our fruits are always fresh\n"
     ]
    },
    {
     "name": "stdin",
     "output_type": "stream",
     "text": [
      "enter your favoruite fruit index number 78\n"
     ]
    },
    {
     "name": "stdout",
     "output_type": "stream",
     "text": [
      "index is not true. Please enter true index number.you can try only 0 times\n",
      "Our fruits are always fresh\n"
     ]
    }
   ],
   "source": [
    "fruits = [\"banana\", \"mango\", \"pear\", \"apple\", \"kiwi\", \"grape\"]\n",
    "count =3\n",
    "while count>0:\n",
    "    try:\n",
    "        index = int(input(\"enter your favoruite fruit index number\"))\n",
    "        print(\"My favotuite fruit is {} \".format(fruits[index]))\n",
    "        break\n",
    "    except IndexError:\n",
    "        count -=1\n",
    "        print(f\"index is not true. Please enter true index number.you can try only {count} times\")\n",
    "    except ValueError:\n",
    "        count -= 1\n",
    "        print(f\"Enter a true and integer value, try again. You try {count} times only.\")\n",
    "    else:\n",
    "        print(\"Congragulations. You entered true\")\n",
    "        break\n",
    "    finally:\n",
    "        print(\"Our fruits are always fresh\")\n"
   ]
  },
  {
   "cell_type": "code",
   "execution_count": 13,
   "metadata": {},
   "outputs": [
    {
     "data": {
      "text/plain": [
       "'C:\\\\Users\\\\BAHAR'"
      ]
     },
     "execution_count": 13,
     "metadata": {},
     "output_type": "execute_result"
    }
   ],
   "source": [
    "pwd\n"
   ]
  },
  {
   "cell_type": "code",
   "execution_count": 16,
   "metadata": {},
   "outputs": [
    {
     "name": "stdout",
     "output_type": "stream",
     "text": [
      "Orca is a kind of Dolphin.\n",
      "Blue Whale is the largest animal known on earth.\n",
      "Sharks are the sister group to the Rays (batoids).\n",
      "The Tuna Fish can weigh up to 260 kg.\n",
      "Squid and Octopus are in the same class.\n"
     ]
    }
   ],
   "source": [
    "sea = open('fishes.txt', 'r')\n",
    "print(sea.read())\n",
    "sea.close()\n"
   ]
  },
  {
   "cell_type": "code",
   "execution_count": 2,
   "metadata": {},
   "outputs": [
    {
     "name": "stdout",
     "output_type": "stream",
     "text": [
      "I want to sing.\n",
      "Likte the birds si\n",
      "ng,\n",
      "Not worry\n",
      "47\n",
      ".\n",
      "Likte the birds si\n"
     ]
    }
   ],
   "source": [
    "rumi = open('rumi.txt', encoding = 'utf-8')\n",
    "print(rumi.read(34))\n",
    "print(rumi.read(13))\n",
    "print(rumi.tell())\n",
    "rumi.seek(14)\n",
    "print(rumi.read(20))\n",
    "rumi.close()"
   ]
  },
  {
   "cell_type": "code",
   "execution_count": 5,
   "metadata": {},
   "outputs": [
    {
     "name": "stdout",
     "output_type": "stream",
     "text": [
      "I want to sing.\n",
      "\n"
     ]
    }
   ],
   "source": [
    "rumi = open('rumi.txt', encoding = 'utf-8')\n",
    "print(rumi.readline())\n",
    "\n",
    "rumi.close()"
   ]
  },
  {
   "cell_type": "code",
   "execution_count": 9,
   "metadata": {},
   "outputs": [
    {
     "name": "stdout",
     "output_type": "stream",
     "text": [
      "Orca is a kind of Dolphin.\n",
      "\n",
      "\n"
     ]
    }
   ],
   "source": [
    "sea = open(\"fishes.txt\", 'r')\n",
    "print(sea.readline(26))\n",
    "print(sea.readline(13))\n",
    "sea.close()"
   ]
  },
  {
   "cell_type": "code",
   "execution_count": 14,
   "metadata": {},
   "outputs": [
    {
     "name": "stdout",
     "output_type": "stream",
     "text": [
      "Orca is a kind\n",
      " of Dolphin.\n",
      "\n",
      "Blue Whale is the largest animal known on earth.\n",
      "\n",
      "bitti\n"
     ]
    }
   ],
   "source": [
    "sea = open(\"fishes.txt\", 'r')\n",
    "print(sea.readline(14))  # displays the first line of the text\n",
    "print(sea.readline(14))  # displays the second line\n",
    "print(sea.readline(90))  # each time it goes to the new line\n",
    "print('bitti')\n",
    "sea.close()"
   ]
  },
  {
   "cell_type": "code",
   "execution_count": 15,
   "metadata": {},
   "outputs": [
    {
     "name": "stdout",
     "output_type": "stream",
     "text": [
      "Orca is a kind of Dolphin.\n",
      "\n",
      "Blue Whale is the largest animal known on earth.\n",
      "\n",
      "Sharks are the sister group to the Rays (batoids).\n",
      "\n",
      "The Tuna Fish can weigh up to 260 kg.\n",
      "\n",
      "Squid and Octopus are in the same class.\n",
      "Orca is a kind of Dolphin.\n",
      "enter\n",
      "Blue Whale is the largest animal known on earth.\n",
      "enter\n",
      "Sharks are the sister group to the Rays (batoids).\n",
      "enter\n",
      "The Tuna Fish can weigh up to 260 kg.\n",
      "enter\n",
      "Squid and Octopus are in the same class.enter\n"
     ]
    }
   ],
   "source": [
    "sea = open(\"fishes.txt\", 'r')\n",
    "\n",
    "for line in sea:\n",
    "    print(line)\n",
    "\n",
    "sea.seek(0)\n",
    "\n",
    "for line in sea.readlines():\n",
    "    print(line+'enter')\n",
    "    \n",
    "\n",
    "sea.close()"
   ]
  },
  {
   "cell_type": "code",
   "execution_count": 3,
   "metadata": {},
   "outputs": [
    {
     "name": "stdout",
     "output_type": "stream",
     "text": [
      "I want to sing.\n",
      "\n",
      "Likte the birds sing,\n",
      "\n",
      "Not worrying about\n",
      "\n",
      "Who hears or\n",
      "\n",
      "What they think.\n"
     ]
    }
   ],
   "source": [
    "rumi = open(\"rumi.txt\", 'r')\n",
    "for line in rumi.readlines():\n",
    "    print(line)"
   ]
  },
  {
   "cell_type": "code",
   "execution_count": 12,
   "metadata": {},
   "outputs": [
    {
     "name": "stdout",
     "output_type": "stream",
     "text": [
      "Orca is a kind of Dolphin.\n",
      "\n",
      "Blue Whale is the largest animal known on earth.\n",
      "enter\n",
      "Sharks are the sister group to the Rays (batoids).\n",
      "enter\n",
      "The Tuna Fish can weigh up to 260 kg.\n",
      "enter\n",
      "Squid and Octopus are in the same class.enter\n"
     ]
    }
   ],
   "source": [
    "sea = open(\"fishes.txt\", 'r')\n",
    "print(sea.readline(27))\n",
    "\n",
    "for line in sea.readlines():\n",
    "    print(line + 'enter')\n",
    "sea.close()"
   ]
  },
  {
   "cell_type": "code",
   "execution_count": 29,
   "metadata": {},
   "outputs": [],
   "source": [
    "with open('first.txt', 'w', encoding = 'utf-8') as file: \n",
    "    file.write('my first file.\\nmy second file.')"
   ]
  },
  {
   "cell_type": "code",
   "execution_count": 30,
   "metadata": {},
   "outputs": [
    {
     "name": "stdout",
     "output_type": "stream",
     "text": [
      "my first file.\n",
      "my second file.\n"
     ]
    }
   ],
   "source": [
    "with open('first.txt', 'r', encoding = 'utf-8') as file: \n",
    "    print(file.read())"
   ]
  },
  {
   "cell_type": "code",
   "execution_count": 31,
   "metadata": {},
   "outputs": [],
   "source": [
    "with open('first.txt', 'a', encoding = 'utf-8') as file: \n",
    "    file.write('\\nmy third file.')"
   ]
  },
  {
   "cell_type": "code",
   "execution_count": 32,
   "metadata": {},
   "outputs": [
    {
     "name": "stdout",
     "output_type": "stream",
     "text": [
      "my first file.\n",
      "my second file.\n",
      "my third file.\n"
     ]
    }
   ],
   "source": [
    "with open('first.txt', 'r', encoding = 'utf-8') as file: \n",
    "    print(file.read())"
   ]
  },
  {
   "cell_type": "code",
   "execution_count": 35,
   "metadata": {},
   "outputs": [
    {
     "name": "stdout",
     "output_type": "stream",
     "text": [
      "['my first file.\\n', 'my second file.\\n', 'my third file.']\n"
     ]
    }
   ],
   "source": [
    "with open('first.txt', 'r', encoding = 'utf-8') as file: \n",
    "        print(file.readlines())"
   ]
  },
  {
   "cell_type": "code",
   "execution_count": null,
   "metadata": {},
   "outputs": [],
   "source": [
    "with open('fruits.csv', 'r, encoding = 'utf-8') as file:\n",
    "          csv_rows = csv.reader(file)"
   ]
  },
  {
   "cell_type": "code",
   "execution_count": null,
   "metadata": {},
   "outputs": [],
   "source": [
    "import csv  # loads csv module\n",
    "\n",
    "with open(\"fruits.csv\", 'r', newline = '', encoding = 'utf-8') as file:\n",
    "    csv_rows = csv.reader(file)  # reader() function takes each\n",
    "                                 # row (lines) into a list\n",
    "    for row in csv_rows: \n",
    "        print(row)  "
   ]
  },
  {
   "cell_type": "code",
   "execution_count": null,
   "metadata": {},
   "outputs": [],
   "source": [
    "import csv\n",
    "\n",
    "with open(\"fruits.csv\", 'r', newline = '', encoding = 'utf-8') as file:\n",
    "    csv_rows = csv.reader(file, delimiter= \",\")  # gives the same output as the previous one\n",
    "                                 \n",
    "    for row in csv_rows: \n",
    "        print(row)        "
   ]
  },
  {
   "cell_type": "code",
   "execution_count": null,
   "metadata": {},
   "outputs": [],
   "source": [
    "import csv \n",
    "\n",
    "with open(\"fruits.csv\", 'r', newline = '', encoding = 'utf-8') as file:\n",
    "    csv_rows = csv.reader(file, delimiter = ':')  # we specified a char \":\" that is not used\n",
    "                                                  # in the csv file as a value of delimiter\n",
    "    for row in csv_rows: \n",
    "        print(row)        "
   ]
  },
  {
   "cell_type": "code",
   "execution_count": 118,
   "metadata": {},
   "outputs": [
    {
     "data": {
      "text/html": [
       "<div>\n",
       "<style scoped>\n",
       "    .dataframe tbody tr th:only-of-type {\n",
       "        vertical-align: middle;\n",
       "    }\n",
       "\n",
       "    .dataframe tbody tr th {\n",
       "        vertical-align: top;\n",
       "    }\n",
       "\n",
       "    .dataframe thead th {\n",
       "        text-align: right;\n",
       "    }\n",
       "</style>\n",
       "<table border=\"1\" class=\"dataframe\">\n",
       "  <thead>\n",
       "    <tr style=\"text-align: right;\">\n",
       "      <th></th>\n",
       "      <th>Rank</th>\n",
       "      <th>Grade</th>\n",
       "      <th>Channel name</th>\n",
       "      <th>Video Uploads</th>\n",
       "      <th>Subscribers</th>\n",
       "      <th>Video views</th>\n",
       "    </tr>\n",
       "  </thead>\n",
       "  <tbody>\n",
       "    <tr>\n",
       "      <td>0</td>\n",
       "      <td>1st</td>\n",
       "      <td>A++</td>\n",
       "      <td>Zee TV</td>\n",
       "      <td>82757</td>\n",
       "      <td>18752951</td>\n",
       "      <td>20869786591</td>\n",
       "    </tr>\n",
       "    <tr>\n",
       "      <td>1</td>\n",
       "      <td>2nd</td>\n",
       "      <td>A++</td>\n",
       "      <td>T-Series</td>\n",
       "      <td>12661</td>\n",
       "      <td>61196302</td>\n",
       "      <td>47548839843</td>\n",
       "    </tr>\n",
       "    <tr>\n",
       "      <td>2</td>\n",
       "      <td>3rd</td>\n",
       "      <td>A++</td>\n",
       "      <td>Cocomelon - Nursery Rhymes</td>\n",
       "      <td>373</td>\n",
       "      <td>19238251</td>\n",
       "      <td>9793305082</td>\n",
       "    </tr>\n",
       "    <tr>\n",
       "      <td>3</td>\n",
       "      <td>4th</td>\n",
       "      <td>A++</td>\n",
       "      <td>SET India</td>\n",
       "      <td>27323</td>\n",
       "      <td>31180559</td>\n",
       "      <td>22675948293</td>\n",
       "    </tr>\n",
       "    <tr>\n",
       "      <td>4</td>\n",
       "      <td>5th</td>\n",
       "      <td>A++</td>\n",
       "      <td>WWE</td>\n",
       "      <td>36756</td>\n",
       "      <td>32852346</td>\n",
       "      <td>26273668433</td>\n",
       "    </tr>\n",
       "    <tr>\n",
       "      <td>...</td>\n",
       "      <td>...</td>\n",
       "      <td>...</td>\n",
       "      <td>...</td>\n",
       "      <td>...</td>\n",
       "      <td>...</td>\n",
       "      <td>...</td>\n",
       "    </tr>\n",
       "    <tr>\n",
       "      <td>4995</td>\n",
       "      <td>4,996th</td>\n",
       "      <td>B+</td>\n",
       "      <td>Uras Benlioğlu</td>\n",
       "      <td>706</td>\n",
       "      <td>2072942</td>\n",
       "      <td>441202795</td>\n",
       "    </tr>\n",
       "    <tr>\n",
       "      <td>4996</td>\n",
       "      <td>4,997th</td>\n",
       "      <td>B+</td>\n",
       "      <td>HI-TECH MUSIC LTD</td>\n",
       "      <td>797</td>\n",
       "      <td>1055091</td>\n",
       "      <td>377331722</td>\n",
       "    </tr>\n",
       "    <tr>\n",
       "      <td>4997</td>\n",
       "      <td>4,998th</td>\n",
       "      <td>B+</td>\n",
       "      <td>Mastersaint</td>\n",
       "      <td>110</td>\n",
       "      <td>3265735</td>\n",
       "      <td>311758426</td>\n",
       "    </tr>\n",
       "    <tr>\n",
       "      <td>4998</td>\n",
       "      <td>4,999th</td>\n",
       "      <td>B+</td>\n",
       "      <td>Bruce McIntosh</td>\n",
       "      <td>3475</td>\n",
       "      <td>32990</td>\n",
       "      <td>14563764</td>\n",
       "    </tr>\n",
       "    <tr>\n",
       "      <td>4999</td>\n",
       "      <td>5,000th</td>\n",
       "      <td>B+</td>\n",
       "      <td>SehatAQUA</td>\n",
       "      <td>254</td>\n",
       "      <td>21172</td>\n",
       "      <td>73312511</td>\n",
       "    </tr>\n",
       "  </tbody>\n",
       "</table>\n",
       "<p>5000 rows × 6 columns</p>\n",
       "</div>"
      ],
      "text/plain": [
       "         Rank Grade                Channel name Video Uploads Subscribers  \\\n",
       "0         1st  A++                       Zee TV         82757    18752951   \n",
       "1         2nd  A++                     T-Series         12661    61196302   \n",
       "2         3rd  A++   Cocomelon - Nursery Rhymes           373    19238251   \n",
       "3         4th  A++                    SET India         27323    31180559   \n",
       "4         5th  A++                          WWE         36756    32852346   \n",
       "...       ...   ...                         ...           ...         ...   \n",
       "4995  4,996th   B+               Uras Benlioğlu           706     2072942   \n",
       "4996  4,997th   B+            HI-TECH MUSIC LTD           797     1055091   \n",
       "4997  4,998th   B+                  Mastersaint           110     3265735   \n",
       "4998  4,999th   B+               Bruce McIntosh          3475       32990   \n",
       "4999  5,000th   B+                    SehatAQUA           254       21172   \n",
       "\n",
       "      Video views  \n",
       "0     20869786591  \n",
       "1     47548839843  \n",
       "2      9793305082  \n",
       "3     22675948293  \n",
       "4     26273668433  \n",
       "...           ...  \n",
       "4995    441202795  \n",
       "4996    377331722  \n",
       "4997    311758426  \n",
       "4998     14563764  \n",
       "4999     73312511  \n",
       "\n",
       "[5000 rows x 6 columns]"
      ]
     },
     "execution_count": 118,
     "metadata": {},
     "output_type": "execute_result"
    }
   ],
   "source": [
    "import pandas as pd\n",
    "\n",
    "df = pd.read_csv('dataset/youtube.csv')\n",
    "df\n"
   ]
  },
  {
   "cell_type": "code",
   "execution_count": 3,
   "metadata": {
    "collapsed": true,
    "jupyter": {
     "outputs_hidden": true
    }
   },
   "outputs": [
    {
     "name": "stdout",
     "output_type": "stream",
     "text": [
      "Rank,Grade,Channel name,Video Uploads,Subscribers,Video views\n",
      "1st,A++ ,Zee TV,82757,18752951,20869786591\n",
      "2nd,A++ ,T-Series,12661,61196302,47548839843\n",
      "3rd,A++ ,Cocomelon - Nursery Rhymes,373,19238251,9793305082\n",
      "4th,A++ ,SET India,27323,31180559,22675948293\n",
      "5th,A++ ,WWE,36756,32852346,26273668433\n",
      "6th,A++ ,Movieclips,30243,17149705,16618094724\n",
      "7th,A++ ,netd müzik,8500,11373567,23898730764\n",
      "8th,A++ ,ABS-CBN Entertainment,100147,12149206,17202609850\n",
      "9th,A++ ,Ryan ToysReview,1140,16082927,24518098041\n",
      "10th,A++ ,Zee Marathi,74607,2841811,2591830307\n",
      "11th,A+ ,5-Minute Crafts,2085,33492951,8587520379\n",
      "12th,A+ ,Canal KondZilla,822,39409726,19291034467\n",
      "13th,A+ ,Like Nastya Vlog,150,7662886,2540099931\n",
      "14th,A+ ,Ozuna,50,18824912,8727783225\n",
      "15th,A+ ,Wave Music,16119,15899764,10989179147\n",
      "16th,A+ ,Ch3Thailand,49239,11569723,9388600275\n",
      "17th,A+ ,WORLDSTARHIPHOP,4778,15830098,11102158475\n",
      "18th,A+ ,Vlad and Nikita,53,-- ,1428274554\n",
      "19th,A+ ,Badabun,3060,23603062,5860444053\n",
      "20th,A+ ,WorkpointOfficial,24287,17687229,14022189654\n",
      "21st,A+ ,xxxtentacion,48,11593509,2029279311\n",
      "22nd,A+ ,Zee Music Company,3403,23440427,11666909155\n",
      "23rd,A+ ,SAB TV,19358,11347420,9572788450\n",
      "24th,A+ ,DeadloxMC,1833,2137907,245437560\n",
      "25th,A+ ,ETV Andhra Pradesh,186194,712562,349096736\n",
      "26th,A+ ,Shemaroo Filmi Gaane,5076,14469618,6585569190\n",
      "27th,A+ ,ibighit,277,16924523,3437613314\n",
      "28th,A+ ,El Reino Infantil,555,15836366,16395683234\n",
      "29th,A+ ,Zee Telugu,92250,2902714,2754482753\n",
      "30th,A+ ,Kirin AMV's,230,459906,224608044\n",
      "31st,A+ ,Zee Bangla,79497,3102246,2867901827\n",
      "32nd,A+ ,Stacy Toys,91,5992452,1576070985\n",
      "33rd,A+ ,Toys and Colors,127,4746069,2250065105\n",
      "34th,A+ ,InfantiLandia,710,7504480,2135402141\n",
      "35th,A+ ,Top Breaking News,848,1120620,291002673\n",
      "36th,A+ ,Colors TV,23504,12466776,8354699608\n",
      "37th,A+ ,Goldmines Telefilms,206,14011180,555853544\n",
      "38th,A+ ,one31,47805,10878372,7614312491\n",
      "39th,A+ ,[토이푸딩] ToyPudding TV,2201,18777612,11920370065\n",
      "40th,A+ ,CKN Toys,431,8816598,7498069721\n",
      "41st,A+ ,GMA Network,65757,6270681,7373478009\n",
      "42nd,A+ ,Zé Neto e Cristiano,102,6154173,3232954352\n",
      "43rd,A+ ,Inside Edition,14643,4391875,5542203386\n",
      "44th,A+ ,GRAMMY GOLD OFFICIAL,2943,7385239,6480263464\n",
      "45th,A+ ,RedeTV,15672,5604245,3317197927\n",
      "46th,A+ ,Bouncing Baby TV,30,2869857,493923518\n",
      "47th,A+ ,Speed Records,5704,14903053,7823927253\n",
      "48th,A+ ,GR6 EXPLODE,2517,16813027,7609346952\n",
      "49th,A+ ,Sony Music India,2204,15862389,6738087055\n",
      "50th,A+ ,Infobells - Hindi,169,7546139,3919961629\n",
      "51st,A+ ,T-Series Apna Punjab,3437,10055513,5384101851\n",
      "52nd,A ,T-Series Bhakti Sagar,19447,10796918,4220899885\n",
      "53rd,A ,Tips Official,2321,10384600,4589770470\n",
      "54th,A ,Ultra Bollywood,10714,10490425,6239740374\n",
      "55th,A ,La Granja de Zenón,149,8781935,4473966039\n",
      "56th,A ,✿ Kids Diana Show,488,8983362,2492724832\n",
      "57th,A ,Boram Tube ToysReview [보람튜브…,136,3052780,849887197\n",
      "58th,A ,CVS 3D Rhymes,317,14925769,9454820754\n",
      "59th,A ,Maroon5VEVO,111,15720338,10355362290\n",
      "60th,A ,الرماس ميوزك,1905,8368289,5172463467\n",
      "61st,A ,Pencilmation,348,5283050,2499031601\n",
      "62nd,A ,1theK (원더케이),12942,12918410,10657097331\n",
      "63rd,A ,Pinkfong! Kids' Songs & Stories,1010,10538694,5761524025\n",
      "64th,A ,Ed Sheeran,122,33961184,14521211040\n",
      "65th,A ,SonyMusicIndiaVEVO,2958,13215636,6215499269\n",
      "66th,A ,Blossom,137,5375332,1251331678\n",
      "67th,A ,POPS Kids,3751,5621106,4908451376\n",
      "68th,A ,Shemaroo,6466,10846501,4795061785\n",
      "69th,A ,Gaane Sune Ansune,1778,9177850,4124067978\n",
      "70th,A ,Bolly HD 1080p,250,3832164,1427683110\n",
      "71st,A ,Vijay Television,19471,6456081,3686308830\n",
      "72nd,A ,DokuzSekiz Müzik,2253,1971613,2559979914\n",
      "73rd,A ,FGTeeV,1169,7910214,8437768629\n",
      "74th,A ,Erlania e Valentina,543,8900406,2058205665\n",
      "75th,A ,Маша и Медведь,568,16638993,16519985673\n",
      "76th,A ,Doggy Doggy Play Doh Cartoons,909,9994112,3155585139\n",
      "77th,A ,Asianet,31201,3310120,2450108456\n",
      "78th,A ,Eros Now,9852,13820875,8651382337\n",
      "79th,A ,ChuChu TV Nursery Rhymes & Kids…,254,19641153,15212759916\n",
      "80th,A ,Oyuncak Avı,393,3286612,1045924447\n",
      "81st,A ,Cauê Moura,487,5184068,518924050\n",
      "82nd,A ,Get Movies,2747,20186240,17362242300\n",
      "83rd,A ,SMTOWN,3274,15711312,11614803892\n",
      "84th,A ,Felipe Neto,1276,25069826,4455604361\n",
      "85th,A ,Galinha Pintadinha,47,13312085,9570884138\n",
      "86th,A ,YRF,3564,13419831,7280286813\n",
      "87th,A ,Dehati India NonVeg Masti,612,4546683,1950903340\n",
      "88th,A ,キッズライン♡Kids Line,2712,6421915,5406199624\n",
      "89th,A ,LooLoo Kids - Nursery Rhymes and…,481,10813220,4362878210\n",
      "90th,A ,Zaz Official,50,649081,242240716\n",
      "91st,A ,LazarBeam,959,4791790,1080083584\n",
      "92nd,A ,Aditya Music,14744,5940275,3871453495\n",
      "93rd,A ,hairong zheng,492,394,254252482\n",
      "94th,A ,BRIGHT SIDE,1547,16616187,3132608077\n",
      "95th,A ,Tekashi 6ix9ine,3,3108447,353018727\n",
      "96th,A ,Luccas Neto,487,18703101,3564747380\n",
      "97th,A ,NollywoodStreams,1528,2794475,1171653272\n",
      "98th,A ,MGR PRODUCTION,2069,733903,401477421\n",
      "99th,A ,BeckyGVEVO,53,6658776,3518844458\n",
      "100th,A ,GMM GRAMMY OFFICIAL,5980,13426454,13503732638\n",
      "101st,A ,LetsGoMartin - Nursery Rhymes,215,3665615,934322434\n",
      "102nd,A ,HTV2 Channel,5868,3798574,2073246834\n",
      "103rd,A ,Drake - Topic,979,1259842,888928894\n",
      "104th,A ,And TV,25709,2963630,2474453105\n",
      "105th,A ,Soft Box Türkiye,1487,1810809,1068359427\n",
      "106th,A ,mmoshaya,716,6832523,3881188263\n",
      "107th,A ,Rajshri,5608,8808619,4772954260\n",
      "108th,A ,Venus,4138,7878536,2898110156\n",
      "109th,A ,BIGFUN,373,-- ,941376171\n",
      "110th,A ,Bollywood Classics,1698,5532599,2608650285\n",
      "111th,A ,Давай поиграем в…,220,3409426,1101115153\n",
      "112th,A ,Webs & Tiaras - Toy Monster…,62,7203358,6727576995\n",
      "113th,A ,ImagineDragonsVEVO,94,10753521,5191219894\n",
      "114th,A ,Wave Music - Bhojpuri,14307,6133550,3379150048\n",
      "115th,A ,CookieSwirlC,2874,9213304,9298343650\n",
      "116th,A ,Bee Kids Games - Children TV,740,-- ,414535723\n",
      "117th,A ,قناة طيور الجنة |…,2218,9174889,8504219475\n",
      "118th,A ,Vidol TV,357,595068,338703141\n",
      "119th,A ,SIS vs BRO,253,6579270,2260525646\n",
      "120th,A ,BLACKPINK,179,11604439,2947790223\n",
      "121st,A ,BillionSurpriseToys - Nursery…,223,16271451,5183283439\n",
      "122nd,A ,shakiraVEVO,142,19689891,14533614800\n",
      "123rd,A ,Super Simple Songs - Kids Songs,445,11419859,10528195079\n",
      "124th,A ,Fischer's-フィッシャーズ-,1626,5015503,5418686430\n",
      "125th,A ,Animal Family,25,5032200,735698294\n",
      "126th,A ,Alan Walker,141,17225892,4666424253\n",
      "127th,A ,TheEllenShow,9066,27765423,13403860667\n",
      "128th,A ,Family Fun Pack,1253,7552928,10014750723\n",
      "129th,A ,SebastianYatraVEVO,21,2851437,2034588299\n",
      "130th,A ,For Kids Learn,66,647110,129490054\n",
      "131st,A ,Fozi Mozi,645,3564584,3232333195\n",
      "132nd,A ,Osman Vargas,884,3463566,3661895184\n",
      "133rd,A ,AnuelVEVO,29,1100382,651668495\n",
      "134th,A ,Goldmines,143,4679372,341081506\n",
      "135th,A ,Oops Zeros,514,548850,104953122\n",
      "136th,A ,Miss Katy,605,9684269,5704760485\n",
      "137th,A ,Las Ratitas,83,5768549,1308569692\n",
      "138th,A ,Marília Mendonça,69,9254263,5295016523\n",
      "139th,A ,LEGO,19293,6207095,8118958980\n",
      "140th,A ,Scopian01,801,1319834,1219988066\n",
      "141st,A ,Sonotek Haryanvi,6370,5873167,2130708836\n",
      "142nd,A ,DuDuPopTOY,683,4181344,2171187145\n",
      "143rd,A ,ChiChi TV Siêu Nhân,421,-- ,2600394871\n",
      "144th,A ,MusicTalentNow,1487,-- ,3252752212\n",
      "145th,A ,YoungBoy Never Broke Again,186,3318535,1665788162\n",
      "146th,A ,Rotana,5635,8539250,5738075498\n",
      "147th,A ,Volga Video,28663,6498020,3366976772\n",
      "148th,A ,Trap Nation,1458,22331643,7760362155\n",
      "149th,A ,FunFun ToyShow,447,4533982,1881201276\n",
      "150th,A ,EminemVEVO,80,26650488,11317532576\n",
      "151st,A ,Sonotek,8324,6591994,2590857091\n",
      "152nd,A ,KanalD,11237,3495070,5091658907\n",
      "153rd,A ,Family GamesTV,282,-- ,1287242549\n",
      "154th,A ,ZeeQ India,336,2435635,1105398427\n",
      "155th,A ,Nick Jr.,1817,3698840,3081781019\n",
      "156th,A ,eltrece,79561,4386345,4279834573\n",
      "157th,A ,KH Show,31,-- ,106302038\n",
      "158th,A ,Worldwide Records Bhojpuri,1872,5264436,2669933333\n",
      "159th,A ,Marshmello,187,19005512,3242956390\n",
      "160th,A ,Geet MP3,144,5743286,1341490754\n",
      "161st,A ,KiKiDo,263,2390570,1130123412\n",
      "162nd,A ,CanalKids HD,1500,4298926,1719001155\n",
      "163rd,A ,Toys And Little Gaby,192,4016859,859912280\n",
      "164th,A ,Lady Diana,183,2417650,675927454\n",
      "165th,A ,Mazhavil Manorama,28157,3021268,2625773225\n",
      "166th,A ,etvteluguindia,61222,4560715,4163302219\n",
      "167th,A ,Rainbow ToyTocToc,204,2503093,609961488\n",
      "168th,A ,Ultra Music,3586,14813447,9083272850\n",
      "169th,A ,Boo Kids,19,574063,114287401\n",
      "170th,A ,Boram Tube Vlog [보람튜브…,53,595409,145148497\n",
      "171st,A ,ThaiCh8 : ช่อง 8,41034,4830567,3581877042\n",
      "172nd,A ,Baby Big Mouth,3177,9038516,10463073138\n",
      "173rd,A ,Daddy Yankee,319,16490453,5770555736\n",
      "174th,A ,Televisa Telenovelas,14374,5195767,2964680826\n",
      "175th,A ,Dude Perfect,185,34489432,6095981611\n",
      "176th,A ,LES BOYS TV2,116,-- ,387595623\n",
      "177th,A ,LuisFonsiVEVO,54,18753006,9179054584\n",
      "178th,A ,BabyBus - Kids TV - Songs & Stories,1582,2217196,1547446077\n",
      "179th,A ,YRF Music,1047,5555085,2810150130\n",
      "180th,A ,1000virtudes,59,770249,170131284\n",
      "181st,A ,BIBO TOYS,313,-- ,1574657579\n",
      "182nd,A ,Team Films Bhojpuri,14690,4481993,2147683870\n",
      "183rd,A ,ChainsmokersVEVO,123,12482234,7310645610\n",
      "184th,A ,Strawberry Jam Toys,1101,1967981,629774385\n",
      "185th,A ,Mnet Official,10515,4341384,3078108849\n",
      "186th,A ,ETV Jabardasth,3256,4025243,2988842536\n",
      "187th,A ,Ryan's Family Review,313,2578422,3058055395\n",
      "188th,A ,ArianaGrandeVevo,81,19188513,9364195758\n",
      "189th,A ,Cardi B,32,6199546,1706942190\n",
      "190th,A ,Kids Tv Show,8,-- ,86516866\n",
      "191st,A ,OLIE THE CUB,546,5045423,1451072025\n",
      "192nd,A ,BERITA TERBARU HD,4873,140363,86550277\n",
      "193rd,A ,Happy Funny Kids Toys Pretend Play,850,-- ,1778372917\n",
      "194th,A ,jbalvinVEVO,128,14086158,10274251157\n",
      "195th,A ,Senya ToysReview,84,1610241,519942081\n",
      "196th,A ,Sen Anlat Karadeniz,681,2512665,1221563028\n",
      "197th,A ,Mr. Gengar,2032,1057326,767545532\n",
      "198th,A ,Learn Colors Keiki,6,-- ,89116512\n",
      "199th,A ,WatchMojo.com,15345,18586234,11155709987\n",
      "200th,A ,Troom Troom,644,8817758,2641942608\n",
      "201st,A ,JesseAndMike,393,6132965,4615275531\n",
      "202nd,A ,TotoyKids,709,10731825,5320123608\n",
      "203rd,A ,Learn and Play,146,2913780,699759061\n",
      "204th,A ,Aaj Tak,79184,9592793,2797505747\n",
      "205th,A ,Ninja,720,17828322,1284842810\n",
      "206th,A ,CartoonKiDS BR,919,3742294,1269907194\n",
      "207th,A ,Emily Tube,484,7500762,2489237217\n",
      "208th,A ,عائلة فيحان,603,3363912,2084734767\n",
      "209th,A ,Cartoon Network,6453,3571762,3374207995\n",
      "210th,A ,Ly LY ToysReview,33,-- ,90941513\n",
      "211th,A ,KatyPerryVEVO,125,26712128,16244535352\n",
      "212th,A ,BCC Trolling,3412,7468094,1724254525\n",
      "213th,A ,DanTDM,2917,20198608,13558498013\n",
      "214th,A ,Beat chất lượng cao,563,-- ,622132999\n",
      "215th,A ,David Dobrik,481,8886600,2964214601\n",
      "216th,A ,東海オンエア,1083,3600345,2612633025\n",
      "217th,A ,AmusementForce,6479,3041069,2218545018\n",
      "218th,A ,Funny Sofia Show,71,3611388,735430833\n",
      "219th,A ,KBS World TV,32124,7390999,5223168496\n",
      "220th,A ,Mikecrack,1135,6085829,1873472207\n",
      "221st,A ,Peppa Pig - Official Channel,272,5791309,2006762385\n",
      "222nd,A ,Genevieve's Playhouse - Toy…,420,5903099,2926005920\n",
      "223rd,A ,ItsFunneh,903,3031264,1894890613\n",
      "224th,A ,Purana Hindustan,91,-- ,501921413\n",
      "225th,A ,DisneyChannelLA,3526,9774825,7561193043\n",
      "226th,A ,Lucas and Marcus,341,11664682,2546704375\n",
      "227th,A ,Haryanvi Maina,3285,6257643,2787342302\n",
      "228th,A ,BuzzFeedVideo,5476,17357278,13969280371\n",
      "229th,A ,toycantando,278,8368583,4163736216\n",
      "230th,A ,David Guetta,446,18394349,9928572340\n",
      "231st,A ,Happy Lives,188,-- ,515722472\n",
      "232nd,A ,Synergy تامر مرسي,2850,1241829,856728863\n",
      "233rd,A ,Cole Bennett - Lyrical Lemonade,310,5251860,1555442427\n",
      "234th,A ,GMA Public Affairs,14974,2504473,1667235507\n",
      "235th,A ,Salih Reis'in Dünyası,237,-- ,2197191069\n",
      "236th,A ,News ThatMatter,365,-- ,77361248\n",
      "237th,A ,IndiaTV,120243,6576438,2865575385\n",
      "238th,A ,Beam Copphone,1140,1054924,1294100847\n",
      "239th,A ,PlayGammer100,7,-- ,261227\n",
      "240th,A ,Venus Movies,2830,5721768,2328521668\n",
      "241st,A ,Kids smile TV,70,2119502,746637831\n",
      "242nd,A ,Saturday Night Live,6422,6436457,4744558944\n",
      "243rd,A ,PopularMMOs,4214,15359835,11881872033\n",
      "244th,A ,Maria Clara & JP,392,3967499,1036658065\n",
      "245th,A ,Lizos Music,256,3289111,3555452040\n",
      "246th,A ,SiaVEVO,93,10579862,6599433518\n",
      "247th,A ,MTZ Manuel Turizo,9,3531337,1748814742\n",
      "248th,A ,GENIAL,1252,9473119,1293790665\n",
      "249th,A ,НТВ,33626,3083128,3084104476\n",
      "250th,A ,NaoFun Toys,1893,9515204,4889864688\n",
      "251st,A ,Россия 24,111520,2165801,2298969489\n",
      "252nd,A ,LosAngelesAzulesVEVO,63,1673608,2633311383\n",
      "253rd,A ,Green Gold,583,4035116,2000802080\n",
      "254th,A ,Flipkart,604,-- ,718345351\n",
      "255th,A ,はじめしゃちょー（hajime）…,1713,6880324,5414528635\n",
      "256th,A ,Los Juguetes BB,114,-- ,82824448\n",
      "257th,A ,NickyJamTV,215,16120428,10323118073\n",
      "258th,A ,Hear This Music,26,8453220,4298092532\n",
      "259th,A ,Flow La Movie,19,3906670,1310514561\n",
      "260th,A ,SyrebralVibes,255,1726047,1035058136\n",
      "261st,A ,RsiamMusic :…,1716,11037799,7248944248\n",
      "262nd,A ,Mister Max,692,8674860,5793558805\n",
      "263rd,A ,Mister Bean Number One Fan in HD -…,1764,4104585,1527175809\n",
      "264th,A ,Aditya Movies - Telugu & Hindi,3692,2258716,919189826\n",
      "265th,A ,CNN,142427,4686757,3574418617\n",
      "266th,A ,RomeoSantosVEVO,139,9198180,6898631721\n",
      "267th,A ,ครู นกเล็ก,1795,4525326,4129499307\n",
      "268th,  ,MidnightXChannel,--,-- ,190256974\n",
      "269th,A ,VanossGaming,859,23590547,9880562011\n",
      "270th,A ,Spinnin' Records,8758,22981517,13426887749\n",
      "271st,A ,Guava Juice,1165,11524140,4631090552\n",
      "272nd,A ,Little Baby Bum - Nursery Rhymes &…,680,16355206,17470709876\n",
      "273rd,A ,Armoo,177,407066,87279803\n",
      "274th,A ,Toys Unlimited,1498,5936545,4000941387\n",
      "275th,A ,5-Minute Crafts KIDS,908,6646318,1262160532\n",
      "276th,A ,IndiaiStore,6,192230,70748180\n",
      "277th,A ,ToysPlay,98,956357,413449527\n",
      "278th,A ,Fueled By Ramen,1147,11041504,9921804596\n",
      "279th,A ,Star Casablanca | نجوم…,533,3850735,1477710857\n",
      "280th,A ,Lachlan,2999,7470765,1774695359\n",
      "281st,A ,El Reino a Jugar,248,4554690,2087077770\n",
      "282nd,A ,DopeLyrics,526,2726479,1532978759\n",
      "283rd,A ,CalvinHarrisVEVO,103,12841749,9509573498\n",
      "284th,A ,Wow Kidz,3332,5241934,3537059454\n",
      "285th,A ,SriBalajiMovies,18006,4504323,3345586246\n",
      "286th,A ,Blippi Español,44,2196327,862348058\n",
      "287th,A ,Just Kidding Pranks,708,2258303,1471393006\n",
      "288th,A ,\"せんももあいしーCh Sen,…\",2512,3727952,3769698238\n",
      "289th,A ,Mnet K-POP,12959,8046493,4436534481\n",
      "290th,A ,Bounce Patrol Kids,145,4000495,2577351909\n",
      "291st,A ,Blippi Toys,107,2358324,1810656447\n",
      "292nd,A ,Sham Drama شام دراما,6494,-- ,885923365\n",
      "293rd,A ,The ACE Family,353,11312621,1726592121\n",
      "294th,A ,Kırgın Çiçekler,2805,1050905,1630495982\n",
      "295th,A ,ThaliaVEVO,131,2346267,2374791524\n",
      "296th,A ,Raffy Tulfo in Action,1649,1446017,615545631\n",
      "297th,A ,Phim HOT TK-L,2529,1221977,699287518\n",
      "298th,A ,KSI,1164,19631845,4491304033\n",
      "299th,A ,Logan Paul Vlogs,562,18487595,3981804622\n",
      "300th,A ,Come Play With Me,189,4013370,3897267590\n",
      "301st,A ,SonyMusicSouthVEVO,3513,4577095,3540450188\n",
      "302nd,A ,michaeljacksonVEVO,92,8529288,5616336614\n",
      "303rd,A ,MBCentertainment,58514,4030820,5187454046\n",
      "304th,A ,MrBeast,676,7990777,896576201\n",
      "305th,A ,TaylorSwiftVEVO,86,28133287,15476966737\n",
      "306th,A ,JuegaGerman,1467,28889480,7825801479\n",
      "307th,A ,DrakeVEVO,38,9987454,4908039128\n",
      "308th,A ,حِرف إبداعية في 5…,845,2599157,567724680\n",
      "309th,A ,Jake Paul,694,16902261,4939708131\n",
      "310th,A ,jypentertainment,797,9509594,4761221692\n",
      "311th,A ,Just For Laughs Gags,4146,7985983,4340439049\n",
      "312th,A ,Anand Audio,3426,2306908,1228011095\n",
      "313th,A ,La Rosa Hd,1459,2287705,1099701030\n",
      "314th,A ,MalumaVEVO,90,15164001,10120591416\n",
      "315th,A ,icanrockyourworld,8,3891968,2420286079\n",
      "316th,A ,La Rosa de Guadalupe,1454,3424646,1415089435\n",
      "317th,A ,Tom Slime,289,2651748,750583917\n",
      "318th,A ,T-Play,116,1638966,518466711\n",
      "319th,A ,Caso Cerrado,2646,3932772,2203762925\n",
      "320th,A ,Coldplay,202,12635238,7881678521\n",
      "321st,A ,realnollywoodclips,2898,3840010,1222587049\n",
      "322nd,A ,Rahatlatıcı Videolar,218,817938,214359214\n",
      "323rd,A ,Ghiền Phim Hàn,854,-- ,1072407139\n",
      "324th,A ,GMA News,269065,2599175,2786949164\n",
      "325th,A ,Hamtaro Gasa,395,976130,651702290\n",
      "326th,A ,Candy Play TV Russian,198,709587,166534634\n",
      "327th,A ,Bollywood Event Talkies,10,-- ,350\n",
      "328th,A ,SSSniperWolf,1930,11657566,2537293803\n",
      "329th,A ,Stephen Sharer,390,4149328,1410581249\n",
      "330th,A ,Toys Kids TV,52,2822933,514414041\n",
      "331st,A ,Brancoala,692,3938021,1942176648\n",
      "332nd,A ,Rainbow Learning,922,4512958,1946973161\n",
      "333rd,A ,Markiplier,4196,21770508,10053970560\n",
      "334th,A ,Smile 4ever,115,636609,102185590\n",
      "335th,A ,ninja,6,547,2127264\n",
      "336th,A ,Cut,819,5961268,1709469538\n",
      "337th,A ,MikelTube,557,1992474,1230314566\n",
      "338th,A ,Çizgi Film Oyuncakları,31,2648105,510380802\n",
      "339th,A ,Soulstice Music Group,11,92158,63748543\n",
      "340th,A ,الحب لا يفهم الكلام,148,912967,448991721\n",
      "341st,A ,Codiscos,5179,3865413,2906524921\n",
      "342nd,A ,VEGETTA777,4710,23775389,9365416666\n",
      "343rd,A ,Kammy TV,19,480785,95827909\n",
      "344th,A ,Amazing Kids Toys Review,431,5005927,1273050905\n",
      "345th,A ,NoCopyrightSounds,524,18178014,4912160820\n",
      "346th,A ,Collins Key,216,13779702,2201959243\n",
      "347th,A ,Jhankar Station 07,205,-- ,78360362\n",
      "348th,A ,tlc uk,1355,1625205,977945315\n",
      "349th,A ,Enes Batur,1659,8427099,3675163152\n",
      "350th,A ,Goldmines Hindi,292,1719279,544187059\n",
      "351st,A ,Penguins TV,209,1121491,147266521\n",
      "352nd,A ,Think Music India,2356,3181532,1947872233\n",
      "353rd,A ,Rawan and Rayan,304,2510058,543214595\n",
      "354th,A ,EnriqueIglesiasVEVO,129,13859359,11245381351\n",
      "355th,A ,OmFut,4534,1263614,359983508\n",
      "356th,A ,jacksepticeye,3883,20279518,10029328079\n",
      "357th,A ,thairath,93500,3992315,2493477931\n",
      "358th,A ,Purani Kahani,66,-- ,205282926\n",
      "359th,A ,Você Sabia?,599,15494356,1605548778\n",
      "360th,A ,Barcroft TV,2133,5303195,4163257751\n",
      "361st,A ,DisneyMusicVEVO,714,11055805,6910079660\n",
      "362nd,A ,Martin Garrix,90,10432036,2856357178\n",
      "363rd,A ,Ali-A,2914,14847336,3890903315\n",
      "364th,A ,Nickelodeon,2856,4493420,2664911984\n",
      "365th,A ,MBC مصر,7783,4762083,2868206239\n",
      "366th,A ,rezendeevil,6515,19251064,6724579643\n",
      "367th,A ,TimKo Kid,230,1985005,671623629\n",
      "368th,A ,Wiz Khalifa,441,16079571,7977828657\n",
      "369th,A ,shfa,328,2009235,636233141\n",
      "370th,A ,ABS-CBN News,80773,4545223,3420909679\n",
      "371st,A ,RizaNovaUZ,8749,2220541,2254176139\n",
      "372nd,A ,Super Polina,253,3017957,730924615\n",
      "373rd,A ,infobells - Telugu,168,4290854,2352013080\n",
      "374th,A ,Bruno Mars,66,22429704,9585784755\n",
      "375th,A ,Atlantic Records,1051,8372200,7657631499\n",
      "376th,A ,Kinder Spielzeug Kanal,413,1125064,549165956\n",
      "377th,A ,خليجية,12492,3058938,1932816826\n",
      "378th,A ,KN Channel,559,4172856,2133463422\n",
      "379th,A ,BANGTANTV,876,11384073,1716165250\n",
      "380th,A ,Chotoonz TV,1031,3886360,2653184170\n",
      "381st,A ,Letupita725HD★,1824,1952190,2634818164\n",
      "382nd,A ,Pina Records,314,8053378,4579379824\n",
      "383rd,A ,El Blog del Narco,4449,-- ,70680037\n",
      "384th,A ,Ultra Regional,3502,2775635,1733863531\n",
      "385th,A ,Muselk,1232,6735667,1909329812\n",
      "386th,A ,avex,9197,4184884,6194595714\n",
      "387th,A ,The Late Late Show with James…,2798,16032156,4718424990\n",
      "388th,A ,White Hill Music,2709,4990716,2003373411\n",
      "389th,A ,Turma da Mônica,695,8831316,6994765647\n",
      "390th,A ,Bad Bunny,11,12685253,2612504875\n",
      "391st,A ,Like Nastya,214,9702841,2582895675\n",
      "392nd,A ,apple kids,70,-- ,370257049\n",
      "393rd,A ,DLS News,1579,-- ,514253195\n",
      "394th,A ,Thơ Nguyễn,630,4808885,2489747155\n",
      "395th,A ,Hasbro,8177,2646160,3506432060\n",
      "396th,A ,prenses elif,4313,2450645,3597618217\n",
      "397th,A ,ARY Digital,14632,4020969,2036985343\n",
      "398th,A ,Dessin Animé pour Enfants,37,1313196,393630715\n",
      "399th,A ,Telemundo,14718,5410907,3383609663\n",
      "400th,A ,Izabeloi,104,718687,175347702\n",
      "401st,A ,IGN,129191,10679348,8056294817\n",
      "402nd,A ,Shoof Drama | شوف دراما,4267,1489506,729940719\n",
      "403rd,A ,Flowers Comedy,2689,2114721,1512264736\n",
      "404th,A ,Got Talent Global,992,5018248,2143367052\n",
      "405th,A ,Alpha TV Greece,16299,340403,410943636\n",
      "406th,A ,FunToysMedia,369,4363996,1910133334\n",
      "407th,A ,HaAshVEVO,132,4159780,3687360151\n",
      "408th,A ,Goo Goo Colors,136,1466132,565375531\n",
      "409th,A ,Stone Music Entertainment,4889,5116532,3865093349\n",
      "410th,A ,HIMAWARIちゃんねる,945,1178829,1500659550\n",
      "411th,A ,ABC Kids TV,164,-- ,581905887\n",
      "412th,A ,Jingle Toons,166,5699402,1982602090\n",
      "413th,A ,Cartoon Network UK,2740,2516727,1768852473\n",
      "414th,A ,TheGrefg,2162,7624064,1783864167\n",
      "415th,A ,大劇獨播MZTV,5904,1078228,1112855844\n",
      "416th,A ,MEGA Oficial,18326,3977783,3031861293\n",
      "417th,A ,AuthenticGames,3442,15018366,6057239871\n",
      "418th,A ,KHANDESHI MOVIES,46,3804619,716709482\n",
      "419th,A ,Princess Hime Suite…,1351,1212057,2734803314\n",
      "420th,A ,Blippi,146,2562315,2129623713\n",
      "421st,A ,Поззи,1591,4036875,1744990310\n",
      "422nd,A ,Chad Wild Clay,240,4308377,743249597\n",
      "423rd,A ,Dr. Phil,7344,3048075,2462265858\n",
      "424th,A ,RCM Music Bhojpuri,3226,2348868,715715655\n",
      "425th,A ,OYUNCAKOYNUYORUM,445,2040038,983320601\n",
      "426th,A ,Art TV,63,978949,471248782\n",
      "427th,A ,POPS MUSIC,27103,5620849,5783417467\n",
      "428th,A ,ĐÔNG TÂY PROMOTION OFFICIAL,6013,2937893,1894511245\n",
      "429th,A ,Totoykids Español,331,2719453,1030161157\n",
      "430th,A ,Los Juguetes Son Divertidos,68,2382616,551969826\n",
      "431st,A ,RCTI - LAYAR DRAMA INDONESIA,27261,2564421,2394808587\n",
      "432nd,A ,Kluna Tik Compilations Channel,89,2308056,905063331\n",
      "433rd,A ,CreativeKids,425,1674121,1365779337\n",
      "434th,A ,As Aventuras de Poliana,417,2507568,474832282\n",
      "435th,A ,La Academia 2018,3367,75204,55530034\n",
      "436th,A ,JustinBieberVEVO,123,34284457,17806717170\n",
      "437th,A ,MK MUSIC,2922,5340320,2180744624\n",
      "438th,A ,LIV Kids Hindi,1448,1637590,802845001\n",
      "439th,A ,SuperMarioLogan,556,6284767,3429851617\n",
      "440th,A ,MigosVEVO,46,2025006,996504205\n",
      "441st,A ,HUM TV,13570,3156767,2240702588\n",
      "442nd,A ,AMARIN TVHD,71230,3460726,2713462365\n",
      "443rd,A ,เรื่องเล่าเช้านี้…,55857,3551228,2355053169\n",
      "444th,A ,TravisScottVEVO,35,2020441,1017381875\n",
      "445th,A ,FAMILY BOX,474,1155142,724294260\n",
      "446th,A ,Bebe Rexha,55,4988442,1653213776\n",
      "447th,A ,水溜りボンド,1385,3392050,1934297777\n",
      "448th,A ,Zee Tamil,48916,2805442,1954282147\n",
      "449th,A ,Clean Bandit,67,6067950,3889083754\n",
      "450th,A ,Sesame Street,2588,4043040,5203293409\n",
      "451st,A ,HikakinTV,2498,6544181,5141974207\n",
      "452nd,A ,TygaVEVO,119,3583808,1761645630\n",
      "453rd,A ,Toys Make Me Smile,75,3862981,1167700114\n",
      "454th,A ,Smooth POV,80,358149,76656569\n",
      "455th,A ,Ms. Hoi An,179,17669,60612460\n",
      "456th,A ,Camarroket,55,1401968,333811236\n",
      "457th,A ,Hüseyin Kuzu,8,334698,41216964\n",
      "458th,A ,Bi Bi TV,15,-- ,189292327\n",
      "459th,A ,Ch7HD,12892,3847648,1937954166\n",
      "460th,A ,Funny Family Games TV,542,1347687,1707375215\n",
      "461st,A ,E! Red Carpet & Live Events,5448,135115,178350550\n",
      "462nd,A ,Luisito Comunica,532,17945959,2051125858\n",
      "463rd,A ,Tiana,113,3101776,606853080\n",
      "464th,A ,Team Coco,7172,6387141,4862689027\n",
      "465th,A ,Survival Life,140,979196,323870835\n",
      "466th,A ,Zee Kannada,60513,1416231,1035395290\n",
      "467th,A ,Peppa Pig English Episodes,130,1093254,65664124\n",
      "468th,A ,Henrique e Juliano,162,7949807,5179163640\n",
      "469th,A ,SurpriseJoe,48,2540686,386270219\n",
      "470th,A ,Câmeras Escondidas Programa Silvio…,854,2914807,1170885826\n",
      "471st,A ,Talent Recap,1891,1894980,1348031374\n",
      "472nd,A ,Kids World TV,71,129991,83462115\n",
      "473rd,A ,TheWeekndVEVO,44,11386718,6743491448\n",
      "474th,A ,Pop Chartbusters,1897,4422554,2361822451\n",
      "475th,A ,reikVEVO,162,3671418,2858271708\n",
      "476th,A ,Mimonona Stories,260,3061713,866717463\n",
      "477th,A ,AzzyLand,869,5135349,1343344807\n",
      "478th,A ,Genierock,845,9229278,7597128741\n",
      "479th,A ,DenLion TV,94,1213669,340773472\n",
      "480th,A ,Jaeguchi,99,635626,279116731\n",
      "481st,A ,FBE,1723,17927894,7029613955\n",
      "482nd,A ,FAP TV,364,6959392,2664624642\n",
      "483rd,A ,V6 News Telugu,98889,2464042,1966034210\n",
      "484th,A ,MoBro94 Production,170,164336,89243332\n",
      "485th,A ,HTV Entertainment,10323,3389469,1825619072\n",
      "486th,A ,Dima Kids TV,172,4723922,1063983913\n",
      "487th,A ,★ Миёк ★,92,425702,71272697\n",
      "488th,A ,Kiddiestv Hindi,76,1933580,619646473\n",
      "489th,A ,DreamWorksTV,3805,4652958,3205836807\n",
      "490th,A ,#Refugio Mental,312,5895361,1262196983\n",
      "491st,A ,Bollywood Central,6630,41399,51660243\n",
      "492nd,A ,shane,1724,16966855,4241490038\n",
      "493rd,A ,Swan The Voice - Néo & Swan,1297,3178186,2553263519\n",
      "494th,A ,Smosh,1005,23439171,7606645215\n",
      "495th,A ,Vn Kids,441,-- ,1189373100\n",
      "496th,A ,Imagine your Korea,247,75635,235743811\n",
      "497th,A ,Jorge e Mateus Oficial,232,7865077,3677335841\n",
      "498th,A ,Lifetime,7470,2075757,2156357155\n",
      "499th,A ,Official Pink Panther,428,4393726,2440245047\n",
      "500th,A ,Миллион Сюрпризов,161,746287,188785092\n",
      "501st,A ,Linkin Park,491,12586430,6185387985\n",
      "502nd,A ,Sony PAL,7401,3186413,1565396141\n",
      "503rd,A ,Dua Lipa,80,7846973,2677839550\n",
      "504th,A ,Wish Shopping,137,142215,1637310766\n",
      "505th,A ,ABC News,43754,4406595,4274525661\n",
      "506th,A ,AAAjoken toys,1912,2883199,3702280518\n",
      "507th,A ,StarPlus,6731,6558413,1430595927\n",
      "508th,A ,Alena Kids & Nursery Rhymes Songs,16,6759682,802308602\n",
      "509th,A ,ShawnMendesVEVO,102,11576519,5074341586\n",
      "510th,A ,YL Toys Collection,871,-- ,903664776\n",
      "511th,A ,Baby Show TV,269,1081947,216607117\n",
      "512th,A ,A&E,5774,1240714,1136242065\n",
      "513th,A ,SonicToy소닉토이,351,1596886,890757462\n",
      "514th,A ,TheOdd1sOut,103,8219221,1323067089\n",
      "515th,A ,The Dodo,4545,2573697,1021818911\n",
      "516th,A ,TOP 5 ALLTIME,266,1032144,123680725\n",
      "517th,A ,Willyrex,4319,12372954,2856472636\n",
      "518th,  ,Dusama Pets TV,--,-- ,91601494\n",
      "519th,A ,DramaFever,7187,4138406,3204947818\n",
      "520th,A ,Princess Bánh Bao,524,2704797,1052894547\n",
      "521st,A ,HAITHAM XD,540,-- ,165291810\n",
      "522nd,A ,KOCOWA TV,3599,1554375,626173223\n",
      "523rd,A ,BeyoncéVEVO,131,13756259,8783839912\n",
      "524th,A ,enchufetv,1042,18107011,6124740074\n",
      "525th,A ,Tu COSMOPOLIS,1296,7193726,1212565094\n",
      "526th,A ,Chill Nation,950,5660253,1587934374\n",
      "527th,A ,Mr Bean,1289,9261717,3828620969\n",
      "528th,A ,Eh Bee Family,646,7329039,1706535902\n",
      "529th,A ,SagaHits,2182,1925572,870813464\n",
      "530th,A ,ChuChuTV Español,154,3798576,1520109928\n",
      "531st,A ,Makiman131,2347,9029397,2077030265\n",
      "532nd,A ,5-Minute Crafts GIRLY,688,5147303,704498710\n",
      "533rd,A ,Alex Rose,36,695350,244495180\n",
      "534th,A ,SevenSuperGirls,2180,9038535,5239447293\n",
      "535th,A ,GMMTV,6013,3417409,2119946185\n",
      "536th,A ,So Yummy,142,3084830,601894019\n",
      "537th,A ,Susi kids TV,401,970848,739666244\n",
      "538th,A ,DEL Records,1940,4726416,3573270201\n",
      "539th,A ,Mor Haryanvi,1530,3487950,1845375376\n",
      "540th,A ,Kid Dinosaurs TV - Nursery Rhymes…,117,-- ,50047778\n",
      "541st,A ,MBCdrama,40464,1905984,2066100793\n",
      "542nd,A ,Arthur HD,388,884696,314026490\n",
      "543rd,A ,Funny Hill,125,309044,129401025\n",
      "544th,A ,ExtremeToys TV,198,3149612,1677529254\n",
      "545th,A ,TV9 Telugu,70114,2228419,1508118007\n",
      "546th,A ,MNCTV Official,13658,2065192,1301504088\n",
      "547th,A ,Shree Jee - Bhakti,288,1697335,257776678\n",
      "548th,A ,Daily Dose Of Internet,248,3213494,619930129\n",
      "549th,A ,ESPN,15406,3809945,1831219507\n",
      "550th,A ,WE CAN SPIRIT,382,-- ,334591821\n",
      "551st,A ,Zic Zic,235,4819898,1213718048\n",
      "552nd,A ,PomPom Toys,2102,5846998,2966524671\n",
      "553rd,A ,Charlie Puth,78,12768568,4986609952\n",
      "554th,A ,disneyjunior,1270,2744626,2005878459\n",
      "555th,A ,LEGENDA FUNK,3454,6370205,1335943968\n",
      "556th,A ,Mr. .X,734,848717,515985070\n",
      "557th,A ,Baraw Amanj,2368,-- ,203149321\n",
      "558th,A ,ميلاد يوسف Milad youssef,1378,1384292,1329783176\n",
      "559th,A ,Calon Sarjana,615,5076689,1020204868\n",
      "560th,A ,Wild 'N Out,289,2364613,1018207318\n",
      "561st,A ,atv,12979,2970128,3286329190\n",
      "562nd,A ,Selena,1015,1182604,1579420780\n",
      "563rd,A ,EvanTubeHD,610,5764155,3566555551\n",
      "564th,A ,TopMovieClips,190,1223298,792518546\n",
      "565th,A ,Warner Music Italy,1094,3309979,2994976793\n",
      "566th,A ,Kênh Thiếu Nhi - BHMEDIA,4285,3092017,2195967295\n",
      "567th,A ,Shalimar Telugu & Hindi Movies,66356,2516177,1876741442\n",
      "568th,A ,ABP NEWS HINDI,26768,2742853,524535242\n",
      "569th,A ,Ninja Kidz TV,64,2290985,813145985\n",
      "570th,A ,Gusttavo Lima Oficial,224,4840192,2358786455\n",
      "571st,A ,TrendingPranks,446,1153411,542946954\n",
      "572nd,A ,MSNBC,15535,1174437,1088662780\n",
      "573rd,A ,NAGASWARA Official Video |…,1220,3193506,1667607612\n",
      "574th,A ,ABP NEWS,109223,6055077,2206306855\n",
      "575th,A ,Pixl Networks,55,2711107,1041616897\n",
      "576th,A ,Nexa Experience,379,203695,256308148\n",
      "577th,A ,NEXT9NEWS हर खबर आप…,63174,6859179,3100755270\n",
      "578th,A ,SlenderMan™,657,2087554,744344557\n",
      "579th,A ,عائلة رياض,377,1016229,629328264\n",
      "580th,A ,VikatanTV,9509,3169606,2278075738\n",
      "581st,A ,Facts Verse,909,5271676,1554866686\n",
      "582nd,A ,Fortnite Clips,1107,-- ,93379534\n",
      "583rd,A ,TRANS TV Official,24763,2544005,1552015064\n",
      "584th,A ,Life of Sammie,41,2029968,605160228\n",
      "585th,A ,DisneyChannelLAVEVO,171,4922786,2433450096\n",
      "586th,A ,Ali Baba channel,330,2554930,839410895\n",
      "587th,A ,Anuel Fans Mundial,291,-- ,64430064\n",
      "588th,A ,EBSKids (EBS 유아),18762,1667660,2549504841\n",
      "589th,A ,ROHIT RATAN Entertainment,14,224360,67934584\n",
      "590th,A ,YtCrash,781,2903276,1080070185\n",
      "591st,A ,Family Playlab,283,3243914,2058161021\n",
      "592nd,A ,Katie Cutie Kids TV,69,3784667,2024315426\n",
      "593rd,A ,Русские сериалы,5301,1681184,1469488817\n",
      "594th,A ,Dr. Sandra Lee (aka Dr. Pimple…,1094,4272495,2347360575\n",
      "595th,A ,Dance India Dance,3316,2985322,1583077388\n",
      "596th,A ,Jimmy Kimmel Live,3531,12820630,6534665554\n",
      "597th,A ,ChrisBrownVEVO,188,12741051,7241517056\n",
      "598th,A ,zbing z.,1341,6802318,2596161381\n",
      "599th,A ,RDC Gujarati,8791,3406033,1276040040\n",
      "600th,A ,As/Is,3619,10136755,9350864007\n",
      "601st,A ,JTBC Entertainment,43526,2510230,3072967216\n",
      "602nd,A ,wifistudy,5120,3701788,283818023\n",
      "603rd,A ,Brave Wilderness,434,12412173,2199756620\n",
      "604th,A ,CamilaCabelloVEVO,24,5699111,2883573314\n",
      "605th,A ,Lele Pons,91,11509478,1901823651\n",
      "606th,A ,Левушка ТВ / Levushka TV,14,2185504,313830250\n",
      "607th,A ,Kids Fun,626,7707410,1669688712\n",
      "608th,A ,Na CorreRia,318,1825702,569564874\n",
      "609th,A ,Lahari Music | T-Series,5044,3225557,2115150985\n",
      "610th,A ,TLC,6302,3048980,2624944899\n",
      "611th,A ,Antena 3,17808,3856456,4195576436\n",
      "612th,A ,Nirahua Music World,449,2287370,1180128215\n",
      "613th,A ,Sonotek Sapna Official,797,3939796,1165256026\n",
      "614th,A ,AdeleVEVO,31,16270830,7414111263\n",
      "615th,A ,Daily Bumps,2002,3924674,2862958130\n",
      "616th,A ,toyorbabytv,274,5758203,3726769590\n",
      "617th,A ,Tasty,2266,9780213,1776253889\n",
      "618th,A ,Indosiar,16679,2995436,1951629262\n",
      "619th,A ,Marco Flores Y La Jerez,239,320217,173689542\n",
      "620th,A ,naarkw نار,813,1625757,565047761\n",
      "621st,A ,Izabela Stress,349,1279091,407052127\n",
      "622nd,A ,AdMe.ru - Сайт о…,1158,5038308,927598787\n",
      "623rd,A ,Diogo Lopes,333,125969,50494550\n",
      "624th,A ,TV Thunder Official,6687,2745028,1603534317\n",
      "625th,A ,ChildishGambinoVEVO,30,1775977,1236215977\n",
      "626th,A ,SUKA MIRING,3,-- ,44164012\n",
      "627th,A ,Mor Music,2274,2227003,1080825285\n",
      "628th,A ,Barbie,4656,4856911,2825580808\n",
      "629th,A ,cocoz toon,1,2162992,333012122\n",
      "630th,A ,Flashback FM,1074,570731,541959488\n",
      "631st,A ,RihannaVEVO,106,26582805,13103339807\n",
      "632nd,A ,Erkenci Kuş,212,760826,246250847\n",
      "633rd,A ,kev,98,2843375,322258943\n",
      "634th,A ,piso21music,68,3840012,2543978649\n",
      "635th,A ,Ya - Alisa,98,6432043,712863538\n",
      "636th,A ,TRANS7 OFFICIAL,31607,1933260,889951998\n",
      "637th,A ,Funny Stop Motion videos,1747,5901410,3359105465\n",
      "638th,A ,Avances por Vlog Novelero,201,-- ,65708758\n",
      "639th,A ,Truyen Hinh Vinh Long,12571,2675689,2581487588\n",
      "640th,A ,Cole&Sav,213,6896766,1594931178\n",
      "641st,A ,Latina.pe,31487,1874934,1352338732\n",
      "642nd,A ,Home Bollywud,990,1916774,721909693\n",
      "643rd,A ,Talking Tom,212,7316952,3520693782\n",
      "644th,A ,Britain's Got Talent,2135,10917075,6736575829\n",
      "645th,A ,حقائق وأسرار,450,4646803,682210118\n",
      "646th,A ,Wish 107.5,672,3459118,1277457875\n",
      "647th,A ,Super Polina Play,121,3965541,643212922\n",
      "648th,A ,AtimeOnline,3581,1468551,721016795\n",
      "649th,A ,JenniferLopezVEVO,100,7405915,5633320640\n",
      "650th,A ,Little Angel: Nursery Rhymes & Kids…,831,1139539,941356209\n",
      "651st,A ,Comedy Central,4296,6913518,3518912919\n",
      "652nd,A ,Good Mythical Morning,2062,14137878,4658271692\n",
      "653rd,A ,Hindi Fairy Tales,84,2095557,627730125\n",
      "654th,A ,Mejores Juguetes,1197,8762986,5623751087\n",
      "655th,A ,Len Ken,266,2209750,1233083120\n",
      "656th,A ,ANTV - Truyền hình Công an…,22484,1418544,1148673214\n",
      "657th,A ,SQUEEZIE,1244,11445353,5304390859\n",
      "658th,A ,La Rosa De Guadalupe,228,711859,203575222\n",
      "659th,A ,National Geographic,8906,9260318,2644227075\n",
      "660th,A ,Telemundo Novelas,11638,3640005,2023481900\n",
      "661st,A ,براق ميديا BURAQ MEDIA,355,302828,42801078\n",
      "662nd,A ,Мастерская…,449,7534189,1544349168\n",
      "663rd,A ,Ceylin - H Official,255,2017216,990613385\n",
      "664th,A ,Brianna's Secret Club TH,679,1875452,622346812\n",
      "665th,A ,Donna the Explorer,124,3887565,958050672\n",
      "666th,A ,Kan & Aki's CHANNEL,983,2329068,4995638741\n",
      "667th,A ,ボンボンTV,4603,1487664,1916088745\n",
      "668th,A ,DisneyJuniorUK,1976,4581188,5385287373\n",
      "669th,A ,KOLLYWOOD MOVIES,90,177222,57915194\n",
      "670th,A ,Coke Studio,336,4681857,1147641963\n",
      "671st,A ,Projeto Cartoon,200,1101045,348972844\n",
      "672nd,A ,Clubinho da Laura,717,4577242,1282419642\n",
      "673rd,A ,MBCClassic,44863,981511,2021738000\n",
      "674th,A ,O Reino das Crianças,317,2725958,1668191191\n",
      "675th,A ,Toy Wizard [토이위자드],159,1127860,173527687\n",
      "676th,A ,Warner Music México,1145,2027574,2697937430\n",
      "677th,A ,KSIvsLogan,15,1323502,73396246\n",
      "678th,A ,SAS-ASMR,405,2796285,593260102\n",
      "679th,A ,MrBeanCartoonGames,369,105359,90178358\n",
      "680th,A ,GRM Daily,5372,1336512,1169745170\n",
      "681st,A ,Shot of The Yeagers,802,2189918,1087106753\n",
      "682nd,A ,Julia MineGirl,1208,3087993,1695715957\n",
      "683rd,A ,Jelly,2905,8818251,3306593484\n",
      "684th,A ,Haschak Sisters,175,5362718,2420126265\n",
      "685th,A ,Zig & Sharko,344,2197733,1084156197\n",
      "686th,A ,DIEN QUAN Entertainment / Giải…,3964,2667123,1946223024\n",
      "687th,A ,Learn And Play,18,-- ,67022251\n",
      "688th,A ,Vinamilk,355,931567,840724889\n",
      "689th,A ,Kids Labo TV,449,2099865,555762465\n",
      "690th,A ,Me contro Te,607,2843068,1435280878\n",
      "691st,A ,Fernanfloo,569,29325333,6961274106\n",
      "692nd,A ,HAR PAL GEO,4425,2340040,1122121854\n",
      "693rd,A ,Funny Cars & Toys,82,1001085,267811850\n",
      "694th,A ,WhenGamersFail ► Lyon,2391,1671755,1021507665\n",
      "695th,A ,Аид [VyacheslavOO],1050,3795996,1128218754\n",
      "696th,A ,GamingWithKev,1312,3351802,1565809530\n",
      "697th,A ,IDJVideos.TV,823,2385627,3210778735\n",
      "698th,A ,WB Kids,938,1821509,585441278\n",
      "699th,A ,hamaarbhojpuri,7106,2908355,1793225350\n",
      "700th,A ,1MILLION Dance Studio,1202,11058659,2616585255\n",
      "701st,A ,Tareq Qar,110,82895,43465545\n",
      "702nd,A ,Pen Movies,191,1486692,449864760\n",
      "703rd,A ,JP Plays,1855,4706065,1192397077\n",
      "704th,A ,TWO SUPER SISTERS,169,1357067,405266486\n",
      "705th,A ,MrSuicideSheep,2077,9972603,3933001232\n",
      "706th,A ,Its JoJo Siwa,389,7546352,1668041209\n",
      "707th,A ,湖南卫视芒果TV官方频道…,32887,2611322,2391540342\n",
      "708th,A ,NTV Telugu,125240,1452863,1118975963\n",
      "709th,A ,Troom Troom Es,359,5733171,1105942548\n",
      "710th,A ,SamsungIndia,183,1852869,1398222403\n",
      "711th,A ,Two Players One Console,1209,1147779,596446534\n",
      "712th,A ,Discovery Kids,417,1017733,392018272\n",
      "713th,A ,Chim Xinh Channel,1231,842216,342871421\n",
      "714th,A ,Surya Citra Televisi (SCTV),16012,2265698,1304621636\n",
      "715th,A ,OfficialWhiteMusic,501,2361915,1846665320\n",
      "716th,A ,truTV,4226,1696481,1886195776\n",
      "717th,A ,BIBI TV,346,1391175,914486119\n",
      "718th,A ,RCM Bhojpuri Hit,2991,2060000,607273422\n",
      "719th,A ,THVL Phim,7836,1482849,1428617313\n",
      "720th,A ,América Televisión - Novelas,3542,773094,436156663\n",
      "721st,A ,DJKhaledVEVO,42,5367633,2727661186\n",
      "722nd,A ,TMG Record Channel,254,3317911,2030131582\n",
      "723rd,A ,DC Kids,648,1153818,878464874\n",
      "724th,A ,Tin Tức Mỗi Ngày,1079,-- ,363621385\n",
      "725th,A ,PostMaloneVEVO,13,4164551,2024331185\n",
      "726th,A ,JonasBlueVEVO,49,2206912,1560407218\n",
      "727th,A ,Samsung Vietnam,553,1288522,918334115\n",
      "728th,A ,JK YADAV FILMS जे के…,2072,-- ,562714491\n",
      "729th,A ,Talking Angela,107,4961738,878628083\n",
      "730th,A ,Denis,1602,6115299,2336892887\n",
      "731st,A ,Jass Records,1396,2710189,916060445\n",
      "732nd,A ,Tube Unique Wilderness,26,586128,81053798\n",
      "733rd,A ,Alhayah Series TV,5850,2155817,1279950826\n",
      "734th,A ,Chespirito y sus Amigos,772,712690,305875204\n",
      "735th,A ,Acne Treatment,698,-- ,480016711\n",
      "736th,A ,DaniRep | +6 Vídeos Diarios De GTA…,8122,7848629,3903578370\n",
      "737th,A ,Mê Phim,587,514604,130874314\n",
      "738th,A ,Zee Music Classic,716,2666131,993667870\n",
      "739th,A ,เด็กเลี้ยงควาย…,11,685377,137608382\n",
      "740th,A ,SilvestreDangondVEVO,151,1780205,1540413929\n",
      "741st,A ,tvnpl,6080,1317821,1996632685\n",
      "742nd,A ,Albin Lekhove.,3,112489,39579875\n",
      "743rd,A ,Satisfy Channel,238,1018694,328815940\n",
      "744th,A ,Dave and Ava - Nursery Rhymes and…,368,4345980,2617861225\n",
      "745th,A ,Life with Brothers,496,2702258,856349812\n",
      "746th,A ,ArcadeG,24,-- ,50334447\n",
      "747th,A ,LIFE VÍDEOS E FOTOS,11,330998,140120586\n",
      "748th,A ,Aoffy Maxim,302,2570105,684720152\n",
      "749th,A ,Queen Official,728,5161031,3117908234\n",
      "750th,A ,AK Films,7,-- ,54302427\n",
      "751st,A ,핑크퐁 (인기 동요・동화),1082,2125228,1595352760\n",
      "752nd,A ,BB Ki Vines,126,9775694,1258536015\n",
      "753rd,A ,CFK Family,100,-- ,2048562237\n",
      "754th,A ,스위트티비 SweetTV,826,956403,409922913\n",
      "755th,A ,Pen Multiplex,904,1802887,587351007\n",
      "756th,A ,Маша та Ведмідь,439,3209563,1664222907\n",
      "757th,A ,Vy Qwaint,127,1434946,171654347\n",
      "758th,A ,PrinceRoyceVEVO,92,6064512,2846915380\n",
      "759th,A ,GEazyMusicVEVO,107,4052452,2297039672\n",
      "760th,A ,ZEE 24 TAAS,118696,1782463,936716854\n",
      "761st,A ,اغاني مشهورة Music…,60,523596,136234820\n",
      "762nd,A ,Neo-Saban Power Rangers,3254,3549927,3847340302\n",
      "763rd,A ,Познаватель,281,7903277,2458786199\n",
      "764th,A ,MovieCon Animation,824,2042918,900842320\n",
      "765th,A ,C.A.F - Children And Families,213,1882631,607538170\n",
      "766th,A ,HikakinGames,1378,3831655,3392507452\n",
      "767th,A ,Lazada Thailand,473,125386,771452351\n",
      "768th,A ,Paulinho e Toquinho,795,4053783,2575684671\n",
      "769th,A ,Unbox Therapy,1436,12463816,2283596294\n",
      "770th,A ,Gato Galactico,528,7102302,1223384077\n",
      "771st,A ,BOSS KIDS,74,-- ,220701064\n",
      "772nd,A ,MoratVEVO,27,1842272,994135496\n",
      "773rd,A ,James Charles,159,8097091,626825336\n",
      "774th,A ,AlHayah TV Network,129941,3719788,2123111920\n",
      "775th,A ,GMM25Thailand,13468,4370772,3256790708\n",
      "776th,A ,Trimurti,2707,2487575,929471020\n",
      "777th,A ,Planeta das Gêmeas,390,8255633,1983873754\n",
      "778th,A ,Warner Música,539,3323045,2397944307\n",
      "779th,A ,packattack04082,7429,2926446,3985485513\n",
      "780th,A ,Renato Garcia,1438,9651119,1162090232\n",
      "781st,A ,TEDx Talks,118990,14288254,2649053469\n",
      "782nd,A ,办公室小野官方频道 Ms Yeah…,92,3407861,707888223\n",
      "783rd,A ,Deji,1559,9701327,3382625055\n",
      "784th,A ,WamIndia Movie Talkies,118,739132,247068708\n",
      "785th,A ,Mango Music,6499,1770727,862401249\n",
      "786th,A ,BuzzFeedBlue,1610,8870101,4199495678\n",
      "787th,A ,Boys and Toys,305,1503682,601000054\n",
      "788th,A ,HPLUS Films,10968,1279906,1406414968\n",
      "789th,A ,Follow Me,80,1591130,357257175\n",
      "790th,A ,Google Indonesia,416,421050,530877250\n",
      "791st,A ,Lokdhun Punjabi,1323,5028862,1765247403\n",
      "792nd,A ,Thuy Nga,1784,1798282,1513593766\n",
      "793rd,A ,IMPERIA,132,888824,991619438\n",
      "794th,A ,Cia. Daniel Saboya,714,12287090,3495074680\n",
      "795th,A ,JTBC Drama,12258,1192257,1191217853\n",
      "796th,A ,Thibaan Channel,217,1681952,816548889\n",
      "797th,A ,なーちゃんねる(Naaachannel),539,1089695,705469268\n",
      "798th,A ,infobells - Tamil,176,2464814,1404384841\n",
      "799th,A ,서은이야기[SeoeunStory],572,2152240,890117824\n",
      "800th,A ,Wave Music - Bhakti,13395,2679475,951030662\n",
      "801st,A ,ToyMart TV,419,3653959,1754760559\n",
      "802nd,A ,Bela Bagunça,548,7283780,1457189263\n",
      "803rd,A ,Sony AATH,3346,1655287,972171613\n",
      "804th,A ,WildBrain en Español,1060,1373353,471424612\n",
      "805th,A ,Solnishkam,42,2712531,1584777454\n",
      "806th,A ,UnspeakableGaming,1848,5493919,1721176088\n",
      "807th,A ,Ameli TVIT,308,861589,278955764\n",
      "808th,A ,Music Nepal,14839,2530952,1991582096\n",
      "809th,A ,Vat19,1277,5560302,4496648188\n",
      "810th,A ,VTC1 - Tin tức,37993,1549299,1963421173\n",
      "811th,A ,EXPLORER,1003,-- ,107965890\n",
      "812th,A ,Coisas dos Famosos,229,-- ,36986780\n",
      "813th,A ,NBA LeB,6886,157365,368772\n",
      "814th,A ,The Shiny Peanut,406,3063116,545887384\n",
      "815th,A ,Caracol Televisión,6872,1561625,522148993\n",
      "816th,A ,PHD Troll,375,1880187,654389208\n",
      "817th,A ,TVCHOSUN,35135,602177,1026324676\n",
      "818th,A ,Wesley Safadão,229,7877716,3514115865\n",
      "819th,A ,AP International,21065,2207551,1637950332\n",
      "820th,A ,Official Sabyan gambus,8,3875757,834201427\n",
      "821st,A ,Tokek,78,806151,231079746\n",
      "822nd,A ,Rathore Cassettes,2445,2199859,707539270\n",
      "823rd,A ,Movieclips Trailers,7527,12724237,9833909601\n",
      "824th,A ,IISuperwomanII,736,14297656,2780236787\n",
      "825th,A ,M2,6144,2552535,1290908823\n",
      "826th,A ,Comedy Wale,269,1566972,376832605\n",
      "827th,A ,Learn Colors with Guka,77,1875466,349846824\n",
      "828th,A ,Larva TUBA,1299,3619657,1798768953\n",
      "829th,A ,Aqua,62,17618,36263445\n",
      "830th,A ,PetitGarçon Adam,437,1076065,495023188\n",
      "831st,A ,NickiMinajAtVEVO,62,13518268,5784320251\n",
      "832nd,A ,rsfriends,3084,6441704,4579141202\n",
      "833rd,A ,ONE Media,2901,1612232,1751610582\n",
      "834th,A ,The World Adventures…,298,6157416,816213616\n",
      "835th,A ,Toy Genie Surprises,2090,5161012,3523137301\n",
      "836th,A ,Mila Toys,21,-- ,108568738\n",
      "837th,A ,ImediaSeries | أى ميديا…,9581,829313,732653586\n",
      "838th,A ,Venus Bhojpuri,322,1648751,346134972\n",
      "839th,A ,BinBin TV,8,-- ,44583599\n",
      "840th,A ,DANIEL EL TRAVIESO VIDEOS,183,2823460,823657381\n",
      "841st,A ,Little Baby Bum en Español,419,6598377,3943327427\n",
      "842nd,A ,콩순이・시크릿 쥬쥬…,680,1834667,1794668663\n",
      "843rd,A ,Vihokploeng Channel,277,-- ,45116487\n",
      "844th,A ,LES BOYS TV,334,-- ,482697541\n",
      "845th,A ,Vidéos Drôles,334,539192,216576325\n",
      "846th,A ,ABP Majha,73823,1800470,732730266\n",
      "847th,A ,Tik Tok,114,1574,618820260\n",
      "848th,A ,CollegeHumor,3174,13313522,6545367048\n",
      "849th,A ,Sarthak Music,6335,1821046,988566413\n",
      "850th,A ,Oh Long Johnson,192,2036412,493687065\n",
      "851st,A ,5 DAKİKADA HALLET,588,873813,193047407\n",
      "852nd,A ,hollywoodclips22,472,310799,174109939\n",
      "853rd,A ,Masha e o Urso,231,4103325,1365735959\n",
      "854th,A ,Ambey Bhakti,3950,2254849,768304161\n",
      "855th,A ,Трум Трум,639,5538968,1470790728\n",
      "856th,A ,o SHOW o,68,234811,54925032\n",
      "857th,A ,PlayToys,802,4511486,1924059910\n",
      "858th,A ,Juguetes con Andre,648,3590877,1634999362\n",
      "859th,A ,ตุณานนท์…,26,38672,4707955\n",
      "860th,A ,Saregama Music,4114,4851606,1382014363\n",
      "861st,A ,Selena Martinez,168,470817,84130838\n",
      "862nd,A ,LosPolinesios,400,14891691,2770521652\n",
      "863rd,A ,PORKMODZ,1163,555550,223873821\n",
      "864th,A ,Irmãos Neto,163,10498808,828548071\n",
      "865th,A ,Toys and Fun,1065,1860886,1329705317\n",
      "866th,A ,Tarang TV,12219,1124819,773416806\n",
      "867th,A ,Bizim Hikaye,825,669759,392876501\n",
      "868th,A ,СТС,6875,1458389,1100467882\n",
      "869th,A ,Anupam Movie Songs,500,593726,223239922\n",
      "870th,A ,MessYourself,730,4583875,1264799813\n",
      "871st,A ,TV Ana Emilia,188,2437825,650741196\n",
      "872nd,A ,Mohamed Ramadan,183,2342921,832724569\n",
      "873rd,A ,T-Series Regional,15340,3733568,1595904694\n",
      "874th,A ,Saurabh Parikh,1570,1179477,738646899\n",
      "875th,A ,Let's Play Kids,925,-- ,532569280\n",
      "876th,A ,Dolan Twins,199,6661047,918456388\n",
      "877th,A ,MY TOYS PINK,773,1917132,885066341\n",
      "878th,A ,FunKeep,290,2031826,664825148\n",
      "879th,A ,Vividplays Channel,1652,1042497,416153886\n",
      "880th,A ,Amit Bhadana,51,9771425,617239610\n",
      "881st,A ,Mega Super LoLLa,4,-- ,52638254\n",
      "882nd,A ,Morphle TV,349,4040290,3093804467\n",
      "883rd,A ,PipeCleanerCrafts B,268,2465335,795740576\n",
      "884th,A ,JuanGabrielVEVO,219,2808915,2636833521\n",
      "885th,A ,mallemalatv,5342,1699246,850788248\n",
      "886th,A ,THVL Giải Trí,12927,2595868,2427585836\n",
      "887th,A ,Sumeet Music,1500,1738897,883418478\n",
      "888th,A ,SelenaGomezVEVO,127,15688167,6641996592\n",
      "889th,A ,Acne Synthetic,325,-- ,119895629\n",
      "890th,A ,\"SLICK SLIME SAM - DIY, Comedy,…\",216,826637,251509161\n",
      "891st,A ,BillieEilishVEVO,25,666883,279539583\n",
      "892nd,A ,Patati Patatá,190,3426296,2338263755\n",
      "893rd,A ,NW news,184,46747,40348022\n",
      "894th,A ,EllaMaiVEVO,9,255574,293077103\n",
      "895th,A ,RemexMusic,972,3954687,3344414009\n",
      "896th,A ,MLP Magic,120,-- ,122799600\n",
      "897th,A ,MegaTV,8998,337710,424175065\n",
      "898th,A ,social issue소셜이슈,216,-- ,351437895\n",
      "899th,A ,ZicZic Supers Songs,12,4653573,379129938\n",
      "900th,A ,Shahid.net,2926,3327405,1149283506\n",
      "901st,A ,Bryant Myers,44,2692196,600406974\n",
      "902nd,A ,Poll Production,1970,2158957,3295692992\n",
      "903rd,A ,Learn Colors PAM PAM,17,-- ,545060093\n",
      "904th,A ,The Tonight Show Starring Jimmy…,4622,17763660,9668150444\n",
      "905th,A ,Reaction Time,1163,10018141,2956841564\n",
      "906th,A ,That YouTub3 Family,752,2076265,947179743\n",
      "907th,A ,Sessão Dublada,458,570187,210671101\n",
      "908th,A ,SuperZoo - Best cartoon for kids…,266,1758101,545126564\n",
      "909th,A ,Bazylland,320,1828539,987725356\n",
      "910th,A ,BARBIE FILMES BR,425,2426403,560491563\n",
      "911th,A ,DeGoBooM,1367,3667305,950082832\n",
      "912th,A ,топКино,1083,385039,186469729\n",
      "913th,A ,TheRichest,2558,11804909,5866949648\n",
      "914th,A ,Лучшие приколы Best…,69,211886,53447247\n",
      "915th,A ,Yong Ye,309,878035,654203160\n",
      "916th,A ,Crafty Panda,35,924761,123275233\n",
      "917th,A ,TruthRevolutionNet,220,336350,282580294\n",
      "918th,A ,Sonotek Bhakti,4501,3240992,811771577\n",
      "919th,A ,JoyJoy Lika,112,1348026,306959964\n",
      "920th,A ,Viki Show,301,3099335,1013696048\n",
      "921st,A ,Movie Clips,8,49785,34501120\n",
      "922nd,A ,Funny Stacy,70,5510141,1557779492\n",
      "923rd,A ,Ibu dan Balita Indonesia,179,1530259,570694707\n",
      "924th,A ,CantaJuegoVEVO,424,2407006,2516674023\n",
      "925th,A ,Morgz,512,5437206,716849369\n",
      "926th,A ,ON Ent,26008,3769523,1311197102\n",
      "927th,A ,Sing Music Channel,92,1572818,513111410\n",
      "928th,A ,MaKar & Nursery Rhymes and Songs,191,1209631,324049846\n",
      "929th,A ,ALL THE K-POP,7413,3308285,1708025102\n",
      "930th,A ,Comedy Captain Hindi HD,280,1890180,440275389\n",
      "931st,A ,Illslick thelegandary,101,2632081,1276933450\n",
      "932nd,A ,Mother Goose Club Playhouse,742,3281615,4543258678\n",
      "933rd,A ,MundoNovelero,1454,1038453,704964904\n",
      "934th,A ,PlayCow.com,3537,2664592,1332421426\n",
      "935th,A ,Studio Saraswati Official,1745,2053209,521000306\n",
      "936th,A ,Show Ana Haber,17959,716731,1111394262\n",
      "937th,A ,Bollywood Classics,1045,2653337,1033211075\n",
      "938th,A ,WigglePop,107,1134248,353416131\n",
      "939th,A ,SamSmithWorldVEVO,58,6959214,4104419248\n",
      "940th,A ,Rebecca Zamolo,531,4585169,709564795\n",
      "941st,A ,HomeAnimations - Мультики…,209,889004,272579345\n",
      "942nd,A ,Playtime4kidz,501,1422226,796439679\n",
      "943rd,A ,Hollywood Inside,40,-- ,35137458\n",
      "944th,A ,Ghiền Mì Gõ,312,3111301,1846212099\n",
      "945th,A ,News Tak,7902,1933560,438452931\n",
      "946th,A ,IULITM,4315,2495206,1594852893\n",
      "947th,A ,3ater Alsham عطر الشام,3364,575111,523420737\n",
      "948th,A ,The Sean Ward Show,385,2046208,1265473278\n",
      "949th,A ,Giọng Ca Để Đời,1024,1553434,975997218\n",
      "950th,A ,TBE Kids,27,359753,88007461\n",
      "951st,A ,Fizzy Toy Show,1048,2020415,1576193149\n",
      "952nd,A ,thays7777,204,132700,68136885\n",
      "953rd,A ,Teremok TV,2970,4265037,5250235184\n",
      "954th,A ,BIG Magic,17891,520230,225517877\n",
      "955th,A ,Amit choudhary,18,201943,222996\n",
      "956th,A ,JaxJonesVEVO,23,820648,584674135\n",
      "957th,A ,BBC,22695,5165960,4937488364\n",
      "958th,A ,TeluguOne,33586,4100191,2414364446\n",
      "959th,A ,Kids Learning Songs,75,-- ,278406163\n",
      "960th,A ,\"Kids, Toys & Adventures\",79,2671048,499372735\n",
      "961st,A ,GunsNRosesVEVO,40,4939443,3610207489\n",
      "962nd,A ,Kids Club TV,1211,-- ,1521901868\n",
      "963rd,A ,Turkish Series مسلسل تركي,472,2027095,552733926\n",
      "964th,A ,emma chamberlain,156,4501329,310088600\n",
      "965th,A ,CNN Indonesia,30100,1281435,715647975\n",
      "966th,A ,떵개떵,2764,2512791,1176939065\n",
      "967th,A ,Gustavo Mioto,37,2605915,868604066\n",
      "968th,A ,Netflix,2279,5262636,1466799425\n",
      "969th,A ,NDJ Film Official,10858,1728730,941580688\n",
      "970th,A ,Funny Vines,132,3122278,996106605\n",
      "971st,A ,jeffreestar,294,10368791,1084678752\n",
      "972nd,A ,YimYam TV,1154,1132387,863447043\n",
      "973rd,A ,INSIDER,6238,2998198,1536356883\n",
      "974th,A ,Carnatavr A,391,46526,41047291\n",
      "975th,A ,Learn Colors Rice,48,2546742,311104017\n",
      "976th,A ,SHOPEE Indonesia,182,141886,457659296\n",
      "977th,A ,BakLol Video,95,2265697,256962966\n",
      "978th,A ,WOW ENGLISH TV,297,1865989,1527112924\n",
      "979th,A ,AviciiOfficialVEVO,110,11667519,5565707967\n",
      "980th,A ,SUNDRANI,5202,1196344,670142754\n",
      "981st,A ,karameeshchannel,2318,3226457,1936359474\n",
      "982nd,A ,FitDance,949,8606400,2564278994\n",
      "983rd,A ,Planet Earth INDIA,275,4025979,633820509\n",
      "984th,A ,Telefe,66273,2220124,1910032292\n",
      "985th,A ,PopArt Discos,2590,1738684,2261135575\n",
      "986th,A ,FRESH Movie Trailers,6337,3816987,2932656262\n",
      "987th,A ,Cat Music,1795,4962035,5026581136\n",
      "988th,A ,ArkivaShqip,6414,2563442,3987315817\n",
      "989th,A ,El Adl Group,2136,1687205,714675665\n",
      "990th,A ,JUJU Jugando,42,861545,218837918\n",
      "991st,A ,iKON,313,3322661,764816171\n",
      "992nd,A ,Gojzer,155,1181557,486625063\n",
      "993rd,A ,Saad Lamjarred | سعد لمجرد,118,5932065,1628048828\n",
      "994th,A ,Cumicumi,48641,2341946,2200123912\n",
      "995th,A ,storybooth,136,2938922,938276694\n",
      "996th,A ,OneRepublicVEVO,144,6005945,3917713663\n",
      "997th,A ,TOY GUMA,303,1783483,628952933\n",
      "998th,A ,Les' Copaque Production,1078,3130717,2040030829\n",
      "999th,A ,Earwax Specialist,572,387654,301082491\n",
      "\"1,000th\",A ,Jugnu Kids - Nursery Rhymes and…,282,2883696,1233602347\n",
      "\"1,001st\",A ,IDEAS EN 5 MINUTOS,1089,4429603,662187125\n",
      "\"1,002nd\",A ,Tin Siêu Còi,534,695068,561085634\n",
      "\"1,003rd\",A ,BIGBANG,769,9998464,4756874954\n",
      "\"1,004th\",A ,Wow Kidz Comedy,871,1511557,436747551\n",
      "\"1,005th\",A ,simayproduction,226,337135,212866964\n",
      "\"1,006th\",A ,RK RAJ DJ,261,-- ,104547928\n",
      "\"1,007th\",A ,Hong Giang DIY Slime,297,2056979,623675504\n",
      "\"1,008th\",A ,Pica - Pica Oficial,145,2653991,2151391380\n",
      "\"1,009th\",A ,Universe Adventure,156,2946639,314847635\n",
      "\"1,010th\",A ,Hillsong Worship,540,2769666,982634456\n",
      "\"1,011th\",A ,Boram Tube [보람튜브],125,2742219,614541421\n",
      "\"1,012th\",A ,EHPMusicChannel,472,403056,348349997\n",
      "\"1,013th\",A ,iGAMING TV,360,958196,472840432\n",
      "\"1,014th\",A ,XEM.VN,752,-- ,330159081\n",
      "\"1,015th\",A ,Netflix India,450,1200373,80348959\n",
      "\"1,016th\",A ,Latest News Updates,131,-- ,191379249\n",
      "\"1,017th\",A- ,ولاية بطيخ | Melon City…,764,4044662,1166217789\n",
      "\"1,018th\",A- ,Movie Talkies,19022,3794649,2491697636\n",
      "\"1,019th\",A- ,MrBrent98,259,4737769,497995909\n",
      "\"1,020th\",A- ,Gallina Pintadita,33,6136499,4866114389\n",
      "\"1,021st\",A- ,W2S,639,13087509,3601385628\n",
      "\"1,022nd\",A- ,Теремок - Песенки…,307,2447379,1475969285\n",
      "\"1,023rd\",A- ,Zara Cute,806,1082790,790114713\n",
      "\"1,024th\",A- ,PrestonPlayz - Minecraft,3473,7193736,2509756896\n",
      "\"1,025th\",A- ,Oddbods - Official Channel,363,2641254,1877153673\n",
      "\"1,026th\",A- ,ZENSE Entertainment,7498,2148479,1056380068\n",
      "\"1,027th\",A- ,UKids TV,121,1070159,147878759\n",
      "\"1,028th\",A- ,Juguetes Sorpresa,398,1848769,803160581\n",
      "\"1,029th\",A- ,PlayDJ In,162,-- ,246728361\n",
      "\"1,030th\",A- ,Health Tips for You,8839,4116683,613673510\n",
      "\"1,031st\",A- ,Favorite Videos,605,433225,895967230\n",
      "\"1,032nd\",A- ,Wirkaufendeinauto.de,23,2730,82829448\n",
      "\"1,033rd\",A- ,Herşey Dahil,915,2759453,1189890677\n",
      "\"1,034th\",A- ,Pocoyo,1009,5434099,4355275516\n",
      "\"1,035th\",A- ,YuridiaVEVO,121,1132374,1385722780\n",
      "\"1,036th\",A- ,Fanta Kids Tv,57,2682199,360827737\n",
      "\"1,037th\",A- ,MowMow☆おもちゅーぶ,322,511278,181226240\n",
      "\"1,038th\",A- ,Ini Talk Show,4117,2042830,1203464786\n",
      "\"1,039th\",A- ,3Palavrinhas,165,1114638,820739389\n",
      "\"1,040th\",A- ,kids7,20,1583878,259513961\n",
      "\"1,041st\",A- ,FutParódias,184,4763628,1089597158\n",
      "\"1,042nd\",A- ,VIDEOMUG비디오머그,1667,314428,229895975\n",
      "\"1,043rd\",A- ,CBCDrama,5476,2735998,1499321360\n",
      "\"1,044th\",A- ,Trinity and Beyond,617,1615002,582521408\n",
      "\"1,045th\",A- ,REACT,1404,9849460,3048529895\n",
      "\"1,046th\",A- ,Tibo InShape,546,5095840,1217196627\n",
      "\"1,047th\",A- ,Lâm Vlog,331,880826,258862127\n",
      "\"1,048th\",A- ,DrossRotzank,1133,14850074,3084922075\n",
      "\"1,049th\",A- ,Khulduli Media,17,-- ,61602498\n",
      "\"1,050th\",A- ,SonoraDinamitaVEVO,21,404982,783935227\n",
      "\"1,051st\",A- ,भक्ति,3805,3134152,522188652\n",
      "\"1,052nd\",A- ,Vito Minecraft,892,1219171,662762196\n",
      "\"1,053rd\",A- ,Programa Pânico,3322,7350039,2469377904\n",
      "\"1,054th\",A- ,Mert TÜTER,20,-- ,81652515\n",
      "\"1,055th\",A- ,VN Children’s Music,139,-- ,835961805\n",
      "\"1,056th\",A- ,Stubborn Facts,254,-- ,334411501\n",
      "\"1,057th\",A- ,FORMULA 1,1386,1577479,543917257\n",
      "\"1,058th\",A- ,KarolGVEVO,25,3605435,1913978111\n",
      "\"1,059th\",A- ,Tamer Hosny,323,3149970,1018663952\n",
      "\"1,060th\",A- ,Mimi Lissa,439,1427346,858526119\n",
      "\"1,061st\",A- ,ABC For Kids TV,19,-- ,24605601\n",
      "\"1,062nd\",A- ,Wave Music - Bhojpuri Movies,304,1748337,628973883\n",
      "\"1,063rd\",A- ,Ricis Official,329,5505644,677257443\n",
      "\"1,064th\",A- ,tvN DRAMA,15907,1401400,1104842163\n",
      "\"1,065th\",A- ,L'Algerino,96,4390622,1304314723\n",
      "\"1,066th\",A- ,Troom Troom PT,193,2405614,385620442\n",
      "\"1,067th\",A- ,18th Asian Games 2018,306,598154,104006040\n",
      "\"1,068th\",A- ,Bollywood Uncut,4166,385042,212318007\n",
      "\"1,069th\",A- ,Robin Hood Gamer,2256,5249617,902045441\n",
      "\"1,070th\",A- ,For Kids Español,38,-- ,333467375\n",
      "\"1,071st\",A- ,IMediaShows,5539,340895,277516851\n",
      "\"1,072nd\",A- ,LOVEiS+,664,2278468,1742116660\n",
      "\"1,073rd\",A- ,Videogyan 3D Rhymes - Nursery…,579,6372720,5005584061\n",
      "\"1,074th\",A- ,Bartolito,315,924799,272549270\n",
      "\"1,075th\",A- ,Posteries,69,1077035,503038721\n",
      "\"1,076th\",A- ,Dolly's Stories KIDS,78,1187528,230626596\n",
      "\"1,077th\",A- ,RE -research,158,2535305,558104526\n",
      "\"1,078th\",A- ,Mega Kids Tv,790,-- ,2232918914\n",
      "\"1,079th\",A- ,Annoying Orange,1096,7542219,5360497422\n",
      "\"1,080th\",A- ,MoonKase,2646,4739183,1339447912\n",
      "\"1,081st\",A- ,ZicZic Baby,20,1099180,152421259\n",
      "\"1,082nd\",A- ,NH Studioz,698,1080829,375674360\n",
      "\"1,083rd\",A- ,NTN Vlogs,172,4827279,840237024\n",
      "\"1,084th\",A- ,Brytiago Cartel Records,26,2102859,707072962\n",
      "\"1,085th\",A- ,Oops Banana,926,2594922,848048417\n",
      "\"1,086th\",A- ,Grand Production,12746,1231378,2468846059\n",
      "\"1,087th\",A- ,Máquina del Tiempo,849,-- ,813777281\n",
      "\"1,088th\",A- ,YGVEVO,66,2194989,1125081760\n",
      "\"1,089th\",A- ,Invento na Hora,446,7743492,1051346743\n",
      "\"1,090th\",A- ,Black Beats,386,748413,349171125\n",
      "\"1,091st\",A- ,littlemixVEVO,119,8387497,3438825040\n",
      "\"1,092nd\",A- ,Rice and Turtle,9,-- ,187919091\n",
      "\"1,093rd\",A- ,Ярик Кент,722,2463732,870581007\n",
      "\"1,094th\",A- ,KoLshi Tv كلشي,346,-- ,656128090\n",
      "\"1,095th\",A- ,NBC World of Dance,224,610130,117702339\n",
      "\"1,096th\",A- ,CNCOVEVO,47,6246421,4171381231\n",
      "\"1,097th\",A- ,GameGrumps,6199,4810053,4315943573\n",
      "\"1,098th\",A- ,Univision Noticias,43216,2562118,1880915239\n",
      "\"1,099th\",A- ,DramaKBS,86872,1163844,1469594560\n",
      "\"1,100th\",A- ,華納音樂 Warner Music Taiwan…,1860,1388830,890764253\n",
      "\"1,101st\",A- ,Jana Tube,14,713375,178412464\n",
      "\"1,102nd\",A- ,JukiLop,52,10548370,528172886\n",
      "\"1,103rd\",A- ,DisneyChannelUK,2603,3447255,3283041196\n",
      "\"1,104th\",A- ,LG India,829,246769,682825695\n",
      "\"1,105th\",A- ,twenty one pilots,87,7057151,1346134728\n",
      "\"1,106th\",A- ,Daequan Loco,283,3587976,293643173\n",
      "\"1,107th\",A- ,OLGACRAFTS,222,179734,55398762\n",
      "\"1,108th\",A- ,SpJockey,1930,794720,479437947\n",
      "\"1,109th\",A- ,Daniel Boy,117,883683,233817264\n",
      "\"1,110th\",A- ,BONNY KIDS TV,58,-- ,287000493\n",
      "\"1,111th\",A- ,Peppa Pig En Español Capitulos…,393,2967840,827964874\n",
      "\"1,112th\",A- ,INCRÍVEL,1379,6217371,700534387\n",
      "\"1,113th\",A- ,IDEIAS INCRÍVEIS,1084,3461333,458488915\n",
      "\"1,114th\",A- ,Beşiktaş Kültür Merkezi (BKM),5233,1567447,1868110548\n",
      "\"1,115th\",A- ,Ersin Büyükişler,4,200536,30542506\n",
      "\"1,116th\",A- ,Kaykai Salaider,170,6651911,988326879\n",
      "\"1,117th\",A- ,Fortnite Funny,349,1555169,401834406\n",
      "\"1,118th\",A- ,SumanTV,9228,2543346,929819561\n",
      "\"1,119th\",A- ,ArcadeGaming,1417,1361880,581369782\n",
      "\"1,120th\",A- ,Eros Now Movies Preview,1121,1607037,665567091\n",
      "\"1,121st\",A- ,Danny Ocean,8,2861917,1690503137\n",
      "\"1,122nd\",A- ,Jason Derulo,238,10247253,5133718775\n",
      "\"1,123rd\",A- ,Beto Sierra,559,2155076,701284327\n",
      "\"1,124th\",A- ,CarlosVivesVEVO,96,3314192,2893179477\n",
      "\"1,125th\",A- ,platinumrecordsmusic,461,3981353,2267113835\n",
      "\"1,126th\",A- ,lesliegraceVEVO,20,516628,345111568\n",
      "\"1,127th\",A- ,Linus Tech Tips,4276,6811040,1993442553\n",
      "\"1,128th\",A- ,ETV Plus India,14493,2104082,1435219599\n",
      "\"1,129th\",A- ,Enamorándonos,4928,3186461,1542799499\n",
      "\"1,130th\",A- ,Shemaroo Movies,603,2784186,782915669\n",
      "\"1,131st\",A- ,Yippee Toys,1627,6783252,2985726408\n",
      "\"1,132nd\",A- ,SuperHeroKids,182,2059241,1223548138\n",
      "\"1,133rd\",A- ,SETN三立新聞網,40599,454722,859111639\n",
      "\"1,134th\",A- ,Taylor Gamer,192,280704,51412957\n",
      "\"1,135th\",A- ,Anthony Ying,3552,1826694,2020250389\n",
      "\"1,136th\",A- ,Gnews,3534,-- ,363312756\n",
      "\"1,137th\",A- ,Viral Maniacs,72,596882,194629412\n",
      "\"1,138th\",A- ,PDK Films,123,6462055,1808796279\n",
      "\"1,139th\",A- ,Red Chillies Entertainment,649,3070960,1179332236\n",
      "\"1,140th\",A- ,Fun Kids House,794,-- ,1480461896\n",
      "\"1,141st\",A- ,\"Animal Aid Unlimited, India\",184,1901032,574395844\n",
      "\"1,142nd\",A- ,BE AMAZED,691,4068925,924101627\n",
      "\"1,143rd\",A- ,AFernandezVEVO,92,1614634,1946505588\n",
      "\"1,144th\",A- ,70cleam,829,1286712,1480458714\n",
      "\"1,145th\",A- ,Life Hacks & Experiments,352,3644191,1219745172\n",
      "\"1,146th\",A- ,Fox News,52548,1680608,1098789981\n",
      "\"1,147th\",A- ,Toymong tv 토이몽TV,922,1895085,950813108\n",
      "\"1,148th\",A- ,TheWillyrex,5126,14570953,5071006068\n",
      "\"1,149th\",A- ,WildBrain em Português,995,985848,388267495\n",
      "\"1,150th\",A- ,YTN NEWS,355996,820108,1640347646\n",
      "\"1,151st\",A- ,Breaking News India,577,-- ,399126408\n",
      "\"1,152nd\",A- ,Miniminter,1588,7497762,2535153504\n",
      "\"1,153rd\",A- ,Mr DegrEE,111,976607,270095979\n",
      "\"1,154th\",A- ,Tamil cinema,4893,-- ,555333450\n",
      "\"1,155th\",A- ,Español Para Niños,32,-- ,116260552\n",
      "\"1,156th\",A- ,Bhavani HD Movies,16226,1424977,691620083\n",
      "\"1,157th\",A- ,infobells,248,2656272,882222289\n",
      "\"1,158th\",A- ,Chouftv - شوف تيفي,37136,2561199,1419415471\n",
      "\"1,159th\",A- ,Tady Kristián,6,31996,29536511\n",
      "\"1,160th\",A- ,BEBEKIDS,110,-- ,342372543\n",
      "\"1,161st\",A- ,Nina Twin Kids,55,-- ,352497565\n",
      "\"1,162nd\",A- ,★ Kids Roma Show,437,5608514,1352179341\n",
      "\"1,163rd\",A- ,Promi Big Brother,1017,105418,67113917\n",
      "\"1,164th\",A- ,SBSNOW,14133,1922415,2073198311\n",
      "\"1,165th\",A- ,OneDirectionVEVO,171,23481196,8280768299\n",
      "\"1,166th\",A- ,Flamingo,445,1915781,522973512\n",
      "\"1,167th\",A- ,TVN Series,3933,501731,611164083\n",
      "\"1,168th\",A- ,loveliveserve,460,3044546,435910217\n",
      "\"1,169th\",A- ,Смотри как я (Watch Me),207,1277532,386347891\n",
      "\"1,170th\",A- ,ashish chanchlani vines,119,7136231,611062570\n",
      "\"1,171st\",A- ,The Divine Tales,142,-- ,101914674\n",
      "\"1,172nd\",A- ,Tayo the Little Bus,1190,3295043,3114290893\n",
      "\"1,173rd\",A- ,Anne-Marie,45,3107983,630340905\n",
      "\"1,174th\",A- ,Barry Guarina,101,143414,543472\n",
      "\"1,175th\",A- ,Rajasthani Gorband Music HD,2382,1639233,540505595\n",
      "\"1,176th\",A- ,Daftar Populer,1012,2168268,365382700\n",
      "\"1,177th\",A- ,Maître GIMS,31,6410207,597177479\n",
      "\"1,178th\",A- ,MBCkpop,31092,5084929,3893045917\n",
      "\"1,179th\",A- ,The Q,113,5078880,1416956060\n",
      "\"1,180th\",A- ,TheTalko,1925,6341412,2581218906\n",
      "\"1,181st\",A- ,Mo Vlogs,1237,6172108,1609292736\n",
      "\"1,182nd\",A- ,Kuplinov ► Play,4588,5422655,2088890389\n",
      "\"1,183rd\",A- ,Hichem Smati,129,1584768,408343609\n",
      "\"1,184th\",A- ,Cleo & Cuquín - Familia Telerín,70,2990724,1274275282\n",
      "\"1,185th\",A- ,Sapna Choudhary,102,862101,169614978\n",
      "\"1,186th\",A- ,TazerCraft,2952,10218519,3515548318\n",
      "\"1,187th\",A- ,Silly Family,21,263470,46510486\n",
      "\"1,188th\",A- ,Zouzounia TV,1284,3040963,2196656402\n",
      "\"1,189th\",A- ,SBS TV동물농장x애니멀봐,1044,718231,469036798\n",
      "\"1,190th\",A- ,acdcVEVO,145,3201644,2741995673\n",
      "\"1,191st\",A- ,Parafernalha,647,10673919,2419651852\n",
      "\"1,192nd\",A- ,Galileo,2760,2057489,1339235573\n",
      "\"1,193rd\",A- ,ToyTocToc,379,3483539,1106450841\n",
      "\"1,194th\",A- ,Jayas Kumar,97,1682736,174797690\n",
      "\"1,195th\",A- ,Passenger,213,4406430,2450875512\n",
      "\"1,196th\",A- ,더깊이10,1466,76812,50347842\n",
      "\"1,197th\",A- ,KIDZ RHYMES,232,802153,194965185\n",
      "\"1,198th\",A- ,Just For Laughs Gags Arabic,331,468812,309763353\n",
      "\"1,199th\",A- ,SSundee,1936,9224598,3777890297\n",
      "\"1,200th\",A- ,TVI,14460,972373,885972274\n",
      "\"1,201st\",A- ,Fortnite Poggers,86,1676802,90961377\n",
      "\"1,202nd\",A- ,Hoạt Hình Cartoon,118,-- ,49116658\n",
      "\"1,203rd\",A- ,Crime Watch Daily,3452,1258527,701318998\n",
      "\"1,204th\",A- ,Ferrugem Oficial,112,1813712,521501181\n",
      "\"1,205th\",A- ,MALAYALAM MOVIE ZONE,22,-- ,28709112\n",
      "\"1,206th\",A- ,TheEngineeringFamily,2704,2856775,3937497827\n",
      "\"1,207th\",A- ,Kwebbelkop,3545,8922422,3373682152\n",
      "\"1,208th\",A- ,Screen Rant,1822,5151155,1866471947\n",
      "\"1,209th\",A- ,TL Toysreview,67,-- ,77299278\n",
      "\"1,210th\",A- ,Matt Stonie,322,6021280,1094725876\n",
      "\"1,211th\",A- ,ディズニー・スタジオ公式…,847,350214,108899893\n",
      "\"1,212th\",A- ,Carter Sharer,123,2155074,324012497\n",
      "\"1,213th\",A- ,الصوت التونسى,126,791763,98059395\n",
      "\"1,214th\",A- ,Jkk Entertainment,58,2777990,427618227\n",
      "\"1,215th\",A- ,مصارعة المحترفين,325,1329767,349927065\n",
      "\"1,216th\",A- ,ETtoday星光雲/官方平台,2279,224343,218655099\n",
      "\"1,217th\",A- ,Lil pump,21,10474413,1712431407\n",
      "\"1,218th\",A- ,Ghazi B TV غازي بي تي في,511,1023183,323640430\n",
      "\"1,219th\",A- ,CritiCalSrb,267,472573,627777758\n",
      "\"1,220th\",A- ,GamerGirl,1157,2291522,748832809\n",
      "\"1,221st\",A- ,Официальный канал…,7274,3840699,2852364848\n",
      "\"1,222nd\",A- ,key kid,19,947379,242686877\n",
      "\"1,223rd\",A- ,Kimberly Loaiza,68,13080839,673517610\n",
      "\"1,224th\",A- ,Rasmey Hang Meas,1651,1319793,731210573\n",
      "\"1,225th\",A- ,Aya Nakamura,12,970106,299497195\n",
      "\"1,226th\",A- ,Chetak,6232,1762161,625457816\n",
      "\"1,227th\",A- ,ProsafiaGaming,1065,1178901,1020550927\n",
      "\"1,228th\",A- ,Top 1 Trọng Án,1897,270272,131417570\n",
      "\"1,229th\",A- ,Saas Bahu Aur Betiyaan,9987,1681614,820102614\n",
      "\"1,230th\",A- ,Анимационные…,1489,2738601,2191975741\n",
      "\"1,231st\",A- ,AllGoodThingsNetwork,105,571733,185263251\n",
      "\"1,232nd\",A- ,MetallicaTV,1321,3750459,1805371644\n",
      "\"1,233rd\",A- ,Porta dos Fundos,899,14802776,4218570476\n",
      "\"1,234th\",A- ,OPPO,161,1751228,449486371\n",
      "\"1,235th\",A- ,뽀로로(Pororo),2283,2631227,3398767467\n",
      "\"1,236th\",A- ,whitneyhoustonVEVO,60,2693314,2252575081\n",
      "\"1,237th\",A- ,Rathore Cassettes HD,727,774102,236665494\n",
      "\"1,238th\",A- ,Betty Crocker,602,98921,17361214\n",
      "\"1,239th\",A- ,Disney Junior LA,1364,2900113,1923871918\n",
      "\"1,240th\",A- ,InquisitorMaster - My Gameplays are…,568,2843442,694660092\n",
      "\"1,241st\",A- ,AM3NlC,3699,11323230,3125213806\n",
      "\"1,242nd\",A- ,JFlaMusic,197,9261084,1714185273\n",
      "\"1,243rd\",A- ,Alex Boyko,530,3676183,902337992\n",
      "\"1,244th\",A- ,قناة منوعات…,85,3178697,744866959\n",
      "\"1,245th\",A- ,Grammarly,69,112192,1289948925\n",
      "\"1,246th\",A- ,Лунтик,741,3288601,6790620554\n",
      "\"1,247th\",A- ,Liova and Toys,32,4690036,366253071\n",
      "\"1,248th\",A- ,Tom Çocuk Şarkıları,549,-- ,354760449\n",
      "\"1,249th\",A- ,Wassabi,803,11113619,3811806180\n",
      "\"1,250th\",A- ,Supreme,444,571597,203994999\n",
      "\"1,251st\",A- ,Univrsal Media Pro,3676,1772292,836840446\n",
      "\"1,252nd\",A- ,Riya Films,3699,1080240,400573269\n",
      "\"1,253rd\",A- ,DisneyJuniorIT,1299,1213078,823448908\n",
      "\"1,254th\",A- ,MattyBRaps,237,10659754,4951593875\n",
      "\"1,255th\",A- ,Katie Angel,288,7318965,722313532\n",
      "\"1,256th\",A- ,Km Music,173,880442,555085477\n",
      "\"1,257th\",A- ,Power Vision,701,3003487,1123002937\n",
      "\"1,258th\",A- ,Aquarela Kids,295,1810288,503727375\n",
      "\"1,259th\",A- ,ここなっちゃん,419,451936,448640273\n",
      "\"1,260th\",A- ,Toy School,2,1179190,31904372\n",
      "\"1,261st\",A- ,ToysYJuguetesTV,628,4409837,1499616019\n",
      "\"1,262nd\",A- ,Favio Apaza-MansOn,1325,1762800,952852670\n",
      "\"1,263rd\",A- ,Traditional Massage,62,930567,382491151\n",
      "\"1,264th\",A- ,SlivkiShow,245,11409757,1893133340\n",
      "\"1,265th\",A- ,CrazyFrogVEVO,12,4585990,2477475081\n",
      "\"1,266th\",A- ,Gajendra Verma,12,1482606,198493220\n",
      "\"1,267th\",A- ,Meera Stars,136,1247922,150200942\n",
      "\"1,268th\",A- ,Ahmed Sakr,221,-- ,129685279\n",
      "\"1,269th\",A- ,Телеканал ТНТ,6513,1703760,904881206\n",
      "\"1,270th\",A- ,مصطفى GAME OVER,530,3191191,774875695\n",
      "\"1,271st\",A- ,➜FavijTV™,1777,4836210,2597979588\n",
      "\"1,272nd\",A- ,SEPL VIDEO,11182,828671,289874658\n",
      "\"1,273rd\",A- ,VIBE & WAVE -Dance Studio Nepal,38,347489,67986046\n",
      "\"1,274th\",A- ,NAJWA FAROUK OFFICIELLE,22,487254,60906853\n",
      "\"1,275th\",A- ,Animals Cartoons For Kids /- Learn…,99,616510,125670416\n",
      "\"1,276th\",A- ,MostAmazingTop10,2083,4185901,1259443864\n",
      "\"1,277th\",A- ,Skyheart's Toys,393,1994976,905368623\n",
      "\"1,278th\",A- ,TOYS on the go!,781,5181703,3593162117\n",
      "\"1,279th\",A- ,ZEE5,576,379968,168335034\n",
      "\"1,280th\",A- ,Wengie,205,12369837,1149147282\n",
      "\"1,281st\",A- ,Anitta,40,9818513,2854795438\n",
      "\"1,282nd\",A- ,Major Lazer,209,11251137,5904552350\n",
      "\"1,283rd\",A- ,Cartoon Studio,31,1997139,536835661\n",
      "\"1,284th\",A- ,Paulo Londra,17,5487379,940191676\n",
      "\"1,285th\",A- ,NMF News,40872,4393689,1885991223\n",
      "\"1,286th\",A- ,KemalpaR,85,194523,61557179\n",
      "\"1,287th\",A- ,タキロン Takilong Kids' Toys,1915,663354,412336945\n",
      "\"1,288th\",A- ,Amar Audio,2640,-- ,911102373\n",
      "\"1,289th\",A- ,MarkRonsonVEVO,50,3978658,3385018974\n",
      "\"1,290th\",A- ,elrubiusOMG,778,30796414,6870520811\n",
      "\"1,291st\",A- ,MonLaferteVEVO,61,2483071,1292184440\n",
      "\"1,292nd\",A- ,Videos4Kids,483,724094,257739936\n",
      "\"1,293rd\",A- ,짤킹,159,-- ,50903434\n",
      "\"1,294th\",A- ,Red Hot Chili Peppers,138,3764589,2912082188\n",
      "\"1,295th\",A- ,VideoClipVietNam,5,56096,8496\n",
      "\"1,296th\",A- ,Xand Avião,530,1495893,502741829\n",
      "\"1,297th\",A- ,SecondsOut,6251,165823,164856588\n",
      "\"1,298th\",A- ,The Late Show with Stephen Colbert,4230,4834885,3498365577\n",
      "\"1,299th\",A- ,nursery rhymes learn and play,25,-- ,48552313\n",
      "\"1,300th\",A- ,RaceToyTime,690,1520258,930736981\n",
      "\"1,301st\",A- ,Rai,11897,2221184,1317437992\n",
      "\"1,302nd\",A- ,elcarteldesantatv,244,4212422,1595645003\n",
      "\"1,303rd\",A- ,Armin van Buuren,1501,2684650,619348721\n",
      "\"1,304th\",A- ,Zee News,87417,3833804,1141128840\n",
      "\"1,305th\",A- ,Dharma Productions,952,2789887,1576303270\n",
      "\"1,306th\",A- ,キヨ。,1522,1537256,974998184\n",
      "\"1,307th\",A- ,BBC Earth,1390,2978955,925243135\n",
      "\"1,308th\",A- ,20sarasa（にーさら）,475,1525288,1225995975\n",
      "\"1,309th\",A- ,Yeni Gelin,1055,1010048,1180722188\n",
      "\"1,310th\",A- ,ABC KIDS TV,51,-- ,160020168\n",
      "\"1,311th\",A- ,Coffi Channel,2421,4523072,1613191178\n",
      "\"1,312th\",A- ,TiempodeSol,158,1343173,621437249\n",
      "\"1,313th\",A- ,Nhan KTV,1357,-- ,209025339\n",
      "\"1,314th\",A- ,PugPiano,38,535380,236608893\n",
      "\"1,315th\",A- ,KjraGaming,1883,2196262,1626681644\n",
      "\"1,316th\",A- ,Daily Fortnite Battle Royale…,620,2640631,601379654\n",
      "\"1,317th\",A- ,Rajshri Tamil,6562,1539122,1249759673\n",
      "\"1,318th\",A- ,Mobile MOBA Việt,2343,2888952,1108301474\n",
      "\"1,319th\",A- ,Adexe & Nau,126,7588567,2657108669\n",
      "\"1,320th\",A- ,Уральские Пельмени,1004,2457501,1087249108\n",
      "\"1,321st\",A- ,Sai Recordds Digital,2348,1276962,470808169\n",
      "\"1,322nd\",A- ,Mickey Mouse,235,2189629,1607342508\n",
      "\"1,323rd\",A- ,七不哒哒,1195,137811,59047522\n",
      "\"1,324th\",A- ,Nikol CrazyFamily,728,3682697,1187496318\n",
      "\"1,325th\",A- ,VIDEO CHO BE YEU,657,-- ,480595157\n",
      "\"1,326th\",A- ,Hector19Aquino,391,1066409,808468034\n",
      "\"1,327th\",A- ,Gael 777,54,714188,153329523\n",
      "\"1,328th\",A- ,Telugu Filmnagar,12902,4440458,2163185643\n",
      "\"1,329th\",A- ,Sunny TV,1,-- ,131958\n",
      "\"1,330th\",A- ,KuZin ToysReview,187,-- ,103154397\n",
      "\"1,331st\",A- ,PUMBA,221,1241638,333105995\n",
      "\"1,332nd\",A- ,บ้านสิงห์มิวสิค…,562,969026,317876412\n",
      "\"1,333rd\",A- ,Earth,30,2395157,246277376\n",
      "\"1,334th\",A- ,Eagle Music Video Station,348,1830357,363889936\n",
      "\"1,335th\",A- ,FAM JAM,88,2280348,431118496\n",
      "\"1,336th\",A- ,PlanetaOfficial,5181,1392239,3060758208\n",
      "\"1,337th\",A- ,HooplaKidz Franҫais - Comptines et…,358,997671,240365487\n",
      "\"1,338th\",A- ,Manucraft,3691,4053307,1359189838\n",
      "\"1,339th\",A- ,Camila Loures,655,6545942,714963694\n",
      "\"1,340th\",A- ,4G Entertainment,2730,-- ,179243201\n",
      "\"1,341st\",A- ,HZHtube Kids Fun بالعربية,26,1963452,432371144\n",
      "\"1,342nd\",A- ,CoryxKenshin,1293,3186768,1332653849\n",
      "\"1,343rd\",A- ,I Can Spirit,325,1423393,384173581\n",
      "\"1,344th\",A- ,MindofRez,475,2203111,344408373\n",
      "\"1,345th\",A- ,The Infographics Show,539,2958244,476370140\n",
      "\"1,346th\",A- ,Sing King Karaoke,1634,4825342,2184752541\n",
      "\"1,347th\",A- ,G Series (Music),1950,1265702,287883460\n",
      "\"1,348th\",A- ,Mavi VD,156,68641,40815903\n",
      "\"1,349th\",A- ,Serie A,16519,915316,228982277\n",
      "\"1,350th\",A- ,The Young Turks,33882,4163102,4380447114\n",
      "\"1,351st\",A- ,GumTea TV,14,114244,9495\n",
      "\"1,352nd\",A- ,Lucky Surprise ToysReview,76,1767919,397961992\n",
      "\"1,353rd\",A- ,Nhạc Thiếu Nhi,136,-- ,433118494\n",
      "\"1,354th\",A- ,Masha y el Oso,223,3771504,1521992518\n",
      "\"1,355th\",A- ,Travel Thirsty,367,1952558,670583200\n",
      "\"1,356th\",A- ,Animals Rhymes,48,1202354,191929839\n",
      "\"1,357th\",A- ,MundoBitaVEVO,37,856291,1197527067\n",
      "\"1,358th\",A- ,BRIGHT TV,53494,2018635,1405218521\n",
      "\"1,359th\",A- ,Technical Guruji,1850,8531964,763573299\n",
      "\"1,360th\",A- ,TraLaLa - Cantece si desene animate…,1234,-- ,2359730559\n",
      "\"1,361st\",A- ,Mammyたまご,558,706858,568522550\n",
      "\"1,362nd\",A- ,Infinite,492,6930368,819192179\n",
      "\"1,363rd\",A- ,Kids TV India Hindi Nursery Rhymes,545,1909690,694524206\n",
      "\"1,364th\",A- ,Cosculluela El Principe,66,3566275,1032028562\n",
      "\"1,365th\",A- ,HobbyKidsTV,2843,3215705,5825849043\n",
      "\"1,366th\",A- ,Otlichnoe / Отличное ТВ /…,657,47920,36206735\n",
      "\"1,367th\",A- ,Fresh Media Records,135,2027928,632624062\n",
      "\"1,368th\",A- ,The Lallantop,3441,3243808,575570537\n",
      "\"1,369th\",A- ,Video Game News,3937,892818,420879077\n",
      "\"1,370th\",A- ,HighlightsNepal,7713,2115930,1170202934\n",
      "\"1,371st\",A- ,Maha Cartoon TV XD,69,641431,122314377\n",
      "\"1,372nd\",A- ,SWTAD - Stories with Toys & Dolls,567,1243718,748231361\n",
      "\"1,373rd\",A- ,adidas Football,100,1361377,167841270\n",
      "\"1,374th\",A- ,TNV HINDI UPDATES,3136,-- ,191557950\n",
      "\"1,375th\",A- ,Toy Trains 4u,2860,3225739,4331149495\n",
      "\"1,376th\",A- ,FIFATV,7125,7202359,1810297231\n",
      "\"1,377th\",A- ,Lime Tube[라임튜브],1245,1364735,1124291156\n",
      "\"1,378th\",A- ,Star Maa,5760,1586465,394246894\n",
      "\"1,379th\",A- ,東森新聞 CH51,188502,720563,1109957965\n",
      "\"1,380th\",A- ,ReikaSole,270,511224,177363718\n",
      "\"1,381st\",A- ,DALLMYD,423,5574584,477086744\n",
      "\"1,382nd\",A- ,Patty Mayo,70,3535958,182148592\n",
      "\"1,383rd\",A- ,Phim Khủng,516,125622,50755209\n",
      "\"1,384th\",A- ,Promiflash,12003,1149082,1659522122\n",
      "\"1,385th\",A- ,AdeS México,13,15506,58710406\n",
      "\"1,386th\",A- ,Alesso,26,1765403,185298360\n",
      "\"1,387th\",A- ,LINDA TV,15,-- ,62667589\n",
      "\"1,388th\",A- ,GurinelTV,2329,1218000,730909496\n",
      "\"1,389th\",A- ,Toddler Entertainment,32,169977,32524013\n",
      "\"1,390th\",A- ,CGMeetup,1023,1605316,459748920\n",
      "\"1,391st\",A- ,10-Minute Crafts,180,346691,114871583\n",
      "\"1,392nd\",A- ,Vodafone Egypt,720,662952,526388977\n",
      "\"1,393rd\",A- ,Juice WRLD,36,1340682,303603292\n",
      "\"1,394th\",A- ,LBCI Lebanon,43551,-- ,1013065174\n",
      "\"1,395th\",A- ,RussVEVO,60,2368671,894177248\n",
      "\"1,396th\",A- ,Bely y Beto Oficial,211,955709,397360217\n",
      "\"1,397th\",A- ,kevingatesTV,217,4001717,2758246285\n",
      "\"1,398th\",A- ,Çukur,779,1766777,1142245127\n",
      "\"1,399th\",A- ,MJ Media,278,298495,131561538\n",
      "\"1,400th\",A- ,Луномосик,168,2069455,533503000\n",
      "\"1,401st\",A- ,NhacPro Tube,458,3568246,2079095197\n",
      "\"1,402nd\",A- ,SandraCiresArt,647,6987276,762450462\n",
      "\"1,403rd\",A- ,Boyce Avenue,342,11715336,4220875406\n",
      "\"1,404th\",A- ,MINIC BABIES,16,235275,44938860\n",
      "\"1,405th\",A- ,Cris Devil Gamer,637,4205816,930054855\n",
      "\"1,406th\",A- ,Humberto e Ronaldo,157,980156,336144858\n",
      "\"1,407th\",A- ,Maymo,277,2391801,1126589074\n",
      "\"1,408th\",A- ,DJ Game Remix in Thailand,343,1956107,640855322\n",
      "\"1,409th\",A- ,Al Nahar TV,35887,2889447,1241736579\n",
      "\"1,410th\",A- ,Amazon Prime Video Brasil,13,45793,33357745\n",
      "\"1,411th\",A- ,MySpass,5398,1630693,2120449865\n",
      "\"1,412th\",A- ,FWF Indian Movies,873,1526912,601736023\n",
      "\"1,413th\",A- ,Ennahar tv,121387,2017921,859483866\n",
      "\"1,414th\",A- ,MAIKI021,798,7198107,750729697\n",
      "\"1,415th\",A- ,Toys Academy,523,1702383,699082886\n",
      "\"1,416th\",A- ,Aphmau,2627,3949940,2150608967\n",
      "\"1,417th\",A- ,กระต่าย…,154,1068571,203828453\n",
      "\"1,418th\",A- ,CanalKids - Brinquedos Surpresas,914,3406882,1066122287\n",
      "\"1,419th\",A- ,FailArmy,682,14136558,4894420827\n",
      "\"1,420th\",A- ,حول العالم !؟,1371,4802483,816275911\n",
      "\"1,421st\",A- ,КЛОНДАЙК-ТВ…,121,190001,60713289\n",
      "\"1,422nd\",A- ,ToyLabTV,179,1311479,1074247695\n",
      "\"1,423rd\",A- ,OficialHungria,36,6050979,1422351054\n",
      "\"1,424th\",A- ,Sorpresas Divertidas,667,1836170,601921316\n",
      "\"1,425th\",A- ,50CentVEVO,63,4718895,3464225247\n",
      "\"1,426th\",A- ,Bhojpuri HD Film,354,1088238,347370859\n",
      "\"1,427th\",A- ,Los Juguetes de Titi,1116,5269469,2327780806\n",
      "\"1,428th\",A- ,Sevimli Dostlar,309,2401704,1618870946\n",
      "\"1,429th\",A- ,STRELKA Уличные Бои /…,2256,1079611,519736110\n",
      "\"1,430th\",A- ,Nickelodeon UK,1323,1325024,916201067\n",
      "\"1,431st\",A- ,MasterChef Brasil,782,1921212,790374502\n",
      "\"1,432nd\",A- ,Jan Ackley,8,216849,59310990\n",
      "\"1,433rd\",A- ,Cennet Kuşlarım TV,128,366480,85954713\n",
      "\"1,434th\",A- ,Unique Vibes,430,323758,170952139\n",
      "\"1,435th\",A- ,What Would You Do?,220,2637063,688356947\n",
      "\"1,436th\",A- ,Milusik Lanusik,161,2179174,675811948\n",
      "\"1,437th\",A- ,Angry Birds,1697,2577647,3718848349\n",
      "\"1,438th\",A- ,Filmistaan,259,1550806,515529795\n",
      "\"1,439th\",A- ,Fun Friend Indian,33,624083,59964197\n",
      "\"1,440th\",A- ,はじめしゃちょーの畑,106,941230,141619046\n",
      "\"1,441st\",A- ,Rtv Drama,1519,1343343,288384131\n",
      "\"1,442nd\",A- ,おるたなChannel,1383,1981323,1358596595\n",
      "\"1,443rd\",A- ,Basim Karbalaei / باسم…,678,3513030,1061826856\n",
      "\"1,444th\",A- ,TheNewAdamb99,207,1342817,128086641\n",
      "\"1,445th\",A- ,Bayby Fun TV,15,-- ,58752572\n",
      "\"1,446th\",A- ,Evan Kids,200,2469427,914255019\n",
      "\"1,447th\",A- ,Top5Gaming,255,1281107,199056596\n",
      "\"1,448th\",A- ,Raghav Digital,27,1983899,661738566\n",
      "\"1,449th\",A- ,Toys Time,270,-- ,288617576\n",
      "\"1,450th\",A- ,Edu car toy school,831,982135,515257873\n",
      "\"1,451st\",A- ,Santa Songs,447,-- ,1674927733\n",
      "\"1,452nd\",A- ,Toy Egg Videos,602,988941,797011966\n",
      "\"1,453rd\",A- ,My little Nastya,455,1046874,369256208\n",
      "\"1,454th\",A- ,Twins & Toys,63,1292398,440980625\n",
      "\"1,455th\",A- ,Wedding Time,25,-- ,79414795\n",
      "\"1,456th\",A- ,滾石唱片 ROCK RECORDS,4118,2129723,2356720673\n",
      "\"1,457th\",A- ,Aswini Tv,499,1017736,560240171\n",
      "\"1,458th\",A- ,BIG OG-ANIC,21,805557,131735270\n",
      "\"1,459th\",A- ,Canal da Lelê,412,3427092,1042736575\n",
      "\"1,460th\",A- ,ヒカル（Hikaru）,806,2734392,1529728429\n",
      "\"1,461st\",A- ,AWESMR kids,1847,4565930,3303985862\n",
      "\"1,462nd\",A- ,We support you,1802,789277,252285978\n",
      "\"1,463rd\",A- ,MBC GROUP,4947,5756281,3153143385\n",
      "\"1,464th\",A- ,Hiralal Mahto,78,90150,24762168\n",
      "\"1,465th\",A- ,Smart Kids One Plus,97,-- ,313726236\n",
      "\"1,466th\",A- ,Tic Tac Toy,315,1861708,908555930\n",
      "\"1,467th\",A- ,TuCanalMiCanal,104,663011,537857722\n",
      "\"1,468th\",A- ,WatchMojo Español,1022,4576203,846234553\n",
      "\"1,469th\",A- ,Voice of Heart Music,778,2188954,838927856\n",
      "\"1,470th\",A- ,Wael Sharaf وائل شرف,604,729603,368663660\n",
      "\"1,471st\",A- ,PewDiePie,3601,65995310,18684630003\n",
      "\"1,472nd\",A- ,NoobFromUA,3473,839315,688061179\n",
      "\"1,473rd\",A- ,Super Kids TV,244,3025759,1601044814\n",
      "\"1,474th\",A- ,86 & Custom Protection NET,2502,1144345,611481861\n",
      "\"1,475th\",A- ,The Jerry Springer Show,3268,1184778,664552794\n",
      "\"1,476th\",A- ,BonBon TV,129,142516,58893670\n",
      "\"1,477th\",A- ,serial,1921,2293472,1666304371\n",
      "\"1,478th\",A- ,#Mind Warehouse,360,4644035,1337876967\n",
      "\"1,479th\",A- ,Tia Dani,259,1343883,310257045\n",
      "\"1,480th\",A- ,Juliana Baltar,460,7090234,1435731933\n",
      "\"1,481st\",A- ,Premium Digiplex Movies,232,2075952,944834824\n",
      "\"1,482nd\",A- ,Viacom18 Motion Pictures,1084,1087411,550044639\n",
      "\"1,483rd\",A- ,Google Россия,504,415252,315409060\n",
      "\"1,484th\",A- ,Dobre Brothers,126,4546676,653337225\n",
      "\"1,485th\",A- ,برنامج هي وبس,1590,1386754,129724059\n",
      "\"1,486th\",A- ,Venus Regional,2863,2515931,855469926\n",
      "\"1,487th\",A- ,Rytta l ريتا,9,85910,27012127\n",
      "\"1,488th\",A- ,Cartoon India Tv 2018,562,-- ,89256157\n",
      "\"1,489th\",A- ,Natti Natasha,17,1007128,191254670\n",
      "\"1,490th\",A- ,benny blanco,4,80521,66750293\n",
      "\"1,491st\",A- ,Polimer News,46419,1013339,435478046\n",
      "\"1,492nd\",A- ,ElAlfaElJefeTV,68,1395713,416795697\n",
      "\"1,493rd\",A- ,iDream Telugu Movies,68810,2176761,1410477548\n",
      "\"1,494th\",A- ,Yuki Satachi [af taehyung],366,-- ,542626405\n",
      "\"1,495th\",A- ,Baby Big Brain,901,795959,399703487\n",
      "\"1,496th\",A- ,MelendiOficialVEVO,52,963125,638301105\n",
      "\"1,497th\",A- ,HooplaKidz Brasil,184,1568285,363867757\n",
      "\"1,498th\",A- ,Weird Stuff,436,670411,265255467\n",
      "\"1,499th\",A- ,FutureVEVO,129,4742093,2708707410\n",
      "\"1,500th\",A- ,Happy Kids Games,170,-- ,227090419\n",
      "\"1,501st\",A- ,MUEVA Records,27,4037690,1260510782\n",
      "\"1,502nd\",A- ,QPark,244,4300870,343839616\n",
      "\"1,503rd\",A- ,Twine Cheeks,88,713126,80161302\n",
      "\"1,504th\",A- ,KARAOKE TIẾN TÀI,1109,-- ,396469493\n",
      "\"1,505th\",A- ,FOX,8583,1760600,1921538342\n",
      "\"1,506th\",A- ,Nickelodeon India,265,910721,423681929\n",
      "\"1,507th\",A- ,AndrewSchrock,2469,1990073,1130779526\n",
      "\"1,508th\",A- ,Shivani Ka Thumka,55,502102,196687991\n",
      "\"1,509th\",A- ,TBNRFrags,1696,3007986,493779209\n",
      "\"1,510th\",A- ,I AM WILDCAT,915,6513108,1228262505\n",
      "\"1,511th\",A- ,MAROTINHO FUNK,1473,-- ,100566945\n",
      "\"1,512th\",A- ,Klinik am Südring,637,689405,353318485\n",
      "\"1,513th\",A- ,ronaldOMG,1286,1738105,554731715\n",
      "\"1,514th\",A- ,Alan Becker,78,6139179,723897853\n",
      "\"1,515th\",A- ,Tommy'sToys,492,-- ,1334167224\n",
      "\"1,516th\",A- ,Al Rojo Vivo,25101,1333787,763393831\n",
      "\"1,517th\",A- ,La Voz Kids Colombia,754,2812994,1575578665\n",
      "\"1,518th\",A- ,Peppa Pig em Português Brasil -…,255,2884019,464090974\n",
      "\"1,519th\",A- ,Kara Sevda,1712,1563388,1350260390\n",
      "\"1,520th\",A- ,Subhro Banerjee,15,322070,44552021\n",
      "\"1,521st\",A- ,VTC14 - Thời tiết - Môi…,78042,852952,689365351\n",
      "\"1,522nd\",A- ,FUNnel Vision,434,6668267,6505882342\n",
      "\"1,523rd\",A- ,Great Big Story,1917,2785058,836092463\n",
      "\"1,524th\",A- ,RT,40763,2995772,2516114490\n",
      "\"1,525th\",A- ,NHK,1742,729086,393349296\n",
      "\"1,526th\",A- ,Sony Pictures Entertainment,3124,2597786,2069921703\n",
      "\"1,527th\",A- ,Warner Bros. Pictures,2298,5956287,3432994097\n",
      "\"1,528th\",A- ,The Official Gummibär Channel,355,3363922,3297602857\n",
      "\"1,529th\",A- ,BBGro,36,762813,190778559\n",
      "\"1,530th\",A- ,Sofia Reyes,52,1379978,462270676\n",
      "\"1,531st\",A- ,Hakai,408,597257,212706766\n",
      "\"1,532nd\",A- ,Banco do Brasil,544,82922,109488889\n",
      "\"1,533rd\",A- ,Maiara e Maraisa,74,4734192,3012780219\n",
      "\"1,534th\",A- ,Bolly Kick,582,2569118,956247971\n",
      "\"1,535th\",A- ,兄者弟者,4129,2278563,1990196213\n",
      "\"1,536th\",A- ,AwesomeToySurprises,1312,-- ,572686988\n",
      "\"1,537th\",A- ,Blu Toys Club Surprise,2267,7003498,8619544370\n",
      "\"1,538th\",A- ,Kid Studio,1168,2716765,1957159514\n",
      "\"1,539th\",A- ,eating show,1438,-- ,189258729\n",
      "\"1,540th\",A- ,Ariana Grande`,107,26061003,275668692\n",
      "\"1,541st\",A- ,HooplaKidz Deutsch,230,864748,157320523\n",
      "\"1,542nd\",A- ,Jorge el Curioso en Español,124,1773222,535135139\n",
      "\"1,543rd\",A- ,OyuncaX TV,1350,1906758,1581641136\n",
      "\"1,544th\",A- ,BonJoviVEVO,130,3033493,3070535967\n",
      "\"1,545th\",A- ,RT en Español,42027,1726552,1131663531\n",
      "\"1,546th\",A- ,Cinekorn Movies,276,1617932,535354342\n",
      "\"1,547th\",A- ,Max Maximov,376,1380835,307140973\n",
      "\"1,548th\",A- ,#Refúgio Mental,312,6979032,1135440729\n",
      "\"1,549th\",A- ,DUCK-Vibes,3,284736,62275671\n",
      "\"1,550th\",A- ,Phuong Le,78,-- ,148781161\n",
      "\"1,551st\",A- ,Super Kids,84,2444479,586136311\n",
      "\"1,552nd\",A- ,Jonni Valentayn,142,1914417,1326886102\n",
      "\"1,553rd\",A- ,Chiquititas SBT,1388,3312224,1671895637\n",
      "\"1,554th\",A- ,RobleisIUTU,346,5565489,1031576046\n",
      "\"1,555th\",A- ,Myntra,1117,332987,309918457\n",
      "\"1,556th\",A- ,ABN Telugu,14918,1332182,256941268\n",
      "\"1,557th\",A- ,The X Factor UK,4155,6737396,5351304371\n",
      "\"1,558th\",A- ,Аминка Витаминка,411,1842960,1763880178\n",
      "\"1,559th\",A- ,Funny Vines,135,1783560,504979598\n",
      "\"1,560th\",A- ,Kinh Quốc Entertainment,53,384283,175946180\n",
      "\"1,561st\",A- ,Robocar POLI TV,1359,1631271,1467614051\n",
      "\"1,562nd\",A- ,Super Siah,218,1147499,325817295\n",
      "\"1,563rd\",A- ,Adult Swim,8599,3203596,2269196729\n",
      "\"1,564th\",A- ,Disney FR,2319,1806181,1749462132\n",
      "\"1,565th\",A- ,fumikiri channel,136,757487,468228902\n",
      "\"1,566th\",A- ,PinkVEVO,121,7650081,4115264804\n",
      "\"1,567th\",A- ,Puthiya Thalaimurai TV,151597,1706859,712765728\n",
      "\"1,568th\",A- ,Geetha Arts,1484,1032686,595115082\n",
      "\"1,569th\",A- ,DJ ALEX,248,747280,240717569\n",
      "\"1,570th\",A- ,KBSKpop,13546,2506031,1429180123\n",
      "\"1,571st\",A- ,MBC THE VOICE KIDS,300,4568109,2928673186\n",
      "\"1,572nd\",A- ,RHINO,848,2423804,1805881889\n",
      "\"1,573rd\",A- ,또봇 V (Tobot V),1088,1256545,1667747443\n",
      "\"1,574th\",A- ,takahashi taiyou,1433,1873878,743127975\n",
      "\"1,575th\",A- ,Natkhat TV - Hindi Rhymes and Tales…,122,1018078,359942483\n",
      "\"1,576th\",A- ,VGDR videos,97,301468,28436842\n",
      "\"1,577th\",A- ,CalumScottVEVO,43,1324250,637226709\n",
      "\"1,578th\",A- ,보겸 TV,8055,2534561,1070414960\n",
      "\"1,579th\",A- ,Voot Kids,235,503864,184263596\n",
      "\"1,580th\",A- ,WhiteZunder,4180,2960772,883368843\n",
      "\"1,581st\",A- ,ManoWalterVEVO,30,1639793,682411740\n",
      "\"1,582nd\",A- ,Noticias Caracol,43468,959473,276064049\n",
      "\"1,583rd\",A- ,Zapping Sauvage,407,618860,222444613\n",
      "\"1,584th\",A- ,Omar & Hana - Lagu Kanak-Kanak…,101,921738,418585507\n",
      "\"1,585th\",A- ,PizzaSlice,145,702841,246877545\n",
      "\"1,586th\",A- ,버스에 바퀴가 TV,757,-- ,121913387\n",
      "\"1,587th\",A- ,CANAL+,1136,223592,83092718\n",
      "\"1,588th\",A- ,Shemaroo Bollywood Comedy,940,2358605,697450678\n",
      "\"1,589th\",A- ,CARLOS TUTORIAIS,257,-- ,24329466\n",
      "\"1,590th\",A- ,Бернард,187,415422,247081246\n",
      "\"1,591st\",A- ,Dj Adity,98,-- ,79166460\n",
      "\"1,592nd\",A- ,Viên Kẹo Nhỏ,112,-- ,43456407\n",
      "\"1,593rd\",A- ,Stygma Beast,87,412358,64048785\n",
      "\"1,594th\",A- ,KIDS ZONE TV,135,2179914,467509616\n",
      "\"1,595th\",A- ,Solo Enganchados,776,275155,108404687\n",
      "\"1,596th\",A- ,The Surprise For Kids,136,2788564,670807104\n",
      "\"1,597th\",A- ,OHA diyorum!,2370,4801222,2651086038\n",
      "\"1,598th\",A- ,YAPYAP,2060,4230987,2394727608\n",
      "\"1,599th\",A- ,FilterCopy,235,3092597,465088124\n",
      "\"1,600th\",A- ,Carinha de Anjo,1884,4089888,1714361387\n",
      "\"1,601st\",A- ,Zaccharie de la Mallée,39,59438,34537605\n",
      "\"1,602nd\",A- ,Proximity,1182,7335491,3107986894\n",
      "\"1,603rd\",A- ,Olympic,7292,2876126,1418540665\n",
      "\"1,604th\",A- ,Whatsapp Status Videos,203,-- ,172987372\n",
      "\"1,605th\",A- ,Đỗ Duy Nam,99,1317339,396445858\n",
      "\"1,606th\",A- ,Johny FamilyShow,99,808908,174614923\n",
      "\"1,607th\",A- ,Hành Tinh Đồ Chơi - Toy Planet,469,901241,330080326\n",
      "\"1,608th\",A- ,Lyna,2324,3541861,1413952715\n",
      "\"1,609th\",A- ,Mundo Bita,45,922407,656311203\n",
      "\"1,610th\",A- ,Melliart,83,3992172,612452009\n",
      "\"1,611th\",A- ,AuronPlay,341,10025556,1376607004\n",
      "\"1,612th\",A- ,ラファエル,1262,1966087,917011194\n",
      "\"1,613th\",A- ,SVF,721,1971785,928887396\n",
      "\"1,614th\",A- ,ポッキー / PockySweets,2077,2118954,1856782092\n",
      "\"1,615th\",A- ,SOUND ME HANG Official,83,1378098,556647818\n",
      "\"1,616th\",A- ,Trap City,1448,11078452,2933271644\n",
      "\"1,617th\",A- ,Top Arab10s,908,1037346,304111140\n",
      "\"1,618th\",A- ,The Voice India Kids,552,1827987,769991029\n",
      "\"1,619th\",A- ,허팝Heopop,1235,2273167,1690027375\n",
      "\"1,620th\",A- ,Time In 913 تايم ان,157,982405,172389864\n",
      "\"1,621st\",A- ,E! Entertainment,2989,1265946,943775267\n",
      "\"1,622nd\",A- ,ElTrollino,1303,3484354,734608059\n",
      "\"1,623rd\",A- ,Josh Grey,430,302719,159655969\n",
      "\"1,624th\",A- ,rey vegeta,388,45432,31458109\n",
      "\"1,625th\",A- ,Clevver News,17618,4276640,3636488231\n",
      "\"1,626th\",A- ,BestKidsColoring,311,1707909,543029091\n",
      "\"1,627th\",A- ,六六撩劇,7277,313250,268855018\n",
      "\"1,628th\",A- ,Angle Music Official Channel,9568,1290485,497575006\n",
      "\"1,629th\",A- ,Vivo,1344,1972788,552503410\n",
      "\"1,630th\",A- ,Onedio,1057,2495852,947744970\n",
      "\"1,631st\",A- ,Lovely Kids Thailand,559,2218212,1058465941\n",
      "\"1,632nd\",A- ,Awakening Records,514,5751926,2524795914\n",
      "\"1,633rd\",A- ,Red Arcade,233,2592401,657814726\n",
      "\"1,634th\",A- ,BROO'S TV,38,655483,79327538\n",
      "\"1,635th\",A- ,PoliceActivity,592,1125474,402144532\n",
      "\"1,636th\",A- ,Awadhesh Premi Official,187,1054890,287940147\n",
      "\"1,637th\",A- ,Los juguetes de Arantxa,723,2136598,775316793\n",
      "\"1,638th\",A- ,CuriosityStream,489,63446,138238603\n",
      "\"1,639th\",A- ,PJ Masks Official,218,1752996,578374251\n",
      "\"1,640th\",A- ,Banglar Rs Music,493,683574,277439694\n",
      "\"1,641st\",A- ,Trung Nguyên Official,65,143818,25601499\n",
      "\"1,642nd\",A- ,Next9TvNews सीरियल…,30404,915574,407149985\n",
      "\"1,643rd\",A- ,KHON IN LAM OFFICIAL,145,581055,122638219\n",
      "\"1,644th\",A- ,FunToys Collector Disney Toys…,2417,10718272,14185582037\n",
      "\"1,645th\",A- ,米津玄師,47,2247482,1057621242\n",
      "\"1,646th\",A- ,VexTrex,137,-- ,52872341\n",
      "\"1,647th\",A- ,Мирошка ТВ,36,719811,140198570\n",
      "\"1,648th\",A- ,Malayalam News Time,2849,-- ,205127464\n",
      "\"1,649th\",A- ,XclusiveGoGo (Old Channel),4386,45298,66861377\n",
      "\"1,650th\",A- ,LadyGagaVEVO,141,9461329,5562639871\n",
      "\"1,651st\",A- ,BW Record Official,324,152942,47200809\n",
      "\"1,652nd\",A- ,Pinkfong! Canciones Infantiles,322,1123295,431925395\n",
      "\"1,653rd\",A- ,Pablo Alborán,140,3344659,2341355534\n",
      "\"1,654th\",A- ,Cartoon Network Россия,1164,1576200,477519288\n",
      "\"1,655th\",A- ,ЧЕРЕПАХА,180,512286,152594146\n",
      "\"1,656th\",A- ,jvnq,4295,4256912,1159204177\n",
      "\"1,657th\",A- ,Baby Nursery Rhymes,413,4630425,411578130\n",
      "\"1,658th\",A- ,CJ SO COOL,673,5867668,1070842842\n",
      "\"1,659th\",A- ,GameMixTreize,3635,2456049,910076822\n",
      "\"1,660th\",A- ,김재원의 즐거운게임 세상,719,943475,452043892\n",
      "\"1,661st\",A- ,ЛиПиСиН - Песенки…,110,722063,180466589\n",
      "\"1,662nd\",A- ,TapGameplay,9787,1137090,700129920\n",
      "\"1,663rd\",A- ,Mariale,832,10090271,885145077\n",
      "\"1,664th\",A- ,MiawAug,1637,2699400,557906361\n",
      "\"1,665th\",A- ,Dekja,1005,2215625,1006786274\n",
      "\"1,666th\",A- ,酷酷的文,365,509852,167960749\n",
      "\"1,667th\",A- ,SBS 뉴스,48538,319155,455433472\n",
      "\"1,668th\",A- ,Soosloli PoP,2936,18271,67983755\n",
      "\"1,669th\",A- ,MeLlamanFredy,660,3155629,433518677\n",
      "\"1,670th\",A- ,Hannah Stocking,76,4637967,739087884\n",
      "\"1,671st\",A- ,MD Entertainment,5249,970898,476835845\n",
      "\"1,672nd\",A- ,HJ NEWS,23596,-- ,1800148101\n",
      "\"1,673rd\",A- ,РОМАН ФЛОКИ,1069,1433565,257228659\n",
      "\"1,674th\",A- ,Netmediatama,23588,2073660,1383947955\n",
      "\"1,675th\",A- ,Rclbeauty101,390,13676932,3057980145\n",
      "\"1,676th\",A- ,LipaoGamer,6474,5947746,1426477659\n",
      "\"1,677th\",A- ,Indonesian Idol Junior,36,239887,42267265\n",
      "\"1,678th\",A- ,Beyond Wrestling,1820,885521,372804421\n",
      "\"1,679th\",A- ,ABP ANANDA,48516,898453,294368764\n",
      "\"1,680th\",A- ,Grace's World,200,1504202,1366807569\n",
      "\"1,681st\",A- ,Naiara Azevedo,116,4090068,1289841608\n",
      "\"1,682nd\",A- ,Tollywood Nagar,6926,782692,457705694\n",
      "\"1,683rd\",A- ,DARK SECRETS,144,5573654,427334348\n",
      "\"1,684th\",A- ,Pyaar Lafzon Mein Kahan,241,1864611,473597788\n",
      "\"1,685th\",A- ,Jokeasses,50,367360,45664161\n",
      "\"1,686th\",A- ,BanderitaX,683,1833426,226114641\n",
      "\"1,687th\",A- ,KanhaiyaCassette,2621,976564,496709082\n",
      "\"1,688th\",A- ,Говорящий Том и…,294,2303847,904811881\n",
      "\"1,689th\",A- ,RK Duggal Studios,601,2062324,519477163\n",
      "\"1,690th\",A- ,Candy Play TV,347,2652980,926289053\n",
      "\"1,691st\",A- ,SuperToyzCollector,109,517753,92106416\n",
      "\"1,692nd\",A- ,Las Aventuras de Dani y Evan,294,471814,205519592\n",
      "\"1,693rd\",A- ,Cambodia Wilderness,14,1167945,274461988\n",
      "\"1,694th\",A- ,Real Madrid Rueda de Prensa,1724,69107,23150848\n",
      "\"1,695th\",A- ,442oons,904,2109057,1223911603\n",
      "\"1,696th\",A- ,TVBS NEWS,161245,581582,1048630388\n",
      "\"1,697th\",A- ,Kanak News,37547,816774,409424537\n",
      "\"1,698th\",A- ,BiBaBo Nerf War,206,-- ,461666362\n",
      "\"1,699th\",A- ,Pueblo Teehee - Canciones…,170,647430,239043709\n",
      "\"1,700th\",A- ,ЮМОР ICTV -…,4736,1211864,644795263\n",
      "\"1,701st\",A- ,Cloudy Network,20,118031,88441193\n",
      "\"1,702nd\",A- ,БЕРИ И ДЕЛАЙ,985,2273304,354198335\n",
      "\"1,703rd\",A- ,Team Edge,435,4784584,1390855431\n",
      "\"1,704th\",A- ,Learn Colors For Kids,45,1026798,324889035\n",
      "\"1,705th\",A- ,TheSoundYouNeed,322,4712175,1915854909\n",
      "\"1,706th\",A- ,vicentefernandezVEVO,450,1208069,1444730410\n",
      "\"1,707th\",A- ,МАМА+,72,527203,124754652\n",
      "\"1,708th\",A- ,Ouu Ouu,140,-- ,231203946\n",
      "\"1,709th\",A- ,AlNaharDrama,4087,2326062,1315094092\n",
      "\"1,710th\",A- ,FEM,318,88325,72530720\n",
      "\"1,711th\",A- ,창현거리노래방 쏭카페KPOP…,4328,1583176,785040920\n",
      "\"1,712th\",A- ,FamousTubeKIDS,275,1053443,252580086\n",
      "\"1,713th\",A- ,PitbullVEVO,193,10165068,7396809370\n",
      "\"1,714th\",A- ,DreadMarIVEVO,55,924624,589540058\n",
      "\"1,715th\",A- ,TV-People,11793,1586613,1606875014\n",
      "\"1,716th\",A- ,Karina Garcia,276,8194242,1195875995\n",
      "\"1,717th\",A- ,Just4fun290,1987,2695708,4820922981\n",
      "\"1,718th\",A- ,スカイピース,845,2007520,953669641\n",
      "\"1,719th\",A- ,ANAK PINTAR,399,787266,162288125\n",
      "\"1,720th\",A- ,\"Fran, Bel e Nina Kids\",556,2389125,379816486\n",
      "\"1,721st\",A- ,BiboBobi TV,39,-- ,149522075\n",
      "\"1,722nd\",A- ,Radio Mirchi,2045,2639985,829180154\n",
      "\"1,723rd\",A- ,JAGRUK,147,373749,29478827\n",
      "\"1,724th\",A- ,OWN,14328,2413227,1255172556\n",
      "\"1,725th\",A- ,Toy Kids★トイキッズ,786,772394,910185222\n",
      "\"1,726th\",A- ,wisinofficalVEVO,76,4583041,3336730939\n",
      "\"1,727th\",A- ,Nerf War Movies,227,-- ,436994549\n",
      "\"1,728th\",A- ,7-Second Riddles,944,1362634,368563156\n",
      "\"1,729th\",A- ,VISION l الرؤية,285,635559,215744157\n",
      "\"1,730th\",A- ,Un Poco De Todo - Plech,273,1253541,171094975\n",
      "\"1,731st\",A- ,WhatsUpMoms,692,2298236,1324363586\n",
      "\"1,732nd\",A- ,Nintendo,2991,4539096,1429680199\n",
      "\"1,733rd\",A- ,Xiaomi Italia,39,2013,38763948\n",
      "\"1,734th\",A- ,Dream English Kids,413,1455153,1048777855\n",
      "\"1,735th\",A- ,Medcezir,1218,1283264,1273291907\n",
      "\"1,736th\",A- ,fixiki,626,3739482,4189627421\n",
      "\"1,737th\",A- ,AndresCepedaVEVO,47,414496,282709616\n",
      "\"1,738th\",A- ,Armada Music,11107,3880265,2619201512\n",
      "\"1,739th\",A- ,JONAS,715,2448238,581291174\n",
      "\"1,740th\",A- ,CoCosToy English,612,876931,550126403\n",
      "\"1,741st\",A- ,WorldMusic TV,17,608749,25828777\n",
      "\"1,742nd\",A- ,japanesestuffchannel,2867,1663498,926277982\n",
      "\"1,743rd\",A- ,MeghanTrainorVEVO,43,8855711,5328137152\n",
      "\"1,744th\",A- ,Humble Music,191,2285762,645138394\n",
      "\"1,745th\",A- ,Bia Lobo,215,1945861,619728684\n",
      "\"1,746th\",A- ,Oneindia Hindi |…,28825,2113363,711870103\n",
      "\"1,747th\",A- ,Lu Li Pampín,75,499680,145354233\n",
      "\"1,748th\",A- ,LP colors TV,212,39801,22147706\n",
      "\"1,749th\",A- ,SBS Culture,99544,322193,402883303\n",
      "\"1,750th\",A- ,Amelka Karamelka,326,793421,414764587\n",
      "\"1,751st\",A- ,Kênh Bé Yêu,185,-- ,82967854\n",
      "\"1,752nd\",A- ,NewShowBiz完全娛樂,5386,404191,341743870\n",
      "\"1,753rd\",A- ,5SOSVEVO,57,3991709,984307410\n",
      "\"1,754th\",A- ,BritneySpearsVEVO,99,5247356,4422204720\n",
      "\"1,755th\",A- ,Viki Global TV,4885,1229226,676998380\n",
      "\"1,756th\",A- ,DisneyMusicLAVEVO,82,2205852,830206387\n",
      "\"1,757th\",A- ,MCVMedia,8780,1625808,1998650689\n",
      "\"1,758th\",A- ,Zombie V4 [ Tiến Xinh Trai ],3043,2699793,1222507000\n",
      "\"1,759th\",A- ,20th Century Fox,1847,3113635,1773496880\n",
      "\"1,760th\",A- ,Funny English For Kids,15,611644,161466617\n",
      "\"1,761st\",A- ,Rammstein Official,97,2282998,1275767700\n",
      "\"1,762nd\",A- ,Elhiwar Ettounsi,7951,1776869,1213479853\n",
      "\"1,763rd\",A- ,นักผจญเพลง…,690,896418,336175311\n",
      "\"1,764th\",A- ,Свинка Пеппа…,306,1266976,935444814\n",
      "\"1,765th\",A- ,22funMedia,626,378217,222711238\n",
      "\"1,766th\",A- ,Yashi Films,228,893916,203162567\n",
      "\"1,767th\",A- ,Red finger family,46,-- ,31932333\n",
      "\"1,768th\",A- ,ZEDDVEVO,50,4058450,1639989625\n",
      "\"1,769th\",A- ,BuzzPranks,1332,2392878,987468720\n",
      "\"1,770th\",A- ,GNP Music,553,2077670,1143536114\n",
      "\"1,771st\",A- ,League of Legends,901,9084570,2127728712\n",
      "\"1,772nd\",A- ,Kids Monster,1847,1028609,478101482\n",
      "\"1,773rd\",A- ,YEAH1 MUSIC,3226,1916778,1949370879\n",
      "\"1,774th\",A- ,Gibby :),120,7344119,1303300481\n",
      "\"1,775th\",A- ,더블비,189,916562,222990000\n",
      "\"1,776th\",A- ,Pineapple StormTV,100,2663893,580359849\n",
      "\"1,777th\",A- ,Waheed Shirzay,160,76054,30405288\n",
      "\"1,778th\",A- ,Santander Brasil,721,473195,413137306\n",
      "\"1,779th\",A- ,Playing with Kids,331,-- ,250503090\n",
      "\"1,780th\",A- ,Elizabeth Swims,482,1114229,521064459\n",
      "\"1,781st\",A- ,Gym4men,540,1154761,480196531\n",
      "\"1,782nd\",A- ,J House Vlogs,1187,1486684,1219938106\n",
      "\"1,783rd\",A- ,TV Promos,12556,1102212,1342234664\n",
      "\"1,784th\",A- ,HKCinema,2906,1015396,601288805\n",
      "\"1,785th\",A- ,MatheusKauanVEVO,83,4455889,2551177646\n",
      "\"1,786th\",A- ,Keeper TheTank,2179,50738,21252582\n",
      "\"1,787th\",A- ,TV3MALAYSIA Official,16487,730477,325671841\n",
      "\"1,788th\",A- ,8D TUNES,44,1830063,64190948\n",
      "\"1,789th\",A- ,Noor Stars,361,8535319,984167321\n",
      "\"1,790th\",A- ,Typhlosion4President,1210,975770,859445125\n",
      "\"1,791st\",A- ,Новий Канал,11524,2094594,1250830026\n",
      "\"1,792nd\",A- ,MariAndKids,643,1179807,563344985\n",
      "\"1,793rd\",A- ,Toys AndMe,591,9387446,2162794464\n",
      "\"1,794th\",A- ,Call Me Kevin,484,1250422,219044446\n",
      "\"1,795th\",A- ,MariahCareyVEVO,155,3299761,3148815118\n",
      "\"1,796th\",A- ,Tran Bing,279,99049,26962284\n",
      "\"1,797th\",A- ,Rahasya Talk Show,231,1450981,81968204\n",
      "\"1,798th\",A- ,Fatos Desconhecidos,1931,9300204,1113479538\n",
      "\"1,799th\",A- ,Muzik247,1105,1188633,626347397\n",
      "\"1,800th\",A- ,Cool GAMES,435,570427,388726539\n",
      "\"1,801st\",A- ,Яндекс.Такси,83,4978,55581493\n",
      "\"1,802nd\",A- ,AVM GANA,1276,-- ,224137730\n",
      "\"1,803rd\",A- ,Bengali Fairy Tales,84,943776,309404592\n",
      "\"1,804th\",A- ,MR.ROMEO,167,519534,182718436\n",
      "\"1,805th\",A- ,Binggo Kids Tv - Nursery Rhymes,174,1088071,543508385\n",
      "\"1,806th\",A- ,Pac Pac TV,7,243029,49021638\n",
      "\"1,807th\",A- ,Super Kids,41,-- ,74861954\n",
      "\"1,808th\",A- ,Cat Tuber,181,767783,515544193\n",
      "\"1,809th\",A- ,Popular Magazine Indonesia,1762,675886,332854478\n",
      "\"1,810th\",A- ,Smasher,142,584690,476326791\n",
      "\"1,811th\",A- ,Bollywood Babes,743,1504831,1079654347\n",
      "\"1,812th\",A- ,Blu-ray Clips,670,273512,148094678\n",
      "\"1,813th\",A- ,Pikipoko,6,1016382,579401\n",
      "\"1,814th\",A- ,DroidGameplaysTV,6022,897935,581203676\n",
      "\"1,815th\",A- ,Children 3D Nursery Rhymes,109,327876,66298038\n",
      "\"1,816th\",A- ,NewBadLabel,319,952088,463320052\n",
      "\"1,817th\",A- ,US Open Tennis Championships,2287,119514,58350951\n",
      "\"1,818th\",A- ,Söz Dizi,945,2073573,1059154845\n",
      "\"1,819th\",A- ,F2Freestylers - Ultimate Soccer…,548,8576955,1547255351\n",
      "\"1,820th\",A- ,NDJ MUSIC,8901,2722256,1446532788\n",
      "\"1,821st\",A- ,The Daily Show with Trevor Noah,959,3557596,1114084483\n",
      "\"1,822nd\",A- ,SAMSEARN OFFICIAL,2970,875047,261699047\n",
      "\"1,823rd\",A- ,BrawlBRSTMs3 X,31145,427125,1577230609\n",
      "\"1,824th\",A- ,pressnews tv,54821,1556502,748054958\n",
      "\"1,825th\",A- ,enakimura,2652,1178637,951557036\n",
      "\"1,826th\",A- ,Veritas Speak,540,82357,22483769\n",
      "\"1,827th\",A- ,TMZ,28271,3259014,2949617858\n",
      "\"1,828th\",A- ,Alka Music,911,1607717,694796148\n",
      "\"1,829th\",A- ,Life Awesome,145,2397765,532023324\n",
      "\"1,830th\",A- ,Khandesh Fun,44,2369375,349876500\n",
      "\"1,831st\",A- ,DORETDEPLATINE,128,3485082,1600231155\n",
      "\"1,832nd\",A- ,Google,2113,6605398,1926644643\n",
      "\"1,833rd\",A- ,Tiny Treasures and Toys,1908,984496,879526862\n",
      "\"1,834th\",A- ,Chills,131,2389065,327672376\n",
      "\"1,835th\",A- ,Coca-Cola,2475,2587122,1692536672\n",
      "\"1,836th\",A- ,Kids World Dream,307,-- ,231484375\n",
      "\"1,837th\",A- ,Riot,1648,469005,211189310\n",
      "\"1,838th\",A- ,SmartKID Monster,8,1802324,246329400\n",
      "\"1,839th\",A- ,GAN_13_,286,1210568,310067178\n",
      "\"1,840th\",A- ,철구형 (CHULTUBE),6820,1096778,990905518\n",
      "\"1,841st\",A- ,도티 TV,3068,2379953,2143921128\n",
      "\"1,842nd\",A- ,ARY News,39175,1730455,459593881\n",
      "\"1,843rd\",A- ,WorldTopBest Official,38,469925,88994383\n",
      "\"1,844th\",A- ,KBSEntertain,71732,2075344,2415535239\n",
      "\"1,845th\",A- ,Animation Love,26,500994,83135529\n",
      "\"1,846th\",A- ,關鍵時刻,15517,1084609,995005096\n",
      "\"1,847th\",A- ,Анатолий Шарий,4613,1586398,2187048565\n",
      "\"1,848th\",A- ,Breakfast Club Power 105.1 FM,2475,2591111,869540039\n",
      "\"1,849th\",A- ,officialpsy,93,12218000,6904034520\n",
      "\"1,850th\",A- ,50 Cent,388,6591120,800751403\n",
      "\"1,851st\",A- ,BabiezTV,253,1516114,581927564\n",
      "\"1,852nd\",A- ,Phương Phương channel,122,-- ,62313653\n",
      "\"1,853rd\",A- ,DonOmarVEVO,38,4026076,3334952776\n",
      "\"1,854th\",A- ,kougeisha,1147,1294139,1971544706\n",
      "\"1,855th\",A- ,Lord Kruszwil,117,2057493,183954783\n",
      "\"1,856th\",A- ,DebRyanShow,343,8674759,772227617\n",
      "\"1,857th\",A- ,SBT Online,23124,5942985,1789359132\n",
      "\"1,858th\",A- ,Ирина Иваницкая DIY,235,1215694,221620463\n",
      "\"1,859th\",A- ,RickyMartinVEVO,277,4206656,4288002050\n",
      "\"1,860th\",A- ,mahzaidi,24,309748,27308922\n",
      "\"1,861st\",A- ,Technique Life,104,104743,23601496\n",
      "\"1,862nd\",A- ,WhatsApp Status Video Mayank,90,688207,106713403\n",
      "\"1,863rd\",A- ,Disney Channel Brasil,2799,2304664,1002275909\n",
      "\"1,864th\",A- ,NBA,28738,9729551,4980526055\n",
      "\"1,865th\",A- ,mister custodian,1281,439443,461059741\n",
      "\"1,866th\",A- ,Orkun Işıtmak,1191,5525402,1204063306\n",
      "\"1,867th\",A- ,welovekamikaze,1868,6004518,3090616377\n",
      "\"1,868th\",A- ,Canal 13,24236,930202,671589638\n",
      "\"1,869th\",A- ,Shemaroo Kids,1295,1432031,705510585\n",
      "\"1,870th\",A- ,KhalidVEVO,37,2466294,1192763424\n",
      "\"1,871st\",A- ,Soh Aib,3768,113265,150886110\n",
      "\"1,872nd\",A- ,MuzikPlay,5943,1468768,1611754487\n",
      "\"1,873rd\",A- ,Mr Amit,191,295652,106809814\n",
      "\"1,874th\",A- ,Bengali Movies - Angel Digital,9860,1118289,628649917\n",
      "\"1,875th\",A- ,Hot Buzz,49,144634,81782371\n",
      "\"1,876th\",A- ,Babili TV Türkçe,37,625739,157835775\n",
      "\"1,877th\",A- ,Warner Bros. Records,950,3197747,2310921743\n",
      "\"1,878th\",A- ,Ricardo Galtieri,539,1792651,1166436876\n",
      "\"1,879th\",A- ,Bhoot Pret Manu Bhaiya Ji,999,162291,54727215\n",
      "\"1,880th\",A- ,Diva The Series,289,952033,556721221\n",
      "\"1,881st\",A- ,StarPro,3136,1548216,1461083814\n",
      "\"1,882nd\",A- ,theRadBrad,5624,9277700,3600840629\n",
      "\"1,883rd\",A- ,MULTIMEDIOS,22339,1600819,1898973831\n",
      "\"1,884th\",A- ,Вечерний Ургант,5427,2488433,1251385683\n",
      "\"1,885th\",A- ,YouTubeBrasil,133,1264708,65749767\n",
      "\"1,886th\",A- ,DeToxoMoroxo,322,9043283,1108469877\n",
      "\"1,887th\",A- ,Fortnite SparkTV,227,1026010,307448826\n",
      "\"1,888th\",A- ,سوبر سمعة,72,484034,165160526\n",
      "\"1,889th\",A- ,SBS Entertainment,200928,1809240,1477119313\n",
      "\"1,890th\",A- ,WAYANG JAWA,1766,-- ,174670959\n",
      "\"1,891st\",A- ,JMMB Films,92,421546,117108593\n",
      "\"1,892nd\",A- ,Pehchan Music,289,3277492,495079530\n",
      "\"1,893rd\",A- ,MrGear,802,9029906,2422376846\n",
      "\"1,894th\",A- ,Best Moments EVER,186,615021,347183214\n",
      "\"1,895th\",A- ,Town Production,761,603309,257396918\n",
      "\"1,896th\",A- ,【レペゼン地球】僕達は更生しました。…,46,1345048,91588310\n",
      "\"1,897th\",A- ,SuperLuigiLogan,235,2420093,370571408\n",
      "\"1,898th\",A- ,TikTak Draw,435,3672192,542082258\n",
      "\"1,899th\",A- ,JamesAVEVO,57,2501374,1190696165\n",
      "\"1,900th\",A- ,Keller Lokomotion,54,847108,392451947\n",
      "\"1,901st\",A- ,The Office US,326,713359,402909785\n",
      "\"1,902nd\",A- ,MEGA BANDAS FANS,43,-- ,147332705\n",
      "\"1,903rd\",A- ,Bradesco,382,1260112,688481697\n",
      "\"1,904th\",A- ,Ekta Sound,1435,1061801,391218231\n",
      "\"1,905th\",A- ,COLORS,228,1791297,412928327\n",
      "\"1,906th\",A- ,Moto Madness,1031,2591577,576638379\n",
      "\"1,907th\",A- ,BITAG OFFICIAL,5907,914745,478520223\n",
      "\"1,908th\",A- ,SENS DE BAHRAIN,838,333336,398912987\n",
      "\"1,909th\",A- ,TopMax,316,2715500,827904847\n",
      "\"1,910th\",A- ,Vox,880,4706104,1050074017\n",
      "\"1,911th\",A- ,SECRET INDIAN TV,679,3533922,455956667\n",
      "\"1,912th\",A- ,BuddyTravelr,79,19552,24138430\n",
      "\"1,913th\",A- ,Body Mania,1094,1902419,602739261\n",
      "\"1,914th\",A- ,TUBERIDES,2395,595050,556028967\n",
      "\"1,915th\",A- ,ぷろたん日記,1380,891979,492459986\n",
      "\"1,916th\",A- ,Troom Troom SELECT,316,2502411,517801971\n",
      "\"1,917th\",A- ,ExtraPolinesios,265,10579031,1872672067\n",
      "\"1,918th\",A- ,FaZe Rug,1331,10016430,1954647208\n",
      "\"1,919th\",A- ,Windy Beats,583,179233,73664398\n",
      "\"1,920th\",A- ,Vikkstar123,4376,5165839,1388482326\n",
      "\"1,921st\",A- ,Hana Callista,196,889995,317013534\n",
      "\"1,922nd\",A- ,Vlad TV Show,324,1190567,359378079\n",
      "\"1,923rd\",A- ,Steve TV Show,7226,2473965,1344803190\n",
      "\"1,924th\",A- ,Thisiz Balti,22,2690287,799696178\n",
      "\"1,925th\",A- ,TRT Çocuk,3101,1516582,1059761227\n",
      "\"1,926th\",A- ,SHN MOVIES,6,-- ,58334990\n",
      "\"1,927th\",A- ,LHARBA TV,108,260304,21246302\n",
      "\"1,928th\",A- ,Aventura de Princesas,138,604522,251829616\n",
      "\"1,929th\",A- ,TIM,67,246470,104893576\n",
      "\"1,930th\",A- ,SAMAA TV,28132,1996692,803279243\n",
      "\"1,931st\",A- ,Smile Toys Review,16,-- ,120364059\n",
      "\"1,932nd\",A- ,IndiaGlitz Tamil Movies |…,12095,2212189,1332018604\n",
      "\"1,933rd\",A- ,偶像剧场 Idol & Romance,9197,386274,449489200\n",
      "\"1,934th\",A- ,SERVANDOZL,2076,1160724,1061864818\n",
      "\"1,935th\",A- ,Boomerang Deutschland,634,491891,262150419\n",
      "\"1,936th\",A- ,Movie Thread,1131,283974,167912396\n",
      "\"1,937th\",A- ,TheBeatlesVEVO,35,1363909,867703946\n",
      "\"1,938th\",A- ,Nek Music Tv,1275,2080731,1925551955\n",
      "\"1,939th\",A- ,Lama Faché,568,4047841,893665393\n",
      "\"1,940th\",A- ,Nick Jr. Россия,273,930837,521489125\n",
      "\"1,941st\",A- ,Royal Music Gang,61,-- ,134636371\n",
      "\"1,942nd\",A- ,Gordon Ramsay,701,7346522,1191388695\n",
      "\"1,943rd\",A- ,whinderssonnunes,349,31332790,2574018722\n",
      "\"1,944th\",A- ,ดอยแม่สลอง…,190,831187,214491599\n",
      "\"1,945th\",A- ,PAW Patrol Official,87,96285,78164491\n",
      "\"1,946th\",A- ,Lil Peep,17,2361153,569851197\n",
      "\"1,947th\",A- ,BrunoEMarroneVEVO,173,854274,802867130\n",
      "\"1,948th\",A- ,Tarang Music,2910,734784,225061336\n",
      "\"1,949th\",A- ,laSexta,12510,986200,1157329445\n",
      "\"1,950th\",A- ,Landon,1099,1773601,174651246\n",
      "\"1,951st\",A- ,Facia Üçlü,116,1231479,371034126\n",
      "\"1,952nd\",A- ,Tfue,357,3725266,186096070\n",
      "\"1,953rd\",A- ,Juke Dock,235,1589763,421090657\n",
      "\"1,954th\",A- ,Fun & Diversion,121,246631,69393596\n",
      "\"1,955th\",A- ,PhonePe,72,12711,613379396\n",
      "\"1,956th\",A- ,DinoSU,67,-- ,44063771\n",
      "\"1,957th\",A- ,ЕвгенБро,725,2384271,854748345\n",
      "\"1,958th\",A- ,Ami Rodriguez,231,7526004,857911486\n",
      "\"1,959th\",A- ,msvogue23,10,701976,719591157\n",
      "\"1,960th\",A- ,Bikini Ifrit,377,648951,209006274\n",
      "\"1,961st\",A- ,AkonVEVO,35,3730269,2505457709\n",
      "\"1,962nd\",A- ,Jessy & Miles ToysReview,94,-- ,197914812\n",
      "\"1,963rd\",A- ,RicardoArjonaVEVO,129,1401142,1206784421\n",
      "\"1,964th\",A- ,Knallerfrauen,711,1000732,942908463\n",
      "\"1,965th\",A- ,헤이지니 Hey Jini,475,1166150,455023697\n",
      "\"1,966th\",A- ,El Sobky Production - السبكي,208,2738745,1613586939\n",
      "\"1,967th\",A- ,شبكة العاب العرب |…,1801,2839020,458626808\n",
      "\"1,968th\",A- ,VIP KHABAR,774,-- ,174553346\n",
      "\"1,969th\",A- ,Historias de Juguetes,605,2330795,991468240\n",
      "\"1,970th\",A- ,IN LAWYERS,31,226303,38568475\n",
      "\"1,971st\",A- ,Happy Channel,1725,2130839,961616516\n",
      "\"1,972nd\",A- ,Coloring And Puzzles With Tia,273,369036,120761340\n",
      "\"1,973rd\",A- ,CAPTAIN Movies HD,449,1972515,500099891\n",
      "\"1,974th\",A- ,The Noite com Danilo Gentili,5653,5483284,1400838030\n",
      "\"1,975th\",A- ,SunnyKidsTV,36,3201317,1186348284\n",
      "\"1,976th\",A- ,OGGY,437,2493631,1468087198\n",
      "\"1,977th\",A- ,jaquar,87,89360,23182446\n",
      "\"1,978th\",A- ,BabyBus - 子供の歌 -…,1494,527940,329101053\n",
      "\"1,979th\",A- ,BIHARIWOOD -…,6148,1469586,641871894\n",
      "\"1,980th\",A- ,Барбоскины,509,3744139,4544405185\n",
      "\"1,981st\",A- ,Jazzghost,2999,6585445,1340960733\n",
      "\"1,982nd\",A- ,Como dice el dicho,987,1843270,722689202\n",
      "\"1,983rd\",A- ,DSA RECORD,144,529439,250218672\n",
      "\"1,984th\",A- ,Werevertumorro,1035,16079323,2512967904\n",
      "\"1,985th\",A- ,SkyrockFM,2748,2374116,834023903\n",
      "\"1,986th\",A- ,justintimberlakeVEVO,65,6771155,3576006435\n",
      "\"1,987th\",A- ,ETV Dhee,497,1624513,700000695\n",
      "\"1,988th\",A- ,Yasin Pehlivan,1369,656047,246892237\n",
      "\"1,989th\",A- ,Joelma e 3 vidas,28,1165805,218921145\n",
      "\"1,990th\",A- ,API Malayalam,9463,875973,792179118\n",
      "\"1,991st\",A- ,OficialMana,115,2726029,2445278967\n",
      "\"1,992nd\",A- ,Toy Jelly,1201,2142162,809329458\n",
      "\"1,993rd\",A- ,Amit ki Funny,33,86683,19703310\n",
      "\"1,994th\",A- ,Saregama TVShows,10309,670144,475746475\n",
      "\"1,995th\",A- ,Filmi Jhankar,119,446999,142279967\n",
      "\"1,996th\",A- ,Big Marvel,281,5269803,574998141\n",
      "\"1,997th\",A- ,CrazyDek,78,1227432,370211442\n",
      "\"1,998th\",A- ,H2ODelirious,1560,11157119,2494658095\n",
      "\"1,999th\",A- ,XpressTV,268,8789992,1395979116\n",
      "\"2,000th\",A- ,Skrillex,162,17951538,4728194776\n",
      "\"2,001st\",A- ,Juan De Dios Pantoja,121,11911566,739812571\n",
      "\"2,002nd\",A- ,YOYO DODI,147,586968,229970070\n",
      "\"2,003rd\",A- ,Фильмы и Сериалы…,364,1031647,1295561334\n",
      "\"2,004th\",A- ,The Voice Kids,467,3932663,2201503834\n",
      "\"2,005th\",A- ,Cheers!,56,597597,64286627\n",
      "\"2,006th\",A- ,Universal Pictures,700,1908802,1278241653\n",
      "\"2,007th\",A- ,The Axel Show,571,550632,794144543\n",
      "\"2,008th\",A- ,Top Gear,1085,5994199,1960523399\n",
      "\"2,009th\",A- ,Tips Buddy,277,1112395,127659516\n",
      "\"2,010th\",A- ,Yasmin Verissimo,31,1765908,403999935\n",
      "\"2,011th\",A- ,Kitchen Nightmares,873,2632490,1414504580\n",
      "\"2,012th\",A- ,Crescendo com Luluca,473,3391947,599599269\n",
      "\"2,013th\",A- ,Desi Music Factory,52,3620635,836086575\n",
      "\"2,014th\",A- ,Indeed,399,-- ,164591054\n",
      "\"2,015th\",A- ,djvlad,12755,2504732,1735318031\n",
      "\"2,016th\",A- ,Liza Koshy,148,16015445,1822797538\n",
      "\"2,017th\",A- ,ZaynVEVO,43,6488771,2363345307\n",
      "\"2,018th\",A- ,Minik Tv,51,-- ,68342968\n",
      "\"2,019th\",A- ,Мувики.рф — сцены…,348,319110,168326149\n",
      "\"2,020th\",A- ,TRUYỆN CỔ TÍCH VIỆT NAM,466,820317,431431044\n",
      "\"2,021st\",A- ,TAEEXZENFIRE,1350,4118649,810901750\n",
      "\"2,022nd\",A- ,مصطفى الخاني | Mustafa…,454,516867,321898524\n",
      "\"2,023rd\",A- ,Macklemore LLC,127,6497711,3121146533\n",
      "\"2,024th\",A- ,Área Secreta,620,6872358,828779300\n",
      "\"2,025th\",A- ,Arab in USA,27,-- ,42726677\n",
      "\"2,026th\",A- ,Christina Perri,100,4099544,1931895353\n",
      "\"2,027th\",A- ,Clash of Clans,234,12925023,1496306140\n",
      "\"2,028th\",A- ,Princess ToysReview,501,1607289,835936722\n",
      "\"2,029th\",A- ,天下有景,5439,16735,19458598\n",
      "\"2,030th\",A- ,HawkFeed,1108,1318444,205949046\n",
      "\"2,031st\",A- ,Badanamu,332,1300755,1264306941\n",
      "\"2,032nd\",A- ,EverythingApplePro,1456,6074186,1457929874\n",
      "\"2,033rd\",A- ,Bratayley,2438,6761228,3441670583\n",
      "\"2,034th\",A- ,Chickypie,434,2536554,611782633\n",
      "\"2,035th\",A- ,Spiritual Mantra,1223,1841044,456874310\n",
      "\"2,036th\",A- ,French Montana - Topic,829,38456,51086047\n",
      "\"2,037th\",A- ,Musicancion,328,528969,801538131\n",
      "\"2,038th\",A- ,Quantum Tech HD,143,873217,195054848\n",
      "\"2,039th\",A- ,AlArabiya قناة العربية,50924,2860343,1411793784\n",
      "\"2,040th\",A- ,Memeulous,317,2301079,433165999\n",
      "\"2,041st\",B+ ,CarlosRiveraVEVO,141,943408,753287629\n",
      "\"2,042nd\",B+ ,Wow Cartoons,161,514130,173259391\n",
      "\"2,043rd\",B+ ,Avşar Film,1541,673261,401453542\n",
      "\"2,044th\",B+ ,VH1,4493,1432258,851373637\n",
      "\"2,045th\",B+ ,Manorama News,102344,1136547,767612793\n",
      "\"2,046th\",B+ ,Master David,22,794799,181662848\n",
      "\"2,047th\",B+ ,ЛитлБой Адам,462,767321,278973337\n",
      "\"2,048th\",B+ ,しばなんチャンネル,380,1779397,713393817\n",
      "\"2,049th\",B+ ,CalibreCincuentaVEVO,54,2947373,2079903525\n",
      "\"2,050th\",B+ ,Baby Bear Juguetes y Sorpresas,116,885500,50200959\n",
      "\"2,051st\",B+ ,Saas Bahu aur Saazish,13165,1183004,660989752\n",
      "\"2,052nd\",B+ ,Shopee Thailand,97,78380,156384924\n",
      "\"2,053rd\",B+ ,BollywoodSongs24/7,346,1047248,503724643\n",
      "\"2,054th\",B+ ,Chanda,6906,2369246,676834824\n",
      "\"2,055th\",B+ ,GreeicyVEVO,2,817020,258897325\n",
      "\"2,056th\",B+ ,Authentic Boy'Z,8,60721,19626116\n",
      "\"2,057th\",B+ ,Chili World,65,515379,809967313\n",
      "\"2,058th\",B+ ,BackstreetBoysVEVO,61,1958161,1742983289\n",
      "\"2,059th\",B+ ,3BEPbEaero,9,17882,19415310\n",
      "\"2,060th\",B+ ,ÂN BEAT,69,194703,86434860\n",
      "\"2,061st\",B+ ,KidsMeSong…,296,1934804,847511564\n",
      "\"2,062nd\",B+ ,أسرار لم تكن تعرفها,541,2408837,430241683\n",
      "\"2,063rd\",B+ ,The Amazing World of Gumball,364,504376,300626089\n",
      "\"2,064th\",B+ ,FactTechz,144,5436273,347705146\n",
      "\"2,065th\",B+ ,PS TAMIL SONGS,2936,-- ,243626688\n",
      "\"2,066th\",B+ ,PTXofficial,141,15520551,3436582892\n",
      "\"2,067th\",B+ ,ワタナベマホト,639,2247670,731782797\n",
      "\"2,068th\",B+ ,LOL Network,389,2712992,392180101\n",
      "\"2,069th\",B+ ,Unutulmayan Diziler,2846,611182,622423922\n",
      "\"2,070th\",B+ ,Videogyan Kids Shows - Cartoon…,134,2005187,1011196359\n",
      "\"2,071st\",B+ ,Aaron Esser,205,1905890,613221047\n",
      "\"2,072nd\",B+ ,Kênh TodayTV,3323,627126,388485071\n",
      "\"2,073rd\",B+ ,Aj Art Production - عاج…,1000,1105151,1020123871\n",
      "\"2,074th\",B+ ,Oficial.Tatiana,506,1812536,830782676\n",
      "\"2,075th\",B+ ,RomanAtwoodVlogs,1532,14872281,4797790703\n",
      "\"2,076th\",B+ ,RaymixVEVO,11,198381,605663113\n",
      "\"2,077th\",B+ ,บรรจง,27,318576,109708405\n",
      "\"2,078th\",B+ ,ElChurches,1593,4780519,1207595324\n",
      "\"2,079th\",B+ ,Viih Tube,385,6014311,408088765\n",
      "\"2,080th\",B+ ,captain entertainment,5,71335,22253484\n",
      "\"2,081st\",B+ ,Wrestling Zone,164,1325186,306926350\n",
      "\"2,082nd\",B+ ,KMH TV,190,289093,97520864\n",
      "\"2,083rd\",B+ ,هل تعلم ! Did you know,404,1860908,371816974\n",
      "\"2,084th\",B+ ,Guntur Talkies,1779,-- ,204570844\n",
      "\"2,085th\",B+ ,Rajasthani Sangeet,187,496409,81659419\n",
      "\"2,086th\",B+ ,Fun Family Three Ava Isla and…,777,1124962,971351788\n",
      "\"2,087th\",B+ ,Kyoot,1687,2213948,1259930126\n",
      "\"2,088th\",B+ ,MC Naveed - Minecraft & Roblox and…,1088,1185487,630117939\n",
      "\"2,089th\",B+ ,Tv9 Kannada,22800,1512995,563515050\n",
      "\"2,090th\",B+ ,Ultra Movie Parlour,1055,2236377,748698606\n",
      "\"2,091st\",B+ ,Os Amiguinhos,310,2560517,838197262\n",
      "\"2,092nd\",B+ ,RT Arabic,56185,1909901,1002985721\n",
      "\"2,093rd\",B+ ,SB Maffija,816,1200395,801043357\n",
      "\"2,094th\",B+ ,Mr. Marmok,212,6638198,926951542\n",
      "\"2,095th\",B+ ,Meshwa Films,630,814708,254783784\n",
      "\"2,096th\",B+ ,Biper y sus Amigos,34,1886069,553005700\n",
      "\"2,097th\",B+ ,SeanChou Music Channel,1708,772545,666647971\n",
      "\"2,098th\",B+ ,Operación Triunfo Oficial,2735,609021,703996519\n",
      "\"2,099th\",B+ ,Mirror Records,37,464301,64297307\n",
      "\"2,100th\",B+ ,Rajasthani Chamak Music,118,199774,37595250\n",
      "\"2,101st\",B+ ,The King of Random,724,10016304,1900795809\n",
      "\"2,102nd\",B+ ,Budha Subba Digital Pvt Ltd,5830,1807479,934283027\n",
      "\"2,103rd\",B+ ,Flutter525,952,745228,608173901\n",
      "\"2,104th\",B+ ,TCV Games,98,-- ,19303260\n",
      "\"2,105th\",B+ ,3T Nerf War,221,-- ,164766145\n",
      "\"2,106th\",B+ ,Electric Entertainment,40,4041,20092029\n",
      "\"2,107th\",B+ ,Danieli Trabelsi,629,427329,456070963\n",
      "\"2,108th\",B+ ,IMPACT Wrestling,13232,1753591,1365621693\n",
      "\"2,109th\",B+ ,Kozak TV,181,134362,29507529\n",
      "\"2,110th\",B+ ,sagamigaokaac,287,229243,127590620\n",
      "\"2,111th\",B+ ,Josna Media,97,799117,383666047\n",
      "\"2,112th\",B+ ,Standart Skill,968,1681118,373216150\n",
      "\"2,113th\",B+ ,KygoOfficialVEVO,42,3222906,1844828544\n",
      "\"2,114th\",B+ ,Семья пальчиков на…,239,376528,149830231\n",
      "\"2,115th\",B+ ,Sunrise Media,295,658630,192981860\n",
      "\"2,116th\",B+ ,Golden Line for TV Production and…,3004,1172053,991343065\n",
      "\"2,117th\",B+ ,Crime Files,101,1190149,245474135\n",
      "\"2,118th\",B+ ,LAY TV,139,1062166,212660577\n",
      "\"2,119th\",B+ ,Tom çocuk şarkıları,254,-- ,178563152\n",
      "\"2,120th\",B+ ,Folagor03,5728,3355274,1426516928\n",
      "\"2,121st\",B+ ,Tiket.com,107,164161,243304949\n",
      "\"2,122nd\",B+ ,MANO DJHAY,1667,1456947,439207737\n",
      "\"2,123rd\",B+ ,Little Big Toys,60,1278999,441980601\n",
      "\"2,124th\",B+ ,Mon Mon TV,97,173852,46537041\n",
      "\"2,125th\",B+ ,chayanneVEVO,181,2057903,1946356419\n",
      "\"2,126th\",B+ ,PhimViệt GameNhi Xỉn,140,-- ,173425136\n",
      "\"2,127th\",B+ ,Totally TV,579,2707913,582516678\n",
      "\"2,128th\",B+ ,Young Thug - Topic,515,88797,28734331\n",
      "\"2,129th\",B+ ,TheRelizzz / STUDIO,6806,602313,285310033\n",
      "\"2,130th\",B+ ,El Chavo del 8,654,2470461,1465474148\n",
      "\"2,131st\",B+ ,FifthHarmonyVEVO,88,10449981,5372162435\n",
      "\"2,132nd\",B+ ,Sarah And Melanie Live,3808,458984,297742448\n",
      "\"2,133rd\",B+ ,BandaLosRecoditoVEVO,50,1545572,1691155661\n",
      "\"2,134th\",B+ ,X Factor Global,440,1598969,551651259\n",
      "\"2,135th\",B+ ,Канал о собаках Dog…,773,476675,75665044\n",
      "\"2,136th\",B+ ,Rakanoo,1207,1446322,300094929\n",
      "\"2,137th\",B+ ,HoneyheartsC,836,831172,639512596\n",
      "\"2,138th\",B+ ,BlackEyedPeasVEVO,55,4095226,3829244190\n",
      "\"2,139th\",B+ ,Jonaki Media,614,503506,277203266\n",
      "\"2,140th\",B+ ,Musical Goutam,732,-- ,134443753\n",
      "\"2,141st\",B+ ,Painzeiro,157,1004048,49535486\n",
      "\"2,142nd\",B+ ,ShowBusiness,123,539817,281582684\n",
      "\"2,143rd\",B+ ,Cracks,1038,3617190,1071345836\n",
      "\"2,144th\",B+ ,dmc,56572,2056067,671293028\n",
      "\"2,145th\",B+ ,Anaysa,233,3487386,377556726\n",
      "\"2,146th\",B+ ,Planeta Faktów,656,2133082,827276508\n",
      "\"2,147th\",B+ ,Amixem,438,4449730,822162724\n",
      "\"2,148th\",B+ ,Mr Sagoo,267,731823,236287151\n",
      "\"2,149th\",B+ ,Mama FLoo,352,102437,32572336\n",
      "\"2,150th\",B+ ,MS Entertainments,866,144704,59526636\n",
      "\"2,151st\",B+ ,KendrickLamarVEVO,56,6544133,2150673018\n",
      "\"2,152nd\",B+ ,JRE Clips,1277,811574,347952123\n",
      "\"2,153rd\",B+ ,RotonMusicTV,1342,2864770,3254868978\n",
      "\"2,154th\",B+ ,Phim Siêu Nhân Nhật Bản,892,-- ,892942166\n",
      "\"2,155th\",B+ ,BETO GAMER,2042,3119290,504442192\n",
      "\"2,156th\",B+ ,Bie The Ska,750,7577261,2308331601\n",
      "\"2,157th\",B+ ,Monde des Titounis,606,2436935,2330775125\n",
      "\"2,158th\",B+ ,Real Life Player,148,312694,89307561\n",
      "\"2,159th\",B+ ,Disney Junior Israel,855,300097,176353663\n",
      "\"2,160th\",B+ ,AWESMR slime,207,801950,280962270\n",
      "\"2,161st\",B+ ,TIMUA TV,59,131339,39498033\n",
      "\"2,162nd\",B+ ,RANCHOLAROSA,1387,106427,47708542\n",
      "\"2,163rd\",B+ ,naturabr oficial,276,449592,261168332\n",
      "\"2,164th\",B+ ,ToyMonster,682,-- ,3073335224\n",
      "\"2,165th\",B+ ,Mother Goose Club,693,4913845,6005386413\n",
      "\"2,166th\",B+ ,قناة المجلة,777,3427430,666704038\n",
      "\"2,167th\",B+ ,BBC Three,1502,1036105,374495181\n",
      "\"2,168th\",B+ ,Musile Records,220,1780035,549341523\n",
      "\"2,169th\",B+ ,The Voice : la plus belle voix,1629,1101973,770835230\n",
      "\"2,170th\",B+ ,Trinity Optima Production,837,1518203,1209920890\n",
      "\"2,171st\",B+ ,N.E Let's Eat,301,1299759,338486903\n",
      "\"2,172nd\",B+ ,NFL,13966,3554642,2177782042\n",
      "\"2,173rd\",B+ ,Tiger,71,286210,22322515\n",
      "\"2,174th\",B+ ,Manoj DnD Entertainment Hub,146,778103,58327604\n",
      "\"2,175th\",B+ ,ProjVEVO,45,3988272,1040557071\n",
      "\"2,176th\",B+ ,Gorillaz,165,4321095,1537024872\n",
      "\"2,177th\",B+ ,Kids Learning,247,2095918,1011971334\n",
      "\"2,178th\",B+ ,Matt and Rebecca,586,1711020,201185174\n",
      "\"2,179th\",B+ ,Canal Misturadão,214,669254,247211485\n",
      "\"2,180th\",B+ ,SUPER ELSA,135,944500,261748397\n",
      "\"2,181st\",B+ ,سيف SAIIF,84,1708507,206270872\n",
      "\"2,182nd\",B+ ,Tropicumbiagrupera,655,-- ,562403527\n",
      "\"2,183rd\",B+ ,พอดีม่วน STUDIO,131,1437421,555394769\n",
      "\"2,184th\",B+ ,SUPERDivertilandia,519,1499891,924786130\n",
      "\"2,185th\",B+ ,Catatan Fakta,26,-- ,18582815\n",
      "\"2,186th\",B+ ,Paluten,4513,2964646,1730856803\n",
      "\"2,187th\",B+ ,Nike,352,838076,163020570\n",
      "\"2,188th\",B+ ,XuTi TV,50,-- ,145070929\n",
      "\"2,189th\",B+ ,Itarte Vlogs,401,1755629,523146930\n",
      "\"2,190th\",B+ ,Indian Oil Corporation Limited,204,57689,202036224\n",
      "\"2,191st\",B+ ,Hindi Dubbed Movies Collection,20,1719118,33761936\n",
      "\"2,192nd\",B+ ,cea,617,213593,326833922\n",
      "\"2,193rd\",B+ ,Carnatavr SS,692,34268,21207651\n",
      "\"2,194th\",B+ ,DrJason,740,210159,80060448\n",
      "\"2,195th\",B+ ,Come And Play,294,-- ,1819532983\n",
      "\"2,196th\",B+ ,MBC The Voice,934,3793441,2187502441\n",
      "\"2,197th\",B+ ,BÓNG ĐÁ HÔM NAY,462,380131,168834205\n",
      "\"2,198th\",B+ ,JoJo Siwa Vlogs,425,3005990,403188170\n",
      "\"2,199th\",B+ ,Hoje é dia de Marias,507,1885403,345514402\n",
      "\"2,200th\",B+ ,ChuChuTV Surprise Eggs Toys,97,4554455,2442007348\n",
      "\"2,201st\",B+ ,İyi Fikir,332,680209,277105611\n",
      "\"2,202nd\",B+ ,Báo Thanh Niên,8020,400296,309222151\n",
      "\"2,203rd\",B+ ,Viralbollywood,18926,1526658,616482628\n",
      "\"2,204th\",B+ ,xKito Music,1189,1911948,1095218977\n",
      "\"2,205th\",B+ ,Kodak Black,223,3786910,1725919553\n",
      "\"2,206th\",B+ ,BrosNacion,279,2655253,342536033\n",
      "\"2,207th\",B+ ,المربد - إضحك مع…,163,2766521,527831612\n",
      "\"2,208th\",B+ ,Kevas Music,248,-- ,485304273\n",
      "\"2,209th\",B+ ,Felipe Araújo,59,2195709,677987155\n",
      "\"2,210th\",B+ ,Slither MasterSp,413,608286,285660457\n",
      "\"2,211th\",B+ ,Rainbow Art,159,453095,154227559\n",
      "\"2,212th\",B+ ,asianetnews,83475,1783317,1107911197\n",
      "\"2,213th\",B+ ,Rooster Teeth,7887,9564018,5626333315\n",
      "\"2,214th\",B+ ,Grillonautas2,9649,826233,679391104\n",
      "\"2,215th\",B+ ,RedHatter,2283,1874246,1228989457\n",
      "\"2,216th\",B+ ,lolo 7 لولو,1547,1559746,350567033\n",
      "\"2,217th\",B+ ,福茂唱片,1705,1283754,1769901171\n",
      "\"2,218th\",B+ ,Disney,741,3179373,1976771553\n",
      "\"2,219th\",B+ ,Unknown Mysteries Hindi,264,-- ,320051089\n",
      "\"2,220th\",B+ ,Walt Disney Thai Songs,787,366890,142312979\n",
      "\"2,221st\",B+ ,TheThings,853,3144981,752196706\n",
      "\"2,222nd\",B+ ,Huawei Mobile TH,93,299807,281159469\n",
      "\"2,223rd\",B+ ,Fe4RLess,298,1651120,188344938\n",
      "\"2,224th\",B+ ,SBS Drama,335521,1418619,1565758044\n",
      "\"2,225th\",B+ ,Asianet Movies,2691,1085332,713750794\n",
      "\"2,226th\",B+ ,alwiyan syafir,1330,484320,511156308\n",
      "\"2,227th\",B+ ,Fizzy Fun Toys,390,1990667,1390549999\n",
      "\"2,228th\",B+ ,Boo Boo TV,351,1122315,484702132\n",
      "\"2,229th\",B+ ,Lyca Productions,573,618640,142286485\n",
      "\"2,230th\",B+ ,The Game Theorists,470,11118513,1748606843\n",
      "\"2,231st\",B+ ,عصابة بدر Badr_Family,257,1288985,253057622\n",
      "\"2,232nd\",B+ ,Humor Multishow,1090,1853818,361226178\n",
      "\"2,233rd\",B+ ,PinkyPopTOY,208,626272,210135278\n",
      "\"2,234th\",B+ ,ШКОЛА,100,592161,98370843\n",
      "\"2,235th\",B+ ,Little Movies - игры для…,564,605028,257790769\n",
      "\"2,236th\",B+ ,SUPER STORY,195,-- ,332399181\n",
      "\"2,237th\",B+ ,Samsung Thailand,790,461754,522242168\n",
      "\"2,238th\",B+ ,DakPlay,685,1496489,754979965\n",
      "\"2,239th\",B+ ,EminemMusic,105,30470865,289161755\n",
      "\"2,240th\",B+ ,相信音樂BinMusic,1171,2080147,2196944144\n",
      "\"2,241st\",B+ ,WildBrain - Cartoons for Children,1547,844122,402350548\n",
      "\"2,242nd\",B+ ,EnzoKnol,3806,1988363,1748135261\n",
      "\"2,243rd\",B+ ,Sports5,13068,1055020,472120031\n",
      "\"2,244th\",B+ ,Fortnite,137,3374658,373692097\n",
      "\"2,245th\",B+ ,CarlaMorrisonMusic,124,2063477,535737048\n",
      "\"2,246th\",B+ ,OfficialSeamusica,9444,704253,566793507\n",
      "\"2,247th\",B+ ,CentrumBrasil,46,22728,127761327\n",
      "\"2,248th\",B+ ,TurmadoPagodeVEVO,99,1377325,994189182\n",
      "\"2,249th\",B+ ,Gavin D,7,216977,71269705\n",
      "\"2,250th\",B+ ,hmtv News,60814,665260,414068035\n",
      "\"2,251st\",B+ ,WowShow,272,1616266,597766189\n",
      "\"2,252nd\",B+ ,Yashi Music,561,989399,217558432\n",
      "\"2,253rd\",B+ ,Мульт,751,1216520,882879865\n",
      "\"2,254th\",B+ ,Wells Fargo,465,252827,308841634\n",
      "\"2,255th\",B+ ,Little Lizard - Fortnite,102,1185106,145387219\n",
      "\"2,256th\",B+ ,SR Toys Collection,1753,-- ,3314535704\n",
      "\"2,257th\",B+ ,Hip Hop/R&B Lyrics,1238,706774,455244290\n",
      "\"2,258th\",B+ ,\"SaraBeautyCorner - DIY, Comedy,…\",104,9134828,1562751756\n",
      "\"2,259th\",B+ ,Boishakhi TV,7304,1056466,303014861\n",
      "\"2,260th\",B+ ,T-Series Telugu,3036,1843358,1071356232\n",
      "\"2,261st\",B+ ,QueQuality,660,1428406,1034325541\n",
      "\"2,262nd\",B+ ,عائلة عمر,188,646575,442627256\n",
      "\"2,263rd\",B+ ,MCV TV,8295,952829,808718391\n",
      "\"2,264th\",B+ ,Eddie Music Studio,469,-- ,108768129\n",
      "\"2,265th\",B+ ,GeorgeEzraVEVO,51,633044,454640511\n",
      "\"2,266th\",B+ ,TV宝宝,2,121251,24784400\n",
      "\"2,267th\",B+ ,CBS News,64200,913362,762966229\n",
      "\"2,268th\",B+ ,The Try Guys,27,3574514,109434537\n",
      "\"2,269th\",B+ ,플레이리스트,184,1498139,231538330\n",
      "\"2,270th\",B+ ,Fun Kids ABC,140,-- ,123610096\n",
      "\"2,271st\",B+ ,Color For Baby,218,3032226,773085720\n",
      "\"2,272nd\",B+ ,TVBUSAofficial,13014,312970,431831160\n",
      "\"2,273rd\",B+ ,HZHtube Kids Fun,263,4743049,926789097\n",
      "\"2,274th\",B+ ,Tin Nóng 2018,27,-- ,25735193\n",
      "\"2,275th\",B+ ,Lazada Indonesia,335,137153,174381275\n",
      "\"2,276th\",B+ ,DemiLovatoVEVO,165,12156723,4193478206\n",
      "\"2,277th\",B+ ,Maha Cartoon Tv,394,749767,158951450\n",
      "\"2,278th\",B+ ,Mana Telugu,5190,1178821,346815194\n",
      "\"2,279th\",B+ ,Cantece Gradinita .ro,113,1274742,1506035575\n",
      "\"2,280th\",B+ ,Lion King,246,1093911,310404564\n",
      "\"2,281st\",B+ ,Realcinemas,1513,-- ,291731629\n",
      "\"2,282nd\",B+ ,Cheeta Superfine Music,2060,1320569,563969155\n",
      "\"2,283rd\",B+ ,Gerencia360TV,788,1209800,575685381\n",
      "\"2,284th\",B+ ,玩乐三分钟,808,433040,429919794\n",
      "\"2,285th\",B+ ,Minh Pham,255,136640,89947468\n",
      "\"2,286th\",B+ ,TheKAIRI78,3102,2280345,717505576\n",
      "\"2,287th\",B+ ,BehindwoodsTV,11897,1746913,614614583\n",
      "\"2,288th\",B+ ,Christian Nodal - Topic,30,471,17868274\n",
      "\"2,289th\",B+ ,Soothing Relaxation,310,1817965,467096419\n",
      "\"2,290th\",B+ ,\"Free Music \"\"Nasr Mahrous\"\"\",685,1731335,684097169\n",
      "\"2,291st\",B+ ,Desi Beat,52,-- ,49076501\n",
      "\"2,292nd\",B+ ,Nicki Swift,917,1516778,922040851\n",
      "\"2,293rd\",B+ ,Miranda Sings,766,9629493,1774335743\n",
      "\"2,294th\",B+ ,I'veGOT7,228,523349,248858675\n",
      "\"2,295th\",B+ ,102 TUBE,352,-- ,206198480\n",
      "\"2,296th\",B+ ,LucianoPereyraVEVO,109,735525,573020693\n",
      "\"2,297th\",B+ ,DIEN QUAN Comedy / Hài,2280,3154499,2362867834\n",
      "\"2,298th\",B+ ,Rainbow Kids,159,-- ,137978782\n",
      "\"2,299th\",B+ ,GianlucaVacchiVEVO,2,204062,128950425\n",
      "\"2,300th\",B+ ,KIDS Funny CartOOns,170,717374,223185766\n",
      "\"2,301st\",B+ ,KAYCEE & RACHEL in WONDERLAND…,52,624538,176899574\n",
      "\"2,302nd\",B+ ,Play Doh Toys For Kids,180,2115013,661179935\n",
      "\"2,303rd\",B+ ,Cheb Bilal - الشاب بلال,320,1239704,333294998\n",
      "\"2,304th\",B+ ,Furious Jumper,2833,2103479,1062525032\n",
      "\"2,305th\",B+ ,Hero Movies 2018,20,2260257,42876002\n",
      "\"2,306th\",B+ ,VIRAL,590,4404823,1048127463\n",
      "\"2,307th\",B+ ,Masha and The Bear,307,3985143,2239261807\n",
      "\"2,308th\",B+ ,MrRevillz,1992,2460109,1248391319\n",
      "\"2,309th\",B+ ,HappyKids TV,84,361481,82814643\n",
      "\"2,310th\",B+ ,Dead Meat,210,1224645,236149263\n",
      "\"2,311th\",B+ ,Top Talent,235,1185375,407413227\n",
      "\"2,312th\",B+ ,Phim Hay Điện Ảnh,1979,1163753,690162807\n",
      "\"2,313th\",B+ ,Casi Bebes,105,1376853,452116425\n",
      "\"2,314th\",B+ ,Truyền Hình Đồng Tháp,23680,322974,207663937\n",
      "\"2,315th\",B+ ,КУКУТИКИ - Детские…,178,1381051,1343885767\n",
      "\"2,316th\",B+ ,Telugu Mix,3177,-- ,88212787\n",
      "\"2,317th\",B+ ,Funny Kids TV,50,-- ,188691028\n",
      "\"2,318th\",B+ ,Juste pour rire les gags,1104,357619,201669027\n",
      "\"2,319th\",B+ ,i Bosch i ボッシュ,694,-- ,169762888\n",
      "\"2,320th\",B+ ,Live Bhakti Sangeet,1082,453354,76747088\n",
      "\"2,321st\",B+ ,Madame Récré FR,1227,1531562,1604924117\n",
      "\"2,322nd\",B+ ,Primitive Technology KH,72,172802,46748256\n",
      "\"2,323rd\",B+ ,GAM TOYS REVIEW,459,-- ,193186322\n",
      "\"2,324th\",  ,Random,--,12275,17897584\n",
      "\"2,325th\",B+ ,BIC Group Official,431,12727,72234937\n",
      "\"2,326th\",B+ ,SeikinTV,1559,3233617,2531207220\n",
      "\"2,327th\",B+ ,Bunlar KAÇMAZ!,480,774778,344889412\n",
      "\"2,328th\",B+ ,NoMadU55555,338,402329,339007000\n",
      "\"2,329th\",B+ ,圈影圈外网中国电影,175,280801,96677230\n",
      "\"2,330th\",B+ ,Prens Yankı,884,705226,413093510\n",
      "\"2,331st\",B+ ,优优独播剧场——YoYo…,9778,973532,798154888\n",
      "\"2,332nd\",B+ ,Vovô Raul Gil Oficial,2922,2105063,589040788\n",
      "\"2,333rd\",B+ ,DE JuN,681,1031095,445688688\n",
      "\"2,334th\",B+ ,AnimxHD,157,203493,130292239\n",
      "\"2,335th\",B+ ,The Crazy Haacks,496,2398247,824482281\n",
      "\"2,336th\",B+ ,marcanthonyVEVO,80,2644778,2468241402\n",
      "\"2,337th\",B+ ,sanimusicindonesia,1387,1287215,718272351\n",
      "\"2,338th\",B+ ,Organ Minh Công Nhạc Sống…,492,-- ,180414533\n",
      "\"2,339th\",B+ ,Maina ™,31,-- ,23149284\n",
      "\"2,340th\",B+ ,Largarife2,2363,372111,268792715\n",
      "\"2,341st\",B+ ,ruda e,105,33800,17985431\n",
      "\"2,342nd\",B+ ,beegees,54,944661,921629675\n",
      "\"2,343rd\",B+ ,This Morning,8667,893291,785068489\n",
      "\"2,344th\",B+ ,вДудь,64,3658816,354752300\n",
      "\"2,345th\",B+ ,Naz Status creations,419,100418,47481842\n",
      "\"2,346th\",B+ ,Azteca Novelas,8553,2713479,1976672618\n",
      "\"2,347th\",B+ ,RDC Rajasthani,13869,3216348,1155073793\n",
      "\"2,348th\",B+ ,JessieJVEVO,75,6972498,3643059946\n",
      "\"2,349th\",B+ ,Спуди Дуди-Ду,2205,-- ,263132213\n",
      "\"2,350th\",B+ ,Megustapuescom 2,4804,-- ,255177474\n",
      "\"2,351st\",B+ ,INNA,734,4492374,2654341325\n",
      "\"2,352nd\",B+ ,HiHo Kids,483,1611223,343519058\n",
      "\"2,353rd\",B+ ,LOR Boong Family,98,-- ,36682762\n",
      "\"2,354th\",B+ ,Yuka Kinoshita木下ゆうか,1469,4713062,1609966933\n",
      "\"2,355th\",B+ ,BaBYBo,21,826784,181921912\n",
      "\"2,356th\",B+ ,SevenPerfectAngels,1386,3212348,1366889479\n",
      "\"2,357th\",B+ ,BBC Radio 1,3751,5153719,1865942249\n",
      "\"2,358th\",B+ ,Ẩn Số Thế Giới,3231,-- ,284249068\n",
      "\"2,359th\",B+ ,videogamedunkey,602,4960723,1751356117\n",
      "\"2,360th\",B+ ,Brooklyn and Bailey,340,5554740,850274985\n",
      "\"2,361st\",B+ ,KapitalMusicTv,87,2628932,1840878473\n",
      "\"2,362nd\",B+ ,FRAN,1946,1043243,370338467\n",
      "\"2,363rd\",B+ ,Awadhesh Premi Personal,88,379807,64232500\n",
      "\"2,364th\",B+ ,DADJU,37,1687547,467273212\n",
      "\"2,365th\",B+ ,CANRUSH,8,61700,18238735\n",
      "\"2,366th\",B+ ,Süper Güçlü Arabalar,877,1140193,716250940\n",
      "\"2,367th\",B+ ,xFaRgAnx YT,3748,2747227,662810944\n",
      "\"2,368th\",B+ ,Tic Tac Kids,18,-- ,46473432\n",
      "\"2,369th\",B+ ,اغرب,788,3375109,506915474\n",
      "\"2,370th\",B+ ,KaneBrownVEVO,39,731050,601956374\n",
      "\"2,371st\",B+ ,Andrey Quoc,1289,38287,8387708\n",
      "\"2,372nd\",B+ ,Riki MUSIC,104,727449,176180708\n",
      "\"2,373rd\",B+ ,¡Caja Mágica! Vídeos in Spanish,329,1031152,411467694\n",
      "\"2,374th\",B+ ,Migos ATL,68,6751009,1799399336\n",
      "\"2,375th\",B+ ,Disney Junior España,1454,2441631,1829044618\n",
      "\"2,376th\",B+ ,Music Al Haneen | ميوزك…,965,3407053,1259920481\n",
      "\"2,377th\",B+ ,TV Menarik,761,-- ,129640540\n",
      "\"2,378th\",B+ ,MrDeepSense,462,970539,548031332\n",
      "\"2,379th\",B+ ,Talking Tom and Friends,255,8228103,2487310777\n",
      "\"2,380th\",B+ ,Tim Milgram,242,2340495,530462795\n",
      "\"2,381st\",B+ ,متع عقلك,1155,4998369,897660816\n",
      "\"2,382nd\",B+ ,TVision,1177,1350100,710399715\n",
      "\"2,383rd\",B+ ,Sidemen,59,3757189,277872732\n",
      "\"2,384th\",B+ ,NFVEVO,57,1694551,756045807\n",
      "\"2,385th\",B+ ,ToyChomper,306,510288,230953609\n",
      "\"2,386th\",B+ ,Pupugames,1599,900633,415267166\n",
      "\"2,387th\",B+ ,TrapMusicHDTV,857,5354895,1396420148\n",
      "\"2,388th\",B+ ,NachoVEVO,11,3660087,1452633458\n",
      "\"2,389th\",B+ ,ELLO,8052,3171986,3522077192\n",
      "\"2,390th\",B+ ,DJSnakeVEVO,24,6790683,2355508909\n",
      "\"2,391st\",B+ ,Atbaki,3181,261395,38544858\n",
      "\"2,392nd\",B+ ,Kids Tv Português - Canções dos…,708,1801503,802628904\n",
      "\"2,393rd\",B+ ,Amr Diab,98,2101023,291283763\n",
      "\"2,394th\",B+ ,СИНИЙ ТРАКТОР -…,66,1161269,852631830\n",
      "\"2,395th\",B+ ,Tantric Journey,70,25591,19109227\n",
      "\"2,396th\",B+ ,ぐっちの部屋(ミラクルぐっち)…,5098,1073226,1913175325\n",
      "\"2,397th\",B+ ,loonatheworld,550,414293,116142323\n",
      "\"2,398th\",B+ ,4N1K İlk Aşk,224,410311,95390623\n",
      "\"2,399th\",B+ ,الجانب المُشرق |…,845,1909809,175327178\n",
      "\"2,400th\",B+ ,ChandSitaaray Sajid,1111,386420,85820244\n",
      "\"2,401st\",B+ ,CRIME STORY,71,246848,71889088\n",
      "\"2,402nd\",B+ ,Капуки Кануки,1041,1892917,3004056378\n",
      "\"2,403rd\",B+ ,거의없다,96,164338,22570789\n",
      "\"2,404th\",B+ ,KidsBabybus HD,1081,-- ,767152131\n",
      "\"2,405th\",B+ ,ItsHARSH007 Gaming,1,23499,75\n",
      "\"2,406th\",B+ ,SYMPA,992,1952314,318055764\n",
      "\"2,407th\",B+ ,Karim Juega,404,202577,139732233\n",
      "\"2,408th\",B+ ,Battle Nerf War,112,-- ,37933467\n",
      "\"2,409th\",B+ ,FilmsActu,6868,2459628,1683209309\n",
      "\"2,410th\",B+ ,Amazon India,738,768227,606639918\n",
      "\"2,411th\",B+ ,COMEDY SONOTEK,780,1450109,455855878\n",
      "\"2,412th\",B+ ,Deli Mi Ne?,125,1277957,118880839\n",
      "\"2,413th\",B+ ,NTH Kids Toys,30,-- ,171378237\n",
      "\"2,414th\",B+ ,Kids World Tv ✩,160,802459,262534769\n",
      "\"2,415th\",B+ ,Desi Dance Mix Videos,84,-- ,148396490\n",
      "\"2,416th\",B+ ,Facts TV,783,1310250,266078299\n",
      "\"2,417th\",B+ ,Astro Arena,5826,175195,87255335\n",
      "\"2,418th\",B+ ,ماسبيرو دراما,6287,753385,582014487\n",
      "\"2,419th\",B+ ,Max Eddykin,150,76565,51486662\n",
      "\"2,420th\",B+ ,Backhoe Toy 빽호토이,172,409579,147011784\n",
      "\"2,421st\",B+ ,CumbiaTube,1128,1327599,998873012\n",
      "\"2,422nd\",B+ ,CinemaSins,660,8131674,2487308976\n",
      "\"2,423rd\",B+ ,Kapamilya Trending,781,535593,234506521\n",
      "\"2,424th\",B+ ,Heroine Movies 2018,20,1478953,43406804\n",
      "\"2,425th\",B+ ,KhangProFilm,284,1957170,743709946\n",
      "\"2,426th\",B+ ,NFL Throwback,104,27884,18844031\n",
      "\"2,427th\",B+ ,GameSpot,32535,3525843,2000234504\n",
      "\"2,428th\",B+ ,kurtlar vadisi pusu وادي…,388,422663,154687952\n",
      "\"2,429th\",B+ ,Ruposhi Bangla Tv,1796,972984,241922757\n",
      "\"2,430th\",B+ ,Mundo Magico,243,-- ,257064137\n",
      "\"2,431st\",B+ ,꼬꼬스토이 CoCosToy,777,394769,248518525\n",
      "\"2,432nd\",B+ ,Wayfer Records,126,883961,435480456\n",
      "\"2,433rd\",B+ ,Blanco y Negro Music,3325,1642846,1482897424\n",
      "\"2,434th\",B+ ,Rüya'nın Çiftliği,432,649535,355053626\n",
      "\"2,435th\",B+ ,News 24,38396,1559966,369062728\n",
      "\"2,436th\",B+ ,寶寶巴士 - 兒歌童謠 -…,1711,648487,411042613\n",
      "\"2,437th\",B+ ,Mettu Ka Pyaar,257,314095,240689379\n",
      "\"2,438th\",B+ ,HollowPoiint,2782,2204795,488558005\n",
      "\"2,439th\",B+ ,Eğlence Zamanı,780,969749,403838551\n",
      "\"2,440th\",B+ ,super FUN kids,119,750705,218970574\n",
      "\"2,441st\",B+ ,Enaldinho,361,7133138,762656006\n",
      "\"2,442nd\",B+ ,Quahog Land,355,-- ,364470227\n",
      "\"2,443rd\",B+ ,Jackson O'Doherty,64,1013505,232519091\n",
      "\"2,444th\",B+ ,TsMadaan,1401,5788897,570168157\n",
      "\"2,445th\",B+ ,Lucas M&M XJ6,473,938803,67083324\n",
      "\"2,446th\",B+ ,Ram Audio,2466,1109482,421976538\n",
      "\"2,447th\",B+ ,AbbaVEVO,36,1021043,1352702226\n",
      "\"2,448th\",B+ ,El Payaso Plim Plim,299,795765,470836949\n",
      "\"2,449th\",B+ ,Oddbods Brasil,118,1055997,421887922\n",
      "\"2,450th\",B+ ,lalola,2041,431965,453406331\n",
      "\"2,451st\",B+ ,LOLiTO FDEZ,778,4018682,387874319\n",
      "\"2,452nd\",B+ ,Tony TV,273,549863,142916622\n",
      "\"2,453rd\",B+ ,Claudi Top,236,591556,215841207\n",
      "\"2,454th\",B+ ,Antonio Palmucci,82,1360453,864559462\n",
      "\"2,455th\",B+ ,Xiaomi España,99,12049,48068091\n",
      "\"2,456th\",B+ ,Cartoons Mee,951,602114,276028031\n",
      "\"2,457th\",B+ ,미니특공대TV,220,408729,231709982\n",
      "\"2,458th\",B+ ,J.i.M_M.i,248,296579,155597243\n",
      "\"2,459th\",B+ ,COMO TREINAR,1992,1127043,588627903\n",
      "\"2,460th\",B+ ,Хит ТВ,196,449469,222758042\n",
      "\"2,461st\",B+ ,Bedaya TV l قناة بداية…,46566,1394051,2304243251\n",
      "\"2,462nd\",B+ ,Little Princess Shinta,273,855876,407824674\n",
      "\"2,463rd\",B+ ,iPantellas,301,3800241,1177221724\n",
      "\"2,464th\",B+ ,Colleen Ballinger,909,7073141,1222002200\n",
      "\"2,465th\",B+ ,AD-WISE MEDIA ACTION MOVIEPLEX,173,1624785,465374354\n",
      "\"2,466th\",B+ ,Suresh Productions,3397,1073744,629743269\n",
      "\"2,467th\",B+ ,lunacreciente,1478,3896149,1951728849\n",
      "\"2,468th\",B+ ,КАЛЯКА-МАЛЯКА,405,1303173,882081282\n",
      "\"2,469th\",B+ ,Drawblogs,202,6994479,677220640\n",
      "\"2,470th\",B+ ,Crazy Colors Balls,70,-- ,220328473\n",
      "\"2,471st\",B+ ,Polycrol Piramal,26,6427,44608358\n",
      "\"2,472nd\",B+ ,Dora poznaje swiat po polsku gry,20,241131,59519171\n",
      "\"2,473rd\",B+ ,台灣蘋果日報,51490,460369,884015918\n",
      "\"2,474th\",B+ ,AfacanTV,214,2228374,1287724532\n",
      "\"2,475th\",B+ ,Sanam,101,4585822,845367333\n",
      "\"2,476th\",B+ ,Три Кота,252,978506,741476286\n",
      "\"2,477th\",B+ ,Shoot for Love 슛포러브,332,722618,235586165\n",
      "\"2,478th\",B+ ,東海オンエアの控え室,986,1742520,797654393\n",
      "\"2,479th\",B+ ,Quality Production,78,140871,42986202\n",
      "\"2,480th\",B+ ,PROMOCIONES RAMIREZ,544,257306,132491128\n",
      "\"2,481st\",B+ ,Meleklerin Aşkı,177,280934,79204643\n",
      "\"2,482nd\",B+ ,Dil Raju,1351,1775888,990587910\n",
      "\"2,483rd\",B+ ,Fatos Alucinantes,9,139528,49602203\n",
      "\"2,484th\",B+ ,Oishi Vietnam,32,11760,48988405\n",
      "\"2,485th\",B+ ,Prestige Clips,538,4211124,782006061\n",
      "\"2,486th\",B+ ,Hot Wheels,1647,1159193,860083329\n",
      "\"2,487th\",B+ ,Ynot,56,18327,24730481\n",
      "\"2,488th\",B+ ,WildFilmsIndia,81888,1122335,709923922\n",
      "\"2,489th\",B+ ,Bhad Bhabie,75,5473320,640792274\n",
      "\"2,490th\",B+ ,Thinknoodles,3558,3710498,1322881853\n",
      "\"2,491st\",B+ ,Iliass TiiwTiiw,35,2584990,704235170\n",
      "\"2,492nd\",B+ ,ToyBox Tube,106,45371,24162152\n",
      "\"2,493rd\",B+ ,Niska Officiel,74,3227522,865829061\n",
      "\"2,494th\",B+ ,Google Thailand,287,410252,398994174\n",
      "\"2,495th\",B+ ,Eskay Movies,651,1364627,579821560\n",
      "\"2,496th\",B+ ,MBOofficial,718,1524368,590058505\n",
      "\"2,497th\",B+ ,Корпорация Зла,425,1636637,512807325\n",
      "\"2,498th\",B+ ,Genius,1276,3297749,626616696\n",
      "\"2,499th\",B+ ,Google India,273,1674277,1116012715\n",
      "\"2,500th\",B+ ,Toy Factory,277,682644,389312359\n",
      "\"2,501st\",B+ ,Said BabyShow,20,850729,112698488\n",
      "\"2,502nd\",B+ ,AlvaroSolerVEVO,36,1774651,1050234847\n",
      "\"2,503rd\",B+ ,Football Santander,163,3411,17772160\n",
      "\"2,504th\",B+ ,GloriaTreviVEVO,70,1166376,1130796654\n",
      "\"2,505th\",B+ ,St3pNy,3909,3438920,1560896807\n",
      "\"2,506th\",B+ ,Namiratek Fun,319,688334,279144668\n",
      "\"2,507th\",B+ ,bindass,3397,2671489,859489926\n",
      "\"2,508th\",B+ ,TurboToyTime,194,687897,452314225\n",
      "\"2,509th\",B+ ,さんこいち,327,962043,248510094\n",
      "\"2,510th\",B+ ,Times Music,970,1956135,719224437\n",
      "\"2,511th\",B+ ,JO Channel,227,338699,263050055\n",
      "\"2,512th\",B+ ,first click,1285,1234198,477632188\n",
      "\"2,513th\",B+ ,Nepeta Страшилки,109,1435212,283321055\n",
      "\"2,514th\",B+ ,Tribo da Periferia,57,3242097,651594176\n",
      "\"2,515th\",B+ ,Twin Toys,339,3044354,1155989364\n",
      "\"2,516th\",B+ ,NightcoreReality,304,3517889,2188209373\n",
      "\"2,517th\",B+ ,Keurig Inc,174,16734,100964164\n",
      "\"2,518th\",B+ ,LukeCombsVEVO,27,355193,385184221\n",
      "\"2,519th\",B+ ,Haider Higer,922,718376,163706056\n",
      "\"2,520th\",B+ ,PlayStation,9501,7421086,1900082551\n",
      "\"2,521st\",B+ ,Carl & Jinger Family,589,2281725,700980271\n",
      "\"2,522nd\",B+ ,Car Music,201,1165378,331515263\n",
      "\"2,523rd\",B+ ,AttitudePOP,554,699230,340593577\n",
      "\"2,524th\",B+ ,Legendary Power Rangers,3331,1111881,967535091\n",
      "\"2,525th\",B+ ,HoomanTV,57,4645932,752223014\n",
      "\"2,526th\",B+ ,Nisha Madhulika,1319,5284376,1055113962\n",
      "\"2,527th\",B+ ,Toys Unlimited JR.,239,593945,283617047\n",
      "\"2,528th\",B+ ,たくっち,1273,896086,1410771888\n",
      "\"2,529th\",B+ ,Young Thug,143,3020821,1422574029\n",
      "\"2,530th\",B+ ,Film4K - Phim Kiếm Hiệp,1483,417454,239755419\n",
      "\"2,531st\",B+ ,Wrzzer,378,2836403,892255099\n",
      "\"2,532nd\",B+ ,Siêu Nhân Người Nhện,252,1244631,520023902\n",
      "\"2,533rd\",B+ ,MariAndToys,565,1359290,564665738\n",
      "\"2,534th\",B+ ,EvanescenceVEVO,50,3390184,1741103915\n",
      "\"2,535th\",B+ ,Natalia Oreiro,2679,463537,627218840\n",
      "\"2,536th\",B+ ,DubstepGutter,1026,3570557,972623928\n",
      "\"2,537th\",B+ ,ماشا و الدب,103,1167780,319263413\n",
      "\"2,538th\",B+ ,TomoNews Indonesia,6014,1147706,944088350\n",
      "\"2,539th\",B+ ,KhámPhá TV,242,377934,204396622\n",
      "\"2,540th\",B+ ,Афоня TV,68,3030945,271839806\n",
      "\"2,541st\",B+ ,Mr.Wheeler&Friends,398,819989,706696370\n",
      "\"2,542nd\",B+ ,Natalies Outlet,267,6995220,1008463227\n",
      "\"2,543rd\",B+ ,RaeSremmurdVEVO,50,5708564,2982265745\n",
      "\"2,544th\",B+ ,La Bala,150,3849909,373728676\n",
      "\"2,545th\",B+ ,3 Adım Müzik,1144,654270,544099971\n",
      "\"2,546th\",B+ ,KIDS Z FUN,518,-- ,658032030\n",
      "\"2,547th\",B+ ,Minguado,921,4512030,1022249703\n",
      "\"2,548th\",B+ ,PanArmenian TV,6329,401418,767554206\n",
      "\"2,549th\",B+ ,Funny Tube,34,128119,72790063\n",
      "\"2,550th\",B+ ,Finger Family Songs,255,3425589,2524775184\n",
      "\"2,551st\",B+ ,JoeyMontanaVEVO,20,2392322,1642039692\n",
      "\"2,552nd\",B+ ,INDO MUSIC PLATINUM,140,925932,226466497\n",
      "\"2,553rd\",B+ ,CBS All Access,171,47669,62744993\n",
      "\"2,554th\",B+ ,BombaEstereoVEVO,49,533766,478250355\n",
      "\"2,555th\",B+ ,Marunadan TV,5606,377764,153561923\n",
      "\"2,556th\",B+ ,TheGamingBeaver,2174,2089792,1314546087\n",
      "\"2,557th\",B+ ,ABCkidTV Misa,34,665314,149796926\n",
      "\"2,558th\",B+ ,Bihari Films Bhojpuri,2150,-- ,128464373\n",
      "\"2,559th\",B+ ,Sangeeta Music,2156,1368129,451805606\n",
      "\"2,560th\",B+ ,EPIX,926,-- ,93439658\n",
      "\"2,561st\",B+ ,Ludmilla,66,3959434,928094173\n",
      "\"2,562nd\",B+ ,Hane & Mari's World Japan Kids TV,803,627249,370454124\n",
      "\"2,563rd\",B+ ,SilbermondVEVO,31,29274,49682466\n",
      "\"2,564th\",B+ ,Comment Awards,263,747854,213721463\n",
      "\"2,565th\",B+ ,Digital Gyan,47,-- ,96297856\n",
      "\"2,566th\",B+ ,Vision Time Tamil,6181,846898,482057974\n",
      "\"2,567th\",B+ ,浙江卫视音乐频道 ZJSTV…,2689,777047,1033615783\n",
      "\"2,568th\",B+ ,I Can See Your Voice PH,867,498428,296096485\n",
      "\"2,569th\",B+ ,Ei Nerd,1291,4990306,668339486\n",
      "\"2,570th\",B+ ,歌手官方音乐频道 SINGER,3022,762502,885572764\n",
      "\"2,571st\",B+ ,OPUS MAGNUM,766,-- ,49355044\n",
      "\"2,572nd\",B+ ,Gloom,506,1813224,284592198\n",
      "\"2,573rd\",B+ ,Calphalon,2,1280,19339793\n",
      "\"2,574th\",B+ ,KINGOFDARKNESSCERBERUS АИД,404,1057668,251540695\n",
      "\"2,575th\",B+ ,HGuitaraStudio - حيدر…,334,1417964,654684682\n",
      "\"2,576th\",B+ ,Cambodia Wildlife,79,290582,68824165\n",
      "\"2,577th\",B+ ,ActorVarunPruthi,138,2587816,332479259\n",
      "\"2,578th\",B+ ,Kollywood Tamil News,1861,-- ,207636228\n",
      "\"2,579th\",B+ ,MoDa ViraL,395,-- ,193657699\n",
      "\"2,580th\",B+ ,SoyFredy,220,3213414,446468936\n",
      "\"2,581st\",B+ ,Disney Junior Brasil,1063,1532886,675832044\n",
      "\"2,582nd\",B+ ,TroyeSivanVEVO,64,2781631,603986750\n",
      "\"2,583rd\",B+ ,Rajasthani Gorband Music,3788,1274324,504938340\n",
      "\"2,584th\",B+ ,Deckdisc,6213,2292956,1710512922\n",
      "\"2,585th\",B+ ,EllieGouldingVEVO,97,8145497,4355601745\n",
      "\"2,586th\",B+ ,蘋果動新聞 HK Apple Daily,87296,1192744,1954751427\n",
      "\"2,587th\",B+ ,Mountain Apple Company Inc,245,595088,762590058\n",
      "\"2,588th\",B+ ,2MTV,8926,2653093,1282331963\n",
      "\"2,589th\",B+ ,Mazzika - مزيكا,2562,3220720,1522609687\n",
      "\"2,590th\",B+ ,공대생 변승주,887,1700929,534792697\n",
      "\"2,591st\",B+ ,Goldmines Premiere,21,3334658,41879154\n",
      "\"2,592nd\",B+ ,JennaMarbles,416,18525371,2824854098\n",
      "\"2,593rd\",B+ ,Aventura,90,2000468,1888207077\n",
      "\"2,594th\",B+ ,Toy Caboodle,601,601106,210416096\n",
      "\"2,595th\",B+ ,Onyx Kids,67,511668,182784900\n",
      "\"2,596th\",B+ ,지니키즈 Genikids (인기…,1016,467977,417977130\n",
      "\"2,597th\",B+ ,えむれなチャンネル,239,1120124,316905147\n",
      "\"2,598th\",B+ ,St.319 Entertainment,148,897418,299643846\n",
      "\"2,599th\",B+ ,tobitoTv,61,-- ,31855032\n",
      "\"2,600th\",B+ ,The Graham Norton Show,664,2027247,1078482372\n",
      "\"2,601st\",B+ ,LHUGUENY,187,1979324,971489630\n",
      "\"2,602nd\",B+ ,Lagu Anak Indonesia Balita,163,936623,447926342\n",
      "\"2,603rd\",B+ ,LDShadowLady,1053,4202667,1699832633\n",
      "\"2,604th\",B+ ,Claro Brasil,472,1223008,694411843\n",
      "\"2,605th\",B+ ,Pixel Kinaragendis,409,391691,162681870\n",
      "\"2,606th\",B+ ,AvrilLavigneVEVO,83,7262763,3448693882\n",
      "\"2,607th\",B+ ,TheBrianMaps,333,7824681,1824583967\n",
      "\"2,608th\",B+ ,Top 5s Finest,1033,2981658,885722386\n",
      "\"2,609th\",B+ ,Action Movies Digiplex,66,1223880,295322282\n",
      "\"2,610th\",B+ ,ToonToon Juegos,219,1793617,555488756\n",
      "\"2,611th\",B+ ,MD Saddaf,634,684866,355460418\n",
      "\"2,612th\",B+ ,Rajshri Kids,628,1241321,478571271\n",
      "\"2,613th\",B+ ,BibisBeautyPalace,664,5333644,2074988692\n",
      "\"2,614th\",B+ ,Primitive Survival Skills,41,755907,86410426\n",
      "\"2,615th\",B+ ,jaipurthepinkcity,1915,2235636,311951036\n",
      "\"2,616th\",B+ ,BemLoko,124,571256,218917495\n",
      "\"2,617th\",B+ ,Rhymes for Super Kids,677,1766117,353731946\n",
      "\"2,618th\",B+ ,AmyWinehouseVEVO,28,1484286,1122176667\n",
      "\"2,619th\",B+ ,JSL Global Media,6597,2532602,1253577226\n",
      "\"2,620th\",B+ ,BogMonsterZ,257,-- ,165924291\n",
      "\"2,621st\",B+ ,MaitreGimsVEVO,85,4134570,2533614944\n",
      "\"2,622nd\",B+ ,ТВ Деткам,801,1378470,1861790005\n",
      "\"2,623rd\",B+ ,瑪莎與熊 Masha and The Bear CH,175,771661,289541828\n",
      "\"2,624th\",B+ ,Didi & Friends - Lagu Kanak Kanak,311,1247825,1060552992\n",
      "\"2,625th\",B+ ,Dr. Sarita Basu,59,223588,21616196\n",
      "\"2,626th\",B+ ,News7 Tamil,86158,1440648,530150556\n",
      "\"2,627th\",B+ ,Sunday Production Official,589,675261,241022759\n",
      "\"2,628th\",B+ ,Simply Nailogical,376,6082405,1027706062\n",
      "\"2,629th\",B+ ,Bajki dla dzieci,26,815968,242251466\n",
      "\"2,630th\",B+ ,XXXTentacion - Topic,39,113578,255295357\n",
      "\"2,631st\",B+ ,Philip DeFranco,2348,6293640,2441804884\n",
      "\"2,632nd\",B+ ,YouTúp Bí ẩn,183,-- ,147571155\n",
      "\"2,633rd\",B+ ,The Voice Global,196,2709282,625181556\n",
      "\"2,634th\",B+ ,Show Fever综艺风向标,7886,394288,354075716\n",
      "\"2,635th\",B+ ,Brat,227,2304873,407608508\n",
      "\"2,636th\",B+ ,Nykk Deetronic,145,983707,891000939\n",
      "\"2,637th\",B+ ,GrupoTelemicroHD,5424,745770,290857749\n",
      "\"2,638th\",B+ ,Daniel Lopez,611,153257,162896539\n",
      "\"2,639th\",B+ ,Zen - Kun,368,1095018,406762051\n",
      "\"2,640th\",B+ ,DalasReview,764,8128044,1631818535\n",
      "\"2,641st\",B+ ,Mileninha Stepanienco,629,2847043,352301567\n",
      "\"2,642nd\",B+ ,ChinoNachoVEVO,30,3419984,2761335456\n",
      "\"2,643rd\",B+ ,video whatsapptube,240,1282009,445889862\n",
      "\"2,644th\",B+ ,fikrifadlu,82,303668,51807253\n",
      "\"2,645th\",B+ ,Hajime,25,585054,272898969\n",
      "\"2,646th\",B+ ,Radhe Creation,58,1881497,287171421\n",
      "\"2,647th\",B+ ,TODAY,9833,908518,748167197\n",
      "\"2,648th\",B+ ,TmarTn2,9112,3462611,1240578191\n",
      "\"2,649th\",B+ ,Resolve Carpet Cleaner,16,3395,32807135\n",
      "\"2,650th\",B+ ,Kluna Tik,178,4096388,1675742843\n",
      "\"2,651st\",B+ ,Sa1mon,60,224490,17466817\n",
      "\"2,652nd\",B+ ,4NonBlondesVEVO,4,597625,559884173\n",
      "\"2,653rd\",B+ ,제이제이 튜브 [JJ Tube],401,631831,444058873\n",
      "\"2,654th\",B+ ,Lise LS_01,111,119272,172266742\n",
      "\"2,655th\",B+ ,Klamille Warrior,8,91732,69207181\n",
      "\"2,656th\",B+ ,Frost Diamond,430,1706244,309258705\n",
      "\"2,657th\",B+ ,MasDivertidoTV,589,613540,289511654\n",
      "\"2,658th\",B+ ,Nanpa Basico Oficial,63,1043566,405639578\n",
      "\"2,659th\",B+ ,Jon Vlogs,517,3697293,350134603\n",
      "\"2,660th\",B+ ,LeoDanVEVO,18,90847,187402142\n",
      "\"2,661st\",B+ ,Laura Rômulo,429,69621,16000996\n",
      "\"2,662nd\",B+ ,Show TV,7881,1843131,1584951345\n",
      "\"2,663rd\",B+ ,MsMojo,1816,1818275,664835401\n",
      "\"2,664th\",B+ ,WOW KIDS TV,16,-- ,60135305\n",
      "\"2,665th\",B+ ,Hope For Paws - Official Rescue…,361,3147897,717338004\n",
      "\"2,666th\",B+ ,Даник Кек,559,783524,260315353\n",
      "\"2,667th\",B+ ,BlackStarTV,202,3938269,950694569\n",
      "\"2,668th\",B+ ,Imagen Noticias,57270,1445044,1107593939\n",
      "\"2,669th\",B+ ,Teremok Baby,930,1283286,1210915528\n",
      "\"2,670th\",B+ ,TIME MACHINE,300,1302843,504483414\n",
      "\"2,671st\",B+ ,Game công chúa,389,81689,29604235\n",
      "\"2,672nd\",B+ ,Warner Music Japan,1939,1808895,1622755846\n",
      "\"2,673rd\",B+ ,Freememeskids,28,465581,85280678\n",
      "\"2,674th\",B+ ,JackJackPlays,490,1059810,672921624\n",
      "\"2,675th\",B+ ,Kontor.TV,1887,4853178,4578123044\n",
      "\"2,676th\",B+ ,ดีต่อใจ…,99,63848,19255045\n",
      "\"2,677th\",B+ ,Dibujitos para niños,208,785365,207954560\n",
      "\"2,678th\",B+ ,MR.B,356,2742241,523546651\n",
      "\"2,679th\",B+ ,Comedyplus With Neetuarya,35,328377,41319558\n",
      "\"2,680th\",B+ ,KN Cheno,59,236014,80345667\n",
      "\"2,681st\",B+ ,Pabllo Vittar,52,4794644,792082916\n",
      "\"2,682nd\",B+ ,DozeCamp,720,621459,279773481\n",
      "\"2,683rd\",B+ ,brunokguimaraes,6,140009,66004790\n",
      "\"2,684th\",B+ ,Lizzy Sharer,84,1330737,175765889\n",
      "\"2,685th\",B+ ,VinesFromDR,36,487779,76252348\n",
      "\"2,686th\",B+ ,madonna,278,2205333,911602658\n",
      "\"2,687th\",B+ ,Celebrity Tv,2874,-- ,18594566\n",
      "\"2,688th\",B+ ,Vosso Canal,926,3112638,425680321\n",
      "\"2,689th\",B+ ,Weyyak. com,2266,572506,270741926\n",
      "\"2,690th\",B+ ,IMediaMovies - أى ميديا…,1544,397141,251853154\n",
      "\"2,691st\",B+ ,Узнавайка,915,966795,1045012657\n",
      "\"2,692nd\",B+ ,melo92i,111,538859,402796474\n",
      "\"2,693rd\",B+ ,Barvina,273,2420738,374238915\n",
      "\"2,694th\",B+ ,LanaDelReyVEVO,39,6065074,2371140610\n",
      "\"2,695th\",B+ ,OTV,37314,818809,295161533\n",
      "\"2,696th\",B+ ,The Inner Studio,679,2408491,673204380\n",
      "\"2,697th\",B+ ,قناة شعبيات / Sha3beyat…,4751,2019713,756026884\n",
      "\"2,698th\",B+ ,Annoying Orange Gaming,1791,1848078,1232414730\n",
      "\"2,699th\",B+ ,Loli Moreno Gomez,1906,26148,22949684\n",
      "\"2,700th\",B+ ,Pagla BaBa,27,519478,124226304\n",
      "\"2,701st\",B+ ,Lucas Rangel,395,6795466,824934195\n",
      "\"2,702nd\",B+ ,News 1st,4064,-- ,164077851\n",
      "\"2,703rd\",B+ ,Imagen Entretenimiento,30272,1351336,669808152\n",
      "\"2,704th\",B+ ,Fran para meninas,1284,4619154,1122878059\n",
      "\"2,705th\",B+ ,Swiggy India,207,14280,192772568\n",
      "\"2,706th\",B+ ,nigahiga,343,21236600,3866472711\n",
      "\"2,707th\",B+ ,Bin Bin,153,-- ,66208731\n",
      "\"2,708th\",B+ ,Arab Idol,1016,3593188,2199617230\n",
      "\"2,709th\",B+ ,Daz Games,981,2256639,467242974\n",
      "\"2,710th\",B+ ,Fran MG,1842,3721550,1448895028\n",
      "\"2,711th\",B+ ,10-Minutes Amazing Life,193,170335,63251474\n",
      "\"2,712th\",B+ ,SeseGel,1317,1708062,601556169\n",
      "\"2,713th\",B+ ,DD Rock,21,-- ,37865241\n",
      "\"2,714th\",B+ ,Hero Kids,92,-- ,121298233\n",
      "\"2,715th\",B+ ,MLP Happy Today,156,70979,21367745\n",
      "\"2,716th\",B+ ,Minecraft Parodileri,541,573245,178757030\n",
      "\"2,717th\",B+ ,CD CHOICE Drama,1174,1216196,340651914\n",
      "\"2,718th\",B+ ,Troom Troom FR,314,1424137,393517021\n",
      "\"2,719th\",B+ ,fazz160,603,607936,332957662\n",
      "\"2,720th\",B+ ,SevenAwesomeKids,2084,2591899,1320330267\n",
      "\"2,721st\",B+ ,Comedy No.1,831,713896,197029536\n",
      "\"2,722nd\",B+ ,Malabar Gallery,111,66270,20768104\n",
      "\"2,723rd\",B+ ,Forty Movie,370,145418,77757397\n",
      "\"2,724th\",B+ ,FrancodeVitaVEVO,117,1122835,1311308610\n",
      "\"2,725th\",B+ ,Wow Kidz Action,769,1158939,359293183\n",
      "\"2,726th\",B+ ,festivaldevinachile,7436,1629930,1044777258\n",
      "\"2,727th\",B+ ,Playlist,214,330878,178619929\n",
      "\"2,728th\",B+ ,Boomerang Polska,606,152848,83019426\n",
      "\"2,729th\",B+ ,Pablo Oficial,178,995155,340884111\n",
      "\"2,730th\",B+ ,Niloya,373,1725336,1286091749\n",
      "\"2,731st\",B+ ,Kiralık Aşk,1369,1199160,1785335503\n",
      "\"2,732nd\",B+ ,Gold Coast Music,766,364629,125163380\n",
      "\"2,733rd\",B+ ,Reto 4 Elementos,1179,757946,245083066\n",
      "\"2,734th\",B+ ,The Master stroke,350,260096,17138261\n",
      "\"2,735th\",B+ ,DjMaRiiO,1941,4289062,1241250859\n",
      "\"2,736th\",B+ ,剧透大师,2254,-- ,72043355\n",
      "\"2,737th\",B+ ,Lee Kwang Soo RUNNING MAN,332,11283,16169415\n",
      "\"2,738th\",B+ ,Games EduUu,755,4640761,1043800875\n",
      "\"2,739th\",B+ ,thevampirediaries,806,604544,185835823\n",
      "\"2,740th\",B+ ,Desimpedidos,1692,6530508,1266676391\n",
      "\"2,741st\",B+ ,We Are The Davises,841,2297233,863947524\n",
      "\"2,742nd\",B+ ,SR Creation,399,-- ,236899101\n",
      "\"2,743rd\",B+ ,Fortnite Daily Moments,599,481056,133002844\n",
      "\"2,744th\",B+ ,VICE News,3328,3410335,854420068\n",
      "\"2,745th\",B+ ,MasterChef Thailand,484,985991,316827389\n",
      "\"2,746th\",B+ ,Ella Banana,307,561805,377697515\n",
      "\"2,747th\",B+ ,Flavia Calina,1356,5718337,1843893788\n",
      "\"2,748th\",B+ ,MisterSatanZ,32,120463,17357874\n",
      "\"2,749th\",B+ ,K-391,27,963209,148601406\n",
      "\"2,750th\",B+ ,PTC PUNJABI,6081,1482990,580659676\n",
      "\"2,751st\",B+ ,Imo Video Club,416,-- ,15831479\n",
      "\"2,752nd\",B+ ,LaSalle,2775,2747999,1251947588\n",
      "\"2,753rd\",B+ ,ProstoTV,1769,1647344,1483377635\n",
      "\"2,754th\",B+ ,Rubic8,658,212304,172640324\n",
      "\"2,755th\",B+ ,StevenCrowder,756,2527487,522815132\n",
      "\"2,756th\",B+ ,CarToys Tv,95,-- ,24670331\n",
      "\"2,757th\",B+ ,PinkPanthersShow,124,831504,419601393\n",
      "\"2,758th\",B+ ,SMG4,434,2421473,970734163\n",
      "\"2,759th\",B+ ,СПС,809,2067452,807229875\n",
      "\"2,760th\",B+ ,Moriah Elizabeth,157,1042945,133913976\n",
      "\"2,761st\",B+ ,Berry Sorn,231,95109,20622828\n",
      "\"2,762nd\",B+ ,Alee mtz ceja,104,422665,377845171\n",
      "\"2,763rd\",B+ ,CAguileraVEVO,72,2619115,2100747662\n",
      "\"2,764th\",B+ ,Mundo da Vivi,248,3788713,532028404\n",
      "\"2,765th\",B+ ,CHOLCHET REMIX3,739,-- ,143002603\n",
      "\"2,766th\",B+ ,Polsat,915,228405,199967762\n",
      "\"2,767th\",B+ ,Kreyk,727,1533323,553785613\n",
      "\"2,768th\",B+ ,RiChannel,887,696649,648403407\n",
      "\"2,769th\",B+ ,Telenovelas,9383,334603,383964260\n",
      "\"2,770th\",B+ ,EugenBro,681,2194042,612457297\n",
      "\"2,771st\",B+ ,TAM STORY,2077,1609446,887853271\n",
      "\"2,772nd\",B+ ,A Praça É Nossa,1524,1375864,521645637\n",
      "\"2,773rd\",B+ ,태경 TV,1607,1268676,1293103265\n",
      "\"2,774th\",B+ ,Sony YAY!,176,138910,43330939\n",
      "\"2,775th\",B+ ,VTC Now,2600,181981,20694946\n",
      "\"2,776th\",B+ ,Devotees Insanos Records,171,1551583,194057658\n",
      "\"2,777th\",B+ ,Cartoon Network LA,1139,3473378,750717334\n",
      "\"2,778th\",B+ ,리원세상RIWORLD,284,632278,230379119\n",
      "\"2,779th\",B+ ,KDI MNCTV,2717,312492,206106914\n",
      "\"2,780th\",B+ ,Film&Clips,5163,1245242,706348496\n",
      "\"2,781st\",B+ ,Les Anges - La chaîne officielle,1912,866322,651930612\n",
      "\"2,782nd\",B+ ,All Def,3109,3711154,1195339448\n",
      "\"2,783rd\",B+ ,GameSprout,2121,3198799,1157420399\n",
      "\"2,784th\",B+ ,UFC - Ultimate Fighting…,7198,4920648,1636013318\n",
      "\"2,785th\",B+ ,samira dahbil,299,-- ,15369475\n",
      "\"2,786th\",B+ ,Gabriela Rocha,219,2285062,440865115\n",
      "\"2,787th\",B+ ,Talk Shows Central,46101,2043430,584108770\n",
      "\"2,788th\",B+ ,2MadamesTV,1112,1016893,728101565\n",
      "\"2,789th\",B+ ,Я Плакал,241,328892,175737200\n",
      "\"2,790th\",B+ ,Star Jalsha,9474,883658,556505516\n",
      "\"2,791st\",B+ ,BreakMan,188,2595565,381671209\n",
      "\"2,792nd\",B+ ,Lentrius TV,532,1043237,492111885\n",
      "\"2,793rd\",B+ ,Sanjivani Buti,541,-- ,159143613\n",
      "\"2,794th\",B+ ,TheFuriousDestiny,373,66580,121070098\n",
      "\"2,795th\",B+ ,Genius Production,449,332705,83319584\n",
      "\"2,796th\",B+ ,Oyuncak Kraliyeti,344,1128207,758660731\n",
      "\"2,797th\",B+ ,Novelas Telefe,3071,414672,200203819\n",
      "\"2,798th\",B+ ,TopNotch,3283,1316176,1815444027\n",
      "\"2,799th\",B+ ,3bdO - عبدو,509,1163019,309475841\n",
      "\"2,800th\",B+ ,FCK THEM,480,1037533,469747260\n",
      "\"2,801st\",B+ ,RuLingGame,1713,1388315,488586925\n",
      "\"2,802nd\",B+ ,RDC Rajasthani HD,3220,952919,238349185\n",
      "\"2,803rd\",B+ ,Lil Dicky,54,3687752,875902643\n",
      "\"2,804th\",B+ ,Bethel Music,842,1491745,701053782\n",
      "\"2,805th\",B+ ,杰威爾音樂 JVR Music,515,1409465,1916809335\n",
      "\"2,806th\",B+ ,Kids Animals,61,-- ,40520990\n",
      "\"2,807th\",B+ ,Got Talent España,749,1670533,552850162\n",
      "\"2,808th\",B+ ,華研國際,1191,1326246,1531692758\n",
      "\"2,809th\",B+ ,Black Bart,47,-- ,30793296\n",
      "\"2,810th\",B+ ,Comedy Central UK,2356,980627,618123207\n",
      "\"2,811th\",B+ ,Tamil Phone Calls,263,-- ,53383838\n",
      "\"2,812th\",B+ ,Sandaroo Kids [DisneyCarToys],3029,6096606,6841746256\n",
      "\"2,813th\",B+ ,Kowiy,373,2132700,328927067\n",
      "\"2,814th\",B+ ,rusplaying,156,1898137,630891285\n",
      "\"2,815th\",B+ ,Bazzi,19,1119727,195288594\n",
      "\"2,816th\",B+ ,Beauty Simple Treatment,59,-- ,15269015\n",
      "\"2,817th\",B+ ,DosEquisMx,88,25588,114227522\n",
      "\"2,818th\",B+ ,豪記唱片 HCM Music,2603,373099,701132737\n",
      "\"2,819th\",B+ ,Dek Jew Chill Out,3026,2385669,1889800947\n",
      "\"2,820th\",B+ ,matichon tv,23695,1184800,735240189\n",
      "\"2,821st\",B+ ,ProviSound,1362,1149224,782214764\n",
      "\"2,822nd\",B+ ,Gabriela Almeida,495,2128433,643588447\n",
      "\"2,823rd\",B+ ,Supertone Digital,1746,1895826,410280891\n",
      "\"2,824th\",B+ ,New Love Status,412,-- ,157194838\n",
      "\"2,825th\",B+ ,Mis Pastelitos,293,5725806,626439291\n",
      "\"2,826th\",B+ ,SamsuL OfficiaL,123,606999,79682716\n",
      "\"2,827th\",B+ ,Visitmex,407,34886,122297311\n",
      "\"2,828th\",B+ ,Coisa de Nerd,1792,8630366,2226884061\n",
      "\"2,829th\",B+ ,Ventaneando,12282,808851,706168952\n",
      "\"2,830th\",B+ ,RagnBoneManVEVO,53,1554603,784960469\n",
      "\"2,831st\",B+ ,Nickelodeon Italia,1115,584405,478881766\n",
      "\"2,832nd\",B+ ,Akillheals,872,132745,283244686\n",
      "\"2,833rd\",B+ ,NiceeTV - лучшие вайны,214,480972,130870127\n",
      "\"2,834th\",B+ ,windy31,2245,4020103,1243004812\n",
      "\"2,835th\",B+ ,Dj Ankush,292,-- ,97671397\n",
      "\"2,836th\",B+ ,Leandro Borges,67,933509,160417082\n",
      "\"2,837th\",B+ ,SuperbLyrics,509,1084644,387816147\n",
      "\"2,838th\",B+ ,Action Tadka India,1021,1093363,499854957\n",
      "\"2,839th\",B+ ,Canal Rodrigo Mota TV,61,1346084,298668942\n",
      "\"2,840th\",B+ ,Top Pakistani Dramas,4723,1140055,448774605\n",
      "\"2,841st\",B+ ,Shawn Woods,425,902212,246157102\n",
      "\"2,842nd\",B+ ,Oops Buron,807,1099894,260203013\n",
      "\"2,843rd\",B+ ,BuBuPlus,1040,-- ,243112209\n",
      "\"2,844th\",B+ ,Niharika Movies,25306,927801,589415282\n",
      "\"2,845th\",B+ ,Brijnaari Sumi,1785,2896319,501256772\n",
      "\"2,846th\",B+ ,Nickelodeon en Español,1586,993311,413737872\n",
      "\"2,847th\",B+ ,Miramax,1737,561393,373183309\n",
      "\"2,848th\",B+ ,Hottel Mazzafera,565,3157733,333822413\n",
      "\"2,849th\",B+ ,TellyMasala,9806,1688479,836314765\n",
      "\"2,850th\",B+ ,borkomcl,438,30803,25233958\n",
      "\"2,851st\",B+ ,奇宝萌兵 - ODDBODS,220,92158,25518263\n",
      "\"2,852nd\",B+ ,jacksfilms,1048,4374183,1848488915\n",
      "\"2,853rd\",B+ ,Kids Car Fun,10,-- ,62672045\n",
      "\"2,854th\",B+ ,Happy Bachpan,453,1434560,483736844\n",
      "\"2,855th\",B+ ,Galatta Tamil |…,13398,631145,199048417\n",
      "\"2,856th\",B+ ,PortugaPC,1261,5221177,621282327\n",
      "\"2,857th\",B+ ,Random Encounters,679,1892270,552027053\n",
      "\"2,858th\",B+ ,Lartiste Officiel,30,3235010,1047216105\n",
      "\"2,859th\",B+ ,CMA Music,119,384230,181489130\n",
      "\"2,860th\",B+ ,taff,2063,959906,882755302\n",
      "\"2,861st\",B+ ,THAI TALE,222,875740,352399718\n",
      "\"2,862nd\",B+ ,АЛЕКСАНДРА…,120,1322374,98198564\n",
      "\"2,863rd\",B+ ,cosfit1,164,48824,15091670\n",
      "\"2,864th\",B+ ,SimoneSimariaVEVO,22,3898417,1443125038\n",
      "\"2,865th\",B+ ,TharProductionPak,11865,1660291,728973384\n",
      "\"2,866th\",B+ ,AwesomenessTV,6008,6577972,2296550787\n",
      "\"2,867th\",B+ ,Studio Sangeeta,1636,1110501,336010778\n",
      "\"2,868th\",B+ ,DED,596,2022493,398698323\n",
      "\"2,869th\",B+ ,BabyKVEVO,19,834244,573934391\n",
      "\"2,870th\",B+ ,EduardoCostaVEVO,94,1188186,720227221\n",
      "\"2,871st\",B+ ,SK tv,2831,1382501,445750626\n",
      "\"2,872nd\",B+ ,Rashed AlMajid - راشد…,806,983067,690866722\n",
      "\"2,873rd\",B+ ,Orange Egypt,665,941778,570895687\n",
      "\"2,874th\",B+ ,Combo Panda,231,457917,293364115\n",
      "\"2,875th\",B+ ,SoSorry,661,1807103,614319808\n",
      "\"2,876th\",B+ ,KHƯƠNG DỪA CHANNEL,338,384124,163219991\n",
      "\"2,877th\",B+ ,MariAndFriends,1122,1167302,671927572\n",
      "\"2,878th\",B+ ,حول العالم 2,1094,3022843,503327290\n",
      "\"2,879th\",B+ ,Red Bull,6507,7642861,1985654311\n",
      "\"2,880th\",B+ ,Голос країни,3186,1259348,1142337606\n",
      "\"2,881st\",B+ ,Giải Trí TV,537,162364,55689423\n",
      "\"2,882nd\",B+ ,iPhim - Phim Bất Hủ,1062,174289,54920307\n",
      "\"2,883rd\",B+ ,Guitarzsk,23,281498,79308208\n",
      "\"2,884th\",B+ ,Hiếu Organ,894,-- ,51439606\n",
      "\"2,885th\",B+ ,Phong Zhou,1528,1066867,275687071\n",
      "\"2,886th\",B+ ,Tips Top 007,36,461854,89146029\n",
      "\"2,887th\",B+ ,CyndiLauperVEVO,40,985998,1092527767\n",
      "\"2,888th\",B+ ,celebrity Snaps,2155,-- ,138888436\n",
      "\"2,889th\",B+ ,Bollywood Movies,30,128949,28112087\n",
      "\"2,890th\",B+ ,toksound,284,576143,658088531\n",
      "\"2,891st\",B+ ,Jesus Adrian Romero,78,2950056,1223393247\n",
      "\"2,892nd\",B+ ,Shemaroo Bhakti,1798,1771351,453997269\n",
      "\"2,893rd\",B+ ,Papa Jake,3456,5198225,1107406426\n",
      "\"2,894th\",B+ ,Dudu Moura,3139,3199030,868144210\n",
      "\"2,895th\",B+ ,Cuentos y Canciones Infantiles,197,1317913,467255971\n",
      "\"2,896th\",B+ ,Sara Roses,259,347167,237532680\n",
      "\"2,897th\",B+ ,Thanthi TV,69843,1071589,418132080\n",
      "\"2,898th\",B+ ,Petit Espiègle,468,523913,52949803\n",
      "\"2,899th\",B+ ,로미유 스토리[Romiyu Story],69,120125,27437812\n",
      "\"2,900th\",B+ ,Ciara,67,3220152,99124130\n",
      "\"2,901st\",B+ ,The Rybka Twins,143,3531429,381882756\n",
      "\"2,902nd\",B+ ,MechanicZ,69,462853,81697942\n",
      "\"2,903rd\",B+ ,العاب سيمبا…,474,691078,421290338\n",
      "\"2,904th\",B+ ,ToyKids,707,1559949,440314641\n",
      "\"2,905th\",B+ ,NDTV,69450,2488785,1185616288\n",
      "\"2,906th\",B+ ,Boomerang UK,1249,936861,700117837\n",
      "\"2,907th\",B+ ,Televízia JOJ,20417,286258,543396771\n",
      "\"2,908th\",B+ ,Video Clip Giải trí,201,153330,77042201\n",
      "\"2,909th\",B+ ,BrunoBarrettoVEVO,29,310120,161459246\n",
      "\"2,910th\",B+ ,Deddy Corbuzier,194,1882776,204538656\n",
      "\"2,911th\",B+ ,Suvarna News | ಸುವರ್ಣ…,47317,787818,432842174\n",
      "\"2,912th\",B+ ,Star Media,4786,1394020,953061574\n",
      "\"2,913th\",B+ ,Gcaothu CHANNEL,1517,956274,270795642\n",
      "\"2,914th\",B+ ,ToysReviewToys,1855,2081967,2316867913\n",
      "\"2,915th\",B+ ,The Action Lab,335,1547654,312149447\n",
      "\"2,916th\",B+ ,VTV24,10467,461572,218132097\n",
      "\"2,917th\",B+ ,Cartoon Network India,1424,398891,255973881\n",
      "\"2,918th\",B+ ,Starsky,407,388813,106195817\n",
      "\"2,919th\",B+ ,CaseyNeistat,961,10316468,2363070345\n",
      "\"2,920th\",B+ ,Wandi Brother,31,67777,7413067\n",
      "\"2,921st\",B+ ,Sofie Dossi,98,2574767,272369803\n",
      "\"2,922nd\",B+ ,DawsenTv - Bengali Stories & Rhymes,744,934292,408303091\n",
      "\"2,923rd\",B+ ,Xem gì hôm nay TV,462,1688194,334481262\n",
      "\"2,924th\",B+ ,ZaiLetsPlay,3403,1406402,427727822\n",
      "\"2,925th\",B+ ,قناة MFQ KVP HD,327,-- ,227803255\n",
      "\"2,926th\",B+ ,FARRUKOVEVO,59,6058500,2871118128\n",
      "\"2,927th\",B+ ,Taz Network,727,1966781,1077740952\n",
      "\"2,928th\",B+ ,DesiFeed Video,48139,1711007,772424547\n",
      "\"2,929th\",B+ ,Sỹ Kẹo,699,522431,112741497\n",
      "\"2,930th\",B+ ,HYKO HanyiKobayashi,4,59912,14924517\n",
      "\"2,931st\",B+ ,Gameplay Pvz2,1651,330808,171631308\n",
      "\"2,932nd\",B+ ,ブライアンチャンネル,192,1585237,399828545\n",
      "\"2,933rd\",B+ ,XpertThief,1603,4549074,1094651891\n",
      "\"2,934th\",B+ ,MAJID HUSSAIN,49,212770,33330531\n",
      "\"2,935th\",B+ ,America's Got Talent,1799,8322407,2056689077\n",
      "\"2,936th\",B+ ,Мультики студии…,1059,2039358,2043682056\n",
      "\"2,937th\",B+ ,Janta Films Pvt.Ltd.,130,191477,92447650\n",
      "\"2,938th\",B+ ,PS.ENTERTIMENTS,1990,-- ,156664279\n",
      "\"2,939th\",B+ ,TIN GIẢI TRÍ,2271,-- ,157915149\n",
      "\"2,940th\",B+ ,Big Animation,306,899823,405697394\n",
      "\"2,941st\",B+ ,#Desenhos Kids BR,207,242635,84041146\n",
      "\"2,942nd\",B+ ,Gran Hermano,835,43554,23519342\n",
      "\"2,943rd\",B+ ,Primitive Living,147,594250,188357564\n",
      "\"2,944th\",B+ ,Movies and Travel,16,51071,26969579\n",
      "\"2,945th\",B+ ,Jefferson Moraes,32,709516,171280378\n",
      "\"2,946th\",B+ ,SportsHD,231,1447912,406464424\n",
      "\"2,947th\",B+ ,e-aktivite,452,165419,58977303\n",
      "\"2,948th\",B+ ,잠뜰 TV,1651,1532976,1067408901\n",
      "\"2,949th\",B+ ,Ideas en 5 minutos NIÑOS,668,988733,117899911\n",
      "\"2,950th\",B+ ,Saregama Bengali,2339,1285345,501342602\n",
      "\"2,951st\",B+ ,Лига WatchCAR -…,105,300265,161423341\n",
      "\"2,952nd\",B+ ,GerardoOrtizVEVO,91,2504451,1533049314\n",
      "\"2,953rd\",B+ ,Nexxuz World,902,2786508,740500603\n",
      "\"2,954th\",B+ ,三立LIVE新聞,62969,463879,617815248\n",
      "\"2,955th\",B+ ,Free Kids Games,655,-- ,482663453\n",
      "\"2,956th\",B+ ,LaLiga Santander,30735,2835452,659284535\n",
      "\"2,957th\",B+ ,MLB,267649,1434206,1329206392\n",
      "\"2,958th\",B+ ,Primitive Wildlife,135,429361,96827542\n",
      "\"2,959th\",B+ ,انور المحبوب anwar…,95,2379431,472598607\n",
      "\"2,960th\",B+ ,Surprise Toys Baby - DTAC TOYS TV,3,739567,57853099\n",
      "\"2,961st\",B+ ,News Tube,1920,-- ,70196251\n",
      "\"2,962nd\",B+ ,RedConectate,123,538420,247461127\n",
      "\"2,963rd\",B+ ,พระนครฟิลม์…,311,1114429,228312377\n",
      "\"2,964th\",B+ ,SISI LAIN DUNIA,1067,811457,368826750\n",
      "\"2,965th\",B+ ,Nickelodeon France,1603,461268,249364334\n",
      "\"2,966th\",B+ ,KOMPASTV,67508,596530,468517987\n",
      "\"2,967th\",B+ ,فان مسلسلات,71,-- ,110841114\n",
      "\"2,968th\",B+ ,Banglavision DRAMA,906,467829,55404821\n",
      "\"2,969th\",B+ ,عروض مواهب مترجمة,237,1350672,241777799\n",
      "\"2,970th\",B+ ,Время и Стекло,76,2340222,1125462303\n",
      "\"2,971st\",B+ ,MonDEV,923,2882303,605817991\n",
      "\"2,972nd\",B+ ,Kadın,809,456523,257999396\n",
      "\"2,973rd\",B+ ,DICHARA,23,48687,74014\n",
      "\"2,974th\",B+ ,Health & Beauty Tips- Gharelu…,129,2305859,211241208\n",
      "\"2,975th\",B+ ,Machine Gun Kelly,200,4062194,617193410\n",
      "\"2,976th\",B+ ,Sunny Kumar Rana,68,1696973,452698164\n",
      "\"2,977th\",B+ ,FunnyPig,752,412114,238560407\n",
      "\"2,978th\",B+ ,BigDaddyHoffman1911,542,168297,57946357\n",
      "\"2,979th\",B+ ,Marwa Loud,7,1396136,291164795\n",
      "\"2,980th\",B+ ,systemofadownVEVO,22,2951209,2061990370\n",
      "\"2,981st\",B+ ,The Daya Daily,140,736388,352087768\n",
      "\"2,982nd\",B+ ,Mister Bin Video Film Cartoons…,984,386904,116485462\n",
      "\"2,983rd\",B+ ,ABCSongs,235,1322915,716549011\n",
      "\"2,984th\",B+ ,rewinside,3357,2525853,1144101837\n",
      "\"2,985th\",B+ ,Манкиту Сhannel,364,929669,516927832\n",
      "\"2,986th\",B+ ,SHAM MEDIA شام ميديا,3292,-- ,332034634\n",
      "\"2,987th\",B+ ,EthanGamer,833,2248312,1313195210\n",
      "\"2,988th\",B+ ,Garena RoV Thailand,748,1803752,330946680\n",
      "\"2,989th\",B+ ,Movie Escenas,309,518070,215703795\n",
      "\"2,990th\",B+ ,Stand Up Kompas TV,1665,839585,509843395\n",
      "\"2,991st\",B+ ,Dino Pereira,324,795055,309969321\n",
      "\"2,992nd\",B+ ,Thiago Gravações Apresenta,679,1338088,446191063\n",
      "\"2,993rd\",B+ ,Front Videos,145,-- ,64705162\n",
      "\"2,994th\",B+ ,BASS BOOSTED SONGS,274,1405209,251327239\n",
      "\"2,995th\",B+ ,Spor Delisi HD,93,415809,189918112\n",
      "\"2,996th\",B+ ,Рыжий Ёжик ТВ,486,889638,740561742\n",
      "\"2,997th\",B+ ,PlayHard,1192,4984059,562344733\n",
      "\"2,998th\",B+ ,DaniRep Golf it y fortnite diario!,1843,2955245,625289467\n",
      "\"2,999th\",B+ ,aiudesk,574,764461,962652674\n",
      "\"3,000th\",B+ ,Maina Music,1029,1644947,494159147\n",
      "\"3,001st\",B+ ,Step by Step ID,129,786179,85923477\n",
      "\"3,002nd\",B+ ,joystick,501,668762,139062900\n",
      "\"3,003rd\",B+ ,Safiya Nygaard,119,6035710,628697520\n",
      "\"3,004th\",B+ ,Glis Video,42,447229,3662626\n",
      "\"3,005th\",B+ ,Dj Alfonzin,4451,678005,582003124\n",
      "\"3,006th\",B+ ,El Super Trucha,19,2890545,51304190\n",
      "\"3,007th\",B+ ,Mr. Nightmare,152,3766806,466757682\n",
      "\"3,008th\",B+ ,Lyrics Sonics,311,388296,206224146\n",
      "\"3,009th\",B+ ,BalBharti Kids,18,421029,111622396\n",
      "\"3,010th\",B+ ,Thánh Nô TV,575,618107,201378522\n",
      "\"3,011th\",B+ ,Aalok Kumar,662,76463,32136363\n",
      "\"3,012th\",B+ ,Мисс Николь,205,775362,253556555\n",
      "\"3,013th\",B+ ,sorriso de criança,743,716380,309166764\n",
      "\"3,014th\",B+ ,Kanal D Dizi,4533,509945,559965240\n",
      "\"3,015th\",B+ ,Guitar Record Official,72,853443,432664352\n",
      "\"3,016th\",B+ ,Calle13VEVO,88,2335195,1281525208\n",
      "\"3,017th\",B+ ,Eve My Tube,921,1262246,270580351\n",
      "\"3,018th\",B+ ,LaurenzSide,1155,1892929,482374063\n",
      "\"3,019th\",B+ ,National Dastak,9711,1795366,475930902\n",
      "\"3,020th\",B+ ,SonsGames,1906,813073,672733411\n",
      "\"3,021st\",B+ ,redimi2oficial,254,1850159,629437468\n",
      "\"3,022nd\",B+ ,Adelina Grace,283,425612,204654919\n",
      "\"3,023rd\",B+ ,TED-Ed,1484,7391895,1073032122\n",
      "\"3,024th\",B+ ,Voot,872,555656,328299609\n",
      "\"3,025th\",B+ ,El Mundo de Clodett,153,1372479,292067760\n",
      "\"3,026th\",B+ ,Мульти-игрульти,398,57155,20381526\n",
      "\"3,027th\",B+ ,Hindi ActionSongs,193,618420,271657269\n",
      "\"3,028th\",B+ ,noahsarklabel,960,482416,403153475\n",
      "\"3,029th\",B+ ,VilFun Show,141,585667,178958558\n",
      "\"3,030th\",B+ ,[Dorothy]도로시,480,1204365,250549219\n",
      "\"3,031st\",B+ ,CJ CAMBOTAR CHORD,2096,803859,397425308\n",
      "\"3,032nd\",B+ ,MÌ HẢO HẢO - ACECOOK,55,11698,72242463\n",
      "\"3,033rd\",B+ ,Katya Adushkina,326,3236916,395927293\n",
      "\"3,034th\",B+ ,TVN,13765,1000264,513033283\n",
      "\"3,035th\",B+ ,TheChildhoodLife Kids and Toys,974,2189444,1292605586\n",
      "\"3,036th\",B+ ,QueenTubeTH,411,2078604,397070891\n",
      "\"3,037th\",B+ ,Jessy Toys 911,943,1667793,823128169\n",
      "\"3,038th\",B+ ,JustJordan33,372,1392452,381881623\n",
      "\"3,039th\",B+ ,David Vlas,344,2054598,299060462\n",
      "\"3,040th\",B+ ,KeiferMC - Todo Sobre Minecraft,1276,2848623,896674276\n",
      "\"3,041st\",B+ ,Complex,1855,2792134,789671773\n",
      "\"3,042nd\",B+ ,Munnik Tv Türkçe,35,912284,222905707\n",
      "\"3,043rd\",B+ ,EverXFun,6,283811,62843746\n",
      "\"3,044th\",B+ ,Kosmos TV,58,71209,27756196\n",
      "\"3,045th\",B+ ,suellASMR,241,1063071,252440621\n",
      "\"3,046th\",B+ ,Videos Para Whatsapp!,167,63861,14372398\n",
      "\"3,047th\",B+ ,Channeli Tv,3176,1193979,271464829\n",
      "\"3,048th\",B+ ,Компот,491,1044246,250497347\n",
      "\"3,049th\",B+ ,Howcast,22207,6825517,3424536442\n",
      "\"3,050th\",B+ ,Le Bled'Art,1546,3464626,1149864426\n",
      "\"3,051st\",B+ ,Khesari Music World,411,1299484,382269383\n",
      "\"3,052nd\",B+ ,Fun of Fortnite,157,-- ,93608324\n",
      "\"3,053rd\",B+ ,Kafalar,251,4519018,698614847\n",
      "\"3,054th\",B+ ,MV NEWS,1056,507029,125612247\n",
      "\"3,055th\",B+ ,赤髪のとものゲーム実況チャンネル!!…,3426,1770672,1693580580\n",
      "\"3,056th\",B+ ,The Studio Space,42,220561,98000140\n",
      "\"3,057th\",B+ ,LIL UZI VERT,74,4546220,1168385609\n",
      "\"3,058th\",B+ ,EBSDocumentary (EBS 다큐),21381,706822,716793911\n",
      "\"3,059th\",B+ ,ExplosmEntertainment,451,8650915,2310881550\n",
      "\"3,060th\",B+ ,Ttv Media Limited,387,77894,14444263\n",
      "\"3,061st\",B+ ,Bidünya Oyuncak - Dobişko Tv,1604,700274,452387041\n",
      "\"3,062nd\",B+ ,Kids Channel - Cartoon Videos for…,2164,3543143,3335255531\n",
      "\"3,063rd\",B+ ,\"ТО \"\"Gazgolder\"\"\",1014,1929088,1158534683\n",
      "\"3,064th\",B+ ,ทุบโต๊ะ…,4115,734940,329300585\n",
      "\"3,065th\",B+ ,TimOn ChaveS,585,3971029,730736108\n",
      "\"3,066th\",B+ ,VIVA Network,1808,1591436,884084751\n",
      "\"3,067th\",B+ ,DAMI AN,185,3929446,1794157750\n",
      "\"3,068th\",B+ ,Candy Land,920,919810,608631540\n",
      "\"3,069th\",B+ ,GQ,2154,2552436,836994859\n",
      "\"3,070th\",B+ ,Marcos e Belutti,129,2338081,1051039559\n",
      "\"3,071st\",B+ ,iggyazaleamusicVEVO,52,5255070,2507680614\n",
      "\"3,072nd\",B+ ,크림히어로즈,761,1592834,379686191\n",
      "\"3,073rd\",  ,Boram Tube Toy Shcool [보람튜브…,--,726527,205555289\n",
      "\"3,074th\",B+ ,LIUBCHENKO,43,822702,51989692\n",
      "\"3,075th\",B+ ,Boom Slime,119,218329,53161626\n",
      "\"3,076th\",B+ ,LoginfluenceKids,595,2704486,747295014\n",
      "\"3,077th\",B+ ,SUSHI RAMEN【Riku】,397,3330942,649164506\n",
      "\"3,078th\",B+ ,Thông điệp cuộc sống,6,181658,503631\n",
      "\"3,079th\",B+ ,Pelita Utama,2786,561013,280766132\n",
      "\"3,080th\",B+ ,APPLAUSE NEW YORK,335,137465,74992884\n",
      "\"3,081st\",B+ ,SCB Thailand,676,151818,370212210\n",
      "\"3,082nd\",B+ ,Baby TV كتاكيت بيبي,65,905031,267655824\n",
      "\"3,083rd\",B+ ,TiniVEVO,31,1351153,363864331\n",
      "\"3,084th\",B+ ,z a m,4008,394414,388136925\n",
      "\"3,085th\",B+ ,Disturbed,163,2035463,1138657345\n",
      "\"3,086th\",B+ ,Did You Know ?,963,932757,341866028\n",
      "\"3,087th\",B+ ,Madhuram Videos,1123,-- ,84672983\n",
      "\"3,088th\",B+ ,プリッとChannel,936,384816,191700071\n",
      "\"3,089th\",B+ ,Slick TwoThree,131,203229,53586600\n",
      "\"3,090th\",B+ ,Discovery Home & Health,639,455359,93054171\n",
      "\"3,091st\",B+ ,Ellie Sparkles,728,1334463,864103581\n",
      "\"3,092nd\",B+ ,Speed Stick - Latinoamérica,35,22527,139286431\n",
      "\"3,093rd\",B+ ,Pelangi Records,317,744007,412537162\n",
      "\"3,094th\",B+ ,PPCandy,284,319949,122900222\n",
      "\"3,095th\",B+ ,KidCity,464,921200,654047364\n",
      "\"3,096th\",B+ ,GoPro,1974,6174784,1834461538\n",
      "\"3,097th\",B+ ,TPProductionz411,494,-- ,66187749\n",
      "\"3,098th\",B+ ,1Kilo Oficial,94,4795224,887547430\n",
      "\"3,099th\",B+ ,NOVO! Aprenda as Cores Crianças,38,242591,91494693\n",
      "\"3,100th\",B+ ,Mana Amaravathi,2106,-- ,126899353\n",
      "\"3,101st\",B+ ,Android Games,3034,-- ,177249927\n",
      "\"3,102nd\",B+ ,CiccioGamer89,5164,2739025,1049435234\n",
      "\"3,103rd\",B+ ,The Pals,1242,2872495,1061073942\n",
      "\"3,104th\",B+ ,Duki,13,1578686,236138962\n",
      "\"3,105th\",B+ ,TeamFourStar,287,3149561,950269718\n",
      "\"3,106th\",B+ ,Мои игрушки,845,24248,30201408\n",
      "\"3,107th\",B+ ,Andrews Toy Channel,226,1153517,585222718\n",
      "\"3,108th\",B+ ,\"Киножурнал \"\"Ералаш\"\"…\",975,571959,578670817\n",
      "\"3,109th\",B+ ,Hari Sharma,14396,178297,107169694\n",
      "\"3,110th\",B+ ,24h Tin tức,8733,-- ,138731242\n",
      "\"3,111th\",B+ ,21 Savage,77,3950612,1135729554\n",
      "\"3,112th\",B+ ,Momentos Divertidos,374,954280,248754238\n",
      "\"3,113th\",B+ ,Verizon,470,145920,87916414\n",
      "\"3,114th\",B+ ,HowToBasic,480,11953126,1916020973\n",
      "\"3,115th\",B+ ,Bắp Bắp Channels,270,741701,307419475\n",
      "\"3,116th\",B+ ,Rudimental,77,1219236,816944628\n",
      "\"3,117th\",B+ ,LaliMusicaVEVO,51,578584,164485063\n",
      "\"3,118th\",B+ ,dosogas,446,5804234,999290952\n",
      "\"3,119th\",B+ ,Tube World,271,547272,201857426\n",
      "\"3,120th\",B+ ,Colors Learn White fy,15,-- ,15896507\n",
      "\"3,121st\",B+ ,Capital FM,2075,2644604,1220778204\n",
      "\"3,122nd\",B+ ,Aayu and Pihu Show,46,450784,74188210\n",
      "\"3,123rd\",B+ ,BLACKHAND,16,562099,117674479\n",
      "\"3,124th\",B+ ,\"monday.com, formerly dapulse\",86,6461,61054124\n",
      "\"3,125th\",B+ ,iVideos,2298,1243105,831367649\n",
      "\"3,126th\",B+ ,Marah Tv,90,642071,224511038\n",
      "\"3,127th\",B+ ,Octan l أوكتان,637,1694247,307078198\n",
      "\"3,128th\",B+ ,Univision,37648,2270942,1453096184\n",
      "\"3,129th\",B+ ,STREET FOOD,3172,992599,352710748\n",
      "\"3,130th\",B+ ,Kids Play,14,157276,56270939\n",
      "\"3,131st\",B+ ,AiirSource Military,5749,1090345,508138618\n",
      "\"3,132nd\",B+ ,XZD PLAY,446,644609,218892754\n",
      "\"3,133rd\",B+ ,Lays Thailand,168,83928,155448357\n",
      "\"3,134th\",B+ ,Hindi Hangama - Songs Scenes,4456,277085,137861011\n",
      "\"3,135th\",B+ ,Reebok Latam,108,4367,40725618\n",
      "\"3,136th\",B+ ,Corridor,162,5120127,769979030\n",
      "\"3,137th\",B+ ,Classy Match,30,936087,133739199\n",
      "\"3,138th\",B+ ,Che Chef Play,1131,690705,390634845\n",
      "\"3,139th\",B+ ,CloeCouture,302,5018873,605014610\n",
      "\"3,140th\",B+ ,BangerChannel,626,2145663,1124597839\n",
      "\"3,141st\",B+ ,O Boticário,887,1276979,442622201\n",
      "\"3,142nd\",B+ ,men a,304,46094,26415296\n",
      "\"3,143rd\",B+ ,Ibadat,60,-- ,84560283\n",
      "\"3,144th\",B+ ,ON Sport,23969,2175776,402965464\n",
      "\"3,145th\",B+ ,Super Fail,10,136538,49101795\n",
      "\"3,146th\",B+ ,Maya Kids World,66,407967,117932208\n",
      "\"3,147th\",B+ ,Las Estrellas,10313,627901,350435747\n",
      "\"3,148th\",B+ ,Music 2K,52,39183,18836853\n",
      "\"3,149th\",B+ ,Double Bubble,189,170898,52577524\n",
      "\"3,150th\",B+ ,Yode,735,735037,169033351\n",
      "\"3,151st\",B+ ,ArthurVideoSong,1295,655701,698260959\n",
      "\"3,152nd\",B+ ,Klever Kids,14,-- ,95015244\n",
      "\"3,153rd\",B+ ,Bajaj Pulsar,169,207676,140830667\n",
      "\"3,154th\",B+ ,Amr Maskoun | عمرو مسكون,243,1934408,397610290\n",
      "\"3,155th\",B+ ,Cat Juguetes,58,1919487,606279997\n",
      "\"3,156th\",B+ ,Edition Parisien Plus,200,837256,179536330\n",
      "\"3,157th\",B+ ,TakagiKetraVEVO,5,408152,241034873\n",
      "\"3,158th\",B+ ,ヴァンゆんチャンネル/…,638,600504,155721562\n",
      "\"3,159th\",B+ ,TinyLessonTime,330,1447064,453923942\n",
      "\"3,160th\",B+ ,إليكم,99,503568,177336711\n",
      "\"3,161st\",B+ ,Ron Funches - Topic,21,453,13932203\n",
      "\"3,162nd\",B+ ,skysoul سكاي سول l,250,860197,206358885\n",
      "\"3,163rd\",B+ ,BuzzFeed Celeb,249,1708359,303694082\n",
      "\"3,164th\",B+ ,Surprise Egg And Toy Collector,2263,1136319,735236721\n",
      "\"3,165th\",B+ ,Rajasthani kapil dev,104,219996,20282486\n",
      "\"3,166th\",B+ ,Phim Hài - Bình Minh Film,245,1812006,1000625920\n",
      "\"3,167th\",B+ ,AB Studio Vibes,32,51859,14326203\n",
      "\"3,168th\",B+ ,Tôm Đáng Yêu,48,-- ,21980084\n",
      "\"3,169th\",B+ ,EL DEMENTE,240,1208307,109681442\n",
      "\"3,170th\",B+ ,AyoandTeoVEVO,8,2136537,595220878\n",
      "\"3,171st\",B+ ,Disney UK,1115,3523705,2786057241\n",
      "\"3,172nd\",B+ ,Kids Dee TV,471,674277,247123476\n",
      "\"3,173rd\",B+ ,Discovery Kids Brasil,504,954505,268980431\n",
      "\"3,174th\",B+ ,*The Best In The World,148,405490,82138987\n",
      "\"3,175th\",B+ ,Dlan's Toys,767,539068,207243830\n",
      "\"3,176th\",B+ ,Dancefit Live,59,1393369,191655214\n",
      "\"3,177th\",B+ ,UsherVEVO,86,3768654,2488238303\n",
      "\"3,178th\",B+ ,adidas Running,32,72147,128582524\n",
      "\"3,179th\",B+ ,Take It Easy,295,419944,251740970\n",
      "\"3,180th\",B+ ,AlexKidsTV Italiano,136,339526,130045623\n",
      "\"3,181st\",B+ ,vendezvotrevoiture.fr,12,554,17603860\n",
      "\"3,182nd\",B+ ,ascadamusik,147,1369528,824804395\n",
      "\"3,183rd\",B+ ,ModernTalkingVEVO,51,714401,1016739338\n",
      "\"3,184th\",B+ ,Léo Magalhães,120,1011632,354202158\n",
      "\"3,185th\",B+ ,Hope Music Ethiopia,1244,610451,552001622\n",
      "\"3,186th\",B+ ,Thời Sự Online,5238,554228,365126109\n",
      "\"3,187th\",B+ ,Milena & Stesha Kids TV,18,-- ,86473769\n",
      "\"3,188th\",B+ ,Pacheco,5,244169,97877587\n",
      "\"3,189th\",B+ ,Mainan Anak LetsPlay,230,985668,378505951\n",
      "\"3,190th\",B+ ,STR Noticias,737,1746081,583351466\n",
      "\"3,191st\",B+ ,XMEN Việt Nam - Đàn Ông Đích…,50,8193,59378873\n",
      "\"3,192nd\",B+ ,Mysterious Topic,163,-- ,201396286\n",
      "\"3,193rd\",B+ ,Macan Allah,413,264353,43244168\n",
      "\"3,194th\",B+ ,MorphinLegacy,1360,820965,1028350183\n",
      "\"3,195th\",B+ ,AIS,1623,315280,415522346\n",
      "\"3,196th\",B+ ,Ben and Holly’s Little Kingdom…,208,580638,340416039\n",
      "\"3,197th\",B+ ,Magic Box Toys Collector,424,1303595,394499131\n",
      "\"3,198th\",B+ ,HOA BAN FOOD,480,1739678,689581927\n",
      "\"3,199th\",B+ ,YlovesMUSIC,618,366577,316065374\n",
      "\"3,200th\",B+ ,Supernanny,787,1670212,923485881\n",
      "\"3,201st\",B+ ,Disney XD,1631,1172003,672790229\n",
      "\"3,202nd\",B+ ,Ritmo dos Fluxos By Detona Funk,673,1196337,140928373\n",
      "\"3,203rd\",B+ ,Typical Gamer,2384,7507910,1837491454\n",
      "\"3,204th\",B+ ,GEMblog,324,964256,730058169\n",
      "\"3,205th\",B+ ,MYKINGDOM,1186,520085,404434606\n",
      "\"3,206th\",B+ ,ZackScottGames,8948,3266789,1911292211\n",
      "\"3,207th\",B+ ,GugaTV,94,676236,120243077\n",
      "\"3,208th\",B+ ,Soledad S,3192,337568,316792323\n",
      "\"3,209th\",B+ ,KızVızVız,367,743897,578130658\n",
      "\"3,210th\",B+ ,MUJRA MASTI,1052,1210976,766394934\n",
      "\"3,211th\",B+ ,Indonesian Idol,3078,2178046,1185316401\n",
      "\"3,212th\",B+ ,cobra123473,2355,2346305,952291050\n",
      "\"3,213th\",B+ ,NcR's Scaling,851,41775,20455543\n",
      "\"3,214th\",B+ ,Croton MEGA HIT…,966,823768,982439050\n",
      "\"3,215th\",B+ ,SuperSofi,462,297114,126302393\n",
      "\"3,216th\",B+ ,GaitherVEVO,2811,801479,869562917\n",
      "\"3,217th\",B+ ,Various Artists - Topic,203934,26013,13049365\n",
      "\"3,218th\",B+ ,Alex 366,619,114369,49397035\n",
      "\"3,219th\",B+ ,ChildrenNurseryRhymes,64,2965943,607754526\n",
      "\"3,220th\",B+ ,Sonali Films Purulia Bangla,400,565955,288290196\n",
      "\"3,221st\",B+ ,Elli Di,305,3514617,790583238\n",
      "\"3,222nd\",B+ ,Kanal 7,6637,908255,836404037\n",
      "\"3,223rd\",B+ ,HolaSoyGerman.,137,34480357,3617584451\n",
      "\"3,224th\",B+ ,RTGame,638,721132,73932765\n",
      "\"3,225th\",B+ ,TOMIKKU NET,1220,1454818,725063011\n",
      "\"3,226th\",B+ ,* KIDS Daisy Best,91,548637,121785380\n",
      "\"3,227th\",B+ ,Why Don't We,46,2111961,266478876\n",
      "\"3,228th\",B+ ,iStealth,588,286603,159489239\n",
      "\"3,229th\",B+ ,Chris Smoove,4983,4250606,2309711318\n",
      "\"3,230th\",B+ ,Yellow Music,1473,1045955,340639736\n",
      "\"3,231st\",B+ ,Bollywood Bai,4992,913401,288758164\n",
      "\"3,232nd\",B+ ,Scoop,1300,1174791,597644390\n",
      "\"3,233rd\",B+ ,MALFA,324,1237701,1174193735\n",
      "\"3,234th\",B+ ,Panthera Partha,76,567599,130735563\n",
      "\"3,235th\",B+ ,Cantando Aprendo a Hablar,268,1863878,1415231104\n",
      "\"3,236th\",B+ ,Буба — мультфильм…,70,985622,591044137\n",
      "\"3,237th\",B+ ,GermanLetsPlay,6696,2876017,1488910170\n",
      "\"3,238th\",B+ ,ميديا مصرية,7219,-- ,523722521\n",
      "\"3,239th\",B+ ,mr bundesteam,243,810856,295829656\n",
      "\"3,240th\",B+ ,ImJayStation,366,2748910,425123326\n",
      "\"3,241st\",B+ ,ТСН,117623,674935,596691293\n",
      "\"3,242nd\",B+ ,The Real Daytime,5788,1395866,1586973464\n",
      "\"3,243rd\",B+ ,MGKVEVO,53,2535408,1000126905\n",
      "\"3,244th\",B+ ,HollywoodLife,6977,2196875,1367225615\n",
      "\"3,245th\",B+ ,maidigitv,25708,553656,1033050461\n",
      "\"3,246th\",B+ ,ATHLEAN-X™,944,6105099,868911508\n",
      "\"3,247th\",B+ ,ZoeVEVO,106,1556371,1502898899\n",
      "\"3,248th\",  ,atheer sultan,--,-- ,79663674\n",
      "\"3,249th\",B+ ,BOUNTY HUNTER D,174,1381717,125716518\n",
      "\"3,250th\",B+ ,KUN,5061,597210,408776906\n",
      "\"3,251st\",B+ ,Ülvi Mirzəzadə,474,276599,233926542\n",
      "\"3,252nd\",B+ ,MyLifeAsEva,255,9057024,854792242\n",
      "\"3,253rd\",B+ ,La Diversion de Martina,225,2678563,595543560\n",
      "\"3,254th\",B+ ,News18 Hindi,29195,1245990,381510375\n",
      "\"3,255th\",B+ ,JT Music,623,2382601,891069197\n",
      "\"3,256th\",B+ ,Gabbie Hanna,279,6308028,823945057\n",
      "\"3,257th\",B+ ,GAMES FACTORY,426,474005,239587803\n",
      "\"3,258th\",B+ ,FlipFlax,12,42206,13581349\n",
      "\"3,259th\",B+ ,壹週刊 NEXT,21362,323501,595089042\n",
      "\"3,260th\",B+ ,Disco Polo Lajf,791,755365,913121197\n",
      "\"3,261st\",B+ ,Melody Chan,196,-- ,17554290\n",
      "\"3,262nd\",B+ ,Mều Channel,223,1265370,311395415\n",
      "\"3,263rd\",B+ ,WatanNetwork TV,559,388186,230826845\n",
      "\"3,264th\",B+ ,AlfredoOlivasVEVO,2,1189424,42873889\n",
      "\"3,265th\",B+ ,ProSidu,1431,2785627,597695600\n",
      "\"3,266th\",B+ ,Tom and Jerry Lovers,52,247946,70142318\n",
      "\"3,267th\",B+ ,ข่าวช่อง 8,47002,914519,347281029\n",
      "\"3,268th\",B+ ,Massi,2308,3086917,894959215\n",
      "\"3,269th\",B+ ,CelineDionVEVO,161,2109968,1634473915\n",
      "\"3,270th\",B+ ,Studio C,873,1971459,1502778452\n",
      "\"3,271st\",B+ ,AllAroundAudrey,428,1196160,328785415\n",
      "\"3,272nd\",B+ ,IL LATO POSITIVO,719,812865,145231179\n",
      "\"3,273rd\",B+ ,GahMarin,1404,2311535,482443239\n",
      "\"3,274th\",B+ ,blndsundoll4mj,2139,4457572,1394447606\n",
      "\"3,275th\",B+ ,LA LA SCHOOL,192,1952236,473755617\n",
      "\"3,276th\",B+ ,Boomerang Vietnam,1232,401065,270478511\n",
      "\"3,277th\",B+ ,Zig Sharko Lover,81,-- ,174454734\n",
      "\"3,278th\",B+ ,Killer Stories,112,-- ,199346945\n",
      "\"3,279th\",B+ ,KejarTayang.TV,372,176124,52370739\n",
      "\"3,280th\",B+ ,Shree Krishna International,26,849997,330099633\n",
      "\"3,281st\",B+ ,ТОЙ ДУМАН,554,609485,370021933\n",
      "\"3,282nd\",B+ ,Paternity Court,567,238236,44797220\n",
      "\"3,283rd\",B+ ,Студия Квартал 95…,2811,1768437,960349346\n",
      "\"3,284th\",B+ ,ゆうぴょん yupyon,2307,496648,369762636\n",
      "\"3,285th\",B+ ,Shemaroo RK Films,714,1010555,538734272\n",
      "\"3,286th\",B+ ,Bollywood Hardcore,10626,1495580,728883338\n",
      "\"3,287th\",B+ ,NET,401,716807,334973328\n",
      "\"3,288th\",B+ ,Movieclips Indie,8529,1175270,1572317790\n",
      "\"3,289th\",B+ ,Boris Vasovski,381,73408,41023522\n",
      "\"3,290th\",B+ ,Obito Zetsu,148,26061,17704374\n",
      "\"3,291st\",B+ ,TED,2805,11058942,1155971469\n",
      "\"3,292nd\",B+ ,Lucy Play & Learn,673,551704,275259036\n",
      "\"3,293rd\",B+ ,The Next News Network,19154,713227,696260539\n",
      "\"3,294th\",B+ ,Victoria México,91,109556,125205804\n",
      "\"3,295th\",B+ ,まふまふちゃんねる,195,1176545,413116827\n",
      "\"3,296th\",B+ ,fufew playtime,1198,386451,186174931\n",
      "\"3,297th\",B+ ,Rapper Tery [Official],80,1742490,736327305\n",
      "\"3,298th\",B+ ,GTV News,21443,375570,322129860\n",
      "\"3,299th\",B+ ,ABS-CBN Starmusic,3041,2504837,1348099376\n",
      "\"3,300th\",B+ ,The Viral Fever,191,4362887,383873451\n",
      "\"3,301st\",B+ ,UNIVERSAL MUSIC JAPAN,5756,1937431,1763784218\n",
      "\"3,302nd\",B+ ,Dạy Bé Học,1001,350366,211671888\n",
      "\"3,303rd\",B+ ,Guntee Pitithan,69,540317,53303457\n",
      "\"3,304th\",B+ ,Top Five,263,2876912,657521103\n",
      "\"3,305th\",B+ ,atiempopreescolar,195,1741821,1247069017\n",
      "\"3,306th\",B+ ,PASIONSUR Internacional™,633,-- ,53755464\n",
      "\"3,307th\",B+ ,Samsung Brasil,945,370351,434464525\n",
      "\"3,308th\",B+ ,THE Next,130,-- ,88427531\n",
      "\"3,309th\",B+ ,Funny colors,131,1075247,257518390\n",
      "\"3,310th\",B+ ,Lindsey Stirling,109,10986755,2342851789\n",
      "\"3,311th\",B+ ,Cascabel TV,867,1545996,677711949\n",
      "\"3,312th\",B+ ,Dramas Central,15173,1239714,493892911\n",
      "\"3,313th\",B+ ,Hussain Al Jassmi | حسين…,323,2413047,1033472155\n",
      "\"3,314th\",B+ ,Sayonara Boy,52,862111,310214445\n",
      "\"3,315th\",B+ ,PowerfulJRE,2069,3359994,796485934\n",
      "\"3,316th\",B+ ,Trà Xanh Không Độ,153,44114,145713856\n",
      "\"3,317th\",B+ ,نجد الحقيل,121,-- ,132249636\n",
      "\"3,318th\",B+ ,民視戲劇館,7340,546433,1053925525\n",
      "\"3,319th\",B+ ,Mercado Livre,166,501266,705872922\n",
      "\"3,320th\",B+ ,ABC Malayalam,4596,-- ,259845003\n",
      "\"3,321st\",B+ ,No Jumper,1274,2154028,381204264\n",
      "\"3,322nd\",B+ ,Disney Channel FR,3878,1502378,1255024131\n",
      "\"3,323rd\",B+ ,Channel DMG,376,295520,60977735\n",
      "\"3,324th\",B+ ,Mundo Bizarro /Jr,348,1338898,249314049\n",
      "\"3,325th\",B+ ,Mr. Fast 2018,86,378291,167815707\n",
      "\"3,326th\",B+ ,Ladylike,178,2886936,470614540\n",
      "\"3,327th\",B+ ,Cizzorz,807,2657220,296682204\n",
      "\"3,328th\",B+ ,First We Feast,386,3901986,533413035\n",
      "\"3,329th\",B+ ,Bhojpuri Hit Songs,2799,1160335,442573099\n",
      "\"3,330th\",B+ ,Za warudo,477,192189,222056520\n",
      "\"3,331st\",B+ ,Kaband Art Production | قبنض…,1808,503844,496639333\n",
      "\"3,332nd\",B+ ,AsfaltRecords,1162,814631,683563679\n",
      "\"3,333rd\",B+ ,YOYO TV Channel,23461,792856,372399113\n",
      "\"3,334th\",B+ ,SpyCakes,802,521984,184784325\n",
      "\"3,335th\",B+ ,Fun Kids Room,94,-- ,20834600\n",
      "\"3,336th\",B+ ,Rudy Mancuso,81,5330078,760111470\n",
      "\"3,337th\",B+ ,NikkieTutorials,678,10851352,909763868\n",
      "\"3,338th\",B+ ,BROS SHOW,246,611389,248150713\n",
      "\"3,339th\",B+ ,KidsTV123,203,2828730,3410169278\n",
      "\"3,340th\",B+ ,CWE,1773,723023,250974604\n",
      "\"3,341st\",B+ ,TinenQa,859,1815133,378031570\n",
      "\"3,342nd\",B+ ,Gameplayrj,13104,6766972,2485984749\n",
      "\"3,343rd\",B+ ,Familia Diamond,52,605278,67492999\n",
      "\"3,344th\",B+ ,Gronkh,10800,4806059,2719532003\n",
      "\"3,345th\",B+ ,Pocket Films - Indian Short Films,1268,1405303,556481114\n",
      "\"3,346th\",B+ ,每天精彩小视频,140,118903,48102020\n",
      "\"3,347th\",B+ ,LJ Studios - Fortnite,54,458652,67503694\n",
      "\"3,348th\",B+ ,Naxeex Studio,124,12213,94663186\n",
      "\"3,349th\",B+ ,SEVENTEEN,348,2983811,645372961\n",
      "\"3,350th\",B+ ,Fozi Mozi Español,57,435466,121427999\n",
      "\"3,351st\",B+ ,BrothersOfDestruction22,556,634688,335495577\n",
      "\"3,352nd\",B+ ,#Mentale Zuflucht,354,780214,363411371\n",
      "\"3,353rd\",B+ ,jesseyjoyoficial,176,4662246,2603654889\n",
      "\"3,354th\",B+ ,Brincando Com a Tia Fla,975,2345259,690171168\n",
      "\"3,355th\",B+ ,Zee Music Marathi,1297,1651594,736737632\n",
      "\"3,356th\",B+ ,Man + River,39,1818516,119894597\n",
      "\"3,357th\",B+ ,สํานักข่าวไทย…,42962,1082598,486016747\n",
      "\"3,358th\",B+ ,Aşk Prodüksiyon Müzik Film…,464,895184,699349004\n",
      "\"3,359th\",B+ ,El Movimiento TV,183,506226,118034495\n",
      "\"3,360th\",B+ ,DisneyToysReview,2319,1227354,970664265\n",
      "\"3,361st\",B+ ,Visit Dubai,1300,194673,594831283\n",
      "\"3,362nd\",B+ ,감스트GAMST,4570,971690,508608760\n",
      "\"3,363rd\",B+ ,Arabian Fairy Tales,83,1318741,443337040\n",
      "\"3,364th\",B+ ,KanyeWestVEVO,64,3772994,2635101063\n",
      "\"3,365th\",B+ ,Epitaph Records,2985,2088471,1488298740\n",
      "\"3,366th\",B+ ,\"SimpleKidsCrafts - Doll Crafts,…\",1157,450721,133951556\n",
      "\"3,367th\",B+ ,TheMovieKaKa,57,961780,247784003\n",
      "\"3,368th\",B+ ,sok sabay,1500,-- ,125008724\n",
      "\"3,369th\",B+ ,Tai Lopez,130,1247115,270526763\n",
      "\"3,370th\",B+ ,PlayToyKids,153,321606,55508868\n",
      "\"3,371st\",B+ ,阿神,3389,1643858,584467020\n",
      "\"3,372nd\",B+ ,Romka TV,28,976753,192307866\n",
      "\"3,373rd\",B+ ,Muhteşem Yüzyıl,1773,475474,729833997\n",
      "\"3,374th\",B+ ,Health Time,1069,3706185,254322267\n",
      "\"3,375th\",B+ ,TV Derana,12284,729883,683524877\n",
      "\"3,376th\",B+ ,Fortnite Compilation,99,-- ,62434373\n",
      "\"3,377th\",B+ ,coilbook™ | Learning For Children,123,1878510,1782024297\n",
      "\"3,378th\",B+ ,Tanner Fox,973,8103549,1570114528\n",
      "\"3,379th\",B+ ,mastkalandr,1703,844818,374729856\n",
      "\"3,380th\",B+ ,Next9news…,25580,1195918,471086312\n",
      "\"3,381st\",B+ ,Dorkly,605,2700119,1173411715\n",
      "\"3,382nd\",B+ ,STAR TV,1445,1060641,667479362\n",
      "\"3,383rd\",B+ ,Webs & Tiaras - Toy Monster…,30,551268,108815101\n",
      "\"3,384th\",B+ ,Hotels.com,71,13592,83413815\n",
      "\"3,385th\",B+ ,SOMOY TV,17074,874491,145677201\n",
      "\"3,386th\",B+ ,فرفشة وترفيه,238,704905,183463937\n",
      "\"3,387th\",B+ ,Drawings Angeli,186,851334,256571631\n",
      "\"3,388th\",B+ ,WaveMusic,979,1592727,375941050\n",
      "\"3,389th\",B+ ,Schannel,7573,1487061,760353509\n",
      "\"3,390th\",B+ ,MaybellineMexico,58,15198,51520066\n",
      "\"3,391st\",B+ ,THEWINNER TV,358,1154317,268059310\n",
      "\"3,392nd\",B+ ,レトルト,1815,1194564,713836553\n",
      "\"3,393rd\",B+ ,VisitAbuDhabi,217,21044,89429693\n",
      "\"3,394th\",B+ ,El Salvador 4K,5414,615741,470325469\n",
      "\"3,395th\",B+ ,Kids Channel India - Hindi Rhymes…,184,1376623,367879256\n",
      "\"3,396th\",B+ ,إنسان,104,238980,75931902\n",
      "\"3,397th\",B+ ,Ленинград | Leningrad,148,1932449,1158584676\n",
      "\"3,398th\",B+ ,Pica Pau em Português,232,1855415,407232569\n",
      "\"3,399th\",B+ ,Meek Mill,116,2545061,1365930618\n",
      "\"3,400th\",B+ ,BUSHIDO,203,2182593,950239303\n",
      "\"3,401st\",B+ ,Galinha Pintadinha Mini,76,1917418,523580297\n",
      "\"3,402nd\",B+ ,iTownGamePlay *Terror&Diversión*,4986,10737742,3370838977\n",
      "\"3,403rd\",B+ ,Bengali Songs - Angel Digital,2923,506478,328516952\n",
      "\"3,404th\",B+ ,xuxaVEVO,199,1189449,1272038522\n",
      "\"3,405th\",B+ ,FP do Trem Bala,1157,850144,154053116\n",
      "\"3,406th\",B+ ,Shemaroo Kannada,6609,1045552,452314955\n",
      "\"3,407th\",B+ ,monsterchannel24,935,1392043,784129026\n",
      "\"3,408th\",B+ ,Quantum Games,1855,2730329,794030115\n",
      "\"3,409th\",B+ ,캐리TV CarrieTV,1589,1867657,1965929253\n",
      "\"3,410th\",B+ ,トムの実況チャンネル,794,435364,138601220\n",
      "\"3,411th\",B+ ,А ну-ка Давай-ка,125,610380,200404688\n",
      "\"3,412th\",B+ ,Spiel mit mir - Kinderspielzeug,6576,622797,858350173\n",
      "\"3,413th\",B+ ,Pizza Hut India,71,11262,30836042\n",
      "\"3,414th\",B+ ,VIP Records,731,1971366,427872075\n",
      "\"3,415th\",B+ ,Kids Bebetos,62,-- ,13014575\n",
      "\"3,416th\",B+ ,Fanta,647,773735,332848046\n",
      "\"3,417th\",B+ ,EMIRecordsIndiaVEVO,12,366432,133748864\n",
      "\"3,418th\",B+ ,Duck Kids,2,161934,32501821\n",
      "\"3,419th\",B+ ,tvN,27826,990161,737275806\n",
      "\"3,420th\",B+ ,Musica Studio's,927,1456486,1144220847\n",
      "\"3,421st\",B+ ,Millard Ayo,11997,1301443,482456998\n",
      "\"3,422nd\",B+ ,GEN HALILINTAR,315,3746054,767765478\n",
      "\"3,423rd\",B+ ,nollygrio,1881,676173,469769927\n",
      "\"3,424th\",B+ ,News18 India,29094,1884592,362890334\n",
      "\"3,425th\",B+ ,Bearhug,126,1776280,206704119\n",
      "\"3,426th\",B+ ,Jugando con Aby,301,1056912,285083835\n",
      "\"3,427th\",B+ ,Nam Việt Music,883,1710738,1029434556\n",
      "\"3,428th\",B+ ,TRT Televizyon,8693,1196834,1079025508\n",
      "\"3,429th\",B+ ,티캐스트 tcast,6497,697163,755773902\n",
      "\"3,430th\",B+ ,Babishko Family Fun TV,701,502702,315439631\n",
      "\"3,431st\",B+ ,Kidd Keo,62,1360552,284372989\n",
      "\"3,432nd\",B+ ,LastWeekTonight,248,6400010,1681490990\n",
      "\"3,433rd\",B+ ,PinkBlue,72,223943,50298237\n",
      "\"3,434th\",B+ ,Primal Gameplay,1507,781933,520596091\n",
      "\"3,435th\",B+ ,MarcoASolisVEVO,55,2063924,1573643116\n",
      "\"3,436th\",B+ ,Kalan Müzik,10944,698963,926198024\n",
      "\"3,437th\",B+ ,Plush Time Wins,684,1472100,561327121\n",
      "\"3,438th\",B+ ,igrovieavtomati,26,5614,15205851\n",
      "\"3,439th\",B+ ,KinoCheck International,2006,1435507,1260606050\n",
      "\"3,440th\",B+ ,Yaroslava & Playground,84,3693905,705990310\n",
      "\"3,441st\",B+ ,Sky Kids Toys,4379,970112,644337879\n",
      "\"3,442nd\",B+ ,Nightcore Lab,375,497507,135027409\n",
      "\"3,443rd\",B+ ,Guinness World Records,1554,3709242,955155891\n",
      "\"3,444th\",B+ ,꼬마버스 타요,760,603959,428290634\n",
      "\"3,445th\",B+ ,TuneJar Music,12,409020,120744357\n",
      "\"3,446th\",B+ ,MORGENSHTERN,55,2150761,144032187\n",
      "\"3,447th\",B+ ,TheDonato,566,1463325,174608943\n",
      "\"3,448th\",B+ ,Challenge Me - Hãy Thách Thức…,296,738236,152153531\n",
      "\"3,449th\",B+ ,Wrestling reality HD,5,701902,10538245\n",
      "\"3,450th\",B+ ,SurpriseFunTV,1989,2888076,2546617498\n",
      "\"3,451st\",B+ ,sisters fun tube 2,144,-- ,112786947\n",
      "\"3,452nd\",B+ ,NirvanaVEVO,55,3125798,2135460479\n",
      "\"3,453rd\",B+ ,3at3oot TV,443,56964,47390256\n",
      "\"3,454th\",B+ ,AP Archive,422326,746325,548619569\n",
      "\"3,455th\",B+ ,Anima,1468,2739829,641318350\n",
      "\"3,456th\",B+ ,Bintang,75,-- ,95470606\n",
      "\"3,457th\",B+ ,Study IQ education,5214,3512001,300484731\n",
      "\"3,458th\",B+ ,HeyKids.es - Canciones Para Niños,62,1899438,538637939\n",
      "\"3,459th\",B+ ,Chromebook,22,72533,111481567\n",
      "\"3,460th\",B+ ,Cocho Late TV ツ,357,493075,181402549\n",
      "\"3,461st\",B+ ,HYPE,3602,815118,456781608\n",
      "\"3,462nd\",B+ ,Rajshri Marathi,8238,1211422,659090033\n",
      "\"3,463rd\",B+ ,Aquarius Musikindo,842,777615,818393872\n",
      "\"3,464th\",B+ ,CAP TV,57,135320,70520862\n",
      "\"3,465th\",B+ ,Hoy,6010,804245,414996715\n",
      "\"3,466th\",B+ ,たっくーTVれいでぃお,261,457355,124718914\n",
      "\"3,467th\",B+ ,DIEN QUAN Film,1278,908902,184464263\n",
      "\"3,468th\",B+ ,Cristian Rocha,11,9106,12829482\n",
      "\"3,469th\",B+ ,Booba - Cartoon for kids,89,1548756,1006598232\n",
      "\"3,470th\",B+ ,PoxPox,254,301783,62072677\n",
      "\"3,471st\",B+ ,قوي عقلك,276,889140,126904033\n",
      "\"3,472nd\",B+ ,América Televisión - Series,4714,715285,519900553\n",
      "\"3,473rd\",B+ ,Тимати,495,2170361,1181816721\n",
      "\"3,474th\",B+ ,Venga La Alegría,15802,1707789,1138508082\n",
      "\"3,475th\",B+ ,ПУШЕР,30,717060,88871782\n",
      "\"3,476th\",B+ ,Kworld TV,152,1131477,167733588\n",
      "\"3,477th\",B+ ,YOLO,57,5228302,238812063\n",
      "\"3,478th\",B+ ,MM7Games,3258,3330462,1466232114\n",
      "\"3,479th\",B+ ,ishnum munshi,121,98855,74671576\n",
      "\"3,480th\",B+ ,Voz BLuna,392,981824,202978436\n",
      "\"3,481st\",B+ ,Daniel Tigre en Español,242,1120883,473552531\n",
      "\"3,482nd\",B+ ,PlataBush,66,2013472,393994650\n",
      "\"3,483rd\",B+ ,The Voice Kids Indonesia GTV,769,1016661,497519807\n",
      "\"3,484th\",B+ ,Mini Ladd,1186,5017909,1120408581\n",
      "\"3,485th\",B+ ,Chase,459,24903,43163024\n",
      "\"3,486th\",B+ ,Giọng Hát Việt / The Voice…,1050,897557,621321105\n",
      "\"3,487th\",B+ ,Pinoy Kids Channel,250,470708,186252284\n",
      "\"3,488th\",B+ ,Cocho Late TV Plus,251,132982,45491819\n",
      "\"3,489th\",B+ ,Mahindra Rise,258,22579,134772642\n",
      "\"3,490th\",B+ ,Miniature Space,278,2658226,413073520\n",
      "\"3,491st\",B+ ,Shivesh Mishra Official,105,171015,44999518\n",
      "\"3,492nd\",B+ ,Trend Clip Thailand,722,405867,223410944\n",
      "\"3,493rd\",B+ ,Top 10 Best Network,346,-- ,93056062\n",
      "\"3,494th\",B+ ,웃소 Wootso,284,567088,203781142\n",
      "\"3,495th\",B+ ,Love & Hate Creation,9,170527,2389102\n",
      "\"3,496th\",B+ ,SRK MUSIC,2882,1631990,680220641\n",
      "\"3,497th\",B+ ,Pk Mast,1242,1035173,554349603\n",
      "\"3,498th\",B+ ,عمو صابر القناة…,235,612331,334880027\n",
      "\"3,499th\",B+ ,밴쯔,1878,2825565,936741316\n",
      "\"3,500th\",B+ ,Shilpa Tiwari,1178,354064,140833269\n",
      "\"3,501st\",B+ ,mania japansong,1731,2122591,1109772014\n",
      "\"3,502nd\",B+ ,Midas Music,343,1118839,351070091\n",
      "\"3,503rd\",B+ ,LukeBryanVEVO,82,1667352,1227748536\n",
      "\"3,504th\",B+ ,Toy Mix,68,-- ,16454323\n",
      "\"3,505th\",B+ ,The 8-Bit Arcade,6616,522006,446978736\n",
      "\"3,506th\",B+ ,WongKlomFc,985,757331,264601680\n",
      "\"3,507th\",B+ ,TiestoVEVO,59,1037033,433571976\n",
      "\"3,508th\",B+ ,KendjiGiracVEVO,17,1840750,1087932655\n",
      "\"3,509th\",B+ ,KinoCheck,3202,1701648,1520026065\n",
      "\"3,510th\",B+ ,Mitsubishi Motors Thailand,230,76560,238062562\n",
      "\"3,511th\",B+ ,Thepoysha,331,-- ,113967936\n",
      "\"3,512th\",B+ ,PJ Masks Brasil – Canal Oficial,263,1135733,510019605\n",
      "\"3,513th\",B+ ,Mr Bean Cartoon World,503,1403007,668053460\n",
      "\"3,514th\",B+ ,Dj Santosh sanjeet,69,43047,15636992\n",
      "\"3,515th\",B+ ,Cambodia's Got Talent,224,221011,53646851\n",
      "\"3,516th\",B+ ,Có thể bạn chưa biết,422,1045065,430774879\n",
      "\"3,517th\",B+ ,Jianpeng Li,232,437,70635195\n",
      "\"3,518th\",B+ ,Ayurved Tips in Hindi,439,3853994,316282353\n",
      "\"3,519th\",B+ ,Entertainment Access,2532,1205574,921679569\n",
      "\"3,520th\",B+ ,Kiddie Land Toys & Learning,709,-- ,751857938\n",
      "\"3,521st\",B+ ,LP,87,1134402,632656141\n",
      "\"3,522nd\",B+ ,Hoa Vinh Official,79,892176,197513308\n",
      "\"3,523rd\",B+ ,VTubers,74,231820,113605217\n",
      "\"3,524th\",B+ ,Talisa Tossell,111,1262767,271601194\n",
      "\"3,525th\",B+ ,Grab Official,604,52103,445102680\n",
      "\"3,526th\",B+ ,زواج مصلحة - Zawaj Maslaha…,114,175530,64241052\n",
      "\"3,527th\",B+ ,YNW Melly,53,292793,68490028\n",
      "\"3,528th\",B+ ,ViaNet Dehati,452,493601,205254489\n",
      "\"3,529th\",B+ ,Thiệu Nhất Nguyên,166,705535,94222742\n",
      "\"3,530th\",B+ ,Bananakids,270,1818234,904453638\n",
      "\"3,531st\",B+ ,JINTARA CHANNEL OFFICIAL,233,587250,187791119\n",
      "\"3,532nd\",B+ ,アブ -abu-,1407,1280303,936837034\n",
      "\"3,533rd\",B+ ,HiMan,153,3762349,371929907\n",
      "\"3,534th\",B+ ,Paulettee,401,2997125,225862879\n",
      "\"3,535th\",B+ ,Matt Steffanina,255,8815222,1623620510\n",
      "\"3,536th\",B+ ,Disney Junior FR,2479,1147350,979289674\n",
      "\"3,537th\",B+ ,News Express,30462,1473719,478359015\n",
      "\"3,538th\",B+ ,Wilderness Life,184,294700,70028535\n",
      "\"3,539th\",B+ ,A 2 Z,85,-- ,15394298\n",
      "\"3,540th\",B+ ,BongoBD,1350,1503345,470344852\n",
      "\"3,541st\",B+ ,Nico Voutrinas,43,947836,107016235\n",
      "\"3,542nd\",B+ ,Noticieros Televisa,23803,636838,387136024\n",
      "\"3,543rd\",B+ ,MelodyAflam - ميلودي…,679,1404709,372076355\n",
      "\"3,544th\",B+ ,Entertainment Tonight,23271,1369341,1411862764\n",
      "\"3,545th\",B+ ,One Challenge,591,1074203,395804357\n",
      "\"3,546th\",B+ ,깨비키즈 [KEBIKIDS],1621,500243,526033186\n",
      "\"3,547th\",B+ ,KaraoKanta Original,3957,383851,416098003\n",
      "\"3,548th\",B+ ,WACKYBOYS 反骨男孩,427,887848,231376274\n",
      "\"3,549th\",B+ ,CheAnD TV - Андрей…,1016,1489007,436673712\n",
      "\"3,550th\",B+ ,Tom & Jerry Ranger,8,207821,55570817\n",
      "\"3,551st\",B+ ,FilmIsNow Movie Trailers…,6857,988900,656688639\n",
      "\"3,552nd\",B+ ,DEKSORKRAO…,61,603379,66208948\n",
      "\"3,553rd\",B+ ,Funkylab,8,53344,32516577\n",
      "\"3,554th\",B+ ,Blockbuster Movies,20,1747350,29879318\n",
      "\"3,555th\",B+ ,REDMON Kids Songs & Nursery Rhymes,782,113481,56289825\n",
      "\"3,556th\",B+ ,Arcangel,107,5341911,1174265759\n",
      "\"3,557th\",B+ ,Best Trends,108,2067336,214092396\n",
      "\"3,558th\",B+ ,Ruhrpottwache,625,410188,212537454\n",
      "\"3,559th\",B+ ,Matheus Yurley,178,6738228,392639614\n",
      "\"3,560th\",B+ ,لا تحرمنا من رؤياك…,2309,2101133,573097268\n",
      "\"3,561st\",B+ ,FlaGeorgiaLineVEVO,94,1594182,1110612925\n",
      "\"3,562nd\",B+ ,JustKiddingNews,5499,1810829,1708691555\n",
      "\"3,563rd\",B+ ,Cartoon Moments,2042,229717,308125434\n",
      "\"3,564th\",B+ ,Play Doh House and Surprise Eggs,741,2028586,738093897\n",
      "\"3,565th\",B+ ,腾讯视频TencentVideo,6918,968517,572585918\n",
      "\"3,566th\",B+ ,Bass Music Movement,44,663854,116846605\n",
      "\"3,567th\",B+ ,Awesome Kids Toys,219,762588,166817706\n",
      "\"3,568th\",B+ ,Troll Punjabi,7,473528,17969589\n",
      "\"3,569th\",B+ ,LowGrade,767,1544559,356367366\n",
      "\"3,570th\",B+ ,겜브링 GGAM BRING,1057,491820,379720130\n",
      "\"3,571st\",B+ ,Koo Koo TV - Hindi,160,1563934,375326480\n",
      "\"3,572nd\",B+ ,Vidavoo,99,467624,138576465\n",
      "\"3,573rd\",B+ ,SunflowerTV,513,229003,86530831\n",
      "\"3,574th\",B+ ,People Are Awesome,71,780193,262059016\n",
      "\"3,575th\",B+ ,HeHaa TV,322,2596087,1029471065\n",
      "\"3,576th\",B+ ,stampylonghead,3389,9049638,6797814265\n",
      "\"3,577th\",B+ ,DroidCheat,3490,1748708,1215129303\n",
      "\"3,578th\",B+ ,kmi lovepeace,755,21381,22917371\n",
      "\"3,579th\",B+ ,Francis Valerio,402,118261,35593726\n",
      "\"3,580th\",B+ ,GoodDayOfficial,456,1351096,335549979\n",
      "\"3,581st\",B+ ,8 Passengers,898,1827356,662371924\n",
      "\"3,582nd\",B+ ,VM93Game,7049,80951,32056979\n",
      "\"3,583rd\",B+ ,ToyStation,254,615775,223177995\n",
      "\"3,584th\",B+ ,YuTV,943,688317,578879536\n",
      "\"3,585th\",B+ ,흔한남매,174,521054,119653177\n",
      "\"3,586th\",B+ ,Dance Song,136,-- ,16889564\n",
      "\"3,587th\",B+ ,TARANG MUSIC,2074,1108648,453059005\n",
      "\"3,588th\",B+ ,Melodic Star,165,391925,259545054\n",
      "\"3,589th\",B+ ,OLUMLU BAK,460,536075,90615070\n",
      "\"3,590th\",B+ ,Arazhul,1545,1412072,855586907\n",
      "\"3,591st\",B+ ,Top Tube,438,-- ,159853241\n",
      "\"3,592nd\",B+ ,Thơ Nguyễn,358,734138,346994029\n",
      "\"3,593rd\",B+ ,Elta Record,1227,341070,242348999\n",
      "\"3,594th\",B+ ,How It Should Have Ended,323,8222099,2095247380\n",
      "\"3,595th\",B+ ,Video Bhandar विडीयो…,3152,161509,46891096\n",
      "\"3,596th\",B+ ,Enrique Bunbury,73,703468,877470114\n",
      "\"3,597th\",B+ ,News Air Service,8148,-- ,271579401\n",
      "\"3,598th\",B+ ,Shishodia Cassettes,2138,575485,244682036\n",
      "\"3,599th\",B+ ,Kruger Sightings,364,965704,760469017\n",
      "\"3,600th\",B+ ,Blake Harmon,23,27041,12495366\n",
      "\"3,601st\",B+ ,HISTORIAS,1643,2212458,944424978\n",
      "\"3,602nd\",B+ ,Agustin51,887,1966012,266689051\n",
      "\"3,603rd\",B+ ,Coby Persin,87,4861718,874279486\n",
      "\"3,604th\",B+ ,L'atelier de Roxane,523,2045790,553295086\n",
      "\"3,605th\",B+ ,Sarpmitra Akash Jadhav,288,994784,116838639\n",
      "\"3,606th\",B+ ,Pinky and Panda Toys TV,101,469236,183876305\n",
      "\"3,607th\",B+ ,Dan1s,297,1732269,772831684\n",
      "\"3,608th\",B+ ,Kids Entertainment,46,-- ,124372405\n",
      "\"3,609th\",B+ ,Slogoman,2595,4349549,1793781062\n",
      "\"3,610th\",B+ ,FrenchMontanaVEVO,29,2454297,1448952009\n",
      "\"3,611th\",B+ ,bharatzkitchen HINDI,109,2050678,194521509\n",
      "\"3,612th\",B+ ,Channel 4,4519,791557,756445482\n",
      "\"3,613th\",B+ ,TOSHKENT OVOZI,93,53728,17218717\n",
      "\"3,614th\",B+ ,SmallroomOfficial,1175,1373468,1161766584\n",
      "\"3,615th\",B+ ,Tony!,537,1055525,248454662\n",
      "\"3,616th\",B+ ,Los Mejores Fails,282,526730,200387208\n",
      "\"3,617th\",B+ ,Nuclear Blast Records,4460,1860624,1883403600\n",
      "\"3,618th\",B+ ,PrankBrosTV,459,1614629,475691884\n",
      "\"3,619th\",B+ ,Ben Phillips,458,3914631,852221381\n",
      "\"3,620th\",B+ ,New Hindi Dubbed 2018 Movies,23,1557947,21341226\n",
      "\"3,621st\",B+ ,Twitch Clips Central,548,188556,154631830\n",
      "\"3,622nd\",B+ ,Рики,318,487541,337534207\n",
      "\"3,623rd\",B+ ,Bass Booster Magic - Trap Nation,89,26421,12525590\n",
      "\"3,624th\",B+ ,ink,215,401930,369078587\n",
      "\"3,625th\",B+ ,Anny e Eu,252,1195462,285109045\n",
      "\"3,626th\",B+ ,Tomorrowland,1140,7151210,1130215439\n",
      "\"3,627th\",B+ ,ArcadeGo.com,9234,3145105,2643817111\n",
      "\"3,628th\",B+ ,STORROR,315,2394226,217332099\n",
      "\"3,629th\",B+ ,การ์ตูน…,124,354484,82936603\n",
      "\"3,630th\",B+ ,Saltgay,250,400918,255394371\n",
      "\"3,631st\",B+ ,Colors Club for Kids - Español,20,340074,66774268\n",
      "\"3,632nd\",B+ ,Juguetes Toys,1287,2022027,925825463\n",
      "\"3,633rd\",B+ ,DEL Records TV,15,221201,72056668\n",
      "\"3,634th\",B+ ,Eros Now South,2207,1061070,676892512\n",
      "\"3,635th\",B+ ,Sebastian Williams,222,298662,103083101\n",
      "\"3,636th\",B+ ,Ch3Thailand Music,514,2628950,1792125407\n",
      "\"3,637th\",B+ ,Sony Music (Japan),2319,1326059,1560314775\n",
      "\"3,638th\",B+ ,Saskia's Dansschool,244,4019742,1061464886\n",
      "\"3,639th\",B+ ,Thailand's Got Talent,391,756464,280410291\n",
      "\"3,640th\",B+ ,Sebastián Yatra,55,5711589,306782474\n",
      "\"3,641st\",B+ ,ZM TOP,433,529377,205436832\n",
      "\"3,642nd\",B+ ,KMNGANG,43,1558360,638752709\n",
      "\"3,643rd\",B+ ,Doctor Squish,279,2495879,507331684\n",
      "\"3,644th\",B+ ,SML Channel,850,375865,172766954\n",
      "\"3,645th\",B+ ,Мультики Про,63,-- ,74122839\n",
      "\"3,646th\",B+ ,Grab Indonesia,106,26436,48218296\n",
      "\"3,647th\",B+ ,꼰뉴,602,-- ,128058171\n",
      "\"3,648th\",B+ ,Slipknot,162,3855259,1640483937\n",
      "\"3,649th\",B+ ,Fanpage.it,15421,1031671,650050992\n",
      "\"3,650th\",B+ ,Валеришка Sim,367,496555,208452373\n",
      "\"3,651st\",B+ ,DJ Smile Music,129,681137,248203881\n",
      "\"3,652nd\",B+ ,Thế giới Bí ẩn,2177,-- ,109549066\n",
      "\"3,653rd\",B+ ,Peppa Pig Español Latino - Canal…,275,3692822,590524907\n",
      "\"3,654th\",B+ ,NineEntertain Official,21779,753839,485473773\n",
      "\"3,655th\",B+ ,Gizzy Gazza,1934,1776050,570044589\n",
      "\"3,656th\",B+ ,Zing MP3,1458,2101082,1315415846\n",
      "\"3,657th\",B+ ,DOPE or NOPE,727,5800756,1271323070\n",
      "\"3,658th\",B+ ,Sparkle Spice,835,2468060,1410742138\n",
      "\"3,659th\",B+ ,Valentino Pr,13,808272,495598870\n",
      "\"3,660th\",B+ ,CD Choice,1277,1475702,587712826\n",
      "\"3,661st\",B+ ,MarkAngelComedy,187,2771003,577046952\n",
      "\"3,662nd\",B+ ,Primer Impacto,8205,1004597,631553958\n",
      "\"3,663rd\",B+ ,smokepurpp,44,482662,92035667\n",
      "\"3,664th\",B+ ,乐视视频官方频道 Letv…,2799,581571,576615822\n",
      "\"3,665th\",B+ ,MediaPro Music,1143,2613615,2024252615\n",
      "\"3,666th\",B+ ,Mood Makers,106,418259,125047041\n",
      "\"3,667th\",B+ ,FiftyShadesVEVO,15,769897,368018386\n",
      "\"3,668th\",B+ ,OasisVEVO,69,1135790,789681010\n",
      "\"3,669th\",B+ ,Glamour Magazine,1525,1376950,428385626\n",
      "\"3,670th\",B+ ,Turtle Interactive,350,1181011,960261296\n",
      "\"3,671st\",B+ ,LeBouseuh Gaming,399,1536889,205694799\n",
      "\"3,672nd\",B+ ,Игровые сериалы,1986,918361,999854009\n",
      "\"3,673rd\",B+ ,Full Meals,1528,730649,141757187\n",
      "\"3,674th\",B+ ,ShadowPriestok - Евгений…,2111,2994794,796455403\n",
      "\"3,675th\",B+ ,Top Trending,557,4188011,1353110340\n",
      "\"3,676th\",B+ ,Mamá Tatuada,453,175903,27173751\n",
      "\"3,677th\",B+ ,Colors Songs Learn colors & Shapes,27,78138,23406948\n",
      "\"3,678th\",B+ ,Sa Sha 1080HD,559,438181,126228581\n",
      "\"3,679th\",B+ ,Power Volleyball,540,305071,134485966\n",
      "\"3,680th\",B+ ,Next Star,2053,1179835,902037520\n",
      "\"3,681st\",B+ ,Frringo,95,1487026,168857409\n",
      "\"3,682nd\",B+ ,FitDance Life,353,3786406,739363543\n",
      "\"3,683rd\",B+ ,Hueva,674,4428230,763813675\n",
      "\"3,684th\",B+ ,Midnight Cinema,559,963188,496148463\n",
      "\"3,685th\",B+ ,Marques Brownlee,1043,6748995,1009519662\n",
      "\"3,686th\",B+ ,Nhạc Chế Bùi Thành Công,840,-- ,177366085\n",
      "\"3,687th\",B+ ,5 Alguma Coisa,343,5091862,1096660691\n",
      "\"3,688th\",B+ ,Maul Ibra,421,637700,242144187\n",
      "\"3,689th\",B+ ,Somos 5inco,1057,1386074,381825793\n",
      "\"3,690th\",B+ ,SodaStereoVEVO,205,591391,701694656\n",
      "\"3,691st\",B+ ,Corridos Jr Music,528,-- ,219900086\n",
      "\"3,692nd\",B+ ,Lauv,43,864657,239982316\n",
      "\"3,693rd\",B+ ,LaurDIY,547,8416339,956871585\n",
      "\"3,694th\",B+ ,Auntie Joy's Toys,237,523304,149912566\n",
      "\"3,695th\",B+ ,週刊少年ジャンプ創刊50周年公式チャンネル…,108,146573,17003027\n",
      "\"3,696th\",B+ ,TVSmeshariki,775,1965641,2817658098\n",
      "\"3,697th\",B+ ,Linnéa,3,15170,12197882\n",
      "\"3,698th\",B+ ,Телеканал СТБ,9289,1436703,958692795\n",
      "\"3,699th\",B+ ,Fındık Ailesi,48,425592,147577595\n",
      "\"3,700th\",B+ ,Hi Pencil Studio,936,565893,727177849\n",
      "\"3,701st\",B+ ,HeinzABC,267,94969,90127169\n",
      "\"3,702nd\",B+ ,Pulmotonia,183,24660,18865799\n",
      "\"3,703rd\",B+ ,Peppa Pig Français - Chaîne…,347,722621,389283363\n",
      "\"3,704th\",B+ ,ブライトサイド | Bright Side…,702,461053,168925080\n",
      "\"3,705th\",B+ ,Life with MaK,136,746208,57023726\n",
      "\"3,706th\",B+ ,Panic! At The Disco,109,1993049,262451402\n",
      "\"3,707th\",B+ ,シネマトゥデイ,10682,799107,1297606499\n",
      "\"3,708th\",B+ ,Gagsnetwork Russia,490,199850,86569153\n",
      "\"3,709th\",B+ ,Красныш,52,-- ,60771278\n",
      "\"3,710th\",B+ ,Bulkin,3406,1866758,570744644\n",
      "\"3,711th\",B+ ,Pagonejando,1252,231081,81462186\n",
      "\"3,712th\",B+ ,Movie Mela,21,2096618,32319014\n",
      "\"3,713th\",B+ ,Palavra Cantada Oficial,297,606482,535848820\n",
      "\"3,714th\",B+ ,Khmer Songs Daily,19,-- ,24281072\n",
      "\"3,715th\",B+ ,exposed,268,476506,102765824\n",
      "\"3,716th\",B+ ,IN NEWS16,4341,763853,254167857\n",
      "\"3,717th\",B+ ,Obscuro Notícias,749,380775,125223216\n",
      "\"3,718th\",B+ ,BERTH OH!,270,4940722,454550846\n",
      "\"3,719th\",B+ ,RKellyVEVO,146,1707223,1504489689\n",
      "\"3,720th\",B+ ,PHIM CẤP 3,233,2918844,674483531\n",
      "\"3,721st\",B+ ,TheWarpath,1715,3140739,684806728\n",
      "\"3,722nd\",B+ ,TotoVEVO,43,341333,551762381\n",
      "\"3,723rd\",B+ ,GunVsGun,285,4246526,1553958541\n",
      "\"3,724th\",B+ ,YassPlays,1040,1970131,388533660\n",
      "\"3,725th\",B+ ,레이디버그TV,141,530790,243746823\n",
      "\"3,726th\",B+ ,Craftingeek*,620,7923859,832743763\n",
      "\"3,727th\",B+ ,Only Human,656,818812,306248350\n",
      "\"3,728th\",B+ ,King SoYer,209,409159,52608716\n",
      "\"3,729th\",B+ ,GAKKU TV,1356,1280955,802521543\n",
      "\"3,730th\",B+ ,upsocl.com,4146,395405,77709914\n",
      "\"3,731st\",B+ ,Musica de Arranque (Suscribete),17147,799114,549070939\n",
      "\"3,732nd\",B+ ,Теперь я Знаю,190,1539153,258441486\n",
      "\"3,733rd\",B+ ,Ssoftoons Animation,122,618269,153329786\n",
      "\"3,734th\",B+ ,Остроумно,5097,749064,280393985\n",
      "\"3,735th\",B+ ,Lalitha Audios And Videos,831,618257,204810673\n",
      "\"3,736th\",B+ ,SEPL Vintage,7240,-- ,153997369\n",
      "\"3,737th\",B+ ,أسميتها فريحة -…,140,151351,53617945\n",
      "\"3,738th\",B+ ,Love Entertainment,111,-- ,192426214\n",
      "\"3,739th\",B+ ,To Dần 365,282,234684,206940474\n",
      "\"3,740th\",B+ ,Atitude67VEVO,42,481200,169159365\n",
      "\"3,741st\",B+ ,westlifeVEVO,273,995868,971514836\n",
      "\"3,742nd\",B+ ,Tuenti Argentina,91,4375,29267831\n",
      "\"3,743rd\",B+ ,中国浙江卫视官方频道…,9365,803458,573566430\n",
      "\"3,744th\",B+ ,Video Town,85,173423,23154781\n",
      "\"3,745th\",B+ ,Україна має талант,1292,935665,665594523\n",
      "\"3,746th\",B+ ,Gummy Bears,360,764847,189807616\n",
      "\"3,747th\",B+ ,Ortaya Karışık,416,245275,150724093\n",
      "\"3,748th\",B+ ,Alex123,10,27481,19668412\n",
      "\"3,749th\",B+ ,Le Grand Conseil,1188,294018,313807716\n",
      "\"3,750th\",B+ ,Thiaguinho,199,1093724,346752032\n",
      "\"3,751st\",B+ ,TWICE JAPAN OFFICIAL YouTube…,23,1453142,344924291\n",
      "\"3,752nd\",B+ ,SaneuB,36,798111,120264850\n",
      "\"3,753rd\",B+ ,MBC1,3165,1273526,600671254\n",
      "\"3,754th\",B+ ,ReGen TV,67,-- ,12715108\n",
      "\"3,755th\",B+ ,Кинокомпания…,869,744111,562268980\n",
      "\"3,756th\",B+ ,Popular Diginet Movies,26,1082177,104930643\n",
      "\"3,757th\",B+ ,patty dragona,1038,4773715,533688490\n",
      "\"3,758th\",B+ ,Lithuania HQ,777,933673,413321087\n",
      "\"3,759th\",B+ ,Рома и Хелпик,42,192558,79743137\n",
      "\"3,760th\",B+ ,Michou,384,1225284,175682760\n",
      "\"3,761st\",B+ ,スロパチステーション,1186,723745,588390299\n",
      "\"3,762nd\",B+ ,RadaanMedia,9380,1060479,937050101\n",
      "\"3,763rd\",B+ ,Viki Pelga,33,1243310,151797753\n",
      "\"3,764th\",B+ ,Tiger Productions,381,2604920,1095017839\n",
      "\"3,765th\",B+ ,Garena Liên Quân Mobile,1776,2211977,336863679\n",
      "\"3,766th\",B+ ,Gabby16bit,1597,1033192,513673789\n",
      "\"3,767th\",B+ ,aliciakeysVEVO,146,2550347,1632966069\n",
      "\"3,768th\",B+ ,Karaoke Nhạc Sống Thanh Ngân,413,-- ,82462232\n",
      "\"3,769th\",B+ ,KRK Studio,1199,-- ,514557040\n",
      "\"3,770th\",B+ ,Step Records,2111,2687091,2417401640\n",
      "\"3,771st\",B+ ,Superjocke92,156,13257,13156767\n",
      "\"3,772nd\",B+ ,7 Minutoz,326,4830997,795157390\n",
      "\"3,773rd\",B+ ,Kurt Hugo Schneider,451,10626995,2729259139\n",
      "\"3,774th\",B+ ,CPEurope,235,23490,88463849\n",
      "\"3,775th\",B+ ,Dyler | دايلر,181,4558586,563264782\n",
      "\"3,776th\",B+ ,Dj Nonstop Remix,79,243010,83760431\n",
      "\"3,777th\",B+ ,Dasha Koshkina,141,1017472,275032486\n",
      "\"3,778th\",B+ ,Caillou,958,1247758,760563575\n",
      "\"3,779th\",B+ ,UDiEX2,164,2081622,182495868\n",
      "\"3,780th\",B+ ,Ahmet Aga,1678,1373658,603185826\n",
      "\"3,781st\",B+ ,Kali Uchis - Topic,46,6076,13207637\n",
      "\"3,782nd\",B+ ,Gowardhan,26,46474,13632164\n",
      "\"3,783rd\",B+ ,Vivo India,188,575049,316864988\n",
      "\"3,784th\",B+ ,FULL ENTERTAINMENT FOR YOU,109,1494858,387192288\n",
      "\"3,785th\",B+ ,Shemaroo Punjabi,2186,1296644,608891108\n",
      "\"3,786th\",B+ ,Fernandinho Ministerio Faz Chover,245,1418840,392970629\n",
      "\"3,787th\",B+ ,Protect Animal,72,-- ,32364931\n",
      "\"3,788th\",B+ ,ChrisStapletonVEVO,43,594124,474427697\n",
      "\"3,789th\",B+ ,PretoNoBrancoVEVO,27,1971486,579289079\n",
      "\"3,790th\",B+ ,ElBebetoVEVO,27,854694,629397446\n",
      "\"3,791st\",B+ ,Dehati Cinema,95,446420,134409063\n",
      "\"3,792nd\",B+ ,MelimVEVO,16,473198,57140979\n",
      "\"3,793rd\",B+ ,Лучшие Моменты из…,303,41302,22472398\n",
      "\"3,794th\",B+ ,MEGA GS ENTERTAINMENT,600,130274,59553499\n",
      "\"3,795th\",B+ ,RokoMari tv,50,413251,121314415\n",
      "\"3,796th\",B+ ,THAIRAP FC'LYRICS,770,1642881,488545645\n",
      "\"3,797th\",B+ ,La La,52,-- ,38471725\n",
      "\"3,798th\",B+ ,Brain Boosters,432,1342392,104679054\n",
      "\"3,799th\",B+ ,Groovy el Marciano - Español,174,328311,83413817\n",
      "\"3,800th\",B+ ,きょんくま,550,357527,134820284\n",
      "\"3,801st\",B+ ,カリスマブラザーズ,1133,1200999,543751319\n",
      "\"3,802nd\",B+ ,TSM Ninja,246,-- ,36722215\n",
      "\"3,803rd\",B+ ,Domics,163,6015409,755171870\n",
      "\"3,804th\",B+ ,AFIP Administración Federal de…,119,11707,88737352\n",
      "\"3,805th\",B+ ,Indonesia Lawyers Club tvOne,969,508445,154180128\n",
      "\"3,806th\",B+ ,Casa Magica de Juguetes,428,2470664,1052923658\n",
      "\"3,807th\",B+ ,Toys AndFun Sisters,107,1352160,330823591\n",
      "\"3,808th\",B+ ,Marvel Entertainment,5048,8164363,2141085807\n",
      "\"3,809th\",B+ ,Deklaaon Channel,757,1266771,398123432\n",
      "\"3,810th\",B+ ,Al Jazeera Arabic قناة…,102248,2576870,1040959771\n",
      "\"3,811th\",B+ ,Link Up TV | Music,9413,1263252,1277316547\n",
      "\"3,812th\",B+ ,Luca and Katy,775,1267626,434054176\n",
      "\"3,813th\",B+ ,愛爾達體育家族 ELTA Sports,12317,247894,108877614\n",
      "\"3,814th\",B+ ,JasonAldeanVEVO,108,1056829,693699923\n",
      "\"3,815th\",B+ ,Quynh Aka,123,588476,116538639\n",
      "\"3,816th\",B+ ,LAC TV,55,941800,265033157\n",
      "\"3,817th\",B+ ,Zee Studios,165,368819,180365559\n",
      "\"3,818th\",B+ ,Annapurna Studios,1631,721701,372803451\n",
      "\"3,819th\",B+ ,Michael Pangilinan (Official),48,365843,76940144\n",
      "\"3,820th\",B+ ,Danny Gonzalez,154,1262401,79465685\n",
      "\"3,821st\",B+ ,zoom,63152,2165833,1810463915\n",
      "\"3,822nd\",B+ ,Rose Telugu Movies,42551,726952,503569347\n",
      "\"3,823rd\",B+ ,PLAYYANI 플레이애니,901,395233,354194627\n",
      "\"3,824th\",B+ ,fosterthepeopleVEVO,68,1558249,802740039\n",
      "\"3,825th\",B+ ,Lion TV Kannada,323,332143,45853422\n",
      "\"3,826th\",B+ ,ExpCaseros,614,9428159,1746689248\n",
      "\"3,827th\",B+ ,Berlin - Tag & Nacht,200,449013,153870481\n",
      "\"3,828th\",B+ ,ModernWhiz.com,338,1641424,518413348\n",
      "\"3,829th\",B+ ,YouVik,115,522994,150599788\n",
      "\"3,830th\",B+ ,RN ENTERTAIN,636,240168,109337326\n",
      "\"3,831st\",B+ ,SORPRENDENTE,143,312952,34714637\n",
      "\"3,832nd\",B+ ,Bart Baker,324,10163649,3163982431\n",
      "\"3,833rd\",B+ ,S.S. COATAN,1432,-- ,149207982\n",
      "\"3,834th\",B+ ,Doğan Music Company,12463,455867,691194578\n",
      "\"3,835th\",B+ ,EpicStun,642,702353,412559398\n",
      "\"3,836th\",B+ ,FUCHTube,2347,791657,319899404\n",
      "\"3,837th\",B+ ,Wild Animals Attack,103,642414,144342115\n",
      "\"3,838th\",B+ ,Saawariya,2138,487006,147191378\n",
      "\"3,839th\",B+ ,Khám Phá Bí Ẩn,2637,473878,264098913\n",
      "\"3,840th\",B+ ,Acne Treatment Vlogs,243,-- ,259845196\n",
      "\"3,841st\",B+ ,양수빈,98,1082166,153961461\n",
      "\"3,842nd\",B+ ,Cartoon Club,36,1113790,202264215\n",
      "\"3,843rd\",B+ ,Ganga Bhakti,160,1279681,81606924\n",
      "\"3,844th\",B+ ,Jovem Pan News,25391,695605,193785582\n",
      "\"3,845th\",B+ ,Haqeeqat TV,236,353568,40191064\n",
      "\"3,846th\",B+ ,Tano Upload,1002,519307,233217727\n",
      "\"3,847th\",B+ ,Canal Top10,223,6350874,674266532\n",
      "\"3,848th\",B+ ,CHHOTU KI MASTI,19,419005,66263041\n",
      "\"3,849th\",B+ ,Playground for kids,107,3474642,640743870\n",
      "\"3,850th\",B+ ,BDV Football,343,685205,106313310\n",
      "\"3,851st\",B+ ,Han Kanal,2177,1119645,706229128\n",
      "\"3,852nd\",B+ ,Education for Kids,4,-- ,13029442\n",
      "\"3,853rd\",B+ ,Furious Trailer,1277,1259493,581670027\n",
      "\"3,854th\",B+ ,ANP Egypt,2325,780056,716354881\n",
      "\"3,855th\",B+ ,Bessan Ismail - بيسان…,59,1471462,89357497\n",
      "\"3,856th\",B+ ,R J News,5804,-- ,90125055\n",
      "\"3,857th\",B+ ,Antoniano di Bologna official,933,682054,719354191\n",
      "\"3,858th\",B+ ,Nickelodeon Россия,371,1091673,273914286\n",
      "\"3,859th\",B+ ,Ulka,48,169756,43261633\n",
      "\"3,860th\",B+ ,Bon Appétit,824,2239159,327745898\n",
      "\"3,861st\",B+ ,PDND Müzik,123,476020,619117819\n",
      "\"3,862nd\",B+ ,Nam Việt Trữ Tình,1885,729007,381763315\n",
      "\"3,863rd\",B+ ,Interesting Facts,138,987801,360991739\n",
      "\"3,864th\",B+ ,TheRempongsHD,224,391773,89295064\n",
      "\"3,865th\",B+ ,Kumho Tire USA,72,6198,104743480\n",
      "\"3,866th\",B+ ,Hiru TV,8130,290903,142423505\n",
      "\"3,867th\",B+ ,OfficialCKanVEVO,171,4101837,1642407870\n",
      "\"3,868th\",B+ ,Bram Dermawan,394,740155,109448747\n",
      "\"3,869th\",B+ ,Stephen Yeager,44,751042,89108274\n",
      "\"3,870th\",B+ ,Bolly Movies Maza,156,855704,182844838\n",
      "\"3,871st\",B+ ,Hữu Bộ Vlogs,242,373115,74373943\n",
      "\"3,872nd\",B+ ,kobasolo,374,1469235,560666573\n",
      "\"3,873rd\",B+ ,LALA México,86,49470,308014028\n",
      "\"3,874th\",B+ ,Vogue,2034,3391100,741263478\n",
      "\"3,875th\",B+ ,KiA Phạm,876,619198,417467328\n",
      "\"3,876th\",B+ ,SPNSportsIndia,413,697047,138302888\n",
      "\"3,877th\",B+ ,gameranx,1557,4450491,1188393617\n",
      "\"3,878th\",B+ ,Pyrocynical,523,2574879,644171986\n",
      "\"3,879th\",B+ ,Zero Media,1824,1177476,1514270332\n",
      "\"3,880th\",B+ ,Khắc Trường Channel,212,-- ,37748580\n",
      "\"3,881st\",B+ ,EnewsOdia,1140,-- ,152128421\n",
      "\"3,882nd\",B+ ,Evening Cinema,337,1437578,465557948\n",
      "\"3,883rd\",B+ ,MOVIC channel,105,63134,16749280\n",
      "\"3,884th\",B+ ,きまぐれクック,265,991974,260829865\n",
      "\"3,885th\",B+ ,Zola TikTok,740,51006,18436348\n",
      "\"3,886th\",B+ ,johnsonsbaby,30,114328,77432866\n",
      "\"3,887th\",B+ ,TomoNews Thailand,4269,1210062,1076745217\n",
      "\"3,888th\",B+ ,Jhankar Touch,289,175631,42401085\n",
      "\"3,889th\",B+ ,Kindly Keyin,784,742898,247625877\n",
      "\"3,890th\",B+ ,DDN FILMS,2,-- ,11095911\n",
      "\"3,891st\",B+ ,Hejka tu Lenka,429,491475,305010824\n",
      "\"3,892nd\",B+ ,Tofuu,2110,1980673,476661060\n",
      "\"3,893rd\",B+ ,Play4Games,2362,689312,372388492\n",
      "\"3,894th\",B+ ,Elli Di Pets,463,2716281,588852722\n",
      "\"3,895th\",B+ ,kids superhero fun,64,-- ,116021453\n",
      "\"3,896th\",B+ ,Ezequiel Caffaro/ATV - Los Simpson…,397,463153,389731590\n",
      "\"3,897th\",B+ ,RichTheKidVEVO,17,491316,380326582\n",
      "\"3,898th\",B+ ,Sports Tak,5587,849947,128828052\n",
      "\"3,899th\",B+ ,ZaraLarssonMusicVEVO,39,3910570,1684471858\n",
      "\"3,900th\",B+ ,MeLon Dude,49,221097,30558562\n",
      "\"3,901st\",B+ ,Tempo de Saber!,230,734833,177745786\n",
      "\"3,902nd\",B+ ,Hello Katy,9,863108,70167437\n",
      "\"3,903rd\",B+ ,Dược Phẩm Nhất Nhất,422,64107,184246387\n",
      "\"3,904th\",B+ ,Mumbo Jumbo,1710,2535169,685561379\n",
      "\"3,905th\",B+ ,MarcusMartinusVEVO,33,1671222,669261590\n",
      "\"3,906th\",B+ ,georgemichaelVEVO,108,887861,901920399\n",
      "\"3,907th\",B+ ,VN Baby's Music,64,208686,79401543\n",
      "\"3,908th\",B+ ,The Norris Nuts,98,800127,106156192\n",
      "\"3,909th\",B+ ,Learn Colors For Kids,276,473630,114004244\n",
      "\"3,910th\",B+ ,Afife Semra DURMUŞ,2,95751,18810751\n",
      "\"3,911th\",B+ ,Aadishakti Films,2795,1213783,373364659\n",
      "\"3,912th\",B+ ,Nautanki Tamasha,443,1032721,246189757\n",
      "\"3,913th\",B+ ,Goldmines Housefull,20,2581431,26786657\n",
      "\"3,914th\",B+ ,Ümidi,2979,1429599,496632815\n",
      "\"3,915th\",B+ ,I AM DANIEL T/M LLC,44,885787,52968840\n",
      "\"3,916th\",B+ ,Tintas Coral,199,29728,60687899\n",
      "\"3,917th\",B+ ,RCTI - ENTERTAINMENT,7850,1020720,707862862\n",
      "\"3,918th\",B+ ,Planeta Deportiva,213,557534,19780729\n",
      "\"3,919th\",B+ ,rfmckinleyport gameplays,1273,449134,482703037\n",
      "\"3,920th\",B+ ,Ryan Upchurch,149,1080879,420067588\n",
      "\"3,921st\",B+ ,Fun Baby Show,69,1035344,118511383\n",
      "\"3,922nd\",B+ ,Franco Escamilla,763,3335478,674668636\n",
      "\"3,923rd\",B+ ,Thế Giới Xanh,798,-- ,134639506\n",
      "\"3,924th\",B+ ,Sunrise Phim,392,408053,171643019\n",
      "\"3,925th\",B+ ,Tauz,159,7370710,1590992168\n",
      "\"3,926th\",B+ ,The Voice of Nepal,40,277982,13930285\n",
      "\"3,927th\",B+ ,Mhd Officiel,21,2532858,778190656\n",
      "\"3,928th\",B+ ,Bao Ngoc Kids Tv,84,-- ,89642014\n",
      "\"3,929th\",B+ ,LMFAOVEVO,30,6340164,3301774672\n",
      "\"3,930th\",B+ ,Trong Phim Quái Vật,290,-- ,319594659\n",
      "\"3,931st\",B+ ,mustafa star l مصطفى ستار,118,2384577,396902589\n",
      "\"3,932nd\",B+ ,ฮักเด้อ…,96,721465,287695764\n",
      "\"3,933rd\",B+ ,Sony Dj Music India,234,627080,147816415\n",
      "\"3,934th\",B+ ,Groovy The Martian,405,891689,304922144\n",
      "\"3,935th\",B+ ,Cà Chua Đỏ,323,1007491,286889302\n",
      "\"3,936th\",B+ ,Neagle,1356,5156749,709509983\n",
      "\"3,937th\",B+ ,Raúl XC,369,628029,396148265\n",
      "\"3,938th\",B+ ,Selected.,867,1793493,932902294\n",
      "\"3,939th\",B+ ,CHIHUAHUA BAILANDO EN LA PLAZA DE…,781,225521,114162367\n",
      "\"3,940th\",B+ ,Hollyscoop,6126,1059325,698761414\n",
      "\"3,941st\",B+ ,Jess No Limit,300,3391242,321741792\n",
      "\"3,942nd\",B+ ,Crazy 4 Tv,1824,466422,145248223\n",
      "\"3,943rd\",B+ ,LaBerisoVEVO,193,847080,844715534\n",
      "\"3,944th\",B+ ,JustR3mo,172,590064,192570398\n",
      "\"3,945th\",B+ ,Khmer Fairy Tales,72,683146,282458704\n",
      "\"3,946th\",B+ ,Pony Kids,281,666561,142185243\n",
      "\"3,947th\",B+ ,Las 2 Muñecas,655,1061638,516725129\n",
      "\"3,948th\",B+ ,RimKVEVO,24,533117,247418755\n",
      "\"3,949th\",B+ ,FARQ,3303,865613,414449323\n",
      "\"3,950th\",B+ ,Callux,214,2653560,347737582\n",
      "\"3,951st\",B+ ,ReallyCleverAndroids,47,18221,15586286\n",
      "\"3,952nd\",B+ ,DIEN QUAN Kids,1896,1146847,1032425167\n",
      "\"3,953rd\",B+ ,YellowBrickCinema - Relaxing Music,2165,2698120,1003113187\n",
      "\"3,954th\",B+ ,Petco,747,71973,80197307\n",
      "\"3,955th\",B+ ,WithZack,1091,2777201,607546446\n",
      "\"3,956th\",B+ ,Baby Alive Brasil,303,1814313,241976092\n",
      "\"3,957th\",B+ ,Школа Монстров,135,542374,167824100\n",
      "\"3,958th\",B+ ,브라보키즈_BRAVO KIDS,1239,827349,1046013275\n",
      "\"3,959th\",B+ ,Dwayne N Jazz,2810,1563924,621868942\n",
      "\"3,960th\",B+ ,BHARAT LOK DARSHAN,324,184761,47829027\n",
      "\"3,961st\",B+ ,Shady,114,3633048,940380417\n",
      "\"3,962nd\",B+ ,RUSSIAN DEEP,147,320219,145059925\n",
      "\"3,963rd\",B+ ,Indonesia Morning Show NET,12971,169863,80693152\n",
      "\"3,964th\",B+ ,Sérgio de oliveira,4974,-- ,59119532\n",
      "\"3,965th\",B+ ,MovieTalkies,692,1140906,488392407\n",
      "\"3,966th\",B+ ,Mehrban Ali,404,991205,133130285\n",
      "\"3,967th\",B+ ,Craftronix,196,2159259,660470630\n",
      "\"3,968th\",B+ ,NOS Jeugdjournaal,1977,257364,278428354\n",
      "\"3,969th\",B+ ,EdisonPts,2097,3159258,838431729\n",
      "\"3,970th\",B+ ,tessymendes,1184,151792,99308281\n",
      "\"3,971st\",B+ ,Smosh Games,2505,7311568,2817187022\n",
      "\"3,972nd\",B+ ,しょうじ,640,503051,115912927\n",
      "\"3,973rd\",B+ ,Lethal Soul,13,226909,11530232\n",
      "\"3,974th\",B+ ,Gummy for Kids,184,1260464,62288418\n",
      "\"3,975th\",B+ ,GenteDeZonaVEVO,24,1688803,1772260029\n",
      "\"3,976th\",B+ ,เอกศิลป์…,410,1262971,410500384\n",
      "\"3,977th\",B+ ,Tati,1423,4542504,934534108\n",
      "\"3,978th\",B+ ,Seriously Just For Fun,17,1588131,697000301\n",
      "\"3,979th\",B+ ,Make Joke Of,24,4106873,426106355\n",
      "\"3,980th\",B+ ,Khoảnh khắc kỳ diệu -…,737,689436,375195420\n",
      "\"3,981st\",B+ ,SpinGo,72,395727,94754013\n",
      "\"3,982nd\",B+ ,Yousef Abdulbaset,301,218959,157210268\n",
      "\"3,983rd\",B+ ,Binging with Babish,146,3147549,366327711\n",
      "\"3,984th\",B+ ,Peque Música,236,593037,256113829\n",
      "\"3,985th\",B+ ,EeOneGuy,315,13347598,3141740625\n",
      "\"3,986th\",B+ ,Disar5,155,666435,375651471\n",
      "\"3,987th\",B+ ,Shruti Arjun Anand,715,2018551,319814049\n",
      "\"3,988th\",B+ ,RDC Banglar Geeti,8347,1011926,388291198\n",
      "\"3,989th\",B+ ,KidsCrazyNurseryRhymes,185,-- ,116805972\n",
      "\"3,990th\",B+ ,Chuyện Lạ Kỳ Thú,245,450873,123229125\n",
      "\"3,991st\",B+ ,Periodico VIRAL,1558,248931,83606318\n",
      "\"3,992nd\",B+ ,VIETLIVE.TV,5990,375745,232583082\n",
      "\"3,993rd\",B+ ,New Bollywood TV,74,469791,107831254\n",
      "\"3,994th\",B+ ,Hora do Recreio,2194,487566,207335942\n",
      "\"3,995th\",B+ ,Coco der Neugierige,104,287485,90781129\n",
      "\"3,996th\",B+ ,Wyatt21x,145,30642,34099760\n",
      "\"3,997th\",B+ ,Muscle Madness,617,1505808,364020491\n",
      "\"3,998th\",B+ ,Kaumudy,21632,725125,329156443\n",
      "\"3,999th\",B+ ,Искусство Развития,754,65905,17567433\n",
      "\"4,000th\",B+ ,NRS RAJASTHANI MUSIC,139,437751,123525051\n",
      "\"4,001st\",B+ ,Chosen Few,380,1123446,457548584\n",
      "\"4,002nd\",B+ ,Esen Müzik,4382,780849,859709305\n",
      "\"4,003rd\",B+ ,Nestlé Việt Nam,262,190457,176147511\n",
      "\"4,004th\",B+ ,biltu pramanik,203,-- ,103554553\n",
      "\"4,005th\",B+ ,KK CASSETTE,1879,-- ,160444566\n",
      "\"4,006th\",B+ ,Team FO3 Star,53,-- ,81591812\n",
      "\"4,007th\",B+ ,BigDawsTv,202,4960916,779990865\n",
      "\"4,008th\",B+ ,Jessi Uribe,29,530118,236074307\n",
      "\"4,009th\",B+ ,TheRussianBadger,488,1640768,327389017\n",
      "\"4,010th\",B+ ,RoyalPhilippines,50,2858,19860353\n",
      "\"4,011th\",B+ ,DrDreVEVO,10,2827733,1468458121\n",
      "\"4,012th\",B+ ,Misol & Seal -…,619,402167,125652268\n",
      "\"4,013th\",B+ ,WIRED,2722,2581332,712956070\n",
      "\"4,014th\",B+ ,AlphaSniper97,2056,3245013,660160716\n",
      "\"4,015th\",B+ ,ArjonaOficial,168,3142415,1194042846\n",
      "\"4,016th\",B+ ,LIVELOVEASAPVEVO,58,1544245,752383426\n",
      "\"4,017th\",B+ ,POPxoDaily,1650,1962633,707649788\n",
      "\"4,018th\",B+ ,Pocoyo Episodios Completos ESPAÑOL,262,1121414,455386417\n",
      "\"4,019th\",B+ ,Spockcomedia,1020,891413,360666281\n",
      "\"4,020th\",B+ ,G Entertainment,6,238588,65225035\n",
      "\"4,021st\",B+ ,はなお,365,896332,235833745\n",
      "\"4,022nd\",B+ ,freekickerz,1271,7029564,1774433565\n",
      "\"4,023rd\",B+ ,Tom Produções,450,5333616,1435772090\n",
      "\"4,024th\",B+ ,Votra KidsTV,571,1122511,615322797\n",
      "\"4,025th\",B+ ,Canal Parafuso Solto,275,1102036,282786868\n",
      "\"4,026th\",B+ ,Семейка Z,263,1160807,254978798\n",
      "\"4,027th\",B+ ,Lumaid,878,1262374,488319998\n",
      "\"4,028th\",B+ ,Eurovision Song Contest,4936,2444780,3341297010\n",
      "\"4,029th\",B+ ,قناة الاطفال -ALATFAL,2,101097,26755263\n",
      "\"4,030th\",B+ ,Cinecurry Malayalam,881,-- ,118361436\n",
      "\"4,031st\",B+ ,aurora universe,124,48771,20947675\n",
      "\"4,032nd\",B+ ,Bollywood Life,27239,626748,427561578\n",
      "\"4,033rd\",B+ ,Titi Toys and Dolls,522,1405685,575642246\n",
      "\"4,034th\",B+ ,Mark Wiens,882,2553357,501034423\n",
      "\"4,035th\",B+ ,Blake Shelton - Topic,463,24032,14698205\n",
      "\"4,036th\",B+ ,Salomundo,48,2120260,109240059\n",
      "\"4,037th\",B+ ,FEDUK,63,717479,209878500\n",
      "\"4,038th\",B+ ,Sing mit mir - Kinderlieder,135,737508,890051940\n",
      "\"4,039th\",B+ ,Cyprien,143,12370132,2002757441\n",
      "\"4,040th\",B+ ,Dream TV Egypt,56157,1287864,575358276\n",
      "\"4,041st\",B+ ,Amit Kumar AKR,11,453813,54537381\n",
      "\"4,042nd\",B+ ,Novelas Now,219,411508,9402783\n",
      "\"4,043rd\",B+ ,Вайнран,568,1543962,495469730\n",
      "\"4,044th\",B+ ,Soundtek,2710,871376,300725634\n",
      "\"4,045th\",B+ ,PharrellWilliamsVEVO,36,1459018,617761522\n",
      "\"4,046th\",B+ ,Baby ToysReview,48,323991,69630640\n",
      "\"4,047th\",B+ ,Smithsonian Channel,2357,1470934,548583186\n",
      "\"4,048th\",B+ ,헬로카봇 - hello carbot…,401,398894,329191509\n",
      "\"4,049th\",B+ ,MISTHY TV,802,2171341,362433746\n",
      "\"4,050th\",B+ ,KIDS TOYS CHANNEL,450,1298793,778104014\n",
      "\"4,051st\",B+ ,Sanjivani Bhojpuri,12233,1628683,488265669\n",
      "\"4,052nd\",B+ ,Kid Nation,146,-- ,249447045\n",
      "\"4,053rd\",B+ ,Julienco,323,3674148,926590315\n",
      "\"4,054th\",B+ ,HIMAWARI普段遊び,603,602676,477202954\n",
      "\"4,055th\",B+ ,DemolitionRanch,312,5736011,779304513\n",
      "\"4,056th\",B+ ,AroundMeBD,613,887454,314834207\n",
      "\"4,057th\",B+ ,Ultra Marathi,6684,925088,452558371\n",
      "\"4,058th\",B+ ,Parecen Noticias Extra,1889,541564,205772758\n",
      "\"4,059th\",B+ ,Ganga Cassette,535,942651,214038332\n",
      "\"4,060th\",B+ ,Орел и Решка,1583,1657445,448824409\n",
      "\"4,061st\",B+ ,GOLAZO TV,29,-- ,58213812\n",
      "\"4,062nd\",B+ ,Muse,116,2407368,1432977501\n",
      "\"4,063rd\",B+ ,カズゲームズ/Gaming Kazu,2242,1337505,1121233211\n",
      "\"4,064th\",B+ ,Emergency Awesome,3374,2537309,944778415\n",
      "\"4,065th\",B+ ,AmmA Music,995,1317578,1298288901\n",
      "\"4,066th\",B+ ,Ultra Kids Zone,2251,1036823,435733967\n",
      "\"4,067th\",B+ ,Caixa Econômica Federal,443,35947,57577839\n",
      "\"4,068th\",B+ ,Oddbods Español,136,430319,178553014\n",
      "\"4,069th\",B+ ,G M Dance Centre,39,206322,38789755\n",
      "\"4,070th\",B+ ,Syrex,857,520264,238683494\n",
      "\"4,071st\",B+ ,Dara Daily,5,159061,53455482\n",
      "\"4,072nd\",B+ ,華語網絡大電影,370,238594,171133852\n",
      "\"4,073rd\",B+ ,India News Viral,6254,772489,200894142\n",
      "\"4,074th\",B+ ,AryMiP,472,764293,194047692\n",
      "\"4,075th\",B+ ,Future - Topic,1004,338298,590981966\n",
      "\"4,076th\",B+ ,Fox Family - Official Channel,347,-- ,147227962\n",
      "\"4,077th\",B+ ,Google Brasil,355,453663,316051611\n",
      "\"4,078th\",B+ ,Blipbi Video,84,-- ,15504578\n",
      "\"4,079th\",B+ ,Spacetoon,1304,1660839,665246987\n",
      "\"4,080th\",B+ ,Doug DeMuro,320,2029399,476006982\n",
      "\"4,081st\",B+ ,News Syakhira,530,-- ,20712758\n",
      "\"4,082nd\",B+ ,mehndi designs by Rajeshwari Arun,379,477654,122096889\n",
      "\"4,083rd\",B+ ,AudioslaveVEVO,12,675233,706130316\n",
      "\"4,084th\",B+ ,Global News,8349,268270,214329966\n",
      "\"4,085th\",B+ ,SK telecom,1752,172876,400232163\n",
      "\"4,086th\",B+ ,Official Arctic Monkeys,55,3600010,1194441555\n",
      "\"4,087th\",B+ ,비몽,3286,347449,184100133\n",
      "\"4,088th\",B+ ,NLaFourcadeVEVO,166,1269838,884920011\n",
      "\"4,089th\",B+ ,Танцюють всі!,2096,1015309,707331455\n",
      "\"4,090th\",B+ ,Cambodia Wilderness Channel,188,1088821,416506023\n",
      "\"4,091st\",B+ ,Nadeem Sarwar,314,583121,213194313\n",
      "\"4,092nd\",B+ ,Rick Grimes,476,379672,182603564\n",
      "\"4,093rd\",B+ ,Baby Gizmo,2014,496190,239898031\n",
      "\"4,094th\",B+ ,JokerIsME,83,-- ,536699514\n",
      "\"4,095th\",B+ ,Action Mania V2,22,816534,9812005\n",
      "\"4,096th\",B+ ,letstalk saddam,501,1295940,264442533\n",
      "\"4,097th\",B+ ,Xiaomi France,17,301,12943662\n",
      "\"4,098th\",B+ ,Thanks For Watching,746,870672,148198633\n",
      "\"4,099th\",B+ ,Masha Zoom,334,718753,90588842\n",
      "\"4,100th\",B+ ,GROUDPOND,3077,222223,167892634\n",
      "\"4,101st\",B+ ,DenzelCurryVEVO,1,8012,25878252\n",
      "\"4,102nd\",B+ ,Diana Naikova,551,1168769,271338260\n",
      "\"4,103rd\",B+ ,Trực Tiếp Bóng Đá,189,-- ,11717425\n",
      "\"4,104th\",B+ ,Nassif Zeytoun,87,1534384,688801590\n",
      "\"4,105th\",B+ ,SeanPaulVEVO,23,1228759,711214527\n",
      "\"4,106th\",B+ ,Tulioakar96,466,123358,55814886\n",
      "\"4,107th\",B+ ,GBR - Giochi per Bambini e Ragazzi,1002,457918,224920345\n",
      "\"4,108th\",B+ ,Green Day,170,3126147,1746805127\n",
      "\"4,109th\",B+ ,DẠY BÉ HỌC ONLINE,66,963770,455333267\n",
      "\"4,110th\",B+ ,Top 5 Cover,90,-- ,97396565\n",
      "\"4,111th\",B+ ,bugzybugout,83,170989,50868914\n",
      "\"4,112th\",B+ ,Ситилинк,244,4305,47221635\n",
      "\"4,113th\",B+ ,民視綜合頻道,208265,383022,659944536\n",
      "\"4,114th\",B+ ,LOKMAN,361,550801,210729512\n",
      "\"4,115th\",B+ ,BosskingFilms,28,12112,11644259\n",
      "\"4,116th\",B+ ,El Barbudo Taboo,29,59022,41510056\n",
      "\"4,117th\",B+ ,BMTHOfficialVEVO,38,1752895,488483593\n",
      "\"4,118th\",B+ ,Warner Music Spain,1230,1348824,1420618733\n",
      "\"4,119th\",B+ ,Super Animals,127,-- ,53200243\n",
      "\"4,120th\",B+ ,Headspace,76,119531,169294024\n",
      "\"4,121st\",B+ ,BIC Production | مركز…,791,520065,342109457\n",
      "\"4,122nd\",B+ ,Elif Dizisi,3353,552445,424930890\n",
      "\"4,123rd\",B+ ,TEAM KUKU,41,1212624,331246696\n",
      "\"4,124th\",B+ ,Astro Gempak,9190,1528367,978315074\n",
      "\"4,125th\",B+ ,Матвей Котофей,228,756945,248511595\n",
      "\"4,126th\",B+ ,bachata1908,307,503100,297184677\n",
      "\"4,127th\",B+ ,Group Reporter,1333,501613,200270430\n",
      "\"4,128th\",B+ ,OSR Digital,1113,939680,377855853\n",
      "\"4,129th\",B+ ,#FIRST WINGS FILM PRODUCTION,22,69055,12678949\n",
      "\"4,130th\",B+ ,ぺいんとチャンネルゥ,786,938901,427605084\n",
      "\"4,131st\",B+ ,Videos Novelas,1247,105380,66411897\n",
      "\"4,132nd\",B+ ,Love Island,750,620356,444201674\n",
      "\"4,133rd\",B+ ,ProGamingStudioHD ヅ,308,1622049,533090561\n",
      "\"4,134th\",B+ ,Arab cinema,383,198902,193514701\n",
      "\"4,135th\",B+ ,카토크,91,-- ,25128654\n",
      "\"4,136th\",B+ ,BarbieeeE,30,82369,13368369\n",
      "\"4,137th\",B+ ,Teen Titans Go!,329,904264,369585993\n",
      "\"4,138th\",B+ ,MEGWIN TV,4869,1158868,923484591\n",
      "\"4,139th\",B+ ,Dani Mocanu © Oficial,188,1283134,578901595\n",
      "\"4,140th\",B+ ,Upin Ipin NEW,86,-- ,53905624\n",
      "\"4,141st\",B+ ,Flowers TV,4624,774624,380897493\n",
      "\"4,142nd\",B+ ,The Film Theorists,150,6902278,812042268\n",
      "\"4,143rd\",B+ ,Kid's Games,516,2258362,168116737\n",
      "\"4,144th\",B+ ,Tamel Rasegan,441,189307,83767386\n",
      "\"4,145th\",B+ ,Oneindia Tamil |…,13808,564469,185519759\n",
      "\"4,146th\",B+ ,Sezen Aksu,627,808519,427759679\n",
      "\"4,147th\",B+ ,Comfy - Демо,1223,11388,38950531\n",
      "\"4,148th\",B+ ,\"Tyler, The Creator\",24,1143905,144946358\n",
      "\"4,149th\",B+ ,Monstercat: Uncaged,1349,6989132,2141067728\n",
      "\"4,150th\",B+ ,SunShine Senpai,338,285141,130379353\n",
      "\"4,151st\",B+ ,The Big Bang: Theory BR,1235,97692,63631074\n",
      "\"4,152nd\",B+ ,Tary,563,749462,203572706\n",
      "\"4,153rd\",B+ ,Jhakaas Moviez,1092,-- ,91368802\n",
      "\"4,154th\",B+ ,LODVGVEVO,107,847662,1200373533\n",
      "\"4,155th\",B+ ,Jenna Dewan,43,342222,28109205\n",
      "\"4,156th\",B+ ,TheCranberriesVEVO,19,1428702,1414779306\n",
      "\"4,157th\",B+ ,القيثارة | Alqithara,619,1597514,590984374\n",
      "\"4,158th\",B+ ,CBS,57325,1098981,1505436631\n",
      "\"4,159th\",B+ ,Litllebaby,209,340905,78259240\n",
      "\"4,160th\",B+ ,雙胞胎軒軒釩釩,47,232437,58991136\n",
      "\"4,161st\",B+ ,Et بالمغربي - Et Maroc,398,-- ,15923585\n",
      "\"4,162nd\",B+ ,MerkinMuffly,467,-- ,243928887\n",
      "\"4,163rd\",B+ ,Jaaz Multimedia,293,1405156,538897147\n",
      "\"4,164th\",B+ ,Mahindra Racing,128,14796,131089309\n",
      "\"4,165th\",B+ ,Çocukcuk,271,179279,55746729\n",
      "\"4,166th\",B+ ,CMV,230,689916,151937725\n",
      "\"4,167th\",B+ ,Mundo Web,224,563290,234898910\n",
      "\"4,168th\",B+ ,Paweł Domagała,9,132645,54254556\n",
      "\"4,169th\",B+ ,T-Mobile,822,196195,59516757\n",
      "\"4,170th\",B+ ,Hayal Ailesi,106,610870,379846251\n",
      "\"4,171st\",B+ ,Gossip Adda,2472,391075,240498843\n",
      "\"4,172nd\",B+ ,Joga Sport,153,1026691,401990132\n",
      "\"4,173rd\",B+ ,Telemundo Entretenimiento,14680,1229310,541286065\n",
      "\"4,174th\",B+ ,HOTVODyoung,3948,277041,316994913\n",
      "\"4,175th\",B+ ,5FDPVEVO,107,1424204,1019211373\n",
      "\"4,176th\",B+ ,Trilha Sonora Favorita,980,341926,135602583\n",
      "\"4,177th\",B+ ,Smart Duniya,226,-- ,74174614\n",
      "\"4,178th\",B+ ,DavidBisbalVEVO,98,1159378,836343309\n",
      "\"4,179th\",B+ ,Игрушки Зверюшки,21,176315,40576699\n",
      "\"4,180th\",B+ ,SpanisHDReal,155,1098959,289204610\n",
      "\"4,181st\",B+ ,pingüino,18,194626,51357530\n",
      "\"4,182nd\",B+ ,Coppel,203,144394,185471840\n",
      "\"4,183rd\",B+ ,Show and Tell Toys,835,600768,635027085\n",
      "\"4,184th\",B+ ,Bonafont Levité,13,5318,21402552\n",
      "\"4,185th\",B+ ,مزيون قيمز - GamesMzuuoon,631,1457404,265399330\n",
      "\"4,186th\",B+ ,William Hofmeister,113,-- ,297849148\n",
      "\"4,187th\",B+ ,LK Gaming,1688,-- ,76043505\n",
      "\"4,188th\",B+ ,Songs PK,39,500677,130346801\n",
      "\"4,189th\",B+ ,lozaus1,92,1531645,920454511\n",
      "\"4,190th\",B+ ,XBRAKER VS ARCADE,3568,1011362,549771033\n",
      "\"4,191st\",B+ ,王小君,68,48700,11359488\n",
      "\"4,192nd\",B+ ,DAHIYA FILMS,110,770569,242968335\n",
      "\"4,193rd\",B+ ,An Ninh Thế Giới,6147,775473,589905435\n",
      "\"4,194th\",B+ ,Harry Hu,342,85014,115544021\n",
      "\"4,195th\",B+ ,Power Past Impossible,49,3511,54606430\n",
      "\"4,196th\",B+ ,NPR Music,1435,1868951,468362308\n",
      "\"4,197th\",B+ ,악동 김블루,753,982257,263354350\n",
      "\"4,198th\",B+ ,Düşyeri,571,1586148,1174568015\n",
      "\"4,199th\",B+ ,Mr.VenkatTV,2719,219749,71044404\n",
      "\"4,200th\",B+ ,PT. NutriSains,85,6106,74837048\n",
      "\"4,201st\",B+ ,Sergey322,496,332655,198438293\n",
      "\"4,202nd\",B+ ,FilmSelect Español,396,900880,387543524\n",
      "\"4,203rd\",B+ ,圧倒的不審者の極み!,48,1288631,165046156\n",
      "\"4,204th\",B+ ,Level UP,92,734279,257972852\n",
      "\"4,205th\",B+ ,قوي ذهنك,166,-- ,17650009\n",
      "\"4,206th\",B+ ,Third String Kicker,211,526778,314002396\n",
      "\"4,207th\",B+ ,Research Tv India,207,2982012,295539024\n",
      "\"4,208th\",B+ ,HalfpintFilmz - WouldYaLookAtThis,859,481252,178853714\n",
      "\"4,209th\",B+ ,Izzy's Toy Time,760,417453,546091172\n",
      "\"4,210th\",B+ ,Eleven Seven Music,673,628716,456380142\n",
      "\"4,211th\",B+ ,SBS Inkigayo,15197,2169754,1175612603\n",
      "\"4,212th\",B+ ,Brinoco,1234,-- ,1430988016\n",
      "\"4,213th\",B+ ,Thomas Toys,94,2118571,451054518\n",
      "\"4,214th\",B+ ,EarthWindandFireVEVO,192,466893,616730422\n",
      "\"4,215th\",B+ ,밥티비,162,7549,12639641\n",
      "\"4,216th\",B+ ,اتفرج منوعات 2,141,412635,143254987\n",
      "\"4,217th\",B+ ,Zee Sarthak,5104,602507,186271408\n",
      "\"4,218th\",B+ ,House Of Jhankar,295,470493,152636933\n",
      "\"4,219th\",B+ ,JucariiPentruTine Jucarii,394,40472,12757906\n",
      "\"4,220th\",B+ ,PK NEWS,3302,-- ,164165164\n",
      "\"4,221st\",B+ ,CoasterForce,2741,608436,389986083\n",
      "\"4,222nd\",B+ ,DANWEB,233,198843,73882238\n",
      "\"4,223rd\",B+ ,Color Man,530,286277,80213009\n",
      "\"4,224th\",B+ ,Трум Трум СЕЛЕКТ,309,2205086,374284451\n",
      "\"4,225th\",B+ ,AGUGAI,752,504510,275562500\n",
      "\"4,226th\",B+ ,I'm A Celebrity... Get Me Out Of…,3809,556797,262283864\n",
      "\"4,227th\",B+ ,Vrindavan Channel,25,155009,32901297\n",
      "\"4,228th\",B+ ,محمد خير جراح Mhd Kheir…,641,486101,240672308\n",
      "\"4,229th\",B+ ,UrbanoVideosTV,418,1927186,456707483\n",
      "\"4,230th\",B+ ,Robin Schulz,235,2550003,1781228597\n",
      "\"4,231st\",B+ ,قناة الشيخ كشك,3416,3028665,787438630\n",
      "\"4,232nd\",B+ ,Cartoon Network Brasil,1137,2459727,470240910\n",
      "\"4,233rd\",B+ ,OfficialGucciMane,172,2196209,1043551240\n",
      "\"4,234th\",B+ ,All In One,524,634881,211001126\n",
      "\"4,235th\",B+ ,Zıpır Çocuk TV,188,89375,21985070\n",
      "\"4,236th\",B+ ,S7S,47,796765,55317768\n",
      "\"4,237th\",B+ ,SCIBHAJAN,692,600035,126016904\n",
      "\"4,238th\",B+ ,Connecting,1575,485648,116342873\n",
      "\"4,239th\",B+ ,Rosanna Pansino,612,10580428,2489858520\n",
      "\"4,240th\",B+ ,MaxINFINITE,5129,1711245,987592904\n",
      "\"4,241st\",B+ ,love forever,406,-- ,123056722\n",
      "\"4,242nd\",B+ ,Shaun the Sheep [BahasaIndonesia],218,858511,500876539\n",
      "\"4,243rd\",B+ ,Garam Chai,6288,467429,238038023\n",
      "\"4,244th\",B+ ,معلومة | M3loma,664,2042363,274055161\n",
      "\"4,245th\",B+ ,CD MLP scratch,270,754350,600664637\n",
      "\"4,246th\",B+ ,NYN KID,357,756108,152102565\n",
      "\"4,247th\",B+ ,CHU CHU UA TV,4,-- ,68627790\n",
      "\"4,248th\",B+ ,Rovi23,3428,2542338,816442362\n",
      "\"4,249th\",B+ ,Kubz Scouts,1164,2191461,710941574\n",
      "\"4,250th\",B+ ,Tv9 Gujarati,39806,791256,433142229\n",
      "\"4,251st\",B+ ,Little Baby Bum Junior Nursery…,225,677648,468894884\n",
      "\"4,252nd\",B+ ,Will It Slime?,151,1323802,319494671\n",
      "\"4,253rd\",B+ ,Colors Learn For Kids,3,-- ,49672479\n",
      "\"4,254th\",B+ ,ColorsTV Promos,3379,621382,282831607\n",
      "\"4,255th\",B+ ,Liliya Kitto,512,938902,207605415\n",
      "\"4,256th\",B+ ,Disco Recording Company - Telangana…,3256,451579,168275435\n",
      "\"4,257th\",B+ ,MARTIN TV GO VEGAN - AMOR Y MÁS,669,39830,12257194\n",
      "\"4,258th\",B+ ,Jaze Cinema,1421,1734164,668145625\n",
      "\"4,259th\",B+ ,Aşk Laftan Anlamaz,891,1299858,915974090\n",
      "\"4,260th\",B+ ,Oyuncak Şekeri,651,861408,375050153\n",
      "\"4,261st\",B+ ,RAJAWALI TELEVISI - LANGIT RTV,1714,619058,236221884\n",
      "\"4,262nd\",B+ ,HYPEX,148,406223,67295082\n",
      "\"4,263rd\",B+ ,Cam Channel,87,231927,70171553\n",
      "\"4,264th\",B+ ,MQTube,71,-- ,180135917\n",
      "\"4,265th\",B+ ,Rudel,570,96567,143312495\n",
      "\"4,266th\",B+ ,Irmãos Berti,132,3645466,214554593\n",
      "\"4,267th\",B+ ,NellyVEVO,37,2412648,1825819278\n",
      "\"4,268th\",B+ ,MR Bhojpuriya,134,1123700,142478562\n",
      "\"4,269th\",B+ ,Wolokoso Mu Uganda,2110,83948,26071780\n",
      "\"4,270th\",B+ ,Die Antwoord,83,2440827,648809297\n",
      "\"4,271st\",B+ ,Little Treehouse India - Hindi Kids…,108,545169,133365510\n",
      "\"4,272nd\",B+ ,Andhika Gemintang,157,1161097,161942267\n",
      "\"4,273rd\",B+ ,Oi,1004,378010,547831643\n",
      "\"4,274th\",B+ ,Jani Eremin,40,62613,29740400\n",
      "\"4,275th\",B+ ,華策FUN國際｜HUACE GLOBAL FUN,1305,397952,195378522\n",
      "\"4,276th\",B+ ,Peppa Pig English,413,1565194,615383060\n",
      "\"4,277th\",B+ ,JHANKAR STUDIO,513,340574,84482640\n",
      "\"4,278th\",B+ ,HERMusicVEVO,25,176944,95533649\n",
      "\"4,279th\",B+ ,FilmiBeat,19030,1734370,778900041\n",
      "\"4,280th\",B+ ,Uncle Corone,502,1003365,835018992\n",
      "\"4,281st\",B+ ,Toda Meiga,317,2908845,417032049\n",
      "\"4,282nd\",B+ ,McDonald's Brasil,114,337855,216657605\n",
      "\"4,283rd\",B+ ,Trung Ruồi Official,23,634190,126807123\n",
      "\"4,284th\",B+ ,NIXBLACK,154,-- ,134929818\n",
      "\"4,285th\",B+ ,Carolina Ross,190,1357631,382177944\n",
      "\"4,286th\",B+ ,SorDor Style,195,1294410,185991343\n",
      "\"4,287th\",B+ ,MANYACRAFT,2563,1163116,165459402\n",
      "\"4,288th\",B+ ,GEICO Insurance,293,1155382,186262503\n",
      "\"4,289th\",B+ ,DisneyChannelIT,2295,1430452,1095337363\n",
      "\"4,290th\",B+ ,AnavitoriaVEVO,40,1203537,341197194\n",
      "\"4,291st\",B+ ,MIX TV,246,103478,49046931\n",
      "\"4,292nd\",B+ ,TheBrainDit,6060,7712494,2616145057\n",
      "\"4,293rd\",B+ ,PEACH EAT LAEK,91,1901081,133729044\n",
      "\"4,294th\",B+ ,Funny Floret,82,336638,85689875\n",
      "\"4,295th\",B+ ,PUBG TV,232,1285844,246460563\n",
      "\"4,296th\",B+ ,Round2hell,47,3199452,233499670\n",
      "\"4,297th\",B+ ,Truyện Ma Kinh Dị 2018,426,178470,59930828\n",
      "\"4,298th\",B+ ,RTL2,604,477240,348130387\n",
      "\"4,299th\",B+ ,CILIO,453,1940035,267450664\n",
      "\"4,300th\",B+ ,Domingo Espetacular,2456,1729885,408148702\n",
      "\"4,301st\",B+ ,NerdOut!,154,1978183,503637145\n",
      "\"4,302nd\",B+ ,Tarang Cine Productions,288,541876,189848367\n",
      "\"4,303rd\",B+ ,釣りよかでしょう。,1461,1032380,559314261\n",
      "\"4,304th\",B+ ,Maasranga TV Official,516,783456,136192778\n",
      "\"4,305th\",B+ ,VICE,2442,9723676,1852463966\n",
      "\"4,306th\",B+ ,エムキッズチャンネルM…,183,250852,48272739\n",
      "\"4,307th\",B+ ,ROBERT PG,523,2969212,564359701\n",
      "\"4,308th\",B+ ,Movieclips Coming Soon,22312,2032501,2188931850\n",
      "\"4,309th\",B+ ,MysticGotJokes,487,4254998,1077452252\n",
      "\"4,310th\",B+ ,MileyCyrusVEVO,51,10847617,3352830806\n",
      "\"4,311th\",B+ ,ColorMonsters Toy,699,465232,280068762\n",
      "\"4,312th\",B+ ,Rels B // Flakk Daniel,87,1229857,392738625\n",
      "\"4,313th\",B+ ,HDBroadcaster .com,373,267466,218563753\n",
      "\"4,314th\",B+ ,Рэп Лирика - Рэп…,984,659909,337127108\n",
      "\"4,315th\",B+ ,tvOneNews,13148,491590,190848806\n",
      "\"4,316th\",B+ ,HiHaHe Nerf War,260,557813,273406816\n",
      "\"4,317th\",B+ ,Aflamna El7elwa - أفلامنا…,814,545971,165109493\n",
      "\"4,318th\",B+ ,NOWnews,5518,40931,52306718\n",
      "\"4,319th\",B+ ,Телеканал Ю,8933,337839,212286579\n",
      "\"4,320th\",B+ ,Anne,610,714014,499503270\n",
      "\"4,321st\",B+ ,Daftar5,433,1350477,269945369\n",
      "\"4,322nd\",B+ ,Palmashow,260,3072715,1236545036\n",
      "\"4,323rd\",B+ ,Bollywood Arabic Videos,245,386377,100273824\n",
      "\"4,324th\",B+ ,Peter PlutaX,1390,1860291,776209979\n",
      "\"4,325th\",B+ ,Attessia TV,5403,1035084,474450626\n",
      "\"4,326th\",B+ ,少康戰情室,4367,359222,266795161\n",
      "\"4,327th\",B+ ,Mac Miller,159,1744620,1118463212\n",
      "\"4,328th\",B+ ,ILuvOlitz2,258,38957,40694978\n",
      "\"4,329th\",B+ ,cute kiddy,91,935162,234207403\n",
      "\"4,330th\",B+ ,Nhạc thiếu nhi vui nhộn,49,-- ,70895833\n",
      "\"4,331st\",B+ ,Kurtlar Vadisi,473,307650,522829103\n",
      "\"4,332nd\",B+ ,Yuki Music,1563,841673,168398860\n",
      "\"4,333rd\",B+ ,Tivibu Spor,2807,354600,203379615\n",
      "\"4,334th\",B+ ,Theater Movies,34,-- ,10542702\n",
      "\"4,335th\",B+ ,kiiroitori1229,104,351108,87868473\n",
      "\"4,336th\",B+ ,Dr. Vivek Bindra: Motivational…,295,4597616,220684745\n",
      "\"4,337th\",B+ ,Ahmed Hassan Hussein,130,1220134,175906336\n",
      "\"4,338th\",B+ ,PragerU,448,1663462,463159205\n",
      "\"4,339th\",B+ ,AshStudio7,513,1419008,406531365\n",
      "\"4,340th\",B+ ,FUNTASTIC TV - Kids Songs and…,298,1896907,1243275274\n",
      "\"4,341st\",B+ ,MeleTOP,3306,621315,399884495\n",
      "\"4,342nd\",B+ ,Talking Kitty Cat,157,1458071,454883738\n",
      "\"4,343rd\",B+ ,CaptainSauce,1209,734560,246185449\n",
      "\"4,344th\",B+ ,Julia Silva,1236,3800626,890696929\n",
      "\"4,345th\",B+ ,WhatCulture Wrestling,3118,1587627,1001145641\n",
      "\"4,346th\",B+ ,AlexMax Han,11,300002,11215273\n",
      "\"4,347th\",B+ ,dontettotv,83,172781,80676715\n",
      "\"4,348th\",B+ ,น้องดาว We Kids Smile,154,246795,54490730\n",
      "\"4,349th\",B+ ,Nossa Novela,569,1204938,258592184\n",
      "\"4,350th\",B+ ,Simon Desue,513,3877580,633318109\n",
      "\"4,351st\",B+ ,Jc Sheik,6528,454522,74167732\n",
      "\"4,352nd\",B+ ,BrutalGaming!,355,449720,201130465\n",
      "\"4,353rd\",B+ ,Os Pequerruchos,110,1220376,725475997\n",
      "\"4,354th\",B+ ,starshipTV,1044,3037987,1564553335\n",
      "\"4,355th\",B+ ,SamsungChile,492,85773,181721647\n",
      "\"4,356th\",B+ ,GRUPO5,104,411851,251409125\n",
      "\"4,357th\",B+ ,자동차 & 로봇 장난감 Car &…,3077,996142,824707252\n",
      "\"4,358th\",B+ ,ZoZo Show,65,2071956,508266770\n",
      "\"4,359th\",B+ ,Reggaeton FullHD,322,389727,216943304\n",
      "\"4,360th\",B+ ,保育園ぐらんでぃーる,592,90937,47520024\n",
      "\"4,361st\",B+ ,DavidsTV,289,1113649,322758374\n",
      "\"4,362nd\",B+ ,Olsa & Olta,7,160691,53907404\n",
      "\"4,363rd\",B+ ,DjSuraj Farrukhabad,169,37205,19948476\n",
      "\"4,364th\",B+ ,まめきゅん [MAMEKYUNN],1358,213735,178216897\n",
      "\"4,365th\",B+ ,Zalfa Aulia Channel,269,591761,174499518\n",
      "\"4,366th\",B+ ,Monsta,452,2720496,930703534\n",
      "\"4,367th\",B+ ,Pebbles Hindi,2088,833466,319125136\n",
      "\"4,368th\",B+ ,Super Kid Hero,12,570694,57949343\n",
      "\"4,369th\",B+ ,Cristiano Araújo,65,2353752,1223199008\n",
      "\"4,370th\",B+ ,Belgas TV,552,1353313,105899909\n",
      "\"4,371st\",B+ ,MTG - Nhân,101,529228,182326632\n",
      "\"4,372nd\",B+ ,HBO,5798,1275042,554763568\n",
      "\"4,373rd\",B+ ,PuneetSway,167,1241717,160772863\n",
      "\"4,374th\",B+ ,Bo Studio SMF,117,107984,24229250\n",
      "\"4,375th\",B+ ,Roadrunner Records,449,1843864,1645507223\n",
      "\"4,376th\",B+ ,EM - عيسى المرزوق,11,1038932,267177101\n",
      "\"4,377th\",B+ ,Mi Mi Kids,34,564435,152373821\n",
      "\"4,378th\",B+ ,Video time,96,-- ,96050894\n",
      "\"4,379th\",B+ ,Fique Diva com Niely,487,149627,190623469\n",
      "\"4,380th\",B+ ,Le Monde à L'Envers,104,1771858,233842849\n",
      "\"4,381st\",B+ ,baby mesk,20,439950,96329712\n",
      "\"4,382nd\",B+ ,Tunes Arabia - تيونز…,235,314383,213794271\n",
      "\"4,383rd\",B+ ,Veena Music,778,1008997,389129341\n",
      "\"4,384th\",B+ ,WWE Mania,281,481440,158968402\n",
      "\"4,385th\",B+ ,桐崎栄二/きりざきえいじ,237,2359443,636059688\n",
      "\"4,386th\",B+ ,AbstrachujeTV,210,3214966,937746486\n",
      "\"4,387th\",B+ ,BTNews Hindi,5772,623657,164605890\n",
      "\"4,388th\",B+ ,Redondos Subtitulados,2087,472618,588597918\n",
      "\"4,389th\",B+ ,Los 4,127,211307,105751574\n",
      "\"4,390th\",B+ ,84 TUBE,264,185278,97745560\n",
      "\"4,391st\",B+ ,No: 309,1109,643899,760229916\n",
      "\"4,392nd\",B+ ,Variety,2321,285459,131193046\n",
      "\"4,393rd\",B+ ,Grandpa Kitchen,116,2933547,262239661\n",
      "\"4,394th\",B+ ,Warner Bros. Pictures…,1596,836973,576357430\n",
      "\"4,395th\",B+ ,Adını Feriha Koydum,194,112344,60635282\n",
      "\"4,396th\",B+ ,বাউলা অন্তর,64,36269,13891145\n",
      "\"4,397th\",B+ ,Nuke's Top 5,102,837164,202480389\n",
      "\"4,398th\",B+ ,ditto art,221,922554,306245397\n",
      "\"4,399th\",B+ ,ToyStorys CAF Network,97,133598,29113560\n",
      "\"4,400th\",B+ ,TRAMBOLINO COMPILATION,84,100720,39703191\n",
      "\"4,401st\",B+ ,بابلي تولز | Publitools,302,1361298,796856932\n",
      "\"4,402nd\",B+ ,Ozuna - Topic,194,135532,57859774\n",
      "\"4,403rd\",B+ ,AUC - ALL URBAN CENTRAL,2708,806217,654481488\n",
      "\"4,404th\",B+ ,Suhana Safar,34,243103,65597110\n",
      "\"4,405th\",B+ ,Colors Kids,33,1806734,375224093\n",
      "\"4,406th\",B+ ,Active Self Protection,917,1121695,443592524\n",
      "\"4,407th\",B+ ,Hãng Phim Hoạt Hình Việt Nam,589,670509,477313404\n",
      "\"4,408th\",B+ ,soormandir,1164,796234,192988013\n",
      "\"4,409th\",B+ ,Lakme India,431,222445,375440442\n",
      "\"4,410th\",B+ ,Tudubom Records,182,1297856,391537498\n",
      "\"4,411th\",B+ ,Phim Hài Hay - Phim Hài Việt,465,969585,526972494\n",
      "\"4,412th\",B+ ,ThaiPBS,42373,1381892,546531799\n",
      "\"4,413th\",B+ ,Headlines India,1353,1526773,243269589\n",
      "\"4,414th\",B+ ,PMV - NEWS,5629,-- ,239203776\n",
      "\"4,415th\",B+ ,VehliJantaRecords,144,1084471,316419514\n",
      "\"4,416th\",B+ ,91.9 Sarthak FM,805,811217,189625826\n",
      "\"4,417th\",B+ ,Carbon Fiber Music,70,1777878,446604020\n",
      "\"4,418th\",B+ ,Wheel City Heroes - Official…,38,128195,30618973\n",
      "\"4,419th\",B+ ,Crown Records,101,1667695,447120859\n",
      "\"4,420th\",B+ ,Thai Fairy Tales,84,934181,323924630\n",
      "\"4,421st\",B+ ,ALPACO,170,811472,448850524\n",
      "\"4,422nd\",B+ ,Toy Candy,196,3291030,2153959075\n",
      "\"4,423rd\",B+ ,테스터훈 TesterHoon,1197,962469,311764901\n",
      "\"4,424th\",B+ ,Siwonii Meow,38,185392,91919600\n",
      "\"4,425th\",B+ ,Maddock Films,10,82067,46823120\n",
      "\"4,426th\",B+ ,telblog.net,1081,3182436,777921054\n",
      "\"4,427th\",B+ ,MehndiArtistica,1238,1469169,349431711\n",
      "\"4,428th\",B+ ,Miss Gaby,141,2021134,629032106\n",
      "\"4,429th\",B+ ,Dehati Indian Masti,38,407531,47752610\n",
      "\"4,430th\",B+ ,TV1 Telugu,3952,440463,99698526\n",
      "\"4,431st\",B+ ,La Santa Grifa Official,238,2145019,845116969\n",
      "\"4,432nd\",B+ ,Monthly Winners,111,1146565,504985255\n",
      "\"4,433rd\",B+ ,Bublik Nursery rhymes Kids show,2,-- ,146918600\n",
      "\"4,434th\",B+ ,TOYLAND,120,1096770,305134574\n",
      "\"4,435th\",B+ ,Piuzinho,274,1519133,95950604\n",
      "\"4,436th\",B+ ,Chetak Haryanvi,900,1051645,271288378\n",
      "\"4,437th\",B+ ,Baby Fun Learning,852,1568161,624692978\n",
      "\"4,438th\",B+ ,Marlon Huber,379,237216,37254942\n",
      "\"4,439th\",B+ ,DD STAR Record,281,791518,402096123\n",
      "\"4,440th\",B+ ,재넌,783,1386510,395519732\n",
      "\"4,441st\",B+ ,Mitsubishi Motors Canada,121,4080,34998429\n",
      "\"4,442nd\",B+ ,Music World,122,930528,214902917\n",
      "\"4,443rd\",B+ ,D.J. AMAN,352,-- ,112941074\n",
      "\"4,444th\",B+ ,Wix Español,124,11587,80572925\n",
      "\"4,445th\",B+ ,Karaoke Long Ẩn - KLA - 9669,523,-- ,71889466\n",
      "\"4,446th\",B+ ,Natraj Cassette Barhi,240,257950,89836163\n",
      "\"4,447th\",B+ ,Crime Alert,114,1072946,437781655\n",
      "\"4,448th\",B+ ,Saam TV News,31094,-- ,100812183\n",
      "\"4,449th\",B+ ,RTL Entertainment,8097,269883,580950038\n",
      "\"4,450th\",B+ ,KHB,238,521190,159312670\n",
      "\"4,451st\",B+ ,Siyah Giyen Genç,313,550408,107620134\n",
      "\"4,452nd\",B+ ,KarenDaidai MusicChannel,1530,308635,200148956\n",
      "\"4,453rd\",B+ ,Fórum Chaves,2237,1400387,763555026\n",
      "\"4,454th\",B+ ,QuizKnock,333,342577,87507827\n",
      "\"4,455th\",B+ ,عباس النوري :…,751,357867,153608750\n",
      "\"4,456th\",B+ ,FernandoSorocabaVEVO,37,578497,304388453\n",
      "\"4,457th\",B+ ,Sdab Lyric Music,463,-- ,186447693\n",
      "\"4,458th\",B+ ,WAMIndiaMovies,602,1901575,556385699\n",
      "\"4,459th\",B+ ,PRIVADO 80s,277,346863,240794543\n",
      "\"4,460th\",B+ ,Novelas Teen,254,238850,61723603\n",
      "\"4,461st\",B+ ,WisinYYandelVEVO,33,3021803,2632456864\n",
      "\"4,462nd\",B+ ,DOLLAR,157,392723,108162866\n",
      "\"4,463rd\",B+ ,コレコレチャンネル…,259,724528,225715840\n",
      "\"4,464th\",B+ ,Trend Central,143,2136088,371155026\n",
      "\"4,465th\",B+ ,YTLaugh,52,-- ,306935336\n",
      "\"4,466th\",B+ ,TeroserPlay,3935,2343473,539613126\n",
      "\"4,467th\",B+ ,FunkHitsVEVO,81,1531177,297290037\n",
      "\"4,468th\",B+ ,UsagersDesLilas,21,124429,70073364\n",
      "\"4,469th\",B+ ,Glee Scenes,1570,107968,247195957\n",
      "\"4,470th\",B+ ,Ecrin Su Çoban,246,347532,109491745\n",
      "\"4,471st\",B+ ,DatPiff,14407,628138,309081115\n",
      "\"4,472nd\",B+ ,Your Face Sounds Familiar,1437,760746,368906972\n",
      "\"4,473rd\",B+ ,My Country My Lifestyle,153,319636,106640797\n",
      "\"4,474th\",B+ ,Magneoton,1036,342635,382791328\n",
      "\"4,475th\",B+ ,hyghhopes,1,15325,14842098\n",
      "\"4,476th\",B+ ,Renault Brasil,148,486167,91019865\n",
      "\"4,477th\",B+ ,VS RECORDS,782,487762,251692655\n",
      "\"4,478th\",B+ ,Enterr10 Music Bhojpuri,182,1097216,406134202\n",
      "\"4,479th\",B+ ,The Evans,3,58445,46311017\n",
      "\"4,480th\",B+ ,HalseyVEVO,99,3186761,1147216205\n",
      "\"4,481st\",B+ ,Skip and Shannon: UNDISPUTED,2114,938377,552418714\n",
      "\"4,482nd\",B+ ,Mes Parrains 2016,323,313843,115123728\n",
      "\"4,483rd\",B+ ,G Series Bhakti,502,174840,66890590\n",
      "\"4,484th\",B+ ,Chicas Cosmo,1769,1924648,392865365\n",
      "\"4,485th\",B+ ,Alice in youtubeland,129,251971,16977496\n",
      "\"4,486th\",B+ ,Nick Eh 30,352,3159213,188789056\n",
      "\"4,487th\",B+ ,HAYZO TV,41,236921,25309856\n",
      "\"4,488th\",B+ ,Свинка Пеппа новые…,5,387640,12105031\n",
      "\"4,489th\",B+ ,Viejitas Pero Bonitas,535,-- ,434401453\n",
      "\"4,490th\",B+ ,Redmau,536,1747889,800260674\n",
      "\"4,491st\",B+ ,Baka Prase,658,844064,203849887\n",
      "\"4,492nd\",B+ ,三原JAPAN Sanyuan_JAPAN,750,821782,145926053\n",
      "\"4,493rd\",B+ ,Official NET News,96996,612068,529640372\n",
      "\"4,494th\",B+ ,G.S World,559,1711413,144994531\n",
      "\"4,495th\",B+ ,Woolly and Tig Official Channel,242,382170,348627425\n",
      "\"4,496th\",B+ ,Levi's®,556,174464,206128851\n",
      "\"4,497th\",B+ ,شاشة المعرفة,221,967424,128793554\n",
      "\"4,498th\",B+ ,Gup Chup Masthi,1809,192386,122441827\n",
      "\"4,499th\",B+ ,HEADLINER,88,-- ,57395887\n",
      "\"4,500th\",B+ ,MyMissAnand,88,896058,143644455\n",
      "\"4,501st\",B+ ,BRUTOS,291,885038,201859935\n",
      "\"4,502nd\",B+ ,NoahsNoah,113,1061118,163742781\n",
      "\"4,503rd\",B+ ,LOBODA,307,504299,447030369\n",
      "\"4,504th\",B+ ,Samosa Short Films,1839,-- ,199787904\n",
      "\"4,505th\",B+ ,La Voz Kids España,314,518162,246512271\n",
      "\"4,506th\",B+ ,Global Health Media Project,700,441833,165912717\n",
      "\"4,507th\",B+ ,SchoolBoy,406,916973,444364482\n",
      "\"4,508th\",B+ ,TwiinsCuliacanTv,5486,2147573,1566419300\n",
      "\"4,509th\",B+ ,PrankInvasion,56,3560074,453201535\n",
      "\"4,510th\",B+ ,中天電視,56420,766414,853996269\n",
      "\"4,511th\",B+ ,NickJonasVEVO,84,2179850,727144814\n",
      "\"4,512th\",B+ ,Лучшее из Сети,1214,204442,100226391\n",
      "\"4,513th\",B+ ,Gustavo Paródias,147,4716736,432327452\n",
      "\"4,514th\",B+ ,Zombies Gameplay,1675,522717,352699376\n",
      "\"4,515th\",B+ ,The Ohana Adventure,847,1759189,413589622\n",
      "\"4,516th\",B+ ,DilsinhoVEVO,54,930141,412052134\n",
      "\"4,517th\",B+ ,Король ММА,467,235452,195157317\n",
      "\"4,518th\",B+ ,Swissbeatbox,2405,1246052,383377417\n",
      "\"4,519th\",B+ ,People are Awesome,478,2821109,598390543\n",
      "\"4,520th\",B+ ,P 4 Pakao,258,1768418,383723672\n",
      "\"4,521st\",B+ ,Юлик,1498,1855653,396577745\n",
      "\"4,522nd\",B+ ,Gãy TV,326,-- ,354075785\n",
      "\"4,523rd\",B+ ,Baby Joy Joy - Early Learning (Kids…,111,719656,404123531\n",
      "\"4,524th\",B+ ,Cobalt Music,1508,628032,1093021721\n",
      "\"4,525th\",B+ ,Kch Multimedia Naat,2900,1337000,339315498\n",
      "\"4,526th\",B+ ,PBS KIDS,1623,448155,443151356\n",
      "\"4,527th\",B+ ,Baby Dolls & Little Girls,877,681834,448044630\n",
      "\"4,528th\",B+ ,RioromaVEVO,93,2457940,1458247020\n",
      "\"4,529th\",B+ ,AerosmithVEVO,85,1436586,1463346223\n",
      "\"4,530th\",B+ ,BT Sport,2590,904661,298643928\n",
      "\"4,531st\",B+ ,Владимир Кум,735,364935,162871197\n",
      "\"4,532nd\",B+ ,Muca Muriçoca,600,4883397,504819925\n",
      "\"4,533rd\",B+ ,iGameplay1337,22803,1273799,1151618614\n",
      "\"4,534th\",B+ ,Tmall AliExpress Russia,41,7143,60464557\n",
      "\"4,535th\",B+ ,Pak Tv24,1310,-- ,197230840\n",
      "\"4,536th\",B+ ,Kids Love,646,-- ,57139887\n",
      "\"4,537th\",B+ ,HFM.Productions,243,1371476,544585257\n",
      "\"4,538th\",B+ ,Kids Planet,1186,688440,375611557\n",
      "\"4,539th\",B+ ,Exatlón,1255,969178,253863033\n",
      "\"4,540th\",B+ ,Wylsacom,1691,5995106,1214105642\n",
      "\"4,541st\",B+ ,İşte Benim Stilim,13367,352017,625078392\n",
      "\"4,542nd\",B+ ,Insatiable Clips,39,40373,15648648\n",
      "\"4,543rd\",B+ ,Raditya Dika,752,4681974,592937491\n",
      "\"4,544th\",B+ ,LuL Gaming,222,963290,234387744\n",
      "\"4,545th\",B+ ,26Solmates magic,100,1280198,145773569\n",
      "\"4,546th\",B+ ,The Times of India,76391,739545,344694346\n",
      "\"4,547th\",B+ ,RainbowBeeTV,276,-- ,75885207\n",
      "\"4,548th\",B+ ,A Plus Entertainment,8369,1008919,433793654\n",
      "\"4,549th\",B+ ,Colors Bangla,18103,483242,276117357\n",
      "\"4,550th\",B+ ,İstanbullu Gelin,1112,710256,703631356\n",
      "\"4,551st\",B+ ,Joko & Klaas,721,828714,413638517\n",
      "\"4,552nd\",B+ ,Keyblade,270,4465283,1527932609\n",
      "\"4,553rd\",B+ ,MagmaMusen,517,2759333,655748514\n",
      "\"4,554th\",B+ ,TVOKids,1047,63804,24684181\n",
      "\"4,555th\",B+ ,Selena Gomez - Topic,534,296814,32876546\n",
      "\"4,556th\",B+ ,HooplaKidz TV - Funny Cartoons For…,739,2106836,1165566900\n",
      "\"4,557th\",B+ ,cine qube,1034,78161,23444423\n",
      "\"4,558th\",B+ ,dangmattsmith,413,6556994,929109981\n",
      "\"4,559th\",B+ ,Ярик Лапа,966,3954908,2534504345\n",
      "\"4,560th\",B+ ,The Jeremy Kyle Show,10696,1363734,1022091568\n",
      "\"4,561st\",B+ ,Magic Pets,117,1042730,148355598\n",
      "\"4,562nd\",B+ ,Телеканал ТЕТ,4666,634934,432577978\n",
      "\"4,563rd\",B+ ,RD Gameplay,1504,2235470,323127866\n",
      "\"4,564th\",B+ ,Swami Ramdev,3003,1027241,134894318\n",
      "\"4,565th\",B+ ,MaviSlime,421,763262,424773536\n",
      "\"4,566th\",B+ ,Egyptian Arts Group,1119,621715,262210157\n",
      "\"4,567th\",B+ ,Half Tickets,128,143879,100200965\n",
      "\"4,568th\",B+ ,Video Palace,780,618686,341862125\n",
      "\"4,569th\",B+ ,Ameer Bros,47,970732,72642145\n",
      "\"4,570th\",B+ ,Cem Adrian,312,511032,219675437\n",
      "\"4,571st\",B+ ,MotorHP,186,-- ,65624903\n",
      "\"4,572nd\",B+ ,Sobhi Mohammad - صبحي محمد,171,1293280,371775673\n",
      "\"4,573rd\",B+ ,Pro-M,154,666561,575819569\n",
      "\"4,574th\",B+ ,Paws Channel,233,-- ,300026221\n",
      "\"4,575th\",B+ ,코이티비KOITV,299,366615,151455122\n",
      "\"4,576th\",B+ ,킴성태TV,545,451837,110677323\n",
      "\"4,577th\",B+ ,Saregama GenY,1605,1348016,530763825\n",
      "\"4,578th\",B+ ,Legião de Heróis,259,500760,176583022\n",
      "\"4,579th\",B+ ,水溜りボンドの日常,771,1227078,367744255\n",
      "\"4,580th\",B+ ,Afreim,2479,6768781,931270982\n",
      "\"4,581st\",B+ ,FaZe Sensei,223,723607,61490471\n",
      "\"4,582nd\",B+ ,Shaheen Studio,471,-- ,114022378\n",
      "\"4,583rd\",B+ ,START,1145,-- ,39570434\n",
      "\"4,584th\",B+ ,Various Artists - Topic,207072,30224,28670469\n",
      "\"4,585th\",B+ ,LetsPlay,2127,3858133,1908008036\n",
      "\"4,586th\",B+ ,Billie Eilish,12,2436454,57478357\n",
      "\"4,587th\",B+ ,TRT 1,3614,713273,403060976\n",
      "\"4,588th\",B+ ,BlastphamousHD TV2,377,892073,86688820\n",
      "\"4,589th\",B+ ,Mas Waditya,488,548866,415510032\n",
      "\"4,590th\",B+ ,WATZAP,617,813013,74441612\n",
      "\"4,591st\",B+ ,Poke,2250,1949612,353058081\n",
      "\"4,592nd\",B+ ,My Bangla Gaan,175,-- ,61690589\n",
      "\"4,593rd\",B+ ,Ksysha Kids TV,65,-- ,229492298\n",
      "\"4,594th\",B+ ,STR Red,287,732044,214187037\n",
      "\"4,595th\",B+ ,mtvlebanon,32174,1230879,773994459\n",
      "\"4,596th\",B+ ,NTV Natok,1037,1120270,270500150\n",
      "\"4,597th\",B+ ,All Babies Channel - 3D Nursery…,320,1834884,694169961\n",
      "\"4,598th\",B+ ,DashieGames,2183,4547094,1818655801\n",
      "\"4,599th\",B+ ,Animation Cinema,286,667812,197753147\n",
      "\"4,600th\",B+ ,はるみ,10,159914,45544392\n",
      "\"4,601st\",B+ ,Fabelle Exquisite Chocolates,73,6069,39102672\n",
      "\"4,602nd\",B+ ,Vines Post,150,-- ,44413572\n",
      "\"4,603rd\",B+ ,Ashok Kumar Raj,56,161823,51072169\n",
      "\"4,604th\",B+ ,Bhojpuri Junction,365,2123818,352889142\n",
      "\"4,605th\",B+ ,Bebe Milo,1028,1827933,593599445\n",
      "\"4,606th\",B+ ,Новости 24/365,296,-- ,64485065\n",
      "\"4,607th\",B+ ,Musas,457,10650095,1354721389\n",
      "\"4,608th\",B+ ,Smosh Pit,1215,5479602,1610278244\n",
      "\"4,609th\",B+ ,StuffOne,208,48464,11101967\n",
      "\"4,610th\",B+ ,SERIAL UPDATE,3507,-- ,224925360\n",
      "\"4,611th\",B+ ,HeadConcussionTV,137,1319138,799286212\n",
      "\"4,612th\",B+ ,War3Star,78,329597,80575665\n",
      "\"4,613th\",B+ ,Children Animation Station,20,477754,109553210\n",
      "\"4,614th\",B+ ,TheScriptVEVO,111,2520920,1349607477\n",
      "\"4,615th\",B+ ,Dunya News,46183,1370062,454980836\n",
      "\"4,616th\",B+ ,무비콕콕,150,-- ,44165357\n",
      "\"4,617th\",B+ ,The Living Tombstone,189,3285685,928632124\n",
      "\"4,618th\",B+ ,DJHAMIDAOFFICIEL,84,1400491,398802909\n",
      "\"4,619th\",B+ ,FJM 006,130,681079,164014692\n",
      "\"4,620th\",B+ ,Ameer Alabadi,165,2789883,831320945\n",
      "\"4,621st\",B+ ,Origins Explained,509,1771203,476360531\n",
      "\"4,622nd\",B+ ,M-Urban,177,59099,23784835\n",
      "\"4,623rd\",B+ ,Дизель Студио,1055,881795,367203103\n",
      "\"4,624th\",B+ ,NEWS,608,-- ,91974820\n",
      "\"4,625th\",B+ ,Bhojpuri Beats,2342,364624,147987483\n",
      "\"4,626th\",B+ ,WOW TV,590,856671,534680184\n",
      "\"4,627th\",B+ ,MDP Adwords,80,1074,27827916\n",
      "\"4,628th\",B+ ,Cuentos y Juguetes de Adri,133,1099496,228057115\n",
      "\"4,629th\",B+ ,TOP 15 CURIOSIDADES,300,983449,300740510\n",
      "\"4,630th\",B+ ,Raj vallabh,126,233043,77614399\n",
      "\"4,631st\",B+ ,92 News HD,30811,-- ,134021190\n",
      "\"4,632nd\",B+ ,Farmees Português - Canções dos…,535,2718159,888771395\n",
      "\"4,633rd\",B+ ,Fischer's-セカンダリ-,823,2071030,928418444\n",
      "\"4,634th\",B+ ,Hashtags,1696,304604,77394114\n",
      "\"4,635th\",B+ ,Superline Music,3423,671952,230351462\n",
      "\"4,636th\",B+ ,WhatCulture,1444,1608796,708574434\n",
      "\"4,637th\",B+ ,okonomi monjya,122,96234,92704401\n",
      "\"4,638th\",B+ ,Queen Naija,161,3294592,254818379\n",
      "\"4,639th\",B+ ,Hard Play,207,711235,27128142\n",
      "\"4,640th\",B+ ,VAST Studio,408,1698943,272265629\n",
      "\"4,641st\",B+ ,SKY Bolero,3012,766424,354989619\n",
      "\"4,642nd\",B+ ,Smoke The Bear,1470,655663,231279737\n",
      "\"4,643rd\",B+ ,Revolución Popular Noticias,4574,258561,151080571\n",
      "\"4,644th\",B+ ,Tips Films,931,768707,463071646\n",
      "\"4,645th\",B+ ,BORCREW OFFICIAL,315,854382,631087479\n",
      "\"4,646th\",B+ ,Bangla Gorom News,1896,-- ,151760154\n",
      "\"4,647th\",B+ ,เออน่า…,60,1317249,486047466\n",
      "\"4,648th\",B+ ,Thomas & Friends,854,841762,1031010270\n",
      "\"4,649th\",B+ ,Х-Фактор,2924,784389,773507035\n",
      "\"4,650th\",B+ ,Calle y Poché,148,4555359,287112168\n",
      "\"4,651st\",B+ ,Dj Massage,169,109123,36567040\n",
      "\"4,652nd\",B+ ,UFOvnis,764,969489,367754540\n",
      "\"4,653rd\",B+ ,SHORT TIME SECRET,304,3393635,301632051\n",
      "\"4,654th\",B+ ,Fingerwager,22,-- ,119546477\n",
      "\"4,655th\",B+ ,Colors with Baby,77,1066996,228667209\n",
      "\"4,656th\",B+ ,급식왕,68,418941,86242544\n",
      "\"4,657th\",B+ ,Gumbal,2763,989730,641245241\n",
      "\"4,658th\",B+ ,knowledge master,806,-- ,248868112\n",
      "\"4,659th\",B+ ,NewMelody,303,373930,88715039\n",
      "\"4,660th\",B+ ,MOMENTO DA CRIANÇA : CHILD'S…,565,2093276,540676088\n",
      "\"4,661st\",B+ ,Малышарики,296,526890,416005746\n",
      "\"4,662nd\",B+ ,Wow Sister Toy,450,992253,247284306\n",
      "\"4,663rd\",B+ ,Trillion - 8D Music,225,297708,51685733\n",
      "\"4,664th\",B+ ,PTV Cricket,1351,-- ,132162672\n",
      "\"4,665th\",B+ ,oblomoff,952,2925802,788535518\n",
      "\"4,666th\",B+ ,Animal Planet,4737,2899616,1543446280\n",
      "\"4,667th\",B+ ,KBS 안테나,4537,407565,400086125\n",
      "\"4,668th\",B+ ,LA DIVAZA,111,7289257,472676060\n",
      "\"4,669th\",B+ ,TTV BTW,69,-- ,11325628\n",
      "\"4,670th\",B+ ,Матч ТВ,2116,688075,183189109\n",
      "\"4,671st\",B+ ,Cyberpunk 2077,5,376009,39867906\n",
      "\"4,672nd\",B+ ,Nando Moura,1511,2559741,537596828\n",
      "\"4,673rd\",B+ ,KÖLN 50667 - NEWS,382,8858,10059813\n",
      "\"4,674th\",B+ ,TV5 News,130256,1001273,735030481\n",
      "\"4,675th\",B+ ,Niki and Gabi,385,6981602,817180229\n",
      "\"4,676th\",B+ ,My TOP10 of Today,155,536916,157095169\n",
      "\"4,677th\",B+ ,Игрули TV,207,260644,222613832\n",
      "\"4,678th\",B+ ,قناة افلام اكشن…,158,367145,110586550\n",
      "\"4,679th\",B+ ,Jarir Bookstore,527,191631,80324158\n",
      "\"4,680th\",B+ ,Al Fondo hay Sitio,7039,1059526,1126422196\n",
      "\"4,681st\",B+ ,Garnier México,46,33029,161871841\n",
      "\"4,682nd\",B+ ,دانية شافعي DanyahShafei,240,1715058,640259249\n",
      "\"4,683rd\",B+ ,Tang Takor,640,85346,36590615\n",
      "\"4,684th\",B+ ,NeYoVEVO,130,2431139,1740459500\n",
      "\"4,685th\",B+ ,Auf Streife,1113,521502,344344573\n",
      "\"4,686th\",B+ ,OneTwo,110,1292032,274800465\n",
      "\"4,687th\",B+ ,Nhạc sĩ Nguyễn Hậu,340,690553,418088353\n",
      "\"4,688th\",B+ ,عالم الإبداع - Creative…,216,-- ,145773941\n",
      "\"4,689th\",B+ ,Anderson Augusto Moreno,173,703705,135631677\n",
      "\"4,690th\",B+ ,Поиграйка,432,741071,572644241\n",
      "\"4,691st\",B+ ,Tizcall,68,-- ,108495917\n",
      "\"4,692nd\",B+ ,Shaun the Sheep [ViệtNam],139,420941,253034526\n",
      "\"4,693rd\",B+ ,Heróis em Geral,758,672138,310150801\n",
      "\"4,694th\",B+ ,Tbilisi Music Factory,253,342244,80661081\n",
      "\"4,695th\",B+ ,THESSALONIAN31N,557,169628,230184105\n",
      "\"4,696th\",B+ ,My Tam,264,-- ,538371669\n",
      "\"4,697th\",B+ ,How Ridiculous,198,2944984,415212219\n",
      "\"4,698th\",B+ ,momo,18,71072,6033586\n",
      "\"4,699th\",B+ ,Yummy Cake,184,198254,38209654\n",
      "\"4,700th\",B+ ,New Smile Entertainment,2808,163801,68846374\n",
      "\"4,701st\",B+ ,NORMAN FAIT DES VIDÉOS,149,10956784,1944888412\n",
      "\"4,702nd\",B+ ,ChristianNodalVEVO,12,1725609,977903086\n",
      "\"4,703rd\",B+ ,LaSabri,1093,1502901,356090373\n",
      "\"4,704th\",B+ ,Dumbazz,450,2008118,258882357\n",
      "\"4,705th\",B+ ,Louie Rochester,73,-- ,75536179\n",
      "\"4,706th\",B+ ,Funny Fingers TV,426,320015,138184507\n",
      "\"4,707th\",B+ ,Daniel Shaya,13,229733,54228571\n",
      "\"4,708th\",B+ ,Village food factory,171,1826487,325951972\n",
      "\"4,709th\",B+ ,Mythri Movie Makers,451,771870,359113559\n",
      "\"4,710th\",B+ ,baby shark tv - fun for kids,214,297537,34675485\n",
      "\"4,711th\",B+ ,Kraul,2351,44463,10077276\n",
      "\"4,712th\",B+ ,Lagu Anak TV,160,691833,321465874\n",
      "\"4,713th\",B+ ,Filipino Fairy Tales,84,416481,190955997\n",
      "\"4,714th\",B+ ,Machinima,24260,12462363,4366599198\n",
      "\"4,715th\",B+ ,TinTon Tv,25,146046,34855675\n",
      "\"4,716th\",B+ ,Mickey Baby Tv,47,-- ,39117306\n",
      "\"4,717th\",B+ ,Bloveslife,598,877286,167696925\n",
      "\"4,718th\",B+ ,Misterios Paranormales,238,400683,126049665\n",
      "\"4,719th\",B+ ,luisitorey,544,8568122,1467335235\n",
      "\"4,720th\",B+ ,Cadbury Silk,119,128815,168088147\n",
      "\"4,721st\",B+ ,Lifia Niala,531,1309462,1056967526\n",
      "\"4,722nd\",B+ ,Imran's Toy Reviews,1766,1578535,1226434290\n",
      "\"4,723rd\",B+ ,ميني فيلم افلام…,156,327130,125735994\n",
      "\"4,724th\",B+ ,Grizzy & les Lemmings,92,189393,53693273\n",
      "\"4,725th\",B+ ,Maa Janki Series - Bhakti,2158,393496,84699994\n",
      "\"4,726th\",B+ ,Mazaaq Raat Official,1475,985144,353663634\n",
      "\"4,727th\",B+ ,Antena 1,32503,767552,754167799\n",
      "\"4,728th\",B+ ,Verdade Política,3037,589995,163181540\n",
      "\"4,729th\",B+ ,The Icing Artist,263,2445589,510079162\n",
      "\"4,730th\",B+ ,Public TV | ಪಬ್ಲಿಕ್…,64019,812492,345120681\n",
      "\"4,731st\",B+ ,Perfect Life,263,-- ,156462604\n",
      "\"4,732nd\",B+ ,Blitz,4033,1779457,536941556\n",
      "\"4,733rd\",B+ ,UIE Movies,3049,888404,312748978\n",
      "\"4,734th\",B+ ,YoYo TeLeViSion VietSub,756,344630,123167107\n",
      "\"4,735th\",B+ ,Goldmines Dishoom,21,282465,31720611\n",
      "\"4,736th\",B+ ,foofightersVEVO,70,1420511,1176078631\n",
      "\"4,737th\",B+ ,키즈팡TV,842,638306,599514075\n",
      "\"4,738th\",B+ ,EazyDrop,110,417849,39911260\n",
      "\"4,739th\",B+ ,Radial by The Orchard,4999,1093618,1171780378\n",
      "\"4,740th\",B+ ,DivertiGuay,394,903307,188770092\n",
      "\"4,741st\",B+ ,DaftPunkVEVO,14,2425693,799380228\n",
      "\"4,742nd\",B+ ,KingKennyTv,98,1407933,181567805\n",
      "\"4,743rd\",B+ ,USA TODAY,19952,716126,830297926\n",
      "\"4,744th\",B+ ,PULCINO PIO,88,3730907,2266057168\n",
      "\"4,745th\",B+ ,Top Channel Albania,71136,514462,725647506\n",
      "\"4,746th\",B+ ,Đi Rừng & Làm Rẫy,228,693148,191189020\n",
      "\"4,747th\",B+ ,BeritaSatuTV,132874,305667,270945052\n",
      "\"4,748th\",B+ ,Gibi ASMR,305,1280826,307828402\n",
      "\"4,749th\",B+ ,Samsung South Africa,311,-- ,96264871\n",
      "\"4,750th\",B+ ,SelenaVEVO,26,655467,567064031\n",
      "\"4,751st\",B+ ,Diki Duki Dariel,253,349689,129195310\n",
      "\"4,752nd\",B+ ,Come on Kids Learn & Toys,170,952759,225809039\n",
      "\"4,753rd\",B+ ,Abu music,6,967875,359342197\n",
      "\"4,754th\",B+ ,UmiKids,1233,530147,449872770\n",
      "\"4,755th\",B+ ,Bollygrad Studioz,1372,676770,141597007\n",
      "\"4,756th\",B+ ,moviecollectionjp,16045,421034,808283956\n",
      "\"4,757th\",B+ ,jogodoido1,129,474716,536504703\n",
      "\"4,758th\",B+ ,canalestrellatv,31100,902015,747309845\n",
      "\"4,759th\",B+ ,نايف&نواف /naif.nawaf,122,336113,96226641\n",
      "\"4,760th\",B+ ,Real Time with Bill Maher,1455,1444549,524903789\n",
      "\"4,761st\",B+ ,Isaias Saad,9,380534,63609155\n",
      "\"4,762nd\",B+ ,Debbie Doo Kids TV,125,790253,601828436\n",
      "\"4,763rd\",B+ ,CloudKid,911,2365301,650705454\n",
      "\"4,764th\",B+ ,AdamThomasMoran,481,9522573,1945813869\n",
      "\"4,765th\",B+ ,Danny Letras,722,1092545,1041435793\n",
      "\"4,766th\",B+ ,ToyTV - Khủng long bạo chúa,468,586033,293408690\n",
      "\"4,767th\",B+ ,ESRAWORLD,37,90934,2038173\n",
      "\"4,768th\",B+ ,Sen Vàng Tivi,9530,743082,661876773\n",
      "\"4,769th\",B+ ,Vidya Vox,34,4896720,481216349\n",
      "\"4,770th\",B+ ,Comicbook.com,4346,891366,914659533\n",
      "\"4,771st\",B+ ,Lazada Việt Nam,168,78166,129517558\n",
      "\"4,772nd\",B+ ,العالمية للترفية HD,231,-- ,36001078\n",
      "\"4,773rd\",B+ ,HD Songs Bollywood,67,2573251,31925394\n",
      "\"4,774th\",B+ ,Whattheduck,523,1014454,531456854\n",
      "\"4,775th\",B+ ,Black Beard Projects,124,626636,86445880\n",
      "\"4,776th\",B+ ,Wu Tang Collection,1915,452491,241749237\n",
      "\"4,777th\",B+ ,Ben 10,258,439089,234320528\n",
      "\"4,778th\",B+ ,ماوكلي,82,2228894,288823066\n",
      "\"4,779th\",B+ ,Mannie and Genecia,476,669340,153571707\n",
      "\"4,780th\",B+ ,Awesome Toys,5,975349,164046398\n",
      "\"4,781st\",B+ ,ゴウキ/Gouki BOOK,789,278919,258643106\n",
      "\"4,782nd\",B+ ,Sunita Agarwal,652,1460897,212126635\n",
      "\"4,783rd\",B+ ,miguel marrujo,5,65997,10371424\n",
      "\"4,784th\",B+ ,Onyx Family,106,1867345,284641708\n",
      "\"4,785th\",B+ ,TonightShowNet,4015,574542,401250044\n",
      "\"4,786th\",B+ ,paint colouring pages for kids tv,54,1612123,180505108\n",
      "\"4,787th\",B+ ,Justin Wright S.,458,-- ,289623382\n",
      "\"4,788th\",B+ ,CineBox Pictures,278,1208974,291798057\n",
      "\"4,789th\",B+ ,三立台劇,4563,416813,482051586\n",
      "\"4,790th\",B+ ,Discovery UK,2361,1386496,533584799\n",
      "\"4,791st\",B+ ,MrLololoshka (Роман…,1595,5819744,1652673147\n",
      "\"4,792nd\",B+ ,Kelli Maple,3407,904284,780078833\n",
      "\"4,793rd\",B+ ,Mi Vietnam,60,3130,39907898\n",
      "\"4,794th\",B+ ,Örümcek Adam Şimşek McQueen,345,501095,399090908\n",
      "\"4,795th\",B+ ,Du Lịch Bụi,210,408483,150296066\n",
      "\"4,796th\",B+ ,유라야놀자(Let's play YURA),794,462406,430800819\n",
      "\"4,797th\",B+ ,Cidade do Carro - Desenhos Animados…,656,898502,496374196\n",
      "\"4,798th\",B+ ,Wankil Studio - Laink et Terracid,558,1349572,516919282\n",
      "\"4,799th\",B+ ,EDWIN DIAZTO,102,821690,388636462\n",
      "\"4,800th\",B+ ,Luan Santana,278,6441875,2052936604\n",
      "\"4,801st\",B+ ,Gjigandet e Vegjel,19,167146,36273204\n",
      "\"4,802nd\",B+ ,Single Track Studio,1513,977589,488679303\n",
      "\"4,803rd\",B+ ,News Now,4234,-- ,240258091\n",
      "\"4,804th\",B+ ,Happy Toy Dolls,194,657427,138235916\n",
      "\"4,805th\",B+ ,Funny Commercials,356,388441,208670884\n",
      "\"4,806th\",B+ ,BBC News,8864,3119930,850355184\n",
      "\"4,807th\",B+ ,Funtap Game,782,1466,65498471\n",
      "\"4,808th\",B+ ,Nancy Ajram,241,2373004,881503633\n",
      "\"4,809th\",B+ ,NIVEA MEN Indonesia,35,19416,68418856\n",
      "\"4,810th\",B+ ,Red Panda,315,375946,165847713\n",
      "\"4,811th\",B+ ,Макс Ващенко,82,879468,91664348\n",
      "\"4,812th\",B+ ,tanvi emitra,23,284025,67314123\n",
      "\"4,813th\",B+ ,Top5Central,607,3793259,723692651\n",
      "\"4,814th\",B+ ,Luisito Kingdom,87,1861616,61099757\n",
      "\"4,815th\",B+ ,Brendan Kavanagh,869,188337,114610050\n",
      "\"4,816th\",B+ ,Tiny Turtle - Fortnite,2960,3865229,2313734440\n",
      "\"4,817th\",B+ ,xxYjYxx,184,915607,78033644\n",
      "\"4,818th\",B+ ,Silo Entertainment,520,2384236,272881167\n",
      "\"4,819th\",B+ ,Vision TV,126,254953,140582816\n",
      "\"4,820th\",B+ ,Indian Daily News And Entertainment…,930,497212,217370730\n",
      "\"4,821st\",B+ ,BOXX MUSIC,174,456106,261740897\n",
      "\"4,822nd\",B+ ,Antrax,316,7420218,952179970\n",
      "\"4,823rd\",B+ ,مشاهيرنا,350,-- ,51775617\n",
      "\"4,824th\",B+ ,Moviebox Record Label,3276,1634063,841001819\n",
      "\"4,825th\",B+ ,鈴川絢子/Suzukawa Ayako,1570,517962,623983009\n",
      "\"4,826th\",B+ ,Brandon Rogers,168,4467143,645559095\n",
      "\"4,827th\",B+ ,Honiro,1384,703716,410680222\n",
      "\"4,828th\",B+ ,Tree Animation,18,1208668,235957306\n",
      "\"4,829th\",B+ ,Mohamed AlSalim | محمد…,144,2873330,963678387\n",
      "\"4,830th\",B+ ,PS Daily,140,332740,70823787\n",
      "\"4,831st\",B+ ,X Music - Bolero,194,318838,150847944\n",
      "\"4,832nd\",B+ ,WildBrain – Kids Videos,1449,1265381,704083663\n",
      "\"4,833rd\",B+ ,SK-II Japan,173,42869,284399036\n",
      "\"4,834th\",B+ ,Kyler and Mad,328,2221793,342778333\n",
      "\"4,835th\",B+ ,NTV Entertainment,2504,107229,43505019\n",
      "\"4,836th\",B+ ,ウマヅラビデオ,349,462882,121687374\n",
      "\"4,837th\",B+ ,CARS 4 KIDS,478,-- ,1643267574\n",
      "\"4,838th\",B+ ,Conor Maynard,247,8140377,1596625438\n",
      "\"4,839th\",B+ ,Godenot,4333,2462268,692860759\n",
      "\"4,840th\",B+ ,thinkThin,37,1780,11542380\n",
      "\"4,841st\",B+ ,Fantastic Adventures,26,205697,50350200\n",
      "\"4,842nd\",B+ ,camilaVEVO,81,2074598,1794207739\n",
      "\"4,843rd\",B+ ,Zkylixx,9,91842,9747688\n",
      "\"4,844th\",B+ ,perfect status,166,166852,47520251\n",
      "\"4,845th\",B+ ,Khatulistiwa Record,132,-- ,153432783\n",
      "\"4,846th\",B+ ,Alexunea TV,489,601996,230598391\n",
      "\"4,847th\",B+ ,RahatFAKhanVEVO,3,1477124,496855768\n",
      "\"4,848th\",B+ ,Yuvan Shankar Raja,220,436221,96930418\n",
      "\"4,849th\",B+ ,Little Big,43,1807800,326606982\n",
      "\"4,850th\",B+ ,SAMURAI Clips,171,189703,66871275\n",
      "\"4,851st\",B+ ,Humberto Contreras,310,1168566,1128485040\n",
      "\"4,852nd\",B+ ,Muhammed Nalça,24,107409,50383505\n",
      "\"4,853rd\",B+ ,BD Media Music,209,263845,128379117\n",
      "\"4,854th\",B+ ,DramaAlert,899,4250220,891451164\n",
      "\"4,855th\",B+ ,Sonic Islamic (سونک…,1137,779554,202960933\n",
      "\"4,856th\",B+ ,Unisys Music,777,1643420,639612714\n",
      "\"4,857th\",B+ ,ToniBraxtonVEVO,39,923010,709416063\n",
      "\"4,858th\",B+ ,BloodyVids,284,1444973,376341574\n",
      "\"4,859th\",B+ ,UnspeakablePlays,433,1748983,263108427\n",
      "\"4,860th\",B+ ,MondoMedia,1498,3773340,2543022080\n",
      "\"4,861st\",B+ ,We Are Kids United,78,1632138,812572935\n",
      "\"4,862nd\",B+ ,channel of batsu game,744,4559,14498333\n",
      "\"4,863rd\",B+ ,Седьмой канал - 7…,17418,954646,607617274\n",
      "\"4,864th\",B+ ,New Blaker,23,45163,13121436\n",
      "\"4,865th\",B+ ,My Disney Toys,369,1873227,852094911\n",
      "\"4,866th\",B+ ,Indian Tele Tadka,378,581503,242888565\n",
      "\"4,867th\",B+ ,Сила Слова,5378,312534,261115783\n",
      "\"4,868th\",B+ ,Wismichu,306,7584971,1010531417\n",
      "\"4,869th\",B+ ,Cambodia Daily KH,33,142060,42801526\n",
      "\"4,870th\",B+ ,B4U Mini Theatre,273,364053,143656933\n",
      "\"4,871st\",B+ ,ゆきりぬ,654,813260,188641985\n",
      "\"4,872nd\",B+ ,เรื่องเล่า…,2330,459899,130636281\n",
      "\"4,873rd\",B+ ,Dutch Lady Việt Nam,219,99646,223121594\n",
      "\"4,874th\",B+ ,ToeiPrettyGuardians,1248,152010,249872393\n",
      "\"4,875th\",B+ ,Trav and Cor,114,1315844,239025525\n",
      "\"4,876th\",B+ ,aeonretail,66,4889,7820686\n",
      "\"4,877th\",B+ ,BeamNG-Destruction,671,322803,191756413\n",
      "\"4,878th\",B+ ,Fonseca,168,651710,384528967\n",
      "\"4,879th\",B+ ,TOYSBR Parque dos Brinquedos…,829,3262259,1734170639\n",
      "\"4,880th\",B+ ,Canal Regional Mexicano,7,49127,51562445\n",
      "\"4,881st\",B+ ,Ally Law,177,1856132,189440394\n",
      "\"4,882nd\",B+ ,Official iNews,55612,300691,224713552\n",
      "\"4,883rd\",B+ ,DAYMOLITION,3521,1303563,500225972\n",
      "\"4,884th\",B+ ,leorojasVEVO,13,657979,368417477\n",
      "\"4,885th\",B+ ,จัดอันดับ TV,162,2085984,303572709\n",
      "\"4,886th\",B+ ,Kiera Bridget,199,1597666,103608177\n",
      "\"4,887th\",B+ ,Xpose News,40476,-- ,204810831\n",
      "\"4,888th\",B+ ,FUNK EXPLODE,575,736425,192457875\n",
      "\"4,889th\",B+ ,FORTNITE IS MY CITY,552,107329,75529051\n",
      "\"4,890th\",B+ ,Wama,1991,609894,257379642\n",
      "\"4,891st\",B+ ,BollywoodKilla,5702,436971,141741900\n",
      "\"4,892nd\",B+ ,SteveTheGamer55,2701,1579096,454676633\n",
      "\"4,893rd\",B+ ,Everything For U,184,-- ,69313209\n",
      "\"4,894th\",B+ ,VB Musicas,71,-- ,48275804\n",
      "\"4,895th\",B+ ,Neha ki pathsala,146,413909,50400194\n",
      "\"4,896th\",B+ ,Totoykids Explorer,165,-- ,363738234\n",
      "\"4,897th\",B+ ,Arena Closer,304,542421,87498704\n",
      "\"4,898th\",B+ ,Blox4Fun,1059,285697,214090692\n",
      "\"4,899th\",  ,ExzoticSlice,--,99785,9745292\n",
      "\"4,900th\",B+ ,Mantex & Mina,269,612606,126907631\n",
      "\"4,901st\",B+ ,jaby koay,1902,752644,486109194\n",
      "\"4,902nd\",B+ ,YouTube Nigerian Movies,700,829103,253123384\n",
      "\"4,903rd\",B+ ,Скорти,1312,1741173,590610337\n",
      "\"4,904th\",B+ ,clips mix,2677,1840872,1341835076\n",
      "\"4,905th\",B+ ,Rahma Riad,22,176754,40437843\n",
      "\"4,906th\",B+ ,معلومه في كتاب,201,1673693,268348917\n",
      "\"4,907th\",B+ ,Mahendra Guru : Online Videos For…,5401,2693627,283889168\n",
      "\"4,908th\",B+ ,がっちゃんねる★TheGacchannel…,619,700337,1016978735\n",
      "\"4,909th\",B+ ,Lukas Graham,49,2757622,1033092421\n",
      "\"4,910th\",B+ ,HRVYVEVO,8,1105739,243588357\n",
      "\"4,911th\",B+ ,DramaFever Latino,5227,1086929,547149067\n",
      "\"4,912th\",B+ ,Telenovelas Mx-BR,893,93653,51446756\n",
      "\"4,913th\",B+ ,اخترنا لك,775,-- ,95271752\n",
      "\"4,914th\",B+ ,Elevation Worship,320,1003080,411677612\n",
      "\"4,915th\",B+ ,SOLO,1367,445659,173932122\n",
      "\"4,916th\",B+ ,NGworld,320,1031787,137464342\n",
      "\"4,917th\",B+ ,fouseyTUBE,2,10523367,593861\n",
      "\"4,918th\",B+ ,TGFbro,378,4259716,749365673\n",
      "\"4,919th\",B+ ,Dread Mar I - Oficial,85,2361455,430743341\n",
      "\"4,920th\",B+ ,ToyFamily,576,1805482,1075066645\n",
      "\"4,921st\",B+ ,JenniRiveraVEVO,35,1314523,965469696\n",
      "\"4,922nd\",B+ ,VFF Channel,1795,515143,167407345\n",
      "\"4,923rd\",B+ ,هل تعلم؟,1003,5984007,772482299\n",
      "\"4,924th\",B+ ,KrazyGummy,1102,669884,627700268\n",
      "\"4,925th\",B+ ,XAmbassadorsVEVO,68,685213,381313822\n",
      "\"4,926th\",B+ ,Joe Weller,313,5088564,966569893\n",
      "\"4,927th\",B+ ,Tomat Lebay,158,513436,180400520\n",
      "\"4,928th\",B+ ,Breeze Thailand,226,181747,100860450\n",
      "\"4,929th\",B+ ,Germany's next Topmodel,1235,517643,841162492\n",
      "\"4,930th\",B+ ,Dan and Riya,322,541904,160196800\n",
      "\"4,931st\",B+ ,TomoNews US,21001,2336881,2378869886\n",
      "\"4,932nd\",B+ ,Guardian News,2738,191054,228670813\n",
      "\"4,933rd\",B+ ,Jokes PK,317,80664,21626651\n",
      "\"4,934th\",B+ ,Fozi Mozi English,26,176494,45144745\n",
      "\"4,935th\",B+ ,Monique Harteveld,20,149451,55391842\n",
      "\"4,936th\",B+ ,MediaoneTV Live,73616,685132,334150601\n",
      "\"4,937th\",B+ ,李婶儿说电影,139,-- ,53572147\n",
      "\"4,938th\",B+ ,Cakes StepByStep,267,2427534,604260150\n",
      "\"4,939th\",B+ ,Florida Georgia Line - Topic,171,16298,13388670\n",
      "\"4,940th\",B+ ,alpha m.,878,4358675,577671512\n",
      "\"4,941st\",B+ ,Ляпота ТВ,218,693344,145471180\n",
      "\"4,942nd\",B+ ,GMTV,183,-- ,127080542\n",
      "\"4,943rd\",B+ ,Brian Sobrevilla,194,2332239,160200815\n",
      "\"4,944th\",B+ ,hoshinogen official channel,16,644094,404926957\n",
      "\"4,945th\",B+ ,SMG上海电视台官方频道 SMG…,40768,844629,947954536\n",
      "\"4,946th\",B+ ,The Spectors,72,114732,27100765\n",
      "\"4,947th\",B+ ,AitanaVEVO,2,256772,40160161\n",
      "\"4,948th\",B+ ,Febatista,3514,2828251,568136797\n",
      "\"4,949th\",B+ ,Keivon ToysReview,468,-- ,481568513\n",
      "\"4,950th\",B+ ,CBR,617,1335725,315781396\n",
      "\"4,951st\",B+ ,Khan Academy,7115,4226221,1581769422\n",
      "\"4,952nd\",B+ ,TuTiTu Türkçe,232,46561,14631166\n",
      "\"4,953rd\",B+ ,Kids Tv Italiano - canzoni per…,625,732170,567599464\n",
      "\"4,954th\",B+ ,Loose Women,9178,217593,279505979\n",
      "\"4,955th\",B+ ,AmazingSingles,102,326911,226906824\n",
      "\"4,956th\",B+ ,Lowlight TV,234,219627,174420747\n",
      "\"4,957th\",B+ ,CLICKNEWS,2661,-- ,139940815\n",
      "\"4,958th\",B+ ,Taco Hemingway,77,1084554,400561026\n",
      "\"4,959th\",B+ ,Viros,1642,2401920,195608232\n",
      "\"4,960th\",B+ ,Дима Масленников,232,3700908,424256710\n",
      "\"4,961st\",B+ ,Soltana - سلطانة,4027,911253,277468967\n",
      "\"4,962nd\",B+ ,ONE Championship,905,-- ,109836654\n",
      "\"4,963rd\",B+ ,LIT killah,4,1048582,124275622\n",
      "\"4,964th\",B+ ,EchorouknewsTV,57609,913153,288798203\n",
      "\"4,965th\",B+ ,슈기님,1134,1454553,365489767\n",
      "\"4,966th\",B+ ,PlayEven Fashions,986,425918,93521273\n",
      "\"4,967th\",B+ ,Baxtrix,1871,752601,371806433\n",
      "\"4,968th\",B+ ,fishmarketbd,293,383644,122606879\n",
      "\"4,969th\",B+ ,Eglence tv,499,365374,155343517\n",
      "\"4,970th\",B+ ,Oleg Zotov,110,58780,11942164\n",
      "\"4,971st\",B+ ,Chilevisión,13547,885667,596835119\n",
      "\"4,972nd\",B+ ,SonyLIV,1206,2414713,483072980\n",
      "\"4,973rd\",B+ ,Fanatik Klasik Film,2071,673787,509406756\n",
      "\"4,974th\",B+ ,ของเล่นแสนสนุก…,202,829870,310449113\n",
      "\"4,975th\",B+ ,Rahim Pardesi,153,1436546,498989227\n",
      "\"4,976th\",B+ ,Funny Kids,1,150091,21933876\n",
      "\"4,977th\",B+ ,AvonBR,297,229079,343820279\n",
      "\"4,978th\",B+ ,Disney Channel Africa,2184,638404,596218763\n",
      "\"4,979th\",B+ ,Рома Светленький,49,106628,20229141\n",
      "\"4,980th\",B+ ,MonkeyBoo,707,1558006,441243129\n",
      "\"4,981st\",B+ ,Screen Junkies,878,6532616,2090085291\n",
      "\"4,982nd\",B+ ,Luli60able,5,158905,119924990\n",
      "\"4,983rd\",B+ ,채널A Home,9876,647435,827849271\n",
      "\"4,984th\",B+ ,Машинка Игрушка,242,219238,116728609\n",
      "\"4,985th\",B+ ,Jean L,2116,2875705,673550521\n",
      "\"4,986th\",B+ ,AndreaBocelliVEVO,191,820381,485771289\n",
      "\"4,987th\",B+ ,CidadeAlertaRecord,7299,1123300,346376750\n",
      "\"4,988th\",B+ ,YouANDi Games,1358,1536819,424688400\n",
      "\"4,989th\",B+ ,GREAT IDEAS GREAT LIFE,80,1349511,46911690\n",
      "\"4,990th\",B+ ,Kukuli,219,660742,437197125\n",
      "\"4,991st\",B+ ,Ho Ngoc Ha's Official Channel,208,-- ,127185704\n",
      "\"4,992nd\",B+ ,Toys to Learn Colors,11,663114,141933264\n",
      "\"4,993rd\",B+ ,КАZКА,25,131766,74304638\n",
      "\"4,994th\",B+ ,United CUBE (CUBE Entertainment…,1055,1586835,371299166\n",
      "\"4,995th\",B+ ,Wings Marathi,1735,1099659,346175699\n",
      "\"4,996th\",B+ ,Uras Benlioğlu,706,2072942,441202795\n",
      "\"4,997th\",B+ ,HI-TECH MUSIC LTD,797,1055091,377331722\n",
      "\"4,998th\",B+ ,Mastersaint,110,3265735,311758426\n",
      "\"4,999th\",B+ ,Bruce McIntosh,3475,32990,14563764\n",
      "\"5,000th\",B+ ,SehatAQUA,254,21172,73312511\n",
      "\n"
     ]
    }
   ],
   "source": [
    "with open('dataset/youtube.csv', 'r', encoding = 'utf-8') as csv:\n",
    "    print(csv.read())"
   ]
  },
  {
   "cell_type": "code",
   "execution_count": 28,
   "metadata": {},
   "outputs": [
    {
     "name": "stdout",
     "output_type": "stream",
     "text": [
      "Banana\n",
      "Orange\n",
      "Apple\n",
      "Strawberry\n",
      "Cherry\n",
      "\n"
     ]
    }
   ],
   "source": [
    "fruits = ['Banana', 'Orange', 'Apple', 'Strawberry', 'Cherry']\n",
    "\n",
    "with open('fruits_24.txt','w', encoding= 'utf-8') as ff:\n",
    "    for meyve in fruits:\n",
    "        ff.write(meyve + '\\n')\n",
    "with open('fruits_24.txt','r', encoding= 'utf-8') as ff:\n",
    "    print(ff.read())\n"
   ]
  },
  {
   "cell_type": "code",
   "execution_count": 12,
   "metadata": {},
   "outputs": [
    {
     "name": "stdout",
     "output_type": "stream",
     "text": [
      "Jasmine\n",
      "\n",
      "Rose\n",
      "\n",
      "Lily\n",
      "\n",
      "Daisy\n",
      "\n",
      "Tulip\n",
      "\n",
      "\n"
     ]
    }
   ],
   "source": [
    "flowers = ['Jasmine\\n\\n', 'Rose\\n\\n', 'Lily\\n\\n', 'Daisy\\n\\n', 'Tulip\\n\\n']\n",
    "\n",
    "with open(\"flowers.txt\", 'w', encoding=\"utf-8\") as file:\n",
    "    file.writelines(flowers)  # takes an iterator for writing\n",
    "with open(\"flowers.txt\", 'r', encoding=\"utf-8\") as file:\n",
    "    print(file.read())\n"
   ]
  },
  {
   "cell_type": "code",
   "execution_count": 18,
   "metadata": {
    "collapsed": true,
    "jupyter": {
     "outputs_hidden": true
    }
   },
   "outputs": [
    {
     "ename": "TypeError",
     "evalue": "can only concatenate list (not \"str\") to list",
     "output_type": "error",
     "traceback": [
      "\u001b[1;31m---------------------------------------------------------------------------\u001b[0m",
      "\u001b[1;31mTypeError\u001b[0m                                 Traceback (most recent call last)",
      "\u001b[1;32m<ipython-input-18-0d5cd1edcdc4>\u001b[0m in \u001b[0;36m<module>\u001b[1;34m\u001b[0m\n\u001b[0;32m      1\u001b[0m \u001b[0mflowers\u001b[0m \u001b[1;33m=\u001b[0m \u001b[1;33m[\u001b[0m\u001b[1;34m'Jasmine'\u001b[0m\u001b[1;33m,\u001b[0m \u001b[1;34m'Rose'\u001b[0m\u001b[1;33m,\u001b[0m \u001b[1;34m'Lily'\u001b[0m\u001b[1;33m,\u001b[0m \u001b[1;34m'Daisy'\u001b[0m\u001b[1;33m,\u001b[0m \u001b[1;34m'Tulip'\u001b[0m\u001b[1;33m]\u001b[0m\u001b[1;33m\u001b[0m\u001b[1;33m\u001b[0m\u001b[0m\n\u001b[0;32m      2\u001b[0m \u001b[1;32mwith\u001b[0m \u001b[0mopen\u001b[0m\u001b[1;33m(\u001b[0m\u001b[1;34m\"flowers.txt\"\u001b[0m\u001b[1;33m,\u001b[0m \u001b[1;34m'w'\u001b[0m\u001b[1;33m,\u001b[0m \u001b[0mencoding\u001b[0m\u001b[1;33m=\u001b[0m\u001b[1;34m\"utf-8\"\u001b[0m\u001b[1;33m)\u001b[0m \u001b[1;32mas\u001b[0m \u001b[0mfile\u001b[0m\u001b[1;33m:\u001b[0m\u001b[1;33m\u001b[0m\u001b[1;33m\u001b[0m\u001b[0m\n\u001b[1;32m----> 3\u001b[1;33m     \u001b[0mfile\u001b[0m\u001b[1;33m.\u001b[0m\u001b[0mwritelines\u001b[0m\u001b[1;33m(\u001b[0m\u001b[0mflowers\u001b[0m\u001b[1;33m+\u001b[0m\u001b[1;34m'\\n'\u001b[0m\u001b[1;33m)\u001b[0m\u001b[1;33m\u001b[0m\u001b[1;33m\u001b[0m\u001b[0m\n\u001b[0m\u001b[0;32m      4\u001b[0m \u001b[1;32mwith\u001b[0m \u001b[0mopen\u001b[0m\u001b[1;33m(\u001b[0m\u001b[1;34m\"flowers.txt\"\u001b[0m\u001b[1;33m,\u001b[0m \u001b[1;34m'r'\u001b[0m\u001b[1;33m,\u001b[0m \u001b[0mencoding\u001b[0m\u001b[1;33m=\u001b[0m\u001b[1;34m\"utf-8\"\u001b[0m\u001b[1;33m)\u001b[0m \u001b[1;32mas\u001b[0m \u001b[0mfile\u001b[0m\u001b[1;33m:\u001b[0m\u001b[1;33m\u001b[0m\u001b[1;33m\u001b[0m\u001b[0m\n\u001b[0;32m      5\u001b[0m     \u001b[0mprint\u001b[0m\u001b[1;33m(\u001b[0m\u001b[0mfile\u001b[0m\u001b[1;33m.\u001b[0m\u001b[0mread\u001b[0m\u001b[1;33m(\u001b[0m\u001b[1;33m)\u001b[0m\u001b[1;33m)\u001b[0m\u001b[1;33m\u001b[0m\u001b[1;33m\u001b[0m\u001b[0m\n",
      "\u001b[1;31mTypeError\u001b[0m: can only concatenate list (not \"str\") to list"
     ]
    }
   ],
   "source": [
    "flowers = ['Jasmine', 'Rose', 'Lily', 'Daisy', 'Tulip']\n",
    "with open(\"flowers.txt\", 'w', encoding=\"utf-8\") as file:\n",
    "    file.writelines(flowers)\n",
    "with open(\"flowers.txt\", 'r', encoding=\"utf-8\") as file:\n",
    "    print(file.read())    \n"
   ]
  },
  {
   "cell_type": "code",
   "execution_count": 29,
   "metadata": {},
   "outputs": [
    {
     "name": "stdout",
     "output_type": "stream",
     "text": [
      "Banana\n",
      "Orange\n",
      "Apple\n",
      "Strawberry\n",
      "Cherry\n",
      "Melon\n"
     ]
    }
   ],
   "source": [
    "fruits = ['Banana', 'Orange', 'Apple', 'Strawberry', 'Cherry']\n",
    "\n",
    "with open('fruits_24.txt','a', encoding= 'utf-8') as ff:\n",
    "    ff.write('Melon')\n",
    "with open('fruits_24.txt','r', encoding= 'utf-8') as ff:\n",
    "    print(ff.read())"
   ]
  },
  {
   "cell_type": "code",
   "execution_count": null,
   "metadata": {},
   "outputs": [],
   "source": [
    "flowers = ['Jasmine\\n', 'Rose\\n', 'Lily\\n', 'Daisy\\n', 'Tulip\\n']\n",
    "\n",
    "with open(\"flowers.txt\", 'a', encoding=\"utf-8\") as file:\n",
    "    file.writelines(flowers)  # takes an iterator for writing\n",
    "with open(\"flowers.txt\", 'r', encoding=\"utf-8\") as file:\n",
    "    print(file.read())"
   ]
  },
  {
   "cell_type": "code",
   "execution_count": 68,
   "metadata": {},
   "outputs": [
    {
     "name": "stdout",
     "output_type": "stream",
     "text": [
      "Korkma, sönmez bu şafaklarda yüzen al sancak;\n",
      "Sönmeden yurdumun üstünde tüten en son ocak.\n",
      "O benim milletimin yıldızıdır, parlayacak;\n",
      "O benimdir, o benim milletimindir ancak.\n",
      "\n",
      "Çatma, kurban olayım, çehreni ey nazlı hilal!\n",
      "Kahraman ırkıma bir gül! Ne bu şiddet, bu celal?\n",
      "Sana olmaz dökülen kanlarımız sonra helal...\n",
      "Hakkıdır, hakk'a tapan, milletimin istiklal!\n",
      "\n",
      "Ben ezelden beridir hür yaşadım, hür yaşarım.\n",
      "Hangi çılgın bana zincir vuracakmış? Şaşarım!\n",
      "Kükremiş sel gibiyim, bendimi çiğner, aşarım.\n",
      "Yırtarım dağları, enginlere sığmam, taşarım.\n",
      "\n",
      "Garbın afakını sarmışsa çelik zırhlı duvar,\n",
      "Benim iman dolu göğsüm gibi serhaddim var.\n",
      "Ulusun, korkma! Nasıl böyle bir imanı boğar,\n",
      "'Medeniyet!' dediğin tek dişi kalmış canavar?\n",
      "\n",
      "Arkadaş! Yurduma alçakları uğratma, sakın.\n",
      "Siper et gövdeni, dursun bu hayasızca akın.\n",
      "Doğacaktır sana va'dettigi günler hakk'ın...\n",
      "Kim bilir, belki yarın, belki yarından da yakın.\n",
      "\n",
      "Bastığın yerleri 'toprak!' diyerek geçme, tanı:\n",
      "Düşün altında binlerce kefensiz yatanı.\n",
      "Sen şehit oğlusun, incitme, yazıktır, atanı:\n",
      "Verme, dünyaları alsan da, bu cennet vatanı.\n",
      "\n",
      "Kim bu cennet vatanın uğruna olmaz ki feda?\n",
      "Şuheda fışkıracak toprağı sıksan, şuheda!\n",
      "Canı, cananı, bütün varımı alsın da hüda,\n",
      "Etmesin tek vatanımdan beni dünyada cüda.\n",
      "\n",
      "Ruhumun senden, ilahi, şudur ancak emeli:\n",
      "Değmesin mabedimin göğsüne namahrem eli.\n",
      "Bu ezanlar-ki şahadetleri dinin temeli,\n",
      "Ebedi yurdumun üstünde benim inlemeli.\n",
      "\n",
      "\n"
     ]
    }
   ],
   "source": [
    "with open('C:/Users/BAHAR/Downloads/istiklal.txt', 'r', encoding='utf-8') as file:\n",
    "    ff = file.read()\n",
    "f = ff.split('\\n')    \n",
    "with open('C:/Users/BAHAR/Downloads/istiklal.txt', 'w', encoding='utf-8') as file:\n",
    "    i = 0\n",
    "    for line in f:\n",
    "        i+= 1\n",
    "        if i % 4 == False:\n",
    "            file.write(line+'\\n\\n')\n",
    "        else:\n",
    "            file.write(line+'\\n')\n",
    "with open('C:/Users/BAHAR/Downloads/istiklal.txt', 'r', encoding='utf-8') as file:\n",
    "    print(file.read())\n",
    "    "
   ]
  },
  {
   "cell_type": "code",
   "execution_count": 72,
   "metadata": {},
   "outputs": [
    {
     "data": {
      "text/plain": [
       "['Korkma, sönmez bu şafaklarda yüzen al sancak;',\n",
       " 'Sönmeden yurdumun üstünde tüten en son ocak.',\n",
       " 'O benim milletimin yıldızıdır, parlayacak;',\n",
       " 'O benimdir, o benim milletimindir ancak.',\n",
       " 'Çatma, kurban olayım, çehreni ey nazlı hilal!',\n",
       " 'Kahraman ırkıma bir gül! Ne bu şiddet, bu celal?',\n",
       " 'Sana olmaz dökülen kanlarımız sonra helal...',\n",
       " \"Hakkıdır, hakk'a tapan, milletimin istiklal!\",\n",
       " 'Ben ezelden beridir hür yaşadım, hür yaşarım.',\n",
       " 'Hangi çılgın bana zincir vuracakmış? Şaşarım!',\n",
       " 'Kükremiş sel gibiyim, bendimi çiğner, aşarım.',\n",
       " 'Yırtarım dağları, enginlere sığmam, taşarım.',\n",
       " 'Garbın afakını sarmışsa çelik zırhlı duvar,',\n",
       " 'Benim iman dolu göğsüm gibi serhaddim var.',\n",
       " 'Ulusun, korkma! Nasıl böyle bir imanı boğar,',\n",
       " \"'Medeniyet!' dediğin tek dişi kalmış canavar?\",\n",
       " 'Arkadaş! Yurduma alçakları uğratma, sakın.',\n",
       " 'Siper et gövdeni, dursun bu hayasızca akın.',\n",
       " \"Doğacaktır sana va'dettigi günler hakk'ın...\",\n",
       " 'Kim bilir, belki yarın, belki yarından da yakın.',\n",
       " \"Bastığın yerleri 'toprak!' diyerek geçme, tanı:\",\n",
       " 'Düşün altında binlerce kefensiz yatanı.',\n",
       " 'Sen şehit oğlusun, incitme, yazıktır, atanı:',\n",
       " 'Verme, dünyaları alsan da, bu cennet vatanı.',\n",
       " 'Kim bu cennet vatanın uğruna olmaz ki feda?',\n",
       " 'Şuheda fışkıracak toprağı sıksan, şuheda!',\n",
       " 'Canı, cananı, bütün varımı alsın da hüda,',\n",
       " 'Etmesin tek vatanımdan beni dünyada cüda.',\n",
       " 'Ruhumun senden, ilahi, şudur ancak emeli:',\n",
       " 'Değmesin mabedimin göğsüne namahrem eli.',\n",
       " 'Bu ezanlar-ki şahadetleri dinin temeli,',\n",
       " 'Ebedi yurdumun üstünde benim inlemeli.',\n",
       " '    ']"
      ]
     },
     "execution_count": 72,
     "metadata": {},
     "output_type": "execute_result"
    }
   ],
   "source": []
  },
  {
   "cell_type": "code",
   "execution_count": 76,
   "metadata": {},
   "outputs": [
    {
     "data": {
      "text/plain": [
       "['Korkma, sönmez bu şafaklarda yüzen al sancak;',\n",
       " 'Sönmeden yurdumun üstünde tüten en son ocak.',\n",
       " 'O benim milletimin yıldızıdır, parlayacak;',\n",
       " 'O benimdir, o benim milletimindir ancak.',\n",
       " '',\n",
       " 'Çatma, kurban olayım, çehreni ey nazlı hilal!',\n",
       " 'Kahraman ırkıma bir gül! Ne bu şiddet, bu celal?',\n",
       " 'Sana olmaz dökülen kanlarımız sonra helal...',\n",
       " \"Hakkıdır, hakk'a tapan, milletimin istiklal!\",\n",
       " '',\n",
       " 'Ben ezelden beridir hür yaşadım, hür yaşarım.',\n",
       " 'Hangi çılgın bana zincir vuracakmış? Şaşarım!',\n",
       " 'Kükremiş sel gibiyim, bendimi çiğner, aşarım.',\n",
       " 'Yırtarım dağları, enginlere sığmam, taşarım.',\n",
       " '',\n",
       " 'Garbın afakını sarmışsa çelik zırhlı duvar,',\n",
       " 'Benim iman dolu göğsüm gibi serhaddim var.',\n",
       " 'Ulusun, korkma! Nasıl böyle bir imanı boğar,',\n",
       " \"'Medeniyet!' dediğin tek dişi kalmış canavar?\",\n",
       " '',\n",
       " 'Arkadaş! Yurduma alçakları uğratma, sakın.',\n",
       " 'Siper et gövdeni, dursun bu hayasızca akın.',\n",
       " \"Doğacaktır sana va'dettigi günler hakk'ın...\",\n",
       " 'Kim bilir, belki yarın, belki yarından da yakın.',\n",
       " '',\n",
       " \"Bastığın yerleri 'toprak!' diyerek geçme, tanı:\",\n",
       " 'Düşün altında binlerce kefensiz yatanı.',\n",
       " 'Sen şehit oğlusun, incitme, yazıktır, atanı:',\n",
       " 'Verme, dünyaları alsan da, bu cennet vatanı.',\n",
       " '',\n",
       " 'Kim bu cennet vatanın uğruna olmaz ki feda?',\n",
       " 'Şuheda fışkıracak toprağı sıksan, şuheda!',\n",
       " 'Canı, cananı, bütün varımı alsın da hüda,',\n",
       " 'Etmesin tek vatanımdan beni dünyada cüda.',\n",
       " '',\n",
       " 'Ruhumun senden, ilahi, şudur ancak emeli:',\n",
       " 'Değmesin mabedimin göğsüne namahrem eli.',\n",
       " 'Bu ezanlar-ki şahadetleri dinin temeli,',\n",
       " 'Ebedi yurdumun üstünde benim inlemeli.']"
      ]
     },
     "execution_count": 76,
     "metadata": {},
     "output_type": "execute_result"
    }
   ],
   "source": [
    "with open('C:/Users/BAHAR/Downloads/istiklal.txt', 'r', encoding='utf-8') as file:\n",
    "    ff = file.read()\n",
    "f = ff.split('\\n')  \n",
    "f"
   ]
  },
  {
   "cell_type": "code",
   "execution_count": 79,
   "metadata": {
    "collapsed": true,
    "jupyter": {
     "outputs_hidden": true
    }
   },
   "outputs": [
    {
     "name": "stdout",
     "output_type": "stream",
     "text": [
      "\n",
      "Korkma, sönmez bu şafaklarda yüzen al sancak;\n",
      "Sönmeden yurdumun üstünde tüten en son ocak.\n",
      "O benim milletimin yıldızıdır, parlayacak;\n",
      "O benimdir, o benim milletimindir ancak.\n",
      "\n",
      "Çatma, kurban olayım, çehreni ey nazlı hilal!\n",
      "Kahraman ırkıma bir gül! Ne bu şiddet, bu celal?\n",
      "Sana olmaz dökülen kanlarımız sonra helal...\n",
      "Hakkıdır, hakk'a tapan, milletimin istiklal!\n",
      "\n",
      "Ben ezelden beridir hür yaşadım, hür yaşarım.\n",
      "Hangi çılgın bana zincir vuracakmış? Şaşarım!\n",
      "Kükremiş sel gibiyim, bendimi çiğner, aşarım.\n",
      "Yırtarım dağları, enginlere sığmam, taşarım.\n",
      "\n",
      "Garbın afakını sarmışsa çelik zırhlı duvar,\n",
      "Benim iman dolu göğsüm gibi serhaddim var.\n",
      "Ulusun, korkma! Nasıl böyle bir imanı boğar,\n",
      "'Medeniyet!' dediğin tek dişi kalmış canavar?\n",
      "\n",
      "Arkadaş! Yurduma alçakları uğratma, sakın.\n",
      "Siper et gövdeni, dursun bu hayasızca akın.\n",
      "Doğacaktır sana va'dettigi günler hakk'ın...\n",
      "Kim bilir, belki yarın, belki yarından da yakın.\n",
      "\n",
      "Bastığın yerleri 'toprak!' diyerek geçme, tanı:\n",
      "Düşün altında binlerce kefensiz yatanı.\n",
      "Sen şehit oğlusun, incitme, yazıktır, atanı:\n",
      "Verme, dünyaları alsan da, bu cennet vatanı.\n",
      "\n",
      "Kim bu cennet vatanın uğruna olmaz ki feda?\n",
      "Şuheda fışkıracak toprağı sıksan, şuheda!\n",
      "Canı, cananı, bütün varımı alsın da hüda,\n",
      "Etmesin tek vatanımdan beni dünyada cüda.\n",
      "\n",
      "Ruhumun senden, ilahi, şudur ancak emeli:\n",
      "Değmesin mabedimin göğsüne namahrem eli.\n",
      "Bu ezanlar-ki şahadetleri dinin temeli,\n",
      "Ebedi yurdumun üstünde benim inlemeli.Korkma, sönmez bu şafaklarda yüzen al sancak;\n",
      "Sönmeden yurdumun üstünde tüten en son ocak.\n",
      "O benim milletimin yıldızıdır, parlayacak;\n",
      "O benimdir, o benim milletimindir ancak.\n",
      "Çatma, kurban olayım, çehreni ey nazlı hilal!\n",
      "Kahraman ırkıma bir gül! Ne bu şiddet, bu celal?\n",
      "Sana olmaz dökülen kanlarımız sonra helal...\n",
      "Hakkıdır, hakk'a tapan, milletimin istiklal!\n",
      "Ben ezelden beridir hür yaşadım, hür yaşarım.\n",
      "Hangi çılgın bana zincir vuracakmış? Şaşarım!\n",
      "Kükremiş sel gibiyim, bendimi çiğner, aşarım.\n",
      "Yırtarım dağları, enginlere sığmam, taşarım.\n",
      "Garbın afakını sarmışsa çelik zırhlı duvar,\n",
      "Benim iman dolu göğsüm gibi serhaddim var.\n",
      "Ulusun, korkma! Nasıl böyle bir imanı boğar,\n",
      "'Medeniyet!' dediğin tek dişi kalmış canavar?\n",
      "Arkadaş! Yurduma alçakları uğratma, sakın.\n",
      "Siper et gövdeni, dursun bu hayasızca akın.\n",
      "Doğacaktır sana va'dettigi günler hakk'ın...\n",
      "Kim bilir, belki yarın, belki yarından da yakın.\n",
      "Bastığın yerleri 'toprak!' diyerek geçme, tanı:\n",
      "Düşün altında binlerce kefensiz yatanı.\n",
      "Sen şehit oğlusun, incitme, yazıktır, atanı:\n",
      "Verme, dünyaları alsan da, bu cennet vatanı.\n",
      "Kim bu cennet vatanın uğruna olmaz ki feda?\n",
      "Şuheda fışkıracak toprağı sıksan, şuheda!\n",
      "Canı, cananı, bütün varımı alsın da hüda,\n",
      "Etmesin tek vatanımdan beni dünyada cüda.\n",
      "Ruhumun senden, ilahi, şudur ancak emeli:\n",
      "Değmesin mabedimin göğsüne namahrem eli.\n",
      "Bu ezanlar-ki şahadetleri dinin temeli,\n",
      "Ebedi yurdumun üstünde benim inlemeli.\n",
      "\n"
     ]
    }
   ],
   "source": [
    "with open('C:/Users/BAHAR/Downloads/istiklal.txt', 'r', encoding='utf-8') as file:\n",
    "    ff = file.read()\n",
    "f = ff.split('\\n')    \n",
    "with open('C:/Users/BAHAR/Downloads/istiklal.txt', 'a', encoding='utf-8') as file:\n",
    "    for line in f:\n",
    "        if line != '':\n",
    "            file.write(line + '\\n')\n",
    "with open('C:/Users/BAHAR/Downloads/istiklal.txt', 'r', encoding='utf-8') as file:\n",
    "    print(file.read())\n",
    "    "
   ]
  },
  {
   "cell_type": "code",
   "execution_count": null,
   "metadata": {},
   "outputs": [],
   "source": []
  },
  {
   "cell_type": "code",
   "execution_count": 61,
   "metadata": {},
   "outputs": [
    {
     "ename": "AttributeError",
     "evalue": "'list' object has no attribute 'read'",
     "output_type": "error",
     "traceback": [
      "\u001b[1;31m---------------------------------------------------------------------------\u001b[0m",
      "\u001b[1;31mAttributeError\u001b[0m                            Traceback (most recent call last)",
      "\u001b[1;32m<ipython-input-61-6acc87a30ca4>\u001b[0m in \u001b[0;36m<module>\u001b[1;34m\u001b[0m\n\u001b[0;32m      7\u001b[0m             \u001b[0mprint\u001b[0m\u001b[1;33m(\u001b[0m\u001b[0mf\u001b[0m\u001b[1;33m.\u001b[0m\u001b[0mread\u001b[0m\u001b[1;33m(\u001b[0m\u001b[0mi\u001b[0m\u001b[1;33m)\u001b[0m\u001b[1;33m,\u001b[0m \u001b[1;34m'\\n'\u001b[0m\u001b[1;33m)\u001b[0m\u001b[1;33m\u001b[0m\u001b[1;33m\u001b[0m\u001b[0m\n\u001b[0;32m      8\u001b[0m         \u001b[1;32melse\u001b[0m\u001b[1;33m:\u001b[0m\u001b[1;33m\u001b[0m\u001b[1;33m\u001b[0m\u001b[0m\n\u001b[1;32m----> 9\u001b[1;33m             \u001b[0mprint\u001b[0m\u001b[1;33m(\u001b[0m\u001b[0mf\u001b[0m\u001b[1;33m.\u001b[0m\u001b[0mread\u001b[0m\u001b[1;33m(\u001b[0m\u001b[0mi\u001b[0m\u001b[1;33m)\u001b[0m\u001b[1;33m)\u001b[0m\u001b[1;33m\u001b[0m\u001b[1;33m\u001b[0m\u001b[0m\n\u001b[0m",
      "\u001b[1;31mAttributeError\u001b[0m: 'list' object has no attribute 'read'"
     ]
    }
   ],
   "source": [
    "with open('C:/Users/BAHAR/Downloads/istiklal.txt', 'r', encoding='utf-8') as file:\n",
    "    file = file.readlines()\n",
    "    counter = 0\n",
    "    for i in file:\n",
    "        counter += 1\n",
    "        if counter % 4 == 0:\n",
    "            print(f.read(i), '\\n')\n",
    "        else:\n",
    "            print(f.read(i))\n"
   ]
  },
  {
   "cell_type": "code",
   "execution_count": 66,
   "metadata": {
    "collapsed": true,
    "jupyter": {
     "outputs_hidden": true
    }
   },
   "outputs": [
    {
     "name": "stdout",
     "output_type": "stream",
     "text": [
      "Korkma, sönmez bu şafaklarda yüzen al sancak;\n",
      "\n",
      "Sönmeden yurdumun üstünde tüten en son ocak.\n",
      "\n",
      "O benim milletimin yıldızıdır, parlayacak;\n",
      "\n",
      "O benimdir, o benim milletimindir ancak.\n",
      "\n",
      "Çatma, kurban olayım, çehreni ey nazlı hilal!\n",
      "\n",
      "Kahraman ırkıma bir gül! Ne bu şiddet, bu celal?\n",
      "\n",
      "Sana olmaz dökülen kanlarımız sonra helal...\n",
      "\n",
      "Hakkıdır, hakk'a tapan, milletimin istiklal!\n",
      "\n",
      "Ben ezelden beridir hür yaşadım, hür yaşarım.\n",
      "\n",
      "Hangi çılgın bana zincir vuracakmış? Şaşarım!\n",
      "\n",
      "Kükremiş sel gibiyim, bendimi çiğner, aşarım.\n",
      "\n",
      "Yırtarım dağları, enginlere sığmam, taşarım.\n",
      "\n",
      "Garbın afakını sarmışsa çelik zırhlı duvar,\n",
      "\n",
      "Benim iman dolu göğsüm gibi serhaddim var.\n",
      "\n",
      "Ulusun, korkma! Nasıl böyle bir imanı boğar,\n",
      "\n",
      "'Medeniyet!' dediğin tek dişi kalmış canavar?\n",
      "\n",
      "Arkadaş! Yurduma alçakları uğratma, sakın.\n",
      "\n",
      "Siper et gövdeni, dursun bu hayasızca akın.\n",
      "\n",
      "Doğacaktır sana va'dettigi günler hakk'ın...\n",
      "\n",
      "Kim bilir, belki yarın, belki yarından da yakın.\n",
      "\n",
      "Bastığın yerleri 'toprak!' diyerek geçme, tanı:\n",
      "\n",
      "Düşün altında binlerce kefensiz yatanı.\n",
      "\n",
      "Sen şehit oğlusun, incitme, yazıktır, atanı:\n",
      "\n",
      "Verme, dünyaları alsan da, bu cennet vatanı.\n",
      "\n",
      "Kim bu cennet vatanın uğruna olmaz ki feda?\n",
      "\n",
      "Şuheda fışkıracak toprağı sıksan, şuheda!\n",
      "\n",
      "Canı, cananı, bütün varımı alsın da hüda,\n",
      "\n",
      "Etmesin tek vatanımdan beni dünyada cüda.\n",
      "\n",
      "Ruhumun senden, ilahi, şudur ancak emeli:\n",
      "\n",
      "Değmesin mabedimin göğsüne namahrem eli.\n",
      "\n",
      "Bu ezanlar-ki şahadetleri dinin temeli,\n",
      "\n",
      "Ebedi yurdumun üstünde benim inlemeli.\n"
     ]
    }
   ],
   "source": [
    "with open('C:/Users/BAHAR/Downloads/istiklal.txt', 'r', encoding='utf-8') as file:\n",
    "    file = file.readlines()\n",
    "    count = 0\n",
    "    for i in file:\n",
    "        if count % 4 == 0:            \n",
    "            print(i)\n",
    "        else:\n",
    "            print(i)"
   ]
  },
  {
   "cell_type": "code",
   "execution_count": 67,
   "metadata": {
    "collapsed": true,
    "jupyter": {
     "outputs_hidden": true
    }
   },
   "outputs": [
    {
     "ename": "NameError",
     "evalue": "name 'lines' is not defined",
     "output_type": "error",
     "traceback": [
      "\u001b[1;31m---------------------------------------------------------------------------\u001b[0m",
      "\u001b[1;31mNameError\u001b[0m                                 Traceback (most recent call last)",
      "\u001b[1;32m<ipython-input-67-81c5250b8c0f>\u001b[0m in \u001b[0;36m<module>\u001b[1;34m\u001b[0m\n\u001b[0;32m      1\u001b[0m \u001b[0mcounter\u001b[0m \u001b[1;33m=\u001b[0m \u001b[1;36m0\u001b[0m\u001b[1;33m\u001b[0m\u001b[1;33m\u001b[0m\u001b[0m\n\u001b[0;32m      2\u001b[0m \u001b[1;32mwith\u001b[0m \u001b[0mopen\u001b[0m\u001b[1;33m(\u001b[0m\u001b[1;34m'C:/Users/BAHAR/Downloads/istiklal.txt'\u001b[0m\u001b[1;33m,\u001b[0m \u001b[1;34m\"w\"\u001b[0m\u001b[1;33m,\u001b[0m \u001b[0mencoding\u001b[0m\u001b[1;33m=\u001b[0m\u001b[1;34m\"utf-8\"\u001b[0m\u001b[1;33m)\u001b[0m \u001b[1;32mas\u001b[0m \u001b[0mmarch\u001b[0m \u001b[1;33m:\u001b[0m\u001b[1;33m\u001b[0m\u001b[1;33m\u001b[0m\u001b[0m\n\u001b[1;32m----> 3\u001b[1;33m     \u001b[1;32mfor\u001b[0m \u001b[0mline\u001b[0m \u001b[1;32min\u001b[0m \u001b[0mlines\u001b[0m \u001b[1;33m:\u001b[0m\u001b[1;33m\u001b[0m\u001b[1;33m\u001b[0m\u001b[0m\n\u001b[0m\u001b[0;32m      4\u001b[0m         \u001b[0mcounter\u001b[0m \u001b[1;33m+=\u001b[0m \u001b[1;36m1\u001b[0m\u001b[1;33m\u001b[0m\u001b[1;33m\u001b[0m\u001b[0m\n\u001b[0;32m      5\u001b[0m         \u001b[1;32mif\u001b[0m \u001b[0mcounter\u001b[0m \u001b[1;33m%\u001b[0m \u001b[1;36m4\u001b[0m \u001b[1;33m==\u001b[0m \u001b[1;36m0\u001b[0m \u001b[1;33m:\u001b[0m\u001b[1;33m\u001b[0m\u001b[1;33m\u001b[0m\u001b[0m\n",
      "\u001b[1;31mNameError\u001b[0m: name 'lines' is not defined"
     ]
    }
   ],
   "source": [
    "counter = 0\n",
    "with open('C:/Users/BAHAR/Downloads/istiklal.txt', \"w\", encoding=\"utf-8\") as march :\n",
    "    for line in lines :\n",
    "        counter += 1\n",
    "        if counter % 4 == 0 :\n",
    "            march.write(line + \"\\n\")\n",
    "        else :\n",
    "            march.write(line)\n",
    "with open('C:/Users/BAHAR/Downloads/istiklal.txt', \"r\", encoding=\"utf-8\") as march :\n",
    "    print(march.read())\n"
   ]
  },
  {
   "cell_type": "code",
   "execution_count": null,
   "metadata": {},
   "outputs": [],
   "source": [
    "with open('C:/Users/BAHAR/Downloads/istiklal.txt', 'a', encoding = 'utf-8') as f:\n",
    "    f.write('n')\n",
    "    "
   ]
  },
  {
   "cell_type": "code",
   "execution_count": 80,
   "metadata": {},
   "outputs": [
    {
     "data": {
      "text/plain": [
       "dict_keys([1, 2])"
      ]
     },
     "execution_count": 80,
     "metadata": {},
     "output_type": "execute_result"
    }
   ],
   "source": [
    "word = {1 : '1', 2 : '2'}\n",
    "\n",
    "keys = word.keys()\n",
    "keys\n"
   ]
  },
  {
   "cell_type": "code",
   "execution_count": 81,
   "metadata": {},
   "outputs": [],
   "source": [
    "word_1 = {}"
   ]
  },
  {
   "cell_type": "code",
   "execution_count": 82,
   "metadata": {},
   "outputs": [
    {
     "data": {
      "text/plain": [
       "{3: 1}"
      ]
     },
     "execution_count": 82,
     "metadata": {},
     "output_type": "execute_result"
    }
   ],
   "source": [
    "word_1[3] = 1\n",
    "word_1"
   ]
  },
  {
   "cell_type": "code",
   "execution_count": 83,
   "metadata": {},
   "outputs": [
    {
     "data": {
      "text/plain": [
       "{3: 1, 1: 1}"
      ]
     },
     "execution_count": 83,
     "metadata": {},
     "output_type": "execute_result"
    }
   ],
   "source": [
    "word_1[1] = 1\n",
    "word_1"
   ]
  },
  {
   "cell_type": "code",
   "execution_count": 86,
   "metadata": {},
   "outputs": [],
   "source": [
    "word_1[3] += 1 "
   ]
  },
  {
   "cell_type": "code",
   "execution_count": 87,
   "metadata": {},
   "outputs": [
    {
     "data": {
      "text/plain": [
       "{3: 2, 1: 1}"
      ]
     },
     "execution_count": 87,
     "metadata": {},
     "output_type": "execute_result"
    }
   ],
   "source": [
    "word_1bb"
   ]
  },
  {
   "cell_type": "code",
   "execution_count": 92,
   "metadata": {},
   "outputs": [
    {
     "name": "stdout",
     "output_type": "stream",
     "text": [
      "{'b': 6, 'i': 2, 'r': 6, ' ': 3, 'e': 5, ',': 1, \"'\": 1, '.': 1}\n"
     ]
    }
   ],
   "source": [
    "string = \"bir berber, bir'e berber.\"\n",
    "word_dict = {}\n",
    "for i in string:\n",
    "    keys = word_dict.keys()\n",
    "    if i in keys:\n",
    "        word_dict[i] += 1\n",
    "    else:\n",
    "        word_dict[i] = 1\n",
    "        \n",
    "print(word_dict)\n",
    "    "
   ]
  },
  {
   "cell_type": "code",
   "execution_count": 93,
   "metadata": {},
   "outputs": [],
   "source": [
    "veri = ['a','b', True, (False,1), {'1':2}, [1,2], {'2': 'two'}, {2,'3'}, 'c', 23, 0]\n"
   ]
  },
  {
   "cell_type": "code",
   "execution_count": null,
   "metadata": {},
   "outputs": [],
   "source": [
    "my_dict = {}\n",
    "keys = my_dict.keys()\n",
    "for i in veri:\n",
    "    keys = my_dict.keys()\n",
    "    if i in keys:\n",
    "        my_dict[i] += 1\n",
    "    else:\n",
    "        word_dict[i] = 1\n",
    "        "
   ]
  },
  {
   "cell_type": "code",
   "execution_count": 95,
   "metadata": {},
   "outputs": [
    {
     "ename": "AttributeError",
     "evalue": "'dict_keys' object has no attribute 'append'",
     "output_type": "error",
     "traceback": [
      "\u001b[1;31m---------------------------------------------------------------------------\u001b[0m",
      "\u001b[1;31mAttributeError\u001b[0m                            Traceback (most recent call last)",
      "\u001b[1;32m<ipython-input-95-498c24c057e2>\u001b[0m in \u001b[0;36m<module>\u001b[1;34m\u001b[0m\n\u001b[0;32m      2\u001b[0m \u001b[0mkeys\u001b[0m \u001b[1;33m=\u001b[0m \u001b[0mmy_dict\u001b[0m\u001b[1;33m.\u001b[0m\u001b[0mkeys\u001b[0m\u001b[1;33m(\u001b[0m\u001b[1;33m)\u001b[0m\u001b[1;33m\u001b[0m\u001b[1;33m\u001b[0m\u001b[0m\n\u001b[0;32m      3\u001b[0m \u001b[1;32mfor\u001b[0m \u001b[0mi\u001b[0m \u001b[1;32min\u001b[0m \u001b[0mveri\u001b[0m\u001b[1;33m:\u001b[0m\u001b[1;33m\u001b[0m\u001b[1;33m\u001b[0m\u001b[0m\n\u001b[1;32m----> 4\u001b[1;33m     \u001b[0mkeys\u001b[0m\u001b[1;33m.\u001b[0m\u001b[0mappend\u001b[0m\u001b[1;33m(\u001b[0m\u001b[0mi\u001b[0m\u001b[1;33m)\u001b[0m\u001b[1;33m\u001b[0m\u001b[1;33m\u001b[0m\u001b[0m\n\u001b[0m",
      "\u001b[1;31mAttributeError\u001b[0m: 'dict_keys' object has no attribute 'append'"
     ]
    }
   ],
   "source": [
    "my_dict = {}\n",
    "keys = my_dict.keys()\n",
    "for i in veri:\n",
    "    keys.append(i)"
   ]
  },
  {
   "cell_type": "code",
   "execution_count": 94,
   "metadata": {},
   "outputs": [
    {
     "data": {
      "text/plain": [
       "int"
      ]
     },
     "execution_count": 94,
     "metadata": {},
     "output_type": "execute_result"
    }
   ],
   "source": [
    "type(5)"
   ]
  },
  {
   "cell_type": "code",
   "execution_count": 102,
   "metadata": {},
   "outputs": [
    {
     "ename": "SyntaxError",
     "evalue": "invalid syntax (<ipython-input-102-c8b48d7e9ba4>, line 4)",
     "output_type": "error",
     "traceback": [
      "\u001b[1;36m  File \u001b[1;32m\"<ipython-input-102-c8b48d7e9ba4>\"\u001b[1;36m, line \u001b[1;32m4\u001b[0m\n\u001b[1;33m    toplam\u001b[0m\n\u001b[1;37m         ^\u001b[0m\n\u001b[1;31mSyntaxError\u001b[0m\u001b[1;31m:\u001b[0m invalid syntax\n"
     ]
    }
   ],
   "source": [
    "toplam = []\n",
    "for i in veri:\n",
    "    toplam.append((type(i))\n",
    "toplam\n",
    "    "
   ]
  },
  {
   "cell_type": "code",
   "execution_count": 99,
   "metadata": {
    "jupyter": {
     "source_hidden": true
    }
   },
   "outputs": [
    {
     "ename": "NameError",
     "evalue": "name 'toplam' is not defined",
     "output_type": "error",
     "traceback": [
      "\u001b[1;31m---------------------------------------------------------------------------\u001b[0m",
      "\u001b[1;31mNameError\u001b[0m                                 Traceback (most recent call last)",
      "\u001b[1;32m<ipython-input-99-fc058c68a6be>\u001b[0m in \u001b[0;36m<module>\u001b[1;34m\u001b[0m\n\u001b[0;32m      1\u001b[0m \u001b[1;32mfor\u001b[0m \u001b[0mi\u001b[0m \u001b[1;32min\u001b[0m \u001b[0mrange\u001b[0m\u001b[1;33m(\u001b[0m\u001b[0mlen\u001b[0m\u001b[1;33m(\u001b[0m\u001b[0mveri\u001b[0m\u001b[1;33m)\u001b[0m\u001b[1;33m)\u001b[0m \u001b[1;33m:\u001b[0m\u001b[1;33m\u001b[0m\u001b[1;33m\u001b[0m\u001b[0m\n\u001b[0;32m      2\u001b[0m     \u001b[1;32mif\u001b[0m \u001b[0mtype\u001b[0m\u001b[1;33m(\u001b[0m\u001b[0mveri\u001b[0m\u001b[1;33m[\u001b[0m\u001b[0mi\u001b[0m\u001b[1;33m]\u001b[0m\u001b[1;33m)\u001b[0m \u001b[1;33m==\u001b[0m \u001b[0mint\u001b[0m\u001b[1;33m:\u001b[0m \u001b[0mtoplam\u001b[0m\u001b[1;33m[\u001b[0m\u001b[1;34m\"int\"\u001b[0m\u001b[1;33m]\u001b[0m \u001b[1;33m+=\u001b[0m \u001b[1;36m1\u001b[0m\u001b[1;33m\u001b[0m\u001b[1;33m\u001b[0m\u001b[0m\n\u001b[1;32m----> 3\u001b[1;33m     \u001b[1;32melif\u001b[0m \u001b[0mtype\u001b[0m\u001b[1;33m(\u001b[0m\u001b[0mveri\u001b[0m\u001b[1;33m[\u001b[0m\u001b[0mi\u001b[0m\u001b[1;33m]\u001b[0m\u001b[1;33m)\u001b[0m \u001b[1;33m==\u001b[0m \u001b[0mstr\u001b[0m\u001b[1;33m:\u001b[0m \u001b[0mtoplam\u001b[0m\u001b[1;33m[\u001b[0m\u001b[1;34m\"str\"\u001b[0m\u001b[1;33m]\u001b[0m \u001b[1;33m+=\u001b[0m \u001b[1;36m1\u001b[0m\u001b[1;33m\u001b[0m\u001b[1;33m\u001b[0m\u001b[0m\n\u001b[0m\u001b[0;32m      4\u001b[0m     \u001b[1;32melif\u001b[0m \u001b[0mtype\u001b[0m\u001b[1;33m(\u001b[0m\u001b[0mveri\u001b[0m\u001b[1;33m[\u001b[0m\u001b[0mi\u001b[0m\u001b[1;33m]\u001b[0m\u001b[1;33m)\u001b[0m \u001b[1;33m==\u001b[0m \u001b[0mbool\u001b[0m\u001b[1;33m:\u001b[0m \u001b[0mtoplam\u001b[0m\u001b[1;33m[\u001b[0m\u001b[1;34m\"bool\"\u001b[0m\u001b[1;33m]\u001b[0m \u001b[1;33m+=\u001b[0m \u001b[1;36m1\u001b[0m\u001b[1;33m\u001b[0m\u001b[1;33m\u001b[0m\u001b[0m\n\u001b[0;32m      5\u001b[0m     \u001b[1;32melif\u001b[0m \u001b[0mtype\u001b[0m\u001b[1;33m(\u001b[0m\u001b[0mveri\u001b[0m\u001b[1;33m[\u001b[0m\u001b[0mi\u001b[0m\u001b[1;33m]\u001b[0m\u001b[1;33m)\u001b[0m \u001b[1;33m==\u001b[0m \u001b[0mlist\u001b[0m\u001b[1;33m:\u001b[0m \u001b[0mtoplam\u001b[0m\u001b[1;33m[\u001b[0m\u001b[1;34m\"list\"\u001b[0m\u001b[1;33m]\u001b[0m \u001b[1;33m+=\u001b[0m \u001b[1;36m1\u001b[0m\u001b[1;33m\u001b[0m\u001b[1;33m\u001b[0m\u001b[0m\n",
      "\u001b[1;31mNameError\u001b[0m: name 'toplam' is not defined"
     ]
    }
   ],
   "source": [
    "for i in range(len(veri)) :\n",
    "    if type(veri[i]) == int: toplam[\"int\"] += 1\n",
    "    elif type(veri[i]) == str: toplam[\"str\"] += 1\n",
    "    elif type(veri[i]) == bool: toplam[\"bool\"] += 1\n",
    "    elif type(veri[i]) == list: toplam[\"list\"] += 1\n",
    "    elif type(veri[i]) == tuple: toplam[\"tuple\"] += 1\n",
    "    elif type(veri[i]) == dict: toplam[\"dict\"] += 1\n",
    "    elif type(veri[i]) == set: toplam[\"set\"] += 1"
   ]
  },
  {
   "cell_type": "code",
   "execution_count": 107,
   "metadata": {},
   "outputs": [
    {
     "ename": "NameError",
     "evalue": "name 'listdir' is not defined",
     "output_type": "error",
     "traceback": [
      "\u001b[1;31m---------------------------------------------------------------------------\u001b[0m",
      "\u001b[1;31mNameError\u001b[0m                                 Traceback (most recent call last)",
      "\u001b[1;32m<ipython-input-107-aed91e4ebdce>\u001b[0m in \u001b[0;36m<module>\u001b[1;34m\u001b[0m\n\u001b[1;32m----> 1\u001b[1;33m \u001b[0mlistdir\u001b[0m\u001b[1;33m(\u001b[0m\u001b[1;33m)\u001b[0m\u001b[1;33m\u001b[0m\u001b[1;33m\u001b[0m\u001b[0m\n\u001b[0m",
      "\u001b[1;31mNameError\u001b[0m: name 'listdir' is not defined"
     ]
    }
   ],
   "source": [
    ".listdir()"
   ]
  },
  {
   "cell_type": "code",
   "execution_count": 103,
   "metadata": {},
   "outputs": [],
   "source": [
    "import glob"
   ]
  },
  {
   "cell_type": "code",
   "execution_count": 110,
   "metadata": {},
   "outputs": [
    {
     "name": "stdout",
     "output_type": "stream",
     "text": [
      "about.txt\n",
      "contact.txt\n",
      "first.txt\n",
      "fishes.txt\n",
      "flowers.txt\n",
      "fruits_24.txt\n",
      "fruits_24_copy.txt\n",
      "istiklal.txt\n",
      "rumi.txt\n",
      "SDLC_NOTES.txt\n",
      "test.txt\n"
     ]
    }
   ],
   "source": [
    "for file in glob.glob(\"*.txt\"):\n",
    "    print(file)"
   ]
  },
  {
   "cell_type": "code",
   "execution_count": 105,
   "metadata": {},
   "outputs": [],
   "source": [
    "import shutil\n"
   ]
  },
  {
   "cell_type": "code",
   "execution_count": 109,
   "metadata": {},
   "outputs": [
    {
     "data": {
      "text/plain": [
       "'./fruits_24_copy.txt'"
      ]
     },
     "execution_count": 109,
     "metadata": {},
     "output_type": "execute_result"
    }
   ],
   "source": [
    "shutil.copy('fruits_24.txt', './fruits_24_copy.txt')\n"
   ]
  },
  {
   "cell_type": "code",
   "execution_count": 112,
   "metadata": {},
   "outputs": [
    {
     "data": {
      "text/plain": [
       "6"
      ]
     },
     "execution_count": 112,
     "metadata": {},
     "output_type": "execute_result"
    }
   ],
   "source": [
    "def my_factorial(n):\n",
    "    if n == 0:\n",
    "        return 1\n",
    "    else:\n",
    "        return n * my_factorial(n-1) \n",
    "my_factorial(3)"
   ]
  },
  {
   "cell_type": "code",
   "execution_count": 119,
   "metadata": {},
   "outputs": [
    {
     "name": "stdout",
     "output_type": "stream",
     "text": [
      "{'str': 3, 'int': 2, 'bool': 1, 'list': 1, 'tuple': 1, 'dict': 1, 'set': 2}\n"
     ]
    }
   ],
   "source": [
    "veri = [\"a\", \"b\", True, (False,1), {\"1\",2}, [1,2], {\"2\":\"two\"}, {2,\"3\"}, \"c\", 23 , 0]\n",
    "type_dict = {\"str\":0, \"int\":0, \"bool\":0, \"list\":0, \"tuple\":0, \"dict\":0, \"set\":0}\n",
    "for i in veri:\n",
    "    if \"{}\".format(type(i)).strip(\"<class \").strip(\">\").strip(\"'\") in type_dict.keys():\n",
    "        type_dict[\"{}\".format(type(i)).strip(\"<class \").strip(\">\").strip(\"'\")] += 1\n",
    "print(type_dict)\n"
   ]
  },
  {
   "cell_type": "code",
   "execution_count": 144,
   "metadata": {},
   "outputs": [
    {
     "data": {
      "text/plain": [
       "dict_keys"
      ]
     },
     "execution_count": 144,
     "metadata": {},
     "output_type": "execute_result"
    }
   ],
   "source": [
    "my_dict = {}\n",
    "for i in veri:\n",
    "    my_dict[str(type(i))] = 0\n",
    "liste = my_dict.keys()\n",
    "type(liste)"
   ]
  },
  {
   "cell_type": "code",
   "execution_count": 163,
   "metadata": {},
   "outputs": [
    {
     "name": "stdout",
     "output_type": "stream",
     "text": [
      "str\n",
      "bool\n",
      "tuple\n",
      "set\n",
      "list\n",
      "dict\n",
      "int\n"
     ]
    }
   ],
   "source": [
    "my_dict = {}\n",
    "for i in veri:\n",
    "    my_dict[str(type(i))[8:-2]] = 0\n",
    "for i in my_dict.keys():\n",
    "    print((i))"
   ]
  },
  {
   "cell_type": "code",
   "execution_count": 192,
   "metadata": {},
   "outputs": [
    {
     "data": {
      "text/plain": [
       "dict_keys(['str', 'bool', 'tuple', 'set', 'list', 'dict', 'int'])"
      ]
     },
     "execution_count": 192,
     "metadata": {},
     "output_type": "execute_result"
    }
   ],
   "source": [
    "my_dict = {}\n",
    "for i in veri:\n",
    "    my_dict[str(type(i))[8:-2]] = 0\n",
    "my_dict.keys()\n"
   ]
  },
  {
   "cell_type": "code",
   "execution_count": 189,
   "metadata": {},
   "outputs": [
    {
     "ename": "KeyError",
     "evalue": "\"'str'\"",
     "output_type": "error",
     "traceback": [
      "\u001b[1;31m---------------------------------------------------------------------------\u001b[0m",
      "\u001b[1;31mKeyError\u001b[0m                                  Traceback (most recent call last)",
      "\u001b[1;32m<ipython-input-189-7a99802883a4>\u001b[0m in \u001b[0;36m<module>\u001b[1;34m\u001b[0m\n\u001b[0;32m      3\u001b[0m \u001b[0mmy_dict\u001b[0m \u001b[1;33m=\u001b[0m \u001b[1;33m{\u001b[0m\u001b[1;33m}\u001b[0m\u001b[1;33m\u001b[0m\u001b[1;33m\u001b[0m\u001b[0m\n\u001b[0;32m      4\u001b[0m \u001b[1;32mfor\u001b[0m \u001b[0mi\u001b[0m \u001b[1;32min\u001b[0m \u001b[0mveri\u001b[0m\u001b[1;33m:\u001b[0m\u001b[1;33m\u001b[0m\u001b[1;33m\u001b[0m\u001b[0m\n\u001b[1;32m----> 5\u001b[1;33m     \u001b[1;32mif\u001b[0m \u001b[0mmy_dict\u001b[0m\u001b[1;33m[\u001b[0m\u001b[0mstr\u001b[0m\u001b[1;33m(\u001b[0m\u001b[0mtype\u001b[0m\u001b[1;33m(\u001b[0m\u001b[0mi\u001b[0m\u001b[1;33m)\u001b[0m\u001b[1;33m)\u001b[0m\u001b[1;33m[\u001b[0m\u001b[1;36m7\u001b[0m\u001b[1;33m:\u001b[0m\u001b[1;33m-\u001b[0m\u001b[1;36m1\u001b[0m\u001b[1;33m]\u001b[0m\u001b[1;33m]\u001b[0m \u001b[1;32mnot\u001b[0m \u001b[1;32min\u001b[0m \u001b[0mmy_dict\u001b[0m\u001b[1;33m.\u001b[0m\u001b[0mkeys\u001b[0m\u001b[1;33m(\u001b[0m\u001b[1;33m)\u001b[0m\u001b[1;33m:\u001b[0m\u001b[1;33m\u001b[0m\u001b[1;33m\u001b[0m\u001b[0m\n\u001b[0m\u001b[0;32m      6\u001b[0m         \u001b[0mmy_dict\u001b[0m\u001b[1;33m[\u001b[0m\u001b[0mstr\u001b[0m\u001b[1;33m(\u001b[0m\u001b[0mtype\u001b[0m\u001b[1;33m(\u001b[0m\u001b[0mi\u001b[0m\u001b[1;33m)\u001b[0m\u001b[1;33m)\u001b[0m\u001b[1;33m[\u001b[0m\u001b[1;36m8\u001b[0m\u001b[1;33m:\u001b[0m\u001b[1;33m-\u001b[0m\u001b[1;36m2\u001b[0m\u001b[1;33m]\u001b[0m\u001b[1;33m]\u001b[0m \u001b[1;33m=\u001b[0m \u001b[1;36m0\u001b[0m\u001b[1;33m\u001b[0m\u001b[1;33m\u001b[0m\u001b[0m\n\u001b[0;32m      7\u001b[0m     \u001b[1;32melse\u001b[0m\u001b[1;33m:\u001b[0m\u001b[1;33m\u001b[0m\u001b[1;33m\u001b[0m\u001b[0m\n",
      "\u001b[1;31mKeyError\u001b[0m: \"'str'\""
     ]
    }
   ],
   "source": [
    "veri = [\"a\", \"b\", True, (False,1), {\"1\",2}, [1,2], {\"2\":\"two\"}, {2,\"3\"}, \"c\", 23 , 0]\n",
    "\n",
    "my_dict = {}\n",
    "for i in veri:\n",
    "    if my_dict[str(type(i))[8:-2]] not in my_dict.keys():\n",
    "        my_dict[str(type(i))[8:-2]] = 0\n",
    "    else:\n",
    "        my_dict[str(type(i))[8:-2]] += 1\n",
    "my_dict"
   ]
  },
  {
   "cell_type": "code",
   "execution_count": 186,
   "metadata": {},
   "outputs": [
    {
     "name": "stdout",
     "output_type": "stream",
     "text": [
      "'str'\n"
     ]
    }
   ],
   "source": [
    "print(str(type('asfa'))[7:-1])"
   ]
  },
  {
   "cell_type": "code",
   "execution_count": 168,
   "metadata": {},
   "outputs": [
    {
     "name": "stdout",
     "output_type": "stream",
     "text": [
      "str\n"
     ]
    }
   ],
   "source": [
    "liste = my_dict.keys()\n",
    "if 'str' in liste:\n",
    "    print('str')"
   ]
  }
 ],
 "metadata": {
  "kernelspec": {
   "display_name": "Python 3",
   "language": "python",
   "name": "python3"
  },
  "language_info": {
   "codemirror_mode": {
    "name": "ipython",
    "version": 3
   },
   "file_extension": ".py",
   "mimetype": "text/x-python",
   "name": "python",
   "nbconvert_exporter": "python",
   "pygments_lexer": "ipython3",
   "version": "3.7.4"
  }
 },
 "nbformat": 4,
 "nbformat_minor": 4
}
