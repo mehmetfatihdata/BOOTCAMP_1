{
 "cells": [
  {
   "cell_type": "markdown",
   "metadata": {},
   "source": [
    "# mehmetfatihdata"
   ]
  },
  {
   "cell_type": "code",
   "execution_count": 1,
   "metadata": {},
   "outputs": [],
   "source": [
    "import numpy as np\n",
    "import pandas as pd\n",
    "import matplotlib.pyplot as plt\n",
    "from scipy import stats\n",
    "import warnings\n",
    "warnings.filterwarnings('ignore')"
   ]
  },
  {
   "cell_type": "markdown",
   "metadata": {},
   "source": [
    "## 1.Soru"
   ]
  },
  {
   "cell_type": "markdown",
   "metadata": {},
   "source": [
    "dağılım = np.random.dağılım_adı([],[]) kodunu kullanarak, dağılım_adı yazan yere seçtiğiniz bir dağılımı ve parantez içinde [] şeklinde gösterilen boşlukları yine kendi seçiminiz doğrultusunda doldurun. Daha sonra, a) Verinin histogramını çiziniz b) Q-Q grafiğini çizip yorumlayınız"
   ]
  },
  {
   "cell_type": "code",
   "execution_count": 2,
   "metadata": {
    "scrolled": false
   },
   "outputs": [],
   "source": [
    "orneklem_dagılım = np.random.sample (100)*10\n",
    "orneklem_dagılım.sort()"
   ]
  },
  {
   "cell_type": "code",
   "execution_count": 3,
   "metadata": {
    "scrolled": true
   },
   "outputs": [
    {
     "data": {
      "text/plain": [
       "(array([5., 6., 4., 6., 7., 3., 6., 8., 9., 2., 3., 4., 3., 5., 4., 5., 5.,\n",
       "        6., 4., 5.]),\n",
       " array([0.27356251, 0.75977914, 1.24599577, 1.7322124 , 2.21842903,\n",
       "        2.70464566, 3.19086229, 3.67707892, 4.16329555, 4.64951218,\n",
       "        5.13572881, 5.62194544, 6.10816207, 6.5943787 , 7.08059533,\n",
       "        7.56681196, 8.05302859, 8.53924522, 9.02546185, 9.51167848,\n",
       "        9.99789512]),\n",
       " <a list of 20 Patch objects>)"
      ]
     },
     "execution_count": 3,
     "metadata": {},
     "output_type": "execute_result"
    },
    {
     "data": {
      "image/png": "[encoded data removed]",
      "text/plain": [
       "<Figure size 640x320 with 1 Axes>"
      ]
     },
     "metadata": {
      "needs_background": "light"
     },
     "output_type": "display_data"
    }
   ],
   "source": [
    "plt.figure(figsize=(8,4), dpi = 80)\n",
    "plt.hist(orneklem_dagılım, bins=20, color=\"purple\")"
   ]
  },
  {
   "cell_type": "code",
   "execution_count": 4,
   "metadata": {
    "scrolled": true
   },
   "outputs": [
    {
     "data": {
      "image/png": "[encoded data removed]",
      "text/plain": [
       "<Figure size 640x320 with 1 Axes>"
      ]
     },
     "metadata": {
      "needs_background": "light"
     },
     "output_type": "display_data"
    }
   ],
   "source": [
    "plt.figure(figsize=(8,4), dpi = 80)\n",
    "res = stats.probplot(orneklem_dagılım, plot=plt)\n",
    "plt.title(\"Q-Q Çizgesi\", c=\"darkred\",size=15,weight=\"bold\")\n",
    "plt.xlabel(\"Teorik Değerler\",)\n",
    "plt.ylabel(\"Örnek Veriler\")\n",
    "plt.show()"
   ]
  },
  {
   "cell_type": "markdown",
   "metadata": {},
   "source": [
    "ÖRNEKLEM DAĞILIM İLE ELDE ETTİĞİMİZ VERİ KÜMESİNİN DAĞILIMI NORMAL DAĞILIMA YAKINDIR. "
   ]
  },
  {
   "cell_type": "markdown",
   "metadata": {},
   "source": [
    "## 2.SORU"
   ]
  },
  {
   "cell_type": "markdown",
   "metadata": {},
   "source": [
    "https://finance.yahoo.com/ sitesini kullanarak google şirketinin 2015-2017 yılları arasında hisse senedi fiyatlarını elde edin. Bu veriyi kullanarak hisse senedi getirisini formülle hesaplayın."
   ]
  },
  {
   "cell_type": "code",
   "execution_count": 5,
   "metadata": {},
   "outputs": [
    {
     "data": {
      "text/html": [
       "<div>\n",
       "<style scoped>\n",
       "    .dataframe tbody tr th:only-of-type {\n",
       "        vertical-align: middle;\n",
       "    }\n",
       "\n",
       "    .dataframe tbody tr th {\n",
       "        vertical-align: top;\n",
       "    }\n",
       "\n",
       "    .dataframe thead th {\n",
       "        text-align: right;\n",
       "    }\n",
       "</style>\n",
       "<table border=\"1\" class=\"dataframe\">\n",
       "  <thead>\n",
       "    <tr style=\"text-align: right;\">\n",
       "      <th></th>\n",
       "      <th>Date</th>\n",
       "      <th>Open</th>\n",
       "      <th>High</th>\n",
       "      <th>Low</th>\n",
       "      <th>Close</th>\n",
       "      <th>Adj Close</th>\n",
       "      <th>Volume</th>\n",
       "    </tr>\n",
       "  </thead>\n",
       "  <tbody>\n",
       "    <tr>\n",
       "      <td>0</td>\n",
       "      <td>2015-01-27</td>\n",
       "      <td>528.518921</td>\n",
       "      <td>529.246948</td>\n",
       "      <td>516.771179</td>\n",
       "      <td>517.210022</td>\n",
       "      <td>517.210022</td>\n",
       "      <td>1904000</td>\n",
       "    </tr>\n",
       "    <tr>\n",
       "      <td>1</td>\n",
       "      <td>2015-01-28</td>\n",
       "      <td>521.348633</td>\n",
       "      <td>521.558044</td>\n",
       "      <td>508.603638</td>\n",
       "      <td>508.603638</td>\n",
       "      <td>508.603638</td>\n",
       "      <td>1683800</td>\n",
       "    </tr>\n",
       "    <tr>\n",
       "      <td>2</td>\n",
       "      <td>2015-01-29</td>\n",
       "      <td>509.600891</td>\n",
       "      <td>509.690643</td>\n",
       "      <td>499.827728</td>\n",
       "      <td>509.261810</td>\n",
       "      <td>509.261810</td>\n",
       "      <td>4186300</td>\n",
       "    </tr>\n",
       "    <tr>\n",
       "      <td>3</td>\n",
       "      <td>2015-01-30</td>\n",
       "      <td>514.447571</td>\n",
       "      <td>538.391846</td>\n",
       "      <td>514.108521</td>\n",
       "      <td>533.056519</td>\n",
       "      <td>533.056519</td>\n",
       "      <td>5606300</td>\n",
       "    </tr>\n",
       "    <tr>\n",
       "      <td>4</td>\n",
       "      <td>2015-02-02</td>\n",
       "      <td>530.274109</td>\n",
       "      <td>531.540649</td>\n",
       "      <td>517.130249</td>\n",
       "      <td>527.033020</td>\n",
       "      <td>527.033020</td>\n",
       "      <td>2849800</td>\n",
       "    </tr>\n",
       "  </tbody>\n",
       "</table>\n",
       "</div>"
      ],
      "text/plain": [
       "         Date        Open        High         Low       Close   Adj Close  \\\n",
       "0  2015-01-27  528.518921  529.246948  516.771179  517.210022  517.210022   \n",
       "1  2015-01-28  521.348633  521.558044  508.603638  508.603638  508.603638   \n",
       "2  2015-01-29  509.600891  509.690643  499.827728  509.261810  509.261810   \n",
       "3  2015-01-30  514.447571  538.391846  514.108521  533.056519  533.056519   \n",
       "4  2015-02-02  530.274109  531.540649  517.130249  527.033020  527.033020   \n",
       "\n",
       "    Volume  \n",
       "0  1904000  \n",
       "1  1683800  \n",
       "2  4186300  \n",
       "3  5606300  \n",
       "4  2849800  "
      ]
     },
     "execution_count": 5,
     "metadata": {},
     "output_type": "execute_result"
    }
   ],
   "source": [
    "google_finance = pd.read_csv('GOOG.csv')\n",
    "google_finance.head()"
   ]
  },
  {
   "cell_type": "code",
   "execution_count": 6,
   "metadata": {
    "scrolled": true
   },
   "outputs": [
    {
     "ename": "IndexError",
     "evalue": "list index out of range",
     "output_type": "error",
     "traceback": [
      "\u001b[1;31m---------------------------------------------------------------------------\u001b[0m",
      "\u001b[1;31mIndexError\u001b[0m                                Traceback (most recent call last)",
      "\u001b[1;32m<ipython-input-6-d5b554ef1b41>\u001b[0m in \u001b[0;36m<module>\u001b[1;34m\u001b[0m\n\u001b[0;32m      2\u001b[0m \u001b[0mindex\u001b[0m\u001b[1;33m=\u001b[0m\u001b[1;36m0\u001b[0m\u001b[1;33m\u001b[0m\u001b[1;33m\u001b[0m\u001b[0m\n\u001b[0;32m      3\u001b[0m \u001b[1;32mwhile\u001b[0m \u001b[0mindex\u001b[0m\u001b[1;33m<\u001b[0m\u001b[1;36m700\u001b[0m \u001b[1;33m:\u001b[0m\u001b[1;33m\u001b[0m\u001b[1;33m\u001b[0m\u001b[0m\n\u001b[1;32m----> 4\u001b[1;33m     \u001b[0mgetiri\u001b[0m\u001b[1;33m.\u001b[0m\u001b[0mappend\u001b[0m\u001b[1;33m(\u001b[0m\u001b[1;33m(\u001b[0m\u001b[1;33m[\u001b[0m\u001b[1;34m\"Open\"\u001b[0m\u001b[1;33m]\u001b[0m\u001b[1;33m[\u001b[0m\u001b[0mindex\u001b[0m\u001b[1;33m+\u001b[0m\u001b[1;36m1\u001b[0m\u001b[1;33m]\u001b[0m\u001b[1;33m-\u001b[0m\u001b[1;33m[\u001b[0m\u001b[1;34m\"Open\"\u001b[0m\u001b[1;33m]\u001b[0m\u001b[1;33m[\u001b[0m\u001b[0mindex\u001b[0m\u001b[1;33m]\u001b[0m\u001b[1;33m)\u001b[0m\u001b[1;33m/\u001b[0m\u001b[1;33m[\u001b[0m\u001b[1;34m\"Open\"\u001b[0m\u001b[1;33m]\u001b[0m\u001b[1;33m[\u001b[0m\u001b[0mindex\u001b[0m\u001b[1;33m]\u001b[0m\u001b[1;33m)\u001b[0m\u001b[1;33m\u001b[0m\u001b[1;33m\u001b[0m\u001b[0m\n\u001b[0m\u001b[0;32m      5\u001b[0m     \u001b[0mindex\u001b[0m\u001b[1;33m+\u001b[0m\u001b[1;36m1\u001b[0m\u001b[1;33m\u001b[0m\u001b[1;33m\u001b[0m\u001b[0m\n\u001b[0;32m      6\u001b[0m \u001b[0mprint\u001b[0m\u001b[1;33m(\u001b[0m\u001b[0mgetiri\u001b[0m\u001b[1;33m)\u001b[0m\u001b[1;33m\u001b[0m\u001b[1;33m\u001b[0m\u001b[0m\n",
      "\u001b[1;31mIndexError\u001b[0m: list index out of range"
     ]
    }
   ],
   "source": [
    "getiri=[]\n",
    "index=0\n",
    "while index<700 :\n",
    "    getiri.append(([\"Open\"][index+1]-[\"Open\"][index])/[\"Open\"][index])\n",
    "    index+1\n",
    "print(getiri)"
   ]
  },
  {
   "cell_type": "code",
   "execution_count": 7,
   "metadata": {
    "scrolled": true
   },
   "outputs": [
    {
     "name": "stdout",
     "output_type": "stream",
     "text": [
      "[*********************100%***********************]  1 of 1 completed\n"
     ]
    }
   ],
   "source": [
    "import yfinance as yf\n",
    "google = yf.download(\"GOOG\", start=\"2015-01-01\", end=\"2017-01-01\")"
   ]
  },
  {
   "cell_type": "code",
   "execution_count": 8,
   "metadata": {},
   "outputs": [
    {
     "data": {
      "text/plain": [
       "(array([  1.,   0.,   0.,   2.,   2.,  31., 235., 204.,  26.,   3.]),\n",
       " array([-0.93080017, -0.79735016, -0.66390015, -0.53045013, -0.39700012,\n",
       "        -0.26355011, -0.1301001 ,  0.00334991,  0.13679993,  0.27024994,\n",
       "         0.40369995]),\n",
       " <a list of 10 Patch objects>)"
      ]
     },
     "execution_count": 8,
     "metadata": {},
     "output_type": "execute_result"
    },
    {
     "data": {
      "image/png": "[encoded data removed]",
      "text/plain": [
       "<Figure size 432x288 with 1 Axes>"
      ]
     },
     "metadata": {
      "needs_background": "light"
     },
     "output_type": "display_data"
    }
   ],
   "source": [
    "artıs = (google.Close.shift()-google.Close)/100\n",
    "plt.hist(artıs)"
   ]
  },
  {
   "cell_type": "code",
   "execution_count": 29,
   "metadata": {
    "scrolled": true
   },
   "outputs": [
    {
     "data": {
      "image/png": "[encoded data removed]",
      "text/plain": [
       "<Figure size 1000x400 with 1 Axes>"
      ]
     },
     "metadata": {
      "needs_background": "light"
     },
     "output_type": "display_data"
    }
   ],
   "source": [
    "from scipy import stats\n",
    "import matplotlib.pyplot as plt\n",
    "nsample=100\n",
    "plt.figure(figsize=(10,4), dpi = 100)\n",
    "artıs = stats.loggamma.rvs(c=2.5, size=500)\n",
    "res = stats.probplot(artıs, plot=plt)\n",
    "plt.title(\"Q-Q Çizgesi\", c=\"darkred\", weight=\"bold\", size=14)\n",
    "plt.xlabel(\"Teorik Değerler\")\n",
    "plt.ylabel(\"Artıs Değerleri\")\n",
    "plt.show()"
   ]
  },
  {
   "cell_type": "markdown",
   "metadata": {},
   "source": [
    "GOOGLE HİSSELERİNDEKİ ARTIŞIN NORMAL DAĞILIMA YAKIN OLDUĞU QQ GRAFİĞİ İLE SABİTTİR."
   ]
  },
  {
   "cell_type": "markdown",
   "metadata": {},
   "source": [
    "BİTTİ."
   ]
  }
 ],
 "metadata": {
  "kernelspec": {
   "display_name": "Python 3",
   "language": "python",
   "name": "python3"
  },
  "language_info": {
   "codemirror_mode": {
    "name": "ipython",
    "version": 3
   },
   "file_extension": ".py",
   "mimetype": "text/x-python",
   "name": "python",
   "nbconvert_exporter": "python",
   "pygments_lexer": "ipython3",
   "version": "3.7.4"
  }
 },
 "nbformat": 4,
 "nbformat_minor": 2
}
