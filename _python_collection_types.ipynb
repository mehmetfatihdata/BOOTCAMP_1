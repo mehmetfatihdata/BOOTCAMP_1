{
 "cells": [
  {
   "cell_type": "code",
   "execution_count": 1,
   "metadata": {},
   "outputs": [
    {
     "name": "stdout",
     "output_type": "stream",
     "text": [
      "['I', ' ', 'q', 'u', 'i', 't', ' ', 's', 'm', 'o', 'k', 'i', 'n', 'g']\n",
      "['I quit smoking']\n"
     ]
    }
   ],
   "source": [
    "string_1 = 'I quit smoking'\n",
    "\n",
    "new_list_1 = list(string_1)  # we created multi element list\n",
    "print(new_list_1)\n",
    "\n",
    "new_list_2 = [string_1]  # this is a single element list\n",
    "print(new_list_2)\n"
   ]
  },
  {
   "cell_type": "code",
   "execution_count": 2,
   "metadata": {},
   "outputs": [
    {
     "data": {
      "text/plain": [
       "['a', 'h', 'm', 'e', 't']"
      ]
     },
     "execution_count": 2,
     "metadata": {},
     "output_type": "execute_result"
    }
   ],
   "source": [
    "liste1 = list(\"ahmet\")\n",
    "liste1\n"
   ]
  },
  {
   "cell_type": "code",
   "execution_count": 3,
   "metadata": {},
   "outputs": [
    {
     "data": {
      "text/plain": [
       "['ahmet']"
      ]
     },
     "execution_count": 3,
     "metadata": {},
     "output_type": "execute_result"
    }
   ],
   "source": [
    "liste2 = [\"ahmet\"]\n",
    "liste2\n"
   ]
  },
  {
   "cell_type": "code",
   "execution_count": 4,
   "metadata": {},
   "outputs": [
    {
     "name": "stdout",
     "output_type": "stream",
     "text": [
      "['New York', 'London', 'Stockholm', 'Istanbul', 'Seoul', 'Sydney', 'Addis Ababa']\n"
     ]
    }
   ],
   "source": [
    "city = ['New York', 'London', 'Istanbul', 'Seoul', 'Sydney', 'Addis Ababa']\n",
    "city.insert(2, 'Stockholm')\n",
    "\n",
    "print(city)\n"
   ]
  },
  {
   "cell_type": "code",
   "execution_count": 5,
   "metadata": {},
   "outputs": [
    {
     "name": "stdout",
     "output_type": "stream",
     "text": [
      "['New York', 'Stockholm', 'Istanbul', 'Seoul', 'Sydney', 'Addis Ababa']\n"
     ]
    }
   ],
   "source": [
    "city = ['New York', 'London', 'Stockholm', 'Istanbul', 'Seoul', 'Sydney', 'Addis Ababa']\n",
    "city.remove('London')\n",
    "print(city)  # we have deleted 'London'"
   ]
  },
  {
   "cell_type": "code",
   "execution_count": 6,
   "metadata": {},
   "outputs": [
    {
     "data": {
      "text/plain": [
       "['', 'Stockholm', 'Istanbul', 'Seoul', 'Sydney', 'Addis Ababa']"
      ]
     },
     "execution_count": 6,
     "metadata": {},
     "output_type": "execute_result"
    }
   ],
   "source": [
    "city[0] = \"\"\n",
    "city"
   ]
  },
  {
   "cell_type": "code",
   "execution_count": 7,
   "metadata": {},
   "outputs": [
    {
     "name": "stdout",
     "output_type": "stream",
     "text": [
      "['Addis Ababa', 'Istanbul', 'New York', 'Seoul', 'Stockholm', 'Sydney']\n"
     ]
    }
   ],
   "source": [
    "city = ['New York', 'Stockholm', 'Istanbul', 'Seoul', 'Sydney', 'Addis Ababa']\n",
    "city.sort()  # lists the items in alphabetical order\n",
    "print(city)   \n"
   ]
  },
  {
   "cell_type": "code",
   "execution_count": 8,
   "metadata": {},
   "outputs": [
    {
     "name": "stdout",
     "output_type": "stream",
     "text": [
      "6\n"
     ]
    }
   ],
   "source": [
    "city = ['Addis Ababa', 'Istanbul', 'New York', 'Seoul', 'Stockholm', 'Sydney']\n",
    "print(len(city))\n"
   ]
  },
  {
   "cell_type": "code",
   "execution_count": 9,
   "metadata": {},
   "outputs": [
    {
     "name": "stdout",
     "output_type": "stream",
     "text": [
      "[1, 3, 5, 7, 1, 3, 5, 7, 1, 3, 5, 7]\n"
     ]
    }
   ],
   "source": [
    "my_list = [1, 3, 5, 7]\n",
    "print(my_list * 3)"
   ]
  },
  {
   "cell_type": "code",
   "execution_count": 10,
   "metadata": {},
   "outputs": [
    {
     "data": {
      "text/plain": [
       "1"
      ]
     },
     "execution_count": 10,
     "metadata": {},
     "output_type": "execute_result"
    }
   ],
   "source": [
    "city.index(\"Istanbul\", 1, 10)"
   ]
  },
  {
   "cell_type": "code",
   "execution_count": 11,
   "metadata": {},
   "outputs": [
    {
     "data": {
      "text/plain": [
       "['Istanbul', 'New York', 'Seoul', 'Stockholm', 'Sydney']"
      ]
     },
     "execution_count": 11,
     "metadata": {},
     "output_type": "execute_result"
    }
   ],
   "source": [
    "del(city[0])\n",
    "city"
   ]
  },
  {
   "cell_type": "code",
   "execution_count": 12,
   "metadata": {},
   "outputs": [
    {
     "data": {
      "text/plain": [
       "['New York',\n",
       " 'Stockholm',\n",
       " 'Istanbul',\n",
       " 'Seoul',\n",
       " 'Sydney',\n",
       " 'Istanbul, Ankara',\n",
       " 'Addis Ababa']"
      ]
     },
     "execution_count": 12,
     "metadata": {},
     "output_type": "execute_result"
    }
   ],
   "source": [
    "city = ['New York', 'Stockholm', 'Istanbul', 'Seoul', 'Sydney', (\"Istanbul, Ankara\"),'Addis Ababa']\n",
    "city\n"
   ]
  },
  {
   "cell_type": "code",
   "execution_count": 13,
   "metadata": {},
   "outputs": [
    {
     "data": {
      "text/plain": [
       "['New York', 'Stockholm', 'Istanbul', 'Seoul', 'Sydney', 'Istanbul, Ankara']"
      ]
     },
     "execution_count": 13,
     "metadata": {},
     "output_type": "execute_result"
    }
   ],
   "source": [
    "city.pop()\n",
    "city\n"
   ]
  },
  {
   "cell_type": "code",
   "execution_count": 14,
   "metadata": {},
   "outputs": [
    {
     "name": "stdout",
     "output_type": "stream",
     "text": [
      "[['New York', 'London', 'Istanbul', 'Seoul', 'Sydney']]\n"
     ]
    }
   ],
   "source": [
    "city = ['New York', 'London', 'Istanbul', 'Seoul', 'Sydney']\n",
    "\n",
    "city_list = []\n",
    "city_list.append(city) # we have created a nested list\n",
    "\n",
    "print(city_list)\n"
   ]
  },
  {
   "cell_type": "code",
   "execution_count": 15,
   "metadata": {},
   "outputs": [
    {
     "data": {
      "text/plain": [
       "['New York', 'London', 'Istanbul', 'Seoul', 'Sydney']"
      ]
     },
     "execution_count": 15,
     "metadata": {},
     "output_type": "execute_result"
    }
   ],
   "source": [
    "city_list[0]"
   ]
  },
  {
   "cell_type": "code",
   "execution_count": 16,
   "metadata": {},
   "outputs": [
    {
     "data": {
      "text/plain": [
       "'Istanbul'"
      ]
     },
     "execution_count": 16,
     "metadata": {},
     "output_type": "execute_result"
    }
   ],
   "source": [
    "city_list[0][2]"
   ]
  },
  {
   "cell_type": "code",
   "execution_count": 17,
   "metadata": {},
   "outputs": [
    {
     "data": {
      "text/plain": [
       "'a'"
      ]
     },
     "execution_count": 17,
     "metadata": {},
     "output_type": "execute_result"
    }
   ],
   "source": [
    "city_list[0][2][3]"
   ]
  },
  {
   "cell_type": "code",
   "execution_count": 18,
   "metadata": {},
   "outputs": [
    {
     "name": "stdout",
     "output_type": "stream",
     "text": [
      "l\n"
     ]
    }
   ],
   "source": [
    "fruits = ['apple', 'banana', 'watermelon', 'orange', 'mango', 'avocado']\n",
    "\n",
    "fruit_list = []\n",
    "fruit_list.insert(0, fruits)\n",
    "print(fruit_list[0][2][7])"
   ]
  },
  {
   "cell_type": "code",
   "execution_count": 21,
   "metadata": {},
   "outputs": [
    {
     "name": "stdout",
     "output_type": "stream",
     "text": [
      "1\n"
     ]
    }
   ],
   "source": [
    "print(len([[\"ahmet\", 12, 34, 56]]))"
   ]
  },
  {
   "cell_type": "code",
   "execution_count": 22,
   "metadata": {},
   "outputs": [
    {
     "name": "stdout",
     "output_type": "stream",
     "text": [
      " wo\n"
     ]
    }
   ],
   "source": [
    "example = \"snow world\"\n",
    "print(\"%s\" % example[4:7])"
   ]
  },
  {
   "cell_type": "code",
   "execution_count": 23,
   "metadata": {},
   "outputs": [
    {
     "name": "stdout",
     "output_type": "stream",
     "text": [
      "c\n"
     ]
    }
   ],
   "source": [
    "print(chr(ord('b')+1))\n"
   ]
  },
  {
   "cell_type": "code",
   "execution_count": 31,
   "metadata": {},
   "outputs": [
    {
     "data": {
      "text/plain": [
       "'a'"
      ]
     },
     "execution_count": 31,
     "metadata": {},
     "output_type": "execute_result"
    }
   ],
   "source": [
    "chr(97)"
   ]
  },
  {
   "cell_type": "code",
   "execution_count": 32,
   "metadata": {},
   "outputs": [
    {
     "data": {
      "text/plain": [
       "43"
      ]
     },
     "execution_count": 32,
     "metadata": {},
     "output_type": "execute_result"
    }
   ],
   "source": [
    "ord(\"+\")"
   ]
  },
  {
   "cell_type": "code",
   "execution_count": 24,
   "metadata": {},
   "outputs": [
    {
     "name": "stdout",
     "output_type": "stream",
     "text": [
      "Welcome   # 111#       924.66\n"
     ]
    }
   ],
   "source": [
    "print(format(\"Welcome\", \"10s\"), end = '#')\n",
    "print(format(111, \"4d\"), end = '#')\n",
    "print(format(924.656, \"13.2f\"))\n"
   ]
  },
  {
   "cell_type": "code",
   "execution_count": 25,
   "metadata": {},
   "outputs": [
    {
     "name": "stdout",
     "output_type": "stream",
     "text": [
      "       111#"
     ]
    }
   ],
   "source": [
    "print(format(111, \"10\"), end = '#')"
   ]
  },
  {
   "cell_type": "code",
   "execution_count": 26,
   "metadata": {},
   "outputs": [
    {
     "name": "stdout",
     "output_type": "stream",
     "text": [
      "       924.66\n"
     ]
    }
   ],
   "source": [
    "print(format(924.656, \"13.2f\"))"
   ]
  },
  {
   "cell_type": "code",
   "execution_count": 27,
   "metadata": {},
   "outputs": [
    {
     "name": "stdout",
     "output_type": "stream",
     "text": [
      "*                                  abcdef                                 *\n"
     ]
    }
   ],
   "source": [
    "print('*', \"abcdef\".center(71), '*')"
   ]
  },
  {
   "cell_type": "code",
   "execution_count": 28,
   "metadata": {},
   "outputs": [
    {
     "name": "stdout",
     "output_type": "stream",
     "text": [
      "2\n"
     ]
    }
   ],
   "source": [
    "print(\"xyyzxyzxzxyy\".count(\"yy\",1))\n"
   ]
  },
  {
   "cell_type": "code",
   "execution_count": 29,
   "metadata": {},
   "outputs": [
    {
     "name": "stdout",
     "output_type": "stream",
     "text": [
      "True\n"
     ]
    }
   ],
   "source": [
    "print(\"xyyzxyzxzxyy\".endswith(\"xyy\", 0, 3))\n"
   ]
  },
  {
   "cell_type": "code",
   "execution_count": 30,
   "metadata": {},
   "outputs": [
    {
     "name": "stdout",
     "output_type": "stream",
     "text": [
      "<class 'tuple'> (1, 4, 3, 4, 5, 6, 7, 4)\n"
     ]
    }
   ],
   "source": [
    "my_list = [1, 4, 3, 4, 5, 6, 7, 4]\n",
    "\n",
    "my_tuple = tuple(my_list)\n",
    "\n",
    "print(type(my_tuple), my_tuple)\n"
   ]
  },
  {
   "cell_type": "code",
   "execution_count": 31,
   "metadata": {},
   "outputs": [
    {
     "data": {
      "text/plain": [
       "(1, 4, 3, 4, 5, 6, 7, 4)"
      ]
     },
     "execution_count": 31,
     "metadata": {},
     "output_type": "execute_result"
    }
   ],
   "source": [
    "my_tuple"
   ]
  },
  {
   "cell_type": "code",
   "execution_count": 32,
   "metadata": {},
   "outputs": [
    {
     "name": "stdout",
     "output_type": "stream",
     "text": [
      "2\n"
     ]
    }
   ],
   "source": [
    "thistuple = (1, 3, 7, 8, 7, 5, 4, 6, 8, 5)\n",
    "\n",
    "x = thistuple.index(7)\n",
    "\n",
    "print(x)"
   ]
  },
  {
   "cell_type": "code",
   "execution_count": 33,
   "metadata": {},
   "outputs": [
    {
     "name": "stdout",
     "output_type": "stream",
     "text": [
      "2\n"
     ]
    }
   ],
   "source": [
    "thistuple = (1, 3, 7, 8, 7, 5, 4, 6, 8, 5)\n",
    "\n",
    "x = thistuple.count(7)\n",
    "\n",
    "print(x)"
   ]
  },
  {
   "cell_type": "code",
   "execution_count": 34,
   "metadata": {},
   "outputs": [
    {
     "name": "stdout",
     "output_type": "stream",
     "text": [
      "[9, 8, 7, 6, 5, 4, 3, 2, 1]\n"
     ]
    }
   ],
   "source": [
    "liste = list(range(1,10))\n",
    "my_list = liste[::-1]\n",
    "print(my_list)"
   ]
  },
  {
   "cell_type": "code",
   "execution_count": 35,
   "metadata": {},
   "outputs": [
    {
     "data": {
      "text/plain": [
       "['Mitsubishi', 'Ford', 'BMW', 'VW']"
      ]
     },
     "execution_count": 35,
     "metadata": {},
     "output_type": "execute_result"
    }
   ],
   "source": [
    "# A function that returns the length of the value:\n",
    "def myFunc(e):\n",
    "      return len(e)\n",
    "\n",
    "cars = ['Ford', 'Mitsubishi', 'BMW', 'VW']\n",
    "\n",
    "cars.sort(reverse=True, key=myFunc)\n",
    "cars"
   ]
  },
  {
   "cell_type": "code",
   "execution_count": 50,
   "metadata": {},
   "outputs": [],
   "source": [
    "cars = ['Ford', 'BMW', 'Volvo']\n",
    "\n",
    "sortede = cars.sort(reverse=True)\n",
    "sortede"
   ]
  },
  {
   "cell_type": "code",
   "execution_count": 36,
   "metadata": {},
   "outputs": [
    {
     "name": "stdout",
     "output_type": "stream",
     "text": [
      "['Volvo', 'Ford', 'BMW']\n"
     ]
    }
   ],
   "source": [
    "cars = ['Ford', 'BMW', 'Volvo']\n",
    "\n",
    "cars.sort(reverse=True)\n",
    "\n",
    "print(cars)"
   ]
  },
  {
   "cell_type": "code",
   "execution_count": 37,
   "metadata": {},
   "outputs": [
    {
     "name": "stdout",
     "output_type": "stream",
     "text": [
      "[10, 9, 8, 7, 6, 5, 4, 3, 2, 1]\n"
     ]
    }
   ],
   "source": [
    "sayı = list(range(1,11))\n",
    "sayı.sort(reverse=True)\n",
    "print(sayı)\n"
   ]
  },
  {
   "cell_type": "code",
   "execution_count": 38,
   "metadata": {},
   "outputs": [
    {
     "name": "stdout",
     "output_type": "stream",
     "text": [
      "['eggplant', 'spinach', 'leek']\n"
     ]
    }
   ],
   "source": [
    "grocer = [\"banana\", [\"orange\", [\"apple\", \"eggplant\", \"melon\", \"spinach\", \"cheese\", \"leek\" ], \"water\"], \"mandarin\"]\n",
    "\n",
    "print(grocer[1][1][1::2])"
   ]
  },
  {
   "cell_type": "code",
   "execution_count": 39,
   "metadata": {},
   "outputs": [
    {
     "name": "stdout",
     "output_type": "stream",
     "text": [
      "My two favorite flowers are tulip and rose, two favorite colors are blue and green.\n"
     ]
    }
   ],
   "source": [
    "flowers = [[\"jasmine\", [\"lavender\", \"rose\"], \"tulip\"]]\n",
    "colors = [\"red\", (\"blue\", [\"yellow\", \"green\"]), \"pink\"]\n",
    "text = \"My two favorite flowers are {} and {}, two favorite colors are {} and {}.\".format(\n",
    "    flowers[0][2],flowers[0][1][1],colors[1][0],colors[1][1][1]\n",
    ")\n",
    "print(text)\n"
   ]
  },
  {
   "cell_type": "code",
   "execution_count": 40,
   "metadata": {},
   "outputs": [
    {
     "name": "stdout",
     "output_type": "stream",
     "text": [
      "Abckr.  Trşuyışıçhl.  Yşrpofok.  Fçllgotıkf..  Dkefglşrşg.  "
     ]
    }
   ],
   "source": [
    "txt = \"abckr trşuyışıçhl yşrpofok fçllgotıkf. dkefglşrşg\"\n",
    "txt1 = txt.split(\" \")\n",
    "for i in txt1:\n",
    "      print(i.capitalize()+\". \", end=\" \")"
   ]
  },
  {
   "cell_type": "code",
   "execution_count": 41,
   "metadata": {},
   "outputs": [
    {
     "data": {
      "text/plain": [
       "['abckr', 'trşuyışıçhl', 'yşrpofok', 'fçllgotıkf.', 'dkefglşrşg']"
      ]
     },
     "execution_count": 41,
     "metadata": {},
     "output_type": "execute_result"
    }
   ],
   "source": [
    "txt = \"abckr trşuyışıçhl yşrpofok fçllgotıkf. dkefglşrşg\"\n",
    "txt1 = txt.split(\" \")\n",
    "txt1"
   ]
  },
  {
   "cell_type": "code",
   "execution_count": 42,
   "metadata": {},
   "outputs": [
    {
     "data": {
      "text/plain": [
       "' trşuyışıçhl yşrpofok fçllgotıkf. dkefglşrşg'"
      ]
     },
     "execution_count": 42,
     "metadata": {},
     "output_type": "execute_result"
    }
   ],
   "source": [
    "txt.strip(\"abckr\")"
   ]
  },
  {
   "cell_type": "code",
   "execution_count": 43,
   "metadata": {},
   "outputs": [
    {
     "name": "stdout",
     "output_type": "stream",
     "text": [
      "abcd12312313abcd\n",
      "12312313\n"
     ]
    }
   ],
   "source": [
    "t = 'abcd12312313abcd'\n",
    "print(t.strip('123'))\n",
    "print(t.strip('abcd'))\n"
   ]
  },
  {
   "cell_type": "code",
   "execution_count": 44,
   "metadata": {},
   "outputs": [
    {
     "name": "stdout",
     "output_type": "stream",
     "text": [
      "Denver\n"
     ]
    }
   ],
   "source": [
    "state_capitals = {'Arkansas': 'Little Rock',\n",
    "                  'Colorado': 'Denver',\n",
    "                  'California': 'Sacramento',\n",
    "                  'Georgia': 'Atlanta' \n",
    "                 }\n",
    "\n",
    "print(state_capitals['Colorado']) # accessing method\n"
   ]
  },
  {
   "cell_type": "code",
   "execution_count": 45,
   "metadata": {},
   "outputs": [
    {
     "name": "stdout",
     "output_type": "stream",
     "text": [
      "{'Arkansas': 'Little Rock', 'Virginia': 'Richmond'}\n"
     ]
    }
   ],
   "source": [
    "state_capitals = {'Arkansas': 'Little Rock'}\n",
    "state_capitals['Virginia'] = 'Richmond' # adding a new item\n",
    "\n",
    "print(state_capitals)\n"
   ]
  },
  {
   "cell_type": "code",
   "execution_count": 46,
   "metadata": {},
   "outputs": [
    {
     "name": "stdout",
     "output_type": "stream",
     "text": [
      "{'Arkansas': 'Little Rock', 'Virginia': 'Richmond'}\n"
     ]
    }
   ],
   "source": [
    "state_capitals = {'Arkansas': 'Little Rock'}\n",
    "state_capitals.update({'Virginia' : 'Richmond'}) # adding a new item\n",
    "\n",
    "print(state_capitals)"
   ]
  },
  {
   "cell_type": "code",
   "execution_count": 25,
   "metadata": {},
   "outputs": [
    {
     "name": "stdout",
     "output_type": "stream",
     "text": [
      "{'Arkansas': 'Little Rock', 'Virginia': 'California'}\n"
     ]
    }
   ],
   "source": [
    "state_capitals = {'Arkansas': 'Little Rock'}\n",
    "state_capitals.update({'Virginia' : 'California'}) # adding a new item\n",
    "\n",
    "print(state_capitals)"
   ]
  },
  {
   "cell_type": "code",
   "execution_count": 48,
   "metadata": {},
   "outputs": [
    {
     "name": "stdout",
     "output_type": "stream",
     "text": [
      "{'Virginia': 'Richmond'}\n"
     ]
    }
   ],
   "source": [
    "state_capitals = {'Arkansas': 'Little Rock'}\n",
    "state_capitals.update({'Virginia' : 'Richmond'}) # adding a new item\n",
    "\n",
    "del (state_capitals[\"Arkansas\"])\n",
    "\n",
    "print(state_capitals)"
   ]
  },
  {
   "cell_type": "code",
   "execution_count": 49,
   "metadata": {},
   "outputs": [
    {
     "name": "stdout",
     "output_type": "stream",
     "text": [
      "True\n",
      "True\n",
      "False\n"
     ]
    }
   ],
   "source": [
    "dict_by_dict = {'planet': 'neptun',\n",
    "               'number': 40,\n",
    "               'pi': 3.14,}\n",
    "\n",
    "print('pi' in dict_by_dict) \n",
    "print(40 not in dict_by_dict)\n",
    "print('number' not in dict_by_dict)\n"
   ]
  },
  {
   "cell_type": "code",
   "execution_count": 50,
   "metadata": {},
   "outputs": [
    {
     "name": "stdout",
     "output_type": "stream",
     "text": [
      "neptun\n"
     ]
    }
   ],
   "source": [
    "print(dict_by_dict[\"planet\"])"
   ]
  },
  {
   "cell_type": "code",
   "execution_count": 51,
   "metadata": {},
   "outputs": [
    {
     "name": "stdout",
     "output_type": "stream",
     "text": [
      "{'violet', 'orchid', 'carnation', 'rose'}\n",
      "['violet', 'orchid', 'carnation', 'rose']\n"
     ]
    }
   ],
   "source": [
    "flower_list = ['rose', 'violet', 'carnation', 'rose', 'orchid', 'rose', 'orchid']\n",
    "flowerset = set(flower_list)\n",
    "flowerlist = list(flowerset)\n",
    "\n",
    "print(flowerset) \n",
    "print(flowerlist)"
   ]
  },
  {
   "cell_type": "code",
   "execution_count": 52,
   "metadata": {},
   "outputs": [
    {
     "name": "stdout",
     "output_type": "stream",
     "text": [
      "36\n"
     ]
    }
   ],
   "source": [
    "print(0xD + 0xB + 0xC)"
   ]
  },
  {
   "cell_type": "code",
   "execution_count": 53,
   "metadata": {},
   "outputs": [
    {
     "name": "stdout",
     "output_type": "stream",
     "text": [
      "hello/n\n"
     ]
    }
   ],
   "source": [
    "print(r\"hello/n\")\n"
   ]
  },
  {
   "cell_type": "code",
   "execution_count": 14,
   "metadata": {},
   "outputs": [
    {
     "name": "stdout",
     "output_type": "stream",
     "text": [
      "newline\n"
     ]
    }
   ],
   "source": [
    "print(\"new\" \"line\")"
   ]
  },
  {
   "cell_type": "code",
   "execution_count": 54,
   "metadata": {},
   "outputs": [
    {
     "ename": "SyntaxError",
     "evalue": "invalid syntax (<ipython-input-54-693762d2e4e6>, line 1)",
     "output_type": "error",
     "traceback": [
      "\u001b[1;36m  File \u001b[1;32m\"<ipython-input-54-693762d2e4e6>\"\u001b[1;36m, line \u001b[1;32m1\u001b[0m\n\u001b[1;33m    print(\"new\" \"line\" \"end\" 3)\u001b[0m\n\u001b[1;37m                             ^\u001b[0m\n\u001b[1;31mSyntaxError\u001b[0m\u001b[1;31m:\u001b[0m invalid syntax\n"
     ]
    }
   ],
   "source": [
    "print(\"new\" \"line\" \"end\" 3)"
   ]
  },
  {
   "cell_type": "code",
   "execution_count": 55,
   "metadata": {},
   "outputs": [
    {
     "data": {
      "text/plain": [
       "['rose', 'rose']"
      ]
     },
     "execution_count": 55,
     "metadata": {},
     "output_type": "execute_result"
    }
   ],
   "source": [
    "flower_list = ['rose', 'violet', 'carnation', 'rose', 'orchid', 'rose', 'orchid']\n",
    "flower_list[1:] = ['rose']\n",
    "\n",
    "flower_list"
   ]
  },
  {
   "cell_type": "code",
   "execution_count": 56,
   "metadata": {},
   "outputs": [
    {
     "data": {
      "text/plain": [
       "['rose', 'r', 'o', 's', 'e']"
      ]
     },
     "execution_count": 56,
     "metadata": {},
     "output_type": "execute_result"
    }
   ],
   "source": [
    "flower_list = ['rose', 'violet', 'carnation', 'rose', 'orchid', 'rose', 'orchid']\n",
    "flower_list[1:] = 'rose'\n",
    "\n",
    "flower_list"
   ]
  },
  {
   "cell_type": "code",
   "execution_count": 57,
   "metadata": {},
   "outputs": [],
   "source": [
    "first_dict = {1: \"one\", \"two\" :2, False : [1, 2, 3]}"
   ]
  },
  {
   "cell_type": "code",
   "execution_count": 58,
   "metadata": {},
   "outputs": [
    {
     "data": {
      "text/plain": [
       "{1: 'one', 'two': 2, False: [1, 2, 3]}"
      ]
     },
     "execution_count": 58,
     "metadata": {},
     "output_type": "execute_result"
    }
   ],
   "source": [
    "first_dict\n"
   ]
  },
  {
   "cell_type": "code",
   "execution_count": 59,
   "metadata": {},
   "outputs": [
    {
     "data": {
      "text/plain": [
       "2"
      ]
     },
     "execution_count": 59,
     "metadata": {},
     "output_type": "execute_result"
    }
   ],
   "source": [
    "first_dict[\"two\"]"
   ]
  },
  {
   "cell_type": "code",
   "execution_count": 60,
   "metadata": {},
   "outputs": [
    {
     "ename": "SyntaxError",
     "evalue": "invalid syntax (<ipython-input-60-66d4ded58147>, line 1)",
     "output_type": "error",
     "traceback": [
      "\u001b[1;36m  File \u001b[1;32m\"<ipython-input-60-66d4ded58147>\"\u001b[1;36m, line \u001b[1;32m1\u001b[0m\n\u001b[1;33m    second {[1, 2, 3] : \"two\", 1 :\"one\"} # key can not be a list\u001b[0m\n\u001b[1;37m           ^\u001b[0m\n\u001b[1;31mSyntaxError\u001b[0m\u001b[1;31m:\u001b[0m invalid syntax\n"
     ]
    }
   ],
   "source": [
    "second {[1, 2, 3] : \"two\", 1 :\"one\"} # key can not be a list "
   ]
  },
  {
   "cell_type": "code",
   "execution_count": 61,
   "metadata": {},
   "outputs": [
    {
     "ename": "SyntaxError",
     "evalue": "EOL while scanning string literal (<ipython-input-61-291a927ff0e5>, line 1)",
     "output_type": "error",
     "traceback": [
      "\u001b[1;36m  File \u001b[1;32m\"<ipython-input-61-291a927ff0e5>\"\u001b[1;36m, line \u001b[1;32m1\u001b[0m\n\u001b[1;33m    third = {fruit :\"banana\", vegetable : spanich\"}\u001b[0m\n\u001b[1;37m                                                   ^\u001b[0m\n\u001b[1;31mSyntaxError\u001b[0m\u001b[1;31m:\u001b[0m EOL while scanning string literal\n"
     ]
    }
   ],
   "source": [
    "third = {fruit :\"banana\", vegetable : spanich\"}"
   ]
  },
  {
   "cell_type": "code",
   "execution_count": 62,
   "metadata": {},
   "outputs": [
    {
     "data": {
      "text/plain": [
       "{'fruit': 'banana', 'vegetable': 'spanich'}"
      ]
     },
     "execution_count": 62,
     "metadata": {},
     "output_type": "execute_result"
    }
   ],
   "source": [
    "third = dict(fruit = \"banana\", vegetable = \"spanich\") # key change to string type\n",
    "\n",
    "third\n"
   ]
  },
  {
   "cell_type": "code",
   "execution_count": 63,
   "metadata": {},
   "outputs": [
    {
     "ename": "SyntaxError",
     "evalue": "keyword can't be an expression (<ipython-input-63-6c7b9d6d0412>, line 1)",
     "output_type": "error",
     "traceback": [
      "\u001b[1;36m  File \u001b[1;32m\"<ipython-input-63-6c7b9d6d0412>\"\u001b[1;36m, line \u001b[1;32m1\u001b[0m\n\u001b[1;33m    four = dict(1 = \"one\", 2 = \"two\")\u001b[0m\n\u001b[1;37m               ^\u001b[0m\n\u001b[1;31mSyntaxError\u001b[0m\u001b[1;31m:\u001b[0m keyword can't be an expression\n"
     ]
    }
   ],
   "source": [
    "four = dict(1 = \"one\", 2 = \"two\")\n",
    "four\n"
   ]
  },
  {
   "cell_type": "code",
   "execution_count": 64,
   "metadata": {},
   "outputs": [
    {
     "data": {
      "text/plain": [
       "{'s': 'one', 't': 'two'}"
      ]
     },
     "execution_count": 64,
     "metadata": {},
     "output_type": "execute_result"
    }
   ],
   "source": [
    "four = dict(s = \"one\", t = \"two\")\n",
    "four"
   ]
  },
  {
   "cell_type": "code",
   "execution_count": 65,
   "metadata": {},
   "outputs": [
    {
     "name": "stdout",
     "output_type": "stream",
     "text": [
      "2\n",
      "one\n"
     ]
    }
   ],
   "source": [
    "print(first_dict[\"two\"])\n",
    "print(first_dict[1])"
   ]
  },
  {
   "cell_type": "code",
   "execution_count": 66,
   "metadata": {},
   "outputs": [
    {
     "data": {
      "text/plain": [
       "{1: 'ıstanbul', 2: 'ankara'}"
      ]
     },
     "execution_count": 66,
     "metadata": {},
     "output_type": "execute_result"
    }
   ],
   "source": [
    "city = \"ıstanbul\"\n",
    "capital = \"ankara\"\n",
    "cities = {1 : city, 2 : capital}\n",
    "cities\n"
   ]
  },
  {
   "cell_type": "code",
   "execution_count": 67,
   "metadata": {},
   "outputs": [
    {
     "name": "stdout",
     "output_type": "stream",
     "text": [
      "<class 'str'>\n"
     ]
    }
   ],
   "source": [
    "print(type(cities[2]))"
   ]
  },
  {
   "cell_type": "code",
   "execution_count": 36,
   "metadata": {},
   "outputs": [
    {
     "name": "stdout",
     "output_type": "stream",
     "text": [
      "{1: 'ıstanbul', 2: 'ankara', 'pop': 1000}\n",
      "<class 'str'>\n"
     ]
    }
   ],
   "source": [
    "cities [\"pop\"] = 1000\n",
    "print (cities)\n",
    "print (type(\"pop\"))\n"
   ]
  },
  {
   "cell_type": "code",
   "execution_count": 68,
   "metadata": {},
   "outputs": [
    {
     "data": {
      "text/plain": [
       "{1: 'ordu', 2: 'ankara'}"
      ]
     },
     "execution_count": 68,
     "metadata": {},
     "output_type": "execute_result"
    }
   ],
   "source": [
    "cities [1] = \"ordu\"\n",
    "cities"
   ]
  },
  {
   "cell_type": "code",
   "execution_count": 69,
   "metadata": {},
   "outputs": [
    {
     "name": "stdout",
     "output_type": "stream",
     "text": [
      "{'name1': 'mehmet', 'name2': 'melahat', 'name3': 'jesica'}\n"
     ]
    }
   ],
   "source": [
    "family = {\"name1\" : \"mehmet\", \n",
    "          \"name2\" : \"melahat\",\n",
    "          \"name3\" : \"jesica\"\n",
    "         }\n",
    "print(family)"
   ]
  },
  {
   "cell_type": "code",
   "execution_count": 70,
   "metadata": {},
   "outputs": [
    {
     "name": "stdout",
     "output_type": "stream",
     "text": [
      "{'name1': 'mehmet', 'name2': 'melahat', 'name3': 'jesica', 'name4': 'tom'}\n"
     ]
    }
   ],
   "source": [
    "family[\"name4\"] =\"tom\"\n",
    "print (family)\n"
   ]
  },
  {
   "cell_type": "code",
   "execution_count": 71,
   "metadata": {},
   "outputs": [
    {
     "name": "stdout",
     "output_type": "stream",
     "text": [
      "{'name1': 'mehmet', 'name2': 'melahat', 'name3': 'jesica', 'name4': 'tom'}\n"
     ]
    }
   ],
   "source": [
    "family = dict(name1 = \"mehmet\", \n",
    "          name2 = \"melahat\",\n",
    "          name3 = \"jesica\", \n",
    "              name4 = \"tom\"\n",
    "             )\n",
    "print(family)"
   ]
  },
  {
   "cell_type": "code",
   "execution_count": 72,
   "metadata": {},
   "outputs": [
    {
     "name": "stdout",
     "output_type": "stream",
     "text": [
      "[('name1', 'mehmet'), ('name2', 'melahat'), ('name3', 'jesica'), ('name4', 'tom')]\n",
      "['name1', 'name2', 'name3', 'name4']\n",
      "['mehmet', 'melahat', 'jesica', 'tom']\n"
     ]
    }
   ],
   "source": [
    "print (list(family.items()))\n",
    "print (list(family.keys()))\n",
    "print (list(family.values()))"
   ]
  },
  {
   "cell_type": "code",
   "execution_count": 73,
   "metadata": {},
   "outputs": [
    {
     "data": {
      "text/plain": [
       "{'name1': 'mehmet',\n",
       " 'name2': 'melahat',\n",
       " 'name3': 'jesica',\n",
       " 'name4': 'tom',\n",
       " 'name5': 'haydar'}"
      ]
     },
     "execution_count": 73,
     "metadata": {},
     "output_type": "execute_result"
    }
   ],
   "source": [
    "family.update({\"name5\" : \"haydar\"})\n",
    "family"
   ]
  },
  {
   "cell_type": "code",
   "execution_count": 74,
   "metadata": {},
   "outputs": [
    {
     "data": {
      "text/plain": [
       "{'name1': 'ali',\n",
       " 'name2': 'melahat',\n",
       " 'name3': 'jesica',\n",
       " 'name4': 'tom',\n",
       " 'name5': 'haydar',\n",
       " 'name6': 'salih',\n",
       " 'name7': 'jale'}"
      ]
     },
     "execution_count": 74,
     "metadata": {},
     "output_type": "execute_result"
    }
   ],
   "source": [
    "family.update({\"name1\" : \"ali\",\n",
    "               \"name6\" : \"salih\",\n",
    "               \"name7\" : \"jale\"\n",
    "              }\n",
    "             )\n",
    "family"
   ]
  },
  {
   "cell_type": "code",
   "execution_count": 75,
   "metadata": {},
   "outputs": [
    {
     "name": "stdout",
     "output_type": "stream",
     "text": [
      "{'name1': 'mehmet', 'name3': 'jesica', 'name4': 'tom'}\n"
     ]
    }
   ],
   "source": [
    "del family [\"name2\"]\n",
    "print(family)"
   ]
  },
  {
   "cell_type": "code",
   "execution_count": 75,
   "metadata": {},
   "outputs": [
    {
     "ename": "TypeError",
     "evalue": "unhashable type: 'list'",
     "output_type": "error",
     "traceback": [
      "\u001b[1;31m---------------------------------------------------------------------------\u001b[0m",
      "\u001b[1;31mTypeError\u001b[0m                                 Traceback (most recent call last)",
      "\u001b[1;32m<ipython-input-75-e27fc97fcc4b>\u001b[0m in \u001b[0;36m<module>\u001b[1;34m\u001b[0m\n\u001b[0;32m      1\u001b[0m \u001b[0mliste\u001b[0m \u001b[1;33m=\u001b[0m \u001b[1;33m[\u001b[0m\u001b[1;34m\"name2\"\u001b[0m\u001b[1;33m,\u001b[0m \u001b[1;34m\"name3\"\u001b[0m\u001b[1;33m,\u001b[0m\u001b[1;34m\"name7\"\u001b[0m\u001b[1;33m]\u001b[0m\u001b[1;33m\u001b[0m\u001b[1;33m\u001b[0m\u001b[0m\n\u001b[1;32m----> 2\u001b[1;33m \u001b[1;32mdel\u001b[0m \u001b[0mfamily\u001b[0m \u001b[1;33m[\u001b[0m\u001b[0mliste\u001b[0m\u001b[1;33m]\u001b[0m\u001b[1;33m\u001b[0m\u001b[1;33m\u001b[0m\u001b[0m\n\u001b[0m",
      "\u001b[1;31mTypeError\u001b[0m: unhashable type: 'list'"
     ]
    }
   ],
   "source": [
    "liste = [\"name2\", \"name3\",\"name7\"]\n",
    "del family [liste]"
   ]
  },
  {
   "cell_type": "code",
   "execution_count": 76,
   "metadata": {},
   "outputs": [],
   "source": [
    "del family [\"name2\"], family [\"name3\"], family[\"name4\"]"
   ]
  },
  {
   "cell_type": "code",
   "execution_count": 77,
   "metadata": {},
   "outputs": [
    {
     "data": {
      "text/plain": [
       "{'name1': 'ali', 'name5': 'haydar', 'name6': 'salih', 'name7': 'jale'}"
      ]
     },
     "execution_count": 77,
     "metadata": {},
     "output_type": "execute_result"
    }
   ],
   "source": [
    "family\n"
   ]
  },
  {
   "cell_type": "code",
   "execution_count": 78,
   "metadata": {},
   "outputs": [
    {
     "data": {
      "text/plain": [
       "True"
      ]
     },
     "execution_count": 78,
     "metadata": {},
     "output_type": "execute_result"
    }
   ],
   "source": [
    "\"name1\" in family\n"
   ]
  },
  {
   "cell_type": "code",
   "execution_count": 79,
   "metadata": {},
   "outputs": [
    {
     "data": {
      "text/plain": [
       "True"
      ]
     },
     "execution_count": 79,
     "metadata": {},
     "output_type": "execute_result"
    }
   ],
   "source": [
    "\"name2\" not in family"
   ]
  },
  {
   "cell_type": "code",
   "execution_count": 80,
   "metadata": {},
   "outputs": [
    {
     "data": {
      "text/plain": [
       "True"
      ]
     },
     "execution_count": 80,
     "metadata": {},
     "output_type": "execute_result"
    }
   ],
   "source": [
    "\"ali\" in family.values()"
   ]
  },
  {
   "cell_type": "code",
   "execution_count": 81,
   "metadata": {},
   "outputs": [
    {
     "data": {
      "text/plain": [
       "False"
      ]
     },
     "execution_count": 81,
     "metadata": {},
     "output_type": "execute_result"
    }
   ],
   "source": [
    "\"Ali\" in family.values() # case sensitivty \n"
   ]
  },
  {
   "cell_type": "code",
   "execution_count": 82,
   "metadata": {},
   "outputs": [],
   "source": [
    "school_records={\n",
    "    \"personal_info\":\n",
    "        {\"kid\":{\"tom\": {\"class\": \"intermediate\", \"age\": 10},\n",
    "                \"sue\": {\"class\": \"elementary\", \"age\": 8}\n",
    "               },\n",
    "         \"teen\":{\"joseph\":{\"class\": \"college\", \"age\": 19},\n",
    "                 \"marry\":{\"class\": \"high school\", \"age\": 16}\n",
    "               },               \n",
    "        },\n",
    "    \"grades_info\":\n",
    "        {\"kid\":{\"tom\": {\"math\": 88, \"speech\": 69},\n",
    "                \"sue\": {\"math\": 90, \"speech\": 81}\n",
    "               },\n",
    "         \"teen\":{\"joseph\":{\"coding\": 80, \"math\": 89},\n",
    "                 \"marry\":{\"coding\": 70, \"math\": 96}\n",
    "               },               \n",
    "        },        \n",
    "}"
   ]
  },
  {
   "cell_type": "code",
   "execution_count": 83,
   "metadata": {},
   "outputs": [
    {
     "name": "stdout",
     "output_type": "stream",
     "text": [
      "{'coding': 80, 'math': 89}\n",
      "[('coding', 80), ('math', 89)]\n"
     ]
    }
   ],
   "source": [
    "print(school_records[\"grades_info\"][\"teen\"][\"joseph\"])\n",
    "print(list(school_records[\"grades_info\"][\"teen\"][\"joseph\"].items()))"
   ]
  },
  {
   "cell_type": "code",
   "execution_count": 84,
   "metadata": {},
   "outputs": [
    {
     "name": "stdout",
     "output_type": "stream",
     "text": [
      "{'friend1': {'first': 'joseph', 'last': 'smith'}, 'friend2': {'first': 'marry', 'last': 'son'}, 'friend3': {'first': 'sergio', 'last': 'taco'}}\n"
     ]
    }
   ],
   "source": [
    "friends = {\"friend1\" : {\"first\" : \"joseph\", \"last\" : \"smith\"}, \n",
    "        \"friend2\" : {\"first\" : \"marry\" , \"last\": \"son\"},\n",
    "         \"friend3\" : {\"first\" : \"sergio\", \"last\" : \"taco\"}\n",
    "        }\n",
    "print (friends)"
   ]
  },
  {
   "cell_type": "code",
   "execution_count": 85,
   "metadata": {},
   "outputs": [
    {
     "name": "stdout",
     "output_type": "stream",
     "text": [
      "{'friends': {'friend1': {'first': 'joseph', 'last': 'smith'}, 'friend2': {'first': 'marry', 'last': 'son'}, 'friend3': {'first': 'sergio', 'last': 'taco'}}, 'family': {'family1': {'first': 'susan', 'last': 'smithson'}, 'family2': {'first': 'sue', 'last': 'sono'}, 'family3': {'first': 'joan', 'last': 'toe'}}}\n"
     ]
    }
   ],
   "source": [
    "favourite = {\"friends\" : {\n",
    "                \"friend1\" : {\"first\" : \"joseph\", \"last\" : \"smith\"}, \n",
    "                \"friend2\" : {\"first\" : \"marry\" , \"last\": \"son\"},\n",
    "                \"friend3\" : {\"first\" : \"sergio\", \"last\" : \"taco\"}\n",
    "                        }, \n",
    "            \"family\" : {\n",
    "                \"family1\" : {\"first\" : \"susan\", \"last\" : \"smithson\"}, \n",
    "                \"family2\" : {\"first\" : \"sue\" , \"last\": \"sono\"},\n",
    "                \"family3\" : {\"first\" : \"joan\", \"last\" : \"toe\"}\n",
    "                        }\n",
    "            }\n",
    "print (favourite)"
   ]
  },
  {
   "cell_type": "code",
   "execution_count": 86,
   "metadata": {},
   "outputs": [],
   "source": [
    "set_1 = {'red', 'blue', 'pink', 'red'}\n",
    "colors = 'red', 'blue', 'pink', 'red'"
   ]
  },
  {
   "cell_type": "code",
   "execution_count": 87,
   "metadata": {},
   "outputs": [
    {
     "name": "stdout",
     "output_type": "stream",
     "text": [
      "{'blue', 'red', 'pink'}\n"
     ]
    }
   ],
   "source": [
    "print(set_1)"
   ]
  },
  {
   "cell_type": "code",
   "execution_count": 88,
   "metadata": {},
   "outputs": [
    {
     "data": {
      "text/plain": [
       "('red', 'blue', 'pink', 'red')"
      ]
     },
     "execution_count": 88,
     "metadata": {},
     "output_type": "execute_result"
    }
   ],
   "source": [
    "colors"
   ]
  },
  {
   "cell_type": "code",
   "execution_count": 89,
   "metadata": {},
   "outputs": [
    {
     "data": {
      "text/plain": [
       "{'blue', 'pink', 'red'}"
      ]
     },
     "execution_count": 89,
     "metadata": {},
     "output_type": "execute_result"
    }
   ],
   "source": [
    "set_1"
   ]
  },
  {
   "cell_type": "code",
   "execution_count": 90,
   "metadata": {},
   "outputs": [
    {
     "data": {
      "text/plain": [
       "{'blue', 'pink', 'red'}"
      ]
     },
     "execution_count": 90,
     "metadata": {},
     "output_type": "execute_result"
    }
   ],
   "source": [
    "set_1"
   ]
  },
  {
   "cell_type": "code",
   "execution_count": 91,
   "metadata": {},
   "outputs": [
    {
     "data": {
      "text/plain": [
       "{'bed', 'bink', 'blue', 'ced'}"
      ]
     },
     "execution_count": 91,
     "metadata": {},
     "output_type": "execute_result"
    }
   ],
   "source": [
    "set_2 = {'bed', 'blue', 'bink', 'ced'}\n",
    "set_2"
   ]
  },
  {
   "cell_type": "code",
   "execution_count": 92,
   "metadata": {},
   "outputs": [
    {
     "data": {
      "text/plain": [
       "{'alue', 'bed', 'bink', 'ced'}"
      ]
     },
     "execution_count": 92,
     "metadata": {},
     "output_type": "execute_result"
    }
   ],
   "source": [
    "set_3 = {'bed', 'alue', 'bink', 'ced'}\n",
    "set_3"
   ]
  },
  {
   "cell_type": "code",
   "execution_count": 93,
   "metadata": {},
   "outputs": [],
   "source": [
    "letter = \"a b c d e f g h i j k l m n o p r s t u v y z\".split()"
   ]
  },
  {
   "cell_type": "code",
   "execution_count": 94,
   "metadata": {},
   "outputs": [
    {
     "name": "stdout",
     "output_type": "stream",
     "text": [
      "{'t', 'o', 'j', 'y', 'k', 'e', 'r', 'a', 'n', 's', 'f', 'v', 'g', 'i', 'p', 'b', 'h', 'm', 'l', 'u', 'd', 'c', 'z'}\n"
     ]
    }
   ],
   "source": [
    "print(set(letter))\n"
   ]
  },
  {
   "cell_type": "code",
   "execution_count": 95,
   "metadata": {},
   "outputs": [
    {
     "name": "stdout",
     "output_type": "stream",
     "text": [
      "{'t', 'o', 'j', 'y', 'k', 'e', 'r', 'a', 'n', 's', 'f', 'v', 'g', 'i', 'p', 'b', 'h', 'm', 'l', 'u', 'd', 'c', 'z'}\n"
     ]
    }
   ],
   "source": [
    "print(set(letter)) # if kernel restart, it will be change \n"
   ]
  },
  {
   "cell_type": "code",
   "execution_count": 96,
   "metadata": {},
   "outputs": [
    {
     "name": "stdout",
     "output_type": "stream",
     "text": [
      "2\n"
     ]
    }
   ],
   "source": [
    "ttest = {1, \"g\", 1.0}\n",
    "print (len (ttest))"
   ]
  },
  {
   "cell_type": "code",
   "execution_count": 97,
   "metadata": {},
   "outputs": [
    {
     "data": {
      "text/plain": [
       "True"
      ]
     },
     "execution_count": 97,
     "metadata": {},
     "output_type": "execute_result"
    }
   ],
   "source": [
    "1 == 1.0"
   ]
  },
  {
   "cell_type": "code",
   "execution_count": 98,
   "metadata": {},
   "outputs": [
    {
     "data": {
      "text/plain": [
       "{}"
      ]
     },
     "execution_count": 98,
     "metadata": {},
     "output_type": "execute_result"
    }
   ],
   "source": [
    "set() #empty set \n",
    "{} # empty dict not set "
   ]
  },
  {
   "cell_type": "code",
   "execution_count": 99,
   "metadata": {},
   "outputs": [
    {
     "data": {
      "text/plain": [
       "complex"
      ]
     },
     "execution_count": 99,
     "metadata": {},
     "output_type": "execute_result"
    }
   ],
   "source": [
    "type(3j)"
   ]
  },
  {
   "cell_type": "code",
   "execution_count": 101,
   "metadata": {},
   "outputs": [
    {
     "name": "stdout",
     "output_type": "stream",
     "text": [
      "{'r', 'b', 'd'}\n",
      "{'r', 'b', 'd'}\n"
     ]
    }
   ],
   "source": [
    "a = set('abracadabra')\n",
    "b = set('alacazam')\n",
    "\n",
    "print(a - b)  # same as '.difference()' method\n",
    "print(a.difference(b)) # a difference from b\n"
   ]
  },
  {
   "cell_type": "code",
   "execution_count": 102,
   "metadata": {},
   "outputs": [
    {
     "name": "stdout",
     "output_type": "stream",
     "text": [
      "{'m', 'z', 'l'}\n"
     ]
    }
   ],
   "source": [
    "a = set('abracadabra')\n",
    "b = set('alacazam')\n",
    "\n",
    "print(b - a)  # same as '.difference()' method\n",
    "\n"
   ]
  },
  {
   "cell_type": "code",
   "execution_count": 103,
   "metadata": {},
   "outputs": [
    {
     "name": "stdout",
     "output_type": "stream",
     "text": [
      "{'m', 'r', 'l', 'a', 'd', 'z', 'c', 'b'}\n"
     ]
    }
   ],
   "source": [
    "print(a.union(b))"
   ]
  },
  {
   "cell_type": "code",
   "execution_count": 104,
   "metadata": {},
   "outputs": [
    {
     "name": "stdout",
     "output_type": "stream",
     "text": [
      "{'m', 'r', 'l', 'a', 'd', 'z', 'c', 'b'}\n"
     ]
    }
   ],
   "source": [
    "print(a | b)"
   ]
  },
  {
   "cell_type": "code",
   "execution_count": 105,
   "metadata": {},
   "outputs": [
    {
     "name": "stdout",
     "output_type": "stream",
     "text": [
      "13\n"
     ]
    }
   ],
   "source": [
    "print(len(set('listen to the voice of enlisted')))"
   ]
  },
  {
   "cell_type": "code",
   "execution_count": 106,
   "metadata": {},
   "outputs": [
    {
     "data": {
      "text/plain": [
       "{' ', 'c', 'd', 'e', 'f', 'h', 'i', 'l', 'n', 'o', 's', 't', 'v'}"
      ]
     },
     "execution_count": 106,
     "metadata": {},
     "output_type": "execute_result"
    }
   ],
   "source": [
    "set('listen to the voice of enlisted')"
   ]
  },
  {
   "cell_type": "code",
   "execution_count": 107,
   "metadata": {},
   "outputs": [
    {
     "data": {
      "text/plain": [
       "[0, 1, 2, 3, 4, 5, 6, 7, 8, 9]"
      ]
     },
     "execution_count": 107,
     "metadata": {},
     "output_type": "execute_result"
    }
   ],
   "source": [
    "listem = list(range(0,10))\n",
    "listem\n"
   ]
  },
  {
   "cell_type": "code",
   "execution_count": 108,
   "metadata": {},
   "outputs": [
    {
     "data": {
      "text/plain": [
       "[0, 1, 2, 3, 4, 5, 6, 7, 8, 9, 11]"
      ]
     },
     "execution_count": 108,
     "metadata": {},
     "output_type": "execute_result"
    }
   ],
   "source": [
    "listem.append(11)\n",
    "listem\n"
   ]
  },
  {
   "cell_type": "code",
   "execution_count": 109,
   "metadata": {},
   "outputs": [
    {
     "data": {
      "text/plain": [
       "[0, 1, 2, 3, 4, 5, 6, 7, 9, 11]"
      ]
     },
     "execution_count": 109,
     "metadata": {},
     "output_type": "execute_result"
    }
   ],
   "source": [
    "listem.pop(-3)\n",
    "listem"
   ]
  },
  {
   "cell_type": "code",
   "execution_count": 110,
   "metadata": {},
   "outputs": [
    {
     "data": {
      "text/plain": [
       "[0, 1, 2, 3, 4, 5, 6, 7, 9, 17, 11]"
      ]
     },
     "execution_count": 110,
     "metadata": {},
     "output_type": "execute_result"
    }
   ],
   "source": [
    "listem.insert(-1, 17)\n",
    "listem\n"
   ]
  },
  {
   "cell_type": "code",
   "execution_count": 111,
   "metadata": {},
   "outputs": [
    {
     "data": {
      "text/plain": [
       "[0, 17, 1, 2, 3, 4, 5, 6, 7, 9, 17, 11]"
      ]
     },
     "execution_count": 111,
     "metadata": {},
     "output_type": "execute_result"
    }
   ],
   "source": [
    "listem.insert(1,17)\n",
    "listem\n"
   ]
  },
  {
   "cell_type": "code",
   "execution_count": 112,
   "metadata": {},
   "outputs": [
    {
     "data": {
      "text/plain": [
       "()"
      ]
     },
     "execution_count": 112,
     "metadata": {},
     "output_type": "execute_result"
    }
   ],
   "source": [
    "tuple()"
   ]
  },
  {
   "cell_type": "code",
   "execution_count": 113,
   "metadata": {},
   "outputs": [
    {
     "data": {
      "text/plain": [
       "(1,)"
      ]
     },
     "execution_count": 113,
     "metadata": {},
     "output_type": "execute_result"
    }
   ],
   "source": [
    "my_tuple = (1,)\n",
    "my_tuple\n"
   ]
  },
  {
   "cell_type": "code",
   "execution_count": 114,
   "metadata": {},
   "outputs": [
    {
     "name": "stdout",
     "output_type": "stream",
     "text": [
      "25\n"
     ]
    }
   ],
   "source": [
    "numbers = {}\n",
    "\n",
    "numbers['x'] = 12\n",
    "numbers['y'] = 4\n",
    "numbers.update({'z': 3})\n",
    "\n",
    "print(numbers['x'] + numbers['y'] + numbers['z']**2)"
   ]
  },
  {
   "cell_type": "code",
   "execution_count": 115,
   "metadata": {},
   "outputs": [
    {
     "name": "stdout",
     "output_type": "stream",
     "text": [
      "[10, 10, 30, 40, 50, 60, 70, 80, 90, 100]\n"
     ]
    }
   ],
   "source": [
    "numbers_10 = [10, 30, 40, 50, 60, 70, 80, 90, 100]\n",
    "numbers_10.insert(1,10)\n",
    "print(numbers_10)\n"
   ]
  },
  {
   "cell_type": "code",
   "execution_count": 116,
   "metadata": {},
   "outputs": [
    {
     "name": "stdout",
     "output_type": "stream",
     "text": [
      "spinach\n"
     ]
    }
   ],
   "source": [
    "fruits_vegetables = [\"fruit\", \"vegetable\", [\"apple\", \"banana\", [\"mango\", \"avocado\"]], [\"spinach\", \"broccoli\"]]\n",
    "print(fruits_vegetables[3][0])\n"
   ]
  },
  {
   "cell_type": "code",
   "execution_count": 117,
   "metadata": {},
   "outputs": [
    {
     "data": {
      "text/plain": [
       "list"
      ]
     },
     "execution_count": 117,
     "metadata": {},
     "output_type": "execute_result"
    }
   ],
   "source": [
    "type([123])"
   ]
  },
  {
   "cell_type": "code",
   "execution_count": 118,
   "metadata": {},
   "outputs": [],
   "source": [
    "family_members = ['Meghan', 'Tom', 'Nicole', 'Tim']"
   ]
  },
  {
   "cell_type": "code",
   "execution_count": 119,
   "metadata": {},
   "outputs": [
    {
     "data": {
      "text/plain": [
       "('Meghan', 'Tom', 'Nicole', 'Tim')"
      ]
     },
     "execution_count": 119,
     "metadata": {},
     "output_type": "execute_result"
    }
   ],
   "source": [
    "tuple(family_members)"
   ]
  },
  {
   "cell_type": "code",
   "execution_count": 120,
   "metadata": {},
   "outputs": [],
   "source": [
    "text = ['one','two','three','four','five']\n",
    "numbers = [1, 2, 3, 4, 5]\n",
    "city = [\"Tokyo\", \"Kiev\", \"Mekke\", \"Istanbul\", \"Washington\"]\n"
   ]
  },
  {
   "cell_type": "code",
   "execution_count": 121,
   "metadata": {},
   "outputs": [
    {
     "name": "stdout",
     "output_type": "stream",
     "text": [
      "<zip object at 0x000001709F416288>\n"
     ]
    }
   ],
   "source": [
    "print(zip(text, numbers))"
   ]
  },
  {
   "cell_type": "code",
   "execution_count": 122,
   "metadata": {},
   "outputs": [
    {
     "data": {
      "text/plain": [
       "[('one', 1), ('two', 2), ('three', 3), ('four', 4), ('five', 5)]"
      ]
     },
     "execution_count": 122,
     "metadata": {},
     "output_type": "execute_result"
    }
   ],
   "source": [
    "list(zip(text, numbers))"
   ]
  },
  {
   "cell_type": "code",
   "execution_count": 123,
   "metadata": {},
   "outputs": [
    {
     "name": "stdout",
     "output_type": "stream",
     "text": [
      "('one', 1) ('two', 2) ('three', 3) ('four', 4) ('five', 5)\n"
     ]
    }
   ],
   "source": [
    "print(* zip(text, numbers))"
   ]
  },
  {
   "cell_type": "code",
   "execution_count": 124,
   "metadata": {},
   "outputs": [
    {
     "name": "stdout",
     "output_type": "stream",
     "text": [
      "[1, 3, 5, 7, 9]\n",
      "[2, 4, 6, 8, 10]\n"
     ]
    }
   ],
   "source": [
    "num = range(1, 11)\n",
    "odds = []\n",
    "evens = []\n",
    "for i in range(1, 11):\n",
    "    if i % 2 == 0:\n",
    "        evens.append(i)\n",
    "    else:\n",
    "        odds.append(i)\n",
    "print(odds, evens, sep = \"\\n\")\n"
   ]
  },
  {
   "cell_type": "code",
   "execution_count": 125,
   "metadata": {},
   "outputs": [
    {
     "name": "stdout",
     "output_type": "stream",
     "text": [
      "[1, 3, 5, 7, 9]\n",
      "[0, 2, 4, 6, 8]\n"
     ]
    }
   ],
   "source": [
    "evens = [i for i in range(10) if i % 2 == 0]\n",
    "odds = [i for i in range(10) if i % 2 != 0]\n",
    "print(odds, evens, sep = \"\\n\")\n"
   ]
  },
  {
   "cell_type": "code",
   "execution_count": 126,
   "metadata": {},
   "outputs": [
    {
     "name": "stdout",
     "output_type": "stream",
     "text": [
      "The number of even numbers : 5\n",
      "The number of odd numbers : 5\n"
     ]
    }
   ],
   "source": [
    "example = [11, 2, 24, 61, 48, 33, 3]\n",
    "odds = []\n",
    "evens = []\n",
    "for i in range(1, 11):\n",
    "    if i % 2 == 0:\n",
    "        evens.append(i)\n",
    "    else:\n",
    "        odds.append(i)\n",
    "print(\"The number of even numbers :\", len(evens))\n",
    "print(\"The number of odd numbers :\", len(odds))\n"
   ]
  },
  {
   "cell_type": "code",
   "execution_count": 127,
   "metadata": {},
   "outputs": [
    {
     "name": "stdout",
     "output_type": "stream",
     "text": [
      "The number of even numbers : 3\n",
      "The number of odd numbers : 4\n"
     ]
    }
   ],
   "source": [
    "example = [11, 2, 24, 61, 48, 33, 3]\n",
    "print(\n",
    "    \"The number of even numbers :\", \n",
    "      len([i for i in example if i % 2 == 0])\n",
    ") \n",
    "\n",
    "print(\n",
    "    \"The number of odd numbers :\", \n",
    "      len([i for i in example if i % 2 != 0])\n",
    ") \n"
   ]
  },
  {
   "cell_type": "code",
   "execution_count": 128,
   "metadata": {},
   "outputs": [
    {
     "name": "stdout",
     "output_type": "stream",
     "text": [
      "1\n",
      "22\n",
      "333\n",
      "4444\n",
      "55555\n",
      "666666\n",
      "7777777\n",
      "88888888\n",
      "999999999\n"
     ]
    }
   ],
   "source": [
    "for i in range(1,10):\n",
    "    print(str (i) * i)\n",
    "    "
   ]
  },
  {
   "cell_type": "code",
   "execution_count": 129,
   "metadata": {},
   "outputs": [
    {
     "name": "stdout",
     "output_type": "stream",
     "text": [
      "2775\n"
     ]
    }
   ],
   "source": [
    "sum_num = 0\n",
    "for i in range(1, 75):\n",
    "    sum_num += i\n",
    "print(sum_num)\n"
   ]
  },
  {
   "cell_type": "code",
   "execution_count": 130,
   "metadata": {},
   "outputs": [
    {
     "data": {
      "text/plain": [
       "2775"
      ]
     },
     "execution_count": 130,
     "metadata": {},
     "output_type": "execute_result"
    }
   ],
   "source": [
    "sum(range(1,75))"
   ]
  },
  {
   "cell_type": "code",
   "execution_count": 131,
   "metadata": {},
   "outputs": [
    {
     "name": "stdout",
     "output_type": "stream",
     "text": [
      "susan is happy\n",
      "susan is sad\n",
      "tom is happy\n",
      "tom is sad\n",
      "edward is happy\n",
      "edward is sad\n"
     ]
    }
   ],
   "source": [
    "names = [\"susan\", \"tom\", \"edward\"] \n",
    "mood = [\"happy\", \"sad\"]\n",
    "for i in names:\n",
    "    for j in mood:\n",
    "        print(i + \" is \" + j)"
   ]
  },
  {
   "cell_type": "code",
   "execution_count": 132,
   "metadata": {},
   "outputs": [
    {
     "name": "stdout",
     "output_type": "stream",
     "text": [
      "[1, 9, 25, 49, 81]\n"
     ]
    }
   ],
   "source": [
    "print([x ** 2 for x in range(10) if x % 2 != 0])"
   ]
  },
  {
   "cell_type": "code",
   "execution_count": 133,
   "metadata": {},
   "outputs": [
    {
     "name": "stdout",
     "output_type": "stream",
     "text": [
      "[1, 9, 25]\n"
     ]
    }
   ],
   "source": [
    "my_list = [1,2,3,4,5,6]\n",
    "new_list = []\n",
    "[new_list.append(x ** 2) for x in my_list if x %2 != 0]\n",
    "print(new_list)"
   ]
  },
  {
   "cell_type": "code",
   "execution_count": 134,
   "metadata": {},
   "outputs": [
    {
     "name": "stdout",
     "output_type": "stream",
     "text": [
      "5\n"
     ]
    }
   ],
   "source": [
    "a = 5 if 2 > 1 else 0\n",
    "print(a)"
   ]
  },
  {
   "cell_type": "code",
   "execution_count": 135,
   "metadata": {},
   "outputs": [
    {
     "name": "stdout",
     "output_type": "stream",
     "text": [
      "0\n",
      "1\n"
     ]
    }
   ],
   "source": [
    "print(1 if 2 > 4 else 0)\n",
    "print(1 if 2 < 4 else 0)"
   ]
  },
  {
   "cell_type": "code",
   "execution_count": 136,
   "metadata": {},
   "outputs": [
    {
     "data": {
      "text/plain": [
       "[0, 4, 16, 36, 64, ['full'], 1, 9, 25, 49, 81]"
      ]
     },
     "execution_count": 136,
     "metadata": {},
     "output_type": "execute_result"
    }
   ],
   "source": [
    "even = [i ** 2 for i in range(10) if not i % 2]\n",
    "odd = [i ** 2 for i in range(10) if i % 2]\n",
    "even + [[\"full\"]]+ odd"
   ]
  },
  {
   "cell_type": "code",
   "execution_count": 137,
   "metadata": {},
   "outputs": [
    {
     "data": {
      "text/plain": [
       "<generator object <genexpr> at 0x000001709F4CF148>"
      ]
     },
     "execution_count": 137,
     "metadata": {},
     "output_type": "execute_result"
    }
   ],
   "source": [
    "generator = (i ** 2 for i in range(4))\n",
    "generator\n"
   ]
  },
  {
   "cell_type": "code",
   "execution_count": 138,
   "metadata": {},
   "outputs": [
    {
     "name": "stdout",
     "output_type": "stream",
     "text": [
      "0\n",
      "1\n",
      "4\n",
      "9\n"
     ]
    }
   ],
   "source": [
    "# print(*generator)\n",
    "#list(generator)\n",
    "# print((next(generator))) \n",
    "# for loop arkasında \"\"\"\"\"\"next\"\"\"\"\"\" fonksiyonu çalışmaktadır\n",
    "for i in generator:\n",
    "    print(i)\n",
    "    "
   ]
  },
  {
   "cell_type": "code",
   "execution_count": 140,
   "metadata": {},
   "outputs": [
    {
     "name": "stdout",
     "output_type": "stream",
     "text": [
      "\n",
      "                                   ************       ************       **********\n",
      "                                   ************       ************       ************\n",
      "                                   ************       ************       **************\n",
      "                                   ************       ************       ****************\n",
      "                                   ************       ************       ******************\n",
      "                                   ************       ************       ********************\n",
      "                                   ************       ************       **********************\n",
      "                                   ************       ************       ************************\n",
      "                                   ************       ************       **************************\n",
      "                                   ************       ************       ****************************\n",
      "               *************       ************       ************       ************\n",
      "              **************       ************       ************       ************\n",
      "             ***************       ************       ************       ************\n",
      "            ****************       ************       ************       ************\n",
      "           *****************       ************       ************       ************\n",
      "          ******************       ************       ************       ************\n",
      "         *******************       ************       ************       ************\n",
      "        ********************       ************       ************       ************\n",
      "       *********************       ************       ************       ************\n",
      "      **********************       ************       ************       ************\n",
      "     ***********************       ************       ************       ************\n",
      "    ************************       ************       ************       ************\n",
      "   *************************       ************       ************       ************\n",
      "                **************************************************       ************\n",
      "                **************************************************       ************\n",
      "                **************************************************       ************\n",
      "                **************************************************       ************\n",
      "                **************************************************       ************\n"
     ]
    }
   ],
   "source": [
    "line = 10\n",
    "print()\n",
    "for i in range(line):\n",
    "    print(' '*16+' '*19+'*'*12+' '*7+'*'*12+' '*7+'*'*(line-1-i)+'*'*(3*i+1))\n",
    "for i in range(line*2-7):\n",
    "    print(' '*(line+5-i)+'*'*(i+1)+'*'*12+' '*7+'*'*12+' '*7+'*'*12+' '*7+'*'*12)\n",
    "for i in range(5):\n",
    "    print(' '*16+'*'*19+'*'*19+'*'*12+' '*7+'*'*12)"
   ]
  }
 ],
 "metadata": {
  "kernelspec": {
   "display_name": "Python 3",
   "language": "python",
   "name": "python3"
  },
  "language_info": {
   "codemirror_mode": {
    "name": "ipython",
    "version": 3
   },
   "file_extension": ".py",
   "mimetype": "text/x-python",
   "name": "python",
   "nbconvert_exporter": "python",
   "pygments_lexer": "ipython3",
   "version": "3.7.4"
  }
 },
 "nbformat": 4,
 "nbformat_minor": 4
}
