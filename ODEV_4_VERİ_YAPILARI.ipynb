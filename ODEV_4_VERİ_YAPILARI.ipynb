{
 "cells": [
  {
   "cell_type": "markdown",
   "metadata": {},
   "source": [
    "# mehmetfatihdata\n",
    "\n",
    "## Odev_4\n",
    "\n",
    "### Veri Yapıları"
   ]
  },
  {
   "cell_type": "code",
   "execution_count": 13,
   "metadata": {
    "scrolled": true
   },
   "outputs": [
    {
     "name": "stdout",
     "output_type": "stream",
     "text": [
      "{'pazartesi': 12, 'sali': 12, 'çarşamba': 14, 'perşembe': 16, 'cuma': 20, 'cumartesi': 24, 'pazar': 10} \n",
      "\n",
      "seçtiğiniz birinci gün ders saaati:pazartesi\n",
      "12 \n",
      "\n",
      "seçtiğiniz ikinci gün ders saaati:sali\n",
      "12\n"
     ]
    }
   ],
   "source": [
    "günler = {\"pazartesi\":12, \"sali\":12, \"çarşamba\":14, \"perşembe\":16, \"cuma\":20, \"cumartesi\":24, \"pazar\":10}\n",
    "print(günler,\"\\n\")\n",
    "print (günler[input (\"seçtiğiniz birinci gün ders saaati:\")],\"\\n\")\n",
    "print (günler[input (\"seçtiğiniz ikinci gün ders saaati:\")])"
   ]
  },
  {
   "cell_type": "code",
   "execution_count": 14,
   "metadata": {
    "scrolled": true
   },
   "outputs": [
    {
     "name": "stdout",
     "output_type": "stream",
     "text": [
      "birinci gün:cumartesi\n",
      "ikinci gün:pazar\n",
      "{'pazartesi': 12, 'sali': 12, 'çarşamba': 14, 'perşembe': 16, 'cuma': 20}\n"
     ]
    }
   ],
   "source": [
    "del günler [input (\"birinci gün:\")]\n",
    "del günler [input (\"ikinci gün:\")]\n",
    "print (günler)"
   ]
  },
  {
   "cell_type": "code",
   "execution_count": 15,
   "metadata": {},
   "outputs": [
    {
     "name": "stdout",
     "output_type": "stream",
     "text": [
      "{'Ocak': 31, 'Şubat': 28, 'Mart': 31, 'Nisan': 30, 'Mayıs': 31, 'Haziran': 30, 'Temmuz': 31, 'Ağustos': 31, 'Eylül': 30, 'Ekim': 31, 'Kasım': 30, 'Aralık': 31}\n"
     ]
    }
   ],
   "source": [
    "aybilgisi = {'Ocak':31, 'Şubat':28, 'Mart':31, 'Nisan':30, 'Mayıs':31, 'Haziran':30, 'Temmuz':31, \n",
    "         'Ağustos':31, 'Eylül':30, 'Ekim':31, 'Kasım':30, 'Aralık':31}\n",
    "print(aybilgisi)"
   ]
  },
  {
   "cell_type": "code",
   "execution_count": 16,
   "metadata": {
    "scrolled": true
   },
   "outputs": [
    {
     "name": "stdout",
     "output_type": "stream",
     "text": [
      "dict_keys(['Ocak', 'Şubat', 'Mart', 'Nisan', 'Mayıs', 'Haziran', 'Temmuz', 'Ağustos', 'Eylül', 'Ekim', 'Kasım', 'Aralık']) \n",
      "\n",
      "[dict_keys(['Ocak', 'Şubat', 'Mart', 'Nisan', 'Mayıs', 'Haziran', 'Temmuz', 'Ağustos', 'Eylül', 'Ekim', 'Kasım', 'Aralık']), dict_keys(['pazartesi', 'sali', 'çarşamba', 'perşembe', 'cuma'])]\n"
     ]
    }
   ],
   "source": [
    "print(aybilgisi.keys(), '\\n')\n",
    "liste = [aybilgisi.keys(), günler.keys()]##iki gün eksik olarak yansıyacaktır. \n",
    "print (liste)"
   ]
  },
  {
   "cell_type": "code",
   "execution_count": 17,
   "metadata": {},
   "outputs": [
    {
     "name": "stdout",
     "output_type": "stream",
     "text": [
      "[['Ocak', 'Şubat', 'Mart'], ['Haziran', 'Temmuz', 'Ağustos'], ['Eylül', 'Ekim', 'Kasım'], ['Aralık', 'Ocak', 'Şubat']]\n"
     ]
    }
   ],
   "source": [
    "ilkbahar = ['Ocak', 'Şubat', 'Mart']\n",
    "yaz = ['Haziran', 'Temmuz','Ağustos']\n",
    "sonbahar = ['Eylül', 'Ekim', 'Kasım']\n",
    "kış = ['Aralık', 'Ocak', 'Şubat']\n",
    "mevsim_ayları = [ilkbahar, yaz, sonbahar, kış]\n",
    "print (mevsim_ayları)"
   ]
  },
  {
   "cell_type": "code",
   "execution_count": 18,
   "metadata": {
    "scrolled": false
   },
   "outputs": [
    {
     "name": "stdout",
     "output_type": "stream",
     "text": [
      "['Haziran', 'Temmuz', 'Ağustos']\n",
      "hesaplamak istediğiniz mevsim:yaz\n"
     ]
    },
    {
     "ename": "AttributeError",
     "evalue": "'str' object has no attribute 'values'",
     "output_type": "error",
     "traceback": [
      "\u001b[1;31m---------------------------------------------------------------------------\u001b[0m",
      "\u001b[1;31mAttributeError\u001b[0m                            Traceback (most recent call last)",
      "\u001b[1;32m<ipython-input-18-fba7422836c5>\u001b[0m in \u001b[0;36m<module>\u001b[1;34m\u001b[0m\n\u001b[0;32m      1\u001b[0m \u001b[0mprint\u001b[0m \u001b[1;33m(\u001b[0m\u001b[0myaz\u001b[0m\u001b[1;33m)\u001b[0m\u001b[1;33m\u001b[0m\u001b[1;33m\u001b[0m\u001b[0m\n\u001b[0;32m      2\u001b[0m \u001b[0mgünsüresi\u001b[0m \u001b[1;33m=\u001b[0m \u001b[0minput\u001b[0m \u001b[1;33m(\u001b[0m\u001b[1;34m\"hesaplamak istediğiniz mevsim:\"\u001b[0m\u001b[1;33m)\u001b[0m\u001b[1;33m\u001b[0m\u001b[1;33m\u001b[0m\u001b[0m\n\u001b[1;32m----> 3\u001b[1;33m \u001b[0mprint\u001b[0m \u001b[1;33m(\u001b[0m\u001b[0mgünsüresi\u001b[0m\u001b[1;33m.\u001b[0m\u001b[0mvalues\u001b[0m\u001b[1;33m(\u001b[0m\u001b[1;33m)\u001b[0m\u001b[1;33m)\u001b[0m\u001b[1;31m######daha önceden sözlükte gün sürelerine int değerler vermiştim. Bunları neden almamaktadır? çözemiyorum, takıldım\u001b[0m\u001b[1;33m\u001b[0m\u001b[1;33m\u001b[0m\u001b[0m\n\u001b[0m",
      "\u001b[1;31mAttributeError\u001b[0m: 'str' object has no attribute 'values'"
     ]
    }
   ],
   "source": [
    "print (yaz)\n",
    "günsüresi = input (\"hesaplamak istediğiniz mevsim:\")\n",
    "print (günsüresi.values())######daha önceden sözlükte gün sürelerine int değerler vermiştim. Bunları neden almamaktadır? çözemiyorum, takıldım"
   ]
  },
  {
   "cell_type": "markdown",
   "metadata": {},
   "source": [
    "Zaman Ayırdığınız için teşekkür ederim. "
   ]
  }
 ],
 "metadata": {
  "kernelspec": {
   "display_name": "Python 3",
   "language": "python",
   "name": "python3"
  },
  "language_info": {
   "codemirror_mode": {
    "name": "ipython",
    "version": 3
   },
   "file_extension": ".py",
   "mimetype": "text/x-python",
   "name": "python",
   "nbconvert_exporter": "python",
   "pygments_lexer": "ipython3",
   "version": "3.7.4"
  }
 },
 "nbformat": 4,
 "nbformat_minor": 2
}
