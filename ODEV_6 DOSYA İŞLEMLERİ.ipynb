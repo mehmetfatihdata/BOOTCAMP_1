{
 "cells": [
  {
   "cell_type": "markdown",
   "metadata": {},
   "source": [
    "# mehmetfatihdata"
   ]
  },
  {
   "cell_type": "markdown",
   "metadata": {},
   "source": [
    "## 1. SORU"
   ]
  },
  {
   "cell_type": "code",
   "execution_count": 1,
   "metadata": {},
   "outputs": [
    {
     "name": "stdout",
     "output_type": "stream",
     "text": [
      "Lambayı yakma, bırak,\n",
      "sarı bir insan başı\n",
      "düşmesin pencereden kara.\n",
      "Kar yağıyor karanlıklara.\n",
      "Kar yağıyor ve ben hatırlıyorum.\n",
      "Kar...\n",
      "Üflenen bir mum gibi söndü koskocaman ışıklar...\n",
      "Ve şehir kör bir insan gibi kaldı\n",
      "altında yağan karın.\n",
      "Lambayı yakma, bırak!\n",
      "Kalbe bir bıçak gibi giren hatıraların\n",
      "dilsiz olduklarını anlıyorum.\n",
      "Kar yağıyor\n",
      "ve ben hatırlıyorum.\n"
     ]
    }
   ],
   "source": [
    "with open(\"kar.txt\", \"r\", encoding='utf8') as f:\n",
    "    line=f.read() \n",
    "\n",
    "print (line)"
   ]
  },
  {
   "cell_type": "code",
   "execution_count": 2,
   "metadata": {
    "scrolled": true
   },
   "outputs": [
    {
     "name": "stdout",
     "output_type": "stream",
     "text": [
      "Lambayı yakma, bırak,\n",
      "sarı bir insan başı\n",
      "düşmesin pencereden kara.\n",
      "Kar yağıyor karanlıklara.\n",
      "Kar yağıyor ve ben hatırlıyorum.\n",
      "Kar...\n",
      "Üflenen bir mum gibi söndü koskocaman ışıklar...\n",
      "Ve şehir kör bir insan gibi kaldı\n",
      "altında yağan karın.\n",
      "Lambayı yakma, bırak!\n",
      "Kalbe bir bıçak gibi giren hatıraların\n",
      "dilsiz olduklarını anlıyorum.\n",
      "Kar yağıyor\n",
      "ve ben hatırlıyorum.\n"
     ]
    }
   ],
   "source": [
    "with open(\"kar.txt\", \"r\", encoding='utf8') as f:\n",
    "    line=f.read() \n",
    "\n",
    "print (line)"
   ]
  },
  {
   "cell_type": "code",
   "execution_count": 3,
   "metadata": {
    "scrolled": true
   },
   "outputs": [
    {
     "name": "stdout",
     "output_type": "stream",
     "text": [
      "14\n"
     ]
    }
   ],
   "source": [
    "with open(\"kar.txt\", \"r\", encoding='utf8') as f:\n",
    "    dizeler = f.readlines()\n",
    "print(len(dizeler))"
   ]
  },
  {
   "cell_type": "code",
   "execution_count": 4,
   "metadata": {
    "scrolled": true
   },
   "outputs": [
    {
     "name": "stdout",
     "output_type": "stream",
     "text": [
      "['Lambayı yakma, bırak,\\n', 'sarı bir insan başı\\n', 'düşmesin pencereden kara.\\n', 'Kar yağıyor karanlıklara.\\n', 'Kar yağıyor ve ben hatırlıyorum.\\n', 'Kar...\\n', 'Üflenen bir mum gibi söndü koskocaman ışıklar...\\n', 'Ve şehir kör bir insan gibi kaldı\\n', 'altında yağan karın.\\n', 'Lambayı yakma, bırak!\\n', 'Kalbe bir bıçak gibi giren hatıraların\\n', 'dilsiz olduklarını anlıyorum.\\n', 'Kar yağıyor\\n', 've ben hatırlıyorum.']\n"
     ]
    }
   ],
   "source": [
    "with open(\"kar.txt\", \"r\", encoding='utf8') as f:\n",
    "    dizeler = f.readlines()\n",
    "    print(dizeler)"
   ]
  },
  {
   "cell_type": "code",
   "execution_count": 5,
   "metadata": {
    "scrolled": false
   },
   "outputs": [
    {
     "name": "stdout",
     "output_type": "stream",
     "text": [
      "Lambayı sarı düşmesin Kar Kar Kar... Üflenen Ve altında Lambayı Kalbe dilsiz Kar ve "
     ]
    }
   ],
   "source": [
    "for x in range (len(dizeler)) :\n",
    "    print (dizeler[x].split()[0], end=\" \")"
   ]
  },
  {
   "cell_type": "code",
   "execution_count": 6,
   "metadata": {},
   "outputs": [],
   "source": [
    "with open(\"yeni_şiir\",'w', encoding='utf8') as f: \n",
    "    for x in range (len(dizeler)) :\n",
    "        yeni_dize = (dizeler[x].split()[0])\n",
    "        f.write(yeni_dize)"
   ]
  },
  {
   "cell_type": "code",
   "execution_count": 7,
   "metadata": {},
   "outputs": [],
   "source": [
    "## 2. SORU"
   ]
  },
  {
   "cell_type": "code",
   "execution_count": null,
   "metadata": {},
   "outputs": [],
   "source": [
    "def asal_mi(x):\n",
    "    if x<=2:\n",
    "        return \"Sayınız Asaldır.\"\n",
    "    elif x>2:\n",
    "        for y in range (2,x):\n",
    "            if x%y==0 :\n",
    "                return \"Sayınız Asal Değildir.\"\n",
    "            else :\n",
    "                  return \"Sayınız Asaldır.\"\n",
    "    else :\n",
    "        return \"lütfen geçerli sayı giriniz!\"\n",
    "asal_mi(int(input(\"asal olduğunu öğrenmek istediğiniz sayı:\")))"
   ]
  },
  {
   "cell_type": "markdown",
   "metadata": {},
   "source": [
    "## 3.SORU"
   ]
  },
  {
   "cell_type": "code",
   "execution_count": 9,
   "metadata": {},
   "outputs": [
    {
     "name": "stdout",
     "output_type": "stream",
     "text": [
      "[1, 2, 3, 4]\n"
     ]
    }
   ],
   "source": [
    "def yeni (x) :\n",
    "    return list(dict.fromkeys(x))\n",
    "liste = yeni ([1,2,2,3,3,4,4])\n",
    "print (liste)"
   ]
  },
  {
   "cell_type": "markdown",
   "metadata": {},
   "source": [
    "## 4. SORU"
   ]
  },
  {
   "cell_type": "code",
   "execution_count": 10,
   "metadata": {},
   "outputs": [],
   "source": [
    "from datetime import date\n",
    "\n",
    "def calculate_age(born):\n",
    "    today = date.today()\n",
    "    return today.year - born.year - ((today.month, today.day) < (born.month, born.day))\n",
    "dob = date(1982, 7, 5)"
   ]
  },
  {
   "cell_type": "code",
   "execution_count": 11,
   "metadata": {
    "scrolled": true
   },
   "outputs": [
    {
     "data": {
      "text/plain": [
       "37"
      ]
     },
     "execution_count": 11,
     "metadata": {},
     "output_type": "execute_result"
    }
   ],
   "source": [
    "dob = date(1982, 7, 5)\n",
    "calculate_age(dob)"
   ]
  },
  {
   "cell_type": "markdown",
   "metadata": {},
   "source": [
    "BİTTİ. "
   ]
  }
 ],
 "metadata": {
  "kernelspec": {
   "display_name": "Python 3",
   "language": "python",
   "name": "python3"
  },
  "language_info": {
   "codemirror_mode": {
    "name": "ipython",
    "version": 3
   },
   "file_extension": ".py",
   "mimetype": "text/x-python",
   "name": "python",
   "nbconvert_exporter": "python",
   "pygments_lexer": "ipython3",
   "version": "3.7.4"
  }
 },
 "nbformat": 4,
 "nbformat_minor": 2
}
