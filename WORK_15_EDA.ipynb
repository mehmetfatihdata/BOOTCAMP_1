{
 "cells": [
  {
   "cell_type": "markdown",
   "metadata": {},
   "source": [
    "# mehmetfatihdata"
   ]
  },
  {
   "cell_type": "markdown",
   "metadata": {},
   "source": [
    "## SORU 1 "
   ]
  },
  {
   "cell_type": "markdown",
   "metadata": {},
   "source": [
    "**Keşifsel Veri Analizinin amacı nedir?"
   ]
  },
  {
   "cell_type": "markdown",
   "metadata": {},
   "source": [
    "Exploratory Data Analysis refers to the critical process of performing initial investigations on data \n",
    "so as to discover patterns,to spot anomalies,to test hypothesis and to check assumptions \n",
    "with the help of summary statistics and graphical representations."
   ]
  },
  {
   "cell_type": "markdown",
   "metadata": {},
   "source": [
    "## SORU 2"
   ]
  },
  {
   "cell_type": "markdown",
   "metadata": {},
   "source": [
    "**Bir e-ticaret şirketinin ürünlerine ait müşteri yorumlarını içeren bir veri kümesi üzerinde çalıştığınızı farz edin. Şirketin web sitesi aracılığıyla toplanan müşteri yorumları içeriğinin olumlu ya da olumsuz olmasına göre 1 ila 5 arasında derecelendirilmiştir."
   ]
  },
  {
   "cell_type": "markdown",
   "metadata": {},
   "source": [
    "Bu ham veride ne tür problemlerle karşılaşmayı beklersiniz?\n",
    "*Şirketin pazarlama politaksına bağlı olarak verilerde max değerde veya min değerde verilerin birikmiş olabilecektir.\n",
    "*Yoğun satış dönemlerinde elde edilen verilerin diğer dönemdeki verilerle uyuşmaması sonucunda genel bir tablonun bir bütün olarak ele alınamaması bir problem olabilecektir. \n",
    "\n",
    "**Göreviniz müşterilerin yorumlarının olumlu yada olumsuz olduğunu ortaya çıkaran özellikleri belirlemek olsaydı nasıl bir yaplaşımda bulunur ve bunun için hangi metodları kullanırdınız?\n",
    "*Derecelere göre müşterilerin bir sonraki alışveriş tarihlerini veya alışveriş boyutlarını kıyaslayabiliriz. Ayrıca diğer alışverişler sonucunda verilen puanlarda iyileşme gözüküyor mu? Aynı alışveriş kategorilerinde müşterilerin dercelendirme eğilimi nedir? ve neye göre değişiklik göstermektedir? incelenmesi gerekmektedir. \n",
    "\n",
    "Ham veriden çıkarılabilecek yararlı özelliklerin neler olabilir? Bu verilere nasıl ulaşılabilirsiniz ve bunların faydalı olup olmayacağını nasıl anlayabilirsiniz?\n",
    "*İptal ve iade işlemlerinin yoğunluğu ile derecelendirme işlemleri ilişkilendirilebilir. \n",
    "*Müşterilerin bir sonraki alışveriş tarihlerinin ve yoğunluklarının derecelendirme ile ilgili olup olmadığına ilişkin veri kümeleri ile ilişki kurarak yapabiliriz. "
   ]
  },
  {
   "cell_type": "markdown",
   "metadata": {},
   "source": [
    "ZAMAN AYIRDIĞINIZ İÇİN TEŞEKKÜRLER. "
   ]
  }
 ],
 "metadata": {
  "kernelspec": {
   "display_name": "Python 3",
   "language": "python",
   "name": "python3"
  },
  "language_info": {
   "codemirror_mode": {
    "name": "ipython",
    "version": 3
   },
   "file_extension": ".py",
   "mimetype": "text/x-python",
   "name": "python",
   "nbconvert_exporter": "python",
   "pygments_lexer": "ipython3",
   "version": "3.7.4"
  }
 },
 "nbformat": 4,
 "nbformat_minor": 2
}
