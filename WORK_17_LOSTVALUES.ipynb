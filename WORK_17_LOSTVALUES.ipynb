{
 "cells": [
  {
   "cell_type": "markdown",
   "metadata": {},
   "source": [
    "# mehmetfatihdata"
   ]
  },
  {
   "cell_type": "code",
   "execution_count": null,
   "metadata": {},
   "outputs": [],
   "source": [
    "import matplotlib.pyplot as plt\n",
    "import seaborn as sns\n",
    "import numpy as np\n",
    "import pandas as pd\n",
    "import seaborn as sns\n",
    "import scipy.stats as stats\n",
    "from scipy.stats.mstats import winsorize\n",
    "from sqlalchemy import create_engine\n",
    "import warnings\n",
    "\n",
    "warnings.filterwarnings('ignore')\n"
   ]
  },
  {
   "cell_type": "markdown",
   "metadata": {},
   "source": [
    "# Q1:\n",
    "Veri kümesinde yer alan değişkenlerinin tiplerini ve her bir değişkenin eksik (null) değer oranını bulun."
   ]
  },
  {
   "cell_type": "code",
   "execution_count": null,
   "metadata": {
    "scrolled": true
   },
   "outputs": [],
   "source": [
    "egitim = pd.read_csv(\"states_all.csv\")\n",
    "egitim.head(60)"
   ]
  },
  {
   "cell_type": "code",
   "execution_count": null,
   "metadata": {
    "scrolled": true
   },
   "outputs": [],
   "source": [
    "egitim.rename(columns={\"YEAR\": \"YIL\"}, errors=\"raise\").head(1)"
   ]
  },
  {
   "cell_type": "code",
   "execution_count": null,
   "metadata": {
    "scrolled": true
   },
   "outputs": [],
   "source": [
    "egitim.isnull().sum()*100/egitim.shape[0]"
   ]
  },
  {
   "cell_type": "markdown",
   "metadata": {},
   "source": [
    "# Q2:\n",
    "Verimizde yıl (year) sütunu olduğunu farketmişsinizdir. Şimdilik yıl verisini unutun ve her bir gözlemin aynı yıl içerisinde yapıldığını farz edin. Her bir değişken için eksik değerleri nasıl doldurabileceğinizi düşünün. Eksik değerleri bir değerle doldurmak hangi değişkenler için anlamlı, hangileri için anlamsızdır?\n"
   ]
  },
  {
   "cell_type": "code",
   "execution_count": null,
   "metadata": {
    "scrolled": true
   },
   "outputs": [],
   "source": [
    "egitim.info()"
   ]
  },
  {
   "cell_type": "code",
   "execution_count": null,
   "metadata": {
    "scrolled": true
   },
   "outputs": [],
   "source": [
    "plt.subplot(151)\n",
    "plt.hist(egitim[\"TOTAL_REVENUE\"])\n",
    "plt.subplot(152)\n",
    "plt.hist(egitim[\"TOTAL_EXPENDITURE\"])\n",
    "plt.subplot(153)\n",
    "plt.hist(egitim[\"GRADES_ALL_G\"])\n",
    "plt.subplot(154)\n",
    "plt.hist(egitim[\"AVG_MATH_8_SCORE\"])\n",
    "plt.subplot(155)\n",
    "plt.hist(egitim[\"AVG_READING_8_SCORE\"])"
   ]
  },
  {
   "cell_type": "markdown",
   "metadata": {},
   "source": [
    "Yıllar dikkate alınmadığında;\n",
    "**Kolonlardaki veriler belirli bir sıralama ile devam etmediğinden, eksik değerlerin enterpolasyon ile doldurulması mantıklı değildir. \n",
    "**Histogramlar incelendiğinde dağılımlardan normal dağılıma yakın olanların medyan veya ortalama ile doldurulmasına karara verilebiirken, diğerlerine mod ile doldurulmasına karar verilebilir. Böylelikle mükemmel bir sonuç elde edilebilir. \n"
   ]
  },
  {
   "cell_type": "markdown",
   "metadata": {},
   "source": [
    "# Q3:\n",
    "Şimdi zaman faktörünü dikkate alma zamanı! 2. sorudaki cevabınızı tekrar gözden geçirin ve eksik verileri o yıl içerisinde gözlemlenen değerlere dayanarak doldurun. Örneğin, bir değeri ortalama değer ile doldurmak isterseniz, o yılın ortalamasını hesaplayın.\n"
   ]
  },
  {
   "cell_type": "code",
   "execution_count": null,
   "metadata": {},
   "outputs": [],
   "source": [
    "fill_list=egitim.columns\n",
    "years=egitim[\"YEAR\"]\n",
    "for col in fill_list:\n",
    "    for year in years :\n",
    "        egitim.loc[egitim['YEAR'] == year]\n",
    "        "
   ]
  },
  {
   "cell_type": "code",
   "execution_count": null,
   "metadata": {
    "scrolled": true
   },
   "outputs": [],
   "source": [
    "def doldur (x):\n",
    "    x.fillna(egitim.groupby('YEAR').mean()[\"AVG_READING_8_SCORE\"])\n",
    "apply(doldur(egitim[\"AVG_READING_8_SCORE\"]))\n"
   ]
  },
  {
   "cell_type": "code",
   "execution_count": null,
   "metadata": {},
   "outputs": [],
   "source": [
    "egitim[\"AVG_READING_8_SCORE\"] = egitim[\"AVG_READING_8_SCORE\"].apply(\n",
    "    egitim[\"AVG_READING_8_SCORE\"].fillna(egitim.groupby('YEAR').mean()[\"AVG_READING_8_SCORE\"])"
   ]
  },
  {
   "cell_type": "code",
   "execution_count": null,
   "metadata": {
    "scrolled": true
   },
   "outputs": [],
   "source": [
    "egitim.groupby('YEAR').mean()[\"AVG_READING_8_SCORE\"]"
   ]
  },
  {
   "cell_type": "code",
   "execution_count": null,
   "metadata": {
    "scrolled": true
   },
   "outputs": [],
   "source": [
    "egitim[\"AVG_READING_8_SCORE\"].fillna(egitim.groupby('YEAR').mean()[\"AVG_READING_8_SCORE\"])"
   ]
  },
  {
   "cell_type": "code",
   "execution_count": null,
   "metadata": {},
   "outputs": [],
   "source": [
    "egitim"
   ]
  },
  {
   "cell_type": "code",
   "execution_count": null,
   "metadata": {
    "scrolled": false
   },
   "outputs": [],
   "source": [
    "eksik_degerli = youtube[(youtube[\"video_sayisi\"].str.strip() == \"--\") | (youtube[\"abone_sayisi\"].str.strip() == \"--\")]\n",
    "display(eksik_degerli.tail())\n",
    "print('Eksik değerli kayıt satır sayısı : ',  len(eksik_degerli))"
   ]
  },
  {
   "cell_type": "code",
   "execution_count": null,
   "metadata": {
    "scrolled": false
   },
   "outputs": [],
   "source": [
    "egitim[\"AVG_READING_8_SCORE\"].interpolate(method='linear', limit_direction='forward', axis=0)"
   ]
  }
 ],
 "metadata": {
  "kernelspec": {
   "display_name": "Python 3",
   "language": "python",
   "name": "python3"
  },
  "language_info": {
   "codemirror_mode": {
    "name": "ipython",
    "version": 3
   },
   "file_extension": ".py",
   "mimetype": "text/x-python",
   "name": "python",
   "nbconvert_exporter": "python",
   "pygments_lexer": "ipython3",
   "version": "3.7.4"
  }
 },
 "nbformat": 4,
 "nbformat_minor": 2
}
