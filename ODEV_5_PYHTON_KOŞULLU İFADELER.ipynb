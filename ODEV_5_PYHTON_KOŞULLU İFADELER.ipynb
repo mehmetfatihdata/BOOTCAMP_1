{
 "cells": [
  {
   "cell_type": "markdown",
   "metadata": {},
   "source": [
    "# mehmetfatihdata"
   ]
  },
  {
   "cell_type": "markdown",
   "metadata": {},
   "source": [
    "# SORU 1"
   ]
  },
  {
   "cell_type": "code",
   "execution_count": null,
   "metadata": {},
   "outputs": [],
   "source": [
    "sıcaklık = input (\"Bir sıcaklık değeri giriniz!(Ör:30C, 86F):\")\n",
    "if sıcaklık[-1].upper() == \"C\" :\n",
    "    print (int(int(sıcaklık[0:-1])*9/5+32), \"F\")\n",
    "elif sıcaklık[-1].upper() == \"F\" :\n",
    "    print (int((int(sıcaklık[0:-1])-32)*5/9), \"C\")\n",
    "else :\n",
    "    print (\"Geçerli bir sıcaklık değeri girmediniz!\")"
   ]
  },
  {
   "cell_type": "markdown",
   "metadata": {},
   "source": [
    "# SORU 2"
   ]
  },
  {
   "cell_type": "code",
   "execution_count": null,
   "metadata": {},
   "outputs": [],
   "source": [
    "inputwords = input (\"bir kelime giriniz:\")\n",
    " \n",
    "print (inputwords[::-1])"
   ]
  },
  {
   "cell_type": "markdown",
   "metadata": {},
   "source": [
    "# SORU 3"
   ]
  },
  {
   "cell_type": "code",
   "execution_count": null,
   "metadata": {},
   "outputs": [],
   "source": [
    "f1 = 1\n",
    "f2 = 1\n",
    "x = f1 + f2\n",
    "liste = [f1, f2]\n",
    "while x< 51:\n",
    "    fi1 = f1\n",
    "    fi2 = f2\n",
    "    f1 = fi2\n",
    "    f2 = fi1 + fi2\n",
    "    liste.append(f2)\n",
    "    x += fi2\n",
    "print (liste)"
   ]
  },
  {
   "cell_type": "code",
   "execution_count": null,
   "metadata": {},
   "outputs": [],
   "source": [
    "liste = [1,1]\n",
    "while liste[-1]+liste[-2]<50 :\n",
    "    liste.append(liste[-1]+liste[-2])\n",
    "print (liste)"
   ]
  },
  {
   "cell_type": "markdown",
   "metadata": {},
   "source": [
    "# SORU 4"
   ]
  },
  {
   "cell_type": "code",
   "execution_count": null,
   "metadata": {
    "scrolled": false
   },
   "outputs": [],
   "source": [
    "sayi = input (\"Bir sayı giriniz:\")\n",
    "for a in range(1,11):\n",
    "    b=a*int(sayi)\n",
    "    print (sayi,\"X\",a ,\"=\",b )"
   ]
  },
  {
   "cell_type": "markdown",
   "metadata": {},
   "source": [
    "# SORU 5"
   ]
  },
  {
   "cell_type": "code",
   "execution_count": null,
   "metadata": {},
   "outputs": [],
   "source": [
    "liste = []###1'den 20'ye kadar sayılara ait liste\n",
    "for r in range (1,20):\n",
    "    if r%2 == 0 :\n",
    "        liste.append(r**2)\n",
    "    else :\n",
    "        liste.append(r**3)\n",
    "print (liste)"
   ]
  },
  {
   "cell_type": "code",
   "execution_count": 8,
   "metadata": {},
   "outputs": [
    {
     "name": "stdout",
     "output_type": "stream",
     "text": [
      "[1, 4, 27, 16, 125, 36, 343, 64, 729, 100, 1331, 144, 2197, 196, 3375, 256, 4913, 324, 6859] "
     ]
    }
   ],
   "source": [
    "Sayılar = [x**2 if x%2 == 0 else x**3 for x in range (1,20)]\n",
    "print (Sayılar,end=\" \")"
   ]
  },
  {
   "cell_type": "markdown",
   "metadata": {},
   "source": [
    "BİTTİ."
   ]
  }
 ],
 "metadata": {
  "kernelspec": {
   "display_name": "Python 3",
   "language": "python",
   "name": "python3"
  },
  "language_info": {
   "codemirror_mode": {
    "name": "ipython",
    "version": 3
   },
   "file_extension": ".py",
   "mimetype": "text/x-python",
   "name": "python",
   "nbconvert_exporter": "python",
   "pygments_lexer": "ipython3",
   "version": "3.7.4"
  }
 },
 "nbformat": 4,
 "nbformat_minor": 2
}
