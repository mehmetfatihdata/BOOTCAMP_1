{
 "cells": [
  {
   "cell_type": "code",
   "execution_count": 5,
   "metadata": {},
   "outputs": [
    {
     "name": "stdout",
     "output_type": "stream",
     "text": [
      "The number is less than 10\n"
     ]
    }
   ],
   "source": [
    "number = 23\n",
    "if number >= 10 :\n",
    "    print('The number is equal or greater than 10')\n",
    "else:\n",
    "    print('The number is less than 10')\n"
   ]
  },
  {
   "cell_type": "code",
   "execution_count": 8,
   "metadata": {},
   "outputs": [
    {
     "name": "stdin",
     "output_type": "stream",
     "text": [
      "Enter your score : 83\n"
     ]
    },
    {
     "name": "stdout",
     "output_type": "stream",
     "text": [
      "Your degree: B\n"
     ]
    }
   ],
   "source": [
    "score = int (input(\"Enter your score :\"))\n",
    "\n",
    "if score >= 90:\n",
    "    if score >= 95:\n",
    "        Score_letter=\"A+\"\n",
    "    else:\n",
    "        Score_letter=\"A\"\n",
    "elif score >= 80:\n",
    "    if score >= 85:\n",
    "        Score_letter=\"B+\"\n",
    "    else:\n",
    "        Score_letter=\"B\"\n",
    "else:\n",
    "    Score_letter=\"below B\"\n",
    "\n",
    "print (\"Your degree: %s\" % Score_letter)\n"
   ]
  },
  {
   "cell_type": "code",
   "execution_count": 12,
   "metadata": {},
   "outputs": [
    {
     "name": "stdout",
     "output_type": "stream",
     "text": [
      "{'d', 'p', 'h', 'i', 'l'}\n",
      "{'d', 'p', 'h', 'i', 'l'}\n"
     ]
    }
   ],
   "source": [
    "one = set('dolphin')\n",
    "two = set('philadelphia')\n",
    "print(one.intersection(two))\n",
    "print(two.intersection(one))\n"
   ]
  },
  {
   "cell_type": "code",
   "execution_count": 24,
   "metadata": {},
   "outputs": [
    {
     "name": "stdout",
     "output_type": "stream",
     "text": [
      "{'o', 'n'}\n",
      "{'e', 'a'}\n",
      "{'o', 'n'}\n",
      "{'e', 'a'}\n"
     ]
    }
   ],
   "source": [
    "a = set('dolphin')\n",
    "b = set('philadelphia')\n",
    "\n",
    "print(a.difference(b))\n",
    "print(b.difference(a))\n",
    "\n",
    "print(a - b)\n",
    "print(b - a)"
   ]
  },
  {
   "cell_type": "code",
   "execution_count": null,
   "metadata": {},
   "outputs": [],
   "source": [
    "a = set('dolphin')\n",
    "b = set('philadelphia')\n",
    "\n",
    "print(a.difference(b))\n",
    "print(b.difference(a))\n",
    "\n",
    "print(a - b)\n",
    "print(b - a)"
   ]
  },
  {
   "cell_type": "code",
   "execution_count": 25,
   "metadata": {},
   "outputs": [
    {
     "name": "stdout",
     "output_type": "stream",
     "text": [
      "{'d', 'n', 'p', 'h', 'o', 'a', 'e', 'i', 'l'}\n",
      "{'l', 'd', 'n', 'p', 'h', 'o', 'e', 'i', 'a'}\n",
      "{'d', 'n', 'p', 'h', 'o', 'a', 'e', 'i', 'l'}\n",
      "{'l', 'd', 'n', 'p', 'h', 'o', 'e', 'i', 'a'}\n"
     ]
    }
   ],
   "source": [
    "print(a.union(b))\n",
    "print(b.union(a))\n",
    "\n",
    "print(a | b)\n",
    "print(b | a)"
   ]
  },
  {
   "cell_type": "code",
   "execution_count": 26,
   "metadata": {},
   "outputs": [
    {
     "name": "stdout",
     "output_type": "stream",
     "text": [
      "{'d', 'p', 'h', 'i', 'l'}\n",
      "{'d', 'p', 'h', 'i', 'l'}\n"
     ]
    }
   ],
   "source": [
    "print(a & b)\n",
    "print(a.intersection(b))\n",
    "\n"
   ]
  },
  {
   "cell_type": "code",
   "execution_count": 32,
   "metadata": {},
   "outputs": [
    {
     "name": "stdout",
     "output_type": "stream",
     "text": [
      "{'04/14/2021'}\n",
      "{'04/14/2021'}\n",
      "<class 'set'>\n",
      "<class 'set'>\n"
     ]
    }
   ],
   "source": [
    "var = {'04/14/2021'}\n",
    "var1 =  {'04/14/2021',}\n",
    "print(var)\n",
    "print(var1)\n",
    "print(type(var))\n",
    "print(type(var1))\n"
   ]
  },
  {
   "cell_type": "code",
   "execution_count": 29,
   "metadata": {},
   "outputs": [
    {
     "data": {
      "text/plain": [
       "{'/', '0', '1', '2', '4'}"
      ]
     },
     "execution_count": 29,
     "metadata": {},
     "output_type": "execute_result"
    }
   ],
   "source": [
    "set('04/14/2021')"
   ]
  },
  {
   "cell_type": "code",
   "execution_count": 34,
   "metadata": {},
   "outputs": [
    {
     "name": "stdout",
     "output_type": "stream",
     "text": [
      "{'i', 'h', 'a'} {'t', 'l', 'g', 'n', 'h', 's', 'o', 'e', 'W', 'i', 'a'} {'a', 'h', 's'}\n"
     ]
    }
   ],
   "source": [
    "us = set('Washington')\n",
    "nz = set ('Wellington')\n",
    "print(us.intersection(b),\\\n",
    "      us.union(nz),\\\n",
    "      us.difference(nz))\n"
   ]
  },
  {
   "cell_type": "code",
   "execution_count": 36,
   "metadata": {},
   "outputs": [
    {
     "name": "stdout",
     "output_type": "stream",
     "text": [
      "it's True\n"
     ]
    }
   ],
   "source": [
    "if True:\n",
    "    print(\"it's True\")\n",
    "    "
   ]
  },
  {
   "cell_type": "code",
   "execution_count": 38,
   "metadata": {},
   "outputs": [],
   "source": [
    "if False:\n",
    "    print(\"it's False\")\n",
    "    "
   ]
  },
  {
   "cell_type": "code",
   "execution_count": 39,
   "metadata": {},
   "outputs": [
    {
     "name": "stdout",
     "output_type": "stream",
     "text": [
      "true\n"
     ]
    }
   ],
   "source": [
    "if 1:\n",
    "    print(\"true\")"
   ]
  },
  {
   "cell_type": "code",
   "execution_count": 40,
   "metadata": {},
   "outputs": [
    {
     "name": "stdout",
     "output_type": "stream",
     "text": [
      "bu da mı çıkıyor\n"
     ]
    }
   ],
   "source": [
    "if 41465:\n",
    "    print(\"bu da mı çıkıyor\")"
   ]
  },
  {
   "cell_type": "code",
   "execution_count": 11,
   "metadata": {},
   "outputs": [
    {
     "name": "stdin",
     "output_type": "stream",
     "text": [
      "is it grocery open? Ttrue\n"
     ]
    },
    {
     "name": "stdout",
     "output_type": "stream",
     "text": [
      "Bon apetit\n"
     ]
    }
   ],
   "source": [
    "minced_meat = True\n",
    "hamburger = True\n",
    "lettuce = True\n",
    "pepper = True\n",
    "grocery_store = True\n",
    "ingredient = minced_meat and lettuce and grocery_store and (lettuce or pepper)\n",
    "grocery_available = input(\"is it grocery open?\")\n",
    "if grocery_available and ingredient:\n",
    "    print(\"Bon apetit\")"
   ]
  },
  {
   "cell_type": "code",
   "execution_count": 19,
   "metadata": {},
   "outputs": [
    {
     "name": "stdin",
     "output_type": "stream",
     "text": [
      "enter yes or no: no\n"
     ]
    },
    {
     "name": "stdout",
     "output_type": "stream",
     "text": [
      "False\n"
     ]
    }
   ],
   "source": [
    "answer = input(\"enter yes or no:\")\n",
    "if answer == \"yes\":\n",
    "    print(True)\n",
    "elif answer == \"no\":\n",
    "    print(False)\n",
    "else:\n",
    "    print(\"başka ihtimal düşünme:)\")"
   ]
  },
  {
   "cell_type": "code",
   "execution_count": 3,
   "metadata": {},
   "outputs": [
    {
     "name": "stdin",
     "output_type": "stream",
     "text": [
      "enter yes or no: YES\n"
     ]
    },
    {
     "name": "stdout",
     "output_type": "stream",
     "text": [
      "True\n"
     ]
    }
   ],
   "source": [
    "print(input(\"enter yes or no:\").title().strip() == \"Yes\")\n"
   ]
  },
  {
   "cell_type": "code",
   "execution_count": 1,
   "metadata": {},
   "outputs": [
    {
     "name": "stdin",
     "output_type": "stream",
     "text": [
      "enter yes or no: YES\n"
     ]
    },
    {
     "name": "stdout",
     "output_type": "stream",
     "text": [
      "True\n"
     ]
    }
   ],
   "source": [
    "answer = input(\"enter yes or no:\").title().strip()\n",
    "\n",
    "result = answer == \"Yes\"\n",
    "print(result)\n"
   ]
  },
  {
   "cell_type": "code",
   "execution_count": 6,
   "metadata": {},
   "outputs": [
    {
     "name": "stdin",
     "output_type": "stream",
     "text": [
      "enter number: 42\n"
     ]
    },
    {
     "name": "stdout",
     "output_type": "stream",
     "text": [
      "it is even\n"
     ]
    }
   ],
   "source": [
    "number = int(input('enter number:'))\n",
    "if number % 2 == 0:\n",
    "    print (\"it is even\")\n",
    "else:\n",
    "    print('it is odd')\n",
    "    "
   ]
  },
  {
   "cell_type": "code",
   "execution_count": 9,
   "metadata": {},
   "outputs": [
    {
     "name": "stdin",
     "output_type": "stream",
     "text": [
      "enter number: -45\n"
     ]
    },
    {
     "name": "stdout",
     "output_type": "stream",
     "text": [
      "it is negative\n"
     ]
    }
   ],
   "source": [
    "number = int(input('enter number:'))\n",
    "if number  > 0:\n",
    "    print (\"it is positive\")\n",
    "else:\n",
    "    print('it is negative')"
   ]
  },
  {
   "cell_type": "code",
   "execution_count": 10,
   "metadata": {},
   "outputs": [
    {
     "name": "stdin",
     "output_type": "stream",
     "text": [
      "enter number: 1\n",
      "enter number: 2\n"
     ]
    },
    {
     "name": "stdout",
     "output_type": "stream",
     "text": [
      "large number: 2\n"
     ]
    }
   ],
   "source": [
    "number1 = int(input('enter number:'))\n",
    "number2 = int(input('enter number:'))\n",
    "\n",
    "if number1 > number2:\n",
    "    print (\"large number:\", number1)\n",
    "else:\n",
    "    print (\"large number:\", number2)\n",
    "    \n",
    "    "
   ]
  },
  {
   "cell_type": "code",
   "execution_count": 12,
   "metadata": {},
   "outputs": [
    {
     "name": "stdout",
     "output_type": "stream",
     "text": [
      "yes\n"
     ]
    }
   ],
   "source": [
    "bool_value = True\n",
    "if bool_value:\n",
    "    print(\"yes\")\n",
    "else:\n",
    "    print(\"no\")\n",
    "    "
   ]
  },
  {
   "cell_type": "code",
   "execution_count": 16,
   "metadata": {},
   "outputs": [
    {
     "name": "stdin",
     "output_type": "stream",
     "text": [
      "enter number: 45\n",
      "enter number: 47\n",
      "enter number: 49\n"
     ]
    },
    {
     "name": "stdout",
     "output_type": "stream",
     "text": [
      "large number: 49\n"
     ]
    }
   ],
   "source": [
    "number1 = int(input('enter number:'))\n",
    "number2 = int(input('enter number:'))\n",
    "number3 = int(input('enter number:'))\n",
    "\n",
    "if number1 > number2 and number1 > number3:\n",
    "    print (\"large number:\", number1)\n",
    "elif number2 > number1 and number2 > number3:\n",
    "    print (\"large number:\", number2)\n",
    "else:\n",
    "    print (\"large number:\", number3)\n",
    "        "
   ]
  }
 ],
 "metadata": {
  "kernelspec": {
   "display_name": "Python 3",
   "language": "python",
   "name": "python3"
  },
  "language_info": {
   "codemirror_mode": {
    "name": "ipython",
    "version": 3
   },
   "file_extension": ".py",
   "mimetype": "text/x-python",
   "name": "python",
   "nbconvert_exporter": "python",
   "pygments_lexer": "ipython3",
   "version": "3.7.4"
  }
 },
 "nbformat": 4,
 "nbformat_minor": 4
}
