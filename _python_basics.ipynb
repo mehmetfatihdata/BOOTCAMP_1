{
 "cells": [
  {
   "cell_type": "markdown",
   "metadata": {},
   "source": [
    "### NOTE(1) - PYTHON BASICS"
   ]
  },
  {
   "cell_type": "markdown",
   "metadata": {},
   "source": [
    "The IT industry is booming with Data science applications using,\n",
    "\n",
    "Artificial intelligence,\n",
    "Deep learning and\n",
    "Machine learning algorithms."
   ]
  },
  {
   "cell_type": "markdown",
   "metadata": {},
   "source": [
    "Q: What is Python?\n",
    "A: Python is a programming language. It allows you to control the computer. The benefits of Pythons are that it is simple and easy, portable, extensible."
   ]
  },
  {
   "cell_type": "markdown",
   "metadata": {},
   "source": [
    "Guido van Rossum named this programming language inspired by the show of Monty Python’s Flying Circus from an English comedy group called The Monty Python."
   ]
  },
  {
   "cell_type": "markdown",
   "metadata": {},
   "source": [
    "Surrounding the expression with triple quotes: \"\"\"...\"\"\" or '''...''' ensures that the code returns no error, especially in long texts."
   ]
  },
  {
   "cell_type": "code",
   "execution_count": 8,
   "metadata": {},
   "outputs": [
    {
     "name": "stdout",
     "output_type": "stream",
     "text": [
      "deneme\n",
      "(1, 2, 3, 4)\n",
      "2345\n",
      "sen bana bakma\n",
      "ben senin\n",
      "baktığın yönde \n",
      "olurum.\n",
      "\n"
     ]
    }
   ],
   "source": [
    "# NOT SUITABLE (PEP8) \n",
    "print (\"deneme\")\n",
    "\n",
    "a = (1,2,3,4)\n",
    "print(a)\n",
    "for i in a:\n",
    "    print(1+i,end=\"\")\n",
    "b='''\n",
    "sen bana bakma\n",
    "ben senin\n",
    "baktığın yönde \n",
    "olurum.\n",
    "'''\n",
    "print(b)"
   ]
  },
  {
   "cell_type": "code",
   "execution_count": 9,
   "metadata": {},
   "outputs": [
    {
     "name": "stdout",
     "output_type": "stream",
     "text": [
      "deneme\n",
      "(1, 2, 3, 4)\n",
      "2345\n",
      "sen bana bakma\n",
      "ben senin\n",
      "baktığın yönde\n",
      "olurum.\n",
      "\n"
     ]
    }
   ],
   "source": [
    "# SUITABLE (PEP8) \n",
    "print(\"deneme\")\n",
    "\n",
    "a = (1, 2, 3, 4)\n",
    "print(a)\n",
    "for i in a:\n",
    "    print(1+i, end=\"\")\n",
    "b = '''\n",
    "sen bana bakma\n",
    "ben senin\n",
    "baktığın yönde\n",
    "olurum.\n",
    "'''\n",
    "print(b)\n"
   ]
  },
  {
   "cell_type": "markdown",
   "metadata": {},
   "source": [
    "💡Tips:\n",
    "If you have noticed we used 👉🏻. not 👉🏻, for the decimal number: 3.14.\n",
    "Surrounding the expression with quotes makes it in string type. We will see immutable types (int, string, tuple, etc.) in the next lessons."
   ]
  },
  {
   "cell_type": "code",
   "execution_count": 3,
   "metadata": {},
   "outputs": [
    {
     "name": "stdout",
     "output_type": "stream",
     "text": [
      "no pain\n",
      "no gain\n",
      "3.14\n"
     ]
    }
   ],
   "source": [
    "print('no pain')\n",
    "print('no gain')\n",
    "print(3.14)\n"
   ]
  },
  {
   "cell_type": "code",
   "execution_count": 4,
   "metadata": {},
   "outputs": [
    {
     "name": "stdout",
     "output_type": "stream",
     "text": [
      "first line\n",
      "\n",
      "third line\n"
     ]
    }
   ],
   "source": [
    "print('first line')\n",
    "print()  # second line is empty\n",
    "print('third line')"
   ]
  },
  {
   "cell_type": "markdown",
   "metadata": {},
   "source": [
    "Q: What is PEP 8?\n",
    "A: PEP stands for Python Enhancement Proposal. PEP 8 is a coding convention, a set of recommendation, about how to write your Python code more readable. In other words, PEP 8 is a document that gives coding conventions for the Python code comprising the standard library in the main Python distribution."
   ]
  },
  {
   "cell_type": "markdown",
   "metadata": {},
   "source": [
    "PEP 8 is some kind of document which covers traditional rules of good coding conventions."
   ]
  },
  {
   "cell_type": "markdown",
   "metadata": {},
   "source": [
    "YES : if y == 3: print x, y; x, y = y, x , NO : if y == 3 : print x , y ; x , y = y , x"
   ]
  },
  {
   "cell_type": "markdown",
   "metadata": {},
   "source": [
    "PEP 8 CHECK\n",
    "http://pep8online.com/"
   ]
  },
  {
   "cell_type": "markdown",
   "metadata": {},
   "source": [
    "💡Tips:\n",
    "To begin with, after 👉🏻 # there should be one space, and in the inline comments, there should be at least two spaces between the end of the code and 👉🏻 #.\n",
    "A comment is not a piece of code. It should be short. It's better to split a long comment into multiple lines. You have to add 👉🏻 # at the beginning of each new line."
   ]
  },
  {
   "cell_type": "markdown",
   "metadata": {},
   "source": [
    "⚠️Avoid ! :\n",
    "More comments don't necessarily need to be better. If code is self-explanatory, comments are unnecessary.\n",
    "Do not make unnecessary comments. Usually, comments should answer the question why as opposed to what.\n",
    "When necessary, update your comment. Be sure that your comments will not be in contradiction to the code."
   ]
  },
  {
   "cell_type": "code",
   "execution_count": 10,
   "metadata": {},
   "outputs": [
    {
     "name": "stdout",
     "output_type": "stream",
     "text": [
      "it's not easy to write true code\n"
     ]
    }
   ],
   "source": [
    "print(\"it's not easy to write true code\")  # kolay kolay kolay "
   ]
  },
  {
   "cell_type": "code",
   "execution_count": 24,
   "metadata": {},
   "outputs": [
    {
     "ename": "TypeError",
     "evalue": "descriptor 'append' requires a 'list' object but received a 'str'",
     "output_type": "error",
     "traceback": [
      "\u001b[1;31m---------------------------------------------------------------------------\u001b[0m",
      "\u001b[1;31mTypeError\u001b[0m                                 Traceback (most recent call last)",
      "\u001b[1;32m<ipython-input-24-398dd1ee5916>\u001b[0m in \u001b[0;36m<module>\u001b[1;34m\u001b[0m\n\u001b[1;32m----> 1\u001b[1;33m \u001b[0mlist\u001b[0m\u001b[1;33m.\u001b[0m\u001b[0mappend\u001b[0m\u001b[1;33m(\u001b[0m\u001b[1;34m\"utf8\"\u001b[0m\u001b[1;33m)\u001b[0m  \u001b[1;31m#adds a new element into a list\u001b[0m\u001b[1;33m\u001b[0m\u001b[1;33m\u001b[0m\u001b[0m\n\u001b[0m",
      "\u001b[1;31mTypeError\u001b[0m: descriptor 'append' requires a 'list' object but received a 'str'"
     ]
    }
   ],
   "source": [
    "list.append(\"utf8\")  #adds a new element into a list"
   ]
  },
  {
   "cell_type": "code",
   "execution_count": 25,
   "metadata": {},
   "outputs": [
    {
     "name": "stdout",
     "output_type": "stream",
     "text": [
      "\n",
      "Hi, I am the docstring of this code. \n",
      "If you need any information about this function or module, read me. \n",
      "It can help you understand how the module or function works.\n",
      "    \n"
     ]
    }
   ],
   "source": [
    "def function(): # Don't be confused, we use 'def()' to create a function. \n",
    "                # You will see it in the next lessons.\n",
    "    \"\"\"\n",
    "Hi, I am the docstring of this code. \n",
    "If you need any information about this function or module, read me. \n",
    "It can help you understand how the module or function works.\n",
    "    \"\"\"\n",
    "print(function.__doc__)"
   ]
  },
  {
   "cell_type": "code",
   "execution_count": 26,
   "metadata": {},
   "outputs": [
    {
     "name": "stdout",
     "output_type": "stream",
     "text": [
      "print(value, ..., sep=' ', end='\\n', file=sys.stdout, flush=False)\n",
      "\n",
      "Prints the values to a stream, or to sys.stdout by default.\n",
      "Optional keyword arguments:\n",
      "file:  a file-like object (stream); defaults to the current sys.stdout.\n",
      "sep:   string inserted between values, default a space.\n",
      "end:   string appended after the last value, default a newline.\n",
      "flush: whether to forcibly flush the stream.\n"
     ]
    }
   ],
   "source": [
    "print(print.__doc__)"
   ]
  },
  {
   "cell_type": "code",
   "execution_count": 28,
   "metadata": {},
   "outputs": [],
   "source": [
    "# Use comment for debbugging and documenting. Let's make a habit. "
   ]
  },
  {
   "cell_type": "markdown",
   "metadata": {},
   "source": [
    "💡Tips:\n",
    "Remember, a nice and meaningful naming of variables is a skill that can be gained over time. Of course, you also need to be familiar with PEP 8 traditional rules."
   ]
  },
  {
   "cell_type": "code",
   "execution_count": 34,
   "metadata": {},
   "outputs": [
    {
     "data": {
      "text/plain": [
       "1234567"
      ]
     },
     "execution_count": 34,
     "metadata": {},
     "output_type": "execute_result"
    }
   ],
   "source": [
    "x_y_z = 1_234_567\n",
    "x_y_z"
   ]
  },
  {
   "cell_type": "code",
   "execution_count": 36,
   "metadata": {},
   "outputs": [
    {
     "data": {
      "text/plain": [
       "1"
      ]
     },
     "execution_count": 36,
     "metadata": {},
     "output_type": "execute_result"
    }
   ],
   "source": [
    "x, y, z = 1, 234, 567\n",
    "x"
   ]
  },
  {
   "cell_type": "code",
   "execution_count": 38,
   "metadata": {},
   "outputs": [
    {
     "name": "stdout",
     "output_type": "stream",
     "text": [
      "user_gender = \"Male\"\n"
     ]
    }
   ],
   "source": [
    "print('user_gender = \"Male\"')"
   ]
  }
 ],
 "metadata": {
  "kernelspec": {
   "display_name": "Python 3",
   "language": "python",
   "name": "python3"
  },
  "language_info": {
   "codemirror_mode": {
    "name": "ipython",
    "version": 3
   },
   "file_extension": ".py",
   "mimetype": "text/x-python",
   "name": "python",
   "nbconvert_exporter": "python",
   "pygments_lexer": "ipython3",
   "version": "3.7.4"
  }
 },
 "nbformat": 4,
 "nbformat_minor": 4
}
