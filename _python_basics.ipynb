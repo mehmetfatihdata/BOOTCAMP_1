{
 "cells": [
  {
   "cell_type": "markdown",
   "metadata": {},
   "source": [
    "### NOTE(1) - PYTHON BASICS"
   ]
  },
  {
   "cell_type": "markdown",
   "metadata": {},
   "source": [
    "##### PYTHON\n",
    "###### Flexible Programming Language\n",
    "###### Designed to be Human Readable\n",
    "###### Great Smarter Language\n",
    "###### Great Advanced Language\n",
    "###### Wonderful Community"
   ]
  },
  {
   "cell_type": "markdown",
   "metadata": {},
   "source": [
    "The IT industry is booming with Data science applications using,\n",
    "\n",
    "Artificial intelligence,\n",
    "Deep learning and\n",
    "Machine learning algorithms."
   ]
  },
  {
   "cell_type": "markdown",
   "metadata": {},
   "source": [
    "Q: What is Python?\n",
    "A: Python is a programming language. It allows you to control the computer. The benefits of Pythons are that it is simple and easy, portable, extensible."
   ]
  },
  {
   "cell_type": "markdown",
   "metadata": {},
   "source": [
    "Guido van Rossum named this programming language inspired by the show of Monty Python’s Flying Circus from an English comedy group called The Monty Python."
   ]
  },
  {
   "cell_type": "markdown",
   "metadata": {},
   "source": [
    "Surrounding the expression with triple quotes: \"\"\"...\"\"\" or '''...''' ensures that the code returns no error, especially in long texts."
   ]
  },
  {
   "cell_type": "code",
   "execution_count": 1,
   "metadata": {},
   "outputs": [
    {
     "name": "stdout",
     "output_type": "stream",
     "text": [
      "deneme\n",
      "(1, 2, 3, 4)\n",
      "2345\n",
      "sen bana bakma\n",
      "ben senin\n",
      "baktığın yönde \n",
      "olurum.\n",
      "\n"
     ]
    }
   ],
   "source": [
    "# NOT SUITABLE (PEP8) \n",
    "print (\"deneme\")\n",
    "\n",
    "a=(1,2,3,4)\n",
    "print(a)\n",
    "for i in a:\n",
    "    print(1+i,end=\"\")\n",
    "b='''\n",
    "sen bana bakma\n",
    "ben senin\n",
    "baktığın yönde \n",
    "olurum.\n",
    "'''\n",
    "print(b)"
   ]
  },
  {
   "cell_type": "code",
   "execution_count": 2,
   "metadata": {},
   "outputs": [
    {
     "name": "stdout",
     "output_type": "stream",
     "text": [
      "deneme\n",
      "(1, 2, 3, 4)\n",
      "2345\n",
      "sen bana bakma\n",
      "ben senin\n",
      "baktığın yönde\n",
      "olurum.\n",
      "\n"
     ]
    }
   ],
   "source": [
    "# SUITABLE (PEP8) \n",
    "print(\"deneme\")\n",
    "\n",
    "a = (1, 2, 3, 4)\n",
    "print(a)\n",
    "for i in a:\n",
    "    print(1 + i, end = \"\")\n",
    "b = '''\n",
    "sen bana bakma\n",
    "ben senin\n",
    "baktığın yönde\n",
    "olurum.\n",
    "'''\n",
    "print(b)\n"
   ]
  },
  {
   "cell_type": "markdown",
   "metadata": {},
   "source": [
    "💡Tips:\n",
    "If you have noticed we used 👉🏻. not 👉🏻, for the decimal number: 3.14.\n",
    "Surrounding the expression with quotes makes it in string type. We will see immutable types (int, string, tuple, etc.) in the next lessons."
   ]
  },
  {
   "cell_type": "code",
   "execution_count": 3,
   "metadata": {},
   "outputs": [
    {
     "name": "stdout",
     "output_type": "stream",
     "text": [
      "no pain\n",
      "no gain\n",
      "3.14\n"
     ]
    }
   ],
   "source": [
    "print('no pain')\n",
    "print('no gain')\n",
    "print(3.14)\n"
   ]
  },
  {
   "cell_type": "code",
   "execution_count": 4,
   "metadata": {},
   "outputs": [
    {
     "name": "stdout",
     "output_type": "stream",
     "text": [
      "first line\n",
      "\n",
      "third line\n"
     ]
    }
   ],
   "source": [
    "print('first line')\n",
    "print()  # second line is empty\n",
    "print('third line')"
   ]
  },
  {
   "cell_type": "markdown",
   "metadata": {},
   "source": [
    "Q: What is PEP 8?\n",
    "A: PEP stands for Python Enhancement Proposal. PEP 8 is a coding convention, a set of recommendation, about how to write your Python code more readable. In other words, PEP 8 is a document that gives coding conventions for the Python code comprising the standard library in the main Python distribution."
   ]
  },
  {
   "cell_type": "markdown",
   "metadata": {},
   "source": [
    "PEP 8 is some kind of document which covers traditional rules of good coding conventions."
   ]
  },
  {
   "cell_type": "markdown",
   "metadata": {},
   "source": [
    "YES : if y == 3: print x, y; x, y = y, x , NO : if y == 3 : print x , y ; x , y = y , x"
   ]
  },
  {
   "cell_type": "markdown",
   "metadata": {},
   "source": [
    "PEP 8 CHECK\n",
    "http://pep8online.com/"
   ]
  },
  {
   "cell_type": "markdown",
   "metadata": {},
   "source": [
    "💡Tips:\n",
    "To begin with, after 👉🏻 # there should be one space, and in the inline comments, there should be at least two spaces between the end of the code and 👉🏻 #.\n",
    "A comment is not a piece of code. It should be short. It's better to split a long comment into multiple lines. You have to add 👉🏻 # at the beginning of each new line."
   ]
  },
  {
   "cell_type": "markdown",
   "metadata": {},
   "source": [
    "⚠️Avoid ! :\n",
    "More comments don't necessarily need to be better. If code is self-explanatory, comments are unnecessary.\n",
    "Do not make unnecessary comments. Usually, comments should answer the question why as opposed to what.\n",
    "When necessary, update your comment. Be sure that your comments will not be in contradiction to the code."
   ]
  },
  {
   "cell_type": "code",
   "execution_count": 5,
   "metadata": {},
   "outputs": [
    {
     "name": "stdout",
     "output_type": "stream",
     "text": [
      "it's not easy to write true code\n"
     ]
    }
   ],
   "source": [
    "print(\"it's not easy to write true code\")  # kolay kolay kolay "
   ]
  },
  {
   "cell_type": "code",
   "execution_count": 7,
   "metadata": {},
   "outputs": [],
   "source": [
    "# list.append(\"utf8\")  #adds a new element into a list"
   ]
  },
  {
   "cell_type": "code",
   "execution_count": 8,
   "metadata": {},
   "outputs": [
    {
     "name": "stdout",
     "output_type": "stream",
     "text": [
      "\n",
      "Hi, I am the docstring of this code. \n",
      "If you need any information about this function or module, read me. \n",
      "It can help you understand how the module or function works.\n",
      "    \n"
     ]
    }
   ],
   "source": [
    "def function(): # We use 'def()' to create a function. \n",
    "               \n",
    "    \"\"\"\n",
    "Hi, I am the docstring of this code. \n",
    "If you need any information about this function or module, read me. \n",
    "It can help you understand how the module or function works.\n",
    "    \"\"\"\n",
    "print(function.__doc__)"
   ]
  },
  {
   "cell_type": "code",
   "execution_count": 9,
   "metadata": {},
   "outputs": [
    {
     "name": "stdout",
     "output_type": "stream",
     "text": [
      "print(value, ..., sep=' ', end='\\n', file=sys.stdout, flush=False)\n",
      "\n",
      "Prints the values to a stream, or to sys.stdout by default.\n",
      "Optional keyword arguments:\n",
      "file:  a file-like object (stream); defaults to the current sys.stdout.\n",
      "sep:   string inserted between values, default a space.\n",
      "end:   string appended after the last value, default a newline.\n",
      "flush: whether to forcibly flush the stream.\n"
     ]
    }
   ],
   "source": [
    "print(print.__doc__)"
   ]
  },
  {
   "cell_type": "code",
   "execution_count": 10,
   "metadata": {},
   "outputs": [],
   "source": [
    "# Use comment for debbugging and documenting. Let's make a habit. "
   ]
  },
  {
   "cell_type": "markdown",
   "metadata": {},
   "source": [
    "💡Tips:\n",
    "Remember, a nice and meaningful naming of variables is a skill that can be gained over time. Of course, you also need to be familiar with PEP 8 traditional rules."
   ]
  },
  {
   "cell_type": "code",
   "execution_count": 11,
   "metadata": {},
   "outputs": [
    {
     "data": {
      "text/plain": [
       "1234567"
      ]
     },
     "execution_count": 11,
     "metadata": {},
     "output_type": "execute_result"
    }
   ],
   "source": [
    "x_y_z = 1_234_567\n",
    "x_y_z"
   ]
  },
  {
   "cell_type": "code",
   "execution_count": 12,
   "metadata": {},
   "outputs": [
    {
     "data": {
      "text/plain": [
       "1"
      ]
     },
     "execution_count": 12,
     "metadata": {},
     "output_type": "execute_result"
    }
   ],
   "source": [
    "x, y, z = 1, 234, 567\n",
    "x"
   ]
  },
  {
   "cell_type": "code",
   "execution_count": 13,
   "metadata": {},
   "outputs": [
    {
     "name": "stdout",
     "output_type": "stream",
     "text": [
      "user_gender = \"Male\"\n"
     ]
    }
   ],
   "source": [
    "print('user_gender = \"Male\"')"
   ]
  },
  {
   "cell_type": "markdown",
   "metadata": {},
   "source": [
    "💡Tips:\n",
    "Note that, we assign value to a variable using 👉 ="
   ]
  },
  {
   "cell_type": "markdown",
   "metadata": {},
   "source": [
    "DATA TYPES:\n",
    "\n",
    "String,\n",
    "\n",
    "Signed Integer,\n",
    "\n",
    "Floating Point,\n",
    "\n",
    "Complex,\n",
    "\n",
    "Boolean."
   ]
  },
  {
   "cell_type": "code",
   "execution_count": 14,
   "metadata": {},
   "outputs": [
    {
     "name": "stdout",
     "output_type": "stream",
     "text": [
      "I have learned strings\n"
     ]
    }
   ],
   "source": [
    "text1 = \"I have learned strings\"  # surrounded with double quotes\n",
    "print(text1)\n"
   ]
  },
  {
   "cell_type": "markdown",
   "metadata": {},
   "source": [
    "💡Tips:\n",
    "71 and 71.0 have the same numerical value. But they differ in terms of numeric type. The types of these numbers are int and float respectively."
   ]
  },
  {
   "cell_type": "markdown",
   "metadata": {},
   "source": [
    "Q: What are the numerical data types in Python and their properties?\n",
    "\n",
    "A:\n",
    "Integers : they are whole numbers (positive, negative or zero), including no decimal point.\n",
    "Floats : they stand for real numbers with a decimal point.\n",
    "Complexes : they are written in the form, x + yj , where x is the real part and y is the imaginary part."
   ]
  },
  {
   "cell_type": "markdown",
   "metadata": {},
   "source": [
    "\n",
    "Q: Describe the Boolean types in detail.\n",
    "A: Boolean types are called bool and their values are the two constant objects True and False. They are used to represent truth values (other values can also be considered false or true).\n",
    "\n",
    "In numeric contexts (for example, when used as the argument to an arithmetic operator), they behave like the integers 0 and 1, respectively.\n",
    "\n",
    "Bools are important data types that are widely used in Python as they can find use in every aspect of our daily lives. For example, imagine, whether the TV is turned on or off in your home or if the weather is rainy can be explained easily with bools."
   ]
  },
  {
   "cell_type": "code",
   "execution_count": 15,
   "metadata": {},
   "outputs": [
    {
     "data": {
      "text/plain": [
       "0.0"
      ]
     },
     "execution_count": 15,
     "metadata": {},
     "output_type": "execute_result"
    }
   ],
   "source": [
    "str() # converts to string type\n",
    "int() # converts to signed integer type\n",
    "float() # converts to floating point type"
   ]
  },
  {
   "cell_type": "code",
   "execution_count": 16,
   "metadata": {},
   "outputs": [
    {
     "name": "stdout",
     "output_type": "stream",
     "text": [
      "<class 'str'>\n"
     ]
    }
   ],
   "source": [
    "example1 = 'sometimes what you say is less important than how you say it'\n",
    "print(type(example1))"
   ]
  },
  {
   "cell_type": "markdown",
   "metadata": {},
   "source": [
    "💡Tips:\n",
    "Note that we write the first letter of True in uppercase. This is the rule of Python that we must write like this : True, False."
   ]
  },
  {
   "cell_type": "code",
   "execution_count": 17,
   "metadata": {},
   "outputs": [
    {
     "name": "stdout",
     "output_type": "stream",
     "text": [
      "3.0 \n",
      "\n",
      "<class 'float'>\n"
     ]
    }
   ],
   "source": [
    "i = 3 # variable name = value\n",
    "\n",
    "f = float(i)\n",
    "print(f, '\\n')\n",
    "print(type(f)) \n"
   ]
  },
  {
   "cell_type": "code",
   "execution_count": 18,
   "metadata": {},
   "outputs": [
    {
     "name": "stdout",
     "output_type": "stream",
     "text": [
      "28\n",
      "36.5\n",
      "I am at_39\n"
     ]
    }
   ],
   "source": [
    "x = 39\n",
    "v = \"11\"\n",
    "y = \"2.5\"\n",
    "z = \"I am at_\"\n",
    "\n",
    "print(x-int(v))\n",
    "print(x-float(y))\n",
    "print(z+str(x))\n"
   ]
  },
  {
   "cell_type": "markdown",
   "metadata": {},
   "source": [
    "💡Tips:\n",
    "Note that, it is important that the value of any type in Python can be converted to a string."
   ]
  },
  {
   "cell_type": "markdown",
   "metadata": {},
   "source": [
    "Q: What are the 'type conversion' and basic methods of that in Python?\n",
    "A: Type conversion refers to the conversion of one data type into another.\n",
    "\n",
    "int() – converts some data types into integer type.\n",
    "\n",
    "float() – converts some data types into float type.\n",
    "\n",
    "str() – converts any data type into string type."
   ]
  },
  {
   "cell_type": "code",
   "execution_count": 19,
   "metadata": {},
   "outputs": [
    {
     "name": "stdout",
     "output_type": "stream",
     "text": [
      "blue, 100, winter\n"
     ]
    }
   ],
   "source": [
    "color = 'red'  # str type variable\n",
    "season = 'summer'\n",
    "price = 250  # int type variable\n",
    "pi = 3.14  # float type variable\n",
    "color = 'blue'  # You can always assign a new value to a created variable\n",
    "price = 100  # value of 'price' is changed\n",
    "season = 'winter'  \n",
    "\n",
    "print(color, price, season, sep=', ') # Note that, the last value assigned to a variable is valid.\n"
   ]
  },
  {
   "cell_type": "code",
   "execution_count": 20,
   "metadata": {},
   "outputs": [
    {
     "name": "stdout",
     "output_type": "stream",
     "text": [
      "5, 5, 5\n"
     ]
    }
   ],
   "source": [
    "a = 5\n",
    "b = 55\n",
    "c = 555\n",
    "c = a\n",
    "b = c\n",
    "a = b\n",
    "\n",
    "print(a, b, c, sep = ', ')\n"
   ]
  },
  {
   "cell_type": "markdown",
   "metadata": {},
   "source": [
    "⚠️Avoid ! :\n",
    "Note that, If you use undefined name of a variable in the code you write, you will get an 'NameError' message."
   ]
  },
  {
   "cell_type": "markdown",
   "metadata": {},
   "source": [
    "And operator : The and operator evaluates all expressions and returns the last expression if all expressions are evaluated True. Otherwise, it returns the ﬁrst value that evaluated False.\n",
    "\n",
    "Or operator : The or operator evaluates the expressions left to right and returns the ﬁrst value that evaluated True or the last value (if none is True)."
   ]
  },
  {
   "cell_type": "code",
   "execution_count": 21,
   "metadata": {},
   "outputs": [
    {
     "name": "stdout",
     "output_type": "stream",
     "text": [
      "True\n"
     ]
    }
   ],
   "source": [
    "logic = True and False or not False or False\n",
    "print(logic)\n"
   ]
  },
  {
   "cell_type": "markdown",
   "metadata": {},
   "source": [
    "💡Tips:Note that and and or return one of its operands, not necessarily a bool type. But not always returns bool type."
   ]
  },
  {
   "cell_type": "markdown",
   "metadata": {},
   "source": [
    "Q: What is the order of priority of the logical operators?\n",
    "A:\n",
    "\n",
    "not\n",
    "and\n",
    "or"
   ]
  },
  {
   "cell_type": "markdown",
   "metadata": {},
   "source": [
    "None.\n",
    "Zero of any numeric type: 0, 0.0, 0j\n",
    "Empty sequences and collections: '', [], {}.\n",
    "Other than above values, any remaining value is evaluated as True."
   ]
  },
  {
   "cell_type": "code",
   "execution_count": 22,
   "metadata": {},
   "outputs": [
    {
     "name": "stdout",
     "output_type": "stream",
     "text": [
      "2\n",
      "3\n",
      "2\n",
      "3\n"
     ]
    }
   ],
   "source": [
    "print(3 and 2)\n",
    "print(2 and 3)\n",
    "print(2 or 3)\n",
    "print(3 or 2)\n"
   ]
  },
  {
   "cell_type": "code",
   "execution_count": 23,
   "metadata": {},
   "outputs": [
    {
     "name": "stdout",
     "output_type": "stream",
     "text": [
      "3\n"
     ]
    }
   ],
   "source": [
    "print(2 and 3)\n"
   ]
  },
  {
   "cell_type": "markdown",
   "metadata": {},
   "source": [
    "Q: What are the values evaluated to False when applied to a Boolean operator?\n",
    "A:\n",
    "\n",
    "None and False.\n",
    "Zero of any numeric type: 0, 0.0, 0j.\n",
    "Empty sequences and collections: '', [], {}.\n",
    "Any remaining value is evaluated as True.\n"
   ]
  },
  {
   "cell_type": "code",
   "execution_count": 24,
   "metadata": {},
   "outputs": [
    {
     "name": "stdout",
     "output_type": "stream",
     "text": [
      "Word                   :  Orange\n",
      "First letter           :  O\n",
      "Second letter          :  r\n",
      "3rd to 5th letters     :  ang\n",
      "Letter all after 3rd   :  ange\n"
     ]
    }
   ],
   "source": [
    "fruit = 'Orange'\n",
    "\n",
    "print('Word                   : ' , fruit)\n",
    "print('First letter           : ' , fruit[0])\n",
    "print('Second letter          : ' , fruit[1])\n",
    "print(\"3rd to 5th letters     : \" , fruit[2:5])\n",
    "print(\"Letter all after 3rd   : \" , fruit[2:])\n"
   ]
  },
  {
   "cell_type": "code",
   "execution_count": 26,
   "metadata": {},
   "outputs": [
    {
     "name": "stdout",
     "output_type": "stream",
     "text": [
      "hoenix\n",
      "Phoeni\n",
      "Ponx\n",
      "hei\n",
      "nix\n",
      "xineohP\n"
     ]
    }
   ],
   "source": [
    "city = 'Phoenix'\n",
    "\n",
    "print(city[1:])  # starts from index 1 to the end\n",
    "print(city[:6])  # starts from zero to 5th index\n",
    "print(city[::2])  # starts from zero to end by 2 step\n",
    "print(city[1::2])  # starts from index 1 to the end by 2 step\n",
    "print(city[-3:])  # starts from index -3 to the end\n",
    "print(city[::-1])  # negative step starts from the end to zero\n"
   ]
  },
  {
   "cell_type": "code",
   "execution_count": 27,
   "metadata": {},
   "outputs": [
    {
     "name": "stdout",
     "output_type": "stream",
     "text": [
      "length of the word Tomato is : 6\n"
     ]
    }
   ],
   "source": [
    "vegetable = 'Tomato'\n",
    "\n",
    "print('length of the word', vegetable, 'is :', len(vegetable))\n"
   ]
  },
  {
   "cell_type": "code",
   "execution_count": 28,
   "metadata": {},
   "outputs": [
    {
     "name": "stdout",
     "output_type": "stream",
     "text": [
      "using + : OrangeTomato\n",
      "using * : OrangeOrangeOrange\n"
     ]
    }
   ],
   "source": [
    "fruit = 'Orange'\n",
    "vegetable = 'Tomato'\n",
    "print(\"using + :\", fruit + vegetable)\n",
    "print(\"using * :\", 3 * fruit)\n"
   ]
  },
  {
   "cell_type": "markdown",
   "metadata": {},
   "source": [
    " There are several ways in Python that we use when processing and using string data structures. What are the most important of these:\n",
    "A:\n",
    "\n",
    "Arithmetic syntax (+, * and =),\n",
    "% operator formatting,\n",
    "string.format() method,\n",
    "f-string formatting."
   ]
  },
  {
   "cell_type": "code",
   "execution_count": 29,
   "metadata": {},
   "outputs": [
    {
     "name": "stdout",
     "output_type": "stream",
     "text": [
      "I have 4 children and 5.00 brothers\n"
     ]
    }
   ],
   "source": [
    "phrase = 'I have %d %s and %.2f brothers' % (4, \"children\", 5)  \n",
    "print (phrase)\n"
   ]
  },
  {
   "cell_type": "code",
   "execution_count": 30,
   "metadata": {},
   "outputs": [
    {
     "data": {
      "text/plain": [
       "float"
      ]
     },
     "execution_count": 30,
     "metadata": {},
     "output_type": "execute_result"
    }
   ],
   "source": [
    "a = 5 + 2.5 # integer + float = float\n",
    "type(a)"
   ]
  },
  {
   "cell_type": "markdown",
   "metadata": {},
   "source": [
    "💡Tips:\n",
    "In the '%s' syntax : s stands for 'string'.\n",
    "In the '%.2f' syntax : f stands for 'float'. In this example 2 digits after point.\n",
    "In the '%d' syntax : d stands for 'numeric'."
   ]
  },
  {
   "cell_type": "code",
   "execution_count": 31,
   "metadata": {},
   "outputs": [
    {
     "name": "stdout",
     "output_type": "stream",
     "text": [
      "33 pounds of bananas left\n"
     ]
    }
   ],
   "source": [
    "print('%(amount)d pounds of %(fruit)s left' % {'amount': 33, 'fruit':'bananas'})"
   ]
  },
  {
   "cell_type": "code",
   "execution_count": 32,
   "metadata": {},
   "outputs": [],
   "source": [
    "x = \"HelloWorld!\""
   ]
  },
  {
   "cell_type": "code",
   "execution_count": 33,
   "metadata": {},
   "outputs": [
    {
     "name": "stdout",
     "output_type": "stream",
     "text": [
      "Hello\n"
     ]
    }
   ],
   "source": [
    "print('%.5s' % x)"
   ]
  },
  {
   "cell_type": "code",
   "execution_count": 34,
   "metadata": {},
   "outputs": [
    {
     "name": "stdout",
     "output_type": "stream",
     "text": [
      "apologizing\n"
     ]
    }
   ],
   "source": [
    "sentence = \"apologizingis a virtue\"\n",
    "\n",
    "print(\"%.11s\" % sentence)  # we get first 11 characters of the string\n"
   ]
  },
  {
   "cell_type": "code",
   "execution_count": 35,
   "metadata": {},
   "outputs": [
    {
     "name": "stdout",
     "output_type": "stream",
     "text": [
      "The amount of Orange we bought is 4 pounds\n"
     ]
    }
   ],
   "source": [
    "fruit = 'Orange'\n",
    "vegetable = 'Tomato'\n",
    "amount = 4\n",
    "print('The amount of {} we bought is {} pounds'.format(fruit, amount))\n"
   ]
  },
  {
   "cell_type": "code",
   "execution_count": 36,
   "metadata": {},
   "outputs": [
    {
     "name": "stdout",
     "output_type": "stream",
     "text": [
      "California is the most crowded state of the USA\n"
     ]
    }
   ],
   "source": [
    "print('{state} is the most {adjective} state of the {country}'.format(state='California', country='USA', adjective='crowded'))\n"
   ]
  },
  {
   "cell_type": "code",
   "execution_count": 37,
   "metadata": {},
   "outputs": [
    {
     "name": "stdout",
     "output_type": "stream",
     "text": [
      "California is the most crowded state of the USA\n"
     ]
    }
   ],
   "source": [
    "print('{0} is the most {adjective} state of the {country}'.format('California', country='USA', adjective='crowded'))\n"
   ]
  },
  {
   "cell_type": "code",
   "execution_count": 38,
   "metadata": {},
   "outputs": [
    {
     "name": "stdout",
     "output_type": "stream",
     "text": [
      "I will have found a job in 6 months\n"
     ]
    }
   ],
   "source": [
    "print(\"{6} {0} {5} {3} {4} {1} {2}\".format('have', 6, 'months', 'a job', 'in', 'found', 'I will'))\n"
   ]
  },
  {
   "cell_type": "code",
   "execution_count": 39,
   "metadata": {},
   "outputs": [
    {
     "name": "stdout",
     "output_type": "stream",
     "text": [
      "Good teachers know how to bring out the best in students.\n"
     ]
    }
   ],
   "source": [
    "print(\"{9} {7} {1} {10} {3} {2} {5} {8} {6} {0} {4}\".format('in', 'know', 'bring', 'to', 'students.', 'out', 'best', 'teachers', 'the', 'Good', 'how'))"
   ]
  },
  {
   "cell_type": "code",
   "execution_count": 40,
   "metadata": {},
   "outputs": [
    {
     "name": "stdout",
     "output_type": "stream",
     "text": [
      "The amount of Orange and Tomato we bought are totally 6 pounds\n"
     ]
    }
   ],
   "source": [
    "fruit = 'Orange'\n",
    "vegetable = 'Tomato'\n",
    "amount = 6\n",
    "output = f\"The amount of {fruit} and {vegetable} we bought are totally {amount} pounds\"\n",
    "\n",
    "print(output)\n"
   ]
  },
  {
   "cell_type": "code",
   "execution_count": 41,
   "metadata": {},
   "outputs": [
    {
     "name": "stdout",
     "output_type": "stream",
     "text": [
      "My name is Joseph\n"
     ]
    }
   ],
   "source": [
    "my_name = 'JOSEPH'\n",
    "output = f\"My name is {my_name.capitalize()}\"\n",
    "\n",
    "print(output)\n"
   ]
  },
  {
   "cell_type": "code",
   "execution_count": 42,
   "metadata": {},
   "outputs": [
    {
     "name": "stdout",
     "output_type": "stream",
     "text": [
      "Hi Joseph. You are one of the teachers in the Data Science section.\n"
     ]
    }
   ],
   "source": [
    "name = \"Joseph\"\n",
    "job = \"teachers\"\n",
    "domain = \"Data Science\"\n",
    "message = (f\"Hi {name}. \"  f\"You are one of the {job} \" f\"in the {domain} section.\"\n",
    ")\n",
    "print(message)\n"
   ]
  },
  {
   "cell_type": "code",
   "execution_count": 43,
   "metadata": {},
   "outputs": [
    {
     "name": "stdout",
     "output_type": "stream",
     "text": [
      "Hi Joseph. You are one of the teachers in the Data Science section.\n"
     ]
    }
   ],
   "source": [
    "name = \"Joseph\"\n",
    "job = \"teachers\"\n",
    "domain = \"Data Science\"\n",
    "message = f\"Hi {name}. \" \\\n",
    "     f\"You are one of the {job} \" \\\n",
    "     f\"in the {domain} section.\"\n",
    "print(message)\n",
    "# Q: 'f-string formatting' lines without parentheses?\n",
    "# A: You can use backslashes \\ between f-lines.\n"
   ]
  },
  {
   "cell_type": "markdown",
   "metadata": {},
   "source": [
    "\\n : means new line,\n",
    "\n",
    "\\t : means tab mark,\n",
    "\n",
    "\\b : means backspace. It moves the cursor one character to the left.\n",
    "\n",
    "Look at these examples carefully:"
   ]
  },
  {
   "cell_type": "code",
   "execution_count": 44,
   "metadata": {},
   "outputs": [
    {
     "name": "stdout",
     "output_type": "stream",
     "text": [
      "one\ttwo\tthree\n"
     ]
    }
   ],
   "source": [
    "print(\"one\", \"two\", \"three\", sep = \"\\t\") # separated by tab marks"
   ]
  },
  {
   "cell_type": "code",
   "execution_count": 45,
   "metadata": {},
   "outputs": [
    {
     "name": "stdout",
     "output_type": "stream",
     "text": [
      "weareunited\n"
     ]
    }
   ],
   "source": [
    "print('we', '\\bare', '\\bunited') # remember, normally print() function\n",
    "# separates expressions by spaces\n"
   ]
  },
  {
   "cell_type": "code",
   "execution_count": 46,
   "metadata": {},
   "outputs": [
    {
     "name": "stdout",
     "output_type": "stream",
     "text": [
      "it's funny to learn Python\n"
     ]
    }
   ],
   "source": [
    "print('it\\'s funny to learn Python') \n"
   ]
  },
  {
   "cell_type": "code",
   "execution_count": 47,
   "metadata": {},
   "outputs": [
    {
     "name": "stdout",
     "output_type": "stream",
     "text": [
      "<class 'str'>\n",
      "<class 'float'>\n",
      "<class 'int'>\n"
     ]
    }
   ],
   "source": [
    "print (type('hello'), type(3.14), type (74), sep='\\n')"
   ]
  },
  {
   "cell_type": "code",
   "execution_count": 48,
   "metadata": {},
   "outputs": [
    {
     "name": "stdout",
     "output_type": "stream",
     "text": [
      "C:\\november\\number_expenditure.txt\n"
     ]
    }
   ],
   "source": [
    "print('C:\\\\november\\\\number_expenditure.txt')\n"
   ]
  },
  {
   "cell_type": "markdown",
   "metadata": {},
   "source": [
    "⚠️Avoid ! :\n",
    "Be careful, when using 👉🏻\\ in the long string. It may cause error because of its functionality described above. Using 👉🏻\\\\ guarantees no error."
   ]
  },
  {
   "cell_type": "code",
   "execution_count": 49,
   "metadata": {},
   "outputs": [
    {
     "name": "stdout",
     "output_type": "stream",
     "text": [
      "it \n"
     ]
    }
   ],
   "source": [
    "print('it', '')"
   ]
  },
  {
   "cell_type": "code",
   "execution_count": 50,
   "metadata": {},
   "outputs": [
    {
     "data": {
      "text/plain": [
       "\"print(value, ..., sep=' ', end='\\\\n', file=sys.stdout, flush=False)\\n\\nPrints the values to a stream, or to sys.stdout by default.\\nOptional keyword arguments:\\nfile:  a file-like object (stream); defaults to the current sys.stdout.\\nsep:   string inserted between values, default a space.\\nend:   string appended after the last value, default a newline.\\nflush: whether to forcibly flush the stream.\""
      ]
     },
     "execution_count": 50,
     "metadata": {},
     "output_type": "execute_result"
    }
   ],
   "source": [
    "print.__doc__"
   ]
  },
  {
   "cell_type": "code",
   "execution_count": 51,
   "metadata": {},
   "outputs": [
    {
     "name": "stdout",
     "output_type": "stream",
     "text": [
      "Return the sum of a 'start' value (default: 0) plus an iterable of numbers\n",
      "\n",
      "When the iterable is empty, return the start value.\n",
      "This function is intended specifically for use with numeric values and may\n",
      "reject non-numeric types.\n"
     ]
    }
   ],
   "source": [
    "print(sum.__doc__)"
   ]
  },
  {
   "cell_type": "code",
   "execution_count": 52,
   "metadata": {},
   "outputs": [
    {
     "name": "stdout",
     "output_type": "stream",
     "text": [
      "Forward raw_input to frontends\n",
      "\n",
      "        Raises\n",
      "        ------\n",
      "        StdinNotImplentedError if active frontend doesn't support stdin.\n",
      "        \n"
     ]
    }
   ],
   "source": [
    "print(input.__doc__)"
   ]
  },
  {
   "cell_type": "code",
   "execution_count": 53,
   "metadata": {},
   "outputs": [
    {
     "name": "stdout",
     "output_type": "stream",
     "text": [
      "map(func, *iterables) --> map object\n",
      "\n",
      "Make an iterator that computes the function using arguments from\n",
      "each of the iterables.  Stops when the shortest iterable is exhausted.\n"
     ]
    }
   ],
   "source": [
    "print(map.__doc__)"
   ]
  },
  {
   "cell_type": "code",
   "execution_count": 54,
   "metadata": {},
   "outputs": [
    {
     "name": "stdout",
     "output_type": "stream",
     "text": [
      "('jupyter', 'saturn', 'neptun')+++(143, 144, 145)+++(1, 2, 3)\n"
     ]
    }
   ],
   "source": [
    "planet = (\"jupyter\", \"saturn\", \"neptun\")\n",
    "astroid = (143, 144, 145)\n",
    "stars = (1, 2 , 3)\n",
    "print (planet, astroid, stars, sep='+++')"
   ]
  },
  {
   "cell_type": "code",
   "execution_count": 55,
   "metadata": {},
   "outputs": [
    {
     "name": "stdout",
     "output_type": "stream",
     "text": [
      "True\n",
      "False\n"
     ]
    }
   ],
   "source": [
    "text = 'www.clway.com'\n",
    "print(text.endswith('.com'))\n",
    "print(text.startswith('http:'))\n"
   ]
  },
  {
   "cell_type": "code",
   "execution_count": 56,
   "metadata": {},
   "outputs": [
    {
     "name": "stdout",
     "output_type": "stream",
     "text": [
      "True\n",
      "True\n"
     ]
    }
   ],
   "source": [
    "email = \"clarusway@clarusway.com is my e-mailS address\"\n",
    "print(email.startswith(\"@\", 9))\n",
    "print(email.endswith(\"-\", 10, 32))\n"
   ]
  },
  {
   "cell_type": "code",
   "execution_count": 57,
   "metadata": {},
   "outputs": [
    {
     "name": "stdout",
     "output_type": "stream",
     "text": [
      "False\n",
      "True\n"
     ]
    },
    {
     "data": {
      "text/plain": [
       "'m'"
      ]
     },
     "execution_count": 57,
     "metadata": {},
     "output_type": "execute_result"
    }
   ],
   "source": [
    "print(email.endswith(\"-\", 13))\n",
    "print(email.startswith(\"-\", 31))\n",
    "email[32]"
   ]
  },
  {
   "cell_type": "code",
   "execution_count": 58,
   "metadata": {},
   "outputs": [
    {
     "data": {
      "text/plain": [
       "45"
      ]
     },
     "execution_count": 58,
     "metadata": {},
     "output_type": "execute_result"
    }
   ],
   "source": [
    "len(email)"
   ]
  },
  {
   "cell_type": "code",
   "execution_count": 60,
   "metadata": {},
   "outputs": [
    {
     "name": "stdout",
     "output_type": "stream",
     "text": [
      "28\n",
      "True\n",
      "True\n"
     ]
    }
   ],
   "source": [
    "phrase = \"myemailaddress@clarusway.com\"\n",
    "print(len(phrase))\n",
    "print(phrase.startswith(\"@\", 14))\n",
    "print(phrase.endswith(\".\", 15, 25))\n"
   ]
  },
  {
   "cell_type": "code",
   "execution_count": 61,
   "metadata": {},
   "outputs": [
    {
     "name": "stdout",
     "output_type": "stream",
     "text": [
      "I LIVE AND WORK IN VIRGINIA\n",
      "i live and work in virginia\n",
      "i LIVE AND WORK IN vIRGINIA\n",
      "I live and work in Virginia\n"
     ]
    }
   ],
   "source": [
    "sentence = \"I live and work in Virginia\"\n",
    "\n",
    "print(sentence.upper())  \n",
    "\n",
    "print(sentence.lower())\n",
    "\n",
    "print(sentence.swapcase())\n",
    "\n",
    "print(sentence)  # note that, source text is unchanged\n"
   ]
  },
  {
   "cell_type": "code",
   "execution_count": 62,
   "metadata": {},
   "outputs": [
    {
     "name": "stdout",
     "output_type": "stream",
     "text": [
      "I Live And Work In Virginia\n",
      "I l+ve and work +n V+rg+n+a\n",
      "I live and work in Virginia\n"
     ]
    }
   ],
   "source": [
    "sentence = \"I live and work in Virginia\"\n",
    "title_sentence = sentence.title() \n",
    "print(title_sentence)  \n",
    "\n",
    "changed_sentence = sentence.replace(\"i\", \"+\")\n",
    "print(changed_sentence)  \n",
    "\n",
    "print(sentence)  # note that, again source text is unchanged\n"
   ]
  },
  {
   "cell_type": "code",
   "execution_count": 63,
   "metadata": {},
   "outputs": [
    {
     "name": "stdout",
     "output_type": "stream",
     "text": [
      "i LIVE AND WORK IN vIRGINIA\n",
      "I live and work in virginia\n"
     ]
    }
   ],
   "source": [
    "sentence = \"I live and work in Virginia\"\n",
    "swap_case = sentence.swapcase()\n",
    "print(swap_case)\n",
    "print(swap_case.capitalize())  # changes 'i' to uppercase and\n",
    "# the rest to lowercase\n"
   ]
  },
  {
   "cell_type": "code",
   "execution_count": 64,
   "metadata": {},
   "outputs": [
    {
     "name": "stdout",
     "output_type": "stream",
     "text": [
      "listen first\n"
     ]
    }
   ],
   "source": [
    "space_string = \"     listen first      \"\n",
    "print(space_string.strip())  # removes all spaces from both sides\n"
   ]
  },
  {
   "cell_type": "code",
   "execution_count": 65,
   "metadata": {},
   "outputs": [
    {
     "name": "stdout",
     "output_type": "stream",
     "text": [
      "nteroperabilit\n",
      "nteroperabilitys\n",
      "nteroperabil\n"
     ]
    }
   ],
   "source": [
    "source_string = \"interoperability\"\n",
    "print(source_string.strip(\"yi\"))  \n",
    "# removes trailing \"y\" or \"i\" or \"yi\" or \"iy\" from both sides\n",
    "source_strings = \"interoperabilitys\"\n",
    "print(source_strings.strip(\"yi\"))  \n",
    "# removes trailing \"y\" or \"i\" or \"yi\" or \"iy\" from both sides\n",
    "sources_strings = \"interoperability\"\n",
    "print(sources_strings.strip(\"tyi\"))  \n",
    "# removes trailing \"y\" or \"i\" or \"yi\" or \"iy\" from both sides"
   ]
  },
  {
   "cell_type": "code",
   "execution_count": 66,
   "metadata": {},
   "outputs": [
    {
     "name": "stdout",
     "output_type": "stream",
     "text": [
      "nce\n"
     ]
    }
   ],
   "source": [
    "path = 'science'\n",
    "print(path[4:])\n"
   ]
  },
  {
   "cell_type": "code",
   "execution_count": 67,
   "metadata": {},
   "outputs": [
    {
     "name": "stdout",
     "output_type": "stream",
     "text": [
      "www.clsway.com will open your path."
     ]
    }
   ],
   "source": [
    "print('www', 'clsway', \"com\", sep='.', end=' ')\n",
    "print('will', end=' ')\n",
    "print('open', end=' ')\n",
    "print('your', end=' ')\n",
    "print('path', end='.')"
   ]
  },
  {
   "cell_type": "code",
   "execution_count": 68,
   "metadata": {},
   "outputs": [
    {
     "name": "stdout",
     "output_type": "stream",
     "text": [
      "clsway2020\n"
     ]
    }
   ],
   "source": [
    "print(\"clsway\" + str(2020))"
   ]
  },
  {
   "cell_type": "code",
   "execution_count": 69,
   "metadata": {},
   "outputs": [
    {
     "name": "stdout",
     "output_type": "stream",
     "text": [
      "16\n"
     ]
    },
    {
     "data": {
      "text/plain": [
       "2"
      ]
     },
     "execution_count": 69,
     "metadata": {},
     "output_type": "execute_result"
    }
   ],
   "source": [
    "x = 12\n",
    "y = x + 21\n",
    "x = 2\n",
    "print(y//x)\n",
    "y\n",
    "x"
   ]
  },
  {
   "cell_type": "code",
   "execution_count": 73,
   "metadata": {},
   "outputs": [
    {
     "name": "stdout",
     "output_type": "stream",
     "text": [
      "I will find a job.\n"
     ]
    }
   ],
   "source": [
    "print(\"{3} {2} {4} {1} {0}\".format('job.', 'a', 'will', 'I', 'find'))"
   ]
  },
  {
   "cell_type": "code",
   "execution_count": 71,
   "metadata": {},
   "outputs": [
    {
     "name": "stdout",
     "output_type": "stream",
     "text": [
      "Some people dream of success while others wake up and work.\n"
     ]
    }
   ],
   "source": [
    "print(\"{4} {9} {1} {7} {5} {0} {6} {8} {3} {2}\".format('while', 'dream', 'work.', 'and', 'Some', 'success', 'others', 'of', 'wake up', 'people'))"
   ]
  },
  {
   "cell_type": "code",
   "execution_count": 74,
   "metadata": {},
   "outputs": [
    {
     "name": "stdout",
     "output_type": "stream",
     "text": [
      "Python Data Types And Useful Operations\n"
     ]
    }
   ],
   "source": [
    "section_3_5 = \"python data types and useful operations\"\n",
    "print(section_3_5.title())"
   ]
  },
  {
   "cell_type": "code",
   "execution_count": 75,
   "metadata": {},
   "outputs": [
    {
     "name": "stdout",
     "output_type": "stream",
     "text": [
      "The less you sleep and eat, the better your life will be.\n"
     ]
    }
   ],
   "source": [
    "var1 = \"sleep\"\n",
    "var2 = \"eat\"\n",
    "var3 = \"better\"\n",
    "var4 = \"life\"\n",
    "sentence = f\"The less you {var1} and {var2}, the {var3} your {var4} will be.\"\n",
    "print(sentence)"
   ]
  },
  {
   "cell_type": "code",
   "execution_count": 76,
   "metadata": {},
   "outputs": [
    {
     "name": "stdout",
     "output_type": "stream",
     "text": [
      "I am 40 years old.\n"
     ]
    }
   ],
   "source": [
    "age = 40\n",
    "text = f\"I am {age} years old.\"\n",
    "print(text)"
   ]
  },
  {
   "cell_type": "code",
   "execution_count": 77,
   "metadata": {},
   "outputs": [
    {
     "name": "stdout",
     "output_type": "stream",
     "text": [
      "I live in Sarajevo.\n"
     ]
    }
   ],
   "source": [
    "city = \"SARAJEVO\"\n",
    "sentence = f\"I live in {city.capitalize()}.\"\n",
    "print(sentence)\n"
   ]
  },
  {
   "cell_type": "code",
   "execution_count": 78,
   "metadata": {},
   "outputs": [
    {
     "name": "stdout",
     "output_type": "stream",
     "text": [
      "Hello\n"
     ]
    }
   ],
   "source": [
    "x = \"HelloWorld!\"\n",
    "print('%.5s' % x) "
   ]
  },
  {
   "cell_type": "code",
   "execution_count": 79,
   "metadata": {},
   "outputs": [
    {
     "name": "stdout",
     "output_type": "stream",
     "text": [
      "31 28 31 30 31 30 31 31 30 31 30 31\n"
     ]
    }
   ],
   "source": [
    "january = march = may = july = august =october = december =31\n",
    "february = 28\n",
    "april = june = september = november = 30\n",
    "print(january, february, march, april, may, june, july, august, september, october, november, december)"
   ]
  },
  {
   "cell_type": "code",
   "execution_count": 81,
   "metadata": {},
   "outputs": [
    {
     "data": {
      "text/plain": [
       "True"
      ]
     },
     "execution_count": 81,
     "metadata": {},
     "output_type": "execute_result"
    }
   ],
   "source": [
    "40.0 == 40"
   ]
  },
  {
   "cell_type": "code",
   "execution_count": 82,
   "metadata": {},
   "outputs": [
    {
     "data": {
      "text/plain": [
       "4"
      ]
     },
     "execution_count": 82,
     "metadata": {},
     "output_type": "execute_result"
    }
   ],
   "source": [
    "round(3.74)"
   ]
  },
  {
   "cell_type": "code",
   "execution_count": 83,
   "metadata": {},
   "outputs": [
    {
     "name": "stdout",
     "output_type": "stream",
     "text": [
      "10\n",
      "13\n"
     ]
    }
   ],
   "source": [
    "print(10)\n",
    "\n",
    "print(13)"
   ]
  },
  {
   "cell_type": "markdown",
   "metadata": {},
   "source": [
    "If you had deposited a coin on the cryptocurrency exchange that brought 7% fixed profit daily for a week, how much would your $ 1000 reach at the end of the 7th day?"
   ]
  },
  {
   "cell_type": "code",
   "execution_count": 85,
   "metadata": {},
   "outputs": [
    {
     "name": "stdout",
     "output_type": "stream",
     "text": [
      "\"An investment of $1000 at the beginning of the week will reach \n",
      "$ 1605.78 at the end of the week with a daily rate of 1.07 %.\n"
     ]
    }
   ],
   "source": [
    "capital = 1000  # principal amount in dollars\n",
    "inv_period = 7  # investment_period\n",
    "rate = 1.07  # daily fixed profit\n",
    "result = capital * (rate ** inv_period)\n",
    "\n",
    "text = \"\"\"\"An investment of ${} at the beginning of the week will reach \n",
    "$ {:.2f} at the end of the week with a daily rate of {} %.\"\"\"\n",
    "\n",
    "print(text.format(capital, result, rate))\n"
   ]
  },
  {
   "cell_type": "code",
   "execution_count": 86,
   "metadata": {},
   "outputs": [
    {
     "name": "stdout",
     "output_type": "stream",
     "text": [
      "3\\2=1.5\n"
     ]
    }
   ],
   "source": [
    "print(\"3\\\\2=1.5\")"
   ]
  },
  {
   "cell_type": "code",
   "execution_count": 87,
   "metadata": {},
   "outputs": [
    {
     "name": "stdout",
     "output_type": "stream",
     "text": [
      "Clsway, Clsway, Clsway\n",
      "\tClsway, Clsway, Clsway\n",
      "\t\tClsway, Clsway, Clsway\n"
     ]
    }
   ],
   "source": [
    "text = \"Clsway, Clsway, Clsway\"\n",
    "\n",
    "print(text, \"\\t\"+text, \"\\t\\t\"+text, sep=\"\\n\")"
   ]
  },
  {
   "cell_type": "code",
   "execution_count": 88,
   "metadata": {},
   "outputs": [
    {
     "name": "stdout",
     "output_type": "stream",
     "text": [
      "Clsway, Clsway, Clsway,\n",
      "\tClsway, Clsway, Clsway,\n",
      "\t\tClsway, Clsway, Clsway\n"
     ]
    }
   ],
   "source": [
    "text = \"Clsway, Clsway, Clsway\"\n",
    "\n",
    "print(text+\",\", \"\\t\"+text+\",\", \"\\t\\t\"+text, sep=\"\\n\")"
   ]
  },
  {
   "cell_type": "code",
   "execution_count": 89,
   "metadata": {},
   "outputs": [],
   "source": [
    "def maas_hesapla():\n",
    "    hafta_ucret=200 # haftalık ücreti 200 dolar\n",
    "    hafta_saat=int(input(\"Mary hanım bu hafta kaç saat çalıştı= \")) # Mary hanım bu hafta kaç saat çalıştı giriniz.\n",
    "    if hafta_saat<40: # eğer bu hafta izin kullanıp 40 saatten az çalıştıysa 50 dolar eksik alır.\n",
    "        print(hafta_ucret-50)\n",
    "    elif hafta_saat == 40: # eğer bu hafta 40 saat çalıştıysa normal haftalık ücreti alır.\n",
    "        print(hafta_ucret)\n",
    "    elif hafta_saat > 40:  # eğer 40 saatten fazla çalıştıysa, çalıştığı 40 saat sonrası için saat başı 15 dolar fazla alır.\n",
    "        for i in range(41,hafta_saat+1):\n",
    "            i+=15\n",
    "        print(i+hafta_ucret)\n",
    "    elif hafta_saat>=100:\n",
    "        print(\"İşletmeniz su işlemektedir. Bir çalışan bu kadar çalıştırılamaz\")"
   ]
  },
  {
   "cell_type": "code",
   "execution_count": 94,
   "metadata": {},
   "outputs": [
    {
     "data": {
      "text/plain": [
       "'1'"
      ]
     },
     "execution_count": 94,
     "metadata": {},
     "output_type": "execute_result"
    }
   ],
   "source": [
    "\"1\" or \"d\""
   ]
  },
  {
   "cell_type": "code",
   "execution_count": 95,
   "metadata": {},
   "outputs": [
    {
     "data": {
      "text/plain": [
       "'d'"
      ]
     },
     "execution_count": 95,
     "metadata": {},
     "output_type": "execute_result"
    }
   ],
   "source": [
    "\"d\" or \"1\""
   ]
  },
  {
   "cell_type": "code",
   "execution_count": 96,
   "metadata": {},
   "outputs": [
    {
     "data": {
      "text/plain": [
       "'sad'"
      ]
     },
     "execution_count": 96,
     "metadata": {},
     "output_type": "execute_result"
    }
   ],
   "source": [
    "0 or \"sad\""
   ]
  },
  {
   "cell_type": "code",
   "execution_count": 97,
   "metadata": {},
   "outputs": [
    {
     "data": {
      "text/plain": [
       "False"
      ]
     },
     "execution_count": 97,
     "metadata": {},
     "output_type": "execute_result"
    }
   ],
   "source": [
    "not \"false\""
   ]
  },
  {
   "cell_type": "code",
   "execution_count": 98,
   "metadata": {},
   "outputs": [
    {
     "data": {
      "text/plain": [
       "False"
      ]
     },
     "execution_count": 98,
     "metadata": {},
     "output_type": "execute_result"
    }
   ],
   "source": [
    "\"sss\" and False or False"
   ]
  },
  {
   "cell_type": "code",
   "execution_count": 99,
   "metadata": {},
   "outputs": [
    {
     "data": {
      "text/plain": [
       "False"
      ]
     },
     "execution_count": 99,
     "metadata": {},
     "output_type": "execute_result"
    }
   ],
   "source": [
    "not \"sa\""
   ]
  },
  {
   "cell_type": "code",
   "execution_count": 100,
   "metadata": {},
   "outputs": [
    {
     "data": {
      "text/plain": [
       "'gna'"
      ]
     },
     "execution_count": 100,
     "metadata": {},
     "output_type": "execute_result"
    }
   ],
   "source": [
    "o = \"orange\"\n",
    "o[4:1:-1]"
   ]
  },
  {
   "cell_type": "code",
   "execution_count": 101,
   "metadata": {},
   "outputs": [
    {
     "data": {
      "text/plain": [
       "'gna'"
      ]
     },
     "execution_count": 101,
     "metadata": {},
     "output_type": "execute_result"
    }
   ],
   "source": [
    "o[-2:-5:-1]"
   ]
  },
  {
   "cell_type": "code",
   "execution_count": 102,
   "metadata": {},
   "outputs": [
    {
     "data": {
      "text/plain": [
       "'oag'"
      ]
     },
     "execution_count": 102,
     "metadata": {},
     "output_type": "execute_result"
    }
   ],
   "source": [
    "o[::2]"
   ]
  },
  {
   "cell_type": "code",
   "execution_count": 103,
   "metadata": {},
   "outputs": [
    {
     "data": {
      "text/plain": [
       "''"
      ]
     },
     "execution_count": 103,
     "metadata": {},
     "output_type": "execute_result"
    }
   ],
   "source": [
    "o[4:1]"
   ]
  },
  {
   "cell_type": "code",
   "execution_count": 104,
   "metadata": {},
   "outputs": [
    {
     "name": "stdout",
     "output_type": "stream",
     "text": [
      "u p p e r\n"
     ]
    }
   ],
   "source": [
    "print(* \"upper\" )"
   ]
  },
  {
   "cell_type": "code",
   "execution_count": 105,
   "metadata": {},
   "outputs": [
    {
     "name": "stdout",
     "output_type": "stream",
     "text": [
      "upperupperupper\n"
     ]
    }
   ],
   "source": [
    "print(\"upper\" *3)"
   ]
  },
  {
   "cell_type": "code",
   "execution_count": 106,
   "metadata": {},
   "outputs": [
    {
     "name": "stdout",
     "output_type": "stream",
     "text": [
      "u-p-p-e-r\n"
     ]
    }
   ],
   "source": [
    "print(*\"upper\",sep=\"-\")"
   ]
  },
  {
   "cell_type": "code",
   "execution_count": 108,
   "metadata": {},
   "outputs": [],
   "source": [
    "asa=\"asa\"\n",
    "sas=\"sas\""
   ]
  },
  {
   "cell_type": "code",
   "execution_count": 111,
   "metadata": {},
   "outputs": [
    {
     "ename": "KeyError",
     "evalue": "'-1'",
     "output_type": "error",
     "traceback": [
      "\u001b[1;31m---------------------------------------------------------------------------\u001b[0m",
      "\u001b[1;31mKeyError\u001b[0m                                  Traceback (most recent call last)",
      "\u001b[1;32m<ipython-input-111-f1312d961e4e>\u001b[0m in \u001b[0;36m<module>\u001b[1;34m\u001b[0m\n\u001b[1;32m----> 1\u001b[1;33m \u001b[0mprint\u001b[0m\u001b[1;33m(\u001b[0m\u001b[1;34m\"2222 {-1} 33333 {-2}\"\u001b[0m\u001b[1;33m.\u001b[0m\u001b[0mformat\u001b[0m\u001b[1;33m(\u001b[0m\u001b[0masa\u001b[0m\u001b[1;33m,\u001b[0m \u001b[0msas\u001b[0m\u001b[1;33m)\u001b[0m\u001b[1;33m)\u001b[0m\u001b[1;33m\u001b[0m\u001b[1;33m\u001b[0m\u001b[0m\n\u001b[0m",
      "\u001b[1;31mKeyError\u001b[0m: '-1'"
     ]
    }
   ],
   "source": [
    "# print(\"2222 {-1} 33333 {-2}\".format(asa, sas)) # ERROR Negative value is not work on it."
   ]
  },
  {
   "cell_type": "code",
   "execution_count": 112,
   "metadata": {},
   "outputs": [
    {
     "ename": "SyntaxError",
     "evalue": "invalid syntax (<ipython-input-112-06a833a42aed>, line 1)",
     "output_type": "error",
     "traceback": [
      "\u001b[1;36m  File \u001b[1;32m\"<ipython-input-112-06a833a42aed>\"\u001b[1;36m, line \u001b[1;32m1\u001b[0m\n\u001b[1;33m    f.\"2222 {asa} 33333 {sas}\"\u001b[0m\n\u001b[1;37m                             ^\u001b[0m\n\u001b[1;31mSyntaxError\u001b[0m\u001b[1;31m:\u001b[0m invalid syntax\n"
     ]
    }
   ],
   "source": [
    "f.\"2222 {asa} 33333 {sas}\""
   ]
  },
  {
   "cell_type": "code",
   "execution_count": 115,
   "metadata": {},
   "outputs": [
    {
     "name": "stdout",
     "output_type": "stream",
     "text": [
      "fatih qqqqq \n",
      "mehmetooooofatihfatih qqqqq \n",
      "\n"
     ]
    }
   ],
   "source": [
    "a = \"qqqqq\"\n",
    "b = \"ooooo\"\n",
    "name = (\n",
    "    f\"fatih {a} \\n\"\\\n",
    "    f\"mehmet{b}fatih\"\\\n",
    "    f\"fatih {a} \\n\"\n",
    ")\n",
    "print(name)\n"
   ]
  },
  {
   "cell_type": "code",
   "execution_count": 116,
   "metadata": {},
   "outputs": [
    {
     "name": "stdout",
     "output_type": "stream",
     "text": [
      "Susan is a young lady and she is a student at the CLRWY IT university.\n"
     ]
    }
   ],
   "source": [
    "name = \"Susan\"\n",
    "age = \"young\"\n",
    "gender = \"lady\"\n",
    "school = \"CLRWY IT university\"\n",
    " \n",
    "text =  (f\"{name} is a {age} \"\n",
    "        f\"{gender} and she is a student \"\n",
    "        f\"at the {school}.\"\n",
    "        )\n",
    "print(text)\n"
   ]
  },
  {
   "cell_type": "code",
   "execution_count": 117,
   "metadata": {},
   "outputs": [
    {
     "name": "stdout",
     "output_type": "stream",
     "text": [
      "True\n",
      "False\n"
     ]
    }
   ],
   "source": [
    "print(name.startswith(\"Su\"))\n",
    "print(school.endswith(\"ol\"))"
   ]
  },
  {
   "cell_type": "markdown",
   "metadata": {},
   "source": [
    "### mehmetfatihdata"
   ]
  }
 ],
 "metadata": {
  "kernelspec": {
   "display_name": "Python 3",
   "language": "python",
   "name": "python3"
  },
  "language_info": {
   "codemirror_mode": {
    "name": "ipython",
    "version": 3
   },
   "file_extension": ".py",
   "mimetype": "text/x-python",
   "name": "python",
   "nbconvert_exporter": "python",
   "pygments_lexer": "ipython3",
   "version": "3.7.4"
  }
 },
 "nbformat": 4,
 "nbformat_minor": 4
}
