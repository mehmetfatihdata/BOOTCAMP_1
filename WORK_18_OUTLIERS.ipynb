{
 "cells": [
  {
   "cell_type": "markdown",
   "metadata": {},
   "source": [
    "# mehmetfatihdata"
   ]
  },
  {
   "cell_type": "code",
   "execution_count": 1,
   "metadata": {},
   "outputs": [],
   "source": [
    "import matplotlib.pyplot as plt\n",
    "import numpy as np\n",
    "import pandas as pd\n",
    "import warnings\n",
    "\n",
    "warnings.filterwarnings('ignore')\n"
   ]
  },
  {
   "cell_type": "code",
   "execution_count": 2,
   "metadata": {
    "scrolled": false
   },
   "outputs": [],
   "source": [
    "education = pd.read_csv(\"education.csv\",index_col=0)"
   ]
  },
  {
   "cell_type": "markdown",
   "metadata": {},
   "source": [
    "# Q1:\n",
    "Toplam gelir verilerini içeren TOTAL_REVENUE ve toplam harcama verilerini içeren TOTAL_EXPENDITURE değişkenlerini inceleyin. Bu değişkenler aykırı değerler içeriyor mu?"
   ]
  },
  {
   "cell_type": "code",
   "execution_count": 3,
   "metadata": {
    "scrolled": true
   },
   "outputs": [
    {
     "data": {
      "image/png": "[encoded data removed]",
      "text/plain": [
       "<Figure size 720x360 with 2 Axes>"
      ]
     },
     "metadata": {
      "needs_background": "light"
     },
     "output_type": "display_data"
    }
   ],
   "source": [
    "baslik_font = {'family': 'arial', 'color': 'darkgreen','weight': 'bold','size': 13 }\n",
    "eksen_font  = {'family': 'arial', 'color': 'darkblue','weight': 'bold','size': 10 }\n",
    "fig=plt.figure(figsize=(10,5))\n",
    "\n",
    "plt.subplot(1,2,1)\n",
    "plt.boxplot(education[\"TOTAL_REVENUE\"], )\n",
    "plt.title(\"TOTAL_REVENUE (whis=1.5)\", fontdict=baslik_font)\n",
    "plt.subplot(1,2,2)\n",
    "plt.boxplot(education[\"TOTAL_REVENUE\"], )\n",
    "plt.title(\"TOTAL_EXPENDITURE (whis=1.5)\", fontdict=baslik_font)\n",
    "plt.show()"
   ]
  },
  {
   "cell_type": "code",
   "execution_count": 4,
   "metadata": {
    "scrolled": true
   },
   "outputs": [
    {
     "name": "stdout",
     "output_type": "stream",
     "text": [
      "Eşik değeri: 1\n",
      "Aykırı değerlerin sayısı: 142\n",
      "------\n",
      "Eşik değeri: 2\n",
      "Aykırı değerlerin sayısı: 57\n",
      "------\n",
      "Eşik değeri: 3\n",
      "Aykırı değerlerin sayısı: 42\n",
      "------\n",
      "Eşik değeri: 4\n",
      "Aykırı değerlerin sayısı: 28\n",
      "------\n",
      "Eşik değeri: 5\n",
      "Aykırı değerlerin sayısı: 14\n",
      "------\n"
     ]
    }
   ],
   "source": [
    "from scipy.stats import zscore\n",
    "\n",
    "z_scores = zscore(education[\"TOTAL_REVENUE\"])\n",
    "for threshold in range(1,6):\n",
    "    print(\"Eşik değeri: {}\".format(threshold))\n",
    "    print(\"Aykırı değerlerin sayısı: {}\".format(len((np.where(z_scores > threshold)[0]))))\n",
    "    print('------')"
   ]
  },
  {
   "cell_type": "code",
   "execution_count": 5,
   "metadata": {
    "scrolled": true
   },
   "outputs": [],
   "source": [
    "q75, q25 = np.percentile(education[\"TOTAL_REVENUE\"], [75 ,25])\n",
    "caa = q75 - q25"
   ]
  },
  {
   "cell_type": "code",
   "execution_count": 6,
   "metadata": {},
   "outputs": [
    {
     "data": {
      "text/html": [
       "<div>\n",
       "<style scoped>\n",
       "    .dataframe tbody tr th:only-of-type {\n",
       "        vertical-align: middle;\n",
       "    }\n",
       "\n",
       "    .dataframe tbody tr th {\n",
       "        vertical-align: top;\n",
       "    }\n",
       "\n",
       "    .dataframe thead th {\n",
       "        text-align: right;\n",
       "    }\n",
       "</style>\n",
       "<table border=\"1\" class=\"dataframe\">\n",
       "  <thead>\n",
       "    <tr style=\"text-align: right;\">\n",
       "      <th></th>\n",
       "      <th>esik_degeri</th>\n",
       "      <th>aykiri_deger_sayisi</th>\n",
       "      <th>aykiri_deger_sayısı</th>\n",
       "    </tr>\n",
       "  </thead>\n",
       "  <tbody>\n",
       "    <tr>\n",
       "      <td>0</td>\n",
       "      <td>1.0</td>\n",
       "      <td>NaN</td>\n",
       "      <td>146.0</td>\n",
       "    </tr>\n",
       "    <tr>\n",
       "      <td>1</td>\n",
       "      <td>2.0</td>\n",
       "      <td>NaN</td>\n",
       "      <td>74.0</td>\n",
       "    </tr>\n",
       "    <tr>\n",
       "      <td>2</td>\n",
       "      <td>3.0</td>\n",
       "      <td>NaN</td>\n",
       "      <td>48.0</td>\n",
       "    </tr>\n",
       "    <tr>\n",
       "      <td>3</td>\n",
       "      <td>4.0</td>\n",
       "      <td>NaN</td>\n",
       "      <td>39.0</td>\n",
       "    </tr>\n",
       "    <tr>\n",
       "      <td>4</td>\n",
       "      <td>5.0</td>\n",
       "      <td>NaN</td>\n",
       "      <td>27.0</td>\n",
       "    </tr>\n",
       "    <tr>\n",
       "      <td>5</td>\n",
       "      <td>6.0</td>\n",
       "      <td>NaN</td>\n",
       "      <td>14.0</td>\n",
       "    </tr>\n",
       "    <tr>\n",
       "      <td>6</td>\n",
       "      <td>7.0</td>\n",
       "      <td>NaN</td>\n",
       "      <td>5.0</td>\n",
       "    </tr>\n",
       "    <tr>\n",
       "      <td>7</td>\n",
       "      <td>8.0</td>\n",
       "      <td>NaN</td>\n",
       "      <td>2.0</td>\n",
       "    </tr>\n",
       "    <tr>\n",
       "      <td>8</td>\n",
       "      <td>9.0</td>\n",
       "      <td>NaN</td>\n",
       "      <td>0.0</td>\n",
       "    </tr>\n",
       "  </tbody>\n",
       "</table>\n",
       "</div>"
      ],
      "text/plain": [
       "   esik_degeri  aykiri_deger_sayisi  aykiri_deger_sayısı\n",
       "0          1.0                  NaN                146.0\n",
       "1          2.0                  NaN                 74.0\n",
       "2          3.0                  NaN                 48.0\n",
       "3          4.0                  NaN                 39.0\n",
       "4          5.0                  NaN                 27.0\n",
       "5          6.0                  NaN                 14.0\n",
       "6          7.0                  NaN                  5.0\n",
       "7          8.0                  NaN                  2.0\n",
       "8          9.0                  NaN                  0.0"
      ]
     },
     "execution_count": 6,
     "metadata": {},
     "output_type": "execute_result"
    }
   ],
   "source": [
    "degerler = pd.DataFrame(columns=['esik_degeri', 'aykiri_deger_sayisi'])\n",
    "for esik_degeri in np.arange(1,10):\n",
    "    min_deger = q25 - (caa*esik_degeri)\n",
    "    maks_deger = q75 + (caa*esik_degeri)\n",
    "    aykiri_deger_sayisi = len((np.where((education[\"TOTAL_REVENUE\"] > maks_deger)| \n",
    "                                       (education[\"TOTAL_REVENUE\"] < min_deger))[0]))\n",
    "    degerler = degerler.append({'esik_degeri': esik_degeri,'aykiri_deger_sayısı': aykiri_deger_sayisi}, \n",
    "                                           ignore_index=True)\n",
    "degerler"
   ]
  },
  {
   "cell_type": "markdown",
   "metadata": {},
   "source": [
    "# Q2:\n",
    "Toplam gelir (TOTAL_REVENUE) ve toplam harcama (TOTAL_EXPENDITURE) değişkenlerinde aykırı değer tespit ettiyseniz bu derste öğrendiğiniz teknikleri uygulayarak bu aykırı değerleri ortadan kaldırın ve bunu yaptıktan sonra hiçbir aykırı değer kalmadığını doğrulayın.\n"
   ]
  },
  {
   "cell_type": "code",
   "execution_count": 7,
   "metadata": {},
   "outputs": [
    {
     "data": {
      "image/png": "[encoded data removed]",
      "text/plain": [
       "<Figure size 720x360 with 2 Axes>"
      ]
     },
     "metadata": {
      "needs_background": "light"
     },
     "output_type": "display_data"
    }
   ],
   "source": [
    "fig=plt.figure(figsize=(10,5))\n",
    "plt.subplot(1,2,1)\n",
    "plt.boxplot(education[\"TOTAL_REVENUE\"], whis=8)\n",
    "plt.title(\"TOTAL_REVENUE (whis=8)\", fontdict=baslik_font)\n",
    "plt.subplot(1,2,2)\n",
    "plt.boxplot(education[\"TOTAL_EXPENDITURE\"], whis=8)\n",
    "plt.title(\"TOTAL_EXPENDITURE (whis=8)\", fontdict=baslik_font)\n",
    "plt.show()"
   ]
  },
  {
   "cell_type": "code",
   "execution_count": 8,
   "metadata": {},
   "outputs": [
    {
     "name": "stdout",
     "output_type": "stream",
     "text": [
      "Eşik değeri: 8\n",
      "Aykırı değerlerin sayısı: 0\n",
      "------\n"
     ]
    }
   ],
   "source": [
    "z_scores = zscore(education[\"TOTAL_REVENUE\"])\n",
    "threshold =8\n",
    "print(\"Eşik değeri: {}\".format(threshold))\n",
    "print(\"Aykırı değerlerin sayısı: {}\".format(len((np.where(z_scores > threshold)[0]))))\n",
    "print('------')"
   ]
  },
  {
   "cell_type": "code",
   "execution_count": 9,
   "metadata": {},
   "outputs": [],
   "source": [
    "from scipy.stats.mstats import winsorize\n",
    "\n",
    "W_REVENUE= winsorize(education[\"TOTAL_REVENUE\"], (0, 0.08))\n",
    "W_EXPENDITURE= winsorize(education[\"TOTAL_EXPENDITURE\"], (0, 0.08))\n"
   ]
  },
  {
   "cell_type": "code",
   "execution_count": 10,
   "metadata": {},
   "outputs": [
    {
     "data": {
      "image/png": "[encoded data removed]",
      "text/plain": [
       "<Figure size 720x360 with 2 Axes>"
      ]
     },
     "metadata": {
      "needs_background": "light"
     },
     "output_type": "display_data"
    }
   ],
   "source": [
    "fig=plt.figure(figsize=(10,5))\n",
    "plt.subplot(1,2,1)\n",
    "plt.boxplot(W_REVENUE)\n",
    "plt.title(\"W_REVENUE\", fontdict=baslik_font)\n",
    "plt.subplot(1,2,2)\n",
    "plt.boxplot(W_EXPENDITURE)\n",
    "plt.title(\"TOTAL_EXPENDITURE\", fontdict=baslik_font)\n",
    "plt.show()"
   ]
  },
  {
   "cell_type": "markdown",
   "metadata": {},
   "source": [
    "# Q3:\n",
    "Toplam gelir (TOTAL_REVENUE) değişkeninden, toplam harcama (TOTAL_EXPENDITURE) değerini çıkartarak bütçe açığı olarak düşünülebilecek bir değişken oluşturun (aykırı değerleri temezlemeden). Bu yeni değişkende de aykırı değerler yer almakta mı? Varsa bu aykırı değerleri de temizleyin.\n"
   ]
  },
  {
   "cell_type": "code",
   "execution_count": 11,
   "metadata": {
    "scrolled": true
   },
   "outputs": [
    {
     "data": {
      "text/html": [
       "<div>\n",
       "<style scoped>\n",
       "    .dataframe tbody tr th:only-of-type {\n",
       "        vertical-align: middle;\n",
       "    }\n",
       "\n",
       "    .dataframe tbody tr th {\n",
       "        vertical-align: top;\n",
       "    }\n",
       "\n",
       "    .dataframe thead th {\n",
       "        text-align: right;\n",
       "    }\n",
       "</style>\n",
       "<table border=\"1\" class=\"dataframe\">\n",
       "  <thead>\n",
       "    <tr style=\"text-align: right;\">\n",
       "      <th></th>\n",
       "      <th>PRIMARY_KEY</th>\n",
       "      <th>STATE</th>\n",
       "      <th>YEAR</th>\n",
       "      <th>ENROLL</th>\n",
       "      <th>TOTAL_REVENUE</th>\n",
       "      <th>FEDERAL_REVENUE</th>\n",
       "      <th>STATE_REVENUE</th>\n",
       "      <th>LOCAL_REVENUE</th>\n",
       "      <th>TOTAL_EXPENDITURE</th>\n",
       "      <th>INSTRUCTION_EXPENDITURE</th>\n",
       "      <th>...</th>\n",
       "      <th>GRADES_8_G</th>\n",
       "      <th>GRADES_12_G</th>\n",
       "      <th>GRADES_1_8_G</th>\n",
       "      <th>GRADES_9_12_G</th>\n",
       "      <th>GRADES_ALL_G</th>\n",
       "      <th>AVG_MATH_4_SCORE</th>\n",
       "      <th>AVG_MATH_8_SCORE</th>\n",
       "      <th>AVG_READING_4_SCORE</th>\n",
       "      <th>AVG_READING_8_SCORE</th>\n",
       "      <th>BUDGET_DEFİCİT</th>\n",
       "    </tr>\n",
       "  </thead>\n",
       "  <tbody>\n",
       "    <tr>\n",
       "      <td>0</td>\n",
       "      <td>1992_ALABAMA</td>\n",
       "      <td>ALABAMA</td>\n",
       "      <td>1992</td>\n",
       "      <td>NaN</td>\n",
       "      <td>2678885.0</td>\n",
       "      <td>304177.0</td>\n",
       "      <td>1659028.0</td>\n",
       "      <td>715680.0</td>\n",
       "      <td>2653798.0</td>\n",
       "      <td>1481703.0</td>\n",
       "      <td>...</td>\n",
       "      <td>58025.0</td>\n",
       "      <td>41167.0</td>\n",
       "      <td>471564.0</td>\n",
       "      <td>196386.0</td>\n",
       "      <td>676174.0</td>\n",
       "      <td>208.327876</td>\n",
       "      <td>252.187522</td>\n",
       "      <td>207.963517</td>\n",
       "      <td>263.307067</td>\n",
       "      <td>25087.0</td>\n",
       "    </tr>\n",
       "  </tbody>\n",
       "</table>\n",
       "<p>1 rows × 26 columns</p>\n",
       "</div>"
      ],
      "text/plain": [
       "    PRIMARY_KEY    STATE  YEAR  ENROLL  TOTAL_REVENUE  FEDERAL_REVENUE  \\\n",
       "0  1992_ALABAMA  ALABAMA  1992     NaN      2678885.0         304177.0   \n",
       "\n",
       "   STATE_REVENUE  LOCAL_REVENUE  TOTAL_EXPENDITURE  INSTRUCTION_EXPENDITURE  \\\n",
       "0      1659028.0       715680.0          2653798.0                1481703.0   \n",
       "\n",
       "   ...  GRADES_8_G  GRADES_12_G  GRADES_1_8_G  GRADES_9_12_G  GRADES_ALL_G  \\\n",
       "0  ...     58025.0      41167.0      471564.0       196386.0      676174.0   \n",
       "\n",
       "   AVG_MATH_4_SCORE  AVG_MATH_8_SCORE  AVG_READING_4_SCORE  \\\n",
       "0        208.327876        252.187522           207.963517   \n",
       "\n",
       "   AVG_READING_8_SCORE  BUDGET_DEFİCİT  \n",
       "0           263.307067         25087.0  \n",
       "\n",
       "[1 rows x 26 columns]"
      ]
     },
     "execution_count": 11,
     "metadata": {},
     "output_type": "execute_result"
    }
   ],
   "source": [
    "education[\"BUDGET_DEFİCİT\"]=education['TOTAL_REVENUE']-education['TOTAL_EXPENDITURE']\n",
    "education.head(1)"
   ]
  },
  {
   "cell_type": "code",
   "execution_count": 12,
   "metadata": {
    "scrolled": true
   },
   "outputs": [
    {
     "data": {
      "image/png": "[encoded data removed]",
      "text/plain": [
       "<Figure size 432x288 with 1 Axes>"
      ]
     },
     "metadata": {
      "needs_background": "light"
     },
     "output_type": "display_data"
    }
   ],
   "source": [
    "plt.subplot(1,2,1)\n",
    "plt.boxplot(education[\"BUDGET_DEFİCİT\"], whis=1.5)\n",
    "plt.title(\"BUDGET_DEFİCİT (whis=8)\", fontdict=baslik_font)\n",
    "plt.show()"
   ]
  },
  {
   "cell_type": "code",
   "execution_count": 13,
   "metadata": {},
   "outputs": [],
   "source": [
    "W_BUDGET_DEFİCİT = winsorize(education[\"BUDGET_DEFİCİT\"], (0.09, 0.07))"
   ]
  },
  {
   "cell_type": "code",
   "execution_count": 14,
   "metadata": {},
   "outputs": [
    {
     "data": {
      "image/png": "[encoded data removed]",
      "text/plain": [
       "<Figure size 432x288 with 1 Axes>"
      ]
     },
     "metadata": {
      "needs_background": "light"
     },
     "output_type": "display_data"
    }
   ],
   "source": [
    "plt.boxplot(W_BUDGET_DEFİCİT)\n",
    "plt.title(\"W_BUDGET_DEFİCİT\", fontdict=baslik_font)\n",
    "plt.show()"
   ]
  },
  {
   "cell_type": "markdown",
   "metadata": {},
   "source": [
    "# Q4: \n",
    "Yine toplam gelir (TOTAL_REVENUE) değişkeninden, toplam harcama(TOTAL_EXPENDITURE) değerini çıkartarak bütçe açığı olarak düşünülebilecek bir değişken oluşturun. Fakat bu sefer aykırı değerleri temezledikten sonra bu işlemi yapın. Bu yeni değişkende de aykırı değerler var mı? Varsa bunları da temizlemekte fayda var."
   ]
  },
  {
   "cell_type": "code",
   "execution_count": 17,
   "metadata": {
    "scrolled": true
   },
   "outputs": [
    {
     "data": {
      "image/png": "[encoded data removed]",
      "text/plain": [
       "<Figure size 432x288 with 1 Axes>"
      ]
     },
     "metadata": {
      "needs_background": "light"
     },
     "output_type": "display_data"
    }
   ],
   "source": [
    "education[\"W_BUDGET_DEFİCİT\"]=winsorize(education[\"TOTAL_REVENUE\"])-winsorize(education[\"TOTAL_EXPENDITURE\"])\n",
    "plt.boxplot(education[\"W_BUDGET_DEFİCİT\"])\n",
    "plt.title(\"W_BUDGET_DEFİCİT\", fontdict=baslik_font)\n",
    "plt.show()"
   ]
  },
  {
   "cell_type": "code",
   "execution_count": 25,
   "metadata": {
    "scrolled": false
   },
   "outputs": [
    {
     "data": {
      "image/png": "[encoded data removed]",
      "text/plain": [
       "<Figure size 432x288 with 1 Axes>"
      ]
     },
     "metadata": {
      "needs_background": "light"
     },
     "output_type": "display_data"
    }
   ],
   "source": [
    "WW_BUDGET_DEFİCİT = winsorize(education[\"W_BUDGET_DEFİCİT\"], (0.09, 0.07))\n",
    "plt.boxplot(WW_BUDGET_DEFİCİT)\n",
    "plt.title(\"WW_BUDGET_DEFİCİT\", fontdict=baslik_font)\n",
    "plt.show()"
   ]
  },
  {
   "cell_type": "code",
   "execution_count": 63,
   "metadata": {},
   "outputs": [
    {
     "data": {
      "text/html": [
       "<div>\n",
       "<style scoped>\n",
       "    .dataframe tbody tr th:only-of-type {\n",
       "        vertical-align: middle;\n",
       "    }\n",
       "\n",
       "    .dataframe tbody tr th {\n",
       "        vertical-align: top;\n",
       "    }\n",
       "\n",
       "    .dataframe thead th {\n",
       "        text-align: right;\n",
       "    }\n",
       "</style>\n",
       "<table border=\"1\" class=\"dataframe\">\n",
       "  <thead>\n",
       "    <tr style=\"text-align: right;\">\n",
       "      <th></th>\n",
       "      <th>PRIMARY_KEY</th>\n",
       "      <th>STATE</th>\n",
       "      <th>YEAR</th>\n",
       "      <th>ENROLL</th>\n",
       "      <th>TOTAL_REVENUE</th>\n",
       "      <th>FEDERAL_REVENUE</th>\n",
       "      <th>STATE_REVENUE</th>\n",
       "      <th>LOCAL_REVENUE</th>\n",
       "      <th>TOTAL_EXPENDITURE</th>\n",
       "      <th>INSTRUCTION_EXPENDITURE</th>\n",
       "      <th>...</th>\n",
       "      <th>GRADES_1_8_G</th>\n",
       "      <th>GRADES_9_12_G</th>\n",
       "      <th>GRADES_ALL_G</th>\n",
       "      <th>AVG_MATH_4_SCORE</th>\n",
       "      <th>AVG_MATH_8_SCORE</th>\n",
       "      <th>AVG_READING_4_SCORE</th>\n",
       "      <th>AVG_READING_8_SCORE</th>\n",
       "      <th>BUDGET_DEFİCİT</th>\n",
       "      <th>W_BUDGET_DEFİCİT</th>\n",
       "      <th>WW_BUDGET_DEFİCİT</th>\n",
       "    </tr>\n",
       "  </thead>\n",
       "  <tbody>\n",
       "    <tr>\n",
       "      <td>0</td>\n",
       "      <td>1992_ALABAMA</td>\n",
       "      <td>ALABAMA</td>\n",
       "      <td>1992</td>\n",
       "      <td>NaN</td>\n",
       "      <td>2678885.0</td>\n",
       "      <td>304177.0</td>\n",
       "      <td>1659028.0</td>\n",
       "      <td>715680.0</td>\n",
       "      <td>2653798.0</td>\n",
       "      <td>1481703.0</td>\n",
       "      <td>...</td>\n",
       "      <td>471564.0</td>\n",
       "      <td>196386.0</td>\n",
       "      <td>676174.0</td>\n",
       "      <td>208.327876</td>\n",
       "      <td>252.187522</td>\n",
       "      <td>207.963517</td>\n",
       "      <td>263.307067</td>\n",
       "      <td>25087.0</td>\n",
       "      <td>25087.0</td>\n",
       "      <td>25087.0</td>\n",
       "    </tr>\n",
       "    <tr>\n",
       "      <td>1</td>\n",
       "      <td>1992_ALASKA</td>\n",
       "      <td>ALASKA</td>\n",
       "      <td>1992</td>\n",
       "      <td>NaN</td>\n",
       "      <td>1049591.0</td>\n",
       "      <td>106780.0</td>\n",
       "      <td>720711.0</td>\n",
       "      <td>222100.0</td>\n",
       "      <td>972488.0</td>\n",
       "      <td>498362.0</td>\n",
       "      <td>...</td>\n",
       "      <td>79117.0</td>\n",
       "      <td>30847.0</td>\n",
       "      <td>112335.0</td>\n",
       "      <td>218.410116</td>\n",
       "      <td>266.360319</td>\n",
       "      <td>212.712256</td>\n",
       "      <td>258.859712</td>\n",
       "      <td>77103.0</td>\n",
       "      <td>77103.0</td>\n",
       "      <td>77103.0</td>\n",
       "    </tr>\n",
       "    <tr>\n",
       "      <td>2</td>\n",
       "      <td>1992_ARIZONA</td>\n",
       "      <td>ARIZONA</td>\n",
       "      <td>1992</td>\n",
       "      <td>NaN</td>\n",
       "      <td>3258079.0</td>\n",
       "      <td>297888.0</td>\n",
       "      <td>1369815.0</td>\n",
       "      <td>1590376.0</td>\n",
       "      <td>3401580.0</td>\n",
       "      <td>1435908.0</td>\n",
       "      <td>...</td>\n",
       "      <td>437127.0</td>\n",
       "      <td>175210.0</td>\n",
       "      <td>614881.0</td>\n",
       "      <td>215.253932</td>\n",
       "      <td>265.366278</td>\n",
       "      <td>206.212716</td>\n",
       "      <td>262.169895</td>\n",
       "      <td>-143501.0</td>\n",
       "      <td>-143501.0</td>\n",
       "      <td>-143501.0</td>\n",
       "    </tr>\n",
       "    <tr>\n",
       "      <td>3</td>\n",
       "      <td>1992_ARKANSAS</td>\n",
       "      <td>ARKANSAS</td>\n",
       "      <td>1992</td>\n",
       "      <td>NaN</td>\n",
       "      <td>1711959.0</td>\n",
       "      <td>178571.0</td>\n",
       "      <td>958785.0</td>\n",
       "      <td>574603.0</td>\n",
       "      <td>1743022.0</td>\n",
       "      <td>964323.0</td>\n",
       "      <td>...</td>\n",
       "      <td>281338.0</td>\n",
       "      <td>123113.0</td>\n",
       "      <td>405259.0</td>\n",
       "      <td>210.206028</td>\n",
       "      <td>256.312090</td>\n",
       "      <td>208.634458</td>\n",
       "      <td>264.619665</td>\n",
       "      <td>-31063.0</td>\n",
       "      <td>-31063.0</td>\n",
       "      <td>-31063.0</td>\n",
       "    </tr>\n",
       "    <tr>\n",
       "      <td>4</td>\n",
       "      <td>1992_CALIFORNIA</td>\n",
       "      <td>CALIFORNIA</td>\n",
       "      <td>1992</td>\n",
       "      <td>NaN</td>\n",
       "      <td>26260025.0</td>\n",
       "      <td>2072470.0</td>\n",
       "      <td>16546514.0</td>\n",
       "      <td>7641041.0</td>\n",
       "      <td>27138832.0</td>\n",
       "      <td>14358922.0</td>\n",
       "      <td>...</td>\n",
       "      <td>3286034.0</td>\n",
       "      <td>1372011.0</td>\n",
       "      <td>4717112.0</td>\n",
       "      <td>208.398961</td>\n",
       "      <td>260.892247</td>\n",
       "      <td>196.764414</td>\n",
       "      <td>263.307067</td>\n",
       "      <td>-878807.0</td>\n",
       "      <td>-878807.0</td>\n",
       "      <td>-482442.0</td>\n",
       "    </tr>\n",
       "    <tr>\n",
       "      <td>...</td>\n",
       "      <td>...</td>\n",
       "      <td>...</td>\n",
       "      <td>...</td>\n",
       "      <td>...</td>\n",
       "      <td>...</td>\n",
       "      <td>...</td>\n",
       "      <td>...</td>\n",
       "      <td>...</td>\n",
       "      <td>...</td>\n",
       "      <td>...</td>\n",
       "      <td>...</td>\n",
       "      <td>...</td>\n",
       "      <td>...</td>\n",
       "      <td>...</td>\n",
       "      <td>...</td>\n",
       "      <td>...</td>\n",
       "      <td>...</td>\n",
       "      <td>...</td>\n",
       "      <td>...</td>\n",
       "      <td>...</td>\n",
       "      <td>...</td>\n",
       "    </tr>\n",
       "    <tr>\n",
       "      <td>1487</td>\n",
       "      <td>2017_VIRGINIA</td>\n",
       "      <td>VIRGINIA</td>\n",
       "      <td>2017</td>\n",
       "      <td>1283493.0</td>\n",
       "      <td>16259274.0</td>\n",
       "      <td>1058146.0</td>\n",
       "      <td>6297587.0</td>\n",
       "      <td>8903541.0</td>\n",
       "      <td>16497520.0</td>\n",
       "      <td>8944614.0</td>\n",
       "      <td>...</td>\n",
       "      <td>772414.0</td>\n",
       "      <td>386781.0</td>\n",
       "      <td>1192648.0</td>\n",
       "      <td>248.041059</td>\n",
       "      <td>290.081407</td>\n",
       "      <td>227.598382</td>\n",
       "      <td>273.402640</td>\n",
       "      <td>-238246.0</td>\n",
       "      <td>-238246.0</td>\n",
       "      <td>-238246.0</td>\n",
       "    </tr>\n",
       "    <tr>\n",
       "      <td>1488</td>\n",
       "      <td>2017_WASHINGTON</td>\n",
       "      <td>WASHINGTON</td>\n",
       "      <td>2017</td>\n",
       "      <td>1083973.0</td>\n",
       "      <td>14964364.0</td>\n",
       "      <td>1097684.0</td>\n",
       "      <td>9211201.0</td>\n",
       "      <td>4655479.0</td>\n",
       "      <td>15253296.0</td>\n",
       "      <td>7087365.0</td>\n",
       "      <td>...</td>\n",
       "      <td>656797.0</td>\n",
       "      <td>336808.0</td>\n",
       "      <td>1007338.0</td>\n",
       "      <td>241.701001</td>\n",
       "      <td>289.131257</td>\n",
       "      <td>223.123409</td>\n",
       "      <td>267.744778</td>\n",
       "      <td>-288932.0</td>\n",
       "      <td>-288932.0</td>\n",
       "      <td>-288932.0</td>\n",
       "    </tr>\n",
       "    <tr>\n",
       "      <td>1489</td>\n",
       "      <td>2017_WEST_VIRGINIA</td>\n",
       "      <td>WEST_VIRGINIA</td>\n",
       "      <td>2017</td>\n",
       "      <td>276764.0</td>\n",
       "      <td>3391579.0</td>\n",
       "      <td>358068.0</td>\n",
       "      <td>1863062.0</td>\n",
       "      <td>1170449.0</td>\n",
       "      <td>3366566.0</td>\n",
       "      <td>1804235.0</td>\n",
       "      <td>...</td>\n",
       "      <td>162070.0</td>\n",
       "      <td>80142.0</td>\n",
       "      <td>257289.0</td>\n",
       "      <td>236.057019</td>\n",
       "      <td>273.415854</td>\n",
       "      <td>217.316396</td>\n",
       "      <td>271.617023</td>\n",
       "      <td>25013.0</td>\n",
       "      <td>25013.0</td>\n",
       "      <td>25013.0</td>\n",
       "    </tr>\n",
       "    <tr>\n",
       "      <td>1490</td>\n",
       "      <td>2017_WISCONSIN</td>\n",
       "      <td>WISCONSIN</td>\n",
       "      <td>2017</td>\n",
       "      <td>857736.0</td>\n",
       "      <td>11697466.0</td>\n",
       "      <td>782610.0</td>\n",
       "      <td>5986763.0</td>\n",
       "      <td>4928093.0</td>\n",
       "      <td>11787535.0</td>\n",
       "      <td>5760418.0</td>\n",
       "      <td>...</td>\n",
       "      <td>489919.0</td>\n",
       "      <td>263896.0</td>\n",
       "      <td>809722.0</td>\n",
       "      <td>240.389213</td>\n",
       "      <td>288.143144</td>\n",
       "      <td>219.612694</td>\n",
       "      <td>258.700304</td>\n",
       "      <td>-90069.0</td>\n",
       "      <td>-90069.0</td>\n",
       "      <td>-90069.0</td>\n",
       "    </tr>\n",
       "    <tr>\n",
       "      <td>1491</td>\n",
       "      <td>2017_WYOMING</td>\n",
       "      <td>WYOMING</td>\n",
       "      <td>2017</td>\n",
       "      <td>94511.0</td>\n",
       "      <td>2044669.0</td>\n",
       "      <td>123012.0</td>\n",
       "      <td>1175899.0</td>\n",
       "      <td>745758.0</td>\n",
       "      <td>2034229.0</td>\n",
       "      <td>921494.0</td>\n",
       "      <td>...</td>\n",
       "      <td>59453.0</td>\n",
       "      <td>26914.0</td>\n",
       "      <td>86876.0</td>\n",
       "      <td>247.820619</td>\n",
       "      <td>288.761812</td>\n",
       "      <td>226.831211</td>\n",
       "      <td>269.371456</td>\n",
       "      <td>10440.0</td>\n",
       "      <td>10440.0</td>\n",
       "      <td>10440.0</td>\n",
       "    </tr>\n",
       "  </tbody>\n",
       "</table>\n",
       "<p>1492 rows × 28 columns</p>\n",
       "</div>"
      ],
      "text/plain": [
       "             PRIMARY_KEY          STATE  YEAR     ENROLL  TOTAL_REVENUE  \\\n",
       "0           1992_ALABAMA        ALABAMA  1992        NaN      2678885.0   \n",
       "1            1992_ALASKA         ALASKA  1992        NaN      1049591.0   \n",
       "2           1992_ARIZONA        ARIZONA  1992        NaN      3258079.0   \n",
       "3          1992_ARKANSAS       ARKANSAS  1992        NaN      1711959.0   \n",
       "4        1992_CALIFORNIA     CALIFORNIA  1992        NaN     26260025.0   \n",
       "...                  ...            ...   ...        ...            ...   \n",
       "1487       2017_VIRGINIA       VIRGINIA  2017  1283493.0     16259274.0   \n",
       "1488     2017_WASHINGTON     WASHINGTON  2017  1083973.0     14964364.0   \n",
       "1489  2017_WEST_VIRGINIA  WEST_VIRGINIA  2017   276764.0      3391579.0   \n",
       "1490      2017_WISCONSIN      WISCONSIN  2017   857736.0     11697466.0   \n",
       "1491        2017_WYOMING        WYOMING  2017    94511.0      2044669.0   \n",
       "\n",
       "      FEDERAL_REVENUE  STATE_REVENUE  LOCAL_REVENUE  TOTAL_EXPENDITURE  \\\n",
       "0            304177.0      1659028.0       715680.0          2653798.0   \n",
       "1            106780.0       720711.0       222100.0           972488.0   \n",
       "2            297888.0      1369815.0      1590376.0          3401580.0   \n",
       "3            178571.0       958785.0       574603.0          1743022.0   \n",
       "4           2072470.0     16546514.0      7641041.0         27138832.0   \n",
       "...               ...            ...            ...                ...   \n",
       "1487        1058146.0      6297587.0      8903541.0         16497520.0   \n",
       "1488        1097684.0      9211201.0      4655479.0         15253296.0   \n",
       "1489         358068.0      1863062.0      1170449.0          3366566.0   \n",
       "1490         782610.0      5986763.0      4928093.0         11787535.0   \n",
       "1491         123012.0      1175899.0       745758.0          2034229.0   \n",
       "\n",
       "      INSTRUCTION_EXPENDITURE  ...  GRADES_1_8_G  GRADES_9_12_G  GRADES_ALL_G  \\\n",
       "0                   1481703.0  ...      471564.0       196386.0      676174.0   \n",
       "1                    498362.0  ...       79117.0        30847.0      112335.0   \n",
       "2                   1435908.0  ...      437127.0       175210.0      614881.0   \n",
       "3                    964323.0  ...      281338.0       123113.0      405259.0   \n",
       "4                  14358922.0  ...     3286034.0      1372011.0     4717112.0   \n",
       "...                       ...  ...           ...            ...           ...   \n",
       "1487                8944614.0  ...      772414.0       386781.0     1192648.0   \n",
       "1488                7087365.0  ...      656797.0       336808.0     1007338.0   \n",
       "1489                1804235.0  ...      162070.0        80142.0      257289.0   \n",
       "1490                5760418.0  ...      489919.0       263896.0      809722.0   \n",
       "1491                 921494.0  ...       59453.0        26914.0       86876.0   \n",
       "\n",
       "      AVG_MATH_4_SCORE  AVG_MATH_8_SCORE  AVG_READING_4_SCORE  \\\n",
       "0           208.327876        252.187522           207.963517   \n",
       "1           218.410116        266.360319           212.712256   \n",
       "2           215.253932        265.366278           206.212716   \n",
       "3           210.206028        256.312090           208.634458   \n",
       "4           208.398961        260.892247           196.764414   \n",
       "...                ...               ...                  ...   \n",
       "1487        248.041059        290.081407           227.598382   \n",
       "1488        241.701001        289.131257           223.123409   \n",
       "1489        236.057019        273.415854           217.316396   \n",
       "1490        240.389213        288.143144           219.612694   \n",
       "1491        247.820619        288.761812           226.831211   \n",
       "\n",
       "      AVG_READING_8_SCORE  BUDGET_DEFİCİT  W_BUDGET_DEFİCİT  WW_BUDGET_DEFİCİT  \n",
       "0              263.307067         25087.0           25087.0            25087.0  \n",
       "1              258.859712         77103.0           77103.0            77103.0  \n",
       "2              262.169895       -143501.0         -143501.0          -143501.0  \n",
       "3              264.619665        -31063.0          -31063.0           -31063.0  \n",
       "4              263.307067       -878807.0         -878807.0          -482442.0  \n",
       "...                   ...             ...               ...                ...  \n",
       "1487           273.402640       -238246.0         -238246.0          -238246.0  \n",
       "1488           267.744778       -288932.0         -288932.0          -288932.0  \n",
       "1489           271.617023         25013.0           25013.0            25013.0  \n",
       "1490           258.700304        -90069.0          -90069.0           -90069.0  \n",
       "1491           269.371456         10440.0           10440.0            10440.0  \n",
       "\n",
       "[1492 rows x 28 columns]"
      ]
     },
     "execution_count": 63,
     "metadata": {},
     "output_type": "execute_result"
    }
   ],
   "source": [
    "education[\"WW_BUDGET_DEFİCİT\"]=WW_BUDGET_DEFİCİT \n",
    "education"
   ]
  },
  {
   "cell_type": "markdown",
   "metadata": {},
   "source": [
    "# Q5: \n",
    "Şimdi elimizde üçüncü ve ve dördüncü sorularda oluşturduğumuz iki farklı bütçe değişkeni var. Bu ikisi arasında fark görüyor musunuz?"
   ]
  },
  {
   "cell_type": "code",
   "execution_count": 74,
   "metadata": {},
   "outputs": [
    {
     "data": {
      "image/png": "[encoded data removed]",
      "text/plain": [
       "<Figure size 720x360 with 1 Axes>"
      ]
     },
     "metadata": {
      "needs_background": "light"
     },
     "output_type": "display_data"
    }
   ],
   "source": [
    "fig=plt.figure(figsize=(10,5))\n",
    "\n",
    "df=pd.concat([education[\"BUDGET_DEFİCİT\"], education[\"W_BUDGET_DEFİCİT\"], education[\"WW_BUDGET_DEFİCİT\"]], axis=1)\n",
    "plt.bar([\"BUDGET_DEFİCİT\",\"W_BUDGET_DEFİCİT\",\"WW_BUDGET DEFİCİT\"],df.mean(),color=[\"red\",\"blue\",\"green\"])\n",
    "    \n",
    "plt.tight_layout()\n",
    "plt.show()"
   ]
  },
  {
   "cell_type": "markdown",
   "metadata": {},
   "source": [
    "# Q6: \n",
    "Bizim için bütçe açığı çok önemli bir değişken olsaydı aykırı değerleri temizlemek için hangi yöntem daha iyi olurdu. Üçüncü soruda uguladığınız yöntem mi yoksa dördüncü sorudaki yöntem mi?"
   ]
  },
  {
   "cell_type": "markdown",
   "metadata": {},
   "source": [
    "Winsorize alınan değişkenlerden elde edilen winsorize bütçe açığı orjinal değerden farklı bir sonuç ortaya çıkarmaktadır. Bu yüzden winsorize edilmemiş olan orjinal değerlerden elde edilen bütçe açığı winsorize edilerek kullanılmalıdır.\n",
    "\n",
    "\"Cevap 4\"\n",
    "----"
   ]
  },
  {
   "cell_type": "markdown",
   "metadata": {},
   "source": [
    "BİTTİ."
   ]
  }
 ],
 "metadata": {
  "kernelspec": {
   "display_name": "Python 3",
   "language": "python",
   "name": "python3"
  },
  "language_info": {
   "codemirror_mode": {
    "name": "ipython",
    "version": 3
   },
   "file_extension": ".py",
   "mimetype": "text/x-python",
   "name": "python",
   "nbconvert_exporter": "python",
   "pygments_lexer": "ipython3",
   "version": "3.7.4"
  }
 },
 "nbformat": 4,
 "nbformat_minor": 2
}
