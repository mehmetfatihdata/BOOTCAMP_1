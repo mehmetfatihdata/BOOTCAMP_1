{
 "cells": [
  {
   "cell_type": "markdown",
   "metadata": {},
   "source": [
    "# mehmetfatihdata"
   ]
  },
  {
   "cell_type": "code",
   "execution_count": 41,
   "metadata": {},
   "outputs": [],
   "source": [
    "import pandas as pd\n",
    "import numpy as np\n",
    "import statistics\n",
    "import warnings\n",
    "warnings.filterwarnings('ignore')"
   ]
  },
  {
   "cell_type": "markdown",
   "metadata": {},
   "source": [
    "## 1.SORU"
   ]
  },
  {
   "cell_type": "code",
   "execution_count": 42,
   "metadata": {},
   "outputs": [
    {
     "data": {
      "text/html": [
       "<div>\n",
       "<style scoped>\n",
       "    .dataframe tbody tr th:only-of-type {\n",
       "        vertical-align: middle;\n",
       "    }\n",
       "\n",
       "    .dataframe tbody tr th {\n",
       "        vertical-align: top;\n",
       "    }\n",
       "\n",
       "    .dataframe thead th {\n",
       "        text-align: right;\n",
       "    }\n",
       "</style>\n",
       "<table border=\"1\" class=\"dataframe\">\n",
       "  <thead>\n",
       "    <tr style=\"text-align: right;\">\n",
       "      <th></th>\n",
       "      <th>nation</th>\n",
       "      <th>age</th>\n",
       "      <th>wage</th>\n",
       "      <th>performance</th>\n",
       "    </tr>\n",
       "  </thead>\n",
       "  <tbody>\n",
       "    <tr>\n",
       "      <td>0</td>\n",
       "      <td>china</td>\n",
       "      <td>21.149210</td>\n",
       "      <td>1033.617709</td>\n",
       "      <td>73.101185</td>\n",
       "    </tr>\n",
       "    <tr>\n",
       "      <td>1</td>\n",
       "      <td>china</td>\n",
       "      <td>28.002113</td>\n",
       "      <td>935.402040</td>\n",
       "      <td>77.839892</td>\n",
       "    </tr>\n",
       "    <tr>\n",
       "      <td>2</td>\n",
       "      <td>china</td>\n",
       "      <td>22.616836</td>\n",
       "      <td>971.116628</td>\n",
       "      <td>72.584181</td>\n",
       "    </tr>\n",
       "    <tr>\n",
       "      <td>3</td>\n",
       "      <td>china</td>\n",
       "      <td>26.674379</td>\n",
       "      <td>992.688398</td>\n",
       "      <td>83.508794</td>\n",
       "    </tr>\n",
       "    <tr>\n",
       "      <td>4</td>\n",
       "      <td>china</td>\n",
       "      <td>24.441907</td>\n",
       "      <td>905.423321</td>\n",
       "      <td>85.177684</td>\n",
       "    </tr>\n",
       "    <tr>\n",
       "      <td>...</td>\n",
       "      <td>...</td>\n",
       "      <td>...</td>\n",
       "      <td>...</td>\n",
       "      <td>...</td>\n",
       "    </tr>\n",
       "    <tr>\n",
       "      <td>1995</td>\n",
       "      <td>europe</td>\n",
       "      <td>23.194023</td>\n",
       "      <td>519.965714</td>\n",
       "      <td>90.250081</td>\n",
       "    </tr>\n",
       "    <tr>\n",
       "      <td>1996</td>\n",
       "      <td>europe</td>\n",
       "      <td>25.281864</td>\n",
       "      <td>385.810382</td>\n",
       "      <td>85.387353</td>\n",
       "    </tr>\n",
       "    <tr>\n",
       "      <td>1997</td>\n",
       "      <td>europe</td>\n",
       "      <td>25.685939</td>\n",
       "      <td>571.302007</td>\n",
       "      <td>86.263673</td>\n",
       "    </tr>\n",
       "    <tr>\n",
       "      <td>1998</td>\n",
       "      <td>europe</td>\n",
       "      <td>24.278058</td>\n",
       "      <td>625.347066</td>\n",
       "      <td>86.820762</td>\n",
       "    </tr>\n",
       "    <tr>\n",
       "      <td>1999</td>\n",
       "      <td>europe</td>\n",
       "      <td>22.733399</td>\n",
       "      <td>499.897126</td>\n",
       "      <td>94.752191</td>\n",
       "    </tr>\n",
       "  </tbody>\n",
       "</table>\n",
       "<p>2000 rows × 4 columns</p>\n",
       "</div>"
      ],
      "text/plain": [
       "      nation        age         wage  performance\n",
       "0      china  21.149210  1033.617709    73.101185\n",
       "1      china  28.002113   935.402040    77.839892\n",
       "2      china  22.616836   971.116628    72.584181\n",
       "3      china  26.674379   992.688398    83.508794\n",
       "4      china  24.441907   905.423321    85.177684\n",
       "...      ...        ...          ...          ...\n",
       "1995  europe  23.194023   519.965714    90.250081\n",
       "1996  europe  25.281864   385.810382    85.387353\n",
       "1997  europe  25.685939   571.302007    86.263673\n",
       "1998  europe  24.278058   625.347066    86.820762\n",
       "1999  europe  22.733399   499.897126    94.752191\n",
       "\n",
       "[2000 rows x 4 columns]"
      ]
     },
     "execution_count": 42,
     "metadata": {},
     "output_type": "execute_result"
    }
   ],
   "source": [
    "data = pd.DataFrame()\n",
    "data['nation'] = ['china'] * 1000 + ['europe'] * 1000\n",
    "data['age'] = np.append(np.random.normal(30, 5, 1000), np.random.normal(25, 2, 1000))\n",
    "data['wage'] = np.append(np.random.normal(1000, 50, 1000), np.random.normal(500, 100, 1000))\n",
    "data['performance'] = np.append(np.random.normal(70, 10, 1000), np.random.normal(90, 5, 1000))\n",
    "data"
   ]
  },
  {
   "cell_type": "code",
   "execution_count": 46,
   "metadata": {
    "scrolled": false
   },
   "outputs": [
    {
     "name": "stdout",
     "output_type": "stream",
     "text": [
      "27.54167566422614\n",
      "27.54167566422614\n",
      "27.54167566422614\n",
      "27.541675664226116\n"
     ]
    }
   ],
   "source": [
    "print(sum(data['age']) / len(data['age']))\n",
    "print(np.mean(data['age']))\n",
    "print(data[\"age\"].mean())\n",
    "print(statistics.mean(data['age']))"
   ]
  },
  {
   "cell_type": "code",
   "execution_count": 55,
   "metadata": {
    "scrolled": true
   },
   "outputs": [
    {
     "name": "stdout",
     "output_type": "stream",
     "text": [
      "26.50509571090733\n",
      "26.50509571090733\n",
      "26.50509571090733\n"
     ]
    }
   ],
   "source": [
    "print(np.median(data['age']))\n",
    "print(data[\"age\"].median())\n",
    "print(statistics.median(data['age']))"
   ]
  },
  {
   "cell_type": "code",
   "execution_count": 57,
   "metadata": {},
   "outputs": [
    {
     "name": "stdout",
     "output_type": "stream",
     "text": [
      "20.788627941292155\n",
      "20.788627941292155\n"
     ]
    }
   ],
   "source": [
    "print(np.var(data['age'], ddof=1))\n",
    "print(data['age'].var())"
   ]
  },
  {
   "cell_type": "code",
   "execution_count": 72,
   "metadata": {},
   "outputs": [
    {
     "name": "stdout",
     "output_type": "stream",
     "text": [
      "4.559454785529971\n"
     ]
    },
    {
     "data": {
      "text/plain": [
       "4.559454785529971"
      ]
     },
     "execution_count": 72,
     "metadata": {},
     "output_type": "execute_result"
    }
   ],
   "source": [
    "print(data.age.std())\n",
    "np.std(data['age'], ddof=1)"
   ]
  },
  {
   "cell_type": "code",
   "execution_count": 70,
   "metadata": {
    "scrolled": false
   },
   "outputs": [
    {
     "data": {
      "text/plain": [
       "0.1019525084078174"
      ]
     },
     "execution_count": 70,
     "metadata": {},
     "output_type": "execute_result"
    }
   ],
   "source": [
    "np.std(data['age'] ,ddof=1) / np.sqrt(len(data['age']))"
   ]
  },
  {
   "cell_type": "code",
   "execution_count": 73,
   "metadata": {},
   "outputs": [
    {
     "name": "stdout",
     "output_type": "stream",
     "text": [
      "<class 'pandas.core.frame.DataFrame'>\n",
      "RangeIndex: 2000 entries, 0 to 1999\n",
      "Data columns (total 4 columns):\n",
      "nation         2000 non-null object\n",
      "age            2000 non-null float64\n",
      "wage           2000 non-null float64\n",
      "performance    2000 non-null float64\n",
      "dtypes: float64(3), object(1)\n",
      "memory usage: 62.6+ KB\n"
     ]
    }
   ],
   "source": [
    "data.info()"
   ]
  },
  {
   "cell_type": "code",
   "execution_count": 22,
   "metadata": {
    "scrolled": true
   },
   "outputs": [
    {
     "data": {
      "text/html": [
       "<div>\n",
       "<style scoped>\n",
       "    .dataframe tbody tr th:only-of-type {\n",
       "        vertical-align: middle;\n",
       "    }\n",
       "\n",
       "    .dataframe tbody tr th {\n",
       "        vertical-align: top;\n",
       "    }\n",
       "\n",
       "    .dataframe thead th {\n",
       "        text-align: right;\n",
       "    }\n",
       "</style>\n",
       "<table border=\"1\" class=\"dataframe\">\n",
       "  <thead>\n",
       "    <tr style=\"text-align: right;\">\n",
       "      <th></th>\n",
       "      <th>age</th>\n",
       "      <th>wage</th>\n",
       "      <th>performance</th>\n",
       "    </tr>\n",
       "  </thead>\n",
       "  <tbody>\n",
       "    <tr>\n",
       "      <td>count</td>\n",
       "      <td>2000.000000</td>\n",
       "      <td>2000.000000</td>\n",
       "      <td>2000.000000</td>\n",
       "    </tr>\n",
       "    <tr>\n",
       "      <td>mean</td>\n",
       "      <td>27.402907</td>\n",
       "      <td>753.399253</td>\n",
       "      <td>79.754688</td>\n",
       "    </tr>\n",
       "    <tr>\n",
       "      <td>std</td>\n",
       "      <td>4.522005</td>\n",
       "      <td>261.825767</td>\n",
       "      <td>13.068468</td>\n",
       "    </tr>\n",
       "    <tr>\n",
       "      <td>min</td>\n",
       "      <td>14.582487</td>\n",
       "      <td>117.982241</td>\n",
       "      <td>39.260134</td>\n",
       "    </tr>\n",
       "    <tr>\n",
       "      <td>25%</td>\n",
       "      <td>24.278543</td>\n",
       "      <td>504.387340</td>\n",
       "      <td>69.226483</td>\n",
       "    </tr>\n",
       "    <tr>\n",
       "      <td>50%</td>\n",
       "      <td>26.412810</td>\n",
       "      <td>835.276032</td>\n",
       "      <td>83.309721</td>\n",
       "    </tr>\n",
       "    <tr>\n",
       "      <td>75%</td>\n",
       "      <td>29.737744</td>\n",
       "      <td>1002.188874</td>\n",
       "      <td>90.268724</td>\n",
       "    </tr>\n",
       "    <tr>\n",
       "      <td>max</td>\n",
       "      <td>43.962653</td>\n",
       "      <td>1154.597114</td>\n",
       "      <td>106.212270</td>\n",
       "    </tr>\n",
       "  </tbody>\n",
       "</table>\n",
       "</div>"
      ],
      "text/plain": [
       "               age         wage  performance\n",
       "count  2000.000000  2000.000000  2000.000000\n",
       "mean     27.402907   753.399253    79.754688\n",
       "std       4.522005   261.825767    13.068468\n",
       "min      14.582487   117.982241    39.260134\n",
       "25%      24.278543   504.387340    69.226483\n",
       "50%      26.412810   835.276032    83.309721\n",
       "75%      29.737744  1002.188874    90.268724\n",
       "max      43.962653  1154.597114   106.212270"
      ]
     },
     "execution_count": 22,
     "metadata": {},
     "output_type": "execute_result"
    }
   ],
   "source": [
    "data.describe()"
   ]
  },
  {
   "cell_type": "markdown",
   "metadata": {},
   "source": [
    "data = pd.DataFrame()\n",
    "data['nation'] = ['china'] * 100 + ['europe'] * 100 + ['arabia'] *100\n",
    "data['age'] = np.append(np.random.normal(25, 10, 100), np.random.normal(20, 5, 100), np.random.normal(30, 10, 100))\n",
    "data['wage'] = np.append(np.random.normal(25, 8, 100), np.random.normal(20, 5, 100), np.random.normal(30, 10, 100))\n",
    "data['performance'] = np.append(np.random.normal(25, 8, 100), np.random.normal(20, 5, 100), np.random.normal(30, 10, 100))\n",
    "data"
   ]
  },
  {
   "cell_type": "markdown",
   "metadata": {},
   "source": [
    "BİTTİ."
   ]
  }
 ],
 "metadata": {
  "kernelspec": {
   "display_name": "Python 3",
   "language": "python",
   "name": "python3"
  },
  "language_info": {
   "codemirror_mode": {
    "name": "ipython",
    "version": 3
   },
   "file_extension": ".py",
   "mimetype": "text/x-python",
   "name": "python",
   "nbconvert_exporter": "python",
   "pygments_lexer": "ipython3",
   "version": "3.7.4"
  }
 },
 "nbformat": 4,
 "nbformat_minor": 2
}
