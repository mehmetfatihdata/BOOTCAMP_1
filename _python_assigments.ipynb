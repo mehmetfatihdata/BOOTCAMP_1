{
 "cells": [
  {
   "cell_type": "markdown",
   "metadata": {},
   "source": [
    "# Assignment-008/8 (Leap Years)"
   ]
  },
  {
   "cell_type": "markdown",
   "metadata": {},
   "source": [
    "Task:\n",
    "\n",
    "Find out if a given year is a \"leap\" year.\n",
    "\n",
    "In the Gregorian calendar, three criteria must be taken into account to identify leap years:\n",
    "The year must be evenly divisible by 4;\n",
    "If the year can also be evenly divided by 100, it is not a leap year; unless...\n",
    "The year is also evenly divisible by 400. Then it is a leap year.\n",
    "According to these rules, the years 2000 and 2400 are leap years, while 1800, 1900, 2100, 2200, 2300, and 2500 are not the leap years.\n",
    "Write a Python program that prints such as \"2020 is a leap year\" if the given year by the user is a leap year, prints such as \"2019 is not a leap year\" otherwise."
   ]
  },
  {
   "cell_type": "code",
   "execution_count": 17,
   "metadata": {},
   "outputs": [
    {
     "name": "stdin",
     "output_type": "stream",
     "text": [
      "enter year 2020\n"
     ]
    },
    {
     "name": "stdout",
     "output_type": "stream",
     "text": [
      "2020 is a leap year\n"
     ]
    }
   ],
   "source": [
    "year = int(input('enter year'))\n",
    "           \n",
    "if (year % 4) == 0:\n",
    "    if (year % 100) == 0:\n",
    "        if (year % 400) == 0:\n",
    "            print(\"{0} is a leap year\".format(year))\n",
    "        else:\n",
    "            print(\"{0} is not a leap year\".format(year))       \n",
    "    else:\n",
    "        print(\"{0} is a leap year\".format(year))\n",
    "else:\n",
    "    print(\"{0} is not a leap year\".format(year))\n"
   ]
  },
  {
   "cell_type": "markdown",
   "metadata": {},
   "source": [
    "# Assignment-008/7 (Fizz Buzz Numbers)"
   ]
  },
  {
   "cell_type": "markdown",
   "metadata": {},
   "source": [
    "Task : Print the Fizz Buzz numbers.\n",
    "\n",
    "Fizz Buzz is a famous code challenge used in interviews to test basic programming skills. It's time to write your own implementation.\n",
    "Print numbers from 1 to 100 inclusively following these instructions:\n",
    "if a number is multiple of 3, print \"Fizz\" instead of this number,\n",
    "if a number is multiple of 5, print \"Buzz\" instead of this number,\n",
    "for numbers that are multiples of both 3 and 5, print \"FizzBuzz\",\n",
    "print the rest of the numbers unchanged.\n",
    "Output each value on a separate line."
   ]
  },
  {
   "cell_type": "code",
   "execution_count": 1,
   "metadata": {},
   "outputs": [
    {
     "name": "stdout",
     "output_type": "stream",
     "text": [
      "[15, 30, 45, 60, 75, 90]\n",
      "[5, 10, 15, 20, 25, 30, 35, 40, 45, 50, 55, 60, 65, 70, 75, 80, 85, 90, 95, 100]\n",
      "[3, 6, 9, 12, 15, 18, 21, 24, 27, 30, 33, 36, 39, 42, 45, 48, 51, 54, 57, 60, 63, 66, 69, 72, 75, 78, 81, 84, 87, 90, 93, 96, 99]\n",
      "[1, 2, 4, 7, 8, 11, 13, 14, 16, 17, 19, 22, 23, 26, 28, 29, 31, 32, 34, 37, 38, 41, 43, 44, 46, 47, 49, 52, 53, 56, 58, 59, 61, 62, 64, 67, 68, 71, 73, 74, 76, 77, 79, 82, 83, 86, 88, 89, 91, 92, 94, 97, 98]\n"
     ]
    }
   ],
   "source": [
    "Fizz =[]\n",
    "Buzz = []\n",
    "FizzBuzz = []\n",
    "Unchanged = []\n",
    "for i in range(1,101):\n",
    "    if i % 15 == 0:\n",
    "        FizzBuzz.append(i)\n",
    "    if i % 5 == 0:\n",
    "        Buzz.append(i)\n",
    "    if i % 3 == 0:\n",
    "        Fizz.append(i)\n",
    "    if i % 3 != 0 and i % 5 != 0:\n",
    "        Unchanged.append(i)\n",
    "        \n",
    "print(FizzBuzz, Buzz, Fizz, Unchanged, sep = \"\\n\")"
   ]
  },
  {
   "cell_type": "code",
   "execution_count": 2,
   "metadata": {},
   "outputs": [
    {
     "name": "stdout",
     "output_type": "stream",
     "text": [
      "[1, 2, 'Buzz', 4, 'Buzz', 'Buzz', 7, 8, 'Buzz', 'Buzz', 11, 'Buzz', 13, 14, 'FizzBuzz', 16, 17, 'Buzz', 19, 'Buzz', 'Buzz', 22, 23, 'Buzz', 'Buzz', 26, 'Buzz', 28, 29, 'FizzBuzz', 31, 32, 'Buzz', 34, 'Buzz', 'Buzz', 37, 38, 'Buzz', 'Buzz', 41, 'Buzz', 43, 44, 'FizzBuzz', 46, 47, 'Buzz', 49, 'Buzz', 'Buzz', 52, 53, 'Buzz', 'Buzz', 56, 'Buzz', 58, 59, 'FizzBuzz', 61, 62, 'Buzz', 64, 'Buzz', 'Buzz', 67, 68, 'Buzz', 'Buzz', 71, 'Buzz', 73, 74, 'FizzBuzz', 76, 77, 'Buzz', 79, 'Buzz', 'Buzz', 82, 83, 'Buzz', 'Buzz', 86, 'Buzz', 88, 89, 'FizzBuzz', 91, 92, 'Buzz', 94, 'Buzz', 'Buzz', 97, 98, 'Buzz', 'Buzz']\n"
     ]
    }
   ],
   "source": [
    "number = list(range(1,101))\n",
    "\n",
    "for i in number:\n",
    "    if i % 15 == 0:\n",
    "        number[i -1]  = 'FizzBuzz'\n",
    "    elif i % 5 == 0:\n",
    "        number[i -1]  = 'Buzz'\n",
    "    elif i % 3 == 0:\n",
    "        number[i -1]  = 'Buzz'        \n",
    "print(number)\n"
   ]
  },
  {
   "cell_type": "markdown",
   "metadata": {},
   "source": [
    "# Assignment-008/6 (Prime Numbers)"
   ]
  },
  {
   "cell_type": "markdown",
   "metadata": {},
   "source": [
    "Task : Print the prime numbers which are between 1 to entered limit number (n).\n",
    "\n",
    "You can use a nested for loop.\n",
    "Collect all these numbers into a list\n",
    "The desired output for n=100 :"
   ]
  },
  {
   "cell_type": "code",
   "execution_count": 1,
   "metadata": {},
   "outputs": [
    {
     "name": "stdin",
     "output_type": "stream",
     "text": [
      "please enter your prime number limit 100\n"
     ]
    },
    {
     "name": "stdout",
     "output_type": "stream",
     "text": [
      "[2, 3, 5, 7, 11, 13, 17, 19, 23, 29, 31, 37, 41, 43, 47, 53, 59, 61, 67, 71, 73, 79, 83, 89, 97]\n"
     ]
    }
   ],
   "source": [
    "print(\n",
    "    [i for i in range(2, int(input('please enter your prime number limit'))) if all([i % j for j in range(2, i)])]\n",
    ")\n"
   ]
  },
  {
   "cell_type": "code",
   "execution_count": 3,
   "metadata": {},
   "outputs": [
    {
     "name": "stdin",
     "output_type": "stream",
     "text": [
      "please enter your prime number limit 100\n"
     ]
    },
    {
     "name": "stdout",
     "output_type": "stream",
     "text": [
      "[2, 3, 5, 7, 11, 13, 17, 19, 23, 29, 31, 37, 41, 43, 47, 53, 59, 61, 67, 71, 73, 79, 83, 89, 97]\n"
     ]
    }
   ],
   "source": [
    "n = int(input('please enter your prime number limit'))\n",
    "prime_number = []\n",
    "\n",
    "for i  in range(2, n):\n",
    "    a = []\n",
    "    for j in range (2, i):\n",
    "        a.append(i % j)\n",
    "    if all(a) == True:\n",
    "        prime_number.append(i)\n",
    "print(prime_number)\n"
   ]
  },
  {
   "cell_type": "markdown",
   "metadata": {},
   "source": [
    "# Assignment-008/5 (Fibonacci Numbers)"
   ]
  },
  {
   "cell_type": "markdown",
   "metadata": {},
   "source": [
    "Task : Create a list consisting of Fibonacci numbers from 1 to 55 using control flow statements."
   ]
  },
  {
   "cell_type": "code",
   "execution_count": 4,
   "metadata": {},
   "outputs": [
    {
     "name": "stdout",
     "output_type": "stream",
     "text": [
      "[1, 1, 2, 3, 5, 8, 13, 21, 34, 55]\n"
     ]
    }
   ],
   "source": [
    "fibonacci = [1]\n",
    "\n",
    "while fibonacci[-1] < 55:\n",
    "    if len(fibonacci) < 2:\n",
    "        fibonacci.append(1)\n",
    "    else:\n",
    "        fibonacci.append(fibonacci[-2] + fibonacci[-1])\n",
    "print(fibonacci)\n"
   ]
  },
  {
   "cell_type": "code",
   "execution_count": 5,
   "metadata": {},
   "outputs": [
    {
     "name": "stdout",
     "output_type": "stream",
     "text": [
      "[1, 1, 2, 3, 5, 8, 13, 21, 34, 55]\n"
     ]
    }
   ],
   "source": [
    "start = 1\n",
    "fibonacci = [start]\n",
    "\n",
    "while fibonacci[-1] < 55:\n",
    "    fibonacci.append(sum(fibonacci[-2:]))\n",
    "print(fibonacci)\n"
   ]
  },
  {
   "cell_type": "markdown",
   "metadata": {},
   "source": [
    "## Assignment-008/4 (Is it a Prime Number?)"
   ]
  },
  {
   "cell_type": "markdown",
   "metadata": {},
   "source": [
    "Task : Write a program that takes a number from the user and prints the result to check if it is a prime number."
   ]
  },
  {
   "cell_type": "code",
   "execution_count": 6,
   "metadata": {},
   "outputs": [
    {
     "name": "stdin",
     "output_type": "stream",
     "text": [
      "enter your number 93\n"
     ]
    },
    {
     "name": "stdout",
     "output_type": "stream",
     "text": [
      "93 ; it is not a prime number.\n"
     ]
    }
   ],
   "source": [
    "number = int(input(\"enter your number\"))\n",
    "liste = []\n",
    "for i in range(2, number):\n",
    "         a = (number % i) \n",
    "         liste.append(a)\n",
    "if 0 in liste or (number == 0) or (number ==1):\n",
    "    print(number, \";\", \"it is not a prime number.\")\n",
    "else:\n",
    "    print(number, \";\", \"it is a prime number.\")\n"
   ]
  },
  {
   "cell_type": "code",
   "execution_count": 7,
   "metadata": {},
   "outputs": [
    {
     "name": "stdin",
     "output_type": "stream",
     "text": [
      "enter your number 73\n"
     ]
    },
    {
     "name": "stdout",
     "output_type": "stream",
     "text": [
      "This is a prime number: True\n"
     ]
    }
   ],
   "source": [
    "number = int(input(\"enter your number\"))\n",
    "print(\n",
    "    \"This is a prime number:\",\n",
    "    len([number for x in range(2, number) if number % x == 0]) == 0\n",
    ")\n"
   ]
  },
  {
   "cell_type": "markdown",
   "metadata": {},
   "source": [
    "## Assignment-008/3 (Is it an Armstrong Number?)"
   ]
  },
  {
   "cell_type": "markdown",
   "metadata": {},
   "source": [
    "Task:\n",
    "\n",
    "Find out if a given number is an \"Armstrong Number\".\n",
    "\n",
    "An n-digit number that is the sum of the nth powers of its digits is called an n-Armstrong number. Examples :\n",
    "371 = 33 + 73 + 13;\n",
    "9474 = 94 + 44 + 74 + 44;\n",
    "93084 = 95 + 35 + 05 + 85 + 45.\n",
    "\n",
    "Write a Python program that;\n",
    "takes a positive integer number from the user,\n",
    "checks the entered number if it is Armstrong,\n",
    "consider the negative, float and any entries other than numeric values then display a warning message to the user."
   ]
  },
  {
   "cell_type": "code",
   "execution_count": 8,
   "metadata": {},
   "outputs": [
    {
     "name": "stdin",
     "output_type": "stream",
     "text": [
      "enter your number 407\n"
     ]
    },
    {
     "name": "stdout",
     "output_type": "stream",
     "text": [
      "407 :it's a armstrong number\n"
     ]
    }
   ],
   "source": [
    "while True:\n",
    "    number = input(\"enter your number\")\n",
    "    if not number.isdigit():\n",
    "        print(\" It is an invalid entry. Don't use non-numeric or float values!\")\n",
    "    else:\n",
    "        suma = 0\n",
    "        for i in number:\n",
    "            suma += int(i) ** len(number)\n",
    "        if suma == int(number):\n",
    "            print(number, \":it's a armstrong number\")\n",
    "        else:\n",
    "            print(number, \":it's not a armstrong number\")\n",
    "        break"
   ]
  },
  {
   "cell_type": "code",
   "execution_count": 9,
   "metadata": {},
   "outputs": [
    {
     "name": "stdin",
     "output_type": "stream",
     "text": [
      "enter your number a\n"
     ]
    },
    {
     "name": "stdout",
     "output_type": "stream",
     "text": [
      "It is an invalid entry.Don't use non-numeric, float, or negative values!\n"
     ]
    },
    {
     "name": "stdin",
     "output_type": "stream",
     "text": [
      "enter your number 407\n"
     ]
    },
    {
     "name": "stdout",
     "output_type": "stream",
     "text": [
      "407 is a armstrong number: True\n"
     ]
    }
   ],
   "source": [
    "while True:\n",
    "    number = input(\"enter your number\")\n",
    "    if not number.isdigit():\n",
    "        print(\"It is an invalid entry.\\\n",
    "Don't use non-numeric, float, or negative values!\")\n",
    "    else: \n",
    "        print(number,\n",
    "               \"is a armstrong number:\",\n",
    "              int(number) == sum([int(x) ** len(number) for x in number])\n",
    "             )\n",
    "        break\n"
   ]
  },
  {
   "cell_type": "markdown",
   "metadata": {},
   "source": [
    "# Assignment-008/2 (Covid-19 Risk)"
   ]
  },
  {
   "cell_type": "markdown",
   "metadata": {},
   "source": [
    "Task : Estimating the risk of death from coronavirus. Write a program that;\n",
    "\n",
    "Takes \"Yes\" or \"No\" from the user as an answer to the following questions :\n",
    "\n",
    "Are you a cigarette addict older than 75 years old? Variable → age\n",
    "\n",
    "Do you have a severe chronic disease? Variable → chronic\n",
    "\n",
    "Is your immune system too weak? Variable → immune\n",
    "\n",
    "Set a logical algorithm using boolean logic operators (and/or) and use if-statements with the given variables in order to print out us a message : \"You are in risky group\"(if True ) or \"You are not in risky group\" (if False)."
   ]
  },
  {
   "cell_type": "code",
   "execution_count": 10,
   "metadata": {},
   "outputs": [
    {
     "name": "stdin",
     "output_type": "stream",
     "text": [
      "Are you a cigarette addict older than 75 years old? True\n",
      "Do you have a severe chronic disease? True\n",
      "Is your immune system too weak? True\n"
     ]
    },
    {
     "name": "stdout",
     "output_type": "stream",
     "text": [
      "risk: You are in risky group\n"
     ]
    }
   ],
   "source": [
    "age = input (\"Are you a cigarette addict older than 75 years old?\") # can be assigned only True/False\n",
    "\n",
    "chronic =  input (\"Do you have a severe chronic disease?\")  # can be assigned only True/False\n",
    "\n",
    "immune =  input (\"Is your immune system too weak?\")  # can be assigned only True/False\n",
    "\n",
    "age = age == 'True'\n",
    "\n",
    "chronic = chronic == 'True'\n",
    "\n",
    "immune = immune == 'True'\n",
    "\n",
    "if immune and (age or chronic):\n",
    "    print(\"risk:\", \"You are in risky group\")\n",
    "    \n",
    "else:\n",
    "    print(\"risk:\", \"You are not in risky group\")"
   ]
  },
  {
   "cell_type": "markdown",
   "metadata": {},
   "source": [
    "# Assignment-008/1 (Password Reminder)"
   ]
  },
  {
   "cell_type": "markdown",
   "metadata": {},
   "source": [
    "Task : Let's say; you left a message in the past that prints a password you need. To see the password you wrote, you need to enter your name and the program should recognize you.\n",
    "Write a program that \n",
    "\n",
    "Takes the first name from the user and compares it to yours,\n",
    "Then if the name the user entered is the same as yours, print out such as : \"Hello, Joseph! The password is : W@12\",\n",
    "If the name the user entered is not the same as yours, print out such as : \"Hello, Amina! See you later.\""
   ]
  },
  {
   "cell_type": "code",
   "execution_count": 11,
   "metadata": {},
   "outputs": [
    {
     "name": "stdin",
     "output_type": "stream",
     "text": [
      "Enter your first name bob\n"
     ]
    },
    {
     "name": "stdout",
     "output_type": "stream",
     "text": [
      "Hello, Bob! The password is : W@12\n"
     ]
    }
   ],
   "source": [
    "first_name = input('Enter your first name').title()\n",
    "\n",
    "if first_name == \"Bob\":\n",
    "    print(f\"Hello, {first_name}! The password is : W@12\")\n",
    "else:\n",
    "    print(f\"Hello, {first_name}! See you later.\")\n",
    "    "
   ]
  },
  {
   "cell_type": "markdown",
   "metadata": {},
   "source": [
    "### mehmetfatihdata"
   ]
  }
 ],
 "metadata": {
  "kernelspec": {
   "display_name": "Python 3",
   "language": "python",
   "name": "python3"
  },
  "language_info": {
   "codemirror_mode": {
    "name": "ipython",
    "version": 3
   },
   "file_extension": ".py",
   "mimetype": "text/x-python",
   "name": "python",
   "nbconvert_exporter": "python",
   "pygments_lexer": "ipython3",
   "version": "3.7.4"
  }
 },
 "nbformat": 4,
 "nbformat_minor": 4
}
