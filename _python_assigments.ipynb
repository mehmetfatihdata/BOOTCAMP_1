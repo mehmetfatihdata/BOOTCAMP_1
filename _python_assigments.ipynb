{
 "cells": [
  {
   "cell_type": "markdown",
   "metadata": {},
   "source": [
    "# Assignment-008/4 (Is it a Prime Number?)"
   ]
  },
  {
   "cell_type": "code",
   "execution_count": 1,
   "metadata": {},
   "outputs": [
    {
     "name": "stdin",
     "output_type": "stream",
     "text": [
      "enter your number 153\n"
     ]
    },
    {
     "name": "stdout",
     "output_type": "stream",
     "text": [
      "153 ; it is not a prime number.\n"
     ]
    }
   ],
   "source": [
    "number = int(input(\"enter your number\"))\n",
    "liste = []\n",
    "for i in range(2, number):\n",
    "         a = (number % i) \n",
    "         liste.append(a)\n",
    "if 0 in liste:\n",
    "    print(number, \";\", \"it is not a prime number.\")\n",
    "else:\n",
    "    print(number, \";\", \"it is a prime number.\")\n"
   ]
  },
  {
   "cell_type": "code",
   "execution_count": 2,
   "metadata": {},
   "outputs": [
    {
     "name": "stdin",
     "output_type": "stream",
     "text": [
      "enter your number 103\n"
     ]
    },
    {
     "name": "stdout",
     "output_type": "stream",
     "text": [
      "This is a prime number: True\n"
     ]
    }
   ],
   "source": [
    "number = int(input(\"enter your number\"))\n",
    "print(\n",
    "    \"This is a prime number:\",\n",
    "    len([number for x in range(2, number) if number % x == 0]) == 0\n",
    ")"
   ]
  },
  {
   "cell_type": "markdown",
   "metadata": {},
   "source": [
    "### mehmetfatihdata"
   ]
  }
 ],
 "metadata": {
  "kernelspec": {
   "display_name": "Python 3",
   "language": "python",
   "name": "python3"
  },
  "language_info": {
   "codemirror_mode": {
    "name": "ipython",
    "version": 3
   },
   "file_extension": ".py",
   "mimetype": "text/x-python",
   "name": "python",
   "nbconvert_exporter": "python",
   "pygments_lexer": "ipython3",
   "version": "3.7.4"
  }
 },
 "nbformat": 4,
 "nbformat_minor": 4
}
