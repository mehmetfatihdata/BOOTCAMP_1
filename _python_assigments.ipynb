{
 "cells": [
  {
   "cell_type": "markdown",
   "metadata": {},
   "source": [
    "# Assignment-008/6 (Prime Numbers)"
   ]
  },
  {
   "cell_type": "code",
   "execution_count": 1,
   "metadata": {},
   "outputs": [
    {
     "name": "stdin",
     "output_type": "stream",
     "text": [
      "please enter your prime number limit 100\n"
     ]
    },
    {
     "name": "stdout",
     "output_type": "stream",
     "text": [
      "[2, 3, 5, 7, 11, 13, 17, 19, 23, 29, 31, 37, 41, 43, 47, 53, 59, 61, 67, 71, 73, 79, 83, 89, 97]\n"
     ]
    }
   ],
   "source": [
    "n = int(input('please enter your prime number limit'))\n",
    "prime_number = []\n",
    "\n",
    "for i  in range(2, n):\n",
    "    a = []\n",
    "    for j in range (2, i):\n",
    "        a.append(i % j)\n",
    "    if all(a) == True:\n",
    "        prime_number.append(i)\n",
    "print(prime_number)\n"
   ]
  },
  {
   "cell_type": "markdown",
   "metadata": {},
   "source": [
    "# Assignment-008/5 (Fibonacci Numbers)"
   ]
  },
  {
   "cell_type": "code",
   "execution_count": 2,
   "metadata": {},
   "outputs": [
    {
     "name": "stdout",
     "output_type": "stream",
     "text": [
      "[1, 1, 2, 3, 5, 8, 13, 21, 34, 55]\n"
     ]
    }
   ],
   "source": [
    "fibonacci = [1]\n",
    "j = 1\n",
    "\n",
    "while fibonacci[-1] < 55:\n",
    "    if len(fibonacci) < 2:\n",
    "        fibonacci.append(1)\n",
    "    else:\n",
    "        fibonacci.append(fibonacci[-2] + fibonacci[-1])\n",
    "print(fibonacci)\n"
   ]
  },
  {
   "cell_type": "code",
   "execution_count": 3,
   "metadata": {},
   "outputs": [
    {
     "name": "stdout",
     "output_type": "stream",
     "text": [
      "[1, 1, 2, 3, 5, 8, 13, 21, 34, 55]\n"
     ]
    }
   ],
   "source": [
    "start = 1\n",
    "fibonacci = [start]\n",
    "\n",
    "while fibonacci[-1] < 55:\n",
    "    fibonacci.append(sum(fibonacci[-2:]))\n",
    "print(fibonacci)\n"
   ]
  },
  {
   "cell_type": "markdown",
   "metadata": {},
   "source": [
    "## Assignment-008/4 (Is it a Prime Number?)"
   ]
  },
  {
   "cell_type": "code",
   "execution_count": 4,
   "metadata": {},
   "outputs": [
    {
     "name": "stdin",
     "output_type": "stream",
     "text": [
      "enter your number 73\n"
     ]
    },
    {
     "name": "stdout",
     "output_type": "stream",
     "text": [
      "73 ; it is a prime number.\n"
     ]
    }
   ],
   "source": [
    "number = int(input(\"enter your number\"))\n",
    "liste = []\n",
    "for i in range(2, number):\n",
    "         a = (number % i) \n",
    "         liste.append(a)\n",
    "if 0 in liste or (number == 0) or (number ==1):\n",
    "    print(number, \";\", \"it is not a prime number.\")\n",
    "else:\n",
    "    print(number, \";\", \"it is a prime number.\")\n"
   ]
  },
  {
   "cell_type": "code",
   "execution_count": 5,
   "metadata": {},
   "outputs": [
    {
     "name": "stdin",
     "output_type": "stream",
     "text": [
      "enter your number 73\n"
     ]
    },
    {
     "name": "stdout",
     "output_type": "stream",
     "text": [
      "This is a prime number: True\n"
     ]
    }
   ],
   "source": [
    "number = int(input(\"enter your number\"))\n",
    "print(\n",
    "    \"This is a prime number:\",\n",
    "    len([number for x in range(2, number) if number % x == 0]) == 0\n",
    ")\n"
   ]
  },
  {
   "cell_type": "markdown",
   "metadata": {},
   "source": [
    "## Assignment-008/3 (Is it an Armstrong Number?)"
   ]
  },
  {
   "cell_type": "code",
   "execution_count": 6,
   "metadata": {},
   "outputs": [
    {
     "name": "stdin",
     "output_type": "stream",
     "text": [
      "enter your number 407\n"
     ]
    },
    {
     "name": "stdout",
     "output_type": "stream",
     "text": [
      "407 :it's a armstrong number\n"
     ]
    }
   ],
   "source": [
    "while True:\n",
    "    number = input(\"enter your number\")\n",
    "    if not number.isdigit():\n",
    "        print(\" It is an invalid entry. Don't use non-numeric or float values!\")\n",
    "    else:\n",
    "        suma = 0\n",
    "        for i in number:\n",
    "            suma += int(i) ** len(number)\n",
    "        if suma == int(number):\n",
    "            print(number, \":it's a armstrong number\")\n",
    "        else:\n",
    "            print(number, \":it's not a armstrong number\")\n",
    "        break"
   ]
  },
  {
   "cell_type": "code",
   "execution_count": 7,
   "metadata": {},
   "outputs": [
    {
     "name": "stdin",
     "output_type": "stream",
     "text": [
      "enter your number 407\n"
     ]
    },
    {
     "name": "stdout",
     "output_type": "stream",
     "text": [
      "407 is a armstrong number: True\n"
     ]
    }
   ],
   "source": [
    "while True:\n",
    "    number = input(\"enter your number\")\n",
    "    if not number.isdigit():\n",
    "        print(\"It is an invalid entry.\\\n",
    "Don't use non-numeric, float, or negative values!\")\n",
    "    else: \n",
    "        print(number,\n",
    "               \"is a armstrong number:\",\n",
    "              int(number) == sum([int(x) ** len(number) for x in number])\n",
    "             )\n",
    "        break\n"
   ]
  },
  {
   "cell_type": "markdown",
   "metadata": {},
   "source": [
    "### mehmetfatihdata"
   ]
  }
 ],
 "metadata": {
  "kernelspec": {
   "display_name": "Python 3",
   "language": "python",
   "name": "python3"
  },
  "language_info": {
   "codemirror_mode": {
    "name": "ipython",
    "version": 3
   },
   "file_extension": ".py",
   "mimetype": "text/x-python",
   "name": "python",
   "nbconvert_exporter": "python",
   "pygments_lexer": "ipython3",
   "version": "3.7.4"
  }
 },
 "nbformat": 4,
 "nbformat_minor": 4
}
