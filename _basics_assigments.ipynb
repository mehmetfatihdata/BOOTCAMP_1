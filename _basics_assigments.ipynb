{
 "cells": [
  {
   "cell_type": "markdown",
   "metadata": {},
   "source": [
    "# PYTHON ASSİGMENTS"
   ]
  },
  {
   "cell_type": "markdown",
   "metadata": {},
   "source": [
    "If you had deposited a coin on the cryptocurrency exchange that brought 7% fixed profit daily for a week, how much would your $ 1000 reach at the end of the 7th day?"
   ]
  },
  {
   "cell_type": "code",
   "execution_count": null,
   "metadata": {},
   "outputs": [],
   "source": [
    "capital = 1000  # principal amount in dollars\n",
    "inv_period = 7  # investment_period\n",
    "rate = 1.07  # daily fixed profit\n",
    "result = capital * (rate ** inv_period)\n",
    "\n",
    "text = \"\"\"\"An investment of ${} at the beginning of the week will reach \n",
    "$ {:.2f} at the end of the week with a daily rate of {} %.\"\"\"\n",
    "\n",
    "print(text.format(capital, result, rate))\n"
   ]
  },
  {
   "cell_type": "code",
   "execution_count": null,
   "metadata": {},
   "outputs": [],
   "source": [
    "text = \"Python, Python, Python\"\n",
    "\n",
    "print(text, \"\\t\"+text, \"\\t\\t\"+text, sep=\"\\n\")"
   ]
  },
  {
   "cell_type": "markdown",
   "metadata": {},
   "source": [
    "Task-1:\n",
    "\n",
    "Write a short Python program that asks the user to enter Celsius temperature (it can be a decimal number), converts the entered temperature into Fahrenheit degree and prints the result."
   ]
  },
  {
   "cell_type": "markdown",
   "metadata": {},
   "source": [
    "°F = °C × 1.8 + 32"
   ]
  },
  {
   "cell_type": "code",
   "execution_count": null,
   "metadata": {},
   "outputs": [],
   "source": [
    "c_temp = input (\"enter the temperature in celcius:\")\n",
    "f_temp = float(c_temp) * 1.8 + 32 # °F = °C × 1.8 + 32\n",
    "print(\"temperature in fahrenheit:\", f_temp)"
   ]
  },
  {
   "cell_type": "markdown",
   "metadata": {},
   "source": [
    "Task-2:\n",
    "Write a short Python program that asks the user to enter a distance (it can be a decimal number) in kilometers, converts the entered distance into miles and prints the result.\n"
   ]
  },
  {
   "cell_type": "code",
   "execution_count": null,
   "metadata": {},
   "outputs": [],
   "source": [
    "km_distance = input (\"enter the distance in km:\")\n",
    "mile_distance = float(km_distance) * 1.609 # 1 mile  = 1.609 km\n",
    "print(\"distance in mile:\", mile_distance)"
   ]
  },
  {
   "cell_type": "markdown",
   "metadata": {},
   "source": [
    "Task : Estimating the risk of death from coronavirus.\n",
    "\n",
    "Consider the following questions in terms of True/False regarding anyone else.\n",
    "\n",
    "Are you a cigarette addict older than 75 years old? Variable → age\n",
    "\n",
    "Do you have a severe chronic disease? Variable → chronic\n",
    "\n",
    "Is your immune system too weak? Variable → immune\n",
    "\n",
    "Set a logical algorithm using boolean logic operators (and/or) and the given variables in order to give us True (there is a risk of death) or False (there is not a risk of death) as a result."
   ]
  },
  {
   "cell_type": "code",
   "execution_count": 68,
   "metadata": {},
   "outputs": [
    {
     "name": "stdin",
     "output_type": "stream",
     "text": [
      "Are you a cigarette addict older than 75 years old? True\n",
      "Do you have a severe chronic disease? False\n",
      "Is your immune system too weak? False\n"
     ]
    },
    {
     "name": "stdout",
     "output_type": "stream",
     "text": [
      "Covid 19 Death Algorithm Predict: False\n",
      "True\n"
     ]
    }
   ],
   "source": [
    "age = input (\"Are you a cigarette addict older than 75 years old?\") # can be assigned only True/False\n",
    "chronic =  input (\"Do you have a severe chronic disease?\")  # can be assigned only True/False\n",
    "immune =  input (\"Is your immune system too weak?\") # can be assigned only True/False\n",
    "age = age == 'True'\n",
    "chronic = chronic == 'True'\n",
    "immune = immune == 'True'\n",
    "risk = immune and (age or chronic)  # (True or False)\n",
    "print (\"Covid 19 Death Algorithm Predict:\", risk)\n"
   ]
  },
  {
   "cell_type": "code",
   "execution_count": 77,
   "metadata": {},
   "outputs": [
    {
     "name": "stdout",
     "output_type": "stream",
     "text": [
      "I am 40 years old. \n",
      "\tI have two children. \n",
      "\t\tData Science is my IT domain.\n"
     ]
    }
   ],
   "source": [
    "escapes = \"\\n\\t\", \"\\n\\t\\t\"\n",
    "\n",
    "sentence = \"I am 40 years old. {}I have two children. {}Data Science is my IT domain.\".format(\"\\n\\t\", \"\\n\\t\\t\")\n",
    "\n",
    "print(sentence)\n"
   ]
  },
  {
   "cell_type": "code",
   "execution_count": 18,
   "metadata": {},
   "outputs": [
    {
     "name": "stdin",
     "output_type": "stream",
     "text": [
      "enter year 2500\n"
     ]
    },
    {
     "name": "stdout",
     "output_type": "stream",
     "text": [
      "this is a lep year: False\n"
     ]
    }
   ],
   "source": [
    "year = input (\"enter year\")\n",
    "leap_year = (int(year) % 400 == 0) and (int(year) % 100 == 0) and (int(year) % 4 == 0)\n",
    "print (\"this is a leap year:\", leap_year)\n"
   ]
  }
 ],
 "metadata": {
  "kernelspec": {
   "display_name": "Python 3",
   "language": "python",
   "name": "python3"
  },
  "language_info": {
   "codemirror_mode": {
    "name": "ipython",
    "version": 3
   },
   "file_extension": ".py",
   "mimetype": "text/x-python",
   "name": "python",
   "nbconvert_exporter": "python",
   "pygments_lexer": "ipython3",
   "version": "3.7.4"
  }
 },
 "nbformat": 4,
 "nbformat_minor": 4
}
